{
 "cells": [
  {
   "cell_type": "code",
   "execution_count": 31,
   "id": "8991303e",
   "metadata": {},
   "outputs": [
    {
     "name": "stdout",
     "output_type": "stream",
     "text": [
      "Python 3.9.10\n"
     ]
    }
   ],
   "source": [
    "!python3 --version"
   ]
  },
  {
   "cell_type": "markdown",
   "id": "4c73d01f-e084-41bb-8a73-5512c916d255",
   "metadata": {},
   "source": [
    "# SDV\n",
    "\n",
    "- create synthetic data that with the same format and mathematical properties as the original"
   ]
  },
  {
   "cell_type": "markdown",
   "id": "41fa678f-0205-4149-a683-90e23f611eac",
   "metadata": {},
   "source": [
    "# Todos\n",
    "\n",
    "- [ ] check customized distributions\n",
    "- KS complement - for numerical and datetime\n",
    "- TV complement - for categorical and boolean\n",
    "- [ ] what is Gaussian Copula\n",
    "- [ ] perform simple ML prediction to see if the results deviate much\n",
    "- [ ] RDT documentation for transformers"
   ]
  },
  {
   "cell_type": "markdown",
   "id": "b9c676ab-6482-46f0-a497-40e4e0953a94",
   "metadata": {},
   "source": [
    "# Load Dependencies"
   ]
  },
  {
   "cell_type": "code",
   "execution_count": 32,
   "id": "ca753d20",
   "metadata": {},
   "outputs": [
    {
     "name": "stdout",
     "output_type": "stream",
     "text": [
      "pandas version: 2.0.3\n",
      "numpy version: 1.22.4\n",
      "sdv version: 1.2.1\n"
     ]
    }
   ],
   "source": [
    "import pandas as pd\n",
    "import numpy as np\n",
    "import sdv \n",
    "\n",
    "print(f\"pandas version: {pd.__version__}\")\n",
    "print(f\"numpy version: {np.__version__}\")\n",
    "print(f\"sdv version: {sdv.__version__}\")"
   ]
  },
  {
   "cell_type": "markdown",
   "id": "5d268f2e-6120-4734-b8c8-e66d45b7279c",
   "metadata": {},
   "source": [
    "# SDV Synthesizers\n",
    "\n",
    "- Gaussian Copula Synthesizer\n",
    "    - distributions: one of 'norm' 'beta', 'truncnorm', 'uniform', 'gamma' or 'gaussian_kde'\n",
    "    - in case of non numerical data: the synthesizer converts other data types using Reversible Data Transforms (RDTs)\n",
    "- CTGAN Synthesizer\n",
    "- Day Z Synthesizer\n",
    "- TVAE Synthesizer\n",
    "- Copula GAN Synthesizer (experimental)"
   ]
  },
  {
   "cell_type": "markdown",
   "id": "6cf8813a-094c-4697-887b-280fcebc71c3",
   "metadata": {},
   "source": [
    "# Demo: Synthesize a Table (Gaussian Copula)"
   ]
  },
  {
   "cell_type": "code",
   "execution_count": 212,
   "id": "6f2d8a4a",
   "metadata": {},
   "outputs": [
    {
     "name": "stdout",
     "output_type": "stream",
     "text": [
      "real_data type: <class 'pandas.core.frame.DataFrame'>, metadata type: <class 'sdv.metadata.single_table.SingleTableMetadata'>\n"
     ]
    }
   ],
   "source": [
    "# loading demo data \n",
    "from sdv.datasets.demo import download_demo\n",
    "\n",
    "real_data, metadata = download_demo(\n",
    "    modality=\"single_table\",\n",
    "    dataset_name=\"fake_hotel_guests\"\n",
    ")\n",
    "\n",
    "print(f\"real_data type: {type(real_data)}, metadata type: {type(metadata)}\")"
   ]
  },
  {
   "cell_type": "code",
   "execution_count": 213,
   "id": "60a8b9db-7aa0-4cc2-8169-e724a2833701",
   "metadata": {},
   "outputs": [
    {
     "name": "stdout",
     "output_type": "stream",
     "text": [
      "real_data shape is (500, 9)\n"
     ]
    },
    {
     "data": {
      "text/html": [
       "<div>\n",
       "<style scoped>\n",
       "    .dataframe tbody tr th:only-of-type {\n",
       "        vertical-align: middle;\n",
       "    }\n",
       "\n",
       "    .dataframe tbody tr th {\n",
       "        vertical-align: top;\n",
       "    }\n",
       "\n",
       "    .dataframe thead th {\n",
       "        text-align: right;\n",
       "    }\n",
       "</style>\n",
       "<table border=\"1\" class=\"dataframe\">\n",
       "  <thead>\n",
       "    <tr style=\"text-align: right;\">\n",
       "      <th></th>\n",
       "      <th>guest_email</th>\n",
       "      <th>has_rewards</th>\n",
       "      <th>room_type</th>\n",
       "      <th>amenities_fee</th>\n",
       "      <th>checkin_date</th>\n",
       "      <th>checkout_date</th>\n",
       "      <th>room_rate</th>\n",
       "      <th>billing_address</th>\n",
       "      <th>credit_card_number</th>\n",
       "    </tr>\n",
       "  </thead>\n",
       "  <tbody>\n",
       "    <tr>\n",
       "      <th>0</th>\n",
       "      <td>michaelsanders@shaw.net</td>\n",
       "      <td>False</td>\n",
       "      <td>BASIC</td>\n",
       "      <td>37.89</td>\n",
       "      <td>27 Dec 2020</td>\n",
       "      <td>29 Dec 2020</td>\n",
       "      <td>131.23</td>\n",
       "      <td>49380 Rivers Street\\nSpencerville, AK 68265</td>\n",
       "      <td>4075084747483975747</td>\n",
       "    </tr>\n",
       "    <tr>\n",
       "      <th>1</th>\n",
       "      <td>randy49@brown.biz</td>\n",
       "      <td>False</td>\n",
       "      <td>BASIC</td>\n",
       "      <td>24.37</td>\n",
       "      <td>30 Dec 2020</td>\n",
       "      <td>02 Jan 2021</td>\n",
       "      <td>114.43</td>\n",
       "      <td>88394 Boyle Meadows\\nConleyberg, TN 22063</td>\n",
       "      <td>180072822063468</td>\n",
       "    </tr>\n",
       "    <tr>\n",
       "      <th>2</th>\n",
       "      <td>webermelissa@neal.com</td>\n",
       "      <td>True</td>\n",
       "      <td>DELUXE</td>\n",
       "      <td>0.00</td>\n",
       "      <td>17 Sep 2020</td>\n",
       "      <td>18 Sep 2020</td>\n",
       "      <td>368.33</td>\n",
       "      <td>0323 Lisa Station Apt. 208\\nPort Thomas, LA 82585</td>\n",
       "      <td>38983476971380</td>\n",
       "    </tr>\n",
       "    <tr>\n",
       "      <th>3</th>\n",
       "      <td>gsims@terry.com</td>\n",
       "      <td>False</td>\n",
       "      <td>BASIC</td>\n",
       "      <td>NaN</td>\n",
       "      <td>28 Dec 2020</td>\n",
       "      <td>31 Dec 2020</td>\n",
       "      <td>115.61</td>\n",
       "      <td>77 Massachusetts Ave\\nCambridge, MA 02139</td>\n",
       "      <td>4969551998845740</td>\n",
       "    </tr>\n",
       "    <tr>\n",
       "      <th>4</th>\n",
       "      <td>misty33@smith.biz</td>\n",
       "      <td>False</td>\n",
       "      <td>BASIC</td>\n",
       "      <td>16.45</td>\n",
       "      <td>05 Apr 2020</td>\n",
       "      <td>NaN</td>\n",
       "      <td>122.41</td>\n",
       "      <td>1234 Corporate Drive\\nBoston, MA 02116</td>\n",
       "      <td>3558512986488983</td>\n",
       "    </tr>\n",
       "  </tbody>\n",
       "</table>\n",
       "</div>"
      ],
      "text/plain": [
       "               guest_email  has_rewards room_type  amenities_fee checkin_date  \\\n",
       "0  michaelsanders@shaw.net        False     BASIC          37.89  27 Dec 2020   \n",
       "1        randy49@brown.biz        False     BASIC          24.37  30 Dec 2020   \n",
       "2    webermelissa@neal.com         True    DELUXE           0.00  17 Sep 2020   \n",
       "3          gsims@terry.com        False     BASIC            NaN  28 Dec 2020   \n",
       "4        misty33@smith.biz        False     BASIC          16.45  05 Apr 2020   \n",
       "\n",
       "  checkout_date  room_rate                                    billing_address  \\\n",
       "0   29 Dec 2020     131.23        49380 Rivers Street\\nSpencerville, AK 68265   \n",
       "1   02 Jan 2021     114.43          88394 Boyle Meadows\\nConleyberg, TN 22063   \n",
       "2   18 Sep 2020     368.33  0323 Lisa Station Apt. 208\\nPort Thomas, LA 82585   \n",
       "3   31 Dec 2020     115.61          77 Massachusetts Ave\\nCambridge, MA 02139   \n",
       "4           NaN     122.41             1234 Corporate Drive\\nBoston, MA 02116   \n",
       "\n",
       "    credit_card_number  \n",
       "0  4075084747483975747  \n",
       "1      180072822063468  \n",
       "2       38983476971380  \n",
       "3     4969551998845740  \n",
       "4     3558512986488983  "
      ]
     },
     "execution_count": 213,
     "metadata": {},
     "output_type": "execute_result"
    }
   ],
   "source": [
    "print(f\"real_data shape is {real_data.shape}\")\n",
    "real_data.head()"
   ]
  },
  {
   "cell_type": "code",
   "execution_count": 214,
   "id": "9fd3ef30-553b-4e49-8f72-f250c50361b2",
   "metadata": {},
   "outputs": [
    {
     "data": {
      "text/plain": [
       "{\n",
       "    \"primary_key\": \"guest_email\",\n",
       "    \"columns\": {\n",
       "        \"guest_email\": {\n",
       "            \"sdtype\": \"email\",\n",
       "            \"pii\": true\n",
       "        },\n",
       "        \"has_rewards\": {\n",
       "            \"sdtype\": \"boolean\"\n",
       "        },\n",
       "        \"room_type\": {\n",
       "            \"sdtype\": \"categorical\"\n",
       "        },\n",
       "        \"amenities_fee\": {\n",
       "            \"sdtype\": \"numerical\",\n",
       "            \"computer_representation\": \"Float\"\n",
       "        },\n",
       "        \"checkin_date\": {\n",
       "            \"sdtype\": \"datetime\",\n",
       "            \"datetime_format\": \"%d %b %Y\"\n",
       "        },\n",
       "        \"checkout_date\": {\n",
       "            \"sdtype\": \"datetime\",\n",
       "            \"datetime_format\": \"%d %b %Y\"\n",
       "        },\n",
       "        \"room_rate\": {\n",
       "            \"sdtype\": \"numerical\",\n",
       "            \"computer_representation\": \"Float\"\n",
       "        },\n",
       "        \"billing_address\": {\n",
       "            \"sdtype\": \"address\",\n",
       "            \"pii\": true\n",
       "        },\n",
       "        \"credit_card_number\": {\n",
       "            \"sdtype\": \"credit_card_number\",\n",
       "            \"pii\": true\n",
       "        }\n",
       "    },\n",
       "    \"METADATA_SPEC_VERSION\": \"SINGLE_TABLE_V1\"\n",
       "}"
      ]
     },
     "execution_count": 214,
     "metadata": {},
     "output_type": "execute_result"
    }
   ],
   "source": [
    "metadata"
   ]
  },
  {
   "cell_type": "code",
   "execution_count": 215,
   "id": "237c0551-0dcf-41ad-b6a0-a6765634a347",
   "metadata": {},
   "outputs": [],
   "source": [
    "# creating a synthesizer\n",
    "\n",
    "from sdv.single_table import GaussianCopulaSynthesizer\n",
    "\n",
    "synthesizer = GaussianCopulaSynthesizer(metadata)"
   ]
  },
  {
   "cell_type": "code",
   "execution_count": 216,
   "id": "402cbf4f-80a1-4e2f-8731-05d308d2f3f5",
   "metadata": {},
   "outputs": [
    {
     "data": {
      "text/plain": [
       "<sdv.single_table.copulas.GaussianCopulaSynthesizer at 0x15190d910>"
      ]
     },
     "execution_count": 216,
     "metadata": {},
     "output_type": "execute_result"
    }
   ],
   "source": [
    "# a synthesizer object learns the patterns from the real data and replciates them\n",
    "# to generate synthetic data\n",
    "\n",
    "synthesizer"
   ]
  },
  {
   "cell_type": "code",
   "execution_count": 217,
   "id": "c6fe1c1d-0103-4e07-a13a-89361aea65fe",
   "metadata": {},
   "outputs": [],
   "source": [
    "synthesizer.fit(real_data)"
   ]
  },
  {
   "cell_type": "code",
   "execution_count": 218,
   "id": "4ce9a498-4171-4966-bda0-b197c2877440",
   "metadata": {},
   "outputs": [
    {
     "data": {
      "text/html": [
       "<div>\n",
       "<style scoped>\n",
       "    .dataframe tbody tr th:only-of-type {\n",
       "        vertical-align: middle;\n",
       "    }\n",
       "\n",
       "    .dataframe tbody tr th {\n",
       "        vertical-align: top;\n",
       "    }\n",
       "\n",
       "    .dataframe thead th {\n",
       "        text-align: right;\n",
       "    }\n",
       "</style>\n",
       "<table border=\"1\" class=\"dataframe\">\n",
       "  <thead>\n",
       "    <tr style=\"text-align: right;\">\n",
       "      <th></th>\n",
       "      <th>guest_email</th>\n",
       "      <th>has_rewards</th>\n",
       "      <th>room_type</th>\n",
       "      <th>amenities_fee</th>\n",
       "      <th>checkin_date</th>\n",
       "      <th>checkout_date</th>\n",
       "      <th>room_rate</th>\n",
       "      <th>billing_address</th>\n",
       "      <th>credit_card_number</th>\n",
       "    </tr>\n",
       "  </thead>\n",
       "  <tbody>\n",
       "    <tr>\n",
       "      <th>0</th>\n",
       "      <td>dsullivan@example.net</td>\n",
       "      <td>True</td>\n",
       "      <td>BASIC</td>\n",
       "      <td>2.10</td>\n",
       "      <td>26 Mar 2020</td>\n",
       "      <td>12 Apr 2020</td>\n",
       "      <td>122.83</td>\n",
       "      <td>90469 Karla Knolls Apt. 781\\nSusanberg, NC 28401</td>\n",
       "      <td>5161033759518983</td>\n",
       "    </tr>\n",
       "    <tr>\n",
       "      <th>1</th>\n",
       "      <td>steven59@example.org</td>\n",
       "      <td>False</td>\n",
       "      <td>DELUXE</td>\n",
       "      <td>NaN</td>\n",
       "      <td>03 Jul 2020</td>\n",
       "      <td>15 Sep 2020</td>\n",
       "      <td>175.30</td>\n",
       "      <td>1080 Ashley Creek Apt. 622\\nWest Amy, NM 25058</td>\n",
       "      <td>4133047413145475690</td>\n",
       "    </tr>\n",
       "    <tr>\n",
       "      <th>2</th>\n",
       "      <td>brandon15@example.net</td>\n",
       "      <td>False</td>\n",
       "      <td>DELUXE</td>\n",
       "      <td>22.38</td>\n",
       "      <td>30 Mar 2020</td>\n",
       "      <td>17 Mar 2020</td>\n",
       "      <td>151.45</td>\n",
       "      <td>99923 Anderson Trace Suite 861\\nNorth Haley, T...</td>\n",
       "      <td>4977328103788</td>\n",
       "    </tr>\n",
       "    <tr>\n",
       "      <th>3</th>\n",
       "      <td>humphreyjennifer@example.net</td>\n",
       "      <td>False</td>\n",
       "      <td>BASIC</td>\n",
       "      <td>8.44</td>\n",
       "      <td>05 May 2020</td>\n",
       "      <td>22 May 2020</td>\n",
       "      <td>169.82</td>\n",
       "      <td>9301 John Parkways\\nThomasland, OH 61350</td>\n",
       "      <td>3524946844839485</td>\n",
       "    </tr>\n",
       "    <tr>\n",
       "      <th>4</th>\n",
       "      <td>joshuabrown@example.net</td>\n",
       "      <td>False</td>\n",
       "      <td>SUITE</td>\n",
       "      <td>8.21</td>\n",
       "      <td>13 Jan 2020</td>\n",
       "      <td>10 Jan 2020</td>\n",
       "      <td>189.85</td>\n",
       "      <td>126 George Tunnel\\nDuranstad, MS 95176</td>\n",
       "      <td>4446905799576890978</td>\n",
       "    </tr>\n",
       "  </tbody>\n",
       "</table>\n",
       "</div>"
      ],
      "text/plain": [
       "                    guest_email  has_rewards room_type  amenities_fee  \\\n",
       "0         dsullivan@example.net         True     BASIC           2.10   \n",
       "1          steven59@example.org        False    DELUXE            NaN   \n",
       "2         brandon15@example.net        False    DELUXE          22.38   \n",
       "3  humphreyjennifer@example.net        False     BASIC           8.44   \n",
       "4       joshuabrown@example.net        False     SUITE           8.21   \n",
       "\n",
       "  checkin_date checkout_date  room_rate  \\\n",
       "0  26 Mar 2020   12 Apr 2020     122.83   \n",
       "1  03 Jul 2020   15 Sep 2020     175.30   \n",
       "2  30 Mar 2020   17 Mar 2020     151.45   \n",
       "3  05 May 2020   22 May 2020     169.82   \n",
       "4  13 Jan 2020   10 Jan 2020     189.85   \n",
       "\n",
       "                                     billing_address   credit_card_number  \n",
       "0   90469 Karla Knolls Apt. 781\\nSusanberg, NC 28401     5161033759518983  \n",
       "1     1080 Ashley Creek Apt. 622\\nWest Amy, NM 25058  4133047413145475690  \n",
       "2  99923 Anderson Trace Suite 861\\nNorth Haley, T...        4977328103788  \n",
       "3           9301 John Parkways\\nThomasland, OH 61350     3524946844839485  \n",
       "4             126 George Tunnel\\nDuranstad, MS 95176  4446905799576890978  "
      ]
     },
     "execution_count": 218,
     "metadata": {},
     "output_type": "execute_result"
    }
   ],
   "source": [
    "# generating synthetic data\n",
    "\n",
    "synthetic_data = synthesizer.sample(num_rows=500)\n",
    "synthetic_data.head()"
   ]
  },
  {
   "cell_type": "code",
   "execution_count": 219,
   "id": "91cfa036-78fa-4baf-90ee-d4dfb096d179",
   "metadata": {},
   "outputs": [
    {
     "data": {
      "text/html": [
       "<div>\n",
       "<style scoped>\n",
       "    .dataframe tbody tr th:only-of-type {\n",
       "        vertical-align: middle;\n",
       "    }\n",
       "\n",
       "    .dataframe tbody tr th {\n",
       "        vertical-align: top;\n",
       "    }\n",
       "\n",
       "    .dataframe thead th {\n",
       "        text-align: right;\n",
       "    }\n",
       "</style>\n",
       "<table border=\"1\" class=\"dataframe\">\n",
       "  <thead>\n",
       "    <tr style=\"text-align: right;\">\n",
       "      <th></th>\n",
       "      <th>guest_email</th>\n",
       "      <th>has_rewards</th>\n",
       "      <th>room_type</th>\n",
       "      <th>amenities_fee</th>\n",
       "      <th>checkin_date</th>\n",
       "      <th>checkout_date</th>\n",
       "      <th>room_rate</th>\n",
       "      <th>billing_address</th>\n",
       "      <th>credit_card_number</th>\n",
       "    </tr>\n",
       "  </thead>\n",
       "  <tbody>\n",
       "    <tr>\n",
       "      <th>0</th>\n",
       "      <td>michaelsanders@shaw.net</td>\n",
       "      <td>False</td>\n",
       "      <td>BASIC</td>\n",
       "      <td>37.89</td>\n",
       "      <td>27 Dec 2020</td>\n",
       "      <td>29 Dec 2020</td>\n",
       "      <td>131.23</td>\n",
       "      <td>49380 Rivers Street\\nSpencerville, AK 68265</td>\n",
       "      <td>4075084747483975747</td>\n",
       "    </tr>\n",
       "    <tr>\n",
       "      <th>1</th>\n",
       "      <td>randy49@brown.biz</td>\n",
       "      <td>False</td>\n",
       "      <td>BASIC</td>\n",
       "      <td>24.37</td>\n",
       "      <td>30 Dec 2020</td>\n",
       "      <td>02 Jan 2021</td>\n",
       "      <td>114.43</td>\n",
       "      <td>88394 Boyle Meadows\\nConleyberg, TN 22063</td>\n",
       "      <td>180072822063468</td>\n",
       "    </tr>\n",
       "    <tr>\n",
       "      <th>2</th>\n",
       "      <td>webermelissa@neal.com</td>\n",
       "      <td>True</td>\n",
       "      <td>DELUXE</td>\n",
       "      <td>0.00</td>\n",
       "      <td>17 Sep 2020</td>\n",
       "      <td>18 Sep 2020</td>\n",
       "      <td>368.33</td>\n",
       "      <td>0323 Lisa Station Apt. 208\\nPort Thomas, LA 82585</td>\n",
       "      <td>38983476971380</td>\n",
       "    </tr>\n",
       "    <tr>\n",
       "      <th>3</th>\n",
       "      <td>gsims@terry.com</td>\n",
       "      <td>False</td>\n",
       "      <td>BASIC</td>\n",
       "      <td>NaN</td>\n",
       "      <td>28 Dec 2020</td>\n",
       "      <td>31 Dec 2020</td>\n",
       "      <td>115.61</td>\n",
       "      <td>77 Massachusetts Ave\\nCambridge, MA 02139</td>\n",
       "      <td>4969551998845740</td>\n",
       "    </tr>\n",
       "    <tr>\n",
       "      <th>4</th>\n",
       "      <td>misty33@smith.biz</td>\n",
       "      <td>False</td>\n",
       "      <td>BASIC</td>\n",
       "      <td>16.45</td>\n",
       "      <td>05 Apr 2020</td>\n",
       "      <td>NaN</td>\n",
       "      <td>122.41</td>\n",
       "      <td>1234 Corporate Drive\\nBoston, MA 02116</td>\n",
       "      <td>3558512986488983</td>\n",
       "    </tr>\n",
       "  </tbody>\n",
       "</table>\n",
       "</div>"
      ],
      "text/plain": [
       "               guest_email  has_rewards room_type  amenities_fee checkin_date  \\\n",
       "0  michaelsanders@shaw.net        False     BASIC          37.89  27 Dec 2020   \n",
       "1        randy49@brown.biz        False     BASIC          24.37  30 Dec 2020   \n",
       "2    webermelissa@neal.com         True    DELUXE           0.00  17 Sep 2020   \n",
       "3          gsims@terry.com        False     BASIC            NaN  28 Dec 2020   \n",
       "4        misty33@smith.biz        False     BASIC          16.45  05 Apr 2020   \n",
       "\n",
       "  checkout_date  room_rate                                    billing_address  \\\n",
       "0   29 Dec 2020     131.23        49380 Rivers Street\\nSpencerville, AK 68265   \n",
       "1   02 Jan 2021     114.43          88394 Boyle Meadows\\nConleyberg, TN 22063   \n",
       "2   18 Sep 2020     368.33  0323 Lisa Station Apt. 208\\nPort Thomas, LA 82585   \n",
       "3   31 Dec 2020     115.61          77 Massachusetts Ave\\nCambridge, MA 02139   \n",
       "4           NaN     122.41             1234 Corporate Drive\\nBoston, MA 02116   \n",
       "\n",
       "    credit_card_number  \n",
       "0  4075084747483975747  \n",
       "1      180072822063468  \n",
       "2       38983476971380  \n",
       "3     4969551998845740  \n",
       "4     3558512986488983  "
      ]
     },
     "execution_count": 219,
     "metadata": {},
     "output_type": "execute_result"
    }
   ],
   "source": [
    "# compare to the real data\n",
    "\n",
    "real_data.head()"
   ]
  },
  {
   "cell_type": "code",
   "execution_count": 220,
   "id": "743847f4-866f-4dbd-bd3a-20b11a23ca9c",
   "metadata": {},
   "outputs": [
    {
     "name": "stderr",
     "output_type": "stream",
     "text": [
      "Creating report: 100%|████████████████████████████| 4/4 [00:00<00:00, 71.06it/s]"
     ]
    },
    {
     "name": "stdout",
     "output_type": "stream",
     "text": [
      "\n",
      "Overall Quality Score: 87.7%\n",
      "\n",
      "Properties:\n",
      "Column Shapes: 87.45%\n",
      "Column Pair Trends: 87.94%\n"
     ]
    },
    {
     "name": "stderr",
     "output_type": "stream",
     "text": [
      "\n"
     ]
    }
   ],
   "source": [
    "# evaluating real vs. synthetic data\n",
    "\n",
    "from sdv.evaluation.single_table import evaluate_quality \n",
    "\n",
    "quality_report = evaluate_quality(\n",
    "    real_data,\n",
    "    synthetic_data,\n",
    "    metadata\n",
    ")"
   ]
  },
  {
   "cell_type": "code",
   "execution_count": 221,
   "id": "c48ed56e-894c-4bcd-8126-dfa62efcee0c",
   "metadata": {},
   "outputs": [
    {
     "data": {
      "application/vnd.plotly.v1+json": {
       "config": {
        "plotlyServerURL": "https://plot.ly"
       },
       "data": [
        {
         "alignmentgroup": "True",
         "customdata": [
          [
           "KSComplement"
          ],
          [
           "KSComplement"
          ],
          [
           "KSComplement"
          ],
          [
           "KSComplement"
          ]
         ],
         "hovertemplate": "<b>%{hovertext}</b><br><br>Metric=%{customdata[0]}<br>Quality Score=%{y}<extra></extra>",
         "hovertext": [
          "amenities_fee",
          "checkin_date",
          "checkout_date",
          "room_rate"
         ],
         "legendgroup": "KSComplement",
         "marker": {
          "color": "#000036",
          "pattern": {
           "shape": ""
          }
         },
         "name": "KSComplement",
         "offsetgroup": "KSComplement",
         "orientation": "v",
         "showlegend": true,
         "textposition": "auto",
         "type": "bar",
         "x": [
          "amenities_fee",
          "checkin_date",
          "checkout_date",
          "room_rate"
         ],
         "xaxis": "x",
         "y": [
          0.7041625041625041,
          0.968,
          0.9770833333333333,
          0.732
         ],
         "yaxis": "y"
        },
        {
         "alignmentgroup": "True",
         "customdata": [
          [
           "TVComplement"
          ],
          [
           "TVComplement"
          ]
         ],
         "hovertemplate": "<b>%{hovertext}</b><br><br>Metric=%{customdata[0]}<br>Quality Score=%{y}<extra></extra>",
         "hovertext": [
          "has_rewards",
          "room_type"
         ],
         "legendgroup": "TVComplement",
         "marker": {
          "color": "#03AFF1",
          "pattern": {
           "shape": "/"
          }
         },
         "name": "TVComplement",
         "offsetgroup": "TVComplement",
         "orientation": "v",
         "showlegend": true,
         "textposition": "auto",
         "type": "bar",
         "x": [
          "has_rewards",
          "room_type"
         ],
         "xaxis": "x",
         "y": [
          0.952,
          0.9139999999999999
         ],
         "yaxis": "y"
        }
       ],
       "layout": {
        "autosize": true,
        "barmode": "relative",
        "legend": {
         "title": {
          "text": "Metric"
         },
         "tracegroupgap": 0
        },
        "margin": {
         "t": 150
        },
        "plot_bgcolor": "#F5F5F8",
        "template": {
         "data": {
          "bar": [
           {
            "error_x": {
             "color": "#2a3f5f"
            },
            "error_y": {
             "color": "#2a3f5f"
            },
            "marker": {
             "line": {
              "color": "#E5ECF6",
              "width": 0.5
             },
             "pattern": {
              "fillmode": "overlay",
              "size": 10,
              "solidity": 0.2
             }
            },
            "type": "bar"
           }
          ],
          "barpolar": [
           {
            "marker": {
             "line": {
              "color": "#E5ECF6",
              "width": 0.5
             },
             "pattern": {
              "fillmode": "overlay",
              "size": 10,
              "solidity": 0.2
             }
            },
            "type": "barpolar"
           }
          ],
          "carpet": [
           {
            "aaxis": {
             "endlinecolor": "#2a3f5f",
             "gridcolor": "white",
             "linecolor": "white",
             "minorgridcolor": "white",
             "startlinecolor": "#2a3f5f"
            },
            "baxis": {
             "endlinecolor": "#2a3f5f",
             "gridcolor": "white",
             "linecolor": "white",
             "minorgridcolor": "white",
             "startlinecolor": "#2a3f5f"
            },
            "type": "carpet"
           }
          ],
          "choropleth": [
           {
            "colorbar": {
             "outlinewidth": 0,
             "ticks": ""
            },
            "type": "choropleth"
           }
          ],
          "contour": [
           {
            "colorbar": {
             "outlinewidth": 0,
             "ticks": ""
            },
            "colorscale": [
             [
              0,
              "#0d0887"
             ],
             [
              0.1111111111111111,
              "#46039f"
             ],
             [
              0.2222222222222222,
              "#7201a8"
             ],
             [
              0.3333333333333333,
              "#9c179e"
             ],
             [
              0.4444444444444444,
              "#bd3786"
             ],
             [
              0.5555555555555556,
              "#d8576b"
             ],
             [
              0.6666666666666666,
              "#ed7953"
             ],
             [
              0.7777777777777778,
              "#fb9f3a"
             ],
             [
              0.8888888888888888,
              "#fdca26"
             ],
             [
              1,
              "#f0f921"
             ]
            ],
            "type": "contour"
           }
          ],
          "contourcarpet": [
           {
            "colorbar": {
             "outlinewidth": 0,
             "ticks": ""
            },
            "type": "contourcarpet"
           }
          ],
          "heatmap": [
           {
            "colorbar": {
             "outlinewidth": 0,
             "ticks": ""
            },
            "colorscale": [
             [
              0,
              "#0d0887"
             ],
             [
              0.1111111111111111,
              "#46039f"
             ],
             [
              0.2222222222222222,
              "#7201a8"
             ],
             [
              0.3333333333333333,
              "#9c179e"
             ],
             [
              0.4444444444444444,
              "#bd3786"
             ],
             [
              0.5555555555555556,
              "#d8576b"
             ],
             [
              0.6666666666666666,
              "#ed7953"
             ],
             [
              0.7777777777777778,
              "#fb9f3a"
             ],
             [
              0.8888888888888888,
              "#fdca26"
             ],
             [
              1,
              "#f0f921"
             ]
            ],
            "type": "heatmap"
           }
          ],
          "heatmapgl": [
           {
            "colorbar": {
             "outlinewidth": 0,
             "ticks": ""
            },
            "colorscale": [
             [
              0,
              "#0d0887"
             ],
             [
              0.1111111111111111,
              "#46039f"
             ],
             [
              0.2222222222222222,
              "#7201a8"
             ],
             [
              0.3333333333333333,
              "#9c179e"
             ],
             [
              0.4444444444444444,
              "#bd3786"
             ],
             [
              0.5555555555555556,
              "#d8576b"
             ],
             [
              0.6666666666666666,
              "#ed7953"
             ],
             [
              0.7777777777777778,
              "#fb9f3a"
             ],
             [
              0.8888888888888888,
              "#fdca26"
             ],
             [
              1,
              "#f0f921"
             ]
            ],
            "type": "heatmapgl"
           }
          ],
          "histogram": [
           {
            "marker": {
             "pattern": {
              "fillmode": "overlay",
              "size": 10,
              "solidity": 0.2
             }
            },
            "type": "histogram"
           }
          ],
          "histogram2d": [
           {
            "colorbar": {
             "outlinewidth": 0,
             "ticks": ""
            },
            "colorscale": [
             [
              0,
              "#0d0887"
             ],
             [
              0.1111111111111111,
              "#46039f"
             ],
             [
              0.2222222222222222,
              "#7201a8"
             ],
             [
              0.3333333333333333,
              "#9c179e"
             ],
             [
              0.4444444444444444,
              "#bd3786"
             ],
             [
              0.5555555555555556,
              "#d8576b"
             ],
             [
              0.6666666666666666,
              "#ed7953"
             ],
             [
              0.7777777777777778,
              "#fb9f3a"
             ],
             [
              0.8888888888888888,
              "#fdca26"
             ],
             [
              1,
              "#f0f921"
             ]
            ],
            "type": "histogram2d"
           }
          ],
          "histogram2dcontour": [
           {
            "colorbar": {
             "outlinewidth": 0,
             "ticks": ""
            },
            "colorscale": [
             [
              0,
              "#0d0887"
             ],
             [
              0.1111111111111111,
              "#46039f"
             ],
             [
              0.2222222222222222,
              "#7201a8"
             ],
             [
              0.3333333333333333,
              "#9c179e"
             ],
             [
              0.4444444444444444,
              "#bd3786"
             ],
             [
              0.5555555555555556,
              "#d8576b"
             ],
             [
              0.6666666666666666,
              "#ed7953"
             ],
             [
              0.7777777777777778,
              "#fb9f3a"
             ],
             [
              0.8888888888888888,
              "#fdca26"
             ],
             [
              1,
              "#f0f921"
             ]
            ],
            "type": "histogram2dcontour"
           }
          ],
          "mesh3d": [
           {
            "colorbar": {
             "outlinewidth": 0,
             "ticks": ""
            },
            "type": "mesh3d"
           }
          ],
          "parcoords": [
           {
            "line": {
             "colorbar": {
              "outlinewidth": 0,
              "ticks": ""
             }
            },
            "type": "parcoords"
           }
          ],
          "pie": [
           {
            "automargin": true,
            "type": "pie"
           }
          ],
          "scatter": [
           {
            "fillpattern": {
             "fillmode": "overlay",
             "size": 10,
             "solidity": 0.2
            },
            "type": "scatter"
           }
          ],
          "scatter3d": [
           {
            "line": {
             "colorbar": {
              "outlinewidth": 0,
              "ticks": ""
             }
            },
            "marker": {
             "colorbar": {
              "outlinewidth": 0,
              "ticks": ""
             }
            },
            "type": "scatter3d"
           }
          ],
          "scattercarpet": [
           {
            "marker": {
             "colorbar": {
              "outlinewidth": 0,
              "ticks": ""
             }
            },
            "type": "scattercarpet"
           }
          ],
          "scattergeo": [
           {
            "marker": {
             "colorbar": {
              "outlinewidth": 0,
              "ticks": ""
             }
            },
            "type": "scattergeo"
           }
          ],
          "scattergl": [
           {
            "marker": {
             "colorbar": {
              "outlinewidth": 0,
              "ticks": ""
             }
            },
            "type": "scattergl"
           }
          ],
          "scattermapbox": [
           {
            "marker": {
             "colorbar": {
              "outlinewidth": 0,
              "ticks": ""
             }
            },
            "type": "scattermapbox"
           }
          ],
          "scatterpolar": [
           {
            "marker": {
             "colorbar": {
              "outlinewidth": 0,
              "ticks": ""
             }
            },
            "type": "scatterpolar"
           }
          ],
          "scatterpolargl": [
           {
            "marker": {
             "colorbar": {
              "outlinewidth": 0,
              "ticks": ""
             }
            },
            "type": "scatterpolargl"
           }
          ],
          "scatterternary": [
           {
            "marker": {
             "colorbar": {
              "outlinewidth": 0,
              "ticks": ""
             }
            },
            "type": "scatterternary"
           }
          ],
          "surface": [
           {
            "colorbar": {
             "outlinewidth": 0,
             "ticks": ""
            },
            "colorscale": [
             [
              0,
              "#0d0887"
             ],
             [
              0.1111111111111111,
              "#46039f"
             ],
             [
              0.2222222222222222,
              "#7201a8"
             ],
             [
              0.3333333333333333,
              "#9c179e"
             ],
             [
              0.4444444444444444,
              "#bd3786"
             ],
             [
              0.5555555555555556,
              "#d8576b"
             ],
             [
              0.6666666666666666,
              "#ed7953"
             ],
             [
              0.7777777777777778,
              "#fb9f3a"
             ],
             [
              0.8888888888888888,
              "#fdca26"
             ],
             [
              1,
              "#f0f921"
             ]
            ],
            "type": "surface"
           }
          ],
          "table": [
           {
            "cells": {
             "fill": {
              "color": "#EBF0F8"
             },
             "line": {
              "color": "white"
             }
            },
            "header": {
             "fill": {
              "color": "#C8D4E3"
             },
             "line": {
              "color": "white"
             }
            },
            "type": "table"
           }
          ]
         },
         "layout": {
          "annotationdefaults": {
           "arrowcolor": "#2a3f5f",
           "arrowhead": 0,
           "arrowwidth": 1
          },
          "autotypenumbers": "strict",
          "coloraxis": {
           "colorbar": {
            "outlinewidth": 0,
            "ticks": ""
           }
          },
          "colorscale": {
           "diverging": [
            [
             0,
             "#8e0152"
            ],
            [
             0.1,
             "#c51b7d"
            ],
            [
             0.2,
             "#de77ae"
            ],
            [
             0.3,
             "#f1b6da"
            ],
            [
             0.4,
             "#fde0ef"
            ],
            [
             0.5,
             "#f7f7f7"
            ],
            [
             0.6,
             "#e6f5d0"
            ],
            [
             0.7,
             "#b8e186"
            ],
            [
             0.8,
             "#7fbc41"
            ],
            [
             0.9,
             "#4d9221"
            ],
            [
             1,
             "#276419"
            ]
           ],
           "sequential": [
            [
             0,
             "#0d0887"
            ],
            [
             0.1111111111111111,
             "#46039f"
            ],
            [
             0.2222222222222222,
             "#7201a8"
            ],
            [
             0.3333333333333333,
             "#9c179e"
            ],
            [
             0.4444444444444444,
             "#bd3786"
            ],
            [
             0.5555555555555556,
             "#d8576b"
            ],
            [
             0.6666666666666666,
             "#ed7953"
            ],
            [
             0.7777777777777778,
             "#fb9f3a"
            ],
            [
             0.8888888888888888,
             "#fdca26"
            ],
            [
             1,
             "#f0f921"
            ]
           ],
           "sequentialminus": [
            [
             0,
             "#0d0887"
            ],
            [
             0.1111111111111111,
             "#46039f"
            ],
            [
             0.2222222222222222,
             "#7201a8"
            ],
            [
             0.3333333333333333,
             "#9c179e"
            ],
            [
             0.4444444444444444,
             "#bd3786"
            ],
            [
             0.5555555555555556,
             "#d8576b"
            ],
            [
             0.6666666666666666,
             "#ed7953"
            ],
            [
             0.7777777777777778,
             "#fb9f3a"
            ],
            [
             0.8888888888888888,
             "#fdca26"
            ],
            [
             1,
             "#f0f921"
            ]
           ]
          },
          "colorway": [
           "#636efa",
           "#EF553B",
           "#00cc96",
           "#ab63fa",
           "#FFA15A",
           "#19d3f3",
           "#FF6692",
           "#B6E880",
           "#FF97FF",
           "#FECB52"
          ],
          "font": {
           "color": "#2a3f5f"
          },
          "geo": {
           "bgcolor": "white",
           "lakecolor": "white",
           "landcolor": "#E5ECF6",
           "showlakes": true,
           "showland": true,
           "subunitcolor": "white"
          },
          "hoverlabel": {
           "align": "left"
          },
          "hovermode": "closest",
          "mapbox": {
           "style": "light"
          },
          "paper_bgcolor": "white",
          "plot_bgcolor": "#E5ECF6",
          "polar": {
           "angularaxis": {
            "gridcolor": "white",
            "linecolor": "white",
            "ticks": ""
           },
           "bgcolor": "#E5ECF6",
           "radialaxis": {
            "gridcolor": "white",
            "linecolor": "white",
            "ticks": ""
           }
          },
          "scene": {
           "xaxis": {
            "backgroundcolor": "#E5ECF6",
            "gridcolor": "white",
            "gridwidth": 2,
            "linecolor": "white",
            "showbackground": true,
            "ticks": "",
            "zerolinecolor": "white"
           },
           "yaxis": {
            "backgroundcolor": "#E5ECF6",
            "gridcolor": "white",
            "gridwidth": 2,
            "linecolor": "white",
            "showbackground": true,
            "ticks": "",
            "zerolinecolor": "white"
           },
           "zaxis": {
            "backgroundcolor": "#E5ECF6",
            "gridcolor": "white",
            "gridwidth": 2,
            "linecolor": "white",
            "showbackground": true,
            "ticks": "",
            "zerolinecolor": "white"
           }
          },
          "shapedefaults": {
           "line": {
            "color": "#2a3f5f"
           }
          },
          "ternary": {
           "aaxis": {
            "gridcolor": "white",
            "linecolor": "white",
            "ticks": ""
           },
           "baxis": {
            "gridcolor": "white",
            "linecolor": "white",
            "ticks": ""
           },
           "bgcolor": "#E5ECF6",
           "caxis": {
            "gridcolor": "white",
            "linecolor": "white",
            "ticks": ""
           }
          },
          "title": {
           "x": 0.05
          },
          "xaxis": {
           "automargin": true,
           "gridcolor": "white",
           "linecolor": "white",
           "ticks": "",
           "title": {
            "standoff": 15
           },
           "zerolinecolor": "white",
           "zerolinewidth": 2
          },
          "yaxis": {
           "automargin": true,
           "gridcolor": "white",
           "linecolor": "white",
           "ticks": "",
           "title": {
            "standoff": 15
           },
           "zerolinecolor": "white",
           "zerolinewidth": 2
          }
         }
        },
        "title": {
         "text": "Data Quality: Column Shapes (Average Score=0.87)"
        },
        "xaxis": {
         "anchor": "y",
         "autorange": true,
         "categoryorder": "total ascending",
         "domain": [
          0,
          1
         ],
         "range": [
          -0.5,
          5.5
         ],
         "title": {
          "text": "Column Name"
         },
         "type": "category"
        },
        "yaxis": {
         "anchor": "x",
         "domain": [
          0,
          1
         ],
         "range": [
          0,
          1
         ],
         "title": {
          "text": "Quality Score"
         },
         "type": "linear"
        }
       }
      },
      "text/html": [
       "<div>                            <div id=\"ce722139-a0a3-45fb-aac1-2a0abd49615e\" class=\"plotly-graph-div\" style=\"height:525px; width:100%;\"></div>            <script type=\"text/javascript\">                require([\"plotly\"], function(Plotly) {                    window.PLOTLYENV=window.PLOTLYENV || {};                                    if (document.getElementById(\"ce722139-a0a3-45fb-aac1-2a0abd49615e\")) {                    Plotly.newPlot(                        \"ce722139-a0a3-45fb-aac1-2a0abd49615e\",                        [{\"alignmentgroup\":\"True\",\"customdata\":[[\"KSComplement\"],[\"KSComplement\"],[\"KSComplement\"],[\"KSComplement\"]],\"hovertemplate\":\"\\u003cb\\u003e%{hovertext}\\u003c\\u002fb\\u003e\\u003cbr\\u003e\\u003cbr\\u003eMetric=%{customdata[0]}\\u003cbr\\u003eQuality Score=%{y}\\u003cextra\\u003e\\u003c\\u002fextra\\u003e\",\"hovertext\":[\"amenities_fee\",\"checkin_date\",\"checkout_date\",\"room_rate\"],\"legendgroup\":\"KSComplement\",\"marker\":{\"color\":\"#000036\",\"pattern\":{\"shape\":\"\"}},\"name\":\"KSComplement\",\"offsetgroup\":\"KSComplement\",\"orientation\":\"v\",\"showlegend\":true,\"textposition\":\"auto\",\"x\":[\"amenities_fee\",\"checkin_date\",\"checkout_date\",\"room_rate\"],\"xaxis\":\"x\",\"y\":[0.7041625041625041,0.968,0.9770833333333333,0.732],\"yaxis\":\"y\",\"type\":\"bar\"},{\"alignmentgroup\":\"True\",\"customdata\":[[\"TVComplement\"],[\"TVComplement\"]],\"hovertemplate\":\"\\u003cb\\u003e%{hovertext}\\u003c\\u002fb\\u003e\\u003cbr\\u003e\\u003cbr\\u003eMetric=%{customdata[0]}\\u003cbr\\u003eQuality Score=%{y}\\u003cextra\\u003e\\u003c\\u002fextra\\u003e\",\"hovertext\":[\"has_rewards\",\"room_type\"],\"legendgroup\":\"TVComplement\",\"marker\":{\"color\":\"#03AFF1\",\"pattern\":{\"shape\":\"\\u002f\"}},\"name\":\"TVComplement\",\"offsetgroup\":\"TVComplement\",\"orientation\":\"v\",\"showlegend\":true,\"textposition\":\"auto\",\"x\":[\"has_rewards\",\"room_type\"],\"xaxis\":\"x\",\"y\":[0.952,0.9139999999999999],\"yaxis\":\"y\",\"type\":\"bar\"}],                        {\"template\":{\"data\":{\"histogram2dcontour\":[{\"type\":\"histogram2dcontour\",\"colorbar\":{\"outlinewidth\":0,\"ticks\":\"\"},\"colorscale\":[[0.0,\"#0d0887\"],[0.1111111111111111,\"#46039f\"],[0.2222222222222222,\"#7201a8\"],[0.3333333333333333,\"#9c179e\"],[0.4444444444444444,\"#bd3786\"],[0.5555555555555556,\"#d8576b\"],[0.6666666666666666,\"#ed7953\"],[0.7777777777777778,\"#fb9f3a\"],[0.8888888888888888,\"#fdca26\"],[1.0,\"#f0f921\"]]}],\"choropleth\":[{\"type\":\"choropleth\",\"colorbar\":{\"outlinewidth\":0,\"ticks\":\"\"}}],\"histogram2d\":[{\"type\":\"histogram2d\",\"colorbar\":{\"outlinewidth\":0,\"ticks\":\"\"},\"colorscale\":[[0.0,\"#0d0887\"],[0.1111111111111111,\"#46039f\"],[0.2222222222222222,\"#7201a8\"],[0.3333333333333333,\"#9c179e\"],[0.4444444444444444,\"#bd3786\"],[0.5555555555555556,\"#d8576b\"],[0.6666666666666666,\"#ed7953\"],[0.7777777777777778,\"#fb9f3a\"],[0.8888888888888888,\"#fdca26\"],[1.0,\"#f0f921\"]]}],\"heatmap\":[{\"type\":\"heatmap\",\"colorbar\":{\"outlinewidth\":0,\"ticks\":\"\"},\"colorscale\":[[0.0,\"#0d0887\"],[0.1111111111111111,\"#46039f\"],[0.2222222222222222,\"#7201a8\"],[0.3333333333333333,\"#9c179e\"],[0.4444444444444444,\"#bd3786\"],[0.5555555555555556,\"#d8576b\"],[0.6666666666666666,\"#ed7953\"],[0.7777777777777778,\"#fb9f3a\"],[0.8888888888888888,\"#fdca26\"],[1.0,\"#f0f921\"]]}],\"heatmapgl\":[{\"type\":\"heatmapgl\",\"colorbar\":{\"outlinewidth\":0,\"ticks\":\"\"},\"colorscale\":[[0.0,\"#0d0887\"],[0.1111111111111111,\"#46039f\"],[0.2222222222222222,\"#7201a8\"],[0.3333333333333333,\"#9c179e\"],[0.4444444444444444,\"#bd3786\"],[0.5555555555555556,\"#d8576b\"],[0.6666666666666666,\"#ed7953\"],[0.7777777777777778,\"#fb9f3a\"],[0.8888888888888888,\"#fdca26\"],[1.0,\"#f0f921\"]]}],\"contourcarpet\":[{\"type\":\"contourcarpet\",\"colorbar\":{\"outlinewidth\":0,\"ticks\":\"\"}}],\"contour\":[{\"type\":\"contour\",\"colorbar\":{\"outlinewidth\":0,\"ticks\":\"\"},\"colorscale\":[[0.0,\"#0d0887\"],[0.1111111111111111,\"#46039f\"],[0.2222222222222222,\"#7201a8\"],[0.3333333333333333,\"#9c179e\"],[0.4444444444444444,\"#bd3786\"],[0.5555555555555556,\"#d8576b\"],[0.6666666666666666,\"#ed7953\"],[0.7777777777777778,\"#fb9f3a\"],[0.8888888888888888,\"#fdca26\"],[1.0,\"#f0f921\"]]}],\"surface\":[{\"type\":\"surface\",\"colorbar\":{\"outlinewidth\":0,\"ticks\":\"\"},\"colorscale\":[[0.0,\"#0d0887\"],[0.1111111111111111,\"#46039f\"],[0.2222222222222222,\"#7201a8\"],[0.3333333333333333,\"#9c179e\"],[0.4444444444444444,\"#bd3786\"],[0.5555555555555556,\"#d8576b\"],[0.6666666666666666,\"#ed7953\"],[0.7777777777777778,\"#fb9f3a\"],[0.8888888888888888,\"#fdca26\"],[1.0,\"#f0f921\"]]}],\"mesh3d\":[{\"type\":\"mesh3d\",\"colorbar\":{\"outlinewidth\":0,\"ticks\":\"\"}}],\"scatter\":[{\"fillpattern\":{\"fillmode\":\"overlay\",\"size\":10,\"solidity\":0.2},\"type\":\"scatter\"}],\"parcoords\":[{\"type\":\"parcoords\",\"line\":{\"colorbar\":{\"outlinewidth\":0,\"ticks\":\"\"}}}],\"scatterpolargl\":[{\"type\":\"scatterpolargl\",\"marker\":{\"colorbar\":{\"outlinewidth\":0,\"ticks\":\"\"}}}],\"bar\":[{\"error_x\":{\"color\":\"#2a3f5f\"},\"error_y\":{\"color\":\"#2a3f5f\"},\"marker\":{\"line\":{\"color\":\"#E5ECF6\",\"width\":0.5},\"pattern\":{\"fillmode\":\"overlay\",\"size\":10,\"solidity\":0.2}},\"type\":\"bar\"}],\"scattergeo\":[{\"type\":\"scattergeo\",\"marker\":{\"colorbar\":{\"outlinewidth\":0,\"ticks\":\"\"}}}],\"scatterpolar\":[{\"type\":\"scatterpolar\",\"marker\":{\"colorbar\":{\"outlinewidth\":0,\"ticks\":\"\"}}}],\"histogram\":[{\"marker\":{\"pattern\":{\"fillmode\":\"overlay\",\"size\":10,\"solidity\":0.2}},\"type\":\"histogram\"}],\"scattergl\":[{\"type\":\"scattergl\",\"marker\":{\"colorbar\":{\"outlinewidth\":0,\"ticks\":\"\"}}}],\"scatter3d\":[{\"type\":\"scatter3d\",\"line\":{\"colorbar\":{\"outlinewidth\":0,\"ticks\":\"\"}},\"marker\":{\"colorbar\":{\"outlinewidth\":0,\"ticks\":\"\"}}}],\"scattermapbox\":[{\"type\":\"scattermapbox\",\"marker\":{\"colorbar\":{\"outlinewidth\":0,\"ticks\":\"\"}}}],\"scatterternary\":[{\"type\":\"scatterternary\",\"marker\":{\"colorbar\":{\"outlinewidth\":0,\"ticks\":\"\"}}}],\"scattercarpet\":[{\"type\":\"scattercarpet\",\"marker\":{\"colorbar\":{\"outlinewidth\":0,\"ticks\":\"\"}}}],\"carpet\":[{\"aaxis\":{\"endlinecolor\":\"#2a3f5f\",\"gridcolor\":\"white\",\"linecolor\":\"white\",\"minorgridcolor\":\"white\",\"startlinecolor\":\"#2a3f5f\"},\"baxis\":{\"endlinecolor\":\"#2a3f5f\",\"gridcolor\":\"white\",\"linecolor\":\"white\",\"minorgridcolor\":\"white\",\"startlinecolor\":\"#2a3f5f\"},\"type\":\"carpet\"}],\"table\":[{\"cells\":{\"fill\":{\"color\":\"#EBF0F8\"},\"line\":{\"color\":\"white\"}},\"header\":{\"fill\":{\"color\":\"#C8D4E3\"},\"line\":{\"color\":\"white\"}},\"type\":\"table\"}],\"barpolar\":[{\"marker\":{\"line\":{\"color\":\"#E5ECF6\",\"width\":0.5},\"pattern\":{\"fillmode\":\"overlay\",\"size\":10,\"solidity\":0.2}},\"type\":\"barpolar\"}],\"pie\":[{\"automargin\":true,\"type\":\"pie\"}]},\"layout\":{\"autotypenumbers\":\"strict\",\"colorway\":[\"#636efa\",\"#EF553B\",\"#00cc96\",\"#ab63fa\",\"#FFA15A\",\"#19d3f3\",\"#FF6692\",\"#B6E880\",\"#FF97FF\",\"#FECB52\"],\"font\":{\"color\":\"#2a3f5f\"},\"hovermode\":\"closest\",\"hoverlabel\":{\"align\":\"left\"},\"paper_bgcolor\":\"white\",\"plot_bgcolor\":\"#E5ECF6\",\"polar\":{\"bgcolor\":\"#E5ECF6\",\"angularaxis\":{\"gridcolor\":\"white\",\"linecolor\":\"white\",\"ticks\":\"\"},\"radialaxis\":{\"gridcolor\":\"white\",\"linecolor\":\"white\",\"ticks\":\"\"}},\"ternary\":{\"bgcolor\":\"#E5ECF6\",\"aaxis\":{\"gridcolor\":\"white\",\"linecolor\":\"white\",\"ticks\":\"\"},\"baxis\":{\"gridcolor\":\"white\",\"linecolor\":\"white\",\"ticks\":\"\"},\"caxis\":{\"gridcolor\":\"white\",\"linecolor\":\"white\",\"ticks\":\"\"}},\"coloraxis\":{\"colorbar\":{\"outlinewidth\":0,\"ticks\":\"\"}},\"colorscale\":{\"sequential\":[[0.0,\"#0d0887\"],[0.1111111111111111,\"#46039f\"],[0.2222222222222222,\"#7201a8\"],[0.3333333333333333,\"#9c179e\"],[0.4444444444444444,\"#bd3786\"],[0.5555555555555556,\"#d8576b\"],[0.6666666666666666,\"#ed7953\"],[0.7777777777777778,\"#fb9f3a\"],[0.8888888888888888,\"#fdca26\"],[1.0,\"#f0f921\"]],\"sequentialminus\":[[0.0,\"#0d0887\"],[0.1111111111111111,\"#46039f\"],[0.2222222222222222,\"#7201a8\"],[0.3333333333333333,\"#9c179e\"],[0.4444444444444444,\"#bd3786\"],[0.5555555555555556,\"#d8576b\"],[0.6666666666666666,\"#ed7953\"],[0.7777777777777778,\"#fb9f3a\"],[0.8888888888888888,\"#fdca26\"],[1.0,\"#f0f921\"]],\"diverging\":[[0,\"#8e0152\"],[0.1,\"#c51b7d\"],[0.2,\"#de77ae\"],[0.3,\"#f1b6da\"],[0.4,\"#fde0ef\"],[0.5,\"#f7f7f7\"],[0.6,\"#e6f5d0\"],[0.7,\"#b8e186\"],[0.8,\"#7fbc41\"],[0.9,\"#4d9221\"],[1,\"#276419\"]]},\"xaxis\":{\"gridcolor\":\"white\",\"linecolor\":\"white\",\"ticks\":\"\",\"title\":{\"standoff\":15},\"zerolinecolor\":\"white\",\"automargin\":true,\"zerolinewidth\":2},\"yaxis\":{\"gridcolor\":\"white\",\"linecolor\":\"white\",\"ticks\":\"\",\"title\":{\"standoff\":15},\"zerolinecolor\":\"white\",\"automargin\":true,\"zerolinewidth\":2},\"scene\":{\"xaxis\":{\"backgroundcolor\":\"#E5ECF6\",\"gridcolor\":\"white\",\"linecolor\":\"white\",\"showbackground\":true,\"ticks\":\"\",\"zerolinecolor\":\"white\",\"gridwidth\":2},\"yaxis\":{\"backgroundcolor\":\"#E5ECF6\",\"gridcolor\":\"white\",\"linecolor\":\"white\",\"showbackground\":true,\"ticks\":\"\",\"zerolinecolor\":\"white\",\"gridwidth\":2},\"zaxis\":{\"backgroundcolor\":\"#E5ECF6\",\"gridcolor\":\"white\",\"linecolor\":\"white\",\"showbackground\":true,\"ticks\":\"\",\"zerolinecolor\":\"white\",\"gridwidth\":2}},\"shapedefaults\":{\"line\":{\"color\":\"#2a3f5f\"}},\"annotationdefaults\":{\"arrowcolor\":\"#2a3f5f\",\"arrowhead\":0,\"arrowwidth\":1},\"geo\":{\"bgcolor\":\"white\",\"landcolor\":\"#E5ECF6\",\"subunitcolor\":\"white\",\"showland\":true,\"showlakes\":true,\"lakecolor\":\"white\"},\"title\":{\"x\":0.05},\"mapbox\":{\"style\":\"light\"}}},\"xaxis\":{\"anchor\":\"y\",\"domain\":[0.0,1.0],\"title\":{\"text\":\"Column Name\"},\"categoryorder\":\"total ascending\"},\"yaxis\":{\"anchor\":\"x\",\"domain\":[0.0,1.0],\"title\":{\"text\":\"Quality Score\"},\"range\":[0,1]},\"legend\":{\"title\":{\"text\":\"Metric\"},\"tracegroupgap\":0},\"title\":{\"text\":\"Data Quality: Column Shapes (Average Score=0.87)\"},\"barmode\":\"relative\",\"margin\":{\"t\":150},\"plot_bgcolor\":\"#F5F5F8\"},                        {\"responsive\": true}                    ).then(function(){\n",
       "                            \n",
       "var gd = document.getElementById('ce722139-a0a3-45fb-aac1-2a0abd49615e');\n",
       "var x = new MutationObserver(function (mutations, observer) {{\n",
       "        var display = window.getComputedStyle(gd).display;\n",
       "        if (!display || display === 'none') {{\n",
       "            console.log([gd, 'removed!']);\n",
       "            Plotly.purge(gd);\n",
       "            observer.disconnect();\n",
       "        }}\n",
       "}});\n",
       "\n",
       "// Listen for the removal of the full notebook cells\n",
       "var notebookContainer = gd.closest('#notebook-container');\n",
       "if (notebookContainer) {{\n",
       "    x.observe(notebookContainer, {childList: true});\n",
       "}}\n",
       "\n",
       "// Listen for the clearing of the current output cell\n",
       "var outputEl = gd.closest('.output');\n",
       "if (outputEl) {{\n",
       "    x.observe(outputEl, {childList: true});\n",
       "}}\n",
       "\n",
       "                        })                };                });            </script>        </div>"
      ]
     },
     "metadata": {},
     "output_type": "display_data"
    }
   ],
   "source": [
    "# visualizing the report\n",
    "\n",
    "quality_report.get_visualization('Column Shapes')"
   ]
  },
  {
   "cell_type": "code",
   "execution_count": 222,
   "id": "4e4361b0-de54-4310-9f16-e954d1ecee98",
   "metadata": {},
   "outputs": [
    {
     "data": {
      "application/vnd.plotly.v1+json": {
       "config": {
        "plotlyServerURL": "https://plot.ly"
       },
       "data": [
        {
         "alignmentgroup": "True",
         "bingroup": "x",
         "histnorm": "probability density",
         "hovertemplate": "<b>Real</b><br>Frequency: %{y}<extra></extra>",
         "legendgroup": "Real",
         "marker": {
          "color": "#000036",
          "pattern": {
           "shape": ""
          }
         },
         "name": "Real",
         "offsetgroup": "Real",
         "orientation": "v",
         "showlegend": true,
         "type": "histogram",
         "x": [
          "BASIC",
          "BASIC",
          "DELUXE",
          "BASIC",
          "BASIC",
          "BASIC",
          "BASIC",
          "BASIC",
          "BASIC",
          "BASIC",
          "BASIC",
          "BASIC",
          "BASIC",
          "BASIC",
          "BASIC",
          "BASIC",
          "DELUXE",
          "BASIC",
          "DELUXE",
          "BASIC",
          "BASIC",
          "BASIC",
          "BASIC",
          "BASIC",
          "BASIC",
          "BASIC",
          "BASIC",
          "BASIC",
          "BASIC",
          "BASIC",
          "DELUXE",
          "BASIC",
          "BASIC",
          "BASIC",
          "BASIC",
          "BASIC",
          "BASIC",
          "BASIC",
          "BASIC",
          "BASIC",
          "SUITE",
          "BASIC",
          "DELUXE",
          "BASIC",
          "BASIC",
          "BASIC",
          "BASIC",
          "BASIC",
          "BASIC",
          "SUITE",
          "DELUXE",
          "BASIC",
          "BASIC",
          "DELUXE",
          "BASIC",
          "BASIC",
          "BASIC",
          "BASIC",
          "SUITE",
          "SUITE",
          "DELUXE",
          "BASIC",
          "BASIC",
          "BASIC",
          "BASIC",
          "BASIC",
          "BASIC",
          "BASIC",
          "SUITE",
          "BASIC",
          "BASIC",
          "BASIC",
          "BASIC",
          "BASIC",
          "DELUXE",
          "BASIC",
          "BASIC",
          "BASIC",
          "BASIC",
          "BASIC",
          "BASIC",
          "BASIC",
          "BASIC",
          "BASIC",
          "BASIC",
          "BASIC",
          "BASIC",
          "BASIC",
          "SUITE",
          "BASIC",
          "BASIC",
          "BASIC",
          "BASIC",
          "BASIC",
          "BASIC",
          "BASIC",
          "BASIC",
          "BASIC",
          "BASIC",
          "DELUXE",
          "BASIC",
          "BASIC",
          "DELUXE",
          "BASIC",
          "BASIC",
          "BASIC",
          "BASIC",
          "DELUXE",
          "BASIC",
          "BASIC",
          "BASIC",
          "DELUXE",
          "BASIC",
          "BASIC",
          "DELUXE",
          "DELUXE",
          "BASIC",
          "BASIC",
          "BASIC",
          "BASIC",
          "DELUXE",
          "DELUXE",
          "BASIC",
          "BASIC",
          "BASIC",
          "BASIC",
          "BASIC",
          "BASIC",
          "BASIC",
          "BASIC",
          "BASIC",
          "BASIC",
          "BASIC",
          "BASIC",
          "BASIC",
          "BASIC",
          "DELUXE",
          "SUITE",
          "BASIC",
          "BASIC",
          "BASIC",
          "BASIC",
          "SUITE",
          "BASIC",
          "SUITE",
          "BASIC",
          "BASIC",
          "BASIC",
          "BASIC",
          "SUITE",
          "BASIC",
          "BASIC",
          "BASIC",
          "BASIC",
          "BASIC",
          "BASIC",
          "BASIC",
          "BASIC",
          "BASIC",
          "BASIC",
          "DELUXE",
          "BASIC",
          "BASIC",
          "BASIC",
          "BASIC",
          "SUITE",
          "DELUXE",
          "BASIC",
          "BASIC",
          "BASIC",
          "BASIC",
          "BASIC",
          "BASIC",
          "BASIC",
          "BASIC",
          "BASIC",
          "BASIC",
          "BASIC",
          "DELUXE",
          "SUITE",
          "BASIC",
          "BASIC",
          "BASIC",
          "SUITE",
          "BASIC",
          "DELUXE",
          "BASIC",
          "BASIC",
          "BASIC",
          "BASIC",
          "DELUXE",
          "BASIC",
          "BASIC",
          "BASIC",
          "BASIC",
          "BASIC",
          "SUITE",
          "BASIC",
          "DELUXE",
          "BASIC",
          "BASIC",
          "BASIC",
          "BASIC",
          "BASIC",
          "BASIC",
          "BASIC",
          "DELUXE",
          "BASIC",
          "DELUXE",
          "DELUXE",
          "DELUXE",
          "DELUXE",
          "BASIC",
          "BASIC",
          "BASIC",
          "DELUXE",
          "SUITE",
          "BASIC",
          "BASIC",
          "SUITE",
          "DELUXE",
          "BASIC",
          "BASIC",
          "DELUXE",
          "BASIC",
          "BASIC",
          "BASIC",
          "BASIC",
          "DELUXE",
          "BASIC",
          "BASIC",
          "BASIC",
          "BASIC",
          "BASIC",
          "BASIC",
          "BASIC",
          "SUITE",
          "BASIC",
          "BASIC",
          "DELUXE",
          "BASIC",
          "BASIC",
          "BASIC",
          "BASIC",
          "BASIC",
          "BASIC",
          "SUITE",
          "BASIC",
          "BASIC",
          "BASIC",
          "BASIC",
          "DELUXE",
          "BASIC",
          "BASIC",
          "BASIC",
          "BASIC",
          "BASIC",
          "BASIC",
          "BASIC",
          "BASIC",
          "BASIC",
          "BASIC",
          "BASIC",
          "BASIC",
          "BASIC",
          "BASIC",
          "DELUXE",
          "SUITE",
          "BASIC",
          "BASIC",
          "BASIC",
          "BASIC",
          "BASIC",
          "BASIC",
          "BASIC",
          "DELUXE",
          "BASIC",
          "SUITE",
          "SUITE",
          "DELUXE",
          "BASIC",
          "BASIC",
          "DELUXE",
          "SUITE",
          "DELUXE",
          "BASIC",
          "BASIC",
          "BASIC",
          "BASIC",
          "BASIC",
          "DELUXE",
          "DELUXE",
          "BASIC",
          "BASIC",
          "BASIC",
          "BASIC",
          "BASIC",
          "DELUXE",
          "BASIC",
          "DELUXE",
          "BASIC",
          "BASIC",
          "BASIC",
          "BASIC",
          "DELUXE",
          "BASIC",
          "BASIC",
          "BASIC",
          "BASIC",
          "DELUXE",
          "DELUXE",
          "BASIC",
          "SUITE",
          "BASIC",
          "BASIC",
          "BASIC",
          "BASIC",
          "SUITE",
          "BASIC",
          "BASIC",
          "BASIC",
          "BASIC",
          "DELUXE",
          "BASIC",
          "BASIC",
          "BASIC",
          "BASIC",
          "BASIC",
          "BASIC",
          "BASIC",
          "BASIC",
          "BASIC",
          "BASIC",
          "BASIC",
          "BASIC",
          "SUITE",
          "BASIC",
          "BASIC",
          "BASIC",
          "BASIC",
          "BASIC",
          "BASIC",
          "BASIC",
          "BASIC",
          "DELUXE",
          "BASIC",
          "BASIC",
          "DELUXE",
          "BASIC",
          "DELUXE",
          "BASIC",
          "BASIC",
          "DELUXE",
          "DELUXE",
          "DELUXE",
          "SUITE",
          "BASIC",
          "BASIC",
          "DELUXE",
          "BASIC",
          "BASIC",
          "BASIC",
          "BASIC",
          "BASIC",
          "BASIC",
          "BASIC",
          "BASIC",
          "BASIC",
          "BASIC",
          "BASIC",
          "BASIC",
          "BASIC",
          "DELUXE",
          "DELUXE",
          "BASIC",
          "BASIC",
          "BASIC",
          "BASIC",
          "BASIC",
          "DELUXE",
          "BASIC",
          "BASIC",
          "BASIC",
          "SUITE",
          "BASIC",
          "BASIC",
          "BASIC",
          "BASIC",
          "BASIC",
          "DELUXE",
          "BASIC",
          "BASIC",
          "BASIC",
          "BASIC",
          "BASIC",
          "BASIC",
          "DELUXE",
          "BASIC",
          "BASIC",
          "BASIC",
          "BASIC",
          "BASIC",
          "DELUXE",
          "BASIC",
          "BASIC",
          "BASIC",
          "BASIC",
          "DELUXE",
          "DELUXE",
          "DELUXE",
          "BASIC",
          "BASIC",
          "BASIC",
          "BASIC",
          "BASIC",
          "BASIC",
          "BASIC",
          "DELUXE",
          "BASIC",
          "DELUXE",
          "BASIC",
          "SUITE",
          "DELUXE",
          "SUITE",
          "BASIC",
          "BASIC",
          "SUITE",
          "DELUXE",
          "BASIC",
          "SUITE",
          "BASIC",
          "BASIC",
          "BASIC",
          "DELUXE",
          "BASIC",
          "BASIC",
          "SUITE",
          "DELUXE",
          "BASIC",
          "BASIC",
          "BASIC",
          "SUITE",
          "BASIC",
          "DELUXE",
          "BASIC",
          "BASIC",
          "BASIC",
          "BASIC",
          "BASIC",
          "BASIC",
          "BASIC",
          "BASIC",
          "BASIC",
          "SUITE",
          "BASIC",
          "BASIC",
          "BASIC",
          "BASIC",
          "BASIC",
          "DELUXE",
          "BASIC",
          "DELUXE",
          "BASIC",
          "DELUXE",
          "BASIC",
          "DELUXE",
          "SUITE",
          "BASIC",
          "BASIC",
          "BASIC",
          "BASIC",
          "BASIC",
          "BASIC",
          "DELUXE",
          "BASIC",
          "SUITE",
          "BASIC",
          "BASIC",
          "SUITE",
          "SUITE",
          "BASIC",
          "BASIC",
          "BASIC",
          "BASIC",
          "BASIC",
          "BASIC",
          "BASIC",
          "DELUXE",
          "BASIC",
          "BASIC",
          "BASIC",
          "BASIC",
          "DELUXE",
          "BASIC",
          "BASIC",
          "BASIC",
          "BASIC",
          "BASIC",
          "BASIC",
          "BASIC"
         ],
         "xaxis": "x",
         "yaxis": "y"
        },
        {
         "alignmentgroup": "True",
         "bingroup": "x",
         "histnorm": "probability density",
         "hovertemplate": "<b>Synthetic</b><br>Frequency: %{y}<extra></extra>",
         "legendgroup": "Synthetic",
         "marker": {
          "color": "#01E0C9",
          "pattern": {
           "shape": "/"
          }
         },
         "name": "Synthetic",
         "offsetgroup": "Synthetic",
         "orientation": "v",
         "showlegend": true,
         "type": "histogram",
         "x": [
          "BASIC",
          "DELUXE",
          "DELUXE",
          "BASIC",
          "SUITE",
          "BASIC",
          "BASIC",
          "DELUXE",
          "BASIC",
          "BASIC",
          "BASIC",
          "BASIC",
          "BASIC",
          "BASIC",
          "BASIC",
          "BASIC",
          "BASIC",
          "BASIC",
          "SUITE",
          "DELUXE",
          "BASIC",
          "DELUXE",
          "DELUXE",
          "BASIC",
          "BASIC",
          "BASIC",
          "DELUXE",
          "BASIC",
          "BASIC",
          "BASIC",
          "BASIC",
          "BASIC",
          "BASIC",
          "BASIC",
          "BASIC",
          "BASIC",
          "BASIC",
          "BASIC",
          "BASIC",
          "BASIC",
          "DELUXE",
          "BASIC",
          "DELUXE",
          "BASIC",
          "DELUXE",
          "BASIC",
          "BASIC",
          "BASIC",
          "BASIC",
          "BASIC",
          "DELUXE",
          "BASIC",
          "BASIC",
          "DELUXE",
          "BASIC",
          "DELUXE",
          "DELUXE",
          "DELUXE",
          "BASIC",
          "DELUXE",
          "BASIC",
          "DELUXE",
          "BASIC",
          "BASIC",
          "BASIC",
          "BASIC",
          "BASIC",
          "BASIC",
          "DELUXE",
          "BASIC",
          "BASIC",
          "BASIC",
          "BASIC",
          "DELUXE",
          "BASIC",
          "BASIC",
          "BASIC",
          "BASIC",
          "BASIC",
          "DELUXE",
          "BASIC",
          "BASIC",
          "BASIC",
          "BASIC",
          "BASIC",
          "BASIC",
          "BASIC",
          "BASIC",
          "BASIC",
          "BASIC",
          "BASIC",
          "BASIC",
          "BASIC",
          "BASIC",
          "BASIC",
          "BASIC",
          "DELUXE",
          "BASIC",
          "BASIC",
          "BASIC",
          "DELUXE",
          "BASIC",
          "DELUXE",
          "BASIC",
          "DELUXE",
          "BASIC",
          "BASIC",
          "BASIC",
          "DELUXE",
          "DELUXE",
          "BASIC",
          "DELUXE",
          "DELUXE",
          "DELUXE",
          "BASIC",
          "BASIC",
          "DELUXE",
          "BASIC",
          "DELUXE",
          "BASIC",
          "BASIC",
          "DELUXE",
          "BASIC",
          "SUITE",
          "BASIC",
          "BASIC",
          "BASIC",
          "BASIC",
          "BASIC",
          "BASIC",
          "BASIC",
          "DELUXE",
          "BASIC",
          "DELUXE",
          "BASIC",
          "BASIC",
          "BASIC",
          "BASIC",
          "BASIC",
          "BASIC",
          "BASIC",
          "BASIC",
          "BASIC",
          "DELUXE",
          "BASIC",
          "BASIC",
          "BASIC",
          "DELUXE",
          "BASIC",
          "BASIC",
          "BASIC",
          "BASIC",
          "BASIC",
          "BASIC",
          "DELUXE",
          "DELUXE",
          "DELUXE",
          "BASIC",
          "BASIC",
          "DELUXE",
          "DELUXE",
          "DELUXE",
          "BASIC",
          "BASIC",
          "DELUXE",
          "BASIC",
          "BASIC",
          "BASIC",
          "BASIC",
          "BASIC",
          "BASIC",
          "BASIC",
          "DELUXE",
          "BASIC",
          "BASIC",
          "BASIC",
          "DELUXE",
          "BASIC",
          "BASIC",
          "DELUXE",
          "BASIC",
          "BASIC",
          "DELUXE",
          "SUITE",
          "BASIC",
          "BASIC",
          "BASIC",
          "BASIC",
          "BASIC",
          "DELUXE",
          "BASIC",
          "DELUXE",
          "BASIC",
          "DELUXE",
          "BASIC",
          "BASIC",
          "BASIC",
          "BASIC",
          "BASIC",
          "BASIC",
          "BASIC",
          "BASIC",
          "BASIC",
          "BASIC",
          "BASIC",
          "BASIC",
          "BASIC",
          "BASIC",
          "BASIC",
          "BASIC",
          "BASIC",
          "BASIC",
          "BASIC",
          "BASIC",
          "BASIC",
          "DELUXE",
          "DELUXE",
          "BASIC",
          "BASIC",
          "BASIC",
          "DELUXE",
          "SUITE",
          "BASIC",
          "BASIC",
          "BASIC",
          "BASIC",
          "BASIC",
          "BASIC",
          "DELUXE",
          "SUITE",
          "BASIC",
          "BASIC",
          "BASIC",
          "BASIC",
          "DELUXE",
          "BASIC",
          "BASIC",
          "BASIC",
          "BASIC",
          "BASIC",
          "DELUXE",
          "DELUXE",
          "BASIC",
          "BASIC",
          "BASIC",
          "SUITE",
          "BASIC",
          "BASIC",
          "BASIC",
          "SUITE",
          "DELUXE",
          "BASIC",
          "BASIC",
          "BASIC",
          "BASIC",
          "BASIC",
          "BASIC",
          "BASIC",
          "BASIC",
          "BASIC",
          "BASIC",
          "BASIC",
          "DELUXE",
          "DELUXE",
          "DELUXE",
          "DELUXE",
          "BASIC",
          "BASIC",
          "DELUXE",
          "BASIC",
          "BASIC",
          "BASIC",
          "BASIC",
          "BASIC",
          "BASIC",
          "BASIC",
          "BASIC",
          "BASIC",
          "BASIC",
          "BASIC",
          "BASIC",
          "BASIC",
          "BASIC",
          "DELUXE",
          "BASIC",
          "DELUXE",
          "BASIC",
          "DELUXE",
          "BASIC",
          "DELUXE",
          "BASIC",
          "BASIC",
          "BASIC",
          "DELUXE",
          "BASIC",
          "BASIC",
          "BASIC",
          "BASIC",
          "BASIC",
          "BASIC",
          "BASIC",
          "DELUXE",
          "BASIC",
          "BASIC",
          "BASIC",
          "BASIC",
          "BASIC",
          "BASIC",
          "BASIC",
          "BASIC",
          "BASIC",
          "BASIC",
          "DELUXE",
          "BASIC",
          "BASIC",
          "DELUXE",
          "BASIC",
          "BASIC",
          "BASIC",
          "DELUXE",
          "BASIC",
          "DELUXE",
          "DELUXE",
          "DELUXE",
          "BASIC",
          "SUITE",
          "BASIC",
          "BASIC",
          "BASIC",
          "DELUXE",
          "DELUXE",
          "BASIC",
          "BASIC",
          "DELUXE",
          "BASIC",
          "DELUXE",
          "BASIC",
          "BASIC",
          "BASIC",
          "DELUXE",
          "BASIC",
          "BASIC",
          "BASIC",
          "BASIC",
          "BASIC",
          "BASIC",
          "BASIC",
          "BASIC",
          "DELUXE",
          "DELUXE",
          "DELUXE",
          "BASIC",
          "BASIC",
          "BASIC",
          "BASIC",
          "BASIC",
          "DELUXE",
          "BASIC",
          "BASIC",
          "SUITE",
          "DELUXE",
          "BASIC",
          "BASIC",
          "BASIC",
          "DELUXE",
          "BASIC",
          "BASIC",
          "BASIC",
          "BASIC",
          "BASIC",
          "BASIC",
          "DELUXE",
          "BASIC",
          "DELUXE",
          "BASIC",
          "BASIC",
          "DELUXE",
          "BASIC",
          "BASIC",
          "BASIC",
          "BASIC",
          "BASIC",
          "BASIC",
          "DELUXE",
          "BASIC",
          "BASIC",
          "BASIC",
          "BASIC",
          "BASIC",
          "BASIC",
          "DELUXE",
          "BASIC",
          "BASIC",
          "BASIC",
          "DELUXE",
          "BASIC",
          "DELUXE",
          "BASIC",
          "BASIC",
          "BASIC",
          "DELUXE",
          "DELUXE",
          "BASIC",
          "BASIC",
          "BASIC",
          "DELUXE",
          "BASIC",
          "BASIC",
          "BASIC",
          "BASIC",
          "BASIC",
          "BASIC",
          "BASIC",
          "BASIC",
          "DELUXE",
          "BASIC",
          "BASIC",
          "DELUXE",
          "BASIC",
          "BASIC",
          "BASIC",
          "DELUXE",
          "BASIC",
          "BASIC",
          "BASIC",
          "BASIC",
          "DELUXE",
          "BASIC",
          "DELUXE",
          "BASIC",
          "BASIC",
          "BASIC",
          "SUITE",
          "DELUXE",
          "DELUXE",
          "BASIC",
          "BASIC",
          "BASIC",
          "BASIC",
          "SUITE",
          "BASIC",
          "DELUXE",
          "BASIC",
          "DELUXE",
          "BASIC",
          "BASIC",
          "BASIC",
          "BASIC",
          "BASIC",
          "BASIC",
          "BASIC",
          "DELUXE",
          "DELUXE",
          "BASIC",
          "BASIC",
          "SUITE",
          "BASIC",
          "BASIC",
          "DELUXE",
          "BASIC",
          "BASIC",
          "BASIC",
          "DELUXE",
          "SUITE",
          "BASIC",
          "SUITE",
          "BASIC",
          "BASIC",
          "DELUXE",
          "DELUXE",
          "BASIC",
          "DELUXE",
          "BASIC",
          "BASIC",
          "BASIC",
          "BASIC",
          "BASIC",
          "SUITE",
          "DELUXE",
          "BASIC",
          "BASIC",
          "BASIC",
          "BASIC",
          "BASIC",
          "DELUXE",
          "DELUXE",
          "BASIC",
          "DELUXE",
          "BASIC",
          "BASIC",
          "BASIC",
          "BASIC",
          "BASIC",
          "DELUXE",
          "DELUXE",
          "DELUXE",
          "DELUXE",
          "BASIC",
          "BASIC",
          "DELUXE"
         ],
         "xaxis": "x",
         "yaxis": "y"
        }
       ],
       "layout": {
        "autosize": true,
        "barmode": "group",
        "legend": {
         "title": {
          "text": "Data"
         },
         "tracegroupgap": 0
        },
        "margin": {
         "t": 60
        },
        "plot_bgcolor": "#F5F5F8",
        "template": {
         "data": {
          "bar": [
           {
            "error_x": {
             "color": "#2a3f5f"
            },
            "error_y": {
             "color": "#2a3f5f"
            },
            "marker": {
             "line": {
              "color": "#E5ECF6",
              "width": 0.5
             },
             "pattern": {
              "fillmode": "overlay",
              "size": 10,
              "solidity": 0.2
             }
            },
            "type": "bar"
           }
          ],
          "barpolar": [
           {
            "marker": {
             "line": {
              "color": "#E5ECF6",
              "width": 0.5
             },
             "pattern": {
              "fillmode": "overlay",
              "size": 10,
              "solidity": 0.2
             }
            },
            "type": "barpolar"
           }
          ],
          "carpet": [
           {
            "aaxis": {
             "endlinecolor": "#2a3f5f",
             "gridcolor": "white",
             "linecolor": "white",
             "minorgridcolor": "white",
             "startlinecolor": "#2a3f5f"
            },
            "baxis": {
             "endlinecolor": "#2a3f5f",
             "gridcolor": "white",
             "linecolor": "white",
             "minorgridcolor": "white",
             "startlinecolor": "#2a3f5f"
            },
            "type": "carpet"
           }
          ],
          "choropleth": [
           {
            "colorbar": {
             "outlinewidth": 0,
             "ticks": ""
            },
            "type": "choropleth"
           }
          ],
          "contour": [
           {
            "colorbar": {
             "outlinewidth": 0,
             "ticks": ""
            },
            "colorscale": [
             [
              0,
              "#0d0887"
             ],
             [
              0.1111111111111111,
              "#46039f"
             ],
             [
              0.2222222222222222,
              "#7201a8"
             ],
             [
              0.3333333333333333,
              "#9c179e"
             ],
             [
              0.4444444444444444,
              "#bd3786"
             ],
             [
              0.5555555555555556,
              "#d8576b"
             ],
             [
              0.6666666666666666,
              "#ed7953"
             ],
             [
              0.7777777777777778,
              "#fb9f3a"
             ],
             [
              0.8888888888888888,
              "#fdca26"
             ],
             [
              1,
              "#f0f921"
             ]
            ],
            "type": "contour"
           }
          ],
          "contourcarpet": [
           {
            "colorbar": {
             "outlinewidth": 0,
             "ticks": ""
            },
            "type": "contourcarpet"
           }
          ],
          "heatmap": [
           {
            "colorbar": {
             "outlinewidth": 0,
             "ticks": ""
            },
            "colorscale": [
             [
              0,
              "#0d0887"
             ],
             [
              0.1111111111111111,
              "#46039f"
             ],
             [
              0.2222222222222222,
              "#7201a8"
             ],
             [
              0.3333333333333333,
              "#9c179e"
             ],
             [
              0.4444444444444444,
              "#bd3786"
             ],
             [
              0.5555555555555556,
              "#d8576b"
             ],
             [
              0.6666666666666666,
              "#ed7953"
             ],
             [
              0.7777777777777778,
              "#fb9f3a"
             ],
             [
              0.8888888888888888,
              "#fdca26"
             ],
             [
              1,
              "#f0f921"
             ]
            ],
            "type": "heatmap"
           }
          ],
          "heatmapgl": [
           {
            "colorbar": {
             "outlinewidth": 0,
             "ticks": ""
            },
            "colorscale": [
             [
              0,
              "#0d0887"
             ],
             [
              0.1111111111111111,
              "#46039f"
             ],
             [
              0.2222222222222222,
              "#7201a8"
             ],
             [
              0.3333333333333333,
              "#9c179e"
             ],
             [
              0.4444444444444444,
              "#bd3786"
             ],
             [
              0.5555555555555556,
              "#d8576b"
             ],
             [
              0.6666666666666666,
              "#ed7953"
             ],
             [
              0.7777777777777778,
              "#fb9f3a"
             ],
             [
              0.8888888888888888,
              "#fdca26"
             ],
             [
              1,
              "#f0f921"
             ]
            ],
            "type": "heatmapgl"
           }
          ],
          "histogram": [
           {
            "marker": {
             "pattern": {
              "fillmode": "overlay",
              "size": 10,
              "solidity": 0.2
             }
            },
            "type": "histogram"
           }
          ],
          "histogram2d": [
           {
            "colorbar": {
             "outlinewidth": 0,
             "ticks": ""
            },
            "colorscale": [
             [
              0,
              "#0d0887"
             ],
             [
              0.1111111111111111,
              "#46039f"
             ],
             [
              0.2222222222222222,
              "#7201a8"
             ],
             [
              0.3333333333333333,
              "#9c179e"
             ],
             [
              0.4444444444444444,
              "#bd3786"
             ],
             [
              0.5555555555555556,
              "#d8576b"
             ],
             [
              0.6666666666666666,
              "#ed7953"
             ],
             [
              0.7777777777777778,
              "#fb9f3a"
             ],
             [
              0.8888888888888888,
              "#fdca26"
             ],
             [
              1,
              "#f0f921"
             ]
            ],
            "type": "histogram2d"
           }
          ],
          "histogram2dcontour": [
           {
            "colorbar": {
             "outlinewidth": 0,
             "ticks": ""
            },
            "colorscale": [
             [
              0,
              "#0d0887"
             ],
             [
              0.1111111111111111,
              "#46039f"
             ],
             [
              0.2222222222222222,
              "#7201a8"
             ],
             [
              0.3333333333333333,
              "#9c179e"
             ],
             [
              0.4444444444444444,
              "#bd3786"
             ],
             [
              0.5555555555555556,
              "#d8576b"
             ],
             [
              0.6666666666666666,
              "#ed7953"
             ],
             [
              0.7777777777777778,
              "#fb9f3a"
             ],
             [
              0.8888888888888888,
              "#fdca26"
             ],
             [
              1,
              "#f0f921"
             ]
            ],
            "type": "histogram2dcontour"
           }
          ],
          "mesh3d": [
           {
            "colorbar": {
             "outlinewidth": 0,
             "ticks": ""
            },
            "type": "mesh3d"
           }
          ],
          "parcoords": [
           {
            "line": {
             "colorbar": {
              "outlinewidth": 0,
              "ticks": ""
             }
            },
            "type": "parcoords"
           }
          ],
          "pie": [
           {
            "automargin": true,
            "type": "pie"
           }
          ],
          "scatter": [
           {
            "fillpattern": {
             "fillmode": "overlay",
             "size": 10,
             "solidity": 0.2
            },
            "type": "scatter"
           }
          ],
          "scatter3d": [
           {
            "line": {
             "colorbar": {
              "outlinewidth": 0,
              "ticks": ""
             }
            },
            "marker": {
             "colorbar": {
              "outlinewidth": 0,
              "ticks": ""
             }
            },
            "type": "scatter3d"
           }
          ],
          "scattercarpet": [
           {
            "marker": {
             "colorbar": {
              "outlinewidth": 0,
              "ticks": ""
             }
            },
            "type": "scattercarpet"
           }
          ],
          "scattergeo": [
           {
            "marker": {
             "colorbar": {
              "outlinewidth": 0,
              "ticks": ""
             }
            },
            "type": "scattergeo"
           }
          ],
          "scattergl": [
           {
            "marker": {
             "colorbar": {
              "outlinewidth": 0,
              "ticks": ""
             }
            },
            "type": "scattergl"
           }
          ],
          "scattermapbox": [
           {
            "marker": {
             "colorbar": {
              "outlinewidth": 0,
              "ticks": ""
             }
            },
            "type": "scattermapbox"
           }
          ],
          "scatterpolar": [
           {
            "marker": {
             "colorbar": {
              "outlinewidth": 0,
              "ticks": ""
             }
            },
            "type": "scatterpolar"
           }
          ],
          "scatterpolargl": [
           {
            "marker": {
             "colorbar": {
              "outlinewidth": 0,
              "ticks": ""
             }
            },
            "type": "scatterpolargl"
           }
          ],
          "scatterternary": [
           {
            "marker": {
             "colorbar": {
              "outlinewidth": 0,
              "ticks": ""
             }
            },
            "type": "scatterternary"
           }
          ],
          "surface": [
           {
            "colorbar": {
             "outlinewidth": 0,
             "ticks": ""
            },
            "colorscale": [
             [
              0,
              "#0d0887"
             ],
             [
              0.1111111111111111,
              "#46039f"
             ],
             [
              0.2222222222222222,
              "#7201a8"
             ],
             [
              0.3333333333333333,
              "#9c179e"
             ],
             [
              0.4444444444444444,
              "#bd3786"
             ],
             [
              0.5555555555555556,
              "#d8576b"
             ],
             [
              0.6666666666666666,
              "#ed7953"
             ],
             [
              0.7777777777777778,
              "#fb9f3a"
             ],
             [
              0.8888888888888888,
              "#fdca26"
             ],
             [
              1,
              "#f0f921"
             ]
            ],
            "type": "surface"
           }
          ],
          "table": [
           {
            "cells": {
             "fill": {
              "color": "#EBF0F8"
             },
             "line": {
              "color": "white"
             }
            },
            "header": {
             "fill": {
              "color": "#C8D4E3"
             },
             "line": {
              "color": "white"
             }
            },
            "type": "table"
           }
          ]
         },
         "layout": {
          "annotationdefaults": {
           "arrowcolor": "#2a3f5f",
           "arrowhead": 0,
           "arrowwidth": 1
          },
          "autotypenumbers": "strict",
          "coloraxis": {
           "colorbar": {
            "outlinewidth": 0,
            "ticks": ""
           }
          },
          "colorscale": {
           "diverging": [
            [
             0,
             "#8e0152"
            ],
            [
             0.1,
             "#c51b7d"
            ],
            [
             0.2,
             "#de77ae"
            ],
            [
             0.3,
             "#f1b6da"
            ],
            [
             0.4,
             "#fde0ef"
            ],
            [
             0.5,
             "#f7f7f7"
            ],
            [
             0.6,
             "#e6f5d0"
            ],
            [
             0.7,
             "#b8e186"
            ],
            [
             0.8,
             "#7fbc41"
            ],
            [
             0.9,
             "#4d9221"
            ],
            [
             1,
             "#276419"
            ]
           ],
           "sequential": [
            [
             0,
             "#0d0887"
            ],
            [
             0.1111111111111111,
             "#46039f"
            ],
            [
             0.2222222222222222,
             "#7201a8"
            ],
            [
             0.3333333333333333,
             "#9c179e"
            ],
            [
             0.4444444444444444,
             "#bd3786"
            ],
            [
             0.5555555555555556,
             "#d8576b"
            ],
            [
             0.6666666666666666,
             "#ed7953"
            ],
            [
             0.7777777777777778,
             "#fb9f3a"
            ],
            [
             0.8888888888888888,
             "#fdca26"
            ],
            [
             1,
             "#f0f921"
            ]
           ],
           "sequentialminus": [
            [
             0,
             "#0d0887"
            ],
            [
             0.1111111111111111,
             "#46039f"
            ],
            [
             0.2222222222222222,
             "#7201a8"
            ],
            [
             0.3333333333333333,
             "#9c179e"
            ],
            [
             0.4444444444444444,
             "#bd3786"
            ],
            [
             0.5555555555555556,
             "#d8576b"
            ],
            [
             0.6666666666666666,
             "#ed7953"
            ],
            [
             0.7777777777777778,
             "#fb9f3a"
            ],
            [
             0.8888888888888888,
             "#fdca26"
            ],
            [
             1,
             "#f0f921"
            ]
           ]
          },
          "colorway": [
           "#636efa",
           "#EF553B",
           "#00cc96",
           "#ab63fa",
           "#FFA15A",
           "#19d3f3",
           "#FF6692",
           "#B6E880",
           "#FF97FF",
           "#FECB52"
          ],
          "font": {
           "color": "#2a3f5f"
          },
          "geo": {
           "bgcolor": "white",
           "lakecolor": "white",
           "landcolor": "#E5ECF6",
           "showlakes": true,
           "showland": true,
           "subunitcolor": "white"
          },
          "hoverlabel": {
           "align": "left"
          },
          "hovermode": "closest",
          "mapbox": {
           "style": "light"
          },
          "paper_bgcolor": "white",
          "plot_bgcolor": "#E5ECF6",
          "polar": {
           "angularaxis": {
            "gridcolor": "white",
            "linecolor": "white",
            "ticks": ""
           },
           "bgcolor": "#E5ECF6",
           "radialaxis": {
            "gridcolor": "white",
            "linecolor": "white",
            "ticks": ""
           }
          },
          "scene": {
           "xaxis": {
            "backgroundcolor": "#E5ECF6",
            "gridcolor": "white",
            "gridwidth": 2,
            "linecolor": "white",
            "showbackground": true,
            "ticks": "",
            "zerolinecolor": "white"
           },
           "yaxis": {
            "backgroundcolor": "#E5ECF6",
            "gridcolor": "white",
            "gridwidth": 2,
            "linecolor": "white",
            "showbackground": true,
            "ticks": "",
            "zerolinecolor": "white"
           },
           "zaxis": {
            "backgroundcolor": "#E5ECF6",
            "gridcolor": "white",
            "gridwidth": 2,
            "linecolor": "white",
            "showbackground": true,
            "ticks": "",
            "zerolinecolor": "white"
           }
          },
          "shapedefaults": {
           "line": {
            "color": "#2a3f5f"
           }
          },
          "ternary": {
           "aaxis": {
            "gridcolor": "white",
            "linecolor": "white",
            "ticks": ""
           },
           "baxis": {
            "gridcolor": "white",
            "linecolor": "white",
            "ticks": ""
           },
           "bgcolor": "#E5ECF6",
           "caxis": {
            "gridcolor": "white",
            "linecolor": "white",
            "ticks": ""
           }
          },
          "title": {
           "x": 0.05
          },
          "xaxis": {
           "automargin": true,
           "gridcolor": "white",
           "linecolor": "white",
           "ticks": "",
           "title": {
            "standoff": 15
           },
           "zerolinecolor": "white",
           "zerolinewidth": 2
          },
          "yaxis": {
           "automargin": true,
           "gridcolor": "white",
           "linecolor": "white",
           "ticks": "",
           "title": {
            "standoff": 15
           },
           "zerolinecolor": "white",
           "zerolinewidth": 2
          }
         }
        },
        "title": {
         "text": "Real vs. Synthetic Data for column 'room_type'"
        },
        "xaxis": {
         "anchor": "y",
         "autorange": true,
         "domain": [
          0,
          1
         ],
         "range": [
          -0.5,
          2.5
         ],
         "title": {
          "text": "Category"
         },
         "type": "category"
        },
        "yaxis": {
         "anchor": "x",
         "autorange": true,
         "domain": [
          0,
          1
         ],
         "range": [
          0,
          0.8084210526315789
         ],
         "title": {
          "text": "Frequency"
         }
        }
       }
      },
      "text/html": [
       "<div>                            <div id=\"15d4a59b-9714-40e7-bc8b-9fd264519d59\" class=\"plotly-graph-div\" style=\"height:525px; width:100%;\"></div>            <script type=\"text/javascript\">                require([\"plotly\"], function(Plotly) {                    window.PLOTLYENV=window.PLOTLYENV || {};                                    if (document.getElementById(\"15d4a59b-9714-40e7-bc8b-9fd264519d59\")) {                    Plotly.newPlot(                        \"15d4a59b-9714-40e7-bc8b-9fd264519d59\",                        [{\"alignmentgroup\":\"True\",\"bingroup\":\"x\",\"histnorm\":\"probability density\",\"hovertemplate\":\"\\u003cb\\u003eReal\\u003c\\u002fb\\u003e\\u003cbr\\u003eFrequency: %{y}\\u003cextra\\u003e\\u003c\\u002fextra\\u003e\",\"legendgroup\":\"Real\",\"marker\":{\"color\":\"#000036\",\"pattern\":{\"shape\":\"\"}},\"name\":\"Real\",\"offsetgroup\":\"Real\",\"orientation\":\"v\",\"showlegend\":true,\"x\":[\"BASIC\",\"BASIC\",\"DELUXE\",\"BASIC\",\"BASIC\",\"BASIC\",\"BASIC\",\"BASIC\",\"BASIC\",\"BASIC\",\"BASIC\",\"BASIC\",\"BASIC\",\"BASIC\",\"BASIC\",\"BASIC\",\"DELUXE\",\"BASIC\",\"DELUXE\",\"BASIC\",\"BASIC\",\"BASIC\",\"BASIC\",\"BASIC\",\"BASIC\",\"BASIC\",\"BASIC\",\"BASIC\",\"BASIC\",\"BASIC\",\"DELUXE\",\"BASIC\",\"BASIC\",\"BASIC\",\"BASIC\",\"BASIC\",\"BASIC\",\"BASIC\",\"BASIC\",\"BASIC\",\"SUITE\",\"BASIC\",\"DELUXE\",\"BASIC\",\"BASIC\",\"BASIC\",\"BASIC\",\"BASIC\",\"BASIC\",\"SUITE\",\"DELUXE\",\"BASIC\",\"BASIC\",\"DELUXE\",\"BASIC\",\"BASIC\",\"BASIC\",\"BASIC\",\"SUITE\",\"SUITE\",\"DELUXE\",\"BASIC\",\"BASIC\",\"BASIC\",\"BASIC\",\"BASIC\",\"BASIC\",\"BASIC\",\"SUITE\",\"BASIC\",\"BASIC\",\"BASIC\",\"BASIC\",\"BASIC\",\"DELUXE\",\"BASIC\",\"BASIC\",\"BASIC\",\"BASIC\",\"BASIC\",\"BASIC\",\"BASIC\",\"BASIC\",\"BASIC\",\"BASIC\",\"BASIC\",\"BASIC\",\"BASIC\",\"SUITE\",\"BASIC\",\"BASIC\",\"BASIC\",\"BASIC\",\"BASIC\",\"BASIC\",\"BASIC\",\"BASIC\",\"BASIC\",\"BASIC\",\"DELUXE\",\"BASIC\",\"BASIC\",\"DELUXE\",\"BASIC\",\"BASIC\",\"BASIC\",\"BASIC\",\"DELUXE\",\"BASIC\",\"BASIC\",\"BASIC\",\"DELUXE\",\"BASIC\",\"BASIC\",\"DELUXE\",\"DELUXE\",\"BASIC\",\"BASIC\",\"BASIC\",\"BASIC\",\"DELUXE\",\"DELUXE\",\"BASIC\",\"BASIC\",\"BASIC\",\"BASIC\",\"BASIC\",\"BASIC\",\"BASIC\",\"BASIC\",\"BASIC\",\"BASIC\",\"BASIC\",\"BASIC\",\"BASIC\",\"BASIC\",\"DELUXE\",\"SUITE\",\"BASIC\",\"BASIC\",\"BASIC\",\"BASIC\",\"SUITE\",\"BASIC\",\"SUITE\",\"BASIC\",\"BASIC\",\"BASIC\",\"BASIC\",\"SUITE\",\"BASIC\",\"BASIC\",\"BASIC\",\"BASIC\",\"BASIC\",\"BASIC\",\"BASIC\",\"BASIC\",\"BASIC\",\"BASIC\",\"DELUXE\",\"BASIC\",\"BASIC\",\"BASIC\",\"BASIC\",\"SUITE\",\"DELUXE\",\"BASIC\",\"BASIC\",\"BASIC\",\"BASIC\",\"BASIC\",\"BASIC\",\"BASIC\",\"BASIC\",\"BASIC\",\"BASIC\",\"BASIC\",\"DELUXE\",\"SUITE\",\"BASIC\",\"BASIC\",\"BASIC\",\"SUITE\",\"BASIC\",\"DELUXE\",\"BASIC\",\"BASIC\",\"BASIC\",\"BASIC\",\"DELUXE\",\"BASIC\",\"BASIC\",\"BASIC\",\"BASIC\",\"BASIC\",\"SUITE\",\"BASIC\",\"DELUXE\",\"BASIC\",\"BASIC\",\"BASIC\",\"BASIC\",\"BASIC\",\"BASIC\",\"BASIC\",\"DELUXE\",\"BASIC\",\"DELUXE\",\"DELUXE\",\"DELUXE\",\"DELUXE\",\"BASIC\",\"BASIC\",\"BASIC\",\"DELUXE\",\"SUITE\",\"BASIC\",\"BASIC\",\"SUITE\",\"DELUXE\",\"BASIC\",\"BASIC\",\"DELUXE\",\"BASIC\",\"BASIC\",\"BASIC\",\"BASIC\",\"DELUXE\",\"BASIC\",\"BASIC\",\"BASIC\",\"BASIC\",\"BASIC\",\"BASIC\",\"BASIC\",\"SUITE\",\"BASIC\",\"BASIC\",\"DELUXE\",\"BASIC\",\"BASIC\",\"BASIC\",\"BASIC\",\"BASIC\",\"BASIC\",\"SUITE\",\"BASIC\",\"BASIC\",\"BASIC\",\"BASIC\",\"DELUXE\",\"BASIC\",\"BASIC\",\"BASIC\",\"BASIC\",\"BASIC\",\"BASIC\",\"BASIC\",\"BASIC\",\"BASIC\",\"BASIC\",\"BASIC\",\"BASIC\",\"BASIC\",\"BASIC\",\"DELUXE\",\"SUITE\",\"BASIC\",\"BASIC\",\"BASIC\",\"BASIC\",\"BASIC\",\"BASIC\",\"BASIC\",\"DELUXE\",\"BASIC\",\"SUITE\",\"SUITE\",\"DELUXE\",\"BASIC\",\"BASIC\",\"DELUXE\",\"SUITE\",\"DELUXE\",\"BASIC\",\"BASIC\",\"BASIC\",\"BASIC\",\"BASIC\",\"DELUXE\",\"DELUXE\",\"BASIC\",\"BASIC\",\"BASIC\",\"BASIC\",\"BASIC\",\"DELUXE\",\"BASIC\",\"DELUXE\",\"BASIC\",\"BASIC\",\"BASIC\",\"BASIC\",\"DELUXE\",\"BASIC\",\"BASIC\",\"BASIC\",\"BASIC\",\"DELUXE\",\"DELUXE\",\"BASIC\",\"SUITE\",\"BASIC\",\"BASIC\",\"BASIC\",\"BASIC\",\"SUITE\",\"BASIC\",\"BASIC\",\"BASIC\",\"BASIC\",\"DELUXE\",\"BASIC\",\"BASIC\",\"BASIC\",\"BASIC\",\"BASIC\",\"BASIC\",\"BASIC\",\"BASIC\",\"BASIC\",\"BASIC\",\"BASIC\",\"BASIC\",\"SUITE\",\"BASIC\",\"BASIC\",\"BASIC\",\"BASIC\",\"BASIC\",\"BASIC\",\"BASIC\",\"BASIC\",\"DELUXE\",\"BASIC\",\"BASIC\",\"DELUXE\",\"BASIC\",\"DELUXE\",\"BASIC\",\"BASIC\",\"DELUXE\",\"DELUXE\",\"DELUXE\",\"SUITE\",\"BASIC\",\"BASIC\",\"DELUXE\",\"BASIC\",\"BASIC\",\"BASIC\",\"BASIC\",\"BASIC\",\"BASIC\",\"BASIC\",\"BASIC\",\"BASIC\",\"BASIC\",\"BASIC\",\"BASIC\",\"BASIC\",\"DELUXE\",\"DELUXE\",\"BASIC\",\"BASIC\",\"BASIC\",\"BASIC\",\"BASIC\",\"DELUXE\",\"BASIC\",\"BASIC\",\"BASIC\",\"SUITE\",\"BASIC\",\"BASIC\",\"BASIC\",\"BASIC\",\"BASIC\",\"DELUXE\",\"BASIC\",\"BASIC\",\"BASIC\",\"BASIC\",\"BASIC\",\"BASIC\",\"DELUXE\",\"BASIC\",\"BASIC\",\"BASIC\",\"BASIC\",\"BASIC\",\"DELUXE\",\"BASIC\",\"BASIC\",\"BASIC\",\"BASIC\",\"DELUXE\",\"DELUXE\",\"DELUXE\",\"BASIC\",\"BASIC\",\"BASIC\",\"BASIC\",\"BASIC\",\"BASIC\",\"BASIC\",\"DELUXE\",\"BASIC\",\"DELUXE\",\"BASIC\",\"SUITE\",\"DELUXE\",\"SUITE\",\"BASIC\",\"BASIC\",\"SUITE\",\"DELUXE\",\"BASIC\",\"SUITE\",\"BASIC\",\"BASIC\",\"BASIC\",\"DELUXE\",\"BASIC\",\"BASIC\",\"SUITE\",\"DELUXE\",\"BASIC\",\"BASIC\",\"BASIC\",\"SUITE\",\"BASIC\",\"DELUXE\",\"BASIC\",\"BASIC\",\"BASIC\",\"BASIC\",\"BASIC\",\"BASIC\",\"BASIC\",\"BASIC\",\"BASIC\",\"SUITE\",\"BASIC\",\"BASIC\",\"BASIC\",\"BASIC\",\"BASIC\",\"DELUXE\",\"BASIC\",\"DELUXE\",\"BASIC\",\"DELUXE\",\"BASIC\",\"DELUXE\",\"SUITE\",\"BASIC\",\"BASIC\",\"BASIC\",\"BASIC\",\"BASIC\",\"BASIC\",\"DELUXE\",\"BASIC\",\"SUITE\",\"BASIC\",\"BASIC\",\"SUITE\",\"SUITE\",\"BASIC\",\"BASIC\",\"BASIC\",\"BASIC\",\"BASIC\",\"BASIC\",\"BASIC\",\"DELUXE\",\"BASIC\",\"BASIC\",\"BASIC\",\"BASIC\",\"DELUXE\",\"BASIC\",\"BASIC\",\"BASIC\",\"BASIC\",\"BASIC\",\"BASIC\",\"BASIC\"],\"xaxis\":\"x\",\"yaxis\":\"y\",\"type\":\"histogram\"},{\"alignmentgroup\":\"True\",\"bingroup\":\"x\",\"histnorm\":\"probability density\",\"hovertemplate\":\"\\u003cb\\u003eSynthetic\\u003c\\u002fb\\u003e\\u003cbr\\u003eFrequency: %{y}\\u003cextra\\u003e\\u003c\\u002fextra\\u003e\",\"legendgroup\":\"Synthetic\",\"marker\":{\"color\":\"#01E0C9\",\"pattern\":{\"shape\":\"\\u002f\"}},\"name\":\"Synthetic\",\"offsetgroup\":\"Synthetic\",\"orientation\":\"v\",\"showlegend\":true,\"x\":[\"BASIC\",\"DELUXE\",\"DELUXE\",\"BASIC\",\"SUITE\",\"BASIC\",\"BASIC\",\"DELUXE\",\"BASIC\",\"BASIC\",\"BASIC\",\"BASIC\",\"BASIC\",\"BASIC\",\"BASIC\",\"BASIC\",\"BASIC\",\"BASIC\",\"SUITE\",\"DELUXE\",\"BASIC\",\"DELUXE\",\"DELUXE\",\"BASIC\",\"BASIC\",\"BASIC\",\"DELUXE\",\"BASIC\",\"BASIC\",\"BASIC\",\"BASIC\",\"BASIC\",\"BASIC\",\"BASIC\",\"BASIC\",\"BASIC\",\"BASIC\",\"BASIC\",\"BASIC\",\"BASIC\",\"DELUXE\",\"BASIC\",\"DELUXE\",\"BASIC\",\"DELUXE\",\"BASIC\",\"BASIC\",\"BASIC\",\"BASIC\",\"BASIC\",\"DELUXE\",\"BASIC\",\"BASIC\",\"DELUXE\",\"BASIC\",\"DELUXE\",\"DELUXE\",\"DELUXE\",\"BASIC\",\"DELUXE\",\"BASIC\",\"DELUXE\",\"BASIC\",\"BASIC\",\"BASIC\",\"BASIC\",\"BASIC\",\"BASIC\",\"DELUXE\",\"BASIC\",\"BASIC\",\"BASIC\",\"BASIC\",\"DELUXE\",\"BASIC\",\"BASIC\",\"BASIC\",\"BASIC\",\"BASIC\",\"DELUXE\",\"BASIC\",\"BASIC\",\"BASIC\",\"BASIC\",\"BASIC\",\"BASIC\",\"BASIC\",\"BASIC\",\"BASIC\",\"BASIC\",\"BASIC\",\"BASIC\",\"BASIC\",\"BASIC\",\"BASIC\",\"BASIC\",\"DELUXE\",\"BASIC\",\"BASIC\",\"BASIC\",\"DELUXE\",\"BASIC\",\"DELUXE\",\"BASIC\",\"DELUXE\",\"BASIC\",\"BASIC\",\"BASIC\",\"DELUXE\",\"DELUXE\",\"BASIC\",\"DELUXE\",\"DELUXE\",\"DELUXE\",\"BASIC\",\"BASIC\",\"DELUXE\",\"BASIC\",\"DELUXE\",\"BASIC\",\"BASIC\",\"DELUXE\",\"BASIC\",\"SUITE\",\"BASIC\",\"BASIC\",\"BASIC\",\"BASIC\",\"BASIC\",\"BASIC\",\"BASIC\",\"DELUXE\",\"BASIC\",\"DELUXE\",\"BASIC\",\"BASIC\",\"BASIC\",\"BASIC\",\"BASIC\",\"BASIC\",\"BASIC\",\"BASIC\",\"BASIC\",\"DELUXE\",\"BASIC\",\"BASIC\",\"BASIC\",\"DELUXE\",\"BASIC\",\"BASIC\",\"BASIC\",\"BASIC\",\"BASIC\",\"BASIC\",\"DELUXE\",\"DELUXE\",\"DELUXE\",\"BASIC\",\"BASIC\",\"DELUXE\",\"DELUXE\",\"DELUXE\",\"BASIC\",\"BASIC\",\"DELUXE\",\"BASIC\",\"BASIC\",\"BASIC\",\"BASIC\",\"BASIC\",\"BASIC\",\"BASIC\",\"DELUXE\",\"BASIC\",\"BASIC\",\"BASIC\",\"DELUXE\",\"BASIC\",\"BASIC\",\"DELUXE\",\"BASIC\",\"BASIC\",\"DELUXE\",\"SUITE\",\"BASIC\",\"BASIC\",\"BASIC\",\"BASIC\",\"BASIC\",\"DELUXE\",\"BASIC\",\"DELUXE\",\"BASIC\",\"DELUXE\",\"BASIC\",\"BASIC\",\"BASIC\",\"BASIC\",\"BASIC\",\"BASIC\",\"BASIC\",\"BASIC\",\"BASIC\",\"BASIC\",\"BASIC\",\"BASIC\",\"BASIC\",\"BASIC\",\"BASIC\",\"BASIC\",\"BASIC\",\"BASIC\",\"BASIC\",\"BASIC\",\"BASIC\",\"DELUXE\",\"DELUXE\",\"BASIC\",\"BASIC\",\"BASIC\",\"DELUXE\",\"SUITE\",\"BASIC\",\"BASIC\",\"BASIC\",\"BASIC\",\"BASIC\",\"BASIC\",\"DELUXE\",\"SUITE\",\"BASIC\",\"BASIC\",\"BASIC\",\"BASIC\",\"DELUXE\",\"BASIC\",\"BASIC\",\"BASIC\",\"BASIC\",\"BASIC\",\"DELUXE\",\"DELUXE\",\"BASIC\",\"BASIC\",\"BASIC\",\"SUITE\",\"BASIC\",\"BASIC\",\"BASIC\",\"SUITE\",\"DELUXE\",\"BASIC\",\"BASIC\",\"BASIC\",\"BASIC\",\"BASIC\",\"BASIC\",\"BASIC\",\"BASIC\",\"BASIC\",\"BASIC\",\"BASIC\",\"DELUXE\",\"DELUXE\",\"DELUXE\",\"DELUXE\",\"BASIC\",\"BASIC\",\"DELUXE\",\"BASIC\",\"BASIC\",\"BASIC\",\"BASIC\",\"BASIC\",\"BASIC\",\"BASIC\",\"BASIC\",\"BASIC\",\"BASIC\",\"BASIC\",\"BASIC\",\"BASIC\",\"BASIC\",\"DELUXE\",\"BASIC\",\"DELUXE\",\"BASIC\",\"DELUXE\",\"BASIC\",\"DELUXE\",\"BASIC\",\"BASIC\",\"BASIC\",\"DELUXE\",\"BASIC\",\"BASIC\",\"BASIC\",\"BASIC\",\"BASIC\",\"BASIC\",\"BASIC\",\"DELUXE\",\"BASIC\",\"BASIC\",\"BASIC\",\"BASIC\",\"BASIC\",\"BASIC\",\"BASIC\",\"BASIC\",\"BASIC\",\"BASIC\",\"DELUXE\",\"BASIC\",\"BASIC\",\"DELUXE\",\"BASIC\",\"BASIC\",\"BASIC\",\"DELUXE\",\"BASIC\",\"DELUXE\",\"DELUXE\",\"DELUXE\",\"BASIC\",\"SUITE\",\"BASIC\",\"BASIC\",\"BASIC\",\"DELUXE\",\"DELUXE\",\"BASIC\",\"BASIC\",\"DELUXE\",\"BASIC\",\"DELUXE\",\"BASIC\",\"BASIC\",\"BASIC\",\"DELUXE\",\"BASIC\",\"BASIC\",\"BASIC\",\"BASIC\",\"BASIC\",\"BASIC\",\"BASIC\",\"BASIC\",\"DELUXE\",\"DELUXE\",\"DELUXE\",\"BASIC\",\"BASIC\",\"BASIC\",\"BASIC\",\"BASIC\",\"DELUXE\",\"BASIC\",\"BASIC\",\"SUITE\",\"DELUXE\",\"BASIC\",\"BASIC\",\"BASIC\",\"DELUXE\",\"BASIC\",\"BASIC\",\"BASIC\",\"BASIC\",\"BASIC\",\"BASIC\",\"DELUXE\",\"BASIC\",\"DELUXE\",\"BASIC\",\"BASIC\",\"DELUXE\",\"BASIC\",\"BASIC\",\"BASIC\",\"BASIC\",\"BASIC\",\"BASIC\",\"DELUXE\",\"BASIC\",\"BASIC\",\"BASIC\",\"BASIC\",\"BASIC\",\"BASIC\",\"DELUXE\",\"BASIC\",\"BASIC\",\"BASIC\",\"DELUXE\",\"BASIC\",\"DELUXE\",\"BASIC\",\"BASIC\",\"BASIC\",\"DELUXE\",\"DELUXE\",\"BASIC\",\"BASIC\",\"BASIC\",\"DELUXE\",\"BASIC\",\"BASIC\",\"BASIC\",\"BASIC\",\"BASIC\",\"BASIC\",\"BASIC\",\"BASIC\",\"DELUXE\",\"BASIC\",\"BASIC\",\"DELUXE\",\"BASIC\",\"BASIC\",\"BASIC\",\"DELUXE\",\"BASIC\",\"BASIC\",\"BASIC\",\"BASIC\",\"DELUXE\",\"BASIC\",\"DELUXE\",\"BASIC\",\"BASIC\",\"BASIC\",\"SUITE\",\"DELUXE\",\"DELUXE\",\"BASIC\",\"BASIC\",\"BASIC\",\"BASIC\",\"SUITE\",\"BASIC\",\"DELUXE\",\"BASIC\",\"DELUXE\",\"BASIC\",\"BASIC\",\"BASIC\",\"BASIC\",\"BASIC\",\"BASIC\",\"BASIC\",\"DELUXE\",\"DELUXE\",\"BASIC\",\"BASIC\",\"SUITE\",\"BASIC\",\"BASIC\",\"DELUXE\",\"BASIC\",\"BASIC\",\"BASIC\",\"DELUXE\",\"SUITE\",\"BASIC\",\"SUITE\",\"BASIC\",\"BASIC\",\"DELUXE\",\"DELUXE\",\"BASIC\",\"DELUXE\",\"BASIC\",\"BASIC\",\"BASIC\",\"BASIC\",\"BASIC\",\"SUITE\",\"DELUXE\",\"BASIC\",\"BASIC\",\"BASIC\",\"BASIC\",\"BASIC\",\"DELUXE\",\"DELUXE\",\"BASIC\",\"DELUXE\",\"BASIC\",\"BASIC\",\"BASIC\",\"BASIC\",\"BASIC\",\"DELUXE\",\"DELUXE\",\"DELUXE\",\"DELUXE\",\"BASIC\",\"BASIC\",\"DELUXE\"],\"xaxis\":\"x\",\"yaxis\":\"y\",\"type\":\"histogram\"}],                        {\"template\":{\"data\":{\"histogram2dcontour\":[{\"type\":\"histogram2dcontour\",\"colorbar\":{\"outlinewidth\":0,\"ticks\":\"\"},\"colorscale\":[[0.0,\"#0d0887\"],[0.1111111111111111,\"#46039f\"],[0.2222222222222222,\"#7201a8\"],[0.3333333333333333,\"#9c179e\"],[0.4444444444444444,\"#bd3786\"],[0.5555555555555556,\"#d8576b\"],[0.6666666666666666,\"#ed7953\"],[0.7777777777777778,\"#fb9f3a\"],[0.8888888888888888,\"#fdca26\"],[1.0,\"#f0f921\"]]}],\"choropleth\":[{\"type\":\"choropleth\",\"colorbar\":{\"outlinewidth\":0,\"ticks\":\"\"}}],\"histogram2d\":[{\"type\":\"histogram2d\",\"colorbar\":{\"outlinewidth\":0,\"ticks\":\"\"},\"colorscale\":[[0.0,\"#0d0887\"],[0.1111111111111111,\"#46039f\"],[0.2222222222222222,\"#7201a8\"],[0.3333333333333333,\"#9c179e\"],[0.4444444444444444,\"#bd3786\"],[0.5555555555555556,\"#d8576b\"],[0.6666666666666666,\"#ed7953\"],[0.7777777777777778,\"#fb9f3a\"],[0.8888888888888888,\"#fdca26\"],[1.0,\"#f0f921\"]]}],\"heatmap\":[{\"type\":\"heatmap\",\"colorbar\":{\"outlinewidth\":0,\"ticks\":\"\"},\"colorscale\":[[0.0,\"#0d0887\"],[0.1111111111111111,\"#46039f\"],[0.2222222222222222,\"#7201a8\"],[0.3333333333333333,\"#9c179e\"],[0.4444444444444444,\"#bd3786\"],[0.5555555555555556,\"#d8576b\"],[0.6666666666666666,\"#ed7953\"],[0.7777777777777778,\"#fb9f3a\"],[0.8888888888888888,\"#fdca26\"],[1.0,\"#f0f921\"]]}],\"heatmapgl\":[{\"type\":\"heatmapgl\",\"colorbar\":{\"outlinewidth\":0,\"ticks\":\"\"},\"colorscale\":[[0.0,\"#0d0887\"],[0.1111111111111111,\"#46039f\"],[0.2222222222222222,\"#7201a8\"],[0.3333333333333333,\"#9c179e\"],[0.4444444444444444,\"#bd3786\"],[0.5555555555555556,\"#d8576b\"],[0.6666666666666666,\"#ed7953\"],[0.7777777777777778,\"#fb9f3a\"],[0.8888888888888888,\"#fdca26\"],[1.0,\"#f0f921\"]]}],\"contourcarpet\":[{\"type\":\"contourcarpet\",\"colorbar\":{\"outlinewidth\":0,\"ticks\":\"\"}}],\"contour\":[{\"type\":\"contour\",\"colorbar\":{\"outlinewidth\":0,\"ticks\":\"\"},\"colorscale\":[[0.0,\"#0d0887\"],[0.1111111111111111,\"#46039f\"],[0.2222222222222222,\"#7201a8\"],[0.3333333333333333,\"#9c179e\"],[0.4444444444444444,\"#bd3786\"],[0.5555555555555556,\"#d8576b\"],[0.6666666666666666,\"#ed7953\"],[0.7777777777777778,\"#fb9f3a\"],[0.8888888888888888,\"#fdca26\"],[1.0,\"#f0f921\"]]}],\"surface\":[{\"type\":\"surface\",\"colorbar\":{\"outlinewidth\":0,\"ticks\":\"\"},\"colorscale\":[[0.0,\"#0d0887\"],[0.1111111111111111,\"#46039f\"],[0.2222222222222222,\"#7201a8\"],[0.3333333333333333,\"#9c179e\"],[0.4444444444444444,\"#bd3786\"],[0.5555555555555556,\"#d8576b\"],[0.6666666666666666,\"#ed7953\"],[0.7777777777777778,\"#fb9f3a\"],[0.8888888888888888,\"#fdca26\"],[1.0,\"#f0f921\"]]}],\"mesh3d\":[{\"type\":\"mesh3d\",\"colorbar\":{\"outlinewidth\":0,\"ticks\":\"\"}}],\"scatter\":[{\"fillpattern\":{\"fillmode\":\"overlay\",\"size\":10,\"solidity\":0.2},\"type\":\"scatter\"}],\"parcoords\":[{\"type\":\"parcoords\",\"line\":{\"colorbar\":{\"outlinewidth\":0,\"ticks\":\"\"}}}],\"scatterpolargl\":[{\"type\":\"scatterpolargl\",\"marker\":{\"colorbar\":{\"outlinewidth\":0,\"ticks\":\"\"}}}],\"bar\":[{\"error_x\":{\"color\":\"#2a3f5f\"},\"error_y\":{\"color\":\"#2a3f5f\"},\"marker\":{\"line\":{\"color\":\"#E5ECF6\",\"width\":0.5},\"pattern\":{\"fillmode\":\"overlay\",\"size\":10,\"solidity\":0.2}},\"type\":\"bar\"}],\"scattergeo\":[{\"type\":\"scattergeo\",\"marker\":{\"colorbar\":{\"outlinewidth\":0,\"ticks\":\"\"}}}],\"scatterpolar\":[{\"type\":\"scatterpolar\",\"marker\":{\"colorbar\":{\"outlinewidth\":0,\"ticks\":\"\"}}}],\"histogram\":[{\"marker\":{\"pattern\":{\"fillmode\":\"overlay\",\"size\":10,\"solidity\":0.2}},\"type\":\"histogram\"}],\"scattergl\":[{\"type\":\"scattergl\",\"marker\":{\"colorbar\":{\"outlinewidth\":0,\"ticks\":\"\"}}}],\"scatter3d\":[{\"type\":\"scatter3d\",\"line\":{\"colorbar\":{\"outlinewidth\":0,\"ticks\":\"\"}},\"marker\":{\"colorbar\":{\"outlinewidth\":0,\"ticks\":\"\"}}}],\"scattermapbox\":[{\"type\":\"scattermapbox\",\"marker\":{\"colorbar\":{\"outlinewidth\":0,\"ticks\":\"\"}}}],\"scatterternary\":[{\"type\":\"scatterternary\",\"marker\":{\"colorbar\":{\"outlinewidth\":0,\"ticks\":\"\"}}}],\"scattercarpet\":[{\"type\":\"scattercarpet\",\"marker\":{\"colorbar\":{\"outlinewidth\":0,\"ticks\":\"\"}}}],\"carpet\":[{\"aaxis\":{\"endlinecolor\":\"#2a3f5f\",\"gridcolor\":\"white\",\"linecolor\":\"white\",\"minorgridcolor\":\"white\",\"startlinecolor\":\"#2a3f5f\"},\"baxis\":{\"endlinecolor\":\"#2a3f5f\",\"gridcolor\":\"white\",\"linecolor\":\"white\",\"minorgridcolor\":\"white\",\"startlinecolor\":\"#2a3f5f\"},\"type\":\"carpet\"}],\"table\":[{\"cells\":{\"fill\":{\"color\":\"#EBF0F8\"},\"line\":{\"color\":\"white\"}},\"header\":{\"fill\":{\"color\":\"#C8D4E3\"},\"line\":{\"color\":\"white\"}},\"type\":\"table\"}],\"barpolar\":[{\"marker\":{\"line\":{\"color\":\"#E5ECF6\",\"width\":0.5},\"pattern\":{\"fillmode\":\"overlay\",\"size\":10,\"solidity\":0.2}},\"type\":\"barpolar\"}],\"pie\":[{\"automargin\":true,\"type\":\"pie\"}]},\"layout\":{\"autotypenumbers\":\"strict\",\"colorway\":[\"#636efa\",\"#EF553B\",\"#00cc96\",\"#ab63fa\",\"#FFA15A\",\"#19d3f3\",\"#FF6692\",\"#B6E880\",\"#FF97FF\",\"#FECB52\"],\"font\":{\"color\":\"#2a3f5f\"},\"hovermode\":\"closest\",\"hoverlabel\":{\"align\":\"left\"},\"paper_bgcolor\":\"white\",\"plot_bgcolor\":\"#E5ECF6\",\"polar\":{\"bgcolor\":\"#E5ECF6\",\"angularaxis\":{\"gridcolor\":\"white\",\"linecolor\":\"white\",\"ticks\":\"\"},\"radialaxis\":{\"gridcolor\":\"white\",\"linecolor\":\"white\",\"ticks\":\"\"}},\"ternary\":{\"bgcolor\":\"#E5ECF6\",\"aaxis\":{\"gridcolor\":\"white\",\"linecolor\":\"white\",\"ticks\":\"\"},\"baxis\":{\"gridcolor\":\"white\",\"linecolor\":\"white\",\"ticks\":\"\"},\"caxis\":{\"gridcolor\":\"white\",\"linecolor\":\"white\",\"ticks\":\"\"}},\"coloraxis\":{\"colorbar\":{\"outlinewidth\":0,\"ticks\":\"\"}},\"colorscale\":{\"sequential\":[[0.0,\"#0d0887\"],[0.1111111111111111,\"#46039f\"],[0.2222222222222222,\"#7201a8\"],[0.3333333333333333,\"#9c179e\"],[0.4444444444444444,\"#bd3786\"],[0.5555555555555556,\"#d8576b\"],[0.6666666666666666,\"#ed7953\"],[0.7777777777777778,\"#fb9f3a\"],[0.8888888888888888,\"#fdca26\"],[1.0,\"#f0f921\"]],\"sequentialminus\":[[0.0,\"#0d0887\"],[0.1111111111111111,\"#46039f\"],[0.2222222222222222,\"#7201a8\"],[0.3333333333333333,\"#9c179e\"],[0.4444444444444444,\"#bd3786\"],[0.5555555555555556,\"#d8576b\"],[0.6666666666666666,\"#ed7953\"],[0.7777777777777778,\"#fb9f3a\"],[0.8888888888888888,\"#fdca26\"],[1.0,\"#f0f921\"]],\"diverging\":[[0,\"#8e0152\"],[0.1,\"#c51b7d\"],[0.2,\"#de77ae\"],[0.3,\"#f1b6da\"],[0.4,\"#fde0ef\"],[0.5,\"#f7f7f7\"],[0.6,\"#e6f5d0\"],[0.7,\"#b8e186\"],[0.8,\"#7fbc41\"],[0.9,\"#4d9221\"],[1,\"#276419\"]]},\"xaxis\":{\"gridcolor\":\"white\",\"linecolor\":\"white\",\"ticks\":\"\",\"title\":{\"standoff\":15},\"zerolinecolor\":\"white\",\"automargin\":true,\"zerolinewidth\":2},\"yaxis\":{\"gridcolor\":\"white\",\"linecolor\":\"white\",\"ticks\":\"\",\"title\":{\"standoff\":15},\"zerolinecolor\":\"white\",\"automargin\":true,\"zerolinewidth\":2},\"scene\":{\"xaxis\":{\"backgroundcolor\":\"#E5ECF6\",\"gridcolor\":\"white\",\"linecolor\":\"white\",\"showbackground\":true,\"ticks\":\"\",\"zerolinecolor\":\"white\",\"gridwidth\":2},\"yaxis\":{\"backgroundcolor\":\"#E5ECF6\",\"gridcolor\":\"white\",\"linecolor\":\"white\",\"showbackground\":true,\"ticks\":\"\",\"zerolinecolor\":\"white\",\"gridwidth\":2},\"zaxis\":{\"backgroundcolor\":\"#E5ECF6\",\"gridcolor\":\"white\",\"linecolor\":\"white\",\"showbackground\":true,\"ticks\":\"\",\"zerolinecolor\":\"white\",\"gridwidth\":2}},\"shapedefaults\":{\"line\":{\"color\":\"#2a3f5f\"}},\"annotationdefaults\":{\"arrowcolor\":\"#2a3f5f\",\"arrowhead\":0,\"arrowwidth\":1},\"geo\":{\"bgcolor\":\"white\",\"landcolor\":\"#E5ECF6\",\"subunitcolor\":\"white\",\"showland\":true,\"showlakes\":true,\"lakecolor\":\"white\"},\"title\":{\"x\":0.05},\"mapbox\":{\"style\":\"light\"}}},\"xaxis\":{\"anchor\":\"y\",\"domain\":[0.0,1.0],\"title\":{\"text\":\"Category\"}},\"yaxis\":{\"anchor\":\"x\",\"domain\":[0.0,1.0],\"title\":{\"text\":\"Frequency\"}},\"legend\":{\"title\":{\"text\":\"Data\"},\"tracegroupgap\":0},\"margin\":{\"t\":60},\"barmode\":\"group\",\"title\":{\"text\":\"Real vs. Synthetic Data for column 'room_type'\"},\"plot_bgcolor\":\"#F5F5F8\"},                        {\"responsive\": true}                    ).then(function(){\n",
       "                            \n",
       "var gd = document.getElementById('15d4a59b-9714-40e7-bc8b-9fd264519d59');\n",
       "var x = new MutationObserver(function (mutations, observer) {{\n",
       "        var display = window.getComputedStyle(gd).display;\n",
       "        if (!display || display === 'none') {{\n",
       "            console.log([gd, 'removed!']);\n",
       "            Plotly.purge(gd);\n",
       "            observer.disconnect();\n",
       "        }}\n",
       "}});\n",
       "\n",
       "// Listen for the removal of the full notebook cells\n",
       "var notebookContainer = gd.closest('#notebook-container');\n",
       "if (notebookContainer) {{\n",
       "    x.observe(notebookContainer, {childList: true});\n",
       "}}\n",
       "\n",
       "// Listen for the clearing of the current output cell\n",
       "var outputEl = gd.closest('.output');\n",
       "if (outputEl) {{\n",
       "    x.observe(outputEl, {childList: true});\n",
       "}}\n",
       "\n",
       "                        })                };                });            </script>        </div>"
      ]
     },
     "metadata": {},
     "output_type": "display_data"
    }
   ],
   "source": [
    "# visualizing the data\n",
    "\n",
    "from sdv.evaluation.single_table import get_column_plot\n",
    "\n",
    "fig = get_column_plot(\n",
    "    real_data=real_data,\n",
    "    synthetic_data=synthetic_data,\n",
    "    column_name=\"room_type\",\n",
    "    metadata=metadata\n",
    ")\n",
    "\n",
    "fig.show()"
   ]
  },
  {
   "cell_type": "code",
   "execution_count": 223,
   "id": "02ee6ed2-fada-4983-b527-39518df84244",
   "metadata": {},
   "outputs": [
    {
     "data": {
      "application/vnd.plotly.v1+json": {
       "config": {
        "plotlyServerURL": "https://plot.ly"
       },
       "data": [
        {
         "fill": "tozeroy",
         "hovertemplate": "<b>Real</b><br>Value: %{x}<br>Frequency: %{y}<extra></extra>",
         "legendgroup": "Real",
         "marker": {
          "color": "#000036"
         },
         "mode": "lines",
         "name": "Real",
         "showlegend": true,
         "type": "scatter",
         "x": [
          83.8,
          84.48208,
          85.16416,
          85.84624,
          86.52832,
          87.21039999999999,
          87.89247999999999,
          88.57455999999999,
          89.25663999999999,
          89.93871999999999,
          90.6208,
          91.30288,
          91.98496,
          92.66704,
          93.34912,
          94.0312,
          94.71328,
          95.39536,
          96.07744,
          96.75952,
          97.4416,
          98.12368,
          98.80575999999999,
          99.48783999999999,
          100.16991999999999,
          100.852,
          101.53407999999999,
          102.21616,
          102.89823999999999,
          103.58032,
          104.2624,
          104.94448,
          105.62656,
          106.30864,
          106.99072,
          107.6728,
          108.35488,
          109.03696,
          109.71903999999999,
          110.40111999999999,
          111.08319999999999,
          111.76527999999999,
          112.44735999999999,
          113.12943999999999,
          113.81152,
          114.4936,
          115.17568,
          115.85775999999998,
          116.53984,
          117.22192,
          117.904,
          118.58607999999998,
          119.26816,
          119.95024,
          120.63231999999999,
          121.31439999999999,
          121.99647999999999,
          122.67856,
          123.36063999999999,
          124.04271999999999,
          124.72479999999999,
          125.40688,
          126.08895999999999,
          126.77104,
          127.45311999999998,
          128.1352,
          128.81727999999998,
          129.49936,
          130.18144,
          130.86352,
          131.54559999999998,
          132.22768,
          132.90976,
          133.59184,
          134.27392,
          134.956,
          135.63808,
          136.32016,
          137.00223999999997,
          137.68431999999999,
          138.3664,
          139.04847999999998,
          139.73056,
          140.41263999999998,
          141.09472,
          141.77679999999998,
          142.45888,
          143.14095999999998,
          143.82304,
          144.50511999999998,
          145.1872,
          145.86928,
          146.55136,
          147.23344,
          147.91552,
          148.5976,
          149.27967999999998,
          149.96176,
          150.64384,
          151.32592,
          152.00799999999998,
          152.69007999999997,
          153.37215999999998,
          154.05424,
          154.73631999999998,
          155.4184,
          156.10048,
          156.78256,
          157.46463999999997,
          158.14672,
          158.8288,
          159.51088,
          160.19295999999997,
          160.87503999999998,
          161.55712,
          162.23919999999998,
          162.92128,
          163.60335999999998,
          164.28544,
          164.96751999999998,
          165.6496,
          166.33168,
          167.01376,
          167.69583999999998,
          168.37791999999996,
          169.06,
          169.74208,
          170.42415999999997,
          171.10623999999999,
          171.78832,
          172.47039999999998,
          173.15248,
          173.83456,
          174.51664,
          175.19871999999998,
          175.88079999999997,
          176.56288,
          177.24496,
          177.92703999999998,
          178.60912,
          179.29119999999998,
          179.97328,
          180.65535999999997,
          181.33744,
          182.01952,
          182.70159999999998,
          183.38367999999997,
          184.06576,
          184.74784,
          185.42991999999998,
          186.11199999999997,
          186.79407999999998,
          187.47616,
          188.15823999999998,
          188.84032,
          189.5224,
          190.20448,
          190.88655999999997,
          191.56864,
          192.25072,
          192.9328,
          193.61487999999997,
          194.29695999999998,
          194.97904,
          195.66111999999998,
          196.34319999999997,
          197.02527999999998,
          197.70736,
          198.38943999999998,
          199.07152,
          199.7536,
          200.43568,
          201.11775999999998,
          201.79983999999996,
          202.48191999999997,
          203.164,
          203.84607999999997,
          204.52815999999999,
          205.21024,
          205.89231999999998,
          206.5744,
          207.25647999999998,
          207.93856,
          208.62063999999998,
          209.30271999999997,
          209.98479999999998,
          210.66688,
          211.34895999999998,
          212.03103999999996,
          212.71312,
          213.3952,
          214.07727999999997,
          214.75935999999996,
          215.44143999999994,
          216.12351999999998,
          216.80559999999997,
          217.48768,
          218.16976,
          218.85183999999998,
          219.53391999999997,
          220.216,
          220.89808,
          221.58015999999998,
          222.26223999999996,
          222.94431999999995,
          223.6264,
          224.30847999999997,
          224.99056000000002,
          225.67264,
          226.35472,
          227.03679999999997,
          227.71887999999996,
          228.40096,
          229.08303999999998,
          229.76511999999997,
          230.44719999999995,
          231.12928,
          231.81135999999998,
          232.49343999999996,
          233.17552,
          233.8576,
          234.53967999999998,
          235.22175999999996,
          235.90384,
          236.58592,
          237.26799999999997,
          237.95007999999996,
          238.63216,
          239.31423999999998,
          239.99631999999997,
          240.6784,
          241.36048,
          242.04255999999998,
          242.72463999999997,
          243.40671999999995,
          244.0888,
          244.77087999999998,
          245.45295999999996,
          246.13504,
          246.81712,
          247.49919999999997,
          248.18127999999996,
          248.86336,
          249.54543999999999,
          250.22751999999997,
          250.90959999999995,
          251.59168,
          252.27375999999998,
          252.95583999999997,
          253.63792,
          254.32,
          255.00207999999998,
          255.68415999999996,
          256.36624,
          257.04832,
          257.7304,
          258.41247999999996,
          259.09455999999994,
          259.77664,
          260.45871999999997,
          261.1408,
          261.82288,
          262.50496,
          263.18703999999997,
          263.86912,
          264.5512,
          265.23328,
          265.91535999999996,
          266.59743999999995,
          267.27952,
          267.9616,
          268.64368,
          269.32576,
          270.00784,
          270.68992,
          271.37199999999996,
          272.05408,
          272.73616,
          273.41823999999997,
          274.10031999999995,
          274.78239999999994,
          275.46448,
          276.14655999999997,
          276.82864,
          277.51072,
          278.1928,
          278.87487999999996,
          279.55696,
          280.23904,
          280.92112,
          281.60319999999996,
          282.28527999999994,
          282.96736,
          283.64943999999997,
          284.33152,
          285.0136,
          285.69568,
          286.37775999999997,
          287.05983999999995,
          287.74192,
          288.424,
          289.10607999999996,
          289.78815999999995,
          290.47024,
          291.15232,
          291.83439999999996,
          292.51648,
          293.19856,
          293.88063999999997,
          294.56271999999996,
          295.2448,
          295.92688,
          296.60895999999997,
          297.29103999999995,
          297.97311999999994,
          298.6552,
          299.33727999999996,
          300.01936,
          300.70144,
          301.38352,
          302.06559999999996,
          302.74767999999995,
          303.42976,
          304.11184,
          304.79391999999996,
          305.47599999999994,
          306.15808,
          306.84015999999997,
          307.52224,
          308.20432,
          308.8864,
          309.56847999999997,
          310.25055999999995,
          310.93264,
          311.61472,
          312.29679999999996,
          312.97887999999995,
          313.66095999999993,
          314.34304,
          315.02511999999996,
          315.7072,
          316.38928,
          317.07135999999997,
          317.75343999999996,
          318.43551999999994,
          319.1176,
          319.79967999999997,
          320.48175999999995,
          321.16383999999994,
          321.84592,
          322.52799999999996,
          323.21008,
          323.89216,
          324.57424,
          325.25631999999996,
          325.93839999999994,
          326.62048,
          327.30255999999997,
          327.98463999999996,
          328.66671999999994,
          329.3488,
          330.03087999999997,
          330.71295999999995,
          331.39504,
          332.07712,
          332.75919999999996,
          333.44127999999995,
          334.12336,
          334.80544,
          335.48751999999996,
          336.16959999999995,
          336.85168,
          337.53376,
          338.21583999999996,
          338.89792,
          339.58,
          340.26207999999997,
          340.94416,
          341.62624,
          342.30832,
          342.99039999999997,
          343.67248,
          344.35456,
          345.03664,
          345.71871999999996,
          346.4008,
          347.08287999999993,
          347.76496,
          348.44704,
          349.12912,
          349.8112,
          350.49327999999997,
          351.17536,
          351.85743999999994,
          352.53952,
          353.22159999999997,
          353.90368,
          354.58575999999994,
          355.26784,
          355.94992,
          356.632,
          357.31408,
          357.99616,
          358.67824,
          359.36031999999994,
          360.0424,
          360.72447999999997,
          361.40656,
          362.08863999999994,
          362.77072,
          363.4528,
          364.13487999999995,
          364.81696,
          365.49904,
          366.18112,
          366.86319999999995,
          367.54528,
          368.22736,
          368.90943999999996,
          369.59151999999995,
          370.2736,
          370.95568000000003,
          371.63775999999996,
          372.31984,
          373.00192,
          373.68399999999997,
          374.36607999999995,
          375.04816,
          375.73024,
          376.41231999999997,
          377.09439999999995,
          377.77648,
          378.45856,
          379.14063999999996,
          379.82272,
          380.5048,
          381.18688,
          381.86895999999996,
          382.55104,
          383.23312,
          383.91519999999997,
          384.59727999999996,
          385.27936,
          385.96144,
          386.64351999999997,
          387.3256,
          388.00768,
          388.68976,
          389.37183999999996,
          390.05392,
          390.73599999999993,
          391.41808,
          392.10015999999996,
          392.78224,
          393.46432,
          394.14639999999997,
          394.82848,
          395.51055999999994,
          396.19264,
          396.87471999999997,
          397.5568,
          398.23887999999994,
          398.92096,
          399.60303999999996,
          400.28512,
          400.9672,
          401.64928,
          402.33136,
          403.01343999999995,
          403.69552,
          404.3776,
          405.05968,
          405.74175999999994,
          406.42384,
          407.10591999999997,
          407.78799999999995,
          408.47008,
          409.15216,
          409.83424,
          410.51631999999995,
          411.1984,
          411.88048,
          412.56255999999996,
          413.24463999999995,
          413.92672,
          414.6088,
          415.29087999999996,
          415.97296,
          416.65504,
          417.33711999999997,
          418.01919999999996,
          418.70128,
          419.38336,
          420.06543999999997,
          420.74751999999995,
          421.4296,
          422.1116799999999,
          422.79375999999996,
          423.47584,
          424.15792
         ],
         "xaxis": "x",
         "y": [
          0.0029921027765274963,
          0.0031745052654736537,
          0.0033638606016342877,
          0.0035600776665581464,
          0.003763030945208623,
          0.0039725592246930425,
          0.004188464490108043,
          0.004410511039705895,
          0.004638424840413247,
          0.004871893143216958,
          0.005110564376075185,
          0.005354048329823994,
          0.005601916650045917,
          0.005853703645067348,
          0.00610890741718417,
          0.006366991320911049,
          0.006627385748547719,
          0.006889490239698289,
          0.0071526759076138285,
          0.007416288171405229,
          0.00767964977934694,
          0.00794206410471673,
          0.00820281869195219,
          0.008461189027404337,
          0.008716442505693004,
          0.008967842559668784,
          0.009214652919314947,
          0.009456141962628938,
          0.009691587119646516,
          0.009920279289352544,
          0.010141527228289605,
          0.010354661869253318,
          0.010559040528566046,
          0.010754050961058347,
          0.010939115223056359,
          0.011113693305366204,
          0.011277286500444858,
          0.0114294404706237,
          0.011569747987374028,
          0.011697851315129503,
          0.011813444217063,
          0.011916273564398413,
          0.012006140535264258,
          0.01208290139370097,
          0.012146467844153396,
          0.012196806961543497,
          0.01223394070176082,
          0.01225794500205874,
          0.012268948485338892,
          0.012267130786580269,
          0.01225272052366373,
          0.012225992938503842,
          0.012187267237676517,
          0.012136903664585117,
          0.01207530033759924,
          0.012002889890506496,
          0.01192013595301621,
          0.011827529509935316,
          0.011725585177996618,
          0.011614837439165844,
          0.011495836868596718,
          0.011369146394265643,
          0.011235337623727153,
          0.011094987271420253,
          0.010948673717567602,
          0.010796973726984054,
          0.010640459353102885,
          0.010479695049282676,
          0.010315235006034694,
          0.010147620729260365,
          0.009977378870969873,
          0.009805019320317427,
          0.00963103355919244,
          0.009455893283096498,
          0.009280049284664056,
          0.00910393059399126,
          0.008927943866964175,
          0.008752473010057984,
          0.008577879027642649,
          0.008404500075703173,
          0.008232651704079871,
          0.008062627267872676,
          0.007894698487536794,
          0.007729116136430808,
          0.007566110834155007,
          0.007405893923933123,
          0.007248658412527744,
          0.007094579951724805,
          0.006943817841250644,
          0.006796516034076914,
          0.006652804126390604,
          0.006512798316035633,
          0.0063766023149326705,
          0.006244308202825398,
          0.006115997211651026,
          0.005991740431855405,
          0.0058715994340392584,
          0.005755626801395069,
          0.005643866570447565,
          0.005536354579611255,
          0.005433118727001065,
          0.005334179140749684,
          0.005239548266775141,
          0.005149230880484231,
          0.0050632240302730305,
          0.00498151692188066,
          0.0049040907536545665,
          0.004830918513585503,
          0.004761964749562884,
          0.0046971853246828045,
          0.0046365271696117046,
          0.004579928043971949,
          0.004527316318476371,
          0.0044786107891054755,
          0.004433720534005178,
          0.004392544822995633,
          0.00435497308864051,
          0.0043208849667457855,
          0.004290150412957257,
          0.004262629900826802,
          0.004238174705338798,
          0.004216627274453256,
          0.004197821689752343,
          0.0041815842157954305,
          0.004167733936316898,
          0.004156083473962726,
          0.004146439788877978,
          0.004138605050148602,
          0.004132377572885723,
          0.00412755281263797,
          0.004123924407842273,
          0.0041212852601900185,
          0.004119428642106042,
          0.004118149320020819,
          0.004117244681769034,
          0.00411651585627406,
          0.0041157688136795895,
          0.0041148154342647725,
          0.004113474534824546,
          0.0041115728417045975,
          0.00410894590034244,
          0.004105438911969719,
          0.004100907489063276,
          0.004095218322177134,
          0.0040882497519274365,
          0.004079892241118745,
          0.004070048743272976,
          0.004058634965131167,
          0.004045579522022878,
          0.004030823986317029,
          0.00401432283046148,
          0.003996043267367175,
          0.003975964992077493,
          0.003954079829768205,
          0.003930391296132148,
          0.003904914077102961,
          0.0038776734356522806,
          0.0038487045540459165,
          0.0038180518204612166,
          0.003785768069244675,
          0.0037519137843263642,
          0.003716556275405414,
          0.003679768836483082,
          0.003641629896152381,
          0.0036022221687629246,
          0.0035616318151770266,
          0.003519947621328672,
          0.0034772602022032275,
          0.0034336612381861385,
          0.003389242749997574,
          0.003344096417651248,
          0.0032983129480638742,
          0.0032519814951119603,
          0.0032051891350977943,
          0.003158020399760264,
          0.0031105568681606384,
          0.003062876817999446,
          0.003015054936187976,
          0.0029671620878151833,
          0.002919265142024022,
          0.00287142685274694,
          0.0028237057917510073,
          0.002776156331011843,
          0.0027288286710732265,
          0.0026817689117547994,
          0.0026350191613428906,
          0.0025886176802357185,
          0.002542599054911113,
          0.0024969943980376664,
          0.002451831570554409,
          0.002407135421594117,
          0.0023629280422160707,
          0.0023192290290399696,
          0.0022760557540279633,
          0.002233423636841809,
          0.002191346416401831,
          0.002149836418488834,
          0.0021089048164564016,
          0.002068561882354435,
          0.002028817226003335,
          0.0019896800197991655,
          0.0019511592072715262,
          0.0019132636936563172,
          0.0018760025169844905,
          0.0018393849984240805,
          0.001803420870846317,
          0.0017681203848174253,
          0.0017334943914457137,
          0.0016995544017387152,
          0.0016663126223479606,
          0.0016337819677990856,
          0.0016019760495224586,
          0.001570909142213916,
          0.0015405961282661806,
          0.0015110524212179235,
          0.0014822938693686517,
          0.0014543366409017038,
          0.001427197092043594,
          0.0014008916199635213,
          0.0013754365022802038,
          0.0013508477251921943,
          0.0013271408023799798,
          0.0013043305869416203,
          0.001282431078715561,
          0.0012614552294132378,
          0.001241414748027318,
          0.0012223199089980083,
          0.0012041793656078078,
          0.0011869999710336166,
          0.0011707866094135592,
          0.0011555420391841198,
          0.0011412667508113729,
          0.001127958840879277,
          0.0011156139043094829,
          0.001104224946272616,
          0.0010937823151132735,
          0.0010842736573524916,
          0.0010756838955559192,
          0.0010679952295668544,
          0.0010611871613048615,
          0.0010552365430272007,
          0.0010501176486463393,
          0.0010458022673971532,
          0.0010422598188565351,
          0.0010394574880409659,
          0.0010373603790485135,
          0.0010359316854750384,
          0.001035132875624055,
          0.0010349238903493568,
          0.0010352633512222087,
          0.001036108776603171,
          0.0010374168031244695,
          0.0010391434100534983,
          0.0010412441440122019,
          0.0010436743415706128,
          0.0010463893473149199,
          0.0010493447251096466,
          0.0010524964604275413,
          0.0010558011518068803,
          0.0010592161897105387,
          0.0010626999213003993,
          0.001066211799900055,
          0.0010697125181933838,
          0.0010731641244914293,
          0.0010765301216895888,
          0.0010797755488263208,
          0.0010828670454376564,
          0.0010857728991739328,
          0.0010884630774009758,
          0.0010909092437431463,
          0.001093084760735769,
          0.001094964679935975,
          0.0010965257209908101,
          0.0010977462412771275,
          0.0010986061978077737,
          0.001099087103141807,
          0.0010991719770429215,
          0.00109884529560044,
          0.0010980929394626322,
          0.0010969021427346495,
          0.0010952614439659835,
          0.0010931606404982488,
          0.0010905907472672208,
          0.0010875439609576735,
          0.0010840136302003697,
          0.0010799942322823497,
          0.0010754813566194149,
          0.0010704716950184867,
          0.001064963038542004,
          0.0010589542805815703,
          0.0010524454255577888,
          0.001045437602491632,
          0.0010379330825431702,
          0.0010299352994887776,
          0.0010214488720103514,
          0.0010124796266010806,
          0.001003034619852696,
          0.000993122158879237,
          0.0009827518186514232,
          0.000971934455062803,
          0.0009606822126219112,
          0.000949008525761607,
          0.0009369281128746527,
          0.0009244569623201315,
          0.0009116123097952288,
          0.0008984126066271044,
          0.0008848774787066306,
          0.0008710276759553519,
          0.0008568850123857061,
          0.0008424722969784563,
          0.0008278132557571554,
          0.000812932445584252,
          0.0007978551603343462,
          0.0007826073302152305,
          0.0007672154151044935,
          0.0007517062928479255,
          0.0007361071435246284,
          0.0007204453307226064,
          0.000704748280888066,
          0.0006890433618121748,
          0.0006733577613022249,
          0.0006577183670511136,
          0.0006421516486721066,
          0.0006266835428067263,
          0.0006113393421447913,
          0.0005961435891194682,
          0.0005811199749589189,
          0.0005662912446923021,
          0.0005516791086234437,
          0.0005373041607027769,
          0.0005231858041486164,
          0.0005093421845943033,
          0.000495790130969249,
          0.00048254510426032696,
          0.00046962115424606366,
          0.000457030884249632,
          0.00044478542391788593,
          0.00043289441000187367,
          0.0004213659750889007,
          0.00041020674421626493,
          0.0003994218392809929,
          0.0003890148911472252,
          0.00037898805934160094,
          0.00036934205921608943,
          0.00036007619644542967,
          0.00035118840871169844,
          0.00034267531441023105,
          0.0003345322681881677,
          0.00032675342309873,
          0.00031933179912020003,
          0.0003122593577485233,
          0.0003055270823263571,
          0.0002991250637197756,
          0.0002930425908972639,
          0.00028726824590513043,
          0.00028179000267016934,
          0.0002765953289957691,
          0.0002716712910532757,
          0.0002670046596080446,
          0.0002625820171610322,
          0.0002583898651339217,
          0.0002544147301804105,
          0.00025064326867025845,
          0.00024706236836758284,
          0.0002436592463121856,
          0.00024042154191364538,
          0.00023733740428346102,
          0.00023439557286138524,
          0.00023158545043856188,
          0.00022889716774221428,
          0.0002263216388240522,
          0.0002238506065865667,
          0.00022147667788696088,
          0.00021919334777618623,
          0.0002169950125588271,
          0.0002148769714963769,
          0.00021283541711969727,
          0.00021086741426374928,
          0.0002089708680865777,
          0.000207144481482479,
          0.00020538770244370413,
          0.00020370066206340789,
          0.0002020841040024314,
          0.00020053930636155617,
          0.00019906799700702906,
          0.00019767226348850968,
          0.00019635445876357383,
          0.00019511710400018598,
          0.00019396278976720996,
          0.00019289407694238832,
          0.00019191339866709257,
          0.0001910229646575699,
          0.00019022466914387316,
          0.00018952000365093707,
          0.00018890997576244387,
          0.0001883950349186233,
          0.00018797500619555817,
          0.0001876490328978186,
          0.0001874155286703163,
          0.00018727213970135006,
          0.00018721571744911972,
          0.000187242302180825,
          0.00018734711746909248,
          0.00018752457564711862,
          0.00018776829408371842,
          0.00018807112200440972,
          0.00018842517745660628,
          0.0001888218938975683,
          0.0001892520757744247,
          0.0001897059623675345,
          0.0001901732990826737,
          0.00019064341530474258,
          0.00019110530786637162,
          0.00019154772913919572,
          0.0001919592787236921,
          0.00019232849769512341,
          0.00019264396435790166,
          0.00019289439046801828,
          0.0001930687169023389,
          0.00019315620778368397,
          0.0001931465421107652,
          0.0001930299019911598,
          0.00019279705663253607,
          0.00019243944131113591,
          0.00019194923060599525,
          0.00019131940526140488,
          0.00019054381211763057,
          0.00018961721662987953,
          0.00018853534757696706,
          0.00018729493364318413,
          0.00018589373163868734,
          0.0001843305462045628,
          0.0001826052409278886,
          0.0001807187408690575,
          0.000178673026577792,
          0.00017647111974525523,
          0.00017411706070704654,
          0.00017161587807537886,
          0.00016897355083806017,
          0.00016619696331687486,
          0.00016329385342838003,
          0.00016027275473585981,
          0.00015714293282212795,
          0.00015391431654891547,
          0.00015059742479970107,
          0.00014720328932896846,
          0.0001437433743619761,
          0.00014022949360521314,
          0.00013667372533876707,
          0.00013308832626788216,
          0.0001294856448120681,
          0.0001258780345062888,
          0.00012227776818011282,
          0.00011869695356727377,
          0.00011514745098011968,
          0.00011164079366090044,
          0.00010818811139510839,
          0.00010480005794118577,
          0.00010148674279619173,
          9.825766777867839e-05,
          9.512166886831725e-05,
          9.208686369714721e-05,
          8.916060503986159e-05,
          8.634944060083179e-05,
          8.365907934377303e-05,
          8.109436455664487e-05,
          7.865925378978883e-05,
          7.635680574995764e-05,
          7.418917417713824e-05,
          7.215760867533279e-05,
          7.026246241320709e-05,
          6.850320655607909e-05,
          6.687845123760912e-05,
          6.538597282810164e-05,
          6.402274720698661e-05,
          6.2784988700177e-05,
          6.166819429900286e-05,
          6.066719273664453e-05,
          5.977619796078415e-05,
          5.8988866507899563e-05,
          5.829835825552992e-05,
          5.7697400004239164e-05,
          5.71783513211373e-05,
          5.6733272061912455e-05,
          5.6353990978563776e-05,
          5.603217481554785e-05,
          5.575939729796547e-05,
          5.552720742177714e-05,
          5.5327196467843554e-05,
          5.515106317880383e-05,
          5.4990676560313585e-05,
          5.4838135795814215e-05,
          5.4685826796562986e-05,
          5.452647494584127e-05,
          5.4353193637730544e-05,
          5.41595282561964e-05,
          5.393949528899393e-05,
          5.3687616322585804e-05,
          5.339894671829199e-05,
          5.3069098825657974e-05
         ],
         "yaxis": "y"
        },
        {
         "fill": "tozeroy",
         "hovertemplate": "<b>Synthetic</b><br>Value: %{x}<br>Frequency: %{y}<extra></extra>",
         "legendgroup": "Synthetic",
         "marker": {
          "color": "#01E0C9"
         },
         "mode": "lines",
         "name": "Synthetic",
         "showlegend": true,
         "type": "scatter",
         "x": [
          83.8,
          84.4028,
          85.0056,
          85.6084,
          86.21119999999999,
          86.814,
          87.4168,
          88.0196,
          88.6224,
          89.2252,
          89.828,
          90.43079999999999,
          91.03359999999999,
          91.6364,
          92.2392,
          92.842,
          93.4448,
          94.04759999999999,
          94.65039999999999,
          95.25319999999999,
          95.856,
          96.4588,
          97.0616,
          97.6644,
          98.2672,
          98.86999999999999,
          99.47279999999999,
          100.0756,
          100.6784,
          101.2812,
          101.884,
          102.48679999999999,
          103.08959999999999,
          103.69239999999999,
          104.2952,
          104.898,
          105.5008,
          106.1036,
          106.7064,
          107.30919999999999,
          107.91199999999999,
          108.5148,
          109.1176,
          109.7204,
          110.32319999999999,
          110.92599999999999,
          111.52879999999999,
          112.13159999999999,
          112.7344,
          113.3372,
          113.94,
          114.5428,
          115.1456,
          115.7484,
          116.35119999999999,
          116.95400000000001,
          117.5568,
          118.1596,
          118.76239999999999,
          119.36519999999999,
          119.96799999999999,
          120.57079999999999,
          121.1736,
          121.7764,
          122.3792,
          122.982,
          123.5848,
          124.1876,
          124.79039999999999,
          125.3932,
          125.996,
          126.59879999999998,
          127.2016,
          127.80439999999999,
          128.4072,
          129.01,
          129.6128,
          130.2156,
          130.8184,
          131.4212,
          132.024,
          132.6268,
          133.2296,
          133.8324,
          134.4352,
          135.03799999999998,
          135.64079999999998,
          136.2436,
          136.8464,
          137.4492,
          138.052,
          138.6548,
          139.2576,
          139.8604,
          140.4632,
          141.06599999999997,
          141.66879999999998,
          142.27159999999998,
          142.87439999999998,
          143.47719999999998,
          144.07999999999998,
          144.6828,
          145.2856,
          145.8884,
          146.4912,
          147.094,
          147.6968,
          148.2996,
          148.9024,
          149.5052,
          150.108,
          150.7108,
          151.3136,
          151.9164,
          152.5192,
          153.122,
          153.7248,
          154.3276,
          154.9304,
          155.5332,
          156.136,
          156.73879999999997,
          157.34159999999997,
          157.94439999999997,
          158.54719999999998,
          159.14999999999998,
          159.75279999999998,
          160.35559999999998,
          160.95839999999998,
          161.56119999999999,
          162.164,
          162.7668,
          163.3696,
          163.9724,
          164.5752,
          165.178,
          165.7808,
          166.3836,
          166.9864,
          167.5892,
          168.192,
          168.79479999999998,
          169.39759999999998,
          170.00039999999998,
          170.60320000000002,
          171.20600000000002,
          171.8088,
          172.4116,
          173.0144,
          173.6172,
          174.22,
          174.82279999999997,
          175.42559999999997,
          176.02839999999998,
          176.63119999999998,
          177.23399999999998,
          177.83679999999998,
          178.43959999999998,
          179.0424,
          179.6452,
          180.248,
          180.8508,
          181.4536,
          182.0564,
          182.6592,
          183.262,
          183.8648,
          184.4676,
          185.0704,
          185.6732,
          186.27599999999998,
          186.87879999999998,
          187.4816,
          188.0844,
          188.6872,
          189.28999999999996,
          189.89279999999997,
          190.49559999999997,
          191.0984,
          191.7012,
          192.30399999999997,
          192.90679999999998,
          193.50959999999998,
          194.11239999999998,
          194.71519999999998,
          195.31799999999998,
          195.92079999999999,
          196.5236,
          197.1264,
          197.7292,
          198.332,
          198.9348,
          199.5376,
          200.1404,
          200.7432,
          201.346,
          201.9488,
          202.5516,
          203.1544,
          203.7572,
          204.35999999999999,
          204.9628,
          205.5656,
          206.1684,
          206.7712,
          207.37399999999997,
          207.97679999999997,
          208.57959999999997,
          209.18239999999997,
          209.78519999999997,
          210.38799999999998,
          210.99079999999998,
          211.59359999999998,
          212.19639999999998,
          212.79919999999998,
          213.402,
          214.0048,
          214.6076,
          215.2104,
          215.8132,
          216.416,
          217.0188,
          217.6216,
          218.2244,
          218.8272,
          219.43,
          220.0328,
          220.63559999999995,
          221.2384,
          221.84119999999996,
          222.44400000000002,
          223.04679999999996,
          223.64959999999996,
          224.25239999999997,
          224.85519999999997,
          225.45799999999997,
          226.06079999999997,
          226.66359999999997,
          227.26639999999998,
          227.86919999999998,
          228.47199999999998,
          229.07479999999998,
          229.67759999999998,
          230.2804,
          230.8832,
          231.486,
          232.0888,
          232.6916,
          233.2944,
          233.8972,
          234.5,
          235.1028,
          235.70559999999995,
          236.3084,
          236.9112,
          237.514,
          238.1168,
          238.71959999999996,
          239.32240000000002,
          239.92519999999996,
          240.52800000000002,
          241.13079999999997,
          241.73359999999997,
          242.33639999999997,
          242.93919999999997,
          243.54199999999997,
          244.14479999999998,
          244.74759999999998,
          245.35039999999998,
          245.95319999999998,
          246.55599999999998,
          247.15879999999999,
          247.7616,
          248.3644,
          248.9672,
          249.57,
          250.1728,
          250.7756,
          251.3784,
          251.9812,
          252.584,
          253.1868,
          253.78959999999995,
          254.3924,
          254.99519999999995,
          255.598,
          256.20079999999996,
          256.80359999999996,
          257.4064,
          258.00919999999996,
          258.612,
          259.21479999999997,
          259.81759999999997,
          260.4204,
          261.0232,
          261.626,
          262.2288,
          262.8316,
          263.4344,
          264.0372,
          264.64,
          265.2428,
          265.8456,
          266.4484,
          267.0512,
          267.654,
          268.2568,
          268.8596,
          269.4624,
          270.0652,
          270.668,
          271.2708,
          271.87359999999995,
          272.4764,
          273.07919999999996,
          273.682,
          274.28479999999996,
          274.88759999999996,
          275.49039999999997,
          276.09319999999997,
          276.69599999999997,
          277.29879999999997,
          277.9016,
          278.5044,
          279.1072,
          279.71,
          280.3128,
          280.9156,
          281.5184,
          282.1212,
          282.724,
          283.3268,
          283.9296,
          284.5324,
          285.1352,
          285.73799999999994,
          286.3408,
          286.94359999999995,
          287.5464,
          288.1492,
          288.75199999999995,
          289.3548,
          289.95759999999996,
          290.5604,
          291.16319999999996,
          291.76599999999996,
          292.36879999999996,
          292.97159999999997,
          293.57439999999997,
          294.17719999999997,
          294.78,
          295.3828,
          295.9856,
          296.5884,
          297.1912,
          297.794,
          298.3968,
          298.9996,
          299.6024,
          300.2052,
          300.808,
          301.4108,
          302.0136,
          302.6164,
          303.2192,
          303.82199999999995,
          304.4248,
          305.02759999999995,
          305.6304,
          306.23319999999995,
          306.83599999999996,
          307.43879999999996,
          308.04159999999996,
          308.6444,
          309.24719999999996,
          309.84999999999997,
          310.45279999999997,
          311.05559999999997,
          311.6584,
          312.2612,
          312.864,
          313.4668,
          314.0696,
          314.6724,
          315.2752,
          315.878,
          316.4808,
          317.0836,
          317.6864,
          318.2892,
          318.892,
          319.4948,
          320.0976,
          320.7004,
          321.3032,
          321.90599999999995,
          322.5088,
          323.11159999999995,
          323.7144,
          324.31719999999996,
          324.91999999999996,
          325.52279999999996,
          326.12559999999996,
          326.72839999999997,
          327.33119999999997,
          327.93399999999997,
          328.53679999999997,
          329.1396,
          329.7424,
          330.3452,
          330.948,
          331.5508,
          332.1536,
          332.7564,
          333.3592,
          333.962,
          334.5648,
          335.1676,
          335.7704,
          336.3732,
          336.97599999999994,
          337.5788,
          338.18159999999995,
          338.7844,
          339.3872,
          339.99,
          340.5928,
          341.1956,
          341.7984,
          342.4012,
          343.00399999999996,
          343.6068,
          344.20959999999997,
          344.8124,
          345.41519999999997,
          346.01800000000003,
          346.6208,
          347.2236,
          347.8264,
          348.4292,
          349.03200000000004,
          349.6348,
          350.2376,
          350.8404,
          351.4432,
          352.046,
          352.6488,
          353.2516,
          353.8544,
          354.45719999999994,
          355.06,
          355.6628,
          356.2656,
          356.86839999999995,
          357.47119999999995,
          358.074,
          358.6768,
          359.2796,
          359.88239999999996,
          360.48519999999996,
          361.088,
          361.6908,
          362.29359999999997,
          362.89639999999997,
          363.4992,
          364.10200000000003,
          364.7048,
          365.3076,
          365.9104,
          366.5132,
          367.116,
          367.7188,
          368.3216,
          368.9244,
          369.52719999999994,
          370.13,
          370.7328,
          371.3356,
          371.9384,
          372.54119999999995,
          373.144,
          373.7468,
          374.3496,
          374.95239999999995,
          375.55519999999996,
          376.158,
          376.7608,
          377.36359999999996,
          377.96639999999996,
          378.56919999999997,
          379.172,
          379.7748,
          380.3776,
          380.9804,
          381.5832,
          382.18600000000004,
          382.7888,
          383.3916,
          383.9944,
          384.5972
         ],
         "xaxis": "x",
         "y": [
          0.0067517824301957475,
          0.0068717019558966865,
          0.006988499461095661,
          0.007101993959580953,
          0.007212012583116891,
          0.007318391191718416,
          0.007420974944068016,
          0.0075196188249602005,
          0.007614188126945636,
          0.007704558883655743,
          0.007790618252614209,
          0.007872264845683296,
          0.007949409005645966,
          0.008021973027786873,
          0.008089891325703787,
          0.008153110540951001,
          0.008211589596487042,
          0.008265299694264615,
          0.008314224257661077,
          0.008358358819796496,
          0.008397710859124403,
          0.008432299584001383,
          0.008462155668245909,
          0.008487320939980312,
          0.008507848026311882,
          0.008523799956645846,
          0.008535249727635832,
          0.00854227983296177,
          0.008544981761283117,
          0.008543455465843727,
          0.008537808809304527,
          0.008528156987450849,
          0.00851462193546304,
          0.008497331720451995,
          0.008476419923946786,
          0.008452025017979564,
          0.008424289738345562,
          0.008393360458524176,
          0.008359386567631978,
          0.008322519855642606,
          0.008282913908952878,
          0.00824072351920182,
          0.008196104108061038,
          0.008149211170513464,
          0.008100199738925546,
          0.008049223869996349,
          0.007996436156439808,
          0.007941987265024045,
          0.007886025502357136,
          0.007828696409574372,
          0.007770142386848859,
          0.007710502348418169,
          0.007649911408595434,
          0.007588500599016635,
          0.00752639661716684,
          0.007463721606029397,
          0.007400592964514035,
          0.007337123188143684,
          0.007273419739316636,
          0.007209584946310319,
          0.00714571593005755,
          0.007081904557603659,
          0.007018237421046277,
          0.006954795840666521,
          0.006891655890882127,
          0.006828888447589032,
          0.006766559255408087,
          0.006704729013316556,
          0.0066434534771205945,
          0.006582783577213831,
          0.0065227655500668625,
          0.006463441081904016,
          0.006404847463044992,
          0.0063470177514191595,
          0.006289980943799381,
          0.006233762153348262,
          0.006178382792122912,
          0.006123860757242824,
          0.006070210619488796,
          0.0060174438131687605,
          0.005965568826156791,
          0.005914591389084948,
          0.005864514662742428,
          0.005815339422812543,
          0.0057670642411543835,
          0.00571968566291183,
          0.005673198378808408,
          0.005627595392060374,
          0.0055828681794126795,
          0.005539006845873362,
          0.005496000272789464,
          0.005453836258973168,
          0.005412501654649484,
          0.005371982488055571,
          0.00533226408457874,
          0.005293331178372207,
          0.005255168016437377,
          0.00521775845520728,
          0.00518108604970769,
          0.005145134135411895,
          0.005109885902939878,
          0.005075324465784816,
          0.00504143292127828,
          0.005008194405030779,
          0.004975592139106271,
          0.004943609474207939,
          0.00491222992616908,
          0.004881437207054968,
          0.004851215251192674,
          0.004821548236452668,
          0.004792420601111486,
          0.004763817056627015,
          0.0047357225966583845,
          0.004708122502660553,
          0.004681002346379923,
          0.004654347989571255,
          0.004628145581249131,
          0.004602381552777791,
          0.004577042611092823,
          0.004552115730336423,
          0.004527588142175062,
          0.0045034473250542655,
          0.004479680992631007,
          0.004456277081608365,
          0.004433223739181644,
          0.0044105093102887105,
          0.00438812232484129,
          0.004366051485097328,
          0.004344285653318612,
          0.004322813839841713,
          0.004301625191675185,
          0.0042807089817207804,
          0.004260054598702573,
          0.004239651537874325,
          0.004219489392563233,
          0.004199557846596604,
          0.00417984666764784,
          0.004160345701528848,
          0.004141044867447948,
          0.004121934154245646,
          0.0041030036176147025,
          0.004084243378306808,
          0.00406564362132432,
          0.004047194596093545,
          0.004028886617614343,
          0.004010710068580472,
          0.003992655402465091,
          0.003974713147566792,
          0.003956873912012532,
          0.00393912838971556,
          0.003921467367287919,
          0.0039038817319086818,
          0.0038863624801506137,
          0.003868900727768681,
          0.0038514877204544056,
          0.0038341148455596614,
          0.003816773644792411,
          0.0037994558278845645,
          0.0037821532872289064,
          0.0037648581134775505,
          0.0037475626120885203,
          0.003730259320799833,
          0.003712941028002181,
          0.0036956007919713048,
          0.003678231960910092,
          0.0036608281937381745,
          0.0036433834815531706,
          0.0036258921696736743,
          0.003608348980158355,
          0.0035907490346802377,
          0.0035730878776187146,
          0.0035553614992154888,
          0.0035375663586246792,
          0.003519699406671207,
          0.003501758108116626,
          0.0034837404632175406,
          0.003465645028348702,
          0.003447470935452082,
          0.003429217910063483,
          0.0034108862876617587,
          0.0033924770280805315,
          0.0033739917277209636,
          0.0033554326293046923,
          0.003336802628910628,
          0.0033181052800463837,
          0.003299344794516175,
          0.0032805260398609845,
          0.003261654533164723,
          0.0032427364310409976,
          0.0032237785156396205,
          0.003204788176539664,
          0.003185773388426439,
          0.0031667426844833157,
          0.0031477051254652478,
          0.003128670264459062,
          0.003109648107375564,
          0.003090649069259907,
          0.0030716839265491425,
          0.003052763765448836,
          0.003033899926643405,
          0.003015103946597647,
          0.002996387495748156,
          0.0029777623139234863,
          0.0029592401433698556,
          0.0029408326597947206,
          0.002922551401872914,
          0.002904407699689099,
          0.00288641260261554,
          0.002868576807144748,
          0.0028509105852130203,
          0.0028334237135621545,
          0.0028161254046926293,
          0.002799024239962498,
          0.0027821281053814805,
          0.002765444130639619,
          0.0027489786318940957,
          0.0027327370588166927,
          0.002716723946377964,
          0.002700942871812628,
          0.002685396417174195,
          0.00267008613784623,
          0.0026550125373323414,
          0.002640175048598514,
          0.0026255720221893854,
          0.002611200721285555,
          0.0025970573238122407,
          0.00258313693165139,
          0.002569433586950124,
          0.002555940295458913,
          0.002542649056773591,
          0.0025295509012971252,
          0.002516635933680263,
          0.002503893382445425,
          0.002491311655446531,
          0.0024788784007685016,
          0.0024665805726253338,
          0.002454404501774889,
          0.002442335969932274,
          0.002430360287632595,
          0.0024184623749677367,
          0.0024066268446015257,
          0.0023948380864526188,
          0.0023830803534255346,
          0.0023713378475669162,
          0.002359594806026702,
          0.002347835586212054,
          0.0023360447495357497,
          0.002324207143179825,
          0.0023123079793194784,
          0.0023003329112812726,
          0.0022882681061429312,
          0.002276100313319509,
          0.002263816928721532,
          0.0022514060541146855,
          0.0022388565513571566,
          0.00222615809123928,
          0.0022133011967002017,
          0.002200277280247252,
          0.0021870786754551734,
          0.0021736986624736345,
          0.002160131487522039,
          0.002146372376400332,
          0.0021324175420920698,
          0.0021182641865821017,
          0.0021039104970542923,
          0.0020893556366751694,
          0.002074599730206597,
          0.002059643844724129,
          0.002044489965747802,
          0.002029140969117796,
          0.0020136005889694903,
          0.0019978733821799316,
          0.001981964689671158,
          0.0019658805949649876,
          0.0019496278803887738,
          0.0019332139813325322,
          0.001916646938954643,
          0.0018999353517265753,
          0.0018830883261964095,
          0.001866115427337436,
          0.0018490266288310462,
          0.0018318322636139007,
          0.0018145429749972573,
          0.0017971696686425412,
          0.0017797234656516587,
          0.0017622156570035314,
          0.001744657659540663,
          0.001727060973680908,
          0.0017094371430012426,
          0.0016917977158115573,
          0.0016741542088086732,
          0.0016565180728735115,
          0.0016389006610480516,
          0.0016213131987041394,
          0.0016037667558928025,
          0.0015862722218414858,
          0.001568840281547127,
          0.0015514813943958445,
          0.0015342057747249212,
          0.0015170233742301954,
          0.0014999438661117105,
          0.0014829766308426023,
          0.001466130743440806,
          0.001449414962119988,
          0.0014328377181953339,
          0.0014164071071210824,
          0.0014001308805400713,
          0.0013840164392307118,
          0.0013680708268437869,
          0.0013523007243297855,
          0.0013367124449672435,
          0.001321311929913282,
          0.0013061047442092116,
          0.0012910960731861887,
          0.0012762907192287048,
          0.0012616930988662582,
          0.0012473072401764363,
          0.001233136780494879,
          0.0012191849644396817,
          0.0012054546422687914,
          0.0011919482685995072,
          0.0011786679015283194,
          0.0011656152021975595,
          0.0011527914348621138,
          0.0011401974675148557,
          0.0011278337731334648,
          0.0011157004316136503,
          0.0011037971324547049,
          0.0010921231782625744,
          0.0010806774891334383,
          0.0010694586079769523,
          0.0010584647068332047,
          0.0010476935942308162,
          0.001037142723625837,
          0.0010268092029521224,
          0.0010166898053039627,
          0.0010067809807609049,
          0.000997078869353251,
          0.000987579315154674,
          0.000978277881476121,
          0.000969169867122562,
          0.0009602503236617424,
          0.000951514073641778,
          0.0009429557296824995,
          0.0009345697143541904,
          0.0009263502807466056,
          0.0009182915336215611,
          0.0009103874510334887,
          0.0009026319062948965,
          0.0008950186901572874,
          0.0008875415330731123,
          0.0008801941274008617,
          0.0008729701494133232,
          0.0008658632809685723,
          0.0008588672307043211,
          0.0008519757546188875,
          0.0008451826759062217,
          0.0008384819039180661,
          0.000831867452133489,
          0.0008253334550244321,
          0.0008188741837157013,
          0.0008124840603486953,
          0.0008061576710700845,
          0.0007998897775794918,
          0.000793675327183718,
          0.0007875094613192782,
          0.0007813875225194692,
          0.0007753050598170907,
          0.0007692578325886996,
          0.0007632418128611856,
          0.0007572531861158438,
          0.0007512883506392683,
          0.0007453439154838129,
          0.0007394166971131201,
          0.0007335037148200201,
          0.000727602185014891,
          0.0007217095144922635,
          0.0007158232927918151,
          0.0007099412837769792,
          0.0007040614165600786,
          0.0006981817759070388,
          0.0006923005922575024,
          0.0006864162314972874,
          0.0006805271846198465,
          0.0006746320574115409,
          0.0006687295602922388,
          0.0006628184984380765,
          0.000656897762307162,
          0.0006509663186817023,
          0.0006450232023315664,
          0.0006390675083948194,
          0.0006330983855602363,
          0.0006271150301256303,
          0.0006211166809938255,
          0.0006151026156556927,
          0.0006090721471967641,
          0.0006030246223509024,
          0.0005969594206112563,
          0.0005908759543956082,
          0.0005847736702502917,
          0.000578652051064155,
          0.0005725106192519496,
          0.0005663489408548505,
          0.0005601666304949525,
          0.0005539633571104307,
          0.0005477388503888443,
          0.0005414929078077789,
          0.0005352254021847926,
          0.0005289362896325088,
          0.0005226256178096562,
          0.0005162935343550803,
          0.0005099402953890414,
          0.0005035662739647231,
          0.0004971719683525684,
          0.000490758010041004,
          0.000484325171339149,
          0.00047787437247030225,
          0.00047140668804920437,
          0.00046492335284132366,
          0.0004584257667086127,
          0.0004519154986532085,
          0.0004453942898784435,
          0.00043886405579509773,
          0.00043232688691002315,
          0.00042578504854407217,
          0.0004192409793364283,
          0.0004126972885030777,
          0.0004061567518279643,
          0.00039962230637646806,
          0.0003930970439319091,
          0.00038658420316698344,
          0.000380087160572994,
          0.00037360942018068957,
          0.0003671546021170203,
          0.0003607264300525006,
          0.0003543287176035927,
          0.00034796535376397,
          0.00034164028744724476,
          0.0003353575112319516,
          0.0003291210444070371,
          0.00032293491542284645,
          0.00031680314385857376,
          0.00031072972202221354,
          0.0003047185963033631,
          0.00029877364840249235,
          0.0002928986765627636,
          0.00028709737693191314,
          0.0002813733251821878,
          0.00027572995851587236,
          0.00027017055818243953,
          0.0002646982326309605,
          0.00025931590141799394,
          0.00025402627998684883,
          0.000248831865428876,
          0.00024373492333131894,
          0.00023873747580928476,
          0.00023384129081165602,
          0.00022904787278225098,
          0.00022435845474838863,
          0.00021977399189921875,
          0.00021529515670585324,
          0.00021092233562455137,
          0.00020665562741302746,
          0.0002024948430785102,
          0.0001984395074644794,
          0.00019448886247124355,
          0.0001906418718937144,
          0.000186897227847992,
          0.000183253358746863,
          0.00017970843877298468,
          0.00017626039878766107,
          0.0001729069386026272,
          0.00016964554053237912,
          0.00016647348413529188,
          0.00016338786204322947,
          0.0001603855967715713,
          0.00015746345839467318,
          0.00015461808296578873,
          0.00015184599155545407,
          0.00014914360977833752,
          0.00014650728767558478,
          0.00014393331981783148,
          0.00014141796549322366,
          0.0001389574688451268,
          0.0001365480788255572,
          0.0001341860688328464,
          0.00013186775590555,
          0.00012958951934911487,
          0.0001273478186773174,
          0.00012513921075684722,
          0.0001229603660506607,
          0.00012080808386372315,
          0.00011867930650346586,
          0.00011657113227660062,
          0.00011448082725376344,
          0.00011240583574373282,
          0.00011034378942956048,
          0.00010829251512978095,
          0.00010625004115883386,
          0.00010421460227181916
         ],
         "yaxis": "y"
        }
       ],
       "layout": {
        "autosize": true,
        "barmode": "overlay",
        "hovermode": "closest",
        "legend": {
         "traceorder": "reversed"
        },
        "plot_bgcolor": "#F5F5F8",
        "template": {
         "data": {
          "bar": [
           {
            "error_x": {
             "color": "#2a3f5f"
            },
            "error_y": {
             "color": "#2a3f5f"
            },
            "marker": {
             "line": {
              "color": "#E5ECF6",
              "width": 0.5
             },
             "pattern": {
              "fillmode": "overlay",
              "size": 10,
              "solidity": 0.2
             }
            },
            "type": "bar"
           }
          ],
          "barpolar": [
           {
            "marker": {
             "line": {
              "color": "#E5ECF6",
              "width": 0.5
             },
             "pattern": {
              "fillmode": "overlay",
              "size": 10,
              "solidity": 0.2
             }
            },
            "type": "barpolar"
           }
          ],
          "carpet": [
           {
            "aaxis": {
             "endlinecolor": "#2a3f5f",
             "gridcolor": "white",
             "linecolor": "white",
             "minorgridcolor": "white",
             "startlinecolor": "#2a3f5f"
            },
            "baxis": {
             "endlinecolor": "#2a3f5f",
             "gridcolor": "white",
             "linecolor": "white",
             "minorgridcolor": "white",
             "startlinecolor": "#2a3f5f"
            },
            "type": "carpet"
           }
          ],
          "choropleth": [
           {
            "colorbar": {
             "outlinewidth": 0,
             "ticks": ""
            },
            "type": "choropleth"
           }
          ],
          "contour": [
           {
            "colorbar": {
             "outlinewidth": 0,
             "ticks": ""
            },
            "colorscale": [
             [
              0,
              "#0d0887"
             ],
             [
              0.1111111111111111,
              "#46039f"
             ],
             [
              0.2222222222222222,
              "#7201a8"
             ],
             [
              0.3333333333333333,
              "#9c179e"
             ],
             [
              0.4444444444444444,
              "#bd3786"
             ],
             [
              0.5555555555555556,
              "#d8576b"
             ],
             [
              0.6666666666666666,
              "#ed7953"
             ],
             [
              0.7777777777777778,
              "#fb9f3a"
             ],
             [
              0.8888888888888888,
              "#fdca26"
             ],
             [
              1,
              "#f0f921"
             ]
            ],
            "type": "contour"
           }
          ],
          "contourcarpet": [
           {
            "colorbar": {
             "outlinewidth": 0,
             "ticks": ""
            },
            "type": "contourcarpet"
           }
          ],
          "heatmap": [
           {
            "colorbar": {
             "outlinewidth": 0,
             "ticks": ""
            },
            "colorscale": [
             [
              0,
              "#0d0887"
             ],
             [
              0.1111111111111111,
              "#46039f"
             ],
             [
              0.2222222222222222,
              "#7201a8"
             ],
             [
              0.3333333333333333,
              "#9c179e"
             ],
             [
              0.4444444444444444,
              "#bd3786"
             ],
             [
              0.5555555555555556,
              "#d8576b"
             ],
             [
              0.6666666666666666,
              "#ed7953"
             ],
             [
              0.7777777777777778,
              "#fb9f3a"
             ],
             [
              0.8888888888888888,
              "#fdca26"
             ],
             [
              1,
              "#f0f921"
             ]
            ],
            "type": "heatmap"
           }
          ],
          "heatmapgl": [
           {
            "colorbar": {
             "outlinewidth": 0,
             "ticks": ""
            },
            "colorscale": [
             [
              0,
              "#0d0887"
             ],
             [
              0.1111111111111111,
              "#46039f"
             ],
             [
              0.2222222222222222,
              "#7201a8"
             ],
             [
              0.3333333333333333,
              "#9c179e"
             ],
             [
              0.4444444444444444,
              "#bd3786"
             ],
             [
              0.5555555555555556,
              "#d8576b"
             ],
             [
              0.6666666666666666,
              "#ed7953"
             ],
             [
              0.7777777777777778,
              "#fb9f3a"
             ],
             [
              0.8888888888888888,
              "#fdca26"
             ],
             [
              1,
              "#f0f921"
             ]
            ],
            "type": "heatmapgl"
           }
          ],
          "histogram": [
           {
            "marker": {
             "pattern": {
              "fillmode": "overlay",
              "size": 10,
              "solidity": 0.2
             }
            },
            "type": "histogram"
           }
          ],
          "histogram2d": [
           {
            "colorbar": {
             "outlinewidth": 0,
             "ticks": ""
            },
            "colorscale": [
             [
              0,
              "#0d0887"
             ],
             [
              0.1111111111111111,
              "#46039f"
             ],
             [
              0.2222222222222222,
              "#7201a8"
             ],
             [
              0.3333333333333333,
              "#9c179e"
             ],
             [
              0.4444444444444444,
              "#bd3786"
             ],
             [
              0.5555555555555556,
              "#d8576b"
             ],
             [
              0.6666666666666666,
              "#ed7953"
             ],
             [
              0.7777777777777778,
              "#fb9f3a"
             ],
             [
              0.8888888888888888,
              "#fdca26"
             ],
             [
              1,
              "#f0f921"
             ]
            ],
            "type": "histogram2d"
           }
          ],
          "histogram2dcontour": [
           {
            "colorbar": {
             "outlinewidth": 0,
             "ticks": ""
            },
            "colorscale": [
             [
              0,
              "#0d0887"
             ],
             [
              0.1111111111111111,
              "#46039f"
             ],
             [
              0.2222222222222222,
              "#7201a8"
             ],
             [
              0.3333333333333333,
              "#9c179e"
             ],
             [
              0.4444444444444444,
              "#bd3786"
             ],
             [
              0.5555555555555556,
              "#d8576b"
             ],
             [
              0.6666666666666666,
              "#ed7953"
             ],
             [
              0.7777777777777778,
              "#fb9f3a"
             ],
             [
              0.8888888888888888,
              "#fdca26"
             ],
             [
              1,
              "#f0f921"
             ]
            ],
            "type": "histogram2dcontour"
           }
          ],
          "mesh3d": [
           {
            "colorbar": {
             "outlinewidth": 0,
             "ticks": ""
            },
            "type": "mesh3d"
           }
          ],
          "parcoords": [
           {
            "line": {
             "colorbar": {
              "outlinewidth": 0,
              "ticks": ""
             }
            },
            "type": "parcoords"
           }
          ],
          "pie": [
           {
            "automargin": true,
            "type": "pie"
           }
          ],
          "scatter": [
           {
            "fillpattern": {
             "fillmode": "overlay",
             "size": 10,
             "solidity": 0.2
            },
            "type": "scatter"
           }
          ],
          "scatter3d": [
           {
            "line": {
             "colorbar": {
              "outlinewidth": 0,
              "ticks": ""
             }
            },
            "marker": {
             "colorbar": {
              "outlinewidth": 0,
              "ticks": ""
             }
            },
            "type": "scatter3d"
           }
          ],
          "scattercarpet": [
           {
            "marker": {
             "colorbar": {
              "outlinewidth": 0,
              "ticks": ""
             }
            },
            "type": "scattercarpet"
           }
          ],
          "scattergeo": [
           {
            "marker": {
             "colorbar": {
              "outlinewidth": 0,
              "ticks": ""
             }
            },
            "type": "scattergeo"
           }
          ],
          "scattergl": [
           {
            "marker": {
             "colorbar": {
              "outlinewidth": 0,
              "ticks": ""
             }
            },
            "type": "scattergl"
           }
          ],
          "scattermapbox": [
           {
            "marker": {
             "colorbar": {
              "outlinewidth": 0,
              "ticks": ""
             }
            },
            "type": "scattermapbox"
           }
          ],
          "scatterpolar": [
           {
            "marker": {
             "colorbar": {
              "outlinewidth": 0,
              "ticks": ""
             }
            },
            "type": "scatterpolar"
           }
          ],
          "scatterpolargl": [
           {
            "marker": {
             "colorbar": {
              "outlinewidth": 0,
              "ticks": ""
             }
            },
            "type": "scatterpolargl"
           }
          ],
          "scatterternary": [
           {
            "marker": {
             "colorbar": {
              "outlinewidth": 0,
              "ticks": ""
             }
            },
            "type": "scatterternary"
           }
          ],
          "surface": [
           {
            "colorbar": {
             "outlinewidth": 0,
             "ticks": ""
            },
            "colorscale": [
             [
              0,
              "#0d0887"
             ],
             [
              0.1111111111111111,
              "#46039f"
             ],
             [
              0.2222222222222222,
              "#7201a8"
             ],
             [
              0.3333333333333333,
              "#9c179e"
             ],
             [
              0.4444444444444444,
              "#bd3786"
             ],
             [
              0.5555555555555556,
              "#d8576b"
             ],
             [
              0.6666666666666666,
              "#ed7953"
             ],
             [
              0.7777777777777778,
              "#fb9f3a"
             ],
             [
              0.8888888888888888,
              "#fdca26"
             ],
             [
              1,
              "#f0f921"
             ]
            ],
            "type": "surface"
           }
          ],
          "table": [
           {
            "cells": {
             "fill": {
              "color": "#EBF0F8"
             },
             "line": {
              "color": "white"
             }
            },
            "header": {
             "fill": {
              "color": "#C8D4E3"
             },
             "line": {
              "color": "white"
             }
            },
            "type": "table"
           }
          ]
         },
         "layout": {
          "annotationdefaults": {
           "arrowcolor": "#2a3f5f",
           "arrowhead": 0,
           "arrowwidth": 1
          },
          "autotypenumbers": "strict",
          "coloraxis": {
           "colorbar": {
            "outlinewidth": 0,
            "ticks": ""
           }
          },
          "colorscale": {
           "diverging": [
            [
             0,
             "#8e0152"
            ],
            [
             0.1,
             "#c51b7d"
            ],
            [
             0.2,
             "#de77ae"
            ],
            [
             0.3,
             "#f1b6da"
            ],
            [
             0.4,
             "#fde0ef"
            ],
            [
             0.5,
             "#f7f7f7"
            ],
            [
             0.6,
             "#e6f5d0"
            ],
            [
             0.7,
             "#b8e186"
            ],
            [
             0.8,
             "#7fbc41"
            ],
            [
             0.9,
             "#4d9221"
            ],
            [
             1,
             "#276419"
            ]
           ],
           "sequential": [
            [
             0,
             "#0d0887"
            ],
            [
             0.1111111111111111,
             "#46039f"
            ],
            [
             0.2222222222222222,
             "#7201a8"
            ],
            [
             0.3333333333333333,
             "#9c179e"
            ],
            [
             0.4444444444444444,
             "#bd3786"
            ],
            [
             0.5555555555555556,
             "#d8576b"
            ],
            [
             0.6666666666666666,
             "#ed7953"
            ],
            [
             0.7777777777777778,
             "#fb9f3a"
            ],
            [
             0.8888888888888888,
             "#fdca26"
            ],
            [
             1,
             "#f0f921"
            ]
           ],
           "sequentialminus": [
            [
             0,
             "#0d0887"
            ],
            [
             0.1111111111111111,
             "#46039f"
            ],
            [
             0.2222222222222222,
             "#7201a8"
            ],
            [
             0.3333333333333333,
             "#9c179e"
            ],
            [
             0.4444444444444444,
             "#bd3786"
            ],
            [
             0.5555555555555556,
             "#d8576b"
            ],
            [
             0.6666666666666666,
             "#ed7953"
            ],
            [
             0.7777777777777778,
             "#fb9f3a"
            ],
            [
             0.8888888888888888,
             "#fdca26"
            ],
            [
             1,
             "#f0f921"
            ]
           ]
          },
          "colorway": [
           "#636efa",
           "#EF553B",
           "#00cc96",
           "#ab63fa",
           "#FFA15A",
           "#19d3f3",
           "#FF6692",
           "#B6E880",
           "#FF97FF",
           "#FECB52"
          ],
          "font": {
           "color": "#2a3f5f"
          },
          "geo": {
           "bgcolor": "white",
           "lakecolor": "white",
           "landcolor": "#E5ECF6",
           "showlakes": true,
           "showland": true,
           "subunitcolor": "white"
          },
          "hoverlabel": {
           "align": "left"
          },
          "hovermode": "closest",
          "mapbox": {
           "style": "light"
          },
          "paper_bgcolor": "white",
          "plot_bgcolor": "#E5ECF6",
          "polar": {
           "angularaxis": {
            "gridcolor": "white",
            "linecolor": "white",
            "ticks": ""
           },
           "bgcolor": "#E5ECF6",
           "radialaxis": {
            "gridcolor": "white",
            "linecolor": "white",
            "ticks": ""
           }
          },
          "scene": {
           "xaxis": {
            "backgroundcolor": "#E5ECF6",
            "gridcolor": "white",
            "gridwidth": 2,
            "linecolor": "white",
            "showbackground": true,
            "ticks": "",
            "zerolinecolor": "white"
           },
           "yaxis": {
            "backgroundcolor": "#E5ECF6",
            "gridcolor": "white",
            "gridwidth": 2,
            "linecolor": "white",
            "showbackground": true,
            "ticks": "",
            "zerolinecolor": "white"
           },
           "zaxis": {
            "backgroundcolor": "#E5ECF6",
            "gridcolor": "white",
            "gridwidth": 2,
            "linecolor": "white",
            "showbackground": true,
            "ticks": "",
            "zerolinecolor": "white"
           }
          },
          "shapedefaults": {
           "line": {
            "color": "#2a3f5f"
           }
          },
          "ternary": {
           "aaxis": {
            "gridcolor": "white",
            "linecolor": "white",
            "ticks": ""
           },
           "baxis": {
            "gridcolor": "white",
            "linecolor": "white",
            "ticks": ""
           },
           "bgcolor": "#E5ECF6",
           "caxis": {
            "gridcolor": "white",
            "linecolor": "white",
            "ticks": ""
           }
          },
          "title": {
           "x": 0.05
          },
          "xaxis": {
           "automargin": true,
           "gridcolor": "white",
           "linecolor": "white",
           "ticks": "",
           "title": {
            "standoff": 15
           },
           "zerolinecolor": "white",
           "zerolinewidth": 2
          },
          "yaxis": {
           "automargin": true,
           "gridcolor": "white",
           "linecolor": "white",
           "ticks": "",
           "title": {
            "standoff": 15
           },
           "zerolinecolor": "white",
           "zerolinewidth": 2
          }
         }
        },
        "title": {
         "text": "Real vs. Synthetic Data for column room_rate"
        },
        "xaxis": {
         "anchor": "y2",
         "autorange": true,
         "domain": [
          0,
          1
         ],
         "range": [
          83.8,
          424.15792
         ],
         "title": {
          "text": "Value"
         },
         "type": "linear",
         "zeroline": false
        },
        "yaxis": {
         "anchor": "free",
         "autorange": true,
         "domain": [
          0,
          1
         ],
         "position": 0,
         "range": [
          0,
          0.012914682616146202
         ],
         "title": {
          "text": "Frequency"
         },
         "type": "linear"
        }
       }
      },
      "text/html": [
       "<div>                            <div id=\"93498932-5d62-4de3-ae8b-59aba9a59bd1\" class=\"plotly-graph-div\" style=\"height:525px; width:100%;\"></div>            <script type=\"text/javascript\">                require([\"plotly\"], function(Plotly) {                    window.PLOTLYENV=window.PLOTLYENV || {};                                    if (document.getElementById(\"93498932-5d62-4de3-ae8b-59aba9a59bd1\")) {                    Plotly.newPlot(                        \"93498932-5d62-4de3-ae8b-59aba9a59bd1\",                        [{\"legendgroup\":\"Real\",\"marker\":{\"color\":\"#000036\"},\"mode\":\"lines\",\"name\":\"Real\",\"showlegend\":true,\"x\":[83.8,84.48208,85.16416,85.84624,86.52832,87.21039999999999,87.89247999999999,88.57455999999999,89.25663999999999,89.93871999999999,90.6208,91.30288,91.98496,92.66704,93.34912,94.0312,94.71328,95.39536,96.07744,96.75952,97.4416,98.12368,98.80575999999999,99.48783999999999,100.16991999999999,100.852,101.53407999999999,102.21616,102.89823999999999,103.58032,104.2624,104.94448,105.62656,106.30864,106.99072,107.6728,108.35488,109.03696,109.71903999999999,110.40111999999999,111.08319999999999,111.76527999999999,112.44735999999999,113.12943999999999,113.81152,114.4936,115.17568,115.85775999999998,116.53984,117.22192,117.904,118.58607999999998,119.26816,119.95024,120.63231999999999,121.31439999999999,121.99647999999999,122.67856,123.36063999999999,124.04271999999999,124.72479999999999,125.40688,126.08895999999999,126.77104,127.45311999999998,128.1352,128.81727999999998,129.49936,130.18144,130.86352,131.54559999999998,132.22768,132.90976,133.59184,134.27392,134.956,135.63808,136.32016,137.00223999999997,137.68431999999999,138.3664,139.04847999999998,139.73056,140.41263999999998,141.09472,141.77679999999998,142.45888,143.14095999999998,143.82304,144.50511999999998,145.1872,145.86928,146.55136,147.23344,147.91552,148.5976,149.27967999999998,149.96176,150.64384,151.32592,152.00799999999998,152.69007999999997,153.37215999999998,154.05424,154.73631999999998,155.4184,156.10048,156.78256,157.46463999999997,158.14672,158.8288,159.51088,160.19295999999997,160.87503999999998,161.55712,162.23919999999998,162.92128,163.60335999999998,164.28544,164.96751999999998,165.6496,166.33168,167.01376,167.69583999999998,168.37791999999996,169.06,169.74208,170.42415999999997,171.10623999999999,171.78832,172.47039999999998,173.15248,173.83456,174.51664,175.19871999999998,175.88079999999997,176.56288,177.24496,177.92703999999998,178.60912,179.29119999999998,179.97328,180.65535999999997,181.33744,182.01952,182.70159999999998,183.38367999999997,184.06576,184.74784,185.42991999999998,186.11199999999997,186.79407999999998,187.47616,188.15823999999998,188.84032,189.5224,190.20448,190.88655999999997,191.56864,192.25072,192.9328,193.61487999999997,194.29695999999998,194.97904,195.66111999999998,196.34319999999997,197.02527999999998,197.70736,198.38943999999998,199.07152,199.7536,200.43568,201.11775999999998,201.79983999999996,202.48191999999997,203.164,203.84607999999997,204.52815999999999,205.21024,205.89231999999998,206.5744,207.25647999999998,207.93856,208.62063999999998,209.30271999999997,209.98479999999998,210.66688,211.34895999999998,212.03103999999996,212.71312,213.3952,214.07727999999997,214.75935999999996,215.44143999999994,216.12351999999998,216.80559999999997,217.48768,218.16976,218.85183999999998,219.53391999999997,220.216,220.89808,221.58015999999998,222.26223999999996,222.94431999999995,223.6264,224.30847999999997,224.99056000000002,225.67264,226.35472,227.03679999999997,227.71887999999996,228.40096,229.08303999999998,229.76511999999997,230.44719999999995,231.12928,231.81135999999998,232.49343999999996,233.17552,233.8576,234.53967999999998,235.22175999999996,235.90384,236.58592,237.26799999999997,237.95007999999996,238.63216,239.31423999999998,239.99631999999997,240.6784,241.36048,242.04255999999998,242.72463999999997,243.40671999999995,244.0888,244.77087999999998,245.45295999999996,246.13504,246.81712,247.49919999999997,248.18127999999996,248.86336,249.54543999999999,250.22751999999997,250.90959999999995,251.59168,252.27375999999998,252.95583999999997,253.63792,254.32,255.00207999999998,255.68415999999996,256.36624,257.04832,257.7304,258.41247999999996,259.09455999999994,259.77664,260.45871999999997,261.1408,261.82288,262.50496,263.18703999999997,263.86912,264.5512,265.23328,265.91535999999996,266.59743999999995,267.27952,267.9616,268.64368,269.32576,270.00784,270.68992,271.37199999999996,272.05408,272.73616,273.41823999999997,274.10031999999995,274.78239999999994,275.46448,276.14655999999997,276.82864,277.51072,278.1928,278.87487999999996,279.55696,280.23904,280.92112,281.60319999999996,282.28527999999994,282.96736,283.64943999999997,284.33152,285.0136,285.69568,286.37775999999997,287.05983999999995,287.74192,288.424,289.10607999999996,289.78815999999995,290.47024,291.15232,291.83439999999996,292.51648,293.19856,293.88063999999997,294.56271999999996,295.2448,295.92688,296.60895999999997,297.29103999999995,297.97311999999994,298.6552,299.33727999999996,300.01936,300.70144,301.38352,302.06559999999996,302.74767999999995,303.42976,304.11184,304.79391999999996,305.47599999999994,306.15808,306.84015999999997,307.52224,308.20432,308.8864,309.56847999999997,310.25055999999995,310.93264,311.61472,312.29679999999996,312.97887999999995,313.66095999999993,314.34304,315.02511999999996,315.7072,316.38928,317.07135999999997,317.75343999999996,318.43551999999994,319.1176,319.79967999999997,320.48175999999995,321.16383999999994,321.84592,322.52799999999996,323.21008,323.89216,324.57424,325.25631999999996,325.93839999999994,326.62048,327.30255999999997,327.98463999999996,328.66671999999994,329.3488,330.03087999999997,330.71295999999995,331.39504,332.07712,332.75919999999996,333.44127999999995,334.12336,334.80544,335.48751999999996,336.16959999999995,336.85168,337.53376,338.21583999999996,338.89792,339.58,340.26207999999997,340.94416,341.62624,342.30832,342.99039999999997,343.67248,344.35456,345.03664,345.71871999999996,346.4008,347.08287999999993,347.76496,348.44704,349.12912,349.8112,350.49327999999997,351.17536,351.85743999999994,352.53952,353.22159999999997,353.90368,354.58575999999994,355.26784,355.94992,356.632,357.31408,357.99616,358.67824,359.36031999999994,360.0424,360.72447999999997,361.40656,362.08863999999994,362.77072,363.4528,364.13487999999995,364.81696,365.49904,366.18112,366.86319999999995,367.54528,368.22736,368.90943999999996,369.59151999999995,370.2736,370.95568000000003,371.63775999999996,372.31984,373.00192,373.68399999999997,374.36607999999995,375.04816,375.73024,376.41231999999997,377.09439999999995,377.77648,378.45856,379.14063999999996,379.82272,380.5048,381.18688,381.86895999999996,382.55104,383.23312,383.91519999999997,384.59727999999996,385.27936,385.96144,386.64351999999997,387.3256,388.00768,388.68976,389.37183999999996,390.05392,390.73599999999993,391.41808,392.10015999999996,392.78224,393.46432,394.14639999999997,394.82848,395.51055999999994,396.19264,396.87471999999997,397.5568,398.23887999999994,398.92096,399.60303999999996,400.28512,400.9672,401.64928,402.33136,403.01343999999995,403.69552,404.3776,405.05968,405.74175999999994,406.42384,407.10591999999997,407.78799999999995,408.47008,409.15216,409.83424,410.51631999999995,411.1984,411.88048,412.56255999999996,413.24463999999995,413.92672,414.6088,415.29087999999996,415.97296,416.65504,417.33711999999997,418.01919999999996,418.70128,419.38336,420.06543999999997,420.74751999999995,421.4296,422.1116799999999,422.79375999999996,423.47584,424.15792],\"xaxis\":\"x\",\"y\":[0.0029921027765274963,0.0031745052654736537,0.0033638606016342877,0.0035600776665581464,0.003763030945208623,0.0039725592246930425,0.004188464490108043,0.004410511039705895,0.004638424840413247,0.004871893143216958,0.005110564376075185,0.005354048329823994,0.005601916650045917,0.005853703645067348,0.00610890741718417,0.006366991320911049,0.006627385748547719,0.006889490239698289,0.0071526759076138285,0.007416288171405229,0.00767964977934694,0.00794206410471673,0.00820281869195219,0.008461189027404337,0.008716442505693004,0.008967842559668784,0.009214652919314947,0.009456141962628938,0.009691587119646516,0.009920279289352544,0.010141527228289605,0.010354661869253318,0.010559040528566046,0.010754050961058347,0.010939115223056359,0.011113693305366204,0.011277286500444858,0.0114294404706237,0.011569747987374028,0.011697851315129503,0.011813444217063,0.011916273564398413,0.012006140535264258,0.01208290139370097,0.012146467844153396,0.012196806961543497,0.01223394070176082,0.01225794500205874,0.012268948485338892,0.012267130786580269,0.01225272052366373,0.012225992938503842,0.012187267237676517,0.012136903664585117,0.01207530033759924,0.012002889890506496,0.01192013595301621,0.011827529509935316,0.011725585177996618,0.011614837439165844,0.011495836868596718,0.011369146394265643,0.011235337623727153,0.011094987271420253,0.010948673717567602,0.010796973726984054,0.010640459353102885,0.010479695049282676,0.010315235006034694,0.010147620729260365,0.009977378870969873,0.009805019320317427,0.00963103355919244,0.009455893283096498,0.009280049284664056,0.00910393059399126,0.008927943866964175,0.008752473010057984,0.008577879027642649,0.008404500075703173,0.008232651704079871,0.008062627267872676,0.007894698487536794,0.007729116136430808,0.007566110834155007,0.007405893923933123,0.007248658412527744,0.007094579951724805,0.006943817841250644,0.006796516034076914,0.006652804126390604,0.006512798316035633,0.0063766023149326705,0.006244308202825398,0.006115997211651026,0.005991740431855405,0.0058715994340392584,0.005755626801395069,0.005643866570447565,0.005536354579611255,0.005433118727001065,0.005334179140749684,0.005239548266775141,0.005149230880484231,0.0050632240302730305,0.00498151692188066,0.0049040907536545665,0.004830918513585503,0.004761964749562884,0.0046971853246828045,0.0046365271696117046,0.004579928043971949,0.004527316318476371,0.0044786107891054755,0.004433720534005178,0.004392544822995633,0.00435497308864051,0.0043208849667457855,0.004290150412957257,0.004262629900826802,0.004238174705338798,0.004216627274453256,0.004197821689752343,0.0041815842157954305,0.004167733936316898,0.004156083473962726,0.004146439788877978,0.004138605050148602,0.004132377572885723,0.00412755281263797,0.004123924407842273,0.0041212852601900185,0.004119428642106042,0.004118149320020819,0.004117244681769034,0.00411651585627406,0.0041157688136795895,0.0041148154342647725,0.004113474534824546,0.0041115728417045975,0.00410894590034244,0.004105438911969719,0.004100907489063276,0.004095218322177134,0.0040882497519274365,0.004079892241118745,0.004070048743272976,0.004058634965131167,0.004045579522022878,0.004030823986317029,0.00401432283046148,0.003996043267367175,0.003975964992077493,0.003954079829768205,0.003930391296132148,0.003904914077102961,0.0038776734356522806,0.0038487045540459165,0.0038180518204612166,0.003785768069244675,0.0037519137843263642,0.003716556275405414,0.003679768836483082,0.003641629896152381,0.0036022221687629246,0.0035616318151770266,0.003519947621328672,0.0034772602022032275,0.0034336612381861385,0.003389242749997574,0.003344096417651248,0.0032983129480638742,0.0032519814951119603,0.0032051891350977943,0.003158020399760264,0.0031105568681606384,0.003062876817999446,0.003015054936187976,0.0029671620878151833,0.002919265142024022,0.00287142685274694,0.0028237057917510073,0.002776156331011843,0.0027288286710732265,0.0026817689117547994,0.0026350191613428906,0.0025886176802357185,0.002542599054911113,0.0024969943980376664,0.002451831570554409,0.002407135421594117,0.0023629280422160707,0.0023192290290399696,0.0022760557540279633,0.002233423636841809,0.002191346416401831,0.002149836418488834,0.0021089048164564016,0.002068561882354435,0.002028817226003335,0.0019896800197991655,0.0019511592072715262,0.0019132636936563172,0.0018760025169844905,0.0018393849984240805,0.001803420870846317,0.0017681203848174253,0.0017334943914457137,0.0016995544017387152,0.0016663126223479606,0.0016337819677990856,0.0016019760495224586,0.001570909142213916,0.0015405961282661806,0.0015110524212179235,0.0014822938693686517,0.0014543366409017038,0.001427197092043594,0.0014008916199635213,0.0013754365022802038,0.0013508477251921943,0.0013271408023799798,0.0013043305869416203,0.001282431078715561,0.0012614552294132378,0.001241414748027318,0.0012223199089980083,0.0012041793656078078,0.0011869999710336166,0.0011707866094135592,0.0011555420391841198,0.0011412667508113729,0.001127958840879277,0.0011156139043094829,0.001104224946272616,0.0010937823151132735,0.0010842736573524916,0.0010756838955559192,0.0010679952295668544,0.0010611871613048615,0.0010552365430272007,0.0010501176486463393,0.0010458022673971532,0.0010422598188565351,0.0010394574880409659,0.0010373603790485135,0.0010359316854750384,0.001035132875624055,0.0010349238903493568,0.0010352633512222087,0.001036108776603171,0.0010374168031244695,0.0010391434100534983,0.0010412441440122019,0.0010436743415706128,0.0010463893473149199,0.0010493447251096466,0.0010524964604275413,0.0010558011518068803,0.0010592161897105387,0.0010626999213003993,0.001066211799900055,0.0010697125181933838,0.0010731641244914293,0.0010765301216895888,0.0010797755488263208,0.0010828670454376564,0.0010857728991739328,0.0010884630774009758,0.0010909092437431463,0.001093084760735769,0.001094964679935975,0.0010965257209908101,0.0010977462412771275,0.0010986061978077737,0.001099087103141807,0.0010991719770429215,0.00109884529560044,0.0010980929394626322,0.0010969021427346495,0.0010952614439659835,0.0010931606404982488,0.0010905907472672208,0.0010875439609576735,0.0010840136302003697,0.0010799942322823497,0.0010754813566194149,0.0010704716950184867,0.001064963038542004,0.0010589542805815703,0.0010524454255577888,0.001045437602491632,0.0010379330825431702,0.0010299352994887776,0.0010214488720103514,0.0010124796266010806,0.001003034619852696,0.000993122158879237,0.0009827518186514232,0.000971934455062803,0.0009606822126219112,0.000949008525761607,0.0009369281128746527,0.0009244569623201315,0.0009116123097952288,0.0008984126066271044,0.0008848774787066306,0.0008710276759553519,0.0008568850123857061,0.0008424722969784563,0.0008278132557571554,0.000812932445584252,0.0007978551603343462,0.0007826073302152305,0.0007672154151044935,0.0007517062928479255,0.0007361071435246284,0.0007204453307226064,0.000704748280888066,0.0006890433618121748,0.0006733577613022249,0.0006577183670511136,0.0006421516486721066,0.0006266835428067263,0.0006113393421447913,0.0005961435891194682,0.0005811199749589189,0.0005662912446923021,0.0005516791086234437,0.0005373041607027769,0.0005231858041486164,0.0005093421845943033,0.000495790130969249,0.00048254510426032696,0.00046962115424606366,0.000457030884249632,0.00044478542391788593,0.00043289441000187367,0.0004213659750889007,0.00041020674421626493,0.0003994218392809929,0.0003890148911472252,0.00037898805934160094,0.00036934205921608943,0.00036007619644542967,0.00035118840871169844,0.00034267531441023105,0.0003345322681881677,0.00032675342309873,0.00031933179912020003,0.0003122593577485233,0.0003055270823263571,0.0002991250637197756,0.0002930425908972639,0.00028726824590513043,0.00028179000267016934,0.0002765953289957691,0.0002716712910532757,0.0002670046596080446,0.0002625820171610322,0.0002583898651339217,0.0002544147301804105,0.00025064326867025845,0.00024706236836758284,0.0002436592463121856,0.00024042154191364538,0.00023733740428346102,0.00023439557286138524,0.00023158545043856188,0.00022889716774221428,0.0002263216388240522,0.0002238506065865667,0.00022147667788696088,0.00021919334777618623,0.0002169950125588271,0.0002148769714963769,0.00021283541711969727,0.00021086741426374928,0.0002089708680865777,0.000207144481482479,0.00020538770244370413,0.00020370066206340789,0.0002020841040024314,0.00020053930636155617,0.00019906799700702906,0.00019767226348850968,0.00019635445876357383,0.00019511710400018598,0.00019396278976720996,0.00019289407694238832,0.00019191339866709257,0.0001910229646575699,0.00019022466914387316,0.00018952000365093707,0.00018890997576244387,0.0001883950349186233,0.00018797500619555817,0.0001876490328978186,0.0001874155286703163,0.00018727213970135006,0.00018721571744911972,0.000187242302180825,0.00018734711746909248,0.00018752457564711862,0.00018776829408371842,0.00018807112200440972,0.00018842517745660628,0.0001888218938975683,0.0001892520757744247,0.0001897059623675345,0.0001901732990826737,0.00019064341530474258,0.00019110530786637162,0.00019154772913919572,0.0001919592787236921,0.00019232849769512341,0.00019264396435790166,0.00019289439046801828,0.0001930687169023389,0.00019315620778368397,0.0001931465421107652,0.0001930299019911598,0.00019279705663253607,0.00019243944131113591,0.00019194923060599525,0.00019131940526140488,0.00019054381211763057,0.00018961721662987953,0.00018853534757696706,0.00018729493364318413,0.00018589373163868734,0.0001843305462045628,0.0001826052409278886,0.0001807187408690575,0.000178673026577792,0.00017647111974525523,0.00017411706070704654,0.00017161587807537886,0.00016897355083806017,0.00016619696331687486,0.00016329385342838003,0.00016027275473585981,0.00015714293282212795,0.00015391431654891547,0.00015059742479970107,0.00014720328932896846,0.0001437433743619761,0.00014022949360521314,0.00013667372533876707,0.00013308832626788216,0.0001294856448120681,0.0001258780345062888,0.00012227776818011282,0.00011869695356727377,0.00011514745098011968,0.00011164079366090044,0.00010818811139510839,0.00010480005794118577,0.00010148674279619173,9.825766777867839e-05,9.512166886831725e-05,9.208686369714721e-05,8.916060503986159e-05,8.634944060083179e-05,8.365907934377303e-05,8.109436455664487e-05,7.865925378978883e-05,7.635680574995764e-05,7.418917417713824e-05,7.215760867533279e-05,7.026246241320709e-05,6.850320655607909e-05,6.687845123760912e-05,6.538597282810164e-05,6.402274720698661e-05,6.2784988700177e-05,6.166819429900286e-05,6.066719273664453e-05,5.977619796078415e-05,5.8988866507899563e-05,5.829835825552992e-05,5.7697400004239164e-05,5.71783513211373e-05,5.6733272061912455e-05,5.6353990978563776e-05,5.603217481554785e-05,5.575939729796547e-05,5.552720742177714e-05,5.5327196467843554e-05,5.515106317880383e-05,5.4990676560313585e-05,5.4838135795814215e-05,5.4685826796562986e-05,5.452647494584127e-05,5.4353193637730544e-05,5.41595282561964e-05,5.393949528899393e-05,5.3687616322585804e-05,5.339894671829199e-05,5.3069098825657974e-05],\"yaxis\":\"y\",\"type\":\"scatter\",\"fill\":\"tozeroy\",\"hovertemplate\":\"\\u003cb\\u003eReal\\u003c\\u002fb\\u003e\\u003cbr\\u003eValue: %{x}\\u003cbr\\u003eFrequency: %{y}\\u003cextra\\u003e\\u003c\\u002fextra\\u003e\"},{\"legendgroup\":\"Synthetic\",\"marker\":{\"color\":\"#01E0C9\"},\"mode\":\"lines\",\"name\":\"Synthetic\",\"showlegend\":true,\"x\":[83.8,84.4028,85.0056,85.6084,86.21119999999999,86.814,87.4168,88.0196,88.6224,89.2252,89.828,90.43079999999999,91.03359999999999,91.6364,92.2392,92.842,93.4448,94.04759999999999,94.65039999999999,95.25319999999999,95.856,96.4588,97.0616,97.6644,98.2672,98.86999999999999,99.47279999999999,100.0756,100.6784,101.2812,101.884,102.48679999999999,103.08959999999999,103.69239999999999,104.2952,104.898,105.5008,106.1036,106.7064,107.30919999999999,107.91199999999999,108.5148,109.1176,109.7204,110.32319999999999,110.92599999999999,111.52879999999999,112.13159999999999,112.7344,113.3372,113.94,114.5428,115.1456,115.7484,116.35119999999999,116.95400000000001,117.5568,118.1596,118.76239999999999,119.36519999999999,119.96799999999999,120.57079999999999,121.1736,121.7764,122.3792,122.982,123.5848,124.1876,124.79039999999999,125.3932,125.996,126.59879999999998,127.2016,127.80439999999999,128.4072,129.01,129.6128,130.2156,130.8184,131.4212,132.024,132.6268,133.2296,133.8324,134.4352,135.03799999999998,135.64079999999998,136.2436,136.8464,137.4492,138.052,138.6548,139.2576,139.8604,140.4632,141.06599999999997,141.66879999999998,142.27159999999998,142.87439999999998,143.47719999999998,144.07999999999998,144.6828,145.2856,145.8884,146.4912,147.094,147.6968,148.2996,148.9024,149.5052,150.108,150.7108,151.3136,151.9164,152.5192,153.122,153.7248,154.3276,154.9304,155.5332,156.136,156.73879999999997,157.34159999999997,157.94439999999997,158.54719999999998,159.14999999999998,159.75279999999998,160.35559999999998,160.95839999999998,161.56119999999999,162.164,162.7668,163.3696,163.9724,164.5752,165.178,165.7808,166.3836,166.9864,167.5892,168.192,168.79479999999998,169.39759999999998,170.00039999999998,170.60320000000002,171.20600000000002,171.8088,172.4116,173.0144,173.6172,174.22,174.82279999999997,175.42559999999997,176.02839999999998,176.63119999999998,177.23399999999998,177.83679999999998,178.43959999999998,179.0424,179.6452,180.248,180.8508,181.4536,182.0564,182.6592,183.262,183.8648,184.4676,185.0704,185.6732,186.27599999999998,186.87879999999998,187.4816,188.0844,188.6872,189.28999999999996,189.89279999999997,190.49559999999997,191.0984,191.7012,192.30399999999997,192.90679999999998,193.50959999999998,194.11239999999998,194.71519999999998,195.31799999999998,195.92079999999999,196.5236,197.1264,197.7292,198.332,198.9348,199.5376,200.1404,200.7432,201.346,201.9488,202.5516,203.1544,203.7572,204.35999999999999,204.9628,205.5656,206.1684,206.7712,207.37399999999997,207.97679999999997,208.57959999999997,209.18239999999997,209.78519999999997,210.38799999999998,210.99079999999998,211.59359999999998,212.19639999999998,212.79919999999998,213.402,214.0048,214.6076,215.2104,215.8132,216.416,217.0188,217.6216,218.2244,218.8272,219.43,220.0328,220.63559999999995,221.2384,221.84119999999996,222.44400000000002,223.04679999999996,223.64959999999996,224.25239999999997,224.85519999999997,225.45799999999997,226.06079999999997,226.66359999999997,227.26639999999998,227.86919999999998,228.47199999999998,229.07479999999998,229.67759999999998,230.2804,230.8832,231.486,232.0888,232.6916,233.2944,233.8972,234.5,235.1028,235.70559999999995,236.3084,236.9112,237.514,238.1168,238.71959999999996,239.32240000000002,239.92519999999996,240.52800000000002,241.13079999999997,241.73359999999997,242.33639999999997,242.93919999999997,243.54199999999997,244.14479999999998,244.74759999999998,245.35039999999998,245.95319999999998,246.55599999999998,247.15879999999999,247.7616,248.3644,248.9672,249.57,250.1728,250.7756,251.3784,251.9812,252.584,253.1868,253.78959999999995,254.3924,254.99519999999995,255.598,256.20079999999996,256.80359999999996,257.4064,258.00919999999996,258.612,259.21479999999997,259.81759999999997,260.4204,261.0232,261.626,262.2288,262.8316,263.4344,264.0372,264.64,265.2428,265.8456,266.4484,267.0512,267.654,268.2568,268.8596,269.4624,270.0652,270.668,271.2708,271.87359999999995,272.4764,273.07919999999996,273.682,274.28479999999996,274.88759999999996,275.49039999999997,276.09319999999997,276.69599999999997,277.29879999999997,277.9016,278.5044,279.1072,279.71,280.3128,280.9156,281.5184,282.1212,282.724,283.3268,283.9296,284.5324,285.1352,285.73799999999994,286.3408,286.94359999999995,287.5464,288.1492,288.75199999999995,289.3548,289.95759999999996,290.5604,291.16319999999996,291.76599999999996,292.36879999999996,292.97159999999997,293.57439999999997,294.17719999999997,294.78,295.3828,295.9856,296.5884,297.1912,297.794,298.3968,298.9996,299.6024,300.2052,300.808,301.4108,302.0136,302.6164,303.2192,303.82199999999995,304.4248,305.02759999999995,305.6304,306.23319999999995,306.83599999999996,307.43879999999996,308.04159999999996,308.6444,309.24719999999996,309.84999999999997,310.45279999999997,311.05559999999997,311.6584,312.2612,312.864,313.4668,314.0696,314.6724,315.2752,315.878,316.4808,317.0836,317.6864,318.2892,318.892,319.4948,320.0976,320.7004,321.3032,321.90599999999995,322.5088,323.11159999999995,323.7144,324.31719999999996,324.91999999999996,325.52279999999996,326.12559999999996,326.72839999999997,327.33119999999997,327.93399999999997,328.53679999999997,329.1396,329.7424,330.3452,330.948,331.5508,332.1536,332.7564,333.3592,333.962,334.5648,335.1676,335.7704,336.3732,336.97599999999994,337.5788,338.18159999999995,338.7844,339.3872,339.99,340.5928,341.1956,341.7984,342.4012,343.00399999999996,343.6068,344.20959999999997,344.8124,345.41519999999997,346.01800000000003,346.6208,347.2236,347.8264,348.4292,349.03200000000004,349.6348,350.2376,350.8404,351.4432,352.046,352.6488,353.2516,353.8544,354.45719999999994,355.06,355.6628,356.2656,356.86839999999995,357.47119999999995,358.074,358.6768,359.2796,359.88239999999996,360.48519999999996,361.088,361.6908,362.29359999999997,362.89639999999997,363.4992,364.10200000000003,364.7048,365.3076,365.9104,366.5132,367.116,367.7188,368.3216,368.9244,369.52719999999994,370.13,370.7328,371.3356,371.9384,372.54119999999995,373.144,373.7468,374.3496,374.95239999999995,375.55519999999996,376.158,376.7608,377.36359999999996,377.96639999999996,378.56919999999997,379.172,379.7748,380.3776,380.9804,381.5832,382.18600000000004,382.7888,383.3916,383.9944,384.5972],\"xaxis\":\"x\",\"y\":[0.0067517824301957475,0.0068717019558966865,0.006988499461095661,0.007101993959580953,0.007212012583116891,0.007318391191718416,0.007420974944068016,0.0075196188249602005,0.007614188126945636,0.007704558883655743,0.007790618252614209,0.007872264845683296,0.007949409005645966,0.008021973027786873,0.008089891325703787,0.008153110540951001,0.008211589596487042,0.008265299694264615,0.008314224257661077,0.008358358819796496,0.008397710859124403,0.008432299584001383,0.008462155668245909,0.008487320939980312,0.008507848026311882,0.008523799956645846,0.008535249727635832,0.00854227983296177,0.008544981761283117,0.008543455465843727,0.008537808809304527,0.008528156987450849,0.00851462193546304,0.008497331720451995,0.008476419923946786,0.008452025017979564,0.008424289738345562,0.008393360458524176,0.008359386567631978,0.008322519855642606,0.008282913908952878,0.00824072351920182,0.008196104108061038,0.008149211170513464,0.008100199738925546,0.008049223869996349,0.007996436156439808,0.007941987265024045,0.007886025502357136,0.007828696409574372,0.007770142386848859,0.007710502348418169,0.007649911408595434,0.007588500599016635,0.00752639661716684,0.007463721606029397,0.007400592964514035,0.007337123188143684,0.007273419739316636,0.007209584946310319,0.00714571593005755,0.007081904557603659,0.007018237421046277,0.006954795840666521,0.006891655890882127,0.006828888447589032,0.006766559255408087,0.006704729013316556,0.0066434534771205945,0.006582783577213831,0.0065227655500668625,0.006463441081904016,0.006404847463044992,0.0063470177514191595,0.006289980943799381,0.006233762153348262,0.006178382792122912,0.006123860757242824,0.006070210619488796,0.0060174438131687605,0.005965568826156791,0.005914591389084948,0.005864514662742428,0.005815339422812543,0.0057670642411543835,0.00571968566291183,0.005673198378808408,0.005627595392060374,0.0055828681794126795,0.005539006845873362,0.005496000272789464,0.005453836258973168,0.005412501654649484,0.005371982488055571,0.00533226408457874,0.005293331178372207,0.005255168016437377,0.00521775845520728,0.00518108604970769,0.005145134135411895,0.005109885902939878,0.005075324465784816,0.00504143292127828,0.005008194405030779,0.004975592139106271,0.004943609474207939,0.00491222992616908,0.004881437207054968,0.004851215251192674,0.004821548236452668,0.004792420601111486,0.004763817056627015,0.0047357225966583845,0.004708122502660553,0.004681002346379923,0.004654347989571255,0.004628145581249131,0.004602381552777791,0.004577042611092823,0.004552115730336423,0.004527588142175062,0.0045034473250542655,0.004479680992631007,0.004456277081608365,0.004433223739181644,0.0044105093102887105,0.00438812232484129,0.004366051485097328,0.004344285653318612,0.004322813839841713,0.004301625191675185,0.0042807089817207804,0.004260054598702573,0.004239651537874325,0.004219489392563233,0.004199557846596604,0.00417984666764784,0.004160345701528848,0.004141044867447948,0.004121934154245646,0.0041030036176147025,0.004084243378306808,0.00406564362132432,0.004047194596093545,0.004028886617614343,0.004010710068580472,0.003992655402465091,0.003974713147566792,0.003956873912012532,0.00393912838971556,0.003921467367287919,0.0039038817319086818,0.0038863624801506137,0.003868900727768681,0.0038514877204544056,0.0038341148455596614,0.003816773644792411,0.0037994558278845645,0.0037821532872289064,0.0037648581134775505,0.0037475626120885203,0.003730259320799833,0.003712941028002181,0.0036956007919713048,0.003678231960910092,0.0036608281937381745,0.0036433834815531706,0.0036258921696736743,0.003608348980158355,0.0035907490346802377,0.0035730878776187146,0.0035553614992154888,0.0035375663586246792,0.003519699406671207,0.003501758108116626,0.0034837404632175406,0.003465645028348702,0.003447470935452082,0.003429217910063483,0.0034108862876617587,0.0033924770280805315,0.0033739917277209636,0.0033554326293046923,0.003336802628910628,0.0033181052800463837,0.003299344794516175,0.0032805260398609845,0.003261654533164723,0.0032427364310409976,0.0032237785156396205,0.003204788176539664,0.003185773388426439,0.0031667426844833157,0.0031477051254652478,0.003128670264459062,0.003109648107375564,0.003090649069259907,0.0030716839265491425,0.003052763765448836,0.003033899926643405,0.003015103946597647,0.002996387495748156,0.0029777623139234863,0.0029592401433698556,0.0029408326597947206,0.002922551401872914,0.002904407699689099,0.00288641260261554,0.002868576807144748,0.0028509105852130203,0.0028334237135621545,0.0028161254046926293,0.002799024239962498,0.0027821281053814805,0.002765444130639619,0.0027489786318940957,0.0027327370588166927,0.002716723946377964,0.002700942871812628,0.002685396417174195,0.00267008613784623,0.0026550125373323414,0.002640175048598514,0.0026255720221893854,0.002611200721285555,0.0025970573238122407,0.00258313693165139,0.002569433586950124,0.002555940295458913,0.002542649056773591,0.0025295509012971252,0.002516635933680263,0.002503893382445425,0.002491311655446531,0.0024788784007685016,0.0024665805726253338,0.002454404501774889,0.002442335969932274,0.002430360287632595,0.0024184623749677367,0.0024066268446015257,0.0023948380864526188,0.0023830803534255346,0.0023713378475669162,0.002359594806026702,0.002347835586212054,0.0023360447495357497,0.002324207143179825,0.0023123079793194784,0.0023003329112812726,0.0022882681061429312,0.002276100313319509,0.002263816928721532,0.0022514060541146855,0.0022388565513571566,0.00222615809123928,0.0022133011967002017,0.002200277280247252,0.0021870786754551734,0.0021736986624736345,0.002160131487522039,0.002146372376400332,0.0021324175420920698,0.0021182641865821017,0.0021039104970542923,0.0020893556366751694,0.002074599730206597,0.002059643844724129,0.002044489965747802,0.002029140969117796,0.0020136005889694903,0.0019978733821799316,0.001981964689671158,0.0019658805949649876,0.0019496278803887738,0.0019332139813325322,0.001916646938954643,0.0018999353517265753,0.0018830883261964095,0.001866115427337436,0.0018490266288310462,0.0018318322636139007,0.0018145429749972573,0.0017971696686425412,0.0017797234656516587,0.0017622156570035314,0.001744657659540663,0.001727060973680908,0.0017094371430012426,0.0016917977158115573,0.0016741542088086732,0.0016565180728735115,0.0016389006610480516,0.0016213131987041394,0.0016037667558928025,0.0015862722218414858,0.001568840281547127,0.0015514813943958445,0.0015342057747249212,0.0015170233742301954,0.0014999438661117105,0.0014829766308426023,0.001466130743440806,0.001449414962119988,0.0014328377181953339,0.0014164071071210824,0.0014001308805400713,0.0013840164392307118,0.0013680708268437869,0.0013523007243297855,0.0013367124449672435,0.001321311929913282,0.0013061047442092116,0.0012910960731861887,0.0012762907192287048,0.0012616930988662582,0.0012473072401764363,0.001233136780494879,0.0012191849644396817,0.0012054546422687914,0.0011919482685995072,0.0011786679015283194,0.0011656152021975595,0.0011527914348621138,0.0011401974675148557,0.0011278337731334648,0.0011157004316136503,0.0011037971324547049,0.0010921231782625744,0.0010806774891334383,0.0010694586079769523,0.0010584647068332047,0.0010476935942308162,0.001037142723625837,0.0010268092029521224,0.0010166898053039627,0.0010067809807609049,0.000997078869353251,0.000987579315154674,0.000978277881476121,0.000969169867122562,0.0009602503236617424,0.000951514073641778,0.0009429557296824995,0.0009345697143541904,0.0009263502807466056,0.0009182915336215611,0.0009103874510334887,0.0009026319062948965,0.0008950186901572874,0.0008875415330731123,0.0008801941274008617,0.0008729701494133232,0.0008658632809685723,0.0008588672307043211,0.0008519757546188875,0.0008451826759062217,0.0008384819039180661,0.000831867452133489,0.0008253334550244321,0.0008188741837157013,0.0008124840603486953,0.0008061576710700845,0.0007998897775794918,0.000793675327183718,0.0007875094613192782,0.0007813875225194692,0.0007753050598170907,0.0007692578325886996,0.0007632418128611856,0.0007572531861158438,0.0007512883506392683,0.0007453439154838129,0.0007394166971131201,0.0007335037148200201,0.000727602185014891,0.0007217095144922635,0.0007158232927918151,0.0007099412837769792,0.0007040614165600786,0.0006981817759070388,0.0006923005922575024,0.0006864162314972874,0.0006805271846198465,0.0006746320574115409,0.0006687295602922388,0.0006628184984380765,0.000656897762307162,0.0006509663186817023,0.0006450232023315664,0.0006390675083948194,0.0006330983855602363,0.0006271150301256303,0.0006211166809938255,0.0006151026156556927,0.0006090721471967641,0.0006030246223509024,0.0005969594206112563,0.0005908759543956082,0.0005847736702502917,0.000578652051064155,0.0005725106192519496,0.0005663489408548505,0.0005601666304949525,0.0005539633571104307,0.0005477388503888443,0.0005414929078077789,0.0005352254021847926,0.0005289362896325088,0.0005226256178096562,0.0005162935343550803,0.0005099402953890414,0.0005035662739647231,0.0004971719683525684,0.000490758010041004,0.000484325171339149,0.00047787437247030225,0.00047140668804920437,0.00046492335284132366,0.0004584257667086127,0.0004519154986532085,0.0004453942898784435,0.00043886405579509773,0.00043232688691002315,0.00042578504854407217,0.0004192409793364283,0.0004126972885030777,0.0004061567518279643,0.00039962230637646806,0.0003930970439319091,0.00038658420316698344,0.000380087160572994,0.00037360942018068957,0.0003671546021170203,0.0003607264300525006,0.0003543287176035927,0.00034796535376397,0.00034164028744724476,0.0003353575112319516,0.0003291210444070371,0.00032293491542284645,0.00031680314385857376,0.00031072972202221354,0.0003047185963033631,0.00029877364840249235,0.0002928986765627636,0.00028709737693191314,0.0002813733251821878,0.00027572995851587236,0.00027017055818243953,0.0002646982326309605,0.00025931590141799394,0.00025402627998684883,0.000248831865428876,0.00024373492333131894,0.00023873747580928476,0.00023384129081165602,0.00022904787278225098,0.00022435845474838863,0.00021977399189921875,0.00021529515670585324,0.00021092233562455137,0.00020665562741302746,0.0002024948430785102,0.0001984395074644794,0.00019448886247124355,0.0001906418718937144,0.000186897227847992,0.000183253358746863,0.00017970843877298468,0.00017626039878766107,0.0001729069386026272,0.00016964554053237912,0.00016647348413529188,0.00016338786204322947,0.0001603855967715713,0.00015746345839467318,0.00015461808296578873,0.00015184599155545407,0.00014914360977833752,0.00014650728767558478,0.00014393331981783148,0.00014141796549322366,0.0001389574688451268,0.0001365480788255572,0.0001341860688328464,0.00013186775590555,0.00012958951934911487,0.0001273478186773174,0.00012513921075684722,0.0001229603660506607,0.00012080808386372315,0.00011867930650346586,0.00011657113227660062,0.00011448082725376344,0.00011240583574373282,0.00011034378942956048,0.00010829251512978095,0.00010625004115883386,0.00010421460227181916],\"yaxis\":\"y\",\"type\":\"scatter\",\"fill\":\"tozeroy\",\"hovertemplate\":\"\\u003cb\\u003eSynthetic\\u003c\\u002fb\\u003e\\u003cbr\\u003eValue: %{x}\\u003cbr\\u003eFrequency: %{y}\\u003cextra\\u003e\\u003c\\u002fextra\\u003e\"}],                        {\"barmode\":\"overlay\",\"hovermode\":\"closest\",\"legend\":{\"traceorder\":\"reversed\"},\"xaxis\":{\"anchor\":\"y2\",\"domain\":[0.0,1.0],\"zeroline\":false,\"title\":{\"text\":\"Value\"}},\"yaxis\":{\"anchor\":\"free\",\"domain\":[0.0,1],\"position\":0.0,\"title\":{\"text\":\"Frequency\"}},\"template\":{\"data\":{\"histogram2dcontour\":[{\"type\":\"histogram2dcontour\",\"colorbar\":{\"outlinewidth\":0,\"ticks\":\"\"},\"colorscale\":[[0.0,\"#0d0887\"],[0.1111111111111111,\"#46039f\"],[0.2222222222222222,\"#7201a8\"],[0.3333333333333333,\"#9c179e\"],[0.4444444444444444,\"#bd3786\"],[0.5555555555555556,\"#d8576b\"],[0.6666666666666666,\"#ed7953\"],[0.7777777777777778,\"#fb9f3a\"],[0.8888888888888888,\"#fdca26\"],[1.0,\"#f0f921\"]]}],\"choropleth\":[{\"type\":\"choropleth\",\"colorbar\":{\"outlinewidth\":0,\"ticks\":\"\"}}],\"histogram2d\":[{\"type\":\"histogram2d\",\"colorbar\":{\"outlinewidth\":0,\"ticks\":\"\"},\"colorscale\":[[0.0,\"#0d0887\"],[0.1111111111111111,\"#46039f\"],[0.2222222222222222,\"#7201a8\"],[0.3333333333333333,\"#9c179e\"],[0.4444444444444444,\"#bd3786\"],[0.5555555555555556,\"#d8576b\"],[0.6666666666666666,\"#ed7953\"],[0.7777777777777778,\"#fb9f3a\"],[0.8888888888888888,\"#fdca26\"],[1.0,\"#f0f921\"]]}],\"heatmap\":[{\"type\":\"heatmap\",\"colorbar\":{\"outlinewidth\":0,\"ticks\":\"\"},\"colorscale\":[[0.0,\"#0d0887\"],[0.1111111111111111,\"#46039f\"],[0.2222222222222222,\"#7201a8\"],[0.3333333333333333,\"#9c179e\"],[0.4444444444444444,\"#bd3786\"],[0.5555555555555556,\"#d8576b\"],[0.6666666666666666,\"#ed7953\"],[0.7777777777777778,\"#fb9f3a\"],[0.8888888888888888,\"#fdca26\"],[1.0,\"#f0f921\"]]}],\"heatmapgl\":[{\"type\":\"heatmapgl\",\"colorbar\":{\"outlinewidth\":0,\"ticks\":\"\"},\"colorscale\":[[0.0,\"#0d0887\"],[0.1111111111111111,\"#46039f\"],[0.2222222222222222,\"#7201a8\"],[0.3333333333333333,\"#9c179e\"],[0.4444444444444444,\"#bd3786\"],[0.5555555555555556,\"#d8576b\"],[0.6666666666666666,\"#ed7953\"],[0.7777777777777778,\"#fb9f3a\"],[0.8888888888888888,\"#fdca26\"],[1.0,\"#f0f921\"]]}],\"contourcarpet\":[{\"type\":\"contourcarpet\",\"colorbar\":{\"outlinewidth\":0,\"ticks\":\"\"}}],\"contour\":[{\"type\":\"contour\",\"colorbar\":{\"outlinewidth\":0,\"ticks\":\"\"},\"colorscale\":[[0.0,\"#0d0887\"],[0.1111111111111111,\"#46039f\"],[0.2222222222222222,\"#7201a8\"],[0.3333333333333333,\"#9c179e\"],[0.4444444444444444,\"#bd3786\"],[0.5555555555555556,\"#d8576b\"],[0.6666666666666666,\"#ed7953\"],[0.7777777777777778,\"#fb9f3a\"],[0.8888888888888888,\"#fdca26\"],[1.0,\"#f0f921\"]]}],\"surface\":[{\"type\":\"surface\",\"colorbar\":{\"outlinewidth\":0,\"ticks\":\"\"},\"colorscale\":[[0.0,\"#0d0887\"],[0.1111111111111111,\"#46039f\"],[0.2222222222222222,\"#7201a8\"],[0.3333333333333333,\"#9c179e\"],[0.4444444444444444,\"#bd3786\"],[0.5555555555555556,\"#d8576b\"],[0.6666666666666666,\"#ed7953\"],[0.7777777777777778,\"#fb9f3a\"],[0.8888888888888888,\"#fdca26\"],[1.0,\"#f0f921\"]]}],\"mesh3d\":[{\"type\":\"mesh3d\",\"colorbar\":{\"outlinewidth\":0,\"ticks\":\"\"}}],\"scatter\":[{\"fillpattern\":{\"fillmode\":\"overlay\",\"size\":10,\"solidity\":0.2},\"type\":\"scatter\"}],\"parcoords\":[{\"type\":\"parcoords\",\"line\":{\"colorbar\":{\"outlinewidth\":0,\"ticks\":\"\"}}}],\"scatterpolargl\":[{\"type\":\"scatterpolargl\",\"marker\":{\"colorbar\":{\"outlinewidth\":0,\"ticks\":\"\"}}}],\"bar\":[{\"error_x\":{\"color\":\"#2a3f5f\"},\"error_y\":{\"color\":\"#2a3f5f\"},\"marker\":{\"line\":{\"color\":\"#E5ECF6\",\"width\":0.5},\"pattern\":{\"fillmode\":\"overlay\",\"size\":10,\"solidity\":0.2}},\"type\":\"bar\"}],\"scattergeo\":[{\"type\":\"scattergeo\",\"marker\":{\"colorbar\":{\"outlinewidth\":0,\"ticks\":\"\"}}}],\"scatterpolar\":[{\"type\":\"scatterpolar\",\"marker\":{\"colorbar\":{\"outlinewidth\":0,\"ticks\":\"\"}}}],\"histogram\":[{\"marker\":{\"pattern\":{\"fillmode\":\"overlay\",\"size\":10,\"solidity\":0.2}},\"type\":\"histogram\"}],\"scattergl\":[{\"type\":\"scattergl\",\"marker\":{\"colorbar\":{\"outlinewidth\":0,\"ticks\":\"\"}}}],\"scatter3d\":[{\"type\":\"scatter3d\",\"line\":{\"colorbar\":{\"outlinewidth\":0,\"ticks\":\"\"}},\"marker\":{\"colorbar\":{\"outlinewidth\":0,\"ticks\":\"\"}}}],\"scattermapbox\":[{\"type\":\"scattermapbox\",\"marker\":{\"colorbar\":{\"outlinewidth\":0,\"ticks\":\"\"}}}],\"scatterternary\":[{\"type\":\"scatterternary\",\"marker\":{\"colorbar\":{\"outlinewidth\":0,\"ticks\":\"\"}}}],\"scattercarpet\":[{\"type\":\"scattercarpet\",\"marker\":{\"colorbar\":{\"outlinewidth\":0,\"ticks\":\"\"}}}],\"carpet\":[{\"aaxis\":{\"endlinecolor\":\"#2a3f5f\",\"gridcolor\":\"white\",\"linecolor\":\"white\",\"minorgridcolor\":\"white\",\"startlinecolor\":\"#2a3f5f\"},\"baxis\":{\"endlinecolor\":\"#2a3f5f\",\"gridcolor\":\"white\",\"linecolor\":\"white\",\"minorgridcolor\":\"white\",\"startlinecolor\":\"#2a3f5f\"},\"type\":\"carpet\"}],\"table\":[{\"cells\":{\"fill\":{\"color\":\"#EBF0F8\"},\"line\":{\"color\":\"white\"}},\"header\":{\"fill\":{\"color\":\"#C8D4E3\"},\"line\":{\"color\":\"white\"}},\"type\":\"table\"}],\"barpolar\":[{\"marker\":{\"line\":{\"color\":\"#E5ECF6\",\"width\":0.5},\"pattern\":{\"fillmode\":\"overlay\",\"size\":10,\"solidity\":0.2}},\"type\":\"barpolar\"}],\"pie\":[{\"automargin\":true,\"type\":\"pie\"}]},\"layout\":{\"autotypenumbers\":\"strict\",\"colorway\":[\"#636efa\",\"#EF553B\",\"#00cc96\",\"#ab63fa\",\"#FFA15A\",\"#19d3f3\",\"#FF6692\",\"#B6E880\",\"#FF97FF\",\"#FECB52\"],\"font\":{\"color\":\"#2a3f5f\"},\"hovermode\":\"closest\",\"hoverlabel\":{\"align\":\"left\"},\"paper_bgcolor\":\"white\",\"plot_bgcolor\":\"#E5ECF6\",\"polar\":{\"bgcolor\":\"#E5ECF6\",\"angularaxis\":{\"gridcolor\":\"white\",\"linecolor\":\"white\",\"ticks\":\"\"},\"radialaxis\":{\"gridcolor\":\"white\",\"linecolor\":\"white\",\"ticks\":\"\"}},\"ternary\":{\"bgcolor\":\"#E5ECF6\",\"aaxis\":{\"gridcolor\":\"white\",\"linecolor\":\"white\",\"ticks\":\"\"},\"baxis\":{\"gridcolor\":\"white\",\"linecolor\":\"white\",\"ticks\":\"\"},\"caxis\":{\"gridcolor\":\"white\",\"linecolor\":\"white\",\"ticks\":\"\"}},\"coloraxis\":{\"colorbar\":{\"outlinewidth\":0,\"ticks\":\"\"}},\"colorscale\":{\"sequential\":[[0.0,\"#0d0887\"],[0.1111111111111111,\"#46039f\"],[0.2222222222222222,\"#7201a8\"],[0.3333333333333333,\"#9c179e\"],[0.4444444444444444,\"#bd3786\"],[0.5555555555555556,\"#d8576b\"],[0.6666666666666666,\"#ed7953\"],[0.7777777777777778,\"#fb9f3a\"],[0.8888888888888888,\"#fdca26\"],[1.0,\"#f0f921\"]],\"sequentialminus\":[[0.0,\"#0d0887\"],[0.1111111111111111,\"#46039f\"],[0.2222222222222222,\"#7201a8\"],[0.3333333333333333,\"#9c179e\"],[0.4444444444444444,\"#bd3786\"],[0.5555555555555556,\"#d8576b\"],[0.6666666666666666,\"#ed7953\"],[0.7777777777777778,\"#fb9f3a\"],[0.8888888888888888,\"#fdca26\"],[1.0,\"#f0f921\"]],\"diverging\":[[0,\"#8e0152\"],[0.1,\"#c51b7d\"],[0.2,\"#de77ae\"],[0.3,\"#f1b6da\"],[0.4,\"#fde0ef\"],[0.5,\"#f7f7f7\"],[0.6,\"#e6f5d0\"],[0.7,\"#b8e186\"],[0.8,\"#7fbc41\"],[0.9,\"#4d9221\"],[1,\"#276419\"]]},\"xaxis\":{\"gridcolor\":\"white\",\"linecolor\":\"white\",\"ticks\":\"\",\"title\":{\"standoff\":15},\"zerolinecolor\":\"white\",\"automargin\":true,\"zerolinewidth\":2},\"yaxis\":{\"gridcolor\":\"white\",\"linecolor\":\"white\",\"ticks\":\"\",\"title\":{\"standoff\":15},\"zerolinecolor\":\"white\",\"automargin\":true,\"zerolinewidth\":2},\"scene\":{\"xaxis\":{\"backgroundcolor\":\"#E5ECF6\",\"gridcolor\":\"white\",\"linecolor\":\"white\",\"showbackground\":true,\"ticks\":\"\",\"zerolinecolor\":\"white\",\"gridwidth\":2},\"yaxis\":{\"backgroundcolor\":\"#E5ECF6\",\"gridcolor\":\"white\",\"linecolor\":\"white\",\"showbackground\":true,\"ticks\":\"\",\"zerolinecolor\":\"white\",\"gridwidth\":2},\"zaxis\":{\"backgroundcolor\":\"#E5ECF6\",\"gridcolor\":\"white\",\"linecolor\":\"white\",\"showbackground\":true,\"ticks\":\"\",\"zerolinecolor\":\"white\",\"gridwidth\":2}},\"shapedefaults\":{\"line\":{\"color\":\"#2a3f5f\"}},\"annotationdefaults\":{\"arrowcolor\":\"#2a3f5f\",\"arrowhead\":0,\"arrowwidth\":1},\"geo\":{\"bgcolor\":\"white\",\"landcolor\":\"#E5ECF6\",\"subunitcolor\":\"white\",\"showland\":true,\"showlakes\":true,\"lakecolor\":\"white\"},\"title\":{\"x\":0.05},\"mapbox\":{\"style\":\"light\"}}},\"title\":{\"text\":\"Real vs. Synthetic Data for column room_rate\"},\"plot_bgcolor\":\"#F5F5F8\"},                        {\"responsive\": true}                    ).then(function(){\n",
       "                            \n",
       "var gd = document.getElementById('93498932-5d62-4de3-ae8b-59aba9a59bd1');\n",
       "var x = new MutationObserver(function (mutations, observer) {{\n",
       "        var display = window.getComputedStyle(gd).display;\n",
       "        if (!display || display === 'none') {{\n",
       "            console.log([gd, 'removed!']);\n",
       "            Plotly.purge(gd);\n",
       "            observer.disconnect();\n",
       "        }}\n",
       "}});\n",
       "\n",
       "// Listen for the removal of the full notebook cells\n",
       "var notebookContainer = gd.closest('#notebook-container');\n",
       "if (notebookContainer) {{\n",
       "    x.observe(notebookContainer, {childList: true});\n",
       "}}\n",
       "\n",
       "// Listen for the clearing of the current output cell\n",
       "var outputEl = gd.closest('.output');\n",
       "if (outputEl) {{\n",
       "    x.observe(outputEl, {childList: true});\n",
       "}}\n",
       "\n",
       "                        })                };                });            </script>        </div>"
      ]
     },
     "metadata": {},
     "output_type": "display_data"
    }
   ],
   "source": [
    "# visualizing the data\n",
    "\n",
    "from sdv.evaluation.single_table import get_column_plot\n",
    "\n",
    "fig = get_column_plot(\n",
    "    real_data=real_data,\n",
    "    synthetic_data=synthetic_data,\n",
    "    column_name=\"room_rate\",\n",
    "    metadata=metadata\n",
    ")\n",
    "\n",
    "fig.show()"
   ]
  },
  {
   "cell_type": "code",
   "execution_count": 224,
   "id": "24ed8579-ee79-4e6e-b40c-16a3dc8f9a44",
   "metadata": {},
   "outputs": [
    {
     "data": {
      "application/vnd.plotly.v1+json": {
       "config": {
        "plotlyServerURL": "https://plot.ly"
       },
       "data": [
        {
         "alignmentgroup": "True",
         "hovertemplate": "Data=Real<br>room_rate=%{x}<br>room_type=%{y}<extra></extra>",
         "legendgroup": "Real",
         "marker": {
          "color": "#000036"
         },
         "name": "Real",
         "notched": false,
         "offsetgroup": "Real",
         "orientation": "h",
         "showlegend": true,
         "type": "box",
         "x": [
          131.23,
          114.43,
          368.33,
          115.61,
          122.41,
          177.76,
          108.09,
          111.12,
          124.23,
          114.44,
          106.09,
          116.36,
          114.03,
          136.73,
          83.8,
          109.97,
          238.52,
          228.68,
          179.43,
          138.28,
          107.53,
          108.53,
          108.4,
          113.16,
          154.4,
          140.95,
          101.31,
          93.97,
          120.15,
          118.07,
          184.39,
          110.68,
          119.96,
          118.15,
          119.06,
          125.77,
          124.48,
          176.31,
          98.41,
          195.73,
          264.79,
          112.46,
          197.21,
          128.66,
          126.3,
          173.11,
          162.76,
          132.93,
          114.35,
          268.16,
          222.55,
          125.06,
          105.42,
          185.08,
          111.27,
          143.57,
          118.04,
          292.5,
          288.73,
          272.76,
          187.99,
          153.1,
          115.79,
          108.81,
          115.45,
          120.34,
          165.96,
          118.66,
          251.15,
          144.23,
          103.07,
          193.57,
          224.13,
          113.1,
          181.27,
          104.97,
          148.07,
          116.41,
          111.04,
          115.75,
          262.15,
          128.42,
          142.34,
          143.68,
          155.61,
          158.05,
          109.87,
          116.2,
          259.39,
          109.86,
          162.9,
          112.16,
          118.56,
          110.05,
          111.1,
          144.18,
          112.87,
          112.4,
          112.9,
          208.13,
          144.36,
          123.83,
          178.48,
          137.72,
          133.06,
          155.6,
          88.62,
          424.84,
          105.86,
          141.55,
          121.03,
          187.34,
          145.43,
          115.16,
          141.94,
          181.25,
          131.74,
          288.29,
          104.57,
          119.75,
          225.69,
          176.85,
          93.8,
          104.85,
          103.38,
          109.51,
          113.9,
          102.12,
          103.69,
          127.21,
          113.34,
          109.44,
          113.36,
          88.91,
          150.78,
          203.54,
          334.75,
          290.85,
          142.4,
          186.76,
          214.26,
          186.94,
          267.51,
          110.65,
          204.06,
          148.29,
          118.29,
          119,
          108.25,
          205.47,
          161.63,
          131.98,
          106.92,
          129.68,
          127.26,
          133.85,
          287.4,
          119.4,
          105.59,
          120.83,
          185.52,
          134.76,
          124.79,
          128.4,
          111.39,
          230.38,
          152.06,
          133.69,
          114.86,
          106.56,
          133.07,
          109.91,
          185.1,
          131.28,
          132.06,
          122.23,
          118.93,
          101.85,
          208.18,
          258.9,
          152.26,
          110.61,
          117.41,
          216.05,
          107.11,
          191.92,
          132.34,
          113.27,
          105.67,
          111.32,
          200.79,
          143.26,
          146.34,
          126.77,
          107.42,
          149.74,
          220.58,
          115.8,
          224.9,
          137.26,
          133.1,
          106.35,
          110.91,
          103.66,
          124.4,
          120.66,
          226.04,
          124.83,
          188.9,
          340.92,
          182.17,
          180.28,
          110.91,
          133.94,
          114.16,
          187.93,
          206.55,
          187.61,
          110.77,
          206.82,
          192.77,
          108.96,
          115.92,
          251.34,
          112.85,
          119.11,
          113.89,
          116.58,
          220.59,
          134.18,
          114.27,
          107.92,
          117.56,
          146.18,
          119.74,
          117.68,
          203.29,
          154.27,
          104.52,
          180.57,
          113.79,
          120.79,
          121.01,
          109.36,
          114.69,
          110.95,
          203.29,
          115.56,
          110.04,
          130.54,
          97.37,
          227.66,
          140.29,
          149.37,
          167.25,
          140.18,
          117.01,
          177.72,
          107.94,
          119.39,
          147.45,
          115.07,
          141.06,
          108.99,
          111.7,
          134.68,
          215.93,
          316.5,
          118.73,
          127.06,
          137.57,
          132.05,
          105.46,
          111.36,
          185.03,
          180.79,
          137.67,
          263.12,
          304.77,
          184.22,
          121.09,
          102.65,
          194.26,
          308.82,
          179.48,
          165.74,
          109.82,
          119.08,
          101.25,
          159.06,
          183.37,
          186.73,
          105.59,
          107.44,
          163.02,
          92.07,
          149.16,
          156.84,
          128.39,
          187.11,
          130.79,
          367.35,
          138.59,
          133.31,
          187.48,
          155.2,
          178.19,
          103.66,
          105.05,
          339.31,
          205.75,
          122.86,
          285.27,
          160.15,
          144.74,
          116.07,
          258.17,
          270.34,
          108.37,
          111.51,
          117.6,
          113.75,
          191.65,
          127.54,
          100.75,
          109.22,
          151.95,
          135.27,
          110.17,
          110.76,
          162.83,
          115.68,
          111.82,
          228.47,
          113.88,
          239.82,
          119.19,
          121.13,
          107.79,
          108.78,
          170.67,
          106.43,
          126.51,
          106.08,
          155.79,
          119.35,
          103.94,
          237.48,
          116.71,
          207.68,
          107.89,
          149.99,
          382.32,
          199.94,
          185.52,
          282.42,
          123.12,
          116.28,
          192.81,
          111.26,
          130.69,
          113.64,
          108.53,
          145.39,
          117.02,
          382.97,
          115.65,
          109.8,
          111.59,
          129.11,
          110,
          85.68,
          278.46,
          180.81,
          171.25,
          123.13,
          106.94,
          206.31,
          116.39,
          182.33,
          121.44,
          172.71,
          139.8,
          295.89,
          216.09,
          124.89,
          129.25,
          116.02,
          84.69,
          192.38,
          201.19,
          103.56,
          177.01,
          106.09,
          108.08,
          121.44,
          293.67,
          111.32,
          144.28,
          162.27,
          108.19,
          137.82,
          174.3,
          112.5,
          139.84,
          114,
          111.27,
          180.84,
          169.53,
          188.08,
          111.49,
          106.37,
          105.13,
          109.12,
          141.68,
          108.9,
          185.19,
          205.21,
          123.53,
          181.03,
          241.68,
          204.76,
          174.26,
          309.33,
          116.46,
          110.14,
          219.71,
          225.18,
          178.16,
          286.76,
          106.89,
          110.23,
          124.62,
          180.61,
          115.8,
          288.85,
          256.98,
          204.11,
          107.9,
          114.29,
          118.73,
          204.46,
          118.08,
          213.47,
          141.15,
          140.36,
          108.98,
          117.37,
          124.59,
          139.59,
          176.9,
          107.39,
          209.9,
          265.09,
          115.62,
          106,
          118.77,
          115.99,
          105.84,
          190.01,
          122.68,
          188.31,
          143.78,
          182.21,
          148.91,
          191.68,
          279.14,
          103.17,
          122.85,
          118.88,
          151.2,
          106.17,
          178.57,
          181.8,
          174.94,
          235.81,
          109.45,
          275.87,
          206.08,
          266.91,
          124.71,
          133.84,
          125.19,
          144.66,
          131.79,
          120.75,
          107.93,
          154.22,
          149.53,
          106.26,
          122.44,
          102.59,
          185.02,
          103.96,
          169.72,
          103.25,
          115.81,
          141.61,
          136.92,
          143.52
         ],
         "x0": " ",
         "xaxis": "x",
         "y": [
          "BASIC",
          "BASIC",
          "DELUXE",
          "BASIC",
          "BASIC",
          "BASIC",
          "BASIC",
          "BASIC",
          "BASIC",
          "BASIC",
          "BASIC",
          "BASIC",
          "BASIC",
          "BASIC",
          "BASIC",
          "BASIC",
          "DELUXE",
          "BASIC",
          "DELUXE",
          "BASIC",
          "BASIC",
          "BASIC",
          "BASIC",
          "BASIC",
          "BASIC",
          "BASIC",
          "BASIC",
          "BASIC",
          "BASIC",
          "BASIC",
          "DELUXE",
          "BASIC",
          "BASIC",
          "BASIC",
          "BASIC",
          "BASIC",
          "BASIC",
          "BASIC",
          "BASIC",
          "BASIC",
          "SUITE",
          "BASIC",
          "DELUXE",
          "BASIC",
          "BASIC",
          "BASIC",
          "BASIC",
          "BASIC",
          "BASIC",
          "SUITE",
          "DELUXE",
          "BASIC",
          "BASIC",
          "DELUXE",
          "BASIC",
          "BASIC",
          "BASIC",
          "BASIC",
          "SUITE",
          "SUITE",
          "DELUXE",
          "BASIC",
          "BASIC",
          "BASIC",
          "BASIC",
          "BASIC",
          "BASIC",
          "BASIC",
          "SUITE",
          "BASIC",
          "BASIC",
          "BASIC",
          "BASIC",
          "BASIC",
          "DELUXE",
          "BASIC",
          "BASIC",
          "BASIC",
          "BASIC",
          "BASIC",
          "BASIC",
          "BASIC",
          "BASIC",
          "BASIC",
          "BASIC",
          "BASIC",
          "BASIC",
          "BASIC",
          "SUITE",
          "BASIC",
          "BASIC",
          "BASIC",
          "BASIC",
          "BASIC",
          "BASIC",
          "BASIC",
          "BASIC",
          "BASIC",
          "BASIC",
          "DELUXE",
          "BASIC",
          "BASIC",
          "DELUXE",
          "BASIC",
          "BASIC",
          "BASIC",
          "BASIC",
          "DELUXE",
          "BASIC",
          "BASIC",
          "BASIC",
          "DELUXE",
          "BASIC",
          "BASIC",
          "DELUXE",
          "DELUXE",
          "BASIC",
          "BASIC",
          "BASIC",
          "BASIC",
          "DELUXE",
          "DELUXE",
          "BASIC",
          "BASIC",
          "BASIC",
          "BASIC",
          "BASIC",
          "BASIC",
          "BASIC",
          "BASIC",
          "BASIC",
          "BASIC",
          "BASIC",
          "BASIC",
          "BASIC",
          "BASIC",
          "DELUXE",
          "SUITE",
          "BASIC",
          "BASIC",
          "BASIC",
          "BASIC",
          "SUITE",
          "BASIC",
          "SUITE",
          "BASIC",
          "BASIC",
          "BASIC",
          "BASIC",
          "SUITE",
          "BASIC",
          "BASIC",
          "BASIC",
          "BASIC",
          "BASIC",
          "BASIC",
          "BASIC",
          "BASIC",
          "BASIC",
          "BASIC",
          "DELUXE",
          "BASIC",
          "BASIC",
          "BASIC",
          "BASIC",
          "SUITE",
          "DELUXE",
          "BASIC",
          "BASIC",
          "BASIC",
          "BASIC",
          "BASIC",
          "BASIC",
          "BASIC",
          "BASIC",
          "BASIC",
          "BASIC",
          "BASIC",
          "DELUXE",
          "SUITE",
          "BASIC",
          "BASIC",
          "BASIC",
          "SUITE",
          "BASIC",
          "DELUXE",
          "BASIC",
          "BASIC",
          "BASIC",
          "BASIC",
          "DELUXE",
          "BASIC",
          "BASIC",
          "BASIC",
          "BASIC",
          "BASIC",
          "SUITE",
          "BASIC",
          "DELUXE",
          "BASIC",
          "BASIC",
          "BASIC",
          "BASIC",
          "BASIC",
          "BASIC",
          "BASIC",
          "DELUXE",
          "BASIC",
          "DELUXE",
          "DELUXE",
          "DELUXE",
          "DELUXE",
          "BASIC",
          "BASIC",
          "BASIC",
          "DELUXE",
          "SUITE",
          "BASIC",
          "BASIC",
          "SUITE",
          "DELUXE",
          "BASIC",
          "BASIC",
          "DELUXE",
          "BASIC",
          "BASIC",
          "BASIC",
          "BASIC",
          "DELUXE",
          "BASIC",
          "BASIC",
          "BASIC",
          "BASIC",
          "BASIC",
          "BASIC",
          "BASIC",
          "SUITE",
          "BASIC",
          "BASIC",
          "DELUXE",
          "BASIC",
          "BASIC",
          "BASIC",
          "BASIC",
          "BASIC",
          "BASIC",
          "SUITE",
          "BASIC",
          "BASIC",
          "BASIC",
          "BASIC",
          "DELUXE",
          "BASIC",
          "BASIC",
          "BASIC",
          "BASIC",
          "BASIC",
          "BASIC",
          "BASIC",
          "BASIC",
          "BASIC",
          "BASIC",
          "BASIC",
          "BASIC",
          "BASIC",
          "BASIC",
          "DELUXE",
          "SUITE",
          "BASIC",
          "BASIC",
          "BASIC",
          "BASIC",
          "BASIC",
          "BASIC",
          "BASIC",
          "DELUXE",
          "BASIC",
          "SUITE",
          "SUITE",
          "DELUXE",
          "BASIC",
          "BASIC",
          "DELUXE",
          "SUITE",
          "DELUXE",
          "BASIC",
          "BASIC",
          "BASIC",
          "BASIC",
          "BASIC",
          "DELUXE",
          "DELUXE",
          "BASIC",
          "BASIC",
          "BASIC",
          "BASIC",
          "BASIC",
          "DELUXE",
          "BASIC",
          "DELUXE",
          "BASIC",
          "BASIC",
          "BASIC",
          "BASIC",
          "DELUXE",
          "BASIC",
          "BASIC",
          "BASIC",
          "BASIC",
          "DELUXE",
          "DELUXE",
          "BASIC",
          "SUITE",
          "BASIC",
          "BASIC",
          "BASIC",
          "BASIC",
          "SUITE",
          "BASIC",
          "BASIC",
          "BASIC",
          "BASIC",
          "DELUXE",
          "BASIC",
          "BASIC",
          "BASIC",
          "BASIC",
          "BASIC",
          "BASIC",
          "BASIC",
          "BASIC",
          "BASIC",
          "BASIC",
          "BASIC",
          "BASIC",
          "SUITE",
          "BASIC",
          "BASIC",
          "BASIC",
          "BASIC",
          "BASIC",
          "BASIC",
          "BASIC",
          "BASIC",
          "DELUXE",
          "BASIC",
          "BASIC",
          "DELUXE",
          "BASIC",
          "DELUXE",
          "BASIC",
          "BASIC",
          "DELUXE",
          "DELUXE",
          "DELUXE",
          "SUITE",
          "BASIC",
          "BASIC",
          "DELUXE",
          "BASIC",
          "BASIC",
          "BASIC",
          "BASIC",
          "BASIC",
          "BASIC",
          "BASIC",
          "BASIC",
          "BASIC",
          "BASIC",
          "BASIC",
          "BASIC",
          "BASIC",
          "DELUXE",
          "DELUXE",
          "BASIC",
          "BASIC",
          "BASIC",
          "BASIC",
          "BASIC",
          "DELUXE",
          "BASIC",
          "BASIC",
          "BASIC",
          "SUITE",
          "BASIC",
          "BASIC",
          "BASIC",
          "BASIC",
          "BASIC",
          "DELUXE",
          "BASIC",
          "BASIC",
          "BASIC",
          "BASIC",
          "BASIC",
          "BASIC",
          "DELUXE",
          "BASIC",
          "BASIC",
          "BASIC",
          "BASIC",
          "BASIC",
          "DELUXE",
          "BASIC",
          "BASIC",
          "BASIC",
          "BASIC",
          "DELUXE",
          "DELUXE",
          "DELUXE",
          "BASIC",
          "BASIC",
          "BASIC",
          "BASIC",
          "BASIC",
          "BASIC",
          "BASIC",
          "DELUXE",
          "BASIC",
          "DELUXE",
          "BASIC",
          "SUITE",
          "DELUXE",
          "SUITE",
          "BASIC",
          "BASIC",
          "SUITE",
          "DELUXE",
          "BASIC",
          "SUITE",
          "BASIC",
          "BASIC",
          "BASIC",
          "DELUXE",
          "BASIC",
          "BASIC",
          "SUITE",
          "DELUXE",
          "BASIC",
          "BASIC",
          "BASIC",
          "SUITE",
          "BASIC",
          "DELUXE",
          "BASIC",
          "BASIC",
          "BASIC",
          "BASIC",
          "BASIC",
          "BASIC",
          "BASIC",
          "BASIC",
          "BASIC",
          "SUITE",
          "BASIC",
          "BASIC",
          "BASIC",
          "BASIC",
          "BASIC",
          "DELUXE",
          "BASIC",
          "DELUXE",
          "BASIC",
          "DELUXE",
          "BASIC",
          "DELUXE",
          "SUITE",
          "BASIC",
          "BASIC",
          "BASIC",
          "BASIC",
          "BASIC",
          "BASIC",
          "DELUXE",
          "BASIC",
          "SUITE",
          "BASIC",
          "BASIC",
          "SUITE",
          "SUITE",
          "BASIC",
          "BASIC",
          "BASIC",
          "BASIC",
          "BASIC",
          "BASIC",
          "BASIC",
          "DELUXE",
          "BASIC",
          "BASIC",
          "BASIC",
          "BASIC",
          "DELUXE",
          "BASIC",
          "BASIC",
          "BASIC",
          "BASIC",
          "BASIC",
          "BASIC",
          "BASIC"
         ],
         "y0": " ",
         "yaxis": "y"
        },
        {
         "alignmentgroup": "True",
         "hovertemplate": "Data=Synthetic<br>room_rate=%{x}<br>room_type=%{y}<extra></extra>",
         "legendgroup": "Synthetic",
         "marker": {
          "color": "#01E0C9"
         },
         "name": "Synthetic",
         "notched": false,
         "offsetgroup": "Synthetic",
         "orientation": "h",
         "showlegend": true,
         "type": "box",
         "x": [
          122.83,
          175.3,
          151.45,
          169.82,
          189.85,
          109.39,
          92.46,
          212.51,
          122.5,
          244.38,
          349.41,
          148.7,
          284.16,
          89.37,
          170.87,
          180.87,
          192.45,
          97.95,
          334.62,
          156.99,
          104.36,
          84,
          149.82,
          141.79,
          84.71,
          85.28,
          226.84,
          85.76,
          247.12,
          120.98,
          104.14,
          96.14,
          140.21,
          83.82,
          204.71,
          260.71,
          252.18,
          135.12,
          99.73,
          85.92,
          208.59,
          84.47,
          108.13,
          241.98,
          90.31,
          88.66,
          144.83,
          161.78,
          93.74,
          178.09,
          212.22,
          117.54,
          130.96,
          177.74,
          84.46,
          119.6,
          121.27,
          174.72,
          304.88,
          327.16,
          96.67,
          152.17,
          110.86,
          186.02,
          130.38,
          197.78,
          143.17,
          95.68,
          343.77,
          163.1,
          96.55,
          332.59,
          102.52,
          306.02,
          103.19,
          200.88,
          117.81,
          84.22,
          96.1,
          163.07,
          190.92,
          175.3,
          259.2,
          101.37,
          98.39,
          117.35,
          86.98,
          237.19,
          117.33,
          133.3,
          114.34,
          91.81,
          100.89,
          83.99,
          110.65,
          105.92,
          227.89,
          103.49,
          202.42,
          86.82,
          142.67,
          91.65,
          302.44,
          264.28,
          145.97,
          87.03,
          90.42,
          180.86,
          240.5,
          276.08,
          132.51,
          108.71,
          177.3,
          129.55,
          116.66,
          88.91,
          89.17,
          141.04,
          305.64,
          144.6,
          160.64,
          270.15,
          267.79,
          305.46,
          91.64,
          84.9,
          95.92,
          109.29,
          87.26,
          185.31,
          204.6,
          237.34,
          170.36,
          171.47,
          108.52,
          148.43,
          90.85,
          88.48,
          107.97,
          199.99,
          88.54,
          209.72,
          385.2,
          93.99,
          100.01,
          102.38,
          86.57,
          137.3,
          200.31,
          179.58,
          177.02,
          139.27,
          99.9,
          83.8,
          234.31,
          287.98,
          219.99,
          109.36,
          239.09,
          104.72,
          230.16,
          242.94,
          142.16,
          87.76,
          116.26,
          160.84,
          119.61,
          160.11,
          87.65,
          104.2,
          138.91,
          194.03,
          226.93,
          110.6,
          94.14,
          92.28,
          96.17,
          136.28,
          197.02,
          115.23,
          130.24,
          151.01,
          160.69,
          224.93,
          122.79,
          250.94,
          117.12,
          94.03,
          170.21,
          214.45,
          101.31,
          273.12,
          180.29,
          130.62,
          98.4,
          142.33,
          203.77,
          198.95,
          162.35,
          191.85,
          160.87,
          86.08,
          100.72,
          86.06,
          103.81,
          201.34,
          244.75,
          304.91,
          128.41,
          168.96,
          89.07,
          160.45,
          122.81,
          234.86,
          102.2,
          118.56,
          196.5,
          174.13,
          156.62,
          156.32,
          119.12,
          221.61,
          134.47,
          89.29,
          100.85,
          123.26,
          148.49,
          295.4,
          112.27,
          156,
          124.07,
          134.15,
          107.85,
          124.7,
          99.05,
          117.77,
          84.05,
          166.15,
          230.89,
          172.5,
          109,
          136.57,
          91.35,
          94.86,
          208.08,
          161.29,
          185.78,
          84.69,
          160.5,
          87.48,
          163.73,
          105.11,
          90.57,
          166.7,
          215.49,
          146.51,
          271.26,
          102.86,
          87.48,
          103.13,
          93.27,
          189.46,
          137.38,
          319.46,
          174.06,
          87.78,
          100.04,
          89.6,
          109.44,
          128.37,
          270.65,
          91.72,
          97.18,
          183.84,
          129.61,
          85.65,
          121.94,
          115.14,
          84.09,
          90.39,
          246,
          149.58,
          84.5,
          233.46,
          193.34,
          156.38,
          96.13,
          237.14,
          88.03,
          244.7,
          202.5,
          106.48,
          214.67,
          203.31,
          116.3,
          177.93,
          316.97,
          115.42,
          122.22,
          84.67,
          85.52,
          199.01,
          142.8,
          88.17,
          185.05,
          293.08,
          87.47,
          235.67,
          90.88,
          108.67,
          249.8,
          150.6,
          246.11,
          109.15,
          89.07,
          133.58,
          110.06,
          144.3,
          134.95,
          142.07,
          92.56,
          84.2,
          120.84,
          202.52,
          152.18,
          262.44,
          87.88,
          207.85,
          102.4,
          205.44,
          110.67,
          167.23,
          100.67,
          180.79,
          106.09,
          92.48,
          88.56,
          96.75,
          176.51,
          153.29,
          84.69,
          100.32,
          109.83,
          85.76,
          120.12,
          102.08,
          230.62,
          112.93,
          133.26,
          251.38,
          86.43,
          84.24,
          230.39,
          100,
          85.39,
          154.04,
          224.75,
          97.36,
          92.49,
          195.43,
          182.56,
          184.62,
          90.48,
          225.88,
          125.28,
          107.48,
          91.66,
          93.43,
          126.49,
          229.04,
          85.58,
          110.29,
          151.55,
          120.51,
          260.39,
          91.89,
          172.1,
          157.5,
          148.76,
          186.78,
          246.57,
          101.46,
          107.16,
          243.21,
          90.97,
          97.93,
          84.26,
          96.5,
          155.87,
          263.07,
          179.01,
          126.18,
          146.26,
          142.09,
          171.57,
          98.94,
          111.24,
          132.34,
          259.9,
          84.61,
          309.73,
          162.33,
          125.61,
          84.97,
          88.97,
          93.59,
          172.94,
          201.53,
          136.38,
          139.42,
          172.31,
          132.28,
          163.81,
          105.08,
          117.24,
          102.23,
          85.88,
          149.84,
          147.65,
          218.73,
          198.68,
          145.91,
          85.38,
          125.62,
          126.76,
          113.6,
          204.99,
          86.01,
          264.48,
          133.11,
          98.58,
          139.99,
          172.68,
          196.87,
          183.43,
          92.68,
          93.63,
          97.25,
          111.15,
          350.23,
          290.6,
          329.88,
          98.92,
          289.44,
          206.66,
          118.71,
          87.95,
          97.69,
          189.34,
          115.56,
          232.49,
          108.18,
          183.15,
          86.74,
          97.93,
          232.29,
          118.54,
          93.28,
          99.67,
          86.52,
          187.51,
          115.01,
          167.1,
          146.93,
          90.28,
          205.89,
          96.36,
          92.81,
          211.86,
          125.95,
          86.02,
          138.43,
          121.74,
          129.44,
          272.93,
          131.58,
          89.3,
          201.59,
          97.37,
          126.96,
          96.07,
          259.2,
          88.03,
          83.84,
          282.02,
          134.49,
          279.91,
          189.36,
          83.8,
          154.97,
          85.17,
          217.15,
          87.35,
          125.06,
          228.2,
          328.36,
          248.61,
          151.73,
          376.4,
          232.18
         ],
         "x0": " ",
         "xaxis": "x",
         "y": [
          "BASIC",
          "DELUXE",
          "DELUXE",
          "BASIC",
          "SUITE",
          "BASIC",
          "BASIC",
          "DELUXE",
          "BASIC",
          "BASIC",
          "BASIC",
          "BASIC",
          "BASIC",
          "BASIC",
          "BASIC",
          "BASIC",
          "BASIC",
          "BASIC",
          "SUITE",
          "DELUXE",
          "BASIC",
          "DELUXE",
          "DELUXE",
          "BASIC",
          "BASIC",
          "BASIC",
          "DELUXE",
          "BASIC",
          "BASIC",
          "BASIC",
          "BASIC",
          "BASIC",
          "BASIC",
          "BASIC",
          "BASIC",
          "BASIC",
          "BASIC",
          "BASIC",
          "BASIC",
          "BASIC",
          "DELUXE",
          "BASIC",
          "DELUXE",
          "BASIC",
          "DELUXE",
          "BASIC",
          "BASIC",
          "BASIC",
          "BASIC",
          "BASIC",
          "DELUXE",
          "BASIC",
          "BASIC",
          "DELUXE",
          "BASIC",
          "DELUXE",
          "DELUXE",
          "DELUXE",
          "BASIC",
          "DELUXE",
          "BASIC",
          "DELUXE",
          "BASIC",
          "BASIC",
          "BASIC",
          "BASIC",
          "BASIC",
          "BASIC",
          "DELUXE",
          "BASIC",
          "BASIC",
          "BASIC",
          "BASIC",
          "DELUXE",
          "BASIC",
          "BASIC",
          "BASIC",
          "BASIC",
          "BASIC",
          "DELUXE",
          "BASIC",
          "BASIC",
          "BASIC",
          "BASIC",
          "BASIC",
          "BASIC",
          "BASIC",
          "BASIC",
          "BASIC",
          "BASIC",
          "BASIC",
          "BASIC",
          "BASIC",
          "BASIC",
          "BASIC",
          "BASIC",
          "DELUXE",
          "BASIC",
          "BASIC",
          "BASIC",
          "DELUXE",
          "BASIC",
          "DELUXE",
          "BASIC",
          "DELUXE",
          "BASIC",
          "BASIC",
          "BASIC",
          "DELUXE",
          "DELUXE",
          "BASIC",
          "DELUXE",
          "DELUXE",
          "DELUXE",
          "BASIC",
          "BASIC",
          "DELUXE",
          "BASIC",
          "DELUXE",
          "BASIC",
          "BASIC",
          "DELUXE",
          "BASIC",
          "SUITE",
          "BASIC",
          "BASIC",
          "BASIC",
          "BASIC",
          "BASIC",
          "BASIC",
          "BASIC",
          "DELUXE",
          "BASIC",
          "DELUXE",
          "BASIC",
          "BASIC",
          "BASIC",
          "BASIC",
          "BASIC",
          "BASIC",
          "BASIC",
          "BASIC",
          "BASIC",
          "DELUXE",
          "BASIC",
          "BASIC",
          "BASIC",
          "DELUXE",
          "BASIC",
          "BASIC",
          "BASIC",
          "BASIC",
          "BASIC",
          "BASIC",
          "DELUXE",
          "DELUXE",
          "DELUXE",
          "BASIC",
          "BASIC",
          "DELUXE",
          "DELUXE",
          "DELUXE",
          "BASIC",
          "BASIC",
          "DELUXE",
          "BASIC",
          "BASIC",
          "BASIC",
          "BASIC",
          "BASIC",
          "BASIC",
          "BASIC",
          "DELUXE",
          "BASIC",
          "BASIC",
          "BASIC",
          "DELUXE",
          "BASIC",
          "BASIC",
          "DELUXE",
          "BASIC",
          "BASIC",
          "DELUXE",
          "SUITE",
          "BASIC",
          "BASIC",
          "BASIC",
          "BASIC",
          "BASIC",
          "DELUXE",
          "BASIC",
          "DELUXE",
          "BASIC",
          "DELUXE",
          "BASIC",
          "BASIC",
          "BASIC",
          "BASIC",
          "BASIC",
          "BASIC",
          "BASIC",
          "BASIC",
          "BASIC",
          "BASIC",
          "BASIC",
          "BASIC",
          "BASIC",
          "BASIC",
          "BASIC",
          "BASIC",
          "BASIC",
          "BASIC",
          "BASIC",
          "BASIC",
          "BASIC",
          "DELUXE",
          "DELUXE",
          "BASIC",
          "BASIC",
          "BASIC",
          "DELUXE",
          "SUITE",
          "BASIC",
          "BASIC",
          "BASIC",
          "BASIC",
          "BASIC",
          "BASIC",
          "DELUXE",
          "SUITE",
          "BASIC",
          "BASIC",
          "BASIC",
          "BASIC",
          "DELUXE",
          "BASIC",
          "BASIC",
          "BASIC",
          "BASIC",
          "BASIC",
          "DELUXE",
          "DELUXE",
          "BASIC",
          "BASIC",
          "BASIC",
          "SUITE",
          "BASIC",
          "BASIC",
          "BASIC",
          "SUITE",
          "DELUXE",
          "BASIC",
          "BASIC",
          "BASIC",
          "BASIC",
          "BASIC",
          "BASIC",
          "BASIC",
          "BASIC",
          "BASIC",
          "BASIC",
          "BASIC",
          "DELUXE",
          "DELUXE",
          "DELUXE",
          "DELUXE",
          "BASIC",
          "BASIC",
          "DELUXE",
          "BASIC",
          "BASIC",
          "BASIC",
          "BASIC",
          "BASIC",
          "BASIC",
          "BASIC",
          "BASIC",
          "BASIC",
          "BASIC",
          "BASIC",
          "BASIC",
          "BASIC",
          "BASIC",
          "DELUXE",
          "BASIC",
          "DELUXE",
          "BASIC",
          "DELUXE",
          "BASIC",
          "DELUXE",
          "BASIC",
          "BASIC",
          "BASIC",
          "DELUXE",
          "BASIC",
          "BASIC",
          "BASIC",
          "BASIC",
          "BASIC",
          "BASIC",
          "BASIC",
          "DELUXE",
          "BASIC",
          "BASIC",
          "BASIC",
          "BASIC",
          "BASIC",
          "BASIC",
          "BASIC",
          "BASIC",
          "BASIC",
          "BASIC",
          "DELUXE",
          "BASIC",
          "BASIC",
          "DELUXE",
          "BASIC",
          "BASIC",
          "BASIC",
          "DELUXE",
          "BASIC",
          "DELUXE",
          "DELUXE",
          "DELUXE",
          "BASIC",
          "SUITE",
          "BASIC",
          "BASIC",
          "BASIC",
          "DELUXE",
          "DELUXE",
          "BASIC",
          "BASIC",
          "DELUXE",
          "BASIC",
          "DELUXE",
          "BASIC",
          "BASIC",
          "BASIC",
          "DELUXE",
          "BASIC",
          "BASIC",
          "BASIC",
          "BASIC",
          "BASIC",
          "BASIC",
          "BASIC",
          "BASIC",
          "DELUXE",
          "DELUXE",
          "DELUXE",
          "BASIC",
          "BASIC",
          "BASIC",
          "BASIC",
          "BASIC",
          "DELUXE",
          "BASIC",
          "BASIC",
          "SUITE",
          "DELUXE",
          "BASIC",
          "BASIC",
          "BASIC",
          "DELUXE",
          "BASIC",
          "BASIC",
          "BASIC",
          "BASIC",
          "BASIC",
          "BASIC",
          "DELUXE",
          "BASIC",
          "DELUXE",
          "BASIC",
          "BASIC",
          "DELUXE",
          "BASIC",
          "BASIC",
          "BASIC",
          "BASIC",
          "BASIC",
          "BASIC",
          "DELUXE",
          "BASIC",
          "BASIC",
          "BASIC",
          "BASIC",
          "BASIC",
          "BASIC",
          "DELUXE",
          "BASIC",
          "BASIC",
          "BASIC",
          "DELUXE",
          "BASIC",
          "DELUXE",
          "BASIC",
          "BASIC",
          "BASIC",
          "DELUXE",
          "DELUXE",
          "BASIC",
          "BASIC",
          "BASIC",
          "DELUXE",
          "BASIC",
          "BASIC",
          "BASIC",
          "BASIC",
          "BASIC",
          "BASIC",
          "BASIC",
          "BASIC",
          "DELUXE",
          "BASIC",
          "BASIC",
          "DELUXE",
          "BASIC",
          "BASIC",
          "BASIC",
          "DELUXE",
          "BASIC",
          "BASIC",
          "BASIC",
          "BASIC",
          "DELUXE",
          "BASIC",
          "DELUXE",
          "BASIC",
          "BASIC",
          "BASIC",
          "SUITE",
          "DELUXE",
          "DELUXE",
          "BASIC",
          "BASIC",
          "BASIC",
          "BASIC",
          "SUITE",
          "BASIC",
          "DELUXE",
          "BASIC",
          "DELUXE",
          "BASIC",
          "BASIC",
          "BASIC",
          "BASIC",
          "BASIC",
          "BASIC",
          "BASIC",
          "DELUXE",
          "DELUXE",
          "BASIC",
          "BASIC",
          "SUITE",
          "BASIC",
          "BASIC",
          "DELUXE",
          "BASIC",
          "BASIC",
          "BASIC",
          "DELUXE",
          "SUITE",
          "BASIC",
          "SUITE",
          "BASIC",
          "BASIC",
          "DELUXE",
          "DELUXE",
          "BASIC",
          "DELUXE",
          "BASIC",
          "BASIC",
          "BASIC",
          "BASIC",
          "BASIC",
          "SUITE",
          "DELUXE",
          "BASIC",
          "BASIC",
          "BASIC",
          "BASIC",
          "BASIC",
          "DELUXE",
          "DELUXE",
          "BASIC",
          "DELUXE",
          "BASIC",
          "BASIC",
          "BASIC",
          "BASIC",
          "BASIC",
          "DELUXE",
          "DELUXE",
          "DELUXE",
          "DELUXE",
          "BASIC",
          "BASIC",
          "DELUXE"
         ],
         "y0": " ",
         "yaxis": "y"
        }
       ],
       "layout": {
        "autosize": true,
        "boxmode": "group",
        "legend": {
         "title": {
          "text": "Data"
         },
         "tracegroupgap": 0
        },
        "margin": {
         "t": 60
        },
        "plot_bgcolor": "#F5F5F8",
        "template": {
         "data": {
          "bar": [
           {
            "error_x": {
             "color": "#2a3f5f"
            },
            "error_y": {
             "color": "#2a3f5f"
            },
            "marker": {
             "line": {
              "color": "#E5ECF6",
              "width": 0.5
             },
             "pattern": {
              "fillmode": "overlay",
              "size": 10,
              "solidity": 0.2
             }
            },
            "type": "bar"
           }
          ],
          "barpolar": [
           {
            "marker": {
             "line": {
              "color": "#E5ECF6",
              "width": 0.5
             },
             "pattern": {
              "fillmode": "overlay",
              "size": 10,
              "solidity": 0.2
             }
            },
            "type": "barpolar"
           }
          ],
          "carpet": [
           {
            "aaxis": {
             "endlinecolor": "#2a3f5f",
             "gridcolor": "white",
             "linecolor": "white",
             "minorgridcolor": "white",
             "startlinecolor": "#2a3f5f"
            },
            "baxis": {
             "endlinecolor": "#2a3f5f",
             "gridcolor": "white",
             "linecolor": "white",
             "minorgridcolor": "white",
             "startlinecolor": "#2a3f5f"
            },
            "type": "carpet"
           }
          ],
          "choropleth": [
           {
            "colorbar": {
             "outlinewidth": 0,
             "ticks": ""
            },
            "type": "choropleth"
           }
          ],
          "contour": [
           {
            "colorbar": {
             "outlinewidth": 0,
             "ticks": ""
            },
            "colorscale": [
             [
              0,
              "#0d0887"
             ],
             [
              0.1111111111111111,
              "#46039f"
             ],
             [
              0.2222222222222222,
              "#7201a8"
             ],
             [
              0.3333333333333333,
              "#9c179e"
             ],
             [
              0.4444444444444444,
              "#bd3786"
             ],
             [
              0.5555555555555556,
              "#d8576b"
             ],
             [
              0.6666666666666666,
              "#ed7953"
             ],
             [
              0.7777777777777778,
              "#fb9f3a"
             ],
             [
              0.8888888888888888,
              "#fdca26"
             ],
             [
              1,
              "#f0f921"
             ]
            ],
            "type": "contour"
           }
          ],
          "contourcarpet": [
           {
            "colorbar": {
             "outlinewidth": 0,
             "ticks": ""
            },
            "type": "contourcarpet"
           }
          ],
          "heatmap": [
           {
            "colorbar": {
             "outlinewidth": 0,
             "ticks": ""
            },
            "colorscale": [
             [
              0,
              "#0d0887"
             ],
             [
              0.1111111111111111,
              "#46039f"
             ],
             [
              0.2222222222222222,
              "#7201a8"
             ],
             [
              0.3333333333333333,
              "#9c179e"
             ],
             [
              0.4444444444444444,
              "#bd3786"
             ],
             [
              0.5555555555555556,
              "#d8576b"
             ],
             [
              0.6666666666666666,
              "#ed7953"
             ],
             [
              0.7777777777777778,
              "#fb9f3a"
             ],
             [
              0.8888888888888888,
              "#fdca26"
             ],
             [
              1,
              "#f0f921"
             ]
            ],
            "type": "heatmap"
           }
          ],
          "heatmapgl": [
           {
            "colorbar": {
             "outlinewidth": 0,
             "ticks": ""
            },
            "colorscale": [
             [
              0,
              "#0d0887"
             ],
             [
              0.1111111111111111,
              "#46039f"
             ],
             [
              0.2222222222222222,
              "#7201a8"
             ],
             [
              0.3333333333333333,
              "#9c179e"
             ],
             [
              0.4444444444444444,
              "#bd3786"
             ],
             [
              0.5555555555555556,
              "#d8576b"
             ],
             [
              0.6666666666666666,
              "#ed7953"
             ],
             [
              0.7777777777777778,
              "#fb9f3a"
             ],
             [
              0.8888888888888888,
              "#fdca26"
             ],
             [
              1,
              "#f0f921"
             ]
            ],
            "type": "heatmapgl"
           }
          ],
          "histogram": [
           {
            "marker": {
             "pattern": {
              "fillmode": "overlay",
              "size": 10,
              "solidity": 0.2
             }
            },
            "type": "histogram"
           }
          ],
          "histogram2d": [
           {
            "colorbar": {
             "outlinewidth": 0,
             "ticks": ""
            },
            "colorscale": [
             [
              0,
              "#0d0887"
             ],
             [
              0.1111111111111111,
              "#46039f"
             ],
             [
              0.2222222222222222,
              "#7201a8"
             ],
             [
              0.3333333333333333,
              "#9c179e"
             ],
             [
              0.4444444444444444,
              "#bd3786"
             ],
             [
              0.5555555555555556,
              "#d8576b"
             ],
             [
              0.6666666666666666,
              "#ed7953"
             ],
             [
              0.7777777777777778,
              "#fb9f3a"
             ],
             [
              0.8888888888888888,
              "#fdca26"
             ],
             [
              1,
              "#f0f921"
             ]
            ],
            "type": "histogram2d"
           }
          ],
          "histogram2dcontour": [
           {
            "colorbar": {
             "outlinewidth": 0,
             "ticks": ""
            },
            "colorscale": [
             [
              0,
              "#0d0887"
             ],
             [
              0.1111111111111111,
              "#46039f"
             ],
             [
              0.2222222222222222,
              "#7201a8"
             ],
             [
              0.3333333333333333,
              "#9c179e"
             ],
             [
              0.4444444444444444,
              "#bd3786"
             ],
             [
              0.5555555555555556,
              "#d8576b"
             ],
             [
              0.6666666666666666,
              "#ed7953"
             ],
             [
              0.7777777777777778,
              "#fb9f3a"
             ],
             [
              0.8888888888888888,
              "#fdca26"
             ],
             [
              1,
              "#f0f921"
             ]
            ],
            "type": "histogram2dcontour"
           }
          ],
          "mesh3d": [
           {
            "colorbar": {
             "outlinewidth": 0,
             "ticks": ""
            },
            "type": "mesh3d"
           }
          ],
          "parcoords": [
           {
            "line": {
             "colorbar": {
              "outlinewidth": 0,
              "ticks": ""
             }
            },
            "type": "parcoords"
           }
          ],
          "pie": [
           {
            "automargin": true,
            "type": "pie"
           }
          ],
          "scatter": [
           {
            "fillpattern": {
             "fillmode": "overlay",
             "size": 10,
             "solidity": 0.2
            },
            "type": "scatter"
           }
          ],
          "scatter3d": [
           {
            "line": {
             "colorbar": {
              "outlinewidth": 0,
              "ticks": ""
             }
            },
            "marker": {
             "colorbar": {
              "outlinewidth": 0,
              "ticks": ""
             }
            },
            "type": "scatter3d"
           }
          ],
          "scattercarpet": [
           {
            "marker": {
             "colorbar": {
              "outlinewidth": 0,
              "ticks": ""
             }
            },
            "type": "scattercarpet"
           }
          ],
          "scattergeo": [
           {
            "marker": {
             "colorbar": {
              "outlinewidth": 0,
              "ticks": ""
             }
            },
            "type": "scattergeo"
           }
          ],
          "scattergl": [
           {
            "marker": {
             "colorbar": {
              "outlinewidth": 0,
              "ticks": ""
             }
            },
            "type": "scattergl"
           }
          ],
          "scattermapbox": [
           {
            "marker": {
             "colorbar": {
              "outlinewidth": 0,
              "ticks": ""
             }
            },
            "type": "scattermapbox"
           }
          ],
          "scatterpolar": [
           {
            "marker": {
             "colorbar": {
              "outlinewidth": 0,
              "ticks": ""
             }
            },
            "type": "scatterpolar"
           }
          ],
          "scatterpolargl": [
           {
            "marker": {
             "colorbar": {
              "outlinewidth": 0,
              "ticks": ""
             }
            },
            "type": "scatterpolargl"
           }
          ],
          "scatterternary": [
           {
            "marker": {
             "colorbar": {
              "outlinewidth": 0,
              "ticks": ""
             }
            },
            "type": "scatterternary"
           }
          ],
          "surface": [
           {
            "colorbar": {
             "outlinewidth": 0,
             "ticks": ""
            },
            "colorscale": [
             [
              0,
              "#0d0887"
             ],
             [
              0.1111111111111111,
              "#46039f"
             ],
             [
              0.2222222222222222,
              "#7201a8"
             ],
             [
              0.3333333333333333,
              "#9c179e"
             ],
             [
              0.4444444444444444,
              "#bd3786"
             ],
             [
              0.5555555555555556,
              "#d8576b"
             ],
             [
              0.6666666666666666,
              "#ed7953"
             ],
             [
              0.7777777777777778,
              "#fb9f3a"
             ],
             [
              0.8888888888888888,
              "#fdca26"
             ],
             [
              1,
              "#f0f921"
             ]
            ],
            "type": "surface"
           }
          ],
          "table": [
           {
            "cells": {
             "fill": {
              "color": "#EBF0F8"
             },
             "line": {
              "color": "white"
             }
            },
            "header": {
             "fill": {
              "color": "#C8D4E3"
             },
             "line": {
              "color": "white"
             }
            },
            "type": "table"
           }
          ]
         },
         "layout": {
          "annotationdefaults": {
           "arrowcolor": "#2a3f5f",
           "arrowhead": 0,
           "arrowwidth": 1
          },
          "autotypenumbers": "strict",
          "coloraxis": {
           "colorbar": {
            "outlinewidth": 0,
            "ticks": ""
           }
          },
          "colorscale": {
           "diverging": [
            [
             0,
             "#8e0152"
            ],
            [
             0.1,
             "#c51b7d"
            ],
            [
             0.2,
             "#de77ae"
            ],
            [
             0.3,
             "#f1b6da"
            ],
            [
             0.4,
             "#fde0ef"
            ],
            [
             0.5,
             "#f7f7f7"
            ],
            [
             0.6,
             "#e6f5d0"
            ],
            [
             0.7,
             "#b8e186"
            ],
            [
             0.8,
             "#7fbc41"
            ],
            [
             0.9,
             "#4d9221"
            ],
            [
             1,
             "#276419"
            ]
           ],
           "sequential": [
            [
             0,
             "#0d0887"
            ],
            [
             0.1111111111111111,
             "#46039f"
            ],
            [
             0.2222222222222222,
             "#7201a8"
            ],
            [
             0.3333333333333333,
             "#9c179e"
            ],
            [
             0.4444444444444444,
             "#bd3786"
            ],
            [
             0.5555555555555556,
             "#d8576b"
            ],
            [
             0.6666666666666666,
             "#ed7953"
            ],
            [
             0.7777777777777778,
             "#fb9f3a"
            ],
            [
             0.8888888888888888,
             "#fdca26"
            ],
            [
             1,
             "#f0f921"
            ]
           ],
           "sequentialminus": [
            [
             0,
             "#0d0887"
            ],
            [
             0.1111111111111111,
             "#46039f"
            ],
            [
             0.2222222222222222,
             "#7201a8"
            ],
            [
             0.3333333333333333,
             "#9c179e"
            ],
            [
             0.4444444444444444,
             "#bd3786"
            ],
            [
             0.5555555555555556,
             "#d8576b"
            ],
            [
             0.6666666666666666,
             "#ed7953"
            ],
            [
             0.7777777777777778,
             "#fb9f3a"
            ],
            [
             0.8888888888888888,
             "#fdca26"
            ],
            [
             1,
             "#f0f921"
            ]
           ]
          },
          "colorway": [
           "#636efa",
           "#EF553B",
           "#00cc96",
           "#ab63fa",
           "#FFA15A",
           "#19d3f3",
           "#FF6692",
           "#B6E880",
           "#FF97FF",
           "#FECB52"
          ],
          "font": {
           "color": "#2a3f5f"
          },
          "geo": {
           "bgcolor": "white",
           "lakecolor": "white",
           "landcolor": "#E5ECF6",
           "showlakes": true,
           "showland": true,
           "subunitcolor": "white"
          },
          "hoverlabel": {
           "align": "left"
          },
          "hovermode": "closest",
          "mapbox": {
           "style": "light"
          },
          "paper_bgcolor": "white",
          "plot_bgcolor": "#E5ECF6",
          "polar": {
           "angularaxis": {
            "gridcolor": "white",
            "linecolor": "white",
            "ticks": ""
           },
           "bgcolor": "#E5ECF6",
           "radialaxis": {
            "gridcolor": "white",
            "linecolor": "white",
            "ticks": ""
           }
          },
          "scene": {
           "xaxis": {
            "backgroundcolor": "#E5ECF6",
            "gridcolor": "white",
            "gridwidth": 2,
            "linecolor": "white",
            "showbackground": true,
            "ticks": "",
            "zerolinecolor": "white"
           },
           "yaxis": {
            "backgroundcolor": "#E5ECF6",
            "gridcolor": "white",
            "gridwidth": 2,
            "linecolor": "white",
            "showbackground": true,
            "ticks": "",
            "zerolinecolor": "white"
           },
           "zaxis": {
            "backgroundcolor": "#E5ECF6",
            "gridcolor": "white",
            "gridwidth": 2,
            "linecolor": "white",
            "showbackground": true,
            "ticks": "",
            "zerolinecolor": "white"
           }
          },
          "shapedefaults": {
           "line": {
            "color": "#2a3f5f"
           }
          },
          "ternary": {
           "aaxis": {
            "gridcolor": "white",
            "linecolor": "white",
            "ticks": ""
           },
           "baxis": {
            "gridcolor": "white",
            "linecolor": "white",
            "ticks": ""
           },
           "bgcolor": "#E5ECF6",
           "caxis": {
            "gridcolor": "white",
            "linecolor": "white",
            "ticks": ""
           }
          },
          "title": {
           "x": 0.05
          },
          "xaxis": {
           "automargin": true,
           "gridcolor": "white",
           "linecolor": "white",
           "ticks": "",
           "title": {
            "standoff": 15
           },
           "zerolinecolor": "white",
           "zerolinewidth": 2
          },
          "yaxis": {
           "automargin": true,
           "gridcolor": "white",
           "linecolor": "white",
           "ticks": "",
           "title": {
            "standoff": 15
           },
           "zerolinecolor": "white",
           "zerolinewidth": 2
          }
         }
        },
        "title": {
         "text": "Real vs. Synthetic Data for columns 'room_rate' and 'room_type'"
        },
        "xaxis": {
         "anchor": "y",
         "autorange": true,
         "domain": [
          0,
          1
         ],
         "range": [
          64.85333333333332,
          443.78666666666663
         ],
         "title": {
          "text": "room_rate"
         },
         "type": "linear"
        },
        "yaxis": {
         "anchor": "x",
         "autorange": true,
         "domain": [
          0,
          1
         ],
         "range": [
          -0.5420560747663551,
          2.542056074766355
         ],
         "title": {
          "text": "room_type"
         },
         "type": "category"
        }
       }
      },
      "text/html": [
       "<div>                            <div id=\"7f10399d-69ed-4083-b24b-0049e20d19ab\" class=\"plotly-graph-div\" style=\"height:525px; width:100%;\"></div>            <script type=\"text/javascript\">                require([\"plotly\"], function(Plotly) {                    window.PLOTLYENV=window.PLOTLYENV || {};                                    if (document.getElementById(\"7f10399d-69ed-4083-b24b-0049e20d19ab\")) {                    Plotly.newPlot(                        \"7f10399d-69ed-4083-b24b-0049e20d19ab\",                        [{\"alignmentgroup\":\"True\",\"hovertemplate\":\"Data=Real\\u003cbr\\u003eroom_rate=%{x}\\u003cbr\\u003eroom_type=%{y}\\u003cextra\\u003e\\u003c\\u002fextra\\u003e\",\"legendgroup\":\"Real\",\"marker\":{\"color\":\"#000036\"},\"name\":\"Real\",\"notched\":false,\"offsetgroup\":\"Real\",\"orientation\":\"h\",\"showlegend\":true,\"x\":[131.23,114.43,368.33,115.61,122.41,177.76,108.09,111.12,124.23,114.44,106.09,116.36,114.03,136.73,83.8,109.97,238.52,228.68,179.43,138.28,107.53,108.53,108.4,113.16,154.4,140.95,101.31,93.97,120.15,118.07,184.39,110.68,119.96,118.15,119.06,125.77,124.48,176.31,98.41,195.73,264.79,112.46,197.21,128.66,126.3,173.11,162.76,132.93,114.35,268.16,222.55,125.06,105.42,185.08,111.27,143.57,118.04,292.5,288.73,272.76,187.99,153.1,115.79,108.81,115.45,120.34,165.96,118.66,251.15,144.23,103.07,193.57,224.13,113.1,181.27,104.97,148.07,116.41,111.04,115.75,262.15,128.42,142.34,143.68,155.61,158.05,109.87,116.2,259.39,109.86,162.9,112.16,118.56,110.05,111.1,144.18,112.87,112.4,112.9,208.13,144.36,123.83,178.48,137.72,133.06,155.6,88.62,424.84,105.86,141.55,121.03,187.34,145.43,115.16,141.94,181.25,131.74,288.29,104.57,119.75,225.69,176.85,93.8,104.85,103.38,109.51,113.9,102.12,103.69,127.21,113.34,109.44,113.36,88.91,150.78,203.54,334.75,290.85,142.4,186.76,214.26,186.94,267.51,110.65,204.06,148.29,118.29,119.0,108.25,205.47,161.63,131.98,106.92,129.68,127.26,133.85,287.4,119.4,105.59,120.83,185.52,134.76,124.79,128.4,111.39,230.38,152.06,133.69,114.86,106.56,133.07,109.91,185.1,131.28,132.06,122.23,118.93,101.85,208.18,258.9,152.26,110.61,117.41,216.05,107.11,191.92,132.34,113.27,105.67,111.32,200.79,143.26,146.34,126.77,107.42,149.74,220.58,115.8,224.9,137.26,133.1,106.35,110.91,103.66,124.4,120.66,226.04,124.83,188.9,340.92,182.17,180.28,110.91,133.94,114.16,187.93,206.55,187.61,110.77,206.82,192.77,108.96,115.92,251.34,112.85,119.11,113.89,116.58,220.59,134.18,114.27,107.92,117.56,146.18,119.74,117.68,203.29,154.27,104.52,180.57,113.79,120.79,121.01,109.36,114.69,110.95,203.29,115.56,110.04,130.54,97.37,227.66,140.29,149.37,167.25,140.18,117.01,177.72,107.94,119.39,147.45,115.07,141.06,108.99,111.7,134.68,215.93,316.5,118.73,127.06,137.57,132.05,105.46,111.36,185.03,180.79,137.67,263.12,304.77,184.22,121.09,102.65,194.26,308.82,179.48,165.74,109.82,119.08,101.25,159.06,183.37,186.73,105.59,107.44,163.02,92.07,149.16,156.84,128.39,187.11,130.79,367.35,138.59,133.31,187.48,155.2,178.19,103.66,105.05,339.31,205.75,122.86,285.27,160.15,144.74,116.07,258.17,270.34,108.37,111.51,117.6,113.75,191.65,127.54,100.75,109.22,151.95,135.27,110.17,110.76,162.83,115.68,111.82,228.47,113.88,239.82,119.19,121.13,107.79,108.78,170.67,106.43,126.51,106.08,155.79,119.35,103.94,237.48,116.71,207.68,107.89,149.99,382.32,199.94,185.52,282.42,123.12,116.28,192.81,111.26,130.69,113.64,108.53,145.39,117.02,382.97,115.65,109.8,111.59,129.11,110.0,85.68,278.46,180.81,171.25,123.13,106.94,206.31,116.39,182.33,121.44,172.71,139.8,295.89,216.09,124.89,129.25,116.02,84.69,192.38,201.19,103.56,177.01,106.09,108.08,121.44,293.67,111.32,144.28,162.27,108.19,137.82,174.3,112.5,139.84,114.0,111.27,180.84,169.53,188.08,111.49,106.37,105.13,109.12,141.68,108.9,185.19,205.21,123.53,181.03,241.68,204.76,174.26,309.33,116.46,110.14,219.71,225.18,178.16,286.76,106.89,110.23,124.62,180.61,115.8,288.85,256.98,204.11,107.9,114.29,118.73,204.46,118.08,213.47,141.15,140.36,108.98,117.37,124.59,139.59,176.9,107.39,209.9,265.09,115.62,106.0,118.77,115.99,105.84,190.01,122.68,188.31,143.78,182.21,148.91,191.68,279.14,103.17,122.85,118.88,151.2,106.17,178.57,181.8,174.94,235.81,109.45,275.87,206.08,266.91,124.71,133.84,125.19,144.66,131.79,120.75,107.93,154.22,149.53,106.26,122.44,102.59,185.02,103.96,169.72,103.25,115.81,141.61,136.92,143.52],\"x0\":\" \",\"xaxis\":\"x\",\"y\":[\"BASIC\",\"BASIC\",\"DELUXE\",\"BASIC\",\"BASIC\",\"BASIC\",\"BASIC\",\"BASIC\",\"BASIC\",\"BASIC\",\"BASIC\",\"BASIC\",\"BASIC\",\"BASIC\",\"BASIC\",\"BASIC\",\"DELUXE\",\"BASIC\",\"DELUXE\",\"BASIC\",\"BASIC\",\"BASIC\",\"BASIC\",\"BASIC\",\"BASIC\",\"BASIC\",\"BASIC\",\"BASIC\",\"BASIC\",\"BASIC\",\"DELUXE\",\"BASIC\",\"BASIC\",\"BASIC\",\"BASIC\",\"BASIC\",\"BASIC\",\"BASIC\",\"BASIC\",\"BASIC\",\"SUITE\",\"BASIC\",\"DELUXE\",\"BASIC\",\"BASIC\",\"BASIC\",\"BASIC\",\"BASIC\",\"BASIC\",\"SUITE\",\"DELUXE\",\"BASIC\",\"BASIC\",\"DELUXE\",\"BASIC\",\"BASIC\",\"BASIC\",\"BASIC\",\"SUITE\",\"SUITE\",\"DELUXE\",\"BASIC\",\"BASIC\",\"BASIC\",\"BASIC\",\"BASIC\",\"BASIC\",\"BASIC\",\"SUITE\",\"BASIC\",\"BASIC\",\"BASIC\",\"BASIC\",\"BASIC\",\"DELUXE\",\"BASIC\",\"BASIC\",\"BASIC\",\"BASIC\",\"BASIC\",\"BASIC\",\"BASIC\",\"BASIC\",\"BASIC\",\"BASIC\",\"BASIC\",\"BASIC\",\"BASIC\",\"SUITE\",\"BASIC\",\"BASIC\",\"BASIC\",\"BASIC\",\"BASIC\",\"BASIC\",\"BASIC\",\"BASIC\",\"BASIC\",\"BASIC\",\"DELUXE\",\"BASIC\",\"BASIC\",\"DELUXE\",\"BASIC\",\"BASIC\",\"BASIC\",\"BASIC\",\"DELUXE\",\"BASIC\",\"BASIC\",\"BASIC\",\"DELUXE\",\"BASIC\",\"BASIC\",\"DELUXE\",\"DELUXE\",\"BASIC\",\"BASIC\",\"BASIC\",\"BASIC\",\"DELUXE\",\"DELUXE\",\"BASIC\",\"BASIC\",\"BASIC\",\"BASIC\",\"BASIC\",\"BASIC\",\"BASIC\",\"BASIC\",\"BASIC\",\"BASIC\",\"BASIC\",\"BASIC\",\"BASIC\",\"BASIC\",\"DELUXE\",\"SUITE\",\"BASIC\",\"BASIC\",\"BASIC\",\"BASIC\",\"SUITE\",\"BASIC\",\"SUITE\",\"BASIC\",\"BASIC\",\"BASIC\",\"BASIC\",\"SUITE\",\"BASIC\",\"BASIC\",\"BASIC\",\"BASIC\",\"BASIC\",\"BASIC\",\"BASIC\",\"BASIC\",\"BASIC\",\"BASIC\",\"DELUXE\",\"BASIC\",\"BASIC\",\"BASIC\",\"BASIC\",\"SUITE\",\"DELUXE\",\"BASIC\",\"BASIC\",\"BASIC\",\"BASIC\",\"BASIC\",\"BASIC\",\"BASIC\",\"BASIC\",\"BASIC\",\"BASIC\",\"BASIC\",\"DELUXE\",\"SUITE\",\"BASIC\",\"BASIC\",\"BASIC\",\"SUITE\",\"BASIC\",\"DELUXE\",\"BASIC\",\"BASIC\",\"BASIC\",\"BASIC\",\"DELUXE\",\"BASIC\",\"BASIC\",\"BASIC\",\"BASIC\",\"BASIC\",\"SUITE\",\"BASIC\",\"DELUXE\",\"BASIC\",\"BASIC\",\"BASIC\",\"BASIC\",\"BASIC\",\"BASIC\",\"BASIC\",\"DELUXE\",\"BASIC\",\"DELUXE\",\"DELUXE\",\"DELUXE\",\"DELUXE\",\"BASIC\",\"BASIC\",\"BASIC\",\"DELUXE\",\"SUITE\",\"BASIC\",\"BASIC\",\"SUITE\",\"DELUXE\",\"BASIC\",\"BASIC\",\"DELUXE\",\"BASIC\",\"BASIC\",\"BASIC\",\"BASIC\",\"DELUXE\",\"BASIC\",\"BASIC\",\"BASIC\",\"BASIC\",\"BASIC\",\"BASIC\",\"BASIC\",\"SUITE\",\"BASIC\",\"BASIC\",\"DELUXE\",\"BASIC\",\"BASIC\",\"BASIC\",\"BASIC\",\"BASIC\",\"BASIC\",\"SUITE\",\"BASIC\",\"BASIC\",\"BASIC\",\"BASIC\",\"DELUXE\",\"BASIC\",\"BASIC\",\"BASIC\",\"BASIC\",\"BASIC\",\"BASIC\",\"BASIC\",\"BASIC\",\"BASIC\",\"BASIC\",\"BASIC\",\"BASIC\",\"BASIC\",\"BASIC\",\"DELUXE\",\"SUITE\",\"BASIC\",\"BASIC\",\"BASIC\",\"BASIC\",\"BASIC\",\"BASIC\",\"BASIC\",\"DELUXE\",\"BASIC\",\"SUITE\",\"SUITE\",\"DELUXE\",\"BASIC\",\"BASIC\",\"DELUXE\",\"SUITE\",\"DELUXE\",\"BASIC\",\"BASIC\",\"BASIC\",\"BASIC\",\"BASIC\",\"DELUXE\",\"DELUXE\",\"BASIC\",\"BASIC\",\"BASIC\",\"BASIC\",\"BASIC\",\"DELUXE\",\"BASIC\",\"DELUXE\",\"BASIC\",\"BASIC\",\"BASIC\",\"BASIC\",\"DELUXE\",\"BASIC\",\"BASIC\",\"BASIC\",\"BASIC\",\"DELUXE\",\"DELUXE\",\"BASIC\",\"SUITE\",\"BASIC\",\"BASIC\",\"BASIC\",\"BASIC\",\"SUITE\",\"BASIC\",\"BASIC\",\"BASIC\",\"BASIC\",\"DELUXE\",\"BASIC\",\"BASIC\",\"BASIC\",\"BASIC\",\"BASIC\",\"BASIC\",\"BASIC\",\"BASIC\",\"BASIC\",\"BASIC\",\"BASIC\",\"BASIC\",\"SUITE\",\"BASIC\",\"BASIC\",\"BASIC\",\"BASIC\",\"BASIC\",\"BASIC\",\"BASIC\",\"BASIC\",\"DELUXE\",\"BASIC\",\"BASIC\",\"DELUXE\",\"BASIC\",\"DELUXE\",\"BASIC\",\"BASIC\",\"DELUXE\",\"DELUXE\",\"DELUXE\",\"SUITE\",\"BASIC\",\"BASIC\",\"DELUXE\",\"BASIC\",\"BASIC\",\"BASIC\",\"BASIC\",\"BASIC\",\"BASIC\",\"BASIC\",\"BASIC\",\"BASIC\",\"BASIC\",\"BASIC\",\"BASIC\",\"BASIC\",\"DELUXE\",\"DELUXE\",\"BASIC\",\"BASIC\",\"BASIC\",\"BASIC\",\"BASIC\",\"DELUXE\",\"BASIC\",\"BASIC\",\"BASIC\",\"SUITE\",\"BASIC\",\"BASIC\",\"BASIC\",\"BASIC\",\"BASIC\",\"DELUXE\",\"BASIC\",\"BASIC\",\"BASIC\",\"BASIC\",\"BASIC\",\"BASIC\",\"DELUXE\",\"BASIC\",\"BASIC\",\"BASIC\",\"BASIC\",\"BASIC\",\"DELUXE\",\"BASIC\",\"BASIC\",\"BASIC\",\"BASIC\",\"DELUXE\",\"DELUXE\",\"DELUXE\",\"BASIC\",\"BASIC\",\"BASIC\",\"BASIC\",\"BASIC\",\"BASIC\",\"BASIC\",\"DELUXE\",\"BASIC\",\"DELUXE\",\"BASIC\",\"SUITE\",\"DELUXE\",\"SUITE\",\"BASIC\",\"BASIC\",\"SUITE\",\"DELUXE\",\"BASIC\",\"SUITE\",\"BASIC\",\"BASIC\",\"BASIC\",\"DELUXE\",\"BASIC\",\"BASIC\",\"SUITE\",\"DELUXE\",\"BASIC\",\"BASIC\",\"BASIC\",\"SUITE\",\"BASIC\",\"DELUXE\",\"BASIC\",\"BASIC\",\"BASIC\",\"BASIC\",\"BASIC\",\"BASIC\",\"BASIC\",\"BASIC\",\"BASIC\",\"SUITE\",\"BASIC\",\"BASIC\",\"BASIC\",\"BASIC\",\"BASIC\",\"DELUXE\",\"BASIC\",\"DELUXE\",\"BASIC\",\"DELUXE\",\"BASIC\",\"DELUXE\",\"SUITE\",\"BASIC\",\"BASIC\",\"BASIC\",\"BASIC\",\"BASIC\",\"BASIC\",\"DELUXE\",\"BASIC\",\"SUITE\",\"BASIC\",\"BASIC\",\"SUITE\",\"SUITE\",\"BASIC\",\"BASIC\",\"BASIC\",\"BASIC\",\"BASIC\",\"BASIC\",\"BASIC\",\"DELUXE\",\"BASIC\",\"BASIC\",\"BASIC\",\"BASIC\",\"DELUXE\",\"BASIC\",\"BASIC\",\"BASIC\",\"BASIC\",\"BASIC\",\"BASIC\",\"BASIC\"],\"y0\":\" \",\"yaxis\":\"y\",\"type\":\"box\"},{\"alignmentgroup\":\"True\",\"hovertemplate\":\"Data=Synthetic\\u003cbr\\u003eroom_rate=%{x}\\u003cbr\\u003eroom_type=%{y}\\u003cextra\\u003e\\u003c\\u002fextra\\u003e\",\"legendgroup\":\"Synthetic\",\"marker\":{\"color\":\"#01E0C9\"},\"name\":\"Synthetic\",\"notched\":false,\"offsetgroup\":\"Synthetic\",\"orientation\":\"h\",\"showlegend\":true,\"x\":[122.83,175.3,151.45,169.82,189.85,109.39,92.46,212.51,122.5,244.38,349.41,148.7,284.16,89.37,170.87,180.87,192.45,97.95,334.62,156.99,104.36,84.0,149.82,141.79,84.71,85.28,226.84,85.76,247.12,120.98,104.14,96.14,140.21,83.82,204.71,260.71,252.18,135.12,99.73,85.92,208.59,84.47,108.13,241.98,90.31,88.66,144.83,161.78,93.74,178.09,212.22,117.54,130.96,177.74,84.46,119.6,121.27,174.72,304.88,327.16,96.67,152.17,110.86,186.02,130.38,197.78,143.17,95.68,343.77,163.1,96.55,332.59,102.52,306.02,103.19,200.88,117.81,84.22,96.1,163.07,190.92,175.3,259.2,101.37,98.39,117.35,86.98,237.19,117.33,133.3,114.34,91.81,100.89,83.99,110.65,105.92,227.89,103.49,202.42,86.82,142.67,91.65,302.44,264.28,145.97,87.03,90.42,180.86,240.5,276.08,132.51,108.71,177.3,129.55,116.66,88.91,89.17,141.04,305.64,144.6,160.64,270.15,267.79,305.46,91.64,84.9,95.92,109.29,87.26,185.31,204.6,237.34,170.36,171.47,108.52,148.43,90.85,88.48,107.97,199.99,88.54,209.72,385.2,93.99,100.01,102.38,86.57,137.3,200.31,179.58,177.02,139.27,99.9,83.8,234.31,287.98,219.99,109.36,239.09,104.72,230.16,242.94,142.16,87.76,116.26,160.84,119.61,160.11,87.65,104.2,138.91,194.03,226.93,110.6,94.14,92.28,96.17,136.28,197.02,115.23,130.24,151.01,160.69,224.93,122.79,250.94,117.12,94.03,170.21,214.45,101.31,273.12,180.29,130.62,98.4,142.33,203.77,198.95,162.35,191.85,160.87,86.08,100.72,86.06,103.81,201.34,244.75,304.91,128.41,168.96,89.07,160.45,122.81,234.86,102.2,118.56,196.5,174.13,156.62,156.32,119.12,221.61,134.47,89.29,100.85,123.26,148.49,295.4,112.27,156.0,124.07,134.15,107.85,124.7,99.05,117.77,84.05,166.15,230.89,172.5,109.0,136.57,91.35,94.86,208.08,161.29,185.78,84.69,160.5,87.48,163.73,105.11,90.57,166.7,215.49,146.51,271.26,102.86,87.48,103.13,93.27,189.46,137.38,319.46,174.06,87.78,100.04,89.6,109.44,128.37,270.65,91.72,97.18,183.84,129.61,85.65,121.94,115.14,84.09,90.39,246.0,149.58,84.5,233.46,193.34,156.38,96.13,237.14,88.03,244.7,202.5,106.48,214.67,203.31,116.3,177.93,316.97,115.42,122.22,84.67,85.52,199.01,142.8,88.17,185.05,293.08,87.47,235.67,90.88,108.67,249.8,150.6,246.11,109.15,89.07,133.58,110.06,144.3,134.95,142.07,92.56,84.2,120.84,202.52,152.18,262.44,87.88,207.85,102.4,205.44,110.67,167.23,100.67,180.79,106.09,92.48,88.56,96.75,176.51,153.29,84.69,100.32,109.83,85.76,120.12,102.08,230.62,112.93,133.26,251.38,86.43,84.24,230.39,100.0,85.39,154.04,224.75,97.36,92.49,195.43,182.56,184.62,90.48,225.88,125.28,107.48,91.66,93.43,126.49,229.04,85.58,110.29,151.55,120.51,260.39,91.89,172.1,157.5,148.76,186.78,246.57,101.46,107.16,243.21,90.97,97.93,84.26,96.5,155.87,263.07,179.01,126.18,146.26,142.09,171.57,98.94,111.24,132.34,259.9,84.61,309.73,162.33,125.61,84.97,88.97,93.59,172.94,201.53,136.38,139.42,172.31,132.28,163.81,105.08,117.24,102.23,85.88,149.84,147.65,218.73,198.68,145.91,85.38,125.62,126.76,113.6,204.99,86.01,264.48,133.11,98.58,139.99,172.68,196.87,183.43,92.68,93.63,97.25,111.15,350.23,290.6,329.88,98.92,289.44,206.66,118.71,87.95,97.69,189.34,115.56,232.49,108.18,183.15,86.74,97.93,232.29,118.54,93.28,99.67,86.52,187.51,115.01,167.1,146.93,90.28,205.89,96.36,92.81,211.86,125.95,86.02,138.43,121.74,129.44,272.93,131.58,89.3,201.59,97.37,126.96,96.07,259.2,88.03,83.84,282.02,134.49,279.91,189.36,83.8,154.97,85.17,217.15,87.35,125.06,228.2,328.36,248.61,151.73,376.4,232.18],\"x0\":\" \",\"xaxis\":\"x\",\"y\":[\"BASIC\",\"DELUXE\",\"DELUXE\",\"BASIC\",\"SUITE\",\"BASIC\",\"BASIC\",\"DELUXE\",\"BASIC\",\"BASIC\",\"BASIC\",\"BASIC\",\"BASIC\",\"BASIC\",\"BASIC\",\"BASIC\",\"BASIC\",\"BASIC\",\"SUITE\",\"DELUXE\",\"BASIC\",\"DELUXE\",\"DELUXE\",\"BASIC\",\"BASIC\",\"BASIC\",\"DELUXE\",\"BASIC\",\"BASIC\",\"BASIC\",\"BASIC\",\"BASIC\",\"BASIC\",\"BASIC\",\"BASIC\",\"BASIC\",\"BASIC\",\"BASIC\",\"BASIC\",\"BASIC\",\"DELUXE\",\"BASIC\",\"DELUXE\",\"BASIC\",\"DELUXE\",\"BASIC\",\"BASIC\",\"BASIC\",\"BASIC\",\"BASIC\",\"DELUXE\",\"BASIC\",\"BASIC\",\"DELUXE\",\"BASIC\",\"DELUXE\",\"DELUXE\",\"DELUXE\",\"BASIC\",\"DELUXE\",\"BASIC\",\"DELUXE\",\"BASIC\",\"BASIC\",\"BASIC\",\"BASIC\",\"BASIC\",\"BASIC\",\"DELUXE\",\"BASIC\",\"BASIC\",\"BASIC\",\"BASIC\",\"DELUXE\",\"BASIC\",\"BASIC\",\"BASIC\",\"BASIC\",\"BASIC\",\"DELUXE\",\"BASIC\",\"BASIC\",\"BASIC\",\"BASIC\",\"BASIC\",\"BASIC\",\"BASIC\",\"BASIC\",\"BASIC\",\"BASIC\",\"BASIC\",\"BASIC\",\"BASIC\",\"BASIC\",\"BASIC\",\"BASIC\",\"DELUXE\",\"BASIC\",\"BASIC\",\"BASIC\",\"DELUXE\",\"BASIC\",\"DELUXE\",\"BASIC\",\"DELUXE\",\"BASIC\",\"BASIC\",\"BASIC\",\"DELUXE\",\"DELUXE\",\"BASIC\",\"DELUXE\",\"DELUXE\",\"DELUXE\",\"BASIC\",\"BASIC\",\"DELUXE\",\"BASIC\",\"DELUXE\",\"BASIC\",\"BASIC\",\"DELUXE\",\"BASIC\",\"SUITE\",\"BASIC\",\"BASIC\",\"BASIC\",\"BASIC\",\"BASIC\",\"BASIC\",\"BASIC\",\"DELUXE\",\"BASIC\",\"DELUXE\",\"BASIC\",\"BASIC\",\"BASIC\",\"BASIC\",\"BASIC\",\"BASIC\",\"BASIC\",\"BASIC\",\"BASIC\",\"DELUXE\",\"BASIC\",\"BASIC\",\"BASIC\",\"DELUXE\",\"BASIC\",\"BASIC\",\"BASIC\",\"BASIC\",\"BASIC\",\"BASIC\",\"DELUXE\",\"DELUXE\",\"DELUXE\",\"BASIC\",\"BASIC\",\"DELUXE\",\"DELUXE\",\"DELUXE\",\"BASIC\",\"BASIC\",\"DELUXE\",\"BASIC\",\"BASIC\",\"BASIC\",\"BASIC\",\"BASIC\",\"BASIC\",\"BASIC\",\"DELUXE\",\"BASIC\",\"BASIC\",\"BASIC\",\"DELUXE\",\"BASIC\",\"BASIC\",\"DELUXE\",\"BASIC\",\"BASIC\",\"DELUXE\",\"SUITE\",\"BASIC\",\"BASIC\",\"BASIC\",\"BASIC\",\"BASIC\",\"DELUXE\",\"BASIC\",\"DELUXE\",\"BASIC\",\"DELUXE\",\"BASIC\",\"BASIC\",\"BASIC\",\"BASIC\",\"BASIC\",\"BASIC\",\"BASIC\",\"BASIC\",\"BASIC\",\"BASIC\",\"BASIC\",\"BASIC\",\"BASIC\",\"BASIC\",\"BASIC\",\"BASIC\",\"BASIC\",\"BASIC\",\"BASIC\",\"BASIC\",\"BASIC\",\"DELUXE\",\"DELUXE\",\"BASIC\",\"BASIC\",\"BASIC\",\"DELUXE\",\"SUITE\",\"BASIC\",\"BASIC\",\"BASIC\",\"BASIC\",\"BASIC\",\"BASIC\",\"DELUXE\",\"SUITE\",\"BASIC\",\"BASIC\",\"BASIC\",\"BASIC\",\"DELUXE\",\"BASIC\",\"BASIC\",\"BASIC\",\"BASIC\",\"BASIC\",\"DELUXE\",\"DELUXE\",\"BASIC\",\"BASIC\",\"BASIC\",\"SUITE\",\"BASIC\",\"BASIC\",\"BASIC\",\"SUITE\",\"DELUXE\",\"BASIC\",\"BASIC\",\"BASIC\",\"BASIC\",\"BASIC\",\"BASIC\",\"BASIC\",\"BASIC\",\"BASIC\",\"BASIC\",\"BASIC\",\"DELUXE\",\"DELUXE\",\"DELUXE\",\"DELUXE\",\"BASIC\",\"BASIC\",\"DELUXE\",\"BASIC\",\"BASIC\",\"BASIC\",\"BASIC\",\"BASIC\",\"BASIC\",\"BASIC\",\"BASIC\",\"BASIC\",\"BASIC\",\"BASIC\",\"BASIC\",\"BASIC\",\"BASIC\",\"DELUXE\",\"BASIC\",\"DELUXE\",\"BASIC\",\"DELUXE\",\"BASIC\",\"DELUXE\",\"BASIC\",\"BASIC\",\"BASIC\",\"DELUXE\",\"BASIC\",\"BASIC\",\"BASIC\",\"BASIC\",\"BASIC\",\"BASIC\",\"BASIC\",\"DELUXE\",\"BASIC\",\"BASIC\",\"BASIC\",\"BASIC\",\"BASIC\",\"BASIC\",\"BASIC\",\"BASIC\",\"BASIC\",\"BASIC\",\"DELUXE\",\"BASIC\",\"BASIC\",\"DELUXE\",\"BASIC\",\"BASIC\",\"BASIC\",\"DELUXE\",\"BASIC\",\"DELUXE\",\"DELUXE\",\"DELUXE\",\"BASIC\",\"SUITE\",\"BASIC\",\"BASIC\",\"BASIC\",\"DELUXE\",\"DELUXE\",\"BASIC\",\"BASIC\",\"DELUXE\",\"BASIC\",\"DELUXE\",\"BASIC\",\"BASIC\",\"BASIC\",\"DELUXE\",\"BASIC\",\"BASIC\",\"BASIC\",\"BASIC\",\"BASIC\",\"BASIC\",\"BASIC\",\"BASIC\",\"DELUXE\",\"DELUXE\",\"DELUXE\",\"BASIC\",\"BASIC\",\"BASIC\",\"BASIC\",\"BASIC\",\"DELUXE\",\"BASIC\",\"BASIC\",\"SUITE\",\"DELUXE\",\"BASIC\",\"BASIC\",\"BASIC\",\"DELUXE\",\"BASIC\",\"BASIC\",\"BASIC\",\"BASIC\",\"BASIC\",\"BASIC\",\"DELUXE\",\"BASIC\",\"DELUXE\",\"BASIC\",\"BASIC\",\"DELUXE\",\"BASIC\",\"BASIC\",\"BASIC\",\"BASIC\",\"BASIC\",\"BASIC\",\"DELUXE\",\"BASIC\",\"BASIC\",\"BASIC\",\"BASIC\",\"BASIC\",\"BASIC\",\"DELUXE\",\"BASIC\",\"BASIC\",\"BASIC\",\"DELUXE\",\"BASIC\",\"DELUXE\",\"BASIC\",\"BASIC\",\"BASIC\",\"DELUXE\",\"DELUXE\",\"BASIC\",\"BASIC\",\"BASIC\",\"DELUXE\",\"BASIC\",\"BASIC\",\"BASIC\",\"BASIC\",\"BASIC\",\"BASIC\",\"BASIC\",\"BASIC\",\"DELUXE\",\"BASIC\",\"BASIC\",\"DELUXE\",\"BASIC\",\"BASIC\",\"BASIC\",\"DELUXE\",\"BASIC\",\"BASIC\",\"BASIC\",\"BASIC\",\"DELUXE\",\"BASIC\",\"DELUXE\",\"BASIC\",\"BASIC\",\"BASIC\",\"SUITE\",\"DELUXE\",\"DELUXE\",\"BASIC\",\"BASIC\",\"BASIC\",\"BASIC\",\"SUITE\",\"BASIC\",\"DELUXE\",\"BASIC\",\"DELUXE\",\"BASIC\",\"BASIC\",\"BASIC\",\"BASIC\",\"BASIC\",\"BASIC\",\"BASIC\",\"DELUXE\",\"DELUXE\",\"BASIC\",\"BASIC\",\"SUITE\",\"BASIC\",\"BASIC\",\"DELUXE\",\"BASIC\",\"BASIC\",\"BASIC\",\"DELUXE\",\"SUITE\",\"BASIC\",\"SUITE\",\"BASIC\",\"BASIC\",\"DELUXE\",\"DELUXE\",\"BASIC\",\"DELUXE\",\"BASIC\",\"BASIC\",\"BASIC\",\"BASIC\",\"BASIC\",\"SUITE\",\"DELUXE\",\"BASIC\",\"BASIC\",\"BASIC\",\"BASIC\",\"BASIC\",\"DELUXE\",\"DELUXE\",\"BASIC\",\"DELUXE\",\"BASIC\",\"BASIC\",\"BASIC\",\"BASIC\",\"BASIC\",\"DELUXE\",\"DELUXE\",\"DELUXE\",\"DELUXE\",\"BASIC\",\"BASIC\",\"DELUXE\"],\"y0\":\" \",\"yaxis\":\"y\",\"type\":\"box\"}],                        {\"template\":{\"data\":{\"histogram2dcontour\":[{\"type\":\"histogram2dcontour\",\"colorbar\":{\"outlinewidth\":0,\"ticks\":\"\"},\"colorscale\":[[0.0,\"#0d0887\"],[0.1111111111111111,\"#46039f\"],[0.2222222222222222,\"#7201a8\"],[0.3333333333333333,\"#9c179e\"],[0.4444444444444444,\"#bd3786\"],[0.5555555555555556,\"#d8576b\"],[0.6666666666666666,\"#ed7953\"],[0.7777777777777778,\"#fb9f3a\"],[0.8888888888888888,\"#fdca26\"],[1.0,\"#f0f921\"]]}],\"choropleth\":[{\"type\":\"choropleth\",\"colorbar\":{\"outlinewidth\":0,\"ticks\":\"\"}}],\"histogram2d\":[{\"type\":\"histogram2d\",\"colorbar\":{\"outlinewidth\":0,\"ticks\":\"\"},\"colorscale\":[[0.0,\"#0d0887\"],[0.1111111111111111,\"#46039f\"],[0.2222222222222222,\"#7201a8\"],[0.3333333333333333,\"#9c179e\"],[0.4444444444444444,\"#bd3786\"],[0.5555555555555556,\"#d8576b\"],[0.6666666666666666,\"#ed7953\"],[0.7777777777777778,\"#fb9f3a\"],[0.8888888888888888,\"#fdca26\"],[1.0,\"#f0f921\"]]}],\"heatmap\":[{\"type\":\"heatmap\",\"colorbar\":{\"outlinewidth\":0,\"ticks\":\"\"},\"colorscale\":[[0.0,\"#0d0887\"],[0.1111111111111111,\"#46039f\"],[0.2222222222222222,\"#7201a8\"],[0.3333333333333333,\"#9c179e\"],[0.4444444444444444,\"#bd3786\"],[0.5555555555555556,\"#d8576b\"],[0.6666666666666666,\"#ed7953\"],[0.7777777777777778,\"#fb9f3a\"],[0.8888888888888888,\"#fdca26\"],[1.0,\"#f0f921\"]]}],\"heatmapgl\":[{\"type\":\"heatmapgl\",\"colorbar\":{\"outlinewidth\":0,\"ticks\":\"\"},\"colorscale\":[[0.0,\"#0d0887\"],[0.1111111111111111,\"#46039f\"],[0.2222222222222222,\"#7201a8\"],[0.3333333333333333,\"#9c179e\"],[0.4444444444444444,\"#bd3786\"],[0.5555555555555556,\"#d8576b\"],[0.6666666666666666,\"#ed7953\"],[0.7777777777777778,\"#fb9f3a\"],[0.8888888888888888,\"#fdca26\"],[1.0,\"#f0f921\"]]}],\"contourcarpet\":[{\"type\":\"contourcarpet\",\"colorbar\":{\"outlinewidth\":0,\"ticks\":\"\"}}],\"contour\":[{\"type\":\"contour\",\"colorbar\":{\"outlinewidth\":0,\"ticks\":\"\"},\"colorscale\":[[0.0,\"#0d0887\"],[0.1111111111111111,\"#46039f\"],[0.2222222222222222,\"#7201a8\"],[0.3333333333333333,\"#9c179e\"],[0.4444444444444444,\"#bd3786\"],[0.5555555555555556,\"#d8576b\"],[0.6666666666666666,\"#ed7953\"],[0.7777777777777778,\"#fb9f3a\"],[0.8888888888888888,\"#fdca26\"],[1.0,\"#f0f921\"]]}],\"surface\":[{\"type\":\"surface\",\"colorbar\":{\"outlinewidth\":0,\"ticks\":\"\"},\"colorscale\":[[0.0,\"#0d0887\"],[0.1111111111111111,\"#46039f\"],[0.2222222222222222,\"#7201a8\"],[0.3333333333333333,\"#9c179e\"],[0.4444444444444444,\"#bd3786\"],[0.5555555555555556,\"#d8576b\"],[0.6666666666666666,\"#ed7953\"],[0.7777777777777778,\"#fb9f3a\"],[0.8888888888888888,\"#fdca26\"],[1.0,\"#f0f921\"]]}],\"mesh3d\":[{\"type\":\"mesh3d\",\"colorbar\":{\"outlinewidth\":0,\"ticks\":\"\"}}],\"scatter\":[{\"fillpattern\":{\"fillmode\":\"overlay\",\"size\":10,\"solidity\":0.2},\"type\":\"scatter\"}],\"parcoords\":[{\"type\":\"parcoords\",\"line\":{\"colorbar\":{\"outlinewidth\":0,\"ticks\":\"\"}}}],\"scatterpolargl\":[{\"type\":\"scatterpolargl\",\"marker\":{\"colorbar\":{\"outlinewidth\":0,\"ticks\":\"\"}}}],\"bar\":[{\"error_x\":{\"color\":\"#2a3f5f\"},\"error_y\":{\"color\":\"#2a3f5f\"},\"marker\":{\"line\":{\"color\":\"#E5ECF6\",\"width\":0.5},\"pattern\":{\"fillmode\":\"overlay\",\"size\":10,\"solidity\":0.2}},\"type\":\"bar\"}],\"scattergeo\":[{\"type\":\"scattergeo\",\"marker\":{\"colorbar\":{\"outlinewidth\":0,\"ticks\":\"\"}}}],\"scatterpolar\":[{\"type\":\"scatterpolar\",\"marker\":{\"colorbar\":{\"outlinewidth\":0,\"ticks\":\"\"}}}],\"histogram\":[{\"marker\":{\"pattern\":{\"fillmode\":\"overlay\",\"size\":10,\"solidity\":0.2}},\"type\":\"histogram\"}],\"scattergl\":[{\"type\":\"scattergl\",\"marker\":{\"colorbar\":{\"outlinewidth\":0,\"ticks\":\"\"}}}],\"scatter3d\":[{\"type\":\"scatter3d\",\"line\":{\"colorbar\":{\"outlinewidth\":0,\"ticks\":\"\"}},\"marker\":{\"colorbar\":{\"outlinewidth\":0,\"ticks\":\"\"}}}],\"scattermapbox\":[{\"type\":\"scattermapbox\",\"marker\":{\"colorbar\":{\"outlinewidth\":0,\"ticks\":\"\"}}}],\"scatterternary\":[{\"type\":\"scatterternary\",\"marker\":{\"colorbar\":{\"outlinewidth\":0,\"ticks\":\"\"}}}],\"scattercarpet\":[{\"type\":\"scattercarpet\",\"marker\":{\"colorbar\":{\"outlinewidth\":0,\"ticks\":\"\"}}}],\"carpet\":[{\"aaxis\":{\"endlinecolor\":\"#2a3f5f\",\"gridcolor\":\"white\",\"linecolor\":\"white\",\"minorgridcolor\":\"white\",\"startlinecolor\":\"#2a3f5f\"},\"baxis\":{\"endlinecolor\":\"#2a3f5f\",\"gridcolor\":\"white\",\"linecolor\":\"white\",\"minorgridcolor\":\"white\",\"startlinecolor\":\"#2a3f5f\"},\"type\":\"carpet\"}],\"table\":[{\"cells\":{\"fill\":{\"color\":\"#EBF0F8\"},\"line\":{\"color\":\"white\"}},\"header\":{\"fill\":{\"color\":\"#C8D4E3\"},\"line\":{\"color\":\"white\"}},\"type\":\"table\"}],\"barpolar\":[{\"marker\":{\"line\":{\"color\":\"#E5ECF6\",\"width\":0.5},\"pattern\":{\"fillmode\":\"overlay\",\"size\":10,\"solidity\":0.2}},\"type\":\"barpolar\"}],\"pie\":[{\"automargin\":true,\"type\":\"pie\"}]},\"layout\":{\"autotypenumbers\":\"strict\",\"colorway\":[\"#636efa\",\"#EF553B\",\"#00cc96\",\"#ab63fa\",\"#FFA15A\",\"#19d3f3\",\"#FF6692\",\"#B6E880\",\"#FF97FF\",\"#FECB52\"],\"font\":{\"color\":\"#2a3f5f\"},\"hovermode\":\"closest\",\"hoverlabel\":{\"align\":\"left\"},\"paper_bgcolor\":\"white\",\"plot_bgcolor\":\"#E5ECF6\",\"polar\":{\"bgcolor\":\"#E5ECF6\",\"angularaxis\":{\"gridcolor\":\"white\",\"linecolor\":\"white\",\"ticks\":\"\"},\"radialaxis\":{\"gridcolor\":\"white\",\"linecolor\":\"white\",\"ticks\":\"\"}},\"ternary\":{\"bgcolor\":\"#E5ECF6\",\"aaxis\":{\"gridcolor\":\"white\",\"linecolor\":\"white\",\"ticks\":\"\"},\"baxis\":{\"gridcolor\":\"white\",\"linecolor\":\"white\",\"ticks\":\"\"},\"caxis\":{\"gridcolor\":\"white\",\"linecolor\":\"white\",\"ticks\":\"\"}},\"coloraxis\":{\"colorbar\":{\"outlinewidth\":0,\"ticks\":\"\"}},\"colorscale\":{\"sequential\":[[0.0,\"#0d0887\"],[0.1111111111111111,\"#46039f\"],[0.2222222222222222,\"#7201a8\"],[0.3333333333333333,\"#9c179e\"],[0.4444444444444444,\"#bd3786\"],[0.5555555555555556,\"#d8576b\"],[0.6666666666666666,\"#ed7953\"],[0.7777777777777778,\"#fb9f3a\"],[0.8888888888888888,\"#fdca26\"],[1.0,\"#f0f921\"]],\"sequentialminus\":[[0.0,\"#0d0887\"],[0.1111111111111111,\"#46039f\"],[0.2222222222222222,\"#7201a8\"],[0.3333333333333333,\"#9c179e\"],[0.4444444444444444,\"#bd3786\"],[0.5555555555555556,\"#d8576b\"],[0.6666666666666666,\"#ed7953\"],[0.7777777777777778,\"#fb9f3a\"],[0.8888888888888888,\"#fdca26\"],[1.0,\"#f0f921\"]],\"diverging\":[[0,\"#8e0152\"],[0.1,\"#c51b7d\"],[0.2,\"#de77ae\"],[0.3,\"#f1b6da\"],[0.4,\"#fde0ef\"],[0.5,\"#f7f7f7\"],[0.6,\"#e6f5d0\"],[0.7,\"#b8e186\"],[0.8,\"#7fbc41\"],[0.9,\"#4d9221\"],[1,\"#276419\"]]},\"xaxis\":{\"gridcolor\":\"white\",\"linecolor\":\"white\",\"ticks\":\"\",\"title\":{\"standoff\":15},\"zerolinecolor\":\"white\",\"automargin\":true,\"zerolinewidth\":2},\"yaxis\":{\"gridcolor\":\"white\",\"linecolor\":\"white\",\"ticks\":\"\",\"title\":{\"standoff\":15},\"zerolinecolor\":\"white\",\"automargin\":true,\"zerolinewidth\":2},\"scene\":{\"xaxis\":{\"backgroundcolor\":\"#E5ECF6\",\"gridcolor\":\"white\",\"linecolor\":\"white\",\"showbackground\":true,\"ticks\":\"\",\"zerolinecolor\":\"white\",\"gridwidth\":2},\"yaxis\":{\"backgroundcolor\":\"#E5ECF6\",\"gridcolor\":\"white\",\"linecolor\":\"white\",\"showbackground\":true,\"ticks\":\"\",\"zerolinecolor\":\"white\",\"gridwidth\":2},\"zaxis\":{\"backgroundcolor\":\"#E5ECF6\",\"gridcolor\":\"white\",\"linecolor\":\"white\",\"showbackground\":true,\"ticks\":\"\",\"zerolinecolor\":\"white\",\"gridwidth\":2}},\"shapedefaults\":{\"line\":{\"color\":\"#2a3f5f\"}},\"annotationdefaults\":{\"arrowcolor\":\"#2a3f5f\",\"arrowhead\":0,\"arrowwidth\":1},\"geo\":{\"bgcolor\":\"white\",\"landcolor\":\"#E5ECF6\",\"subunitcolor\":\"white\",\"showland\":true,\"showlakes\":true,\"lakecolor\":\"white\"},\"title\":{\"x\":0.05},\"mapbox\":{\"style\":\"light\"}}},\"xaxis\":{\"anchor\":\"y\",\"domain\":[0.0,1.0],\"title\":{\"text\":\"room_rate\"}},\"yaxis\":{\"anchor\":\"x\",\"domain\":[0.0,1.0],\"title\":{\"text\":\"room_type\"}},\"legend\":{\"title\":{\"text\":\"Data\"},\"tracegroupgap\":0},\"margin\":{\"t\":60},\"boxmode\":\"group\",\"title\":{\"text\":\"Real vs. Synthetic Data for columns 'room_rate' and 'room_type'\"},\"plot_bgcolor\":\"#F5F5F8\"},                        {\"responsive\": true}                    ).then(function(){\n",
       "                            \n",
       "var gd = document.getElementById('7f10399d-69ed-4083-b24b-0049e20d19ab');\n",
       "var x = new MutationObserver(function (mutations, observer) {{\n",
       "        var display = window.getComputedStyle(gd).display;\n",
       "        if (!display || display === 'none') {{\n",
       "            console.log([gd, 'removed!']);\n",
       "            Plotly.purge(gd);\n",
       "            observer.disconnect();\n",
       "        }}\n",
       "}});\n",
       "\n",
       "// Listen for the removal of the full notebook cells\n",
       "var notebookContainer = gd.closest('#notebook-container');\n",
       "if (notebookContainer) {{\n",
       "    x.observe(notebookContainer, {childList: true});\n",
       "}}\n",
       "\n",
       "// Listen for the clearing of the current output cell\n",
       "var outputEl = gd.closest('.output');\n",
       "if (outputEl) {{\n",
       "    x.observe(outputEl, {childList: true});\n",
       "}}\n",
       "\n",
       "                        })                };                });            </script>        </div>"
      ]
     },
     "metadata": {},
     "output_type": "display_data"
    }
   ],
   "source": [
    "from sdv.evaluation.single_table import get_column_pair_plot\n",
    "\n",
    "fig = get_column_pair_plot(\n",
    "    real_data=real_data,\n",
    "    synthetic_data=synthetic_data,\n",
    "    column_names=[\"room_rate\", \"room_type\"],\n",
    "    metadata=metadata\n",
    ")\n",
    "\n",
    "fig.show()"
   ]
  },
  {
   "cell_type": "code",
   "execution_count": 230,
   "id": "3f777ccc-0e00-4a20-8779-634774001ee9",
   "metadata": {},
   "outputs": [
    {
     "name": "stdout",
     "output_type": "stream",
     "text": [
      "\n",
      "quality score: \n",
      "0.8769582836077001,\n",
      "\n",
      "quality properties: \n",
      "             Property     Score\n",
      "0       Column Shapes  0.874541\n",
      "1  Column Pair Trends  0.879376,\n",
      "\n",
      "quality details: \n",
      "          Column        Metric  Quality Score\n",
      "0  amenities_fee  KSComplement       0.704163\n",
      "1   checkin_date  KSComplement       0.968000\n",
      "2  checkout_date  KSComplement       0.977083\n",
      "3      room_rate  KSComplement       0.732000\n",
      "4    has_rewards  TVComplement       0.952000\n",
      "5      room_type  TVComplement       0.914000\n",
      "\n",
      "\n"
     ]
    }
   ],
   "source": [
    "# SDMetrics Quality Report\n",
    "\n",
    "print(f\"\"\"\n",
    "quality score: \\n{quality_report.get_score()},\\n\n",
    "quality properties: \\n{quality_report.get_properties()},\\n\n",
    "quality details: \\n{quality_report.get_details(property_name='Column Shapes')}\\n\n",
    "\"\"\")"
   ]
  },
  {
   "cell_type": "code",
   "execution_count": 229,
   "id": "cd32d154-1da6-44fb-87df-f342ca6c9083",
   "metadata": {},
   "outputs": [
    {
     "name": "stderr",
     "output_type": "stream",
     "text": [
      "Creating report: 100%|████████████████████████████| 4/4 [00:00<00:00,  4.62it/s]"
     ]
    },
    {
     "name": "stdout",
     "output_type": "stream",
     "text": [
      "\n",
      "DiagnosticResults:\n",
      "\n",
      "SUCCESS:\n",
      "✓ The synthetic data covers over 90% of the numerical ranges present in the real data\n",
      "✓ The synthetic data covers over 90% of the categories present in the real data\n",
      "✓ Over 90% of the synthetic rows are not copies of the real data\n",
      "✓ The synthetic data follows over 90% of the min/max boundaries set by the real data\n"
     ]
    },
    {
     "name": "stderr",
     "output_type": "stream",
     "text": [
      "\n"
     ]
    }
   ],
   "source": [
    "# run diagnostic\n",
    "\n",
    "from sdv.evaluation.single_table import run_diagnostic\n",
    "\n",
    "diagnostic_report = run_diagnostic(\n",
    "    real_data=real_data,\n",
    "    synthetic_data=synthetic_data,\n",
    "    metadata=metadata\n",
    ")"
   ]
  },
  {
   "cell_type": "code",
   "execution_count": 232,
   "id": "a9025596-eeff-4ddc-843f-a643f1e179b8",
   "metadata": {},
   "outputs": [
    {
     "name": "stdout",
     "output_type": "stream",
     "text": [
      "\n",
      "diagnostic properties: \n",
      "{'Coverage': 0.9792679536290724, 'Synthesis': 0.978, 'Boundaries': 1.0},\n",
      "\n",
      "quality details: \n",
      "          Column            Metric  Diagnostic Score\n",
      "0  amenities_fee     RangeCoverage          1.000000\n",
      "1   checkin_date     RangeCoverage          0.994565\n",
      "2  checkout_date     RangeCoverage          0.997275\n",
      "3      room_rate     RangeCoverage          0.883767\n",
      "4    has_rewards  CategoryCoverage          1.000000\n",
      "5      room_type  CategoryCoverage          1.000000\n",
      "\n",
      "\n"
     ]
    }
   ],
   "source": [
    "# diagnostic report\n",
    "\n",
    "print(f\"\"\"\n",
    "diagnostic properties: \\n{diagnostic_report.get_properties()},\\n\n",
    "quality details: \\n{diagnostic_report.get_details(property_name='Coverage')}\\n\n",
    "\"\"\")"
   ]
  },
  {
   "cell_type": "code",
   "execution_count": 46,
   "id": "b8d5acd0-fdb5-4458-8ae5-13adfcea35a1",
   "metadata": {},
   "outputs": [],
   "source": [
    "# Gaussian Copula Customization \n",
    "# By setting these distributions strategically, you can make tradeoffs in the quality of your synthetic data.\n",
    "\n",
    "custom_synthesizer = GaussianCopulaSynthesizer(\n",
    "    metadata,\n",
    "    default_distribution=\"truncnorm\",\n",
    "    numerical_distributions={\n",
    "        \"checkin_date\": \"uniform\",\n",
    "        \"checkout_date\": \"uniform\",\n",
    "        \"room_rate\": \"gaussian_kde\"\n",
    "    }\n",
    ")\n",
    "\n",
    "custom_synthesizer.fit(real_data)"
   ]
  },
  {
   "cell_type": "code",
   "execution_count": 47,
   "id": "9d5d5b16-5171-4e55-ac97-e37ea5918fc4",
   "metadata": {},
   "outputs": [
    {
     "data": {
      "text/plain": [
       "{'distribution': 'truncnorm',\n",
       " 'learned_parameters': {'a': 0.0,\n",
       "  'b': 2.58752200164132,\n",
       "  'loc': 0.002234955832489116,\n",
       "  'scale': 0.7617163158909614}}"
      ]
     },
     "execution_count": 47,
     "metadata": {},
     "output_type": "execute_result"
    }
   ],
   "source": [
    "learned_distributions = custom_synthesizer.get_learned_distributions()\n",
    "learned_distributions[\"has_rewards\"]"
   ]
  },
  {
   "cell_type": "code",
   "execution_count": 48,
   "id": "d466b9ac-c841-4b75-8511-7317e1bc6a33",
   "metadata": {},
   "outputs": [
    {
     "name": "stderr",
     "output_type": "stream",
     "text": [
      "Creating report: 100%|███████████████████████████| 4/4 [00:00<00:00, 106.21it/s]"
     ]
    },
    {
     "name": "stdout",
     "output_type": "stream",
     "text": [
      "\n",
      "Overall Quality Score: 91.03%\n",
      "\n",
      "Properties:\n",
      "Column Shapes: 91.39%\n",
      "Column Pair Trends: 90.67%\n"
     ]
    },
    {
     "name": "stderr",
     "output_type": "stream",
     "text": [
      "\n"
     ]
    }
   ],
   "source": [
    "synthetic_data_customized = custom_synthesizer.sample(num_rows=500) # results are random\n",
    "\n",
    "quality_report = evaluate_quality(\n",
    "    real_data,\n",
    "    synthetic_data_customized,\n",
    "    metadata\n",
    ")"
   ]
  },
  {
   "cell_type": "code",
   "execution_count": 51,
   "id": "65bd8e6d-5b10-408e-859c-1b800787a8c0",
   "metadata": {},
   "outputs": [
    {
     "data": {
      "application/vnd.plotly.v1+json": {
       "config": {
        "plotlyServerURL": "https://plot.ly"
       },
       "data": [
        {
         "alignmentgroup": "True",
         "bingroup": "x",
         "histnorm": "probability density",
         "hovertemplate": "<b>Real</b><br>Frequency: %{y}<extra></extra>",
         "legendgroup": "Real",
         "marker": {
          "color": "#000036",
          "pattern": {
           "shape": ""
          }
         },
         "name": "Real",
         "offsetgroup": "Real",
         "orientation": "v",
         "showlegend": true,
         "type": "histogram",
         "x": [
          "BASIC",
          "BASIC",
          "DELUXE",
          "BASIC",
          "BASIC",
          "BASIC",
          "BASIC",
          "BASIC",
          "BASIC",
          "BASIC",
          "BASIC",
          "BASIC",
          "BASIC",
          "BASIC",
          "BASIC",
          "BASIC",
          "DELUXE",
          "BASIC",
          "DELUXE",
          "BASIC",
          "BASIC",
          "BASIC",
          "BASIC",
          "BASIC",
          "BASIC",
          "BASIC",
          "BASIC",
          "BASIC",
          "BASIC",
          "BASIC",
          "DELUXE",
          "BASIC",
          "BASIC",
          "BASIC",
          "BASIC",
          "BASIC",
          "BASIC",
          "BASIC",
          "BASIC",
          "BASIC",
          "SUITE",
          "BASIC",
          "DELUXE",
          "BASIC",
          "BASIC",
          "BASIC",
          "BASIC",
          "BASIC",
          "BASIC",
          "SUITE",
          "DELUXE",
          "BASIC",
          "BASIC",
          "DELUXE",
          "BASIC",
          "BASIC",
          "BASIC",
          "BASIC",
          "SUITE",
          "SUITE",
          "DELUXE",
          "BASIC",
          "BASIC",
          "BASIC",
          "BASIC",
          "BASIC",
          "BASIC",
          "BASIC",
          "SUITE",
          "BASIC",
          "BASIC",
          "BASIC",
          "BASIC",
          "BASIC",
          "DELUXE",
          "BASIC",
          "BASIC",
          "BASIC",
          "BASIC",
          "BASIC",
          "BASIC",
          "BASIC",
          "BASIC",
          "BASIC",
          "BASIC",
          "BASIC",
          "BASIC",
          "BASIC",
          "SUITE",
          "BASIC",
          "BASIC",
          "BASIC",
          "BASIC",
          "BASIC",
          "BASIC",
          "BASIC",
          "BASIC",
          "BASIC",
          "BASIC",
          "DELUXE",
          "BASIC",
          "BASIC",
          "DELUXE",
          "BASIC",
          "BASIC",
          "BASIC",
          "BASIC",
          "DELUXE",
          "BASIC",
          "BASIC",
          "BASIC",
          "DELUXE",
          "BASIC",
          "BASIC",
          "DELUXE",
          "DELUXE",
          "BASIC",
          "BASIC",
          "BASIC",
          "BASIC",
          "DELUXE",
          "DELUXE",
          "BASIC",
          "BASIC",
          "BASIC",
          "BASIC",
          "BASIC",
          "BASIC",
          "BASIC",
          "BASIC",
          "BASIC",
          "BASIC",
          "BASIC",
          "BASIC",
          "BASIC",
          "BASIC",
          "DELUXE",
          "SUITE",
          "BASIC",
          "BASIC",
          "BASIC",
          "BASIC",
          "SUITE",
          "BASIC",
          "SUITE",
          "BASIC",
          "BASIC",
          "BASIC",
          "BASIC",
          "SUITE",
          "BASIC",
          "BASIC",
          "BASIC",
          "BASIC",
          "BASIC",
          "BASIC",
          "BASIC",
          "BASIC",
          "BASIC",
          "BASIC",
          "DELUXE",
          "BASIC",
          "BASIC",
          "BASIC",
          "BASIC",
          "SUITE",
          "DELUXE",
          "BASIC",
          "BASIC",
          "BASIC",
          "BASIC",
          "BASIC",
          "BASIC",
          "BASIC",
          "BASIC",
          "BASIC",
          "BASIC",
          "BASIC",
          "DELUXE",
          "SUITE",
          "BASIC",
          "BASIC",
          "BASIC",
          "SUITE",
          "BASIC",
          "DELUXE",
          "BASIC",
          "BASIC",
          "BASIC",
          "BASIC",
          "DELUXE",
          "BASIC",
          "BASIC",
          "BASIC",
          "BASIC",
          "BASIC",
          "SUITE",
          "BASIC",
          "DELUXE",
          "BASIC",
          "BASIC",
          "BASIC",
          "BASIC",
          "BASIC",
          "BASIC",
          "BASIC",
          "DELUXE",
          "BASIC",
          "DELUXE",
          "DELUXE",
          "DELUXE",
          "DELUXE",
          "BASIC",
          "BASIC",
          "BASIC",
          "DELUXE",
          "SUITE",
          "BASIC",
          "BASIC",
          "SUITE",
          "DELUXE",
          "BASIC",
          "BASIC",
          "DELUXE",
          "BASIC",
          "BASIC",
          "BASIC",
          "BASIC",
          "DELUXE",
          "BASIC",
          "BASIC",
          "BASIC",
          "BASIC",
          "BASIC",
          "BASIC",
          "BASIC",
          "SUITE",
          "BASIC",
          "BASIC",
          "DELUXE",
          "BASIC",
          "BASIC",
          "BASIC",
          "BASIC",
          "BASIC",
          "BASIC",
          "SUITE",
          "BASIC",
          "BASIC",
          "BASIC",
          "BASIC",
          "DELUXE",
          "BASIC",
          "BASIC",
          "BASIC",
          "BASIC",
          "BASIC",
          "BASIC",
          "BASIC",
          "BASIC",
          "BASIC",
          "BASIC",
          "BASIC",
          "BASIC",
          "BASIC",
          "BASIC",
          "DELUXE",
          "SUITE",
          "BASIC",
          "BASIC",
          "BASIC",
          "BASIC",
          "BASIC",
          "BASIC",
          "BASIC",
          "DELUXE",
          "BASIC",
          "SUITE",
          "SUITE",
          "DELUXE",
          "BASIC",
          "BASIC",
          "DELUXE",
          "SUITE",
          "DELUXE",
          "BASIC",
          "BASIC",
          "BASIC",
          "BASIC",
          "BASIC",
          "DELUXE",
          "DELUXE",
          "BASIC",
          "BASIC",
          "BASIC",
          "BASIC",
          "BASIC",
          "DELUXE",
          "BASIC",
          "DELUXE",
          "BASIC",
          "BASIC",
          "BASIC",
          "BASIC",
          "DELUXE",
          "BASIC",
          "BASIC",
          "BASIC",
          "BASIC",
          "DELUXE",
          "DELUXE",
          "BASIC",
          "SUITE",
          "BASIC",
          "BASIC",
          "BASIC",
          "BASIC",
          "SUITE",
          "BASIC",
          "BASIC",
          "BASIC",
          "BASIC",
          "DELUXE",
          "BASIC",
          "BASIC",
          "BASIC",
          "BASIC",
          "BASIC",
          "BASIC",
          "BASIC",
          "BASIC",
          "BASIC",
          "BASIC",
          "BASIC",
          "BASIC",
          "SUITE",
          "BASIC",
          "BASIC",
          "BASIC",
          "BASIC",
          "BASIC",
          "BASIC",
          "BASIC",
          "BASIC",
          "DELUXE",
          "BASIC",
          "BASIC",
          "DELUXE",
          "BASIC",
          "DELUXE",
          "BASIC",
          "BASIC",
          "DELUXE",
          "DELUXE",
          "DELUXE",
          "SUITE",
          "BASIC",
          "BASIC",
          "DELUXE",
          "BASIC",
          "BASIC",
          "BASIC",
          "BASIC",
          "BASIC",
          "BASIC",
          "BASIC",
          "BASIC",
          "BASIC",
          "BASIC",
          "BASIC",
          "BASIC",
          "BASIC",
          "DELUXE",
          "DELUXE",
          "BASIC",
          "BASIC",
          "BASIC",
          "BASIC",
          "BASIC",
          "DELUXE",
          "BASIC",
          "BASIC",
          "BASIC",
          "SUITE",
          "BASIC",
          "BASIC",
          "BASIC",
          "BASIC",
          "BASIC",
          "DELUXE",
          "BASIC",
          "BASIC",
          "BASIC",
          "BASIC",
          "BASIC",
          "BASIC",
          "DELUXE",
          "BASIC",
          "BASIC",
          "BASIC",
          "BASIC",
          "BASIC",
          "DELUXE",
          "BASIC",
          "BASIC",
          "BASIC",
          "BASIC",
          "DELUXE",
          "DELUXE",
          "DELUXE",
          "BASIC",
          "BASIC",
          "BASIC",
          "BASIC",
          "BASIC",
          "BASIC",
          "BASIC",
          "DELUXE",
          "BASIC",
          "DELUXE",
          "BASIC",
          "SUITE",
          "DELUXE",
          "SUITE",
          "BASIC",
          "BASIC",
          "SUITE",
          "DELUXE",
          "BASIC",
          "SUITE",
          "BASIC",
          "BASIC",
          "BASIC",
          "DELUXE",
          "BASIC",
          "BASIC",
          "SUITE",
          "DELUXE",
          "BASIC",
          "BASIC",
          "BASIC",
          "SUITE",
          "BASIC",
          "DELUXE",
          "BASIC",
          "BASIC",
          "BASIC",
          "BASIC",
          "BASIC",
          "BASIC",
          "BASIC",
          "BASIC",
          "BASIC",
          "SUITE",
          "BASIC",
          "BASIC",
          "BASIC",
          "BASIC",
          "BASIC",
          "DELUXE",
          "BASIC",
          "DELUXE",
          "BASIC",
          "DELUXE",
          "BASIC",
          "DELUXE",
          "SUITE",
          "BASIC",
          "BASIC",
          "BASIC",
          "BASIC",
          "BASIC",
          "BASIC",
          "DELUXE",
          "BASIC",
          "SUITE",
          "BASIC",
          "BASIC",
          "SUITE",
          "SUITE",
          "BASIC",
          "BASIC",
          "BASIC",
          "BASIC",
          "BASIC",
          "BASIC",
          "BASIC",
          "DELUXE",
          "BASIC",
          "BASIC",
          "BASIC",
          "BASIC",
          "DELUXE",
          "BASIC",
          "BASIC",
          "BASIC",
          "BASIC",
          "BASIC",
          "BASIC",
          "BASIC"
         ],
         "xaxis": "x",
         "yaxis": "y"
        },
        {
         "alignmentgroup": "True",
         "bingroup": "x",
         "histnorm": "probability density",
         "hovertemplate": "<b>Synthetic</b><br>Frequency: %{y}<extra></extra>",
         "legendgroup": "Synthetic",
         "marker": {
          "color": "#01E0C9",
          "pattern": {
           "shape": "/"
          }
         },
         "name": "Synthetic",
         "offsetgroup": "Synthetic",
         "orientation": "v",
         "showlegend": true,
         "type": "histogram",
         "x": [
          "DELUXE",
          "DELUXE",
          "DELUXE",
          "BASIC",
          "DELUXE",
          "BASIC",
          "BASIC",
          "DELUXE",
          "BASIC",
          "BASIC",
          "DELUXE",
          "BASIC",
          "DELUXE",
          "DELUXE",
          "BASIC",
          "DELUXE",
          "BASIC",
          "BASIC",
          "SUITE",
          "DELUXE",
          "BASIC",
          "DELUXE",
          "DELUXE",
          "BASIC",
          "BASIC",
          "BASIC",
          "DELUXE",
          "BASIC",
          "BASIC",
          "BASIC",
          "BASIC",
          "BASIC",
          "BASIC",
          "BASIC",
          "BASIC",
          "BASIC",
          "BASIC",
          "BASIC",
          "BASIC",
          "BASIC",
          "DELUXE",
          "BASIC",
          "DELUXE",
          "DELUXE",
          "DELUXE",
          "BASIC",
          "BASIC",
          "BASIC",
          "BASIC",
          "BASIC",
          "DELUXE",
          "BASIC",
          "BASIC",
          "DELUXE",
          "BASIC",
          "DELUXE",
          "DELUXE",
          "DELUXE",
          "BASIC",
          "DELUXE",
          "BASIC",
          "DELUXE",
          "BASIC",
          "BASIC",
          "BASIC",
          "BASIC",
          "DELUXE",
          "BASIC",
          "DELUXE",
          "BASIC",
          "BASIC",
          "BASIC",
          "BASIC",
          "DELUXE",
          "BASIC",
          "BASIC",
          "BASIC",
          "BASIC",
          "BASIC",
          "DELUXE",
          "BASIC",
          "BASIC",
          "BASIC",
          "BASIC",
          "BASIC",
          "BASIC",
          "BASIC",
          "BASIC",
          "BASIC",
          "BASIC",
          "BASIC",
          "BASIC",
          "BASIC",
          "BASIC",
          "BASIC",
          "DELUXE",
          "DELUXE",
          "BASIC",
          "BASIC",
          "BASIC",
          "DELUXE",
          "BASIC",
          "DELUXE",
          "BASIC",
          "DELUXE",
          "BASIC",
          "BASIC",
          "BASIC",
          "DELUXE",
          "DELUXE",
          "BASIC",
          "DELUXE",
          "DELUXE",
          "DELUXE",
          "BASIC",
          "BASIC",
          "DELUXE",
          "BASIC",
          "DELUXE",
          "BASIC",
          "BASIC",
          "SUITE",
          "BASIC",
          "SUITE",
          "BASIC",
          "BASIC",
          "BASIC",
          "BASIC",
          "BASIC",
          "DELUXE",
          "BASIC",
          "DELUXE",
          "BASIC",
          "DELUXE",
          "BASIC",
          "BASIC",
          "BASIC",
          "BASIC",
          "BASIC",
          "BASIC",
          "BASIC",
          "BASIC",
          "DELUXE",
          "DELUXE",
          "BASIC",
          "BASIC",
          "BASIC",
          "DELUXE",
          "BASIC",
          "BASIC",
          "BASIC",
          "BASIC",
          "BASIC",
          "BASIC",
          "DELUXE",
          "DELUXE",
          "DELUXE",
          "BASIC",
          "BASIC",
          "DELUXE",
          "SUITE",
          "DELUXE",
          "BASIC",
          "BASIC",
          "DELUXE",
          "DELUXE",
          "BASIC",
          "BASIC",
          "BASIC",
          "BASIC",
          "BASIC",
          "BASIC",
          "DELUXE",
          "BASIC",
          "BASIC",
          "BASIC",
          "DELUXE",
          "BASIC",
          "BASIC",
          "DELUXE",
          "BASIC",
          "BASIC",
          "DELUXE",
          "SUITE",
          "BASIC",
          "BASIC",
          "BASIC",
          "BASIC",
          "BASIC",
          "DELUXE",
          "BASIC",
          "DELUXE",
          "BASIC",
          "BASIC",
          "BASIC",
          "BASIC",
          "BASIC",
          "BASIC",
          "BASIC",
          "BASIC",
          "BASIC",
          "BASIC",
          "BASIC",
          "BASIC",
          "BASIC",
          "BASIC",
          "BASIC",
          "BASIC",
          "BASIC",
          "BASIC",
          "BASIC",
          "BASIC",
          "BASIC",
          "BASIC",
          "BASIC",
          "DELUXE",
          "DELUXE",
          "BASIC",
          "BASIC",
          "BASIC",
          "DELUXE",
          "SUITE",
          "BASIC",
          "BASIC",
          "BASIC",
          "BASIC",
          "BASIC",
          "BASIC",
          "DELUXE",
          "SUITE",
          "BASIC",
          "BASIC",
          "BASIC",
          "BASIC",
          "DELUXE",
          "BASIC",
          "BASIC",
          "BASIC",
          "BASIC",
          "BASIC",
          "DELUXE",
          "DELUXE",
          "BASIC",
          "BASIC",
          "DELUXE",
          "SUITE",
          "BASIC",
          "BASIC",
          "BASIC",
          "SUITE",
          "DELUXE",
          "BASIC",
          "BASIC",
          "BASIC",
          "BASIC",
          "BASIC",
          "BASIC",
          "BASIC",
          "BASIC",
          "DELUXE",
          "BASIC",
          "BASIC",
          "DELUXE",
          "DELUXE",
          "DELUXE",
          "BASIC",
          "BASIC",
          "BASIC",
          "DELUXE",
          "BASIC",
          "BASIC",
          "BASIC",
          "BASIC",
          "BASIC",
          "BASIC",
          "BASIC",
          "BASIC",
          "BASIC",
          "BASIC",
          "BASIC",
          "BASIC",
          "BASIC",
          "BASIC",
          "DELUXE",
          "BASIC",
          "DELUXE",
          "BASIC",
          "DELUXE",
          "BASIC",
          "DELUXE",
          "BASIC",
          "BASIC",
          "BASIC",
          "DELUXE",
          "BASIC",
          "BASIC",
          "BASIC",
          "BASIC",
          "BASIC",
          "BASIC",
          "BASIC",
          "DELUXE",
          "BASIC",
          "BASIC",
          "BASIC",
          "BASIC",
          "BASIC",
          "DELUXE",
          "BASIC",
          "BASIC",
          "BASIC",
          "BASIC",
          "DELUXE",
          "BASIC",
          "BASIC",
          "DELUXE",
          "BASIC",
          "BASIC",
          "BASIC",
          "DELUXE",
          "BASIC",
          "DELUXE",
          "DELUXE",
          "DELUXE",
          "BASIC",
          "SUITE",
          "BASIC",
          "BASIC",
          "BASIC",
          "DELUXE",
          "DELUXE",
          "BASIC",
          "BASIC",
          "DELUXE",
          "BASIC",
          "DELUXE",
          "BASIC",
          "BASIC",
          "BASIC",
          "DELUXE",
          "BASIC",
          "BASIC",
          "BASIC",
          "BASIC",
          "BASIC",
          "BASIC",
          "BASIC",
          "BASIC",
          "DELUXE",
          "DELUXE",
          "DELUXE",
          "BASIC",
          "BASIC",
          "BASIC",
          "BASIC",
          "BASIC",
          "DELUXE",
          "BASIC",
          "BASIC",
          "SUITE",
          "DELUXE",
          "BASIC",
          "BASIC",
          "BASIC",
          "DELUXE",
          "BASIC",
          "BASIC",
          "BASIC",
          "BASIC",
          "BASIC",
          "BASIC",
          "DELUXE",
          "BASIC",
          "DELUXE",
          "BASIC",
          "BASIC",
          "DELUXE",
          "BASIC",
          "BASIC",
          "BASIC",
          "BASIC",
          "BASIC",
          "BASIC",
          "DELUXE",
          "BASIC",
          "BASIC",
          "BASIC",
          "BASIC",
          "BASIC",
          "BASIC",
          "DELUXE",
          "BASIC",
          "BASIC",
          "BASIC",
          "DELUXE",
          "BASIC",
          "DELUXE",
          "BASIC",
          "BASIC",
          "BASIC",
          "DELUXE",
          "DELUXE",
          "BASIC",
          "BASIC",
          "BASIC",
          "DELUXE",
          "BASIC",
          "BASIC",
          "DELUXE",
          "DELUXE",
          "BASIC",
          "BASIC",
          "BASIC",
          "BASIC",
          "DELUXE",
          "BASIC",
          "BASIC",
          "DELUXE",
          "BASIC",
          "BASIC",
          "BASIC",
          "DELUXE",
          "BASIC",
          "BASIC",
          "BASIC",
          "DELUXE",
          "DELUXE",
          "BASIC",
          "DELUXE",
          "BASIC",
          "BASIC",
          "BASIC",
          "SUITE",
          "DELUXE",
          "DELUXE",
          "BASIC",
          "BASIC",
          "BASIC",
          "BASIC",
          "SUITE",
          "BASIC",
          "DELUXE",
          "BASIC",
          "DELUXE",
          "BASIC",
          "BASIC",
          "BASIC",
          "BASIC",
          "BASIC",
          "BASIC",
          "BASIC",
          "DELUXE",
          "DELUXE",
          "BASIC",
          "BASIC",
          "SUITE",
          "BASIC",
          "BASIC",
          "DELUXE",
          "BASIC",
          "BASIC",
          "BASIC",
          "DELUXE",
          "SUITE",
          "BASIC",
          "SUITE",
          "BASIC",
          "BASIC",
          "DELUXE",
          "DELUXE",
          "BASIC",
          "DELUXE",
          "BASIC",
          "BASIC",
          "BASIC",
          "BASIC",
          "BASIC",
          "SUITE",
          "DELUXE",
          "BASIC",
          "BASIC",
          "BASIC",
          "BASIC",
          "BASIC",
          "DELUXE",
          "DELUXE",
          "BASIC",
          "DELUXE",
          "BASIC",
          "BASIC",
          "BASIC",
          "BASIC",
          "BASIC",
          "DELUXE",
          "DELUXE",
          "DELUXE",
          "DELUXE",
          "BASIC",
          "BASIC",
          "DELUXE"
         ],
         "xaxis": "x",
         "yaxis": "y"
        }
       ],
       "layout": {
        "autosize": true,
        "barmode": "group",
        "legend": {
         "title": {
          "text": "Data"
         },
         "tracegroupgap": 0
        },
        "margin": {
         "t": 60
        },
        "plot_bgcolor": "#F5F5F8",
        "template": {
         "data": {
          "bar": [
           {
            "error_x": {
             "color": "#2a3f5f"
            },
            "error_y": {
             "color": "#2a3f5f"
            },
            "marker": {
             "line": {
              "color": "#E5ECF6",
              "width": 0.5
             },
             "pattern": {
              "fillmode": "overlay",
              "size": 10,
              "solidity": 0.2
             }
            },
            "type": "bar"
           }
          ],
          "barpolar": [
           {
            "marker": {
             "line": {
              "color": "#E5ECF6",
              "width": 0.5
             },
             "pattern": {
              "fillmode": "overlay",
              "size": 10,
              "solidity": 0.2
             }
            },
            "type": "barpolar"
           }
          ],
          "carpet": [
           {
            "aaxis": {
             "endlinecolor": "#2a3f5f",
             "gridcolor": "white",
             "linecolor": "white",
             "minorgridcolor": "white",
             "startlinecolor": "#2a3f5f"
            },
            "baxis": {
             "endlinecolor": "#2a3f5f",
             "gridcolor": "white",
             "linecolor": "white",
             "minorgridcolor": "white",
             "startlinecolor": "#2a3f5f"
            },
            "type": "carpet"
           }
          ],
          "choropleth": [
           {
            "colorbar": {
             "outlinewidth": 0,
             "ticks": ""
            },
            "type": "choropleth"
           }
          ],
          "contour": [
           {
            "colorbar": {
             "outlinewidth": 0,
             "ticks": ""
            },
            "colorscale": [
             [
              0,
              "#0d0887"
             ],
             [
              0.1111111111111111,
              "#46039f"
             ],
             [
              0.2222222222222222,
              "#7201a8"
             ],
             [
              0.3333333333333333,
              "#9c179e"
             ],
             [
              0.4444444444444444,
              "#bd3786"
             ],
             [
              0.5555555555555556,
              "#d8576b"
             ],
             [
              0.6666666666666666,
              "#ed7953"
             ],
             [
              0.7777777777777778,
              "#fb9f3a"
             ],
             [
              0.8888888888888888,
              "#fdca26"
             ],
             [
              1,
              "#f0f921"
             ]
            ],
            "type": "contour"
           }
          ],
          "contourcarpet": [
           {
            "colorbar": {
             "outlinewidth": 0,
             "ticks": ""
            },
            "type": "contourcarpet"
           }
          ],
          "heatmap": [
           {
            "colorbar": {
             "outlinewidth": 0,
             "ticks": ""
            },
            "colorscale": [
             [
              0,
              "#0d0887"
             ],
             [
              0.1111111111111111,
              "#46039f"
             ],
             [
              0.2222222222222222,
              "#7201a8"
             ],
             [
              0.3333333333333333,
              "#9c179e"
             ],
             [
              0.4444444444444444,
              "#bd3786"
             ],
             [
              0.5555555555555556,
              "#d8576b"
             ],
             [
              0.6666666666666666,
              "#ed7953"
             ],
             [
              0.7777777777777778,
              "#fb9f3a"
             ],
             [
              0.8888888888888888,
              "#fdca26"
             ],
             [
              1,
              "#f0f921"
             ]
            ],
            "type": "heatmap"
           }
          ],
          "heatmapgl": [
           {
            "colorbar": {
             "outlinewidth": 0,
             "ticks": ""
            },
            "colorscale": [
             [
              0,
              "#0d0887"
             ],
             [
              0.1111111111111111,
              "#46039f"
             ],
             [
              0.2222222222222222,
              "#7201a8"
             ],
             [
              0.3333333333333333,
              "#9c179e"
             ],
             [
              0.4444444444444444,
              "#bd3786"
             ],
             [
              0.5555555555555556,
              "#d8576b"
             ],
             [
              0.6666666666666666,
              "#ed7953"
             ],
             [
              0.7777777777777778,
              "#fb9f3a"
             ],
             [
              0.8888888888888888,
              "#fdca26"
             ],
             [
              1,
              "#f0f921"
             ]
            ],
            "type": "heatmapgl"
           }
          ],
          "histogram": [
           {
            "marker": {
             "pattern": {
              "fillmode": "overlay",
              "size": 10,
              "solidity": 0.2
             }
            },
            "type": "histogram"
           }
          ],
          "histogram2d": [
           {
            "colorbar": {
             "outlinewidth": 0,
             "ticks": ""
            },
            "colorscale": [
             [
              0,
              "#0d0887"
             ],
             [
              0.1111111111111111,
              "#46039f"
             ],
             [
              0.2222222222222222,
              "#7201a8"
             ],
             [
              0.3333333333333333,
              "#9c179e"
             ],
             [
              0.4444444444444444,
              "#bd3786"
             ],
             [
              0.5555555555555556,
              "#d8576b"
             ],
             [
              0.6666666666666666,
              "#ed7953"
             ],
             [
              0.7777777777777778,
              "#fb9f3a"
             ],
             [
              0.8888888888888888,
              "#fdca26"
             ],
             [
              1,
              "#f0f921"
             ]
            ],
            "type": "histogram2d"
           }
          ],
          "histogram2dcontour": [
           {
            "colorbar": {
             "outlinewidth": 0,
             "ticks": ""
            },
            "colorscale": [
             [
              0,
              "#0d0887"
             ],
             [
              0.1111111111111111,
              "#46039f"
             ],
             [
              0.2222222222222222,
              "#7201a8"
             ],
             [
              0.3333333333333333,
              "#9c179e"
             ],
             [
              0.4444444444444444,
              "#bd3786"
             ],
             [
              0.5555555555555556,
              "#d8576b"
             ],
             [
              0.6666666666666666,
              "#ed7953"
             ],
             [
              0.7777777777777778,
              "#fb9f3a"
             ],
             [
              0.8888888888888888,
              "#fdca26"
             ],
             [
              1,
              "#f0f921"
             ]
            ],
            "type": "histogram2dcontour"
           }
          ],
          "mesh3d": [
           {
            "colorbar": {
             "outlinewidth": 0,
             "ticks": ""
            },
            "type": "mesh3d"
           }
          ],
          "parcoords": [
           {
            "line": {
             "colorbar": {
              "outlinewidth": 0,
              "ticks": ""
             }
            },
            "type": "parcoords"
           }
          ],
          "pie": [
           {
            "automargin": true,
            "type": "pie"
           }
          ],
          "scatter": [
           {
            "fillpattern": {
             "fillmode": "overlay",
             "size": 10,
             "solidity": 0.2
            },
            "type": "scatter"
           }
          ],
          "scatter3d": [
           {
            "line": {
             "colorbar": {
              "outlinewidth": 0,
              "ticks": ""
             }
            },
            "marker": {
             "colorbar": {
              "outlinewidth": 0,
              "ticks": ""
             }
            },
            "type": "scatter3d"
           }
          ],
          "scattercarpet": [
           {
            "marker": {
             "colorbar": {
              "outlinewidth": 0,
              "ticks": ""
             }
            },
            "type": "scattercarpet"
           }
          ],
          "scattergeo": [
           {
            "marker": {
             "colorbar": {
              "outlinewidth": 0,
              "ticks": ""
             }
            },
            "type": "scattergeo"
           }
          ],
          "scattergl": [
           {
            "marker": {
             "colorbar": {
              "outlinewidth": 0,
              "ticks": ""
             }
            },
            "type": "scattergl"
           }
          ],
          "scattermapbox": [
           {
            "marker": {
             "colorbar": {
              "outlinewidth": 0,
              "ticks": ""
             }
            },
            "type": "scattermapbox"
           }
          ],
          "scatterpolar": [
           {
            "marker": {
             "colorbar": {
              "outlinewidth": 0,
              "ticks": ""
             }
            },
            "type": "scatterpolar"
           }
          ],
          "scatterpolargl": [
           {
            "marker": {
             "colorbar": {
              "outlinewidth": 0,
              "ticks": ""
             }
            },
            "type": "scatterpolargl"
           }
          ],
          "scatterternary": [
           {
            "marker": {
             "colorbar": {
              "outlinewidth": 0,
              "ticks": ""
             }
            },
            "type": "scatterternary"
           }
          ],
          "surface": [
           {
            "colorbar": {
             "outlinewidth": 0,
             "ticks": ""
            },
            "colorscale": [
             [
              0,
              "#0d0887"
             ],
             [
              0.1111111111111111,
              "#46039f"
             ],
             [
              0.2222222222222222,
              "#7201a8"
             ],
             [
              0.3333333333333333,
              "#9c179e"
             ],
             [
              0.4444444444444444,
              "#bd3786"
             ],
             [
              0.5555555555555556,
              "#d8576b"
             ],
             [
              0.6666666666666666,
              "#ed7953"
             ],
             [
              0.7777777777777778,
              "#fb9f3a"
             ],
             [
              0.8888888888888888,
              "#fdca26"
             ],
             [
              1,
              "#f0f921"
             ]
            ],
            "type": "surface"
           }
          ],
          "table": [
           {
            "cells": {
             "fill": {
              "color": "#EBF0F8"
             },
             "line": {
              "color": "white"
             }
            },
            "header": {
             "fill": {
              "color": "#C8D4E3"
             },
             "line": {
              "color": "white"
             }
            },
            "type": "table"
           }
          ]
         },
         "layout": {
          "annotationdefaults": {
           "arrowcolor": "#2a3f5f",
           "arrowhead": 0,
           "arrowwidth": 1
          },
          "autotypenumbers": "strict",
          "coloraxis": {
           "colorbar": {
            "outlinewidth": 0,
            "ticks": ""
           }
          },
          "colorscale": {
           "diverging": [
            [
             0,
             "#8e0152"
            ],
            [
             0.1,
             "#c51b7d"
            ],
            [
             0.2,
             "#de77ae"
            ],
            [
             0.3,
             "#f1b6da"
            ],
            [
             0.4,
             "#fde0ef"
            ],
            [
             0.5,
             "#f7f7f7"
            ],
            [
             0.6,
             "#e6f5d0"
            ],
            [
             0.7,
             "#b8e186"
            ],
            [
             0.8,
             "#7fbc41"
            ],
            [
             0.9,
             "#4d9221"
            ],
            [
             1,
             "#276419"
            ]
           ],
           "sequential": [
            [
             0,
             "#0d0887"
            ],
            [
             0.1111111111111111,
             "#46039f"
            ],
            [
             0.2222222222222222,
             "#7201a8"
            ],
            [
             0.3333333333333333,
             "#9c179e"
            ],
            [
             0.4444444444444444,
             "#bd3786"
            ],
            [
             0.5555555555555556,
             "#d8576b"
            ],
            [
             0.6666666666666666,
             "#ed7953"
            ],
            [
             0.7777777777777778,
             "#fb9f3a"
            ],
            [
             0.8888888888888888,
             "#fdca26"
            ],
            [
             1,
             "#f0f921"
            ]
           ],
           "sequentialminus": [
            [
             0,
             "#0d0887"
            ],
            [
             0.1111111111111111,
             "#46039f"
            ],
            [
             0.2222222222222222,
             "#7201a8"
            ],
            [
             0.3333333333333333,
             "#9c179e"
            ],
            [
             0.4444444444444444,
             "#bd3786"
            ],
            [
             0.5555555555555556,
             "#d8576b"
            ],
            [
             0.6666666666666666,
             "#ed7953"
            ],
            [
             0.7777777777777778,
             "#fb9f3a"
            ],
            [
             0.8888888888888888,
             "#fdca26"
            ],
            [
             1,
             "#f0f921"
            ]
           ]
          },
          "colorway": [
           "#636efa",
           "#EF553B",
           "#00cc96",
           "#ab63fa",
           "#FFA15A",
           "#19d3f3",
           "#FF6692",
           "#B6E880",
           "#FF97FF",
           "#FECB52"
          ],
          "font": {
           "color": "#2a3f5f"
          },
          "geo": {
           "bgcolor": "white",
           "lakecolor": "white",
           "landcolor": "#E5ECF6",
           "showlakes": true,
           "showland": true,
           "subunitcolor": "white"
          },
          "hoverlabel": {
           "align": "left"
          },
          "hovermode": "closest",
          "mapbox": {
           "style": "light"
          },
          "paper_bgcolor": "white",
          "plot_bgcolor": "#E5ECF6",
          "polar": {
           "angularaxis": {
            "gridcolor": "white",
            "linecolor": "white",
            "ticks": ""
           },
           "bgcolor": "#E5ECF6",
           "radialaxis": {
            "gridcolor": "white",
            "linecolor": "white",
            "ticks": ""
           }
          },
          "scene": {
           "xaxis": {
            "backgroundcolor": "#E5ECF6",
            "gridcolor": "white",
            "gridwidth": 2,
            "linecolor": "white",
            "showbackground": true,
            "ticks": "",
            "zerolinecolor": "white"
           },
           "yaxis": {
            "backgroundcolor": "#E5ECF6",
            "gridcolor": "white",
            "gridwidth": 2,
            "linecolor": "white",
            "showbackground": true,
            "ticks": "",
            "zerolinecolor": "white"
           },
           "zaxis": {
            "backgroundcolor": "#E5ECF6",
            "gridcolor": "white",
            "gridwidth": 2,
            "linecolor": "white",
            "showbackground": true,
            "ticks": "",
            "zerolinecolor": "white"
           }
          },
          "shapedefaults": {
           "line": {
            "color": "#2a3f5f"
           }
          },
          "ternary": {
           "aaxis": {
            "gridcolor": "white",
            "linecolor": "white",
            "ticks": ""
           },
           "baxis": {
            "gridcolor": "white",
            "linecolor": "white",
            "ticks": ""
           },
           "bgcolor": "#E5ECF6",
           "caxis": {
            "gridcolor": "white",
            "linecolor": "white",
            "ticks": ""
           }
          },
          "title": {
           "x": 0.05
          },
          "xaxis": {
           "automargin": true,
           "gridcolor": "white",
           "linecolor": "white",
           "ticks": "",
           "title": {
            "standoff": 15
           },
           "zerolinecolor": "white",
           "zerolinewidth": 2
          },
          "yaxis": {
           "automargin": true,
           "gridcolor": "white",
           "linecolor": "white",
           "ticks": "",
           "title": {
            "standoff": 15
           },
           "zerolinecolor": "white",
           "zerolinewidth": 2
          }
         }
        },
        "title": {
         "text": "Real vs. Synthetic Data for column 'room_type'"
        },
        "xaxis": {
         "anchor": "y",
         "autorange": true,
         "domain": [
          0,
          1
         ],
         "range": [
          -0.5,
          2.5
         ],
         "title": {
          "text": "Category"
         },
         "type": "category"
        },
        "yaxis": {
         "anchor": "x",
         "autorange": true,
         "domain": [
          0,
          1
         ],
         "range": [
          0,
          0.8084210526315789
         ],
         "title": {
          "text": "Frequency"
         }
        }
       }
      },
      "text/html": [
       "<div>                            <div id=\"f5766155-02e7-4317-9bb2-9f168a7eec31\" class=\"plotly-graph-div\" style=\"height:525px; width:100%;\"></div>            <script type=\"text/javascript\">                require([\"plotly\"], function(Plotly) {                    window.PLOTLYENV=window.PLOTLYENV || {};                                    if (document.getElementById(\"f5766155-02e7-4317-9bb2-9f168a7eec31\")) {                    Plotly.newPlot(                        \"f5766155-02e7-4317-9bb2-9f168a7eec31\",                        [{\"alignmentgroup\":\"True\",\"bingroup\":\"x\",\"histnorm\":\"probability density\",\"hovertemplate\":\"\\u003cb\\u003eReal\\u003c\\u002fb\\u003e\\u003cbr\\u003eFrequency: %{y}\\u003cextra\\u003e\\u003c\\u002fextra\\u003e\",\"legendgroup\":\"Real\",\"marker\":{\"color\":\"#000036\",\"pattern\":{\"shape\":\"\"}},\"name\":\"Real\",\"offsetgroup\":\"Real\",\"orientation\":\"v\",\"showlegend\":true,\"x\":[\"BASIC\",\"BASIC\",\"DELUXE\",\"BASIC\",\"BASIC\",\"BASIC\",\"BASIC\",\"BASIC\",\"BASIC\",\"BASIC\",\"BASIC\",\"BASIC\",\"BASIC\",\"BASIC\",\"BASIC\",\"BASIC\",\"DELUXE\",\"BASIC\",\"DELUXE\",\"BASIC\",\"BASIC\",\"BASIC\",\"BASIC\",\"BASIC\",\"BASIC\",\"BASIC\",\"BASIC\",\"BASIC\",\"BASIC\",\"BASIC\",\"DELUXE\",\"BASIC\",\"BASIC\",\"BASIC\",\"BASIC\",\"BASIC\",\"BASIC\",\"BASIC\",\"BASIC\",\"BASIC\",\"SUITE\",\"BASIC\",\"DELUXE\",\"BASIC\",\"BASIC\",\"BASIC\",\"BASIC\",\"BASIC\",\"BASIC\",\"SUITE\",\"DELUXE\",\"BASIC\",\"BASIC\",\"DELUXE\",\"BASIC\",\"BASIC\",\"BASIC\",\"BASIC\",\"SUITE\",\"SUITE\",\"DELUXE\",\"BASIC\",\"BASIC\",\"BASIC\",\"BASIC\",\"BASIC\",\"BASIC\",\"BASIC\",\"SUITE\",\"BASIC\",\"BASIC\",\"BASIC\",\"BASIC\",\"BASIC\",\"DELUXE\",\"BASIC\",\"BASIC\",\"BASIC\",\"BASIC\",\"BASIC\",\"BASIC\",\"BASIC\",\"BASIC\",\"BASIC\",\"BASIC\",\"BASIC\",\"BASIC\",\"BASIC\",\"SUITE\",\"BASIC\",\"BASIC\",\"BASIC\",\"BASIC\",\"BASIC\",\"BASIC\",\"BASIC\",\"BASIC\",\"BASIC\",\"BASIC\",\"DELUXE\",\"BASIC\",\"BASIC\",\"DELUXE\",\"BASIC\",\"BASIC\",\"BASIC\",\"BASIC\",\"DELUXE\",\"BASIC\",\"BASIC\",\"BASIC\",\"DELUXE\",\"BASIC\",\"BASIC\",\"DELUXE\",\"DELUXE\",\"BASIC\",\"BASIC\",\"BASIC\",\"BASIC\",\"DELUXE\",\"DELUXE\",\"BASIC\",\"BASIC\",\"BASIC\",\"BASIC\",\"BASIC\",\"BASIC\",\"BASIC\",\"BASIC\",\"BASIC\",\"BASIC\",\"BASIC\",\"BASIC\",\"BASIC\",\"BASIC\",\"DELUXE\",\"SUITE\",\"BASIC\",\"BASIC\",\"BASIC\",\"BASIC\",\"SUITE\",\"BASIC\",\"SUITE\",\"BASIC\",\"BASIC\",\"BASIC\",\"BASIC\",\"SUITE\",\"BASIC\",\"BASIC\",\"BASIC\",\"BASIC\",\"BASIC\",\"BASIC\",\"BASIC\",\"BASIC\",\"BASIC\",\"BASIC\",\"DELUXE\",\"BASIC\",\"BASIC\",\"BASIC\",\"BASIC\",\"SUITE\",\"DELUXE\",\"BASIC\",\"BASIC\",\"BASIC\",\"BASIC\",\"BASIC\",\"BASIC\",\"BASIC\",\"BASIC\",\"BASIC\",\"BASIC\",\"BASIC\",\"DELUXE\",\"SUITE\",\"BASIC\",\"BASIC\",\"BASIC\",\"SUITE\",\"BASIC\",\"DELUXE\",\"BASIC\",\"BASIC\",\"BASIC\",\"BASIC\",\"DELUXE\",\"BASIC\",\"BASIC\",\"BASIC\",\"BASIC\",\"BASIC\",\"SUITE\",\"BASIC\",\"DELUXE\",\"BASIC\",\"BASIC\",\"BASIC\",\"BASIC\",\"BASIC\",\"BASIC\",\"BASIC\",\"DELUXE\",\"BASIC\",\"DELUXE\",\"DELUXE\",\"DELUXE\",\"DELUXE\",\"BASIC\",\"BASIC\",\"BASIC\",\"DELUXE\",\"SUITE\",\"BASIC\",\"BASIC\",\"SUITE\",\"DELUXE\",\"BASIC\",\"BASIC\",\"DELUXE\",\"BASIC\",\"BASIC\",\"BASIC\",\"BASIC\",\"DELUXE\",\"BASIC\",\"BASIC\",\"BASIC\",\"BASIC\",\"BASIC\",\"BASIC\",\"BASIC\",\"SUITE\",\"BASIC\",\"BASIC\",\"DELUXE\",\"BASIC\",\"BASIC\",\"BASIC\",\"BASIC\",\"BASIC\",\"BASIC\",\"SUITE\",\"BASIC\",\"BASIC\",\"BASIC\",\"BASIC\",\"DELUXE\",\"BASIC\",\"BASIC\",\"BASIC\",\"BASIC\",\"BASIC\",\"BASIC\",\"BASIC\",\"BASIC\",\"BASIC\",\"BASIC\",\"BASIC\",\"BASIC\",\"BASIC\",\"BASIC\",\"DELUXE\",\"SUITE\",\"BASIC\",\"BASIC\",\"BASIC\",\"BASIC\",\"BASIC\",\"BASIC\",\"BASIC\",\"DELUXE\",\"BASIC\",\"SUITE\",\"SUITE\",\"DELUXE\",\"BASIC\",\"BASIC\",\"DELUXE\",\"SUITE\",\"DELUXE\",\"BASIC\",\"BASIC\",\"BASIC\",\"BASIC\",\"BASIC\",\"DELUXE\",\"DELUXE\",\"BASIC\",\"BASIC\",\"BASIC\",\"BASIC\",\"BASIC\",\"DELUXE\",\"BASIC\",\"DELUXE\",\"BASIC\",\"BASIC\",\"BASIC\",\"BASIC\",\"DELUXE\",\"BASIC\",\"BASIC\",\"BASIC\",\"BASIC\",\"DELUXE\",\"DELUXE\",\"BASIC\",\"SUITE\",\"BASIC\",\"BASIC\",\"BASIC\",\"BASIC\",\"SUITE\",\"BASIC\",\"BASIC\",\"BASIC\",\"BASIC\",\"DELUXE\",\"BASIC\",\"BASIC\",\"BASIC\",\"BASIC\",\"BASIC\",\"BASIC\",\"BASIC\",\"BASIC\",\"BASIC\",\"BASIC\",\"BASIC\",\"BASIC\",\"SUITE\",\"BASIC\",\"BASIC\",\"BASIC\",\"BASIC\",\"BASIC\",\"BASIC\",\"BASIC\",\"BASIC\",\"DELUXE\",\"BASIC\",\"BASIC\",\"DELUXE\",\"BASIC\",\"DELUXE\",\"BASIC\",\"BASIC\",\"DELUXE\",\"DELUXE\",\"DELUXE\",\"SUITE\",\"BASIC\",\"BASIC\",\"DELUXE\",\"BASIC\",\"BASIC\",\"BASIC\",\"BASIC\",\"BASIC\",\"BASIC\",\"BASIC\",\"BASIC\",\"BASIC\",\"BASIC\",\"BASIC\",\"BASIC\",\"BASIC\",\"DELUXE\",\"DELUXE\",\"BASIC\",\"BASIC\",\"BASIC\",\"BASIC\",\"BASIC\",\"DELUXE\",\"BASIC\",\"BASIC\",\"BASIC\",\"SUITE\",\"BASIC\",\"BASIC\",\"BASIC\",\"BASIC\",\"BASIC\",\"DELUXE\",\"BASIC\",\"BASIC\",\"BASIC\",\"BASIC\",\"BASIC\",\"BASIC\",\"DELUXE\",\"BASIC\",\"BASIC\",\"BASIC\",\"BASIC\",\"BASIC\",\"DELUXE\",\"BASIC\",\"BASIC\",\"BASIC\",\"BASIC\",\"DELUXE\",\"DELUXE\",\"DELUXE\",\"BASIC\",\"BASIC\",\"BASIC\",\"BASIC\",\"BASIC\",\"BASIC\",\"BASIC\",\"DELUXE\",\"BASIC\",\"DELUXE\",\"BASIC\",\"SUITE\",\"DELUXE\",\"SUITE\",\"BASIC\",\"BASIC\",\"SUITE\",\"DELUXE\",\"BASIC\",\"SUITE\",\"BASIC\",\"BASIC\",\"BASIC\",\"DELUXE\",\"BASIC\",\"BASIC\",\"SUITE\",\"DELUXE\",\"BASIC\",\"BASIC\",\"BASIC\",\"SUITE\",\"BASIC\",\"DELUXE\",\"BASIC\",\"BASIC\",\"BASIC\",\"BASIC\",\"BASIC\",\"BASIC\",\"BASIC\",\"BASIC\",\"BASIC\",\"SUITE\",\"BASIC\",\"BASIC\",\"BASIC\",\"BASIC\",\"BASIC\",\"DELUXE\",\"BASIC\",\"DELUXE\",\"BASIC\",\"DELUXE\",\"BASIC\",\"DELUXE\",\"SUITE\",\"BASIC\",\"BASIC\",\"BASIC\",\"BASIC\",\"BASIC\",\"BASIC\",\"DELUXE\",\"BASIC\",\"SUITE\",\"BASIC\",\"BASIC\",\"SUITE\",\"SUITE\",\"BASIC\",\"BASIC\",\"BASIC\",\"BASIC\",\"BASIC\",\"BASIC\",\"BASIC\",\"DELUXE\",\"BASIC\",\"BASIC\",\"BASIC\",\"BASIC\",\"DELUXE\",\"BASIC\",\"BASIC\",\"BASIC\",\"BASIC\",\"BASIC\",\"BASIC\",\"BASIC\"],\"xaxis\":\"x\",\"yaxis\":\"y\",\"type\":\"histogram\"},{\"alignmentgroup\":\"True\",\"bingroup\":\"x\",\"histnorm\":\"probability density\",\"hovertemplate\":\"\\u003cb\\u003eSynthetic\\u003c\\u002fb\\u003e\\u003cbr\\u003eFrequency: %{y}\\u003cextra\\u003e\\u003c\\u002fextra\\u003e\",\"legendgroup\":\"Synthetic\",\"marker\":{\"color\":\"#01E0C9\",\"pattern\":{\"shape\":\"\\u002f\"}},\"name\":\"Synthetic\",\"offsetgroup\":\"Synthetic\",\"orientation\":\"v\",\"showlegend\":true,\"x\":[\"DELUXE\",\"DELUXE\",\"DELUXE\",\"BASIC\",\"DELUXE\",\"BASIC\",\"BASIC\",\"DELUXE\",\"BASIC\",\"BASIC\",\"DELUXE\",\"BASIC\",\"DELUXE\",\"DELUXE\",\"BASIC\",\"DELUXE\",\"BASIC\",\"BASIC\",\"SUITE\",\"DELUXE\",\"BASIC\",\"DELUXE\",\"DELUXE\",\"BASIC\",\"BASIC\",\"BASIC\",\"DELUXE\",\"BASIC\",\"BASIC\",\"BASIC\",\"BASIC\",\"BASIC\",\"BASIC\",\"BASIC\",\"BASIC\",\"BASIC\",\"BASIC\",\"BASIC\",\"BASIC\",\"BASIC\",\"DELUXE\",\"BASIC\",\"DELUXE\",\"DELUXE\",\"DELUXE\",\"BASIC\",\"BASIC\",\"BASIC\",\"BASIC\",\"BASIC\",\"DELUXE\",\"BASIC\",\"BASIC\",\"DELUXE\",\"BASIC\",\"DELUXE\",\"DELUXE\",\"DELUXE\",\"BASIC\",\"DELUXE\",\"BASIC\",\"DELUXE\",\"BASIC\",\"BASIC\",\"BASIC\",\"BASIC\",\"DELUXE\",\"BASIC\",\"DELUXE\",\"BASIC\",\"BASIC\",\"BASIC\",\"BASIC\",\"DELUXE\",\"BASIC\",\"BASIC\",\"BASIC\",\"BASIC\",\"BASIC\",\"DELUXE\",\"BASIC\",\"BASIC\",\"BASIC\",\"BASIC\",\"BASIC\",\"BASIC\",\"BASIC\",\"BASIC\",\"BASIC\",\"BASIC\",\"BASIC\",\"BASIC\",\"BASIC\",\"BASIC\",\"BASIC\",\"DELUXE\",\"DELUXE\",\"BASIC\",\"BASIC\",\"BASIC\",\"DELUXE\",\"BASIC\",\"DELUXE\",\"BASIC\",\"DELUXE\",\"BASIC\",\"BASIC\",\"BASIC\",\"DELUXE\",\"DELUXE\",\"BASIC\",\"DELUXE\",\"DELUXE\",\"DELUXE\",\"BASIC\",\"BASIC\",\"DELUXE\",\"BASIC\",\"DELUXE\",\"BASIC\",\"BASIC\",\"SUITE\",\"BASIC\",\"SUITE\",\"BASIC\",\"BASIC\",\"BASIC\",\"BASIC\",\"BASIC\",\"DELUXE\",\"BASIC\",\"DELUXE\",\"BASIC\",\"DELUXE\",\"BASIC\",\"BASIC\",\"BASIC\",\"BASIC\",\"BASIC\",\"BASIC\",\"BASIC\",\"BASIC\",\"DELUXE\",\"DELUXE\",\"BASIC\",\"BASIC\",\"BASIC\",\"DELUXE\",\"BASIC\",\"BASIC\",\"BASIC\",\"BASIC\",\"BASIC\",\"BASIC\",\"DELUXE\",\"DELUXE\",\"DELUXE\",\"BASIC\",\"BASIC\",\"DELUXE\",\"SUITE\",\"DELUXE\",\"BASIC\",\"BASIC\",\"DELUXE\",\"DELUXE\",\"BASIC\",\"BASIC\",\"BASIC\",\"BASIC\",\"BASIC\",\"BASIC\",\"DELUXE\",\"BASIC\",\"BASIC\",\"BASIC\",\"DELUXE\",\"BASIC\",\"BASIC\",\"DELUXE\",\"BASIC\",\"BASIC\",\"DELUXE\",\"SUITE\",\"BASIC\",\"BASIC\",\"BASIC\",\"BASIC\",\"BASIC\",\"DELUXE\",\"BASIC\",\"DELUXE\",\"BASIC\",\"BASIC\",\"BASIC\",\"BASIC\",\"BASIC\",\"BASIC\",\"BASIC\",\"BASIC\",\"BASIC\",\"BASIC\",\"BASIC\",\"BASIC\",\"BASIC\",\"BASIC\",\"BASIC\",\"BASIC\",\"BASIC\",\"BASIC\",\"BASIC\",\"BASIC\",\"BASIC\",\"BASIC\",\"BASIC\",\"DELUXE\",\"DELUXE\",\"BASIC\",\"BASIC\",\"BASIC\",\"DELUXE\",\"SUITE\",\"BASIC\",\"BASIC\",\"BASIC\",\"BASIC\",\"BASIC\",\"BASIC\",\"DELUXE\",\"SUITE\",\"BASIC\",\"BASIC\",\"BASIC\",\"BASIC\",\"DELUXE\",\"BASIC\",\"BASIC\",\"BASIC\",\"BASIC\",\"BASIC\",\"DELUXE\",\"DELUXE\",\"BASIC\",\"BASIC\",\"DELUXE\",\"SUITE\",\"BASIC\",\"BASIC\",\"BASIC\",\"SUITE\",\"DELUXE\",\"BASIC\",\"BASIC\",\"BASIC\",\"BASIC\",\"BASIC\",\"BASIC\",\"BASIC\",\"BASIC\",\"DELUXE\",\"BASIC\",\"BASIC\",\"DELUXE\",\"DELUXE\",\"DELUXE\",\"BASIC\",\"BASIC\",\"BASIC\",\"DELUXE\",\"BASIC\",\"BASIC\",\"BASIC\",\"BASIC\",\"BASIC\",\"BASIC\",\"BASIC\",\"BASIC\",\"BASIC\",\"BASIC\",\"BASIC\",\"BASIC\",\"BASIC\",\"BASIC\",\"DELUXE\",\"BASIC\",\"DELUXE\",\"BASIC\",\"DELUXE\",\"BASIC\",\"DELUXE\",\"BASIC\",\"BASIC\",\"BASIC\",\"DELUXE\",\"BASIC\",\"BASIC\",\"BASIC\",\"BASIC\",\"BASIC\",\"BASIC\",\"BASIC\",\"DELUXE\",\"BASIC\",\"BASIC\",\"BASIC\",\"BASIC\",\"BASIC\",\"DELUXE\",\"BASIC\",\"BASIC\",\"BASIC\",\"BASIC\",\"DELUXE\",\"BASIC\",\"BASIC\",\"DELUXE\",\"BASIC\",\"BASIC\",\"BASIC\",\"DELUXE\",\"BASIC\",\"DELUXE\",\"DELUXE\",\"DELUXE\",\"BASIC\",\"SUITE\",\"BASIC\",\"BASIC\",\"BASIC\",\"DELUXE\",\"DELUXE\",\"BASIC\",\"BASIC\",\"DELUXE\",\"BASIC\",\"DELUXE\",\"BASIC\",\"BASIC\",\"BASIC\",\"DELUXE\",\"BASIC\",\"BASIC\",\"BASIC\",\"BASIC\",\"BASIC\",\"BASIC\",\"BASIC\",\"BASIC\",\"DELUXE\",\"DELUXE\",\"DELUXE\",\"BASIC\",\"BASIC\",\"BASIC\",\"BASIC\",\"BASIC\",\"DELUXE\",\"BASIC\",\"BASIC\",\"SUITE\",\"DELUXE\",\"BASIC\",\"BASIC\",\"BASIC\",\"DELUXE\",\"BASIC\",\"BASIC\",\"BASIC\",\"BASIC\",\"BASIC\",\"BASIC\",\"DELUXE\",\"BASIC\",\"DELUXE\",\"BASIC\",\"BASIC\",\"DELUXE\",\"BASIC\",\"BASIC\",\"BASIC\",\"BASIC\",\"BASIC\",\"BASIC\",\"DELUXE\",\"BASIC\",\"BASIC\",\"BASIC\",\"BASIC\",\"BASIC\",\"BASIC\",\"DELUXE\",\"BASIC\",\"BASIC\",\"BASIC\",\"DELUXE\",\"BASIC\",\"DELUXE\",\"BASIC\",\"BASIC\",\"BASIC\",\"DELUXE\",\"DELUXE\",\"BASIC\",\"BASIC\",\"BASIC\",\"DELUXE\",\"BASIC\",\"BASIC\",\"DELUXE\",\"DELUXE\",\"BASIC\",\"BASIC\",\"BASIC\",\"BASIC\",\"DELUXE\",\"BASIC\",\"BASIC\",\"DELUXE\",\"BASIC\",\"BASIC\",\"BASIC\",\"DELUXE\",\"BASIC\",\"BASIC\",\"BASIC\",\"DELUXE\",\"DELUXE\",\"BASIC\",\"DELUXE\",\"BASIC\",\"BASIC\",\"BASIC\",\"SUITE\",\"DELUXE\",\"DELUXE\",\"BASIC\",\"BASIC\",\"BASIC\",\"BASIC\",\"SUITE\",\"BASIC\",\"DELUXE\",\"BASIC\",\"DELUXE\",\"BASIC\",\"BASIC\",\"BASIC\",\"BASIC\",\"BASIC\",\"BASIC\",\"BASIC\",\"DELUXE\",\"DELUXE\",\"BASIC\",\"BASIC\",\"SUITE\",\"BASIC\",\"BASIC\",\"DELUXE\",\"BASIC\",\"BASIC\",\"BASIC\",\"DELUXE\",\"SUITE\",\"BASIC\",\"SUITE\",\"BASIC\",\"BASIC\",\"DELUXE\",\"DELUXE\",\"BASIC\",\"DELUXE\",\"BASIC\",\"BASIC\",\"BASIC\",\"BASIC\",\"BASIC\",\"SUITE\",\"DELUXE\",\"BASIC\",\"BASIC\",\"BASIC\",\"BASIC\",\"BASIC\",\"DELUXE\",\"DELUXE\",\"BASIC\",\"DELUXE\",\"BASIC\",\"BASIC\",\"BASIC\",\"BASIC\",\"BASIC\",\"DELUXE\",\"DELUXE\",\"DELUXE\",\"DELUXE\",\"BASIC\",\"BASIC\",\"DELUXE\"],\"xaxis\":\"x\",\"yaxis\":\"y\",\"type\":\"histogram\"}],                        {\"template\":{\"data\":{\"histogram2dcontour\":[{\"type\":\"histogram2dcontour\",\"colorbar\":{\"outlinewidth\":0,\"ticks\":\"\"},\"colorscale\":[[0.0,\"#0d0887\"],[0.1111111111111111,\"#46039f\"],[0.2222222222222222,\"#7201a8\"],[0.3333333333333333,\"#9c179e\"],[0.4444444444444444,\"#bd3786\"],[0.5555555555555556,\"#d8576b\"],[0.6666666666666666,\"#ed7953\"],[0.7777777777777778,\"#fb9f3a\"],[0.8888888888888888,\"#fdca26\"],[1.0,\"#f0f921\"]]}],\"choropleth\":[{\"type\":\"choropleth\",\"colorbar\":{\"outlinewidth\":0,\"ticks\":\"\"}}],\"histogram2d\":[{\"type\":\"histogram2d\",\"colorbar\":{\"outlinewidth\":0,\"ticks\":\"\"},\"colorscale\":[[0.0,\"#0d0887\"],[0.1111111111111111,\"#46039f\"],[0.2222222222222222,\"#7201a8\"],[0.3333333333333333,\"#9c179e\"],[0.4444444444444444,\"#bd3786\"],[0.5555555555555556,\"#d8576b\"],[0.6666666666666666,\"#ed7953\"],[0.7777777777777778,\"#fb9f3a\"],[0.8888888888888888,\"#fdca26\"],[1.0,\"#f0f921\"]]}],\"heatmap\":[{\"type\":\"heatmap\",\"colorbar\":{\"outlinewidth\":0,\"ticks\":\"\"},\"colorscale\":[[0.0,\"#0d0887\"],[0.1111111111111111,\"#46039f\"],[0.2222222222222222,\"#7201a8\"],[0.3333333333333333,\"#9c179e\"],[0.4444444444444444,\"#bd3786\"],[0.5555555555555556,\"#d8576b\"],[0.6666666666666666,\"#ed7953\"],[0.7777777777777778,\"#fb9f3a\"],[0.8888888888888888,\"#fdca26\"],[1.0,\"#f0f921\"]]}],\"heatmapgl\":[{\"type\":\"heatmapgl\",\"colorbar\":{\"outlinewidth\":0,\"ticks\":\"\"},\"colorscale\":[[0.0,\"#0d0887\"],[0.1111111111111111,\"#46039f\"],[0.2222222222222222,\"#7201a8\"],[0.3333333333333333,\"#9c179e\"],[0.4444444444444444,\"#bd3786\"],[0.5555555555555556,\"#d8576b\"],[0.6666666666666666,\"#ed7953\"],[0.7777777777777778,\"#fb9f3a\"],[0.8888888888888888,\"#fdca26\"],[1.0,\"#f0f921\"]]}],\"contourcarpet\":[{\"type\":\"contourcarpet\",\"colorbar\":{\"outlinewidth\":0,\"ticks\":\"\"}}],\"contour\":[{\"type\":\"contour\",\"colorbar\":{\"outlinewidth\":0,\"ticks\":\"\"},\"colorscale\":[[0.0,\"#0d0887\"],[0.1111111111111111,\"#46039f\"],[0.2222222222222222,\"#7201a8\"],[0.3333333333333333,\"#9c179e\"],[0.4444444444444444,\"#bd3786\"],[0.5555555555555556,\"#d8576b\"],[0.6666666666666666,\"#ed7953\"],[0.7777777777777778,\"#fb9f3a\"],[0.8888888888888888,\"#fdca26\"],[1.0,\"#f0f921\"]]}],\"surface\":[{\"type\":\"surface\",\"colorbar\":{\"outlinewidth\":0,\"ticks\":\"\"},\"colorscale\":[[0.0,\"#0d0887\"],[0.1111111111111111,\"#46039f\"],[0.2222222222222222,\"#7201a8\"],[0.3333333333333333,\"#9c179e\"],[0.4444444444444444,\"#bd3786\"],[0.5555555555555556,\"#d8576b\"],[0.6666666666666666,\"#ed7953\"],[0.7777777777777778,\"#fb9f3a\"],[0.8888888888888888,\"#fdca26\"],[1.0,\"#f0f921\"]]}],\"mesh3d\":[{\"type\":\"mesh3d\",\"colorbar\":{\"outlinewidth\":0,\"ticks\":\"\"}}],\"scatter\":[{\"fillpattern\":{\"fillmode\":\"overlay\",\"size\":10,\"solidity\":0.2},\"type\":\"scatter\"}],\"parcoords\":[{\"type\":\"parcoords\",\"line\":{\"colorbar\":{\"outlinewidth\":0,\"ticks\":\"\"}}}],\"scatterpolargl\":[{\"type\":\"scatterpolargl\",\"marker\":{\"colorbar\":{\"outlinewidth\":0,\"ticks\":\"\"}}}],\"bar\":[{\"error_x\":{\"color\":\"#2a3f5f\"},\"error_y\":{\"color\":\"#2a3f5f\"},\"marker\":{\"line\":{\"color\":\"#E5ECF6\",\"width\":0.5},\"pattern\":{\"fillmode\":\"overlay\",\"size\":10,\"solidity\":0.2}},\"type\":\"bar\"}],\"scattergeo\":[{\"type\":\"scattergeo\",\"marker\":{\"colorbar\":{\"outlinewidth\":0,\"ticks\":\"\"}}}],\"scatterpolar\":[{\"type\":\"scatterpolar\",\"marker\":{\"colorbar\":{\"outlinewidth\":0,\"ticks\":\"\"}}}],\"histogram\":[{\"marker\":{\"pattern\":{\"fillmode\":\"overlay\",\"size\":10,\"solidity\":0.2}},\"type\":\"histogram\"}],\"scattergl\":[{\"type\":\"scattergl\",\"marker\":{\"colorbar\":{\"outlinewidth\":0,\"ticks\":\"\"}}}],\"scatter3d\":[{\"type\":\"scatter3d\",\"line\":{\"colorbar\":{\"outlinewidth\":0,\"ticks\":\"\"}},\"marker\":{\"colorbar\":{\"outlinewidth\":0,\"ticks\":\"\"}}}],\"scattermapbox\":[{\"type\":\"scattermapbox\",\"marker\":{\"colorbar\":{\"outlinewidth\":0,\"ticks\":\"\"}}}],\"scatterternary\":[{\"type\":\"scatterternary\",\"marker\":{\"colorbar\":{\"outlinewidth\":0,\"ticks\":\"\"}}}],\"scattercarpet\":[{\"type\":\"scattercarpet\",\"marker\":{\"colorbar\":{\"outlinewidth\":0,\"ticks\":\"\"}}}],\"carpet\":[{\"aaxis\":{\"endlinecolor\":\"#2a3f5f\",\"gridcolor\":\"white\",\"linecolor\":\"white\",\"minorgridcolor\":\"white\",\"startlinecolor\":\"#2a3f5f\"},\"baxis\":{\"endlinecolor\":\"#2a3f5f\",\"gridcolor\":\"white\",\"linecolor\":\"white\",\"minorgridcolor\":\"white\",\"startlinecolor\":\"#2a3f5f\"},\"type\":\"carpet\"}],\"table\":[{\"cells\":{\"fill\":{\"color\":\"#EBF0F8\"},\"line\":{\"color\":\"white\"}},\"header\":{\"fill\":{\"color\":\"#C8D4E3\"},\"line\":{\"color\":\"white\"}},\"type\":\"table\"}],\"barpolar\":[{\"marker\":{\"line\":{\"color\":\"#E5ECF6\",\"width\":0.5},\"pattern\":{\"fillmode\":\"overlay\",\"size\":10,\"solidity\":0.2}},\"type\":\"barpolar\"}],\"pie\":[{\"automargin\":true,\"type\":\"pie\"}]},\"layout\":{\"autotypenumbers\":\"strict\",\"colorway\":[\"#636efa\",\"#EF553B\",\"#00cc96\",\"#ab63fa\",\"#FFA15A\",\"#19d3f3\",\"#FF6692\",\"#B6E880\",\"#FF97FF\",\"#FECB52\"],\"font\":{\"color\":\"#2a3f5f\"},\"hovermode\":\"closest\",\"hoverlabel\":{\"align\":\"left\"},\"paper_bgcolor\":\"white\",\"plot_bgcolor\":\"#E5ECF6\",\"polar\":{\"bgcolor\":\"#E5ECF6\",\"angularaxis\":{\"gridcolor\":\"white\",\"linecolor\":\"white\",\"ticks\":\"\"},\"radialaxis\":{\"gridcolor\":\"white\",\"linecolor\":\"white\",\"ticks\":\"\"}},\"ternary\":{\"bgcolor\":\"#E5ECF6\",\"aaxis\":{\"gridcolor\":\"white\",\"linecolor\":\"white\",\"ticks\":\"\"},\"baxis\":{\"gridcolor\":\"white\",\"linecolor\":\"white\",\"ticks\":\"\"},\"caxis\":{\"gridcolor\":\"white\",\"linecolor\":\"white\",\"ticks\":\"\"}},\"coloraxis\":{\"colorbar\":{\"outlinewidth\":0,\"ticks\":\"\"}},\"colorscale\":{\"sequential\":[[0.0,\"#0d0887\"],[0.1111111111111111,\"#46039f\"],[0.2222222222222222,\"#7201a8\"],[0.3333333333333333,\"#9c179e\"],[0.4444444444444444,\"#bd3786\"],[0.5555555555555556,\"#d8576b\"],[0.6666666666666666,\"#ed7953\"],[0.7777777777777778,\"#fb9f3a\"],[0.8888888888888888,\"#fdca26\"],[1.0,\"#f0f921\"]],\"sequentialminus\":[[0.0,\"#0d0887\"],[0.1111111111111111,\"#46039f\"],[0.2222222222222222,\"#7201a8\"],[0.3333333333333333,\"#9c179e\"],[0.4444444444444444,\"#bd3786\"],[0.5555555555555556,\"#d8576b\"],[0.6666666666666666,\"#ed7953\"],[0.7777777777777778,\"#fb9f3a\"],[0.8888888888888888,\"#fdca26\"],[1.0,\"#f0f921\"]],\"diverging\":[[0,\"#8e0152\"],[0.1,\"#c51b7d\"],[0.2,\"#de77ae\"],[0.3,\"#f1b6da\"],[0.4,\"#fde0ef\"],[0.5,\"#f7f7f7\"],[0.6,\"#e6f5d0\"],[0.7,\"#b8e186\"],[0.8,\"#7fbc41\"],[0.9,\"#4d9221\"],[1,\"#276419\"]]},\"xaxis\":{\"gridcolor\":\"white\",\"linecolor\":\"white\",\"ticks\":\"\",\"title\":{\"standoff\":15},\"zerolinecolor\":\"white\",\"automargin\":true,\"zerolinewidth\":2},\"yaxis\":{\"gridcolor\":\"white\",\"linecolor\":\"white\",\"ticks\":\"\",\"title\":{\"standoff\":15},\"zerolinecolor\":\"white\",\"automargin\":true,\"zerolinewidth\":2},\"scene\":{\"xaxis\":{\"backgroundcolor\":\"#E5ECF6\",\"gridcolor\":\"white\",\"linecolor\":\"white\",\"showbackground\":true,\"ticks\":\"\",\"zerolinecolor\":\"white\",\"gridwidth\":2},\"yaxis\":{\"backgroundcolor\":\"#E5ECF6\",\"gridcolor\":\"white\",\"linecolor\":\"white\",\"showbackground\":true,\"ticks\":\"\",\"zerolinecolor\":\"white\",\"gridwidth\":2},\"zaxis\":{\"backgroundcolor\":\"#E5ECF6\",\"gridcolor\":\"white\",\"linecolor\":\"white\",\"showbackground\":true,\"ticks\":\"\",\"zerolinecolor\":\"white\",\"gridwidth\":2}},\"shapedefaults\":{\"line\":{\"color\":\"#2a3f5f\"}},\"annotationdefaults\":{\"arrowcolor\":\"#2a3f5f\",\"arrowhead\":0,\"arrowwidth\":1},\"geo\":{\"bgcolor\":\"white\",\"landcolor\":\"#E5ECF6\",\"subunitcolor\":\"white\",\"showland\":true,\"showlakes\":true,\"lakecolor\":\"white\"},\"title\":{\"x\":0.05},\"mapbox\":{\"style\":\"light\"}}},\"xaxis\":{\"anchor\":\"y\",\"domain\":[0.0,1.0],\"title\":{\"text\":\"Category\"}},\"yaxis\":{\"anchor\":\"x\",\"domain\":[0.0,1.0],\"title\":{\"text\":\"Frequency\"}},\"legend\":{\"title\":{\"text\":\"Data\"},\"tracegroupgap\":0},\"margin\":{\"t\":60},\"barmode\":\"group\",\"title\":{\"text\":\"Real vs. Synthetic Data for column 'room_type'\"},\"plot_bgcolor\":\"#F5F5F8\"},                        {\"responsive\": true}                    ).then(function(){\n",
       "                            \n",
       "var gd = document.getElementById('f5766155-02e7-4317-9bb2-9f168a7eec31');\n",
       "var x = new MutationObserver(function (mutations, observer) {{\n",
       "        var display = window.getComputedStyle(gd).display;\n",
       "        if (!display || display === 'none') {{\n",
       "            console.log([gd, 'removed!']);\n",
       "            Plotly.purge(gd);\n",
       "            observer.disconnect();\n",
       "        }}\n",
       "}});\n",
       "\n",
       "// Listen for the removal of the full notebook cells\n",
       "var notebookContainer = gd.closest('#notebook-container');\n",
       "if (notebookContainer) {{\n",
       "    x.observe(notebookContainer, {childList: true});\n",
       "}}\n",
       "\n",
       "// Listen for the clearing of the current output cell\n",
       "var outputEl = gd.closest('.output');\n",
       "if (outputEl) {{\n",
       "    x.observe(outputEl, {childList: true});\n",
       "}}\n",
       "\n",
       "                        })                };                });            </script>        </div>"
      ]
     },
     "metadata": {},
     "output_type": "display_data"
    }
   ],
   "source": [
    "fig = get_column_plot(\n",
    "    real_data=real_data,\n",
    "    synthetic_data=synthetic_data_customized,\n",
    "    column_name=\"room_type\",\n",
    "    metadata=metadata\n",
    ")\n",
    "\n",
    "fig.show()"
   ]
  },
  {
   "cell_type": "code",
   "execution_count": 50,
   "id": "a8278a1c-b96d-4130-b421-ec6598a7bd9e",
   "metadata": {},
   "outputs": [
    {
     "data": {
      "application/vnd.plotly.v1+json": {
       "config": {
        "plotlyServerURL": "https://plot.ly"
       },
       "data": [
        {
         "alignmentgroup": "True",
         "customdata": [
          [
           "KSComplement"
          ],
          [
           "KSComplement"
          ],
          [
           "KSComplement"
          ],
          [
           "KSComplement"
          ]
         ],
         "hovertemplate": "<b>%{hovertext}</b><br><br>Metric=%{customdata[0]}<br>Quality Score=%{y}<extra></extra>",
         "hovertext": [
          "amenities_fee",
          "checkin_date",
          "checkout_date",
          "room_rate"
         ],
         "legendgroup": "KSComplement",
         "marker": {
          "color": "#000036",
          "pattern": {
           "shape": ""
          }
         },
         "name": "KSComplement",
         "offsetgroup": "KSComplement",
         "orientation": "v",
         "showlegend": true,
         "textposition": "auto",
         "type": "bar",
         "x": [
          "amenities_fee",
          "checkin_date",
          "checkout_date",
          "room_rate"
         ],
         "xaxis": "x",
         "y": [
          0.8835164835164835,
          0.958,
          0.9479166666666666,
          0.86
         ],
         "yaxis": "y"
        },
        {
         "alignmentgroup": "True",
         "customdata": [
          [
           "TVComplement"
          ],
          [
           "TVComplement"
          ]
         ],
         "hovertemplate": "<b>%{hovertext}</b><br><br>Metric=%{customdata[0]}<br>Quality Score=%{y}<extra></extra>",
         "hovertext": [
          "has_rewards",
          "room_type"
         ],
         "legendgroup": "TVComplement",
         "marker": {
          "color": "#03AFF1",
          "pattern": {
           "shape": "/"
          }
         },
         "name": "TVComplement",
         "offsetgroup": "TVComplement",
         "orientation": "v",
         "showlegend": true,
         "textposition": "auto",
         "type": "bar",
         "x": [
          "has_rewards",
          "room_type"
         ],
         "xaxis": "x",
         "y": [
          0.948,
          0.8859999999999999
         ],
         "yaxis": "y"
        }
       ],
       "layout": {
        "autosize": true,
        "barmode": "relative",
        "legend": {
         "title": {
          "text": "Metric"
         },
         "tracegroupgap": 0
        },
        "margin": {
         "t": 150
        },
        "plot_bgcolor": "#F5F5F8",
        "template": {
         "data": {
          "bar": [
           {
            "error_x": {
             "color": "#2a3f5f"
            },
            "error_y": {
             "color": "#2a3f5f"
            },
            "marker": {
             "line": {
              "color": "#E5ECF6",
              "width": 0.5
             },
             "pattern": {
              "fillmode": "overlay",
              "size": 10,
              "solidity": 0.2
             }
            },
            "type": "bar"
           }
          ],
          "barpolar": [
           {
            "marker": {
             "line": {
              "color": "#E5ECF6",
              "width": 0.5
             },
             "pattern": {
              "fillmode": "overlay",
              "size": 10,
              "solidity": 0.2
             }
            },
            "type": "barpolar"
           }
          ],
          "carpet": [
           {
            "aaxis": {
             "endlinecolor": "#2a3f5f",
             "gridcolor": "white",
             "linecolor": "white",
             "minorgridcolor": "white",
             "startlinecolor": "#2a3f5f"
            },
            "baxis": {
             "endlinecolor": "#2a3f5f",
             "gridcolor": "white",
             "linecolor": "white",
             "minorgridcolor": "white",
             "startlinecolor": "#2a3f5f"
            },
            "type": "carpet"
           }
          ],
          "choropleth": [
           {
            "colorbar": {
             "outlinewidth": 0,
             "ticks": ""
            },
            "type": "choropleth"
           }
          ],
          "contour": [
           {
            "colorbar": {
             "outlinewidth": 0,
             "ticks": ""
            },
            "colorscale": [
             [
              0,
              "#0d0887"
             ],
             [
              0.1111111111111111,
              "#46039f"
             ],
             [
              0.2222222222222222,
              "#7201a8"
             ],
             [
              0.3333333333333333,
              "#9c179e"
             ],
             [
              0.4444444444444444,
              "#bd3786"
             ],
             [
              0.5555555555555556,
              "#d8576b"
             ],
             [
              0.6666666666666666,
              "#ed7953"
             ],
             [
              0.7777777777777778,
              "#fb9f3a"
             ],
             [
              0.8888888888888888,
              "#fdca26"
             ],
             [
              1,
              "#f0f921"
             ]
            ],
            "type": "contour"
           }
          ],
          "contourcarpet": [
           {
            "colorbar": {
             "outlinewidth": 0,
             "ticks": ""
            },
            "type": "contourcarpet"
           }
          ],
          "heatmap": [
           {
            "colorbar": {
             "outlinewidth": 0,
             "ticks": ""
            },
            "colorscale": [
             [
              0,
              "#0d0887"
             ],
             [
              0.1111111111111111,
              "#46039f"
             ],
             [
              0.2222222222222222,
              "#7201a8"
             ],
             [
              0.3333333333333333,
              "#9c179e"
             ],
             [
              0.4444444444444444,
              "#bd3786"
             ],
             [
              0.5555555555555556,
              "#d8576b"
             ],
             [
              0.6666666666666666,
              "#ed7953"
             ],
             [
              0.7777777777777778,
              "#fb9f3a"
             ],
             [
              0.8888888888888888,
              "#fdca26"
             ],
             [
              1,
              "#f0f921"
             ]
            ],
            "type": "heatmap"
           }
          ],
          "heatmapgl": [
           {
            "colorbar": {
             "outlinewidth": 0,
             "ticks": ""
            },
            "colorscale": [
             [
              0,
              "#0d0887"
             ],
             [
              0.1111111111111111,
              "#46039f"
             ],
             [
              0.2222222222222222,
              "#7201a8"
             ],
             [
              0.3333333333333333,
              "#9c179e"
             ],
             [
              0.4444444444444444,
              "#bd3786"
             ],
             [
              0.5555555555555556,
              "#d8576b"
             ],
             [
              0.6666666666666666,
              "#ed7953"
             ],
             [
              0.7777777777777778,
              "#fb9f3a"
             ],
             [
              0.8888888888888888,
              "#fdca26"
             ],
             [
              1,
              "#f0f921"
             ]
            ],
            "type": "heatmapgl"
           }
          ],
          "histogram": [
           {
            "marker": {
             "pattern": {
              "fillmode": "overlay",
              "size": 10,
              "solidity": 0.2
             }
            },
            "type": "histogram"
           }
          ],
          "histogram2d": [
           {
            "colorbar": {
             "outlinewidth": 0,
             "ticks": ""
            },
            "colorscale": [
             [
              0,
              "#0d0887"
             ],
             [
              0.1111111111111111,
              "#46039f"
             ],
             [
              0.2222222222222222,
              "#7201a8"
             ],
             [
              0.3333333333333333,
              "#9c179e"
             ],
             [
              0.4444444444444444,
              "#bd3786"
             ],
             [
              0.5555555555555556,
              "#d8576b"
             ],
             [
              0.6666666666666666,
              "#ed7953"
             ],
             [
              0.7777777777777778,
              "#fb9f3a"
             ],
             [
              0.8888888888888888,
              "#fdca26"
             ],
             [
              1,
              "#f0f921"
             ]
            ],
            "type": "histogram2d"
           }
          ],
          "histogram2dcontour": [
           {
            "colorbar": {
             "outlinewidth": 0,
             "ticks": ""
            },
            "colorscale": [
             [
              0,
              "#0d0887"
             ],
             [
              0.1111111111111111,
              "#46039f"
             ],
             [
              0.2222222222222222,
              "#7201a8"
             ],
             [
              0.3333333333333333,
              "#9c179e"
             ],
             [
              0.4444444444444444,
              "#bd3786"
             ],
             [
              0.5555555555555556,
              "#d8576b"
             ],
             [
              0.6666666666666666,
              "#ed7953"
             ],
             [
              0.7777777777777778,
              "#fb9f3a"
             ],
             [
              0.8888888888888888,
              "#fdca26"
             ],
             [
              1,
              "#f0f921"
             ]
            ],
            "type": "histogram2dcontour"
           }
          ],
          "mesh3d": [
           {
            "colorbar": {
             "outlinewidth": 0,
             "ticks": ""
            },
            "type": "mesh3d"
           }
          ],
          "parcoords": [
           {
            "line": {
             "colorbar": {
              "outlinewidth": 0,
              "ticks": ""
             }
            },
            "type": "parcoords"
           }
          ],
          "pie": [
           {
            "automargin": true,
            "type": "pie"
           }
          ],
          "scatter": [
           {
            "fillpattern": {
             "fillmode": "overlay",
             "size": 10,
             "solidity": 0.2
            },
            "type": "scatter"
           }
          ],
          "scatter3d": [
           {
            "line": {
             "colorbar": {
              "outlinewidth": 0,
              "ticks": ""
             }
            },
            "marker": {
             "colorbar": {
              "outlinewidth": 0,
              "ticks": ""
             }
            },
            "type": "scatter3d"
           }
          ],
          "scattercarpet": [
           {
            "marker": {
             "colorbar": {
              "outlinewidth": 0,
              "ticks": ""
             }
            },
            "type": "scattercarpet"
           }
          ],
          "scattergeo": [
           {
            "marker": {
             "colorbar": {
              "outlinewidth": 0,
              "ticks": ""
             }
            },
            "type": "scattergeo"
           }
          ],
          "scattergl": [
           {
            "marker": {
             "colorbar": {
              "outlinewidth": 0,
              "ticks": ""
             }
            },
            "type": "scattergl"
           }
          ],
          "scattermapbox": [
           {
            "marker": {
             "colorbar": {
              "outlinewidth": 0,
              "ticks": ""
             }
            },
            "type": "scattermapbox"
           }
          ],
          "scatterpolar": [
           {
            "marker": {
             "colorbar": {
              "outlinewidth": 0,
              "ticks": ""
             }
            },
            "type": "scatterpolar"
           }
          ],
          "scatterpolargl": [
           {
            "marker": {
             "colorbar": {
              "outlinewidth": 0,
              "ticks": ""
             }
            },
            "type": "scatterpolargl"
           }
          ],
          "scatterternary": [
           {
            "marker": {
             "colorbar": {
              "outlinewidth": 0,
              "ticks": ""
             }
            },
            "type": "scatterternary"
           }
          ],
          "surface": [
           {
            "colorbar": {
             "outlinewidth": 0,
             "ticks": ""
            },
            "colorscale": [
             [
              0,
              "#0d0887"
             ],
             [
              0.1111111111111111,
              "#46039f"
             ],
             [
              0.2222222222222222,
              "#7201a8"
             ],
             [
              0.3333333333333333,
              "#9c179e"
             ],
             [
              0.4444444444444444,
              "#bd3786"
             ],
             [
              0.5555555555555556,
              "#d8576b"
             ],
             [
              0.6666666666666666,
              "#ed7953"
             ],
             [
              0.7777777777777778,
              "#fb9f3a"
             ],
             [
              0.8888888888888888,
              "#fdca26"
             ],
             [
              1,
              "#f0f921"
             ]
            ],
            "type": "surface"
           }
          ],
          "table": [
           {
            "cells": {
             "fill": {
              "color": "#EBF0F8"
             },
             "line": {
              "color": "white"
             }
            },
            "header": {
             "fill": {
              "color": "#C8D4E3"
             },
             "line": {
              "color": "white"
             }
            },
            "type": "table"
           }
          ]
         },
         "layout": {
          "annotationdefaults": {
           "arrowcolor": "#2a3f5f",
           "arrowhead": 0,
           "arrowwidth": 1
          },
          "autotypenumbers": "strict",
          "coloraxis": {
           "colorbar": {
            "outlinewidth": 0,
            "ticks": ""
           }
          },
          "colorscale": {
           "diverging": [
            [
             0,
             "#8e0152"
            ],
            [
             0.1,
             "#c51b7d"
            ],
            [
             0.2,
             "#de77ae"
            ],
            [
             0.3,
             "#f1b6da"
            ],
            [
             0.4,
             "#fde0ef"
            ],
            [
             0.5,
             "#f7f7f7"
            ],
            [
             0.6,
             "#e6f5d0"
            ],
            [
             0.7,
             "#b8e186"
            ],
            [
             0.8,
             "#7fbc41"
            ],
            [
             0.9,
             "#4d9221"
            ],
            [
             1,
             "#276419"
            ]
           ],
           "sequential": [
            [
             0,
             "#0d0887"
            ],
            [
             0.1111111111111111,
             "#46039f"
            ],
            [
             0.2222222222222222,
             "#7201a8"
            ],
            [
             0.3333333333333333,
             "#9c179e"
            ],
            [
             0.4444444444444444,
             "#bd3786"
            ],
            [
             0.5555555555555556,
             "#d8576b"
            ],
            [
             0.6666666666666666,
             "#ed7953"
            ],
            [
             0.7777777777777778,
             "#fb9f3a"
            ],
            [
             0.8888888888888888,
             "#fdca26"
            ],
            [
             1,
             "#f0f921"
            ]
           ],
           "sequentialminus": [
            [
             0,
             "#0d0887"
            ],
            [
             0.1111111111111111,
             "#46039f"
            ],
            [
             0.2222222222222222,
             "#7201a8"
            ],
            [
             0.3333333333333333,
             "#9c179e"
            ],
            [
             0.4444444444444444,
             "#bd3786"
            ],
            [
             0.5555555555555556,
             "#d8576b"
            ],
            [
             0.6666666666666666,
             "#ed7953"
            ],
            [
             0.7777777777777778,
             "#fb9f3a"
            ],
            [
             0.8888888888888888,
             "#fdca26"
            ],
            [
             1,
             "#f0f921"
            ]
           ]
          },
          "colorway": [
           "#636efa",
           "#EF553B",
           "#00cc96",
           "#ab63fa",
           "#FFA15A",
           "#19d3f3",
           "#FF6692",
           "#B6E880",
           "#FF97FF",
           "#FECB52"
          ],
          "font": {
           "color": "#2a3f5f"
          },
          "geo": {
           "bgcolor": "white",
           "lakecolor": "white",
           "landcolor": "#E5ECF6",
           "showlakes": true,
           "showland": true,
           "subunitcolor": "white"
          },
          "hoverlabel": {
           "align": "left"
          },
          "hovermode": "closest",
          "mapbox": {
           "style": "light"
          },
          "paper_bgcolor": "white",
          "plot_bgcolor": "#E5ECF6",
          "polar": {
           "angularaxis": {
            "gridcolor": "white",
            "linecolor": "white",
            "ticks": ""
           },
           "bgcolor": "#E5ECF6",
           "radialaxis": {
            "gridcolor": "white",
            "linecolor": "white",
            "ticks": ""
           }
          },
          "scene": {
           "xaxis": {
            "backgroundcolor": "#E5ECF6",
            "gridcolor": "white",
            "gridwidth": 2,
            "linecolor": "white",
            "showbackground": true,
            "ticks": "",
            "zerolinecolor": "white"
           },
           "yaxis": {
            "backgroundcolor": "#E5ECF6",
            "gridcolor": "white",
            "gridwidth": 2,
            "linecolor": "white",
            "showbackground": true,
            "ticks": "",
            "zerolinecolor": "white"
           },
           "zaxis": {
            "backgroundcolor": "#E5ECF6",
            "gridcolor": "white",
            "gridwidth": 2,
            "linecolor": "white",
            "showbackground": true,
            "ticks": "",
            "zerolinecolor": "white"
           }
          },
          "shapedefaults": {
           "line": {
            "color": "#2a3f5f"
           }
          },
          "ternary": {
           "aaxis": {
            "gridcolor": "white",
            "linecolor": "white",
            "ticks": ""
           },
           "baxis": {
            "gridcolor": "white",
            "linecolor": "white",
            "ticks": ""
           },
           "bgcolor": "#E5ECF6",
           "caxis": {
            "gridcolor": "white",
            "linecolor": "white",
            "ticks": ""
           }
          },
          "title": {
           "x": 0.05
          },
          "xaxis": {
           "automargin": true,
           "gridcolor": "white",
           "linecolor": "white",
           "ticks": "",
           "title": {
            "standoff": 15
           },
           "zerolinecolor": "white",
           "zerolinewidth": 2
          },
          "yaxis": {
           "automargin": true,
           "gridcolor": "white",
           "linecolor": "white",
           "ticks": "",
           "title": {
            "standoff": 15
           },
           "zerolinecolor": "white",
           "zerolinewidth": 2
          }
         }
        },
        "title": {
         "text": "Data Quality: Column Shapes (Average Score=0.91)"
        },
        "xaxis": {
         "anchor": "y",
         "autorange": true,
         "categoryorder": "total ascending",
         "domain": [
          0,
          1
         ],
         "range": [
          -0.5,
          5.5
         ],
         "title": {
          "text": "Column Name"
         },
         "type": "category"
        },
        "yaxis": {
         "anchor": "x",
         "domain": [
          0,
          1
         ],
         "range": [
          0,
          1
         ],
         "title": {
          "text": "Quality Score"
         },
         "type": "linear"
        }
       }
      },
      "text/html": [
       "<div>                            <div id=\"3fa62348-419e-4cb3-8897-653a1c56e122\" class=\"plotly-graph-div\" style=\"height:525px; width:100%;\"></div>            <script type=\"text/javascript\">                require([\"plotly\"], function(Plotly) {                    window.PLOTLYENV=window.PLOTLYENV || {};                                    if (document.getElementById(\"3fa62348-419e-4cb3-8897-653a1c56e122\")) {                    Plotly.newPlot(                        \"3fa62348-419e-4cb3-8897-653a1c56e122\",                        [{\"alignmentgroup\":\"True\",\"customdata\":[[\"KSComplement\"],[\"KSComplement\"],[\"KSComplement\"],[\"KSComplement\"]],\"hovertemplate\":\"\\u003cb\\u003e%{hovertext}\\u003c\\u002fb\\u003e\\u003cbr\\u003e\\u003cbr\\u003eMetric=%{customdata[0]}\\u003cbr\\u003eQuality Score=%{y}\\u003cextra\\u003e\\u003c\\u002fextra\\u003e\",\"hovertext\":[\"amenities_fee\",\"checkin_date\",\"checkout_date\",\"room_rate\"],\"legendgroup\":\"KSComplement\",\"marker\":{\"color\":\"#000036\",\"pattern\":{\"shape\":\"\"}},\"name\":\"KSComplement\",\"offsetgroup\":\"KSComplement\",\"orientation\":\"v\",\"showlegend\":true,\"textposition\":\"auto\",\"x\":[\"amenities_fee\",\"checkin_date\",\"checkout_date\",\"room_rate\"],\"xaxis\":\"x\",\"y\":[0.8835164835164835,0.958,0.9479166666666666,0.86],\"yaxis\":\"y\",\"type\":\"bar\"},{\"alignmentgroup\":\"True\",\"customdata\":[[\"TVComplement\"],[\"TVComplement\"]],\"hovertemplate\":\"\\u003cb\\u003e%{hovertext}\\u003c\\u002fb\\u003e\\u003cbr\\u003e\\u003cbr\\u003eMetric=%{customdata[0]}\\u003cbr\\u003eQuality Score=%{y}\\u003cextra\\u003e\\u003c\\u002fextra\\u003e\",\"hovertext\":[\"has_rewards\",\"room_type\"],\"legendgroup\":\"TVComplement\",\"marker\":{\"color\":\"#03AFF1\",\"pattern\":{\"shape\":\"\\u002f\"}},\"name\":\"TVComplement\",\"offsetgroup\":\"TVComplement\",\"orientation\":\"v\",\"showlegend\":true,\"textposition\":\"auto\",\"x\":[\"has_rewards\",\"room_type\"],\"xaxis\":\"x\",\"y\":[0.948,0.8859999999999999],\"yaxis\":\"y\",\"type\":\"bar\"}],                        {\"template\":{\"data\":{\"histogram2dcontour\":[{\"type\":\"histogram2dcontour\",\"colorbar\":{\"outlinewidth\":0,\"ticks\":\"\"},\"colorscale\":[[0.0,\"#0d0887\"],[0.1111111111111111,\"#46039f\"],[0.2222222222222222,\"#7201a8\"],[0.3333333333333333,\"#9c179e\"],[0.4444444444444444,\"#bd3786\"],[0.5555555555555556,\"#d8576b\"],[0.6666666666666666,\"#ed7953\"],[0.7777777777777778,\"#fb9f3a\"],[0.8888888888888888,\"#fdca26\"],[1.0,\"#f0f921\"]]}],\"choropleth\":[{\"type\":\"choropleth\",\"colorbar\":{\"outlinewidth\":0,\"ticks\":\"\"}}],\"histogram2d\":[{\"type\":\"histogram2d\",\"colorbar\":{\"outlinewidth\":0,\"ticks\":\"\"},\"colorscale\":[[0.0,\"#0d0887\"],[0.1111111111111111,\"#46039f\"],[0.2222222222222222,\"#7201a8\"],[0.3333333333333333,\"#9c179e\"],[0.4444444444444444,\"#bd3786\"],[0.5555555555555556,\"#d8576b\"],[0.6666666666666666,\"#ed7953\"],[0.7777777777777778,\"#fb9f3a\"],[0.8888888888888888,\"#fdca26\"],[1.0,\"#f0f921\"]]}],\"heatmap\":[{\"type\":\"heatmap\",\"colorbar\":{\"outlinewidth\":0,\"ticks\":\"\"},\"colorscale\":[[0.0,\"#0d0887\"],[0.1111111111111111,\"#46039f\"],[0.2222222222222222,\"#7201a8\"],[0.3333333333333333,\"#9c179e\"],[0.4444444444444444,\"#bd3786\"],[0.5555555555555556,\"#d8576b\"],[0.6666666666666666,\"#ed7953\"],[0.7777777777777778,\"#fb9f3a\"],[0.8888888888888888,\"#fdca26\"],[1.0,\"#f0f921\"]]}],\"heatmapgl\":[{\"type\":\"heatmapgl\",\"colorbar\":{\"outlinewidth\":0,\"ticks\":\"\"},\"colorscale\":[[0.0,\"#0d0887\"],[0.1111111111111111,\"#46039f\"],[0.2222222222222222,\"#7201a8\"],[0.3333333333333333,\"#9c179e\"],[0.4444444444444444,\"#bd3786\"],[0.5555555555555556,\"#d8576b\"],[0.6666666666666666,\"#ed7953\"],[0.7777777777777778,\"#fb9f3a\"],[0.8888888888888888,\"#fdca26\"],[1.0,\"#f0f921\"]]}],\"contourcarpet\":[{\"type\":\"contourcarpet\",\"colorbar\":{\"outlinewidth\":0,\"ticks\":\"\"}}],\"contour\":[{\"type\":\"contour\",\"colorbar\":{\"outlinewidth\":0,\"ticks\":\"\"},\"colorscale\":[[0.0,\"#0d0887\"],[0.1111111111111111,\"#46039f\"],[0.2222222222222222,\"#7201a8\"],[0.3333333333333333,\"#9c179e\"],[0.4444444444444444,\"#bd3786\"],[0.5555555555555556,\"#d8576b\"],[0.6666666666666666,\"#ed7953\"],[0.7777777777777778,\"#fb9f3a\"],[0.8888888888888888,\"#fdca26\"],[1.0,\"#f0f921\"]]}],\"surface\":[{\"type\":\"surface\",\"colorbar\":{\"outlinewidth\":0,\"ticks\":\"\"},\"colorscale\":[[0.0,\"#0d0887\"],[0.1111111111111111,\"#46039f\"],[0.2222222222222222,\"#7201a8\"],[0.3333333333333333,\"#9c179e\"],[0.4444444444444444,\"#bd3786\"],[0.5555555555555556,\"#d8576b\"],[0.6666666666666666,\"#ed7953\"],[0.7777777777777778,\"#fb9f3a\"],[0.8888888888888888,\"#fdca26\"],[1.0,\"#f0f921\"]]}],\"mesh3d\":[{\"type\":\"mesh3d\",\"colorbar\":{\"outlinewidth\":0,\"ticks\":\"\"}}],\"scatter\":[{\"fillpattern\":{\"fillmode\":\"overlay\",\"size\":10,\"solidity\":0.2},\"type\":\"scatter\"}],\"parcoords\":[{\"type\":\"parcoords\",\"line\":{\"colorbar\":{\"outlinewidth\":0,\"ticks\":\"\"}}}],\"scatterpolargl\":[{\"type\":\"scatterpolargl\",\"marker\":{\"colorbar\":{\"outlinewidth\":0,\"ticks\":\"\"}}}],\"bar\":[{\"error_x\":{\"color\":\"#2a3f5f\"},\"error_y\":{\"color\":\"#2a3f5f\"},\"marker\":{\"line\":{\"color\":\"#E5ECF6\",\"width\":0.5},\"pattern\":{\"fillmode\":\"overlay\",\"size\":10,\"solidity\":0.2}},\"type\":\"bar\"}],\"scattergeo\":[{\"type\":\"scattergeo\",\"marker\":{\"colorbar\":{\"outlinewidth\":0,\"ticks\":\"\"}}}],\"scatterpolar\":[{\"type\":\"scatterpolar\",\"marker\":{\"colorbar\":{\"outlinewidth\":0,\"ticks\":\"\"}}}],\"histogram\":[{\"marker\":{\"pattern\":{\"fillmode\":\"overlay\",\"size\":10,\"solidity\":0.2}},\"type\":\"histogram\"}],\"scattergl\":[{\"type\":\"scattergl\",\"marker\":{\"colorbar\":{\"outlinewidth\":0,\"ticks\":\"\"}}}],\"scatter3d\":[{\"type\":\"scatter3d\",\"line\":{\"colorbar\":{\"outlinewidth\":0,\"ticks\":\"\"}},\"marker\":{\"colorbar\":{\"outlinewidth\":0,\"ticks\":\"\"}}}],\"scattermapbox\":[{\"type\":\"scattermapbox\",\"marker\":{\"colorbar\":{\"outlinewidth\":0,\"ticks\":\"\"}}}],\"scatterternary\":[{\"type\":\"scatterternary\",\"marker\":{\"colorbar\":{\"outlinewidth\":0,\"ticks\":\"\"}}}],\"scattercarpet\":[{\"type\":\"scattercarpet\",\"marker\":{\"colorbar\":{\"outlinewidth\":0,\"ticks\":\"\"}}}],\"carpet\":[{\"aaxis\":{\"endlinecolor\":\"#2a3f5f\",\"gridcolor\":\"white\",\"linecolor\":\"white\",\"minorgridcolor\":\"white\",\"startlinecolor\":\"#2a3f5f\"},\"baxis\":{\"endlinecolor\":\"#2a3f5f\",\"gridcolor\":\"white\",\"linecolor\":\"white\",\"minorgridcolor\":\"white\",\"startlinecolor\":\"#2a3f5f\"},\"type\":\"carpet\"}],\"table\":[{\"cells\":{\"fill\":{\"color\":\"#EBF0F8\"},\"line\":{\"color\":\"white\"}},\"header\":{\"fill\":{\"color\":\"#C8D4E3\"},\"line\":{\"color\":\"white\"}},\"type\":\"table\"}],\"barpolar\":[{\"marker\":{\"line\":{\"color\":\"#E5ECF6\",\"width\":0.5},\"pattern\":{\"fillmode\":\"overlay\",\"size\":10,\"solidity\":0.2}},\"type\":\"barpolar\"}],\"pie\":[{\"automargin\":true,\"type\":\"pie\"}]},\"layout\":{\"autotypenumbers\":\"strict\",\"colorway\":[\"#636efa\",\"#EF553B\",\"#00cc96\",\"#ab63fa\",\"#FFA15A\",\"#19d3f3\",\"#FF6692\",\"#B6E880\",\"#FF97FF\",\"#FECB52\"],\"font\":{\"color\":\"#2a3f5f\"},\"hovermode\":\"closest\",\"hoverlabel\":{\"align\":\"left\"},\"paper_bgcolor\":\"white\",\"plot_bgcolor\":\"#E5ECF6\",\"polar\":{\"bgcolor\":\"#E5ECF6\",\"angularaxis\":{\"gridcolor\":\"white\",\"linecolor\":\"white\",\"ticks\":\"\"},\"radialaxis\":{\"gridcolor\":\"white\",\"linecolor\":\"white\",\"ticks\":\"\"}},\"ternary\":{\"bgcolor\":\"#E5ECF6\",\"aaxis\":{\"gridcolor\":\"white\",\"linecolor\":\"white\",\"ticks\":\"\"},\"baxis\":{\"gridcolor\":\"white\",\"linecolor\":\"white\",\"ticks\":\"\"},\"caxis\":{\"gridcolor\":\"white\",\"linecolor\":\"white\",\"ticks\":\"\"}},\"coloraxis\":{\"colorbar\":{\"outlinewidth\":0,\"ticks\":\"\"}},\"colorscale\":{\"sequential\":[[0.0,\"#0d0887\"],[0.1111111111111111,\"#46039f\"],[0.2222222222222222,\"#7201a8\"],[0.3333333333333333,\"#9c179e\"],[0.4444444444444444,\"#bd3786\"],[0.5555555555555556,\"#d8576b\"],[0.6666666666666666,\"#ed7953\"],[0.7777777777777778,\"#fb9f3a\"],[0.8888888888888888,\"#fdca26\"],[1.0,\"#f0f921\"]],\"sequentialminus\":[[0.0,\"#0d0887\"],[0.1111111111111111,\"#46039f\"],[0.2222222222222222,\"#7201a8\"],[0.3333333333333333,\"#9c179e\"],[0.4444444444444444,\"#bd3786\"],[0.5555555555555556,\"#d8576b\"],[0.6666666666666666,\"#ed7953\"],[0.7777777777777778,\"#fb9f3a\"],[0.8888888888888888,\"#fdca26\"],[1.0,\"#f0f921\"]],\"diverging\":[[0,\"#8e0152\"],[0.1,\"#c51b7d\"],[0.2,\"#de77ae\"],[0.3,\"#f1b6da\"],[0.4,\"#fde0ef\"],[0.5,\"#f7f7f7\"],[0.6,\"#e6f5d0\"],[0.7,\"#b8e186\"],[0.8,\"#7fbc41\"],[0.9,\"#4d9221\"],[1,\"#276419\"]]},\"xaxis\":{\"gridcolor\":\"white\",\"linecolor\":\"white\",\"ticks\":\"\",\"title\":{\"standoff\":15},\"zerolinecolor\":\"white\",\"automargin\":true,\"zerolinewidth\":2},\"yaxis\":{\"gridcolor\":\"white\",\"linecolor\":\"white\",\"ticks\":\"\",\"title\":{\"standoff\":15},\"zerolinecolor\":\"white\",\"automargin\":true,\"zerolinewidth\":2},\"scene\":{\"xaxis\":{\"backgroundcolor\":\"#E5ECF6\",\"gridcolor\":\"white\",\"linecolor\":\"white\",\"showbackground\":true,\"ticks\":\"\",\"zerolinecolor\":\"white\",\"gridwidth\":2},\"yaxis\":{\"backgroundcolor\":\"#E5ECF6\",\"gridcolor\":\"white\",\"linecolor\":\"white\",\"showbackground\":true,\"ticks\":\"\",\"zerolinecolor\":\"white\",\"gridwidth\":2},\"zaxis\":{\"backgroundcolor\":\"#E5ECF6\",\"gridcolor\":\"white\",\"linecolor\":\"white\",\"showbackground\":true,\"ticks\":\"\",\"zerolinecolor\":\"white\",\"gridwidth\":2}},\"shapedefaults\":{\"line\":{\"color\":\"#2a3f5f\"}},\"annotationdefaults\":{\"arrowcolor\":\"#2a3f5f\",\"arrowhead\":0,\"arrowwidth\":1},\"geo\":{\"bgcolor\":\"white\",\"landcolor\":\"#E5ECF6\",\"subunitcolor\":\"white\",\"showland\":true,\"showlakes\":true,\"lakecolor\":\"white\"},\"title\":{\"x\":0.05},\"mapbox\":{\"style\":\"light\"}}},\"xaxis\":{\"anchor\":\"y\",\"domain\":[0.0,1.0],\"title\":{\"text\":\"Column Name\"},\"categoryorder\":\"total ascending\"},\"yaxis\":{\"anchor\":\"x\",\"domain\":[0.0,1.0],\"title\":{\"text\":\"Quality Score\"},\"range\":[0,1]},\"legend\":{\"title\":{\"text\":\"Metric\"},\"tracegroupgap\":0},\"title\":{\"text\":\"Data Quality: Column Shapes (Average Score=0.91)\"},\"barmode\":\"relative\",\"margin\":{\"t\":150},\"plot_bgcolor\":\"#F5F5F8\"},                        {\"responsive\": true}                    ).then(function(){\n",
       "                            \n",
       "var gd = document.getElementById('3fa62348-419e-4cb3-8897-653a1c56e122');\n",
       "var x = new MutationObserver(function (mutations, observer) {{\n",
       "        var display = window.getComputedStyle(gd).display;\n",
       "        if (!display || display === 'none') {{\n",
       "            console.log([gd, 'removed!']);\n",
       "            Plotly.purge(gd);\n",
       "            observer.disconnect();\n",
       "        }}\n",
       "}});\n",
       "\n",
       "// Listen for the removal of the full notebook cells\n",
       "var notebookContainer = gd.closest('#notebook-container');\n",
       "if (notebookContainer) {{\n",
       "    x.observe(notebookContainer, {childList: true});\n",
       "}}\n",
       "\n",
       "// Listen for the clearing of the current output cell\n",
       "var outputEl = gd.closest('.output');\n",
       "if (outputEl) {{\n",
       "    x.observe(outputEl, {childList: true});\n",
       "}}\n",
       "\n",
       "                        })                };                });            </script>        </div>"
      ]
     },
     "metadata": {},
     "output_type": "display_data"
    }
   ],
   "source": [
    "quality_report.get_visualization('Column Shapes')"
   ]
  },
  {
   "cell_type": "code",
   "execution_count": 52,
   "id": "2931993d-b569-41a6-a7b9-89b482a6f6fb",
   "metadata": {},
   "outputs": [],
   "source": [
    "# conditional sampling\n",
    "# scenario: every hotel guest is staying in a SUITE (half with rewards and half without)\n",
    "\n",
    "from sdv.sampling import Condition\n",
    "\n",
    "suite_guests_with_rewards = Condition(\n",
    "    num_rows=250,\n",
    "    column_values={\"room_type\": \"SUITE\", \"has_rewards\":True}\n",
    ")\n",
    "\n",
    "suite_guests_without_rewards = Condition(\n",
    "    num_rows=250,\n",
    "    column_values={\"room_type\": \"SUITE\", \"has_rewards\": False}\n",
    ")\n"
   ]
  },
  {
   "cell_type": "code",
   "execution_count": 54,
   "id": "e005238e-fcfe-444c-99e7-a82fa3b72486",
   "metadata": {},
   "outputs": [
    {
     "name": "stderr",
     "output_type": "stream",
     "text": [
      "Sampling conditions: 100%|██████████████████| 500/500 [00:00<00:00, 2175.39it/s]\n"
     ]
    }
   ],
   "source": [
    "# simulate the scenario \n",
    "\n",
    "simulated_synthetic_data = custom_synthesizer.sample_from_conditions(\n",
    "    conditions=[suite_guests_with_rewards,\n",
    "                suite_guests_without_rewards]\n",
    ")"
   ]
  },
  {
   "cell_type": "code",
   "execution_count": 55,
   "id": "03ca67fb-1ba3-45b0-82eb-c0c6127b6b30",
   "metadata": {},
   "outputs": [
    {
     "data": {
      "application/vnd.plotly.v1+json": {
       "config": {
        "plotlyServerURL": "https://plot.ly"
       },
       "data": [
        {
         "alignmentgroup": "True",
         "bingroup": "x",
         "histnorm": "probability density",
         "hovertemplate": "<b>Real</b><br>Frequency: %{y}<extra></extra>",
         "legendgroup": "Real",
         "marker": {
          "color": "#000036",
          "pattern": {
           "shape": ""
          }
         },
         "name": "Real",
         "offsetgroup": "Real",
         "orientation": "v",
         "showlegend": true,
         "type": "histogram",
         "x": [
          "BASIC",
          "BASIC",
          "DELUXE",
          "BASIC",
          "BASIC",
          "BASIC",
          "BASIC",
          "BASIC",
          "BASIC",
          "BASIC",
          "BASIC",
          "BASIC",
          "BASIC",
          "BASIC",
          "BASIC",
          "BASIC",
          "DELUXE",
          "BASIC",
          "DELUXE",
          "BASIC",
          "BASIC",
          "BASIC",
          "BASIC",
          "BASIC",
          "BASIC",
          "BASIC",
          "BASIC",
          "BASIC",
          "BASIC",
          "BASIC",
          "DELUXE",
          "BASIC",
          "BASIC",
          "BASIC",
          "BASIC",
          "BASIC",
          "BASIC",
          "BASIC",
          "BASIC",
          "BASIC",
          "SUITE",
          "BASIC",
          "DELUXE",
          "BASIC",
          "BASIC",
          "BASIC",
          "BASIC",
          "BASIC",
          "BASIC",
          "SUITE",
          "DELUXE",
          "BASIC",
          "BASIC",
          "DELUXE",
          "BASIC",
          "BASIC",
          "BASIC",
          "BASIC",
          "SUITE",
          "SUITE",
          "DELUXE",
          "BASIC",
          "BASIC",
          "BASIC",
          "BASIC",
          "BASIC",
          "BASIC",
          "BASIC",
          "SUITE",
          "BASIC",
          "BASIC",
          "BASIC",
          "BASIC",
          "BASIC",
          "DELUXE",
          "BASIC",
          "BASIC",
          "BASIC",
          "BASIC",
          "BASIC",
          "BASIC",
          "BASIC",
          "BASIC",
          "BASIC",
          "BASIC",
          "BASIC",
          "BASIC",
          "BASIC",
          "SUITE",
          "BASIC",
          "BASIC",
          "BASIC",
          "BASIC",
          "BASIC",
          "BASIC",
          "BASIC",
          "BASIC",
          "BASIC",
          "BASIC",
          "DELUXE",
          "BASIC",
          "BASIC",
          "DELUXE",
          "BASIC",
          "BASIC",
          "BASIC",
          "BASIC",
          "DELUXE",
          "BASIC",
          "BASIC",
          "BASIC",
          "DELUXE",
          "BASIC",
          "BASIC",
          "DELUXE",
          "DELUXE",
          "BASIC",
          "BASIC",
          "BASIC",
          "BASIC",
          "DELUXE",
          "DELUXE",
          "BASIC",
          "BASIC",
          "BASIC",
          "BASIC",
          "BASIC",
          "BASIC",
          "BASIC",
          "BASIC",
          "BASIC",
          "BASIC",
          "BASIC",
          "BASIC",
          "BASIC",
          "BASIC",
          "DELUXE",
          "SUITE",
          "BASIC",
          "BASIC",
          "BASIC",
          "BASIC",
          "SUITE",
          "BASIC",
          "SUITE",
          "BASIC",
          "BASIC",
          "BASIC",
          "BASIC",
          "SUITE",
          "BASIC",
          "BASIC",
          "BASIC",
          "BASIC",
          "BASIC",
          "BASIC",
          "BASIC",
          "BASIC",
          "BASIC",
          "BASIC",
          "DELUXE",
          "BASIC",
          "BASIC",
          "BASIC",
          "BASIC",
          "SUITE",
          "DELUXE",
          "BASIC",
          "BASIC",
          "BASIC",
          "BASIC",
          "BASIC",
          "BASIC",
          "BASIC",
          "BASIC",
          "BASIC",
          "BASIC",
          "BASIC",
          "DELUXE",
          "SUITE",
          "BASIC",
          "BASIC",
          "BASIC",
          "SUITE",
          "BASIC",
          "DELUXE",
          "BASIC",
          "BASIC",
          "BASIC",
          "BASIC",
          "DELUXE",
          "BASIC",
          "BASIC",
          "BASIC",
          "BASIC",
          "BASIC",
          "SUITE",
          "BASIC",
          "DELUXE",
          "BASIC",
          "BASIC",
          "BASIC",
          "BASIC",
          "BASIC",
          "BASIC",
          "BASIC",
          "DELUXE",
          "BASIC",
          "DELUXE",
          "DELUXE",
          "DELUXE",
          "DELUXE",
          "BASIC",
          "BASIC",
          "BASIC",
          "DELUXE",
          "SUITE",
          "BASIC",
          "BASIC",
          "SUITE",
          "DELUXE",
          "BASIC",
          "BASIC",
          "DELUXE",
          "BASIC",
          "BASIC",
          "BASIC",
          "BASIC",
          "DELUXE",
          "BASIC",
          "BASIC",
          "BASIC",
          "BASIC",
          "BASIC",
          "BASIC",
          "BASIC",
          "SUITE",
          "BASIC",
          "BASIC",
          "DELUXE",
          "BASIC",
          "BASIC",
          "BASIC",
          "BASIC",
          "BASIC",
          "BASIC",
          "SUITE",
          "BASIC",
          "BASIC",
          "BASIC",
          "BASIC",
          "DELUXE",
          "BASIC",
          "BASIC",
          "BASIC",
          "BASIC",
          "BASIC",
          "BASIC",
          "BASIC",
          "BASIC",
          "BASIC",
          "BASIC",
          "BASIC",
          "BASIC",
          "BASIC",
          "BASIC",
          "DELUXE",
          "SUITE",
          "BASIC",
          "BASIC",
          "BASIC",
          "BASIC",
          "BASIC",
          "BASIC",
          "BASIC",
          "DELUXE",
          "BASIC",
          "SUITE",
          "SUITE",
          "DELUXE",
          "BASIC",
          "BASIC",
          "DELUXE",
          "SUITE",
          "DELUXE",
          "BASIC",
          "BASIC",
          "BASIC",
          "BASIC",
          "BASIC",
          "DELUXE",
          "DELUXE",
          "BASIC",
          "BASIC",
          "BASIC",
          "BASIC",
          "BASIC",
          "DELUXE",
          "BASIC",
          "DELUXE",
          "BASIC",
          "BASIC",
          "BASIC",
          "BASIC",
          "DELUXE",
          "BASIC",
          "BASIC",
          "BASIC",
          "BASIC",
          "DELUXE",
          "DELUXE",
          "BASIC",
          "SUITE",
          "BASIC",
          "BASIC",
          "BASIC",
          "BASIC",
          "SUITE",
          "BASIC",
          "BASIC",
          "BASIC",
          "BASIC",
          "DELUXE",
          "BASIC",
          "BASIC",
          "BASIC",
          "BASIC",
          "BASIC",
          "BASIC",
          "BASIC",
          "BASIC",
          "BASIC",
          "BASIC",
          "BASIC",
          "BASIC",
          "SUITE",
          "BASIC",
          "BASIC",
          "BASIC",
          "BASIC",
          "BASIC",
          "BASIC",
          "BASIC",
          "BASIC",
          "DELUXE",
          "BASIC",
          "BASIC",
          "DELUXE",
          "BASIC",
          "DELUXE",
          "BASIC",
          "BASIC",
          "DELUXE",
          "DELUXE",
          "DELUXE",
          "SUITE",
          "BASIC",
          "BASIC",
          "DELUXE",
          "BASIC",
          "BASIC",
          "BASIC",
          "BASIC",
          "BASIC",
          "BASIC",
          "BASIC",
          "BASIC",
          "BASIC",
          "BASIC",
          "BASIC",
          "BASIC",
          "BASIC",
          "DELUXE",
          "DELUXE",
          "BASIC",
          "BASIC",
          "BASIC",
          "BASIC",
          "BASIC",
          "DELUXE",
          "BASIC",
          "BASIC",
          "BASIC",
          "SUITE",
          "BASIC",
          "BASIC",
          "BASIC",
          "BASIC",
          "BASIC",
          "DELUXE",
          "BASIC",
          "BASIC",
          "BASIC",
          "BASIC",
          "BASIC",
          "BASIC",
          "DELUXE",
          "BASIC",
          "BASIC",
          "BASIC",
          "BASIC",
          "BASIC",
          "DELUXE",
          "BASIC",
          "BASIC",
          "BASIC",
          "BASIC",
          "DELUXE",
          "DELUXE",
          "DELUXE",
          "BASIC",
          "BASIC",
          "BASIC",
          "BASIC",
          "BASIC",
          "BASIC",
          "BASIC",
          "DELUXE",
          "BASIC",
          "DELUXE",
          "BASIC",
          "SUITE",
          "DELUXE",
          "SUITE",
          "BASIC",
          "BASIC",
          "SUITE",
          "DELUXE",
          "BASIC",
          "SUITE",
          "BASIC",
          "BASIC",
          "BASIC",
          "DELUXE",
          "BASIC",
          "BASIC",
          "SUITE",
          "DELUXE",
          "BASIC",
          "BASIC",
          "BASIC",
          "SUITE",
          "BASIC",
          "DELUXE",
          "BASIC",
          "BASIC",
          "BASIC",
          "BASIC",
          "BASIC",
          "BASIC",
          "BASIC",
          "BASIC",
          "BASIC",
          "SUITE",
          "BASIC",
          "BASIC",
          "BASIC",
          "BASIC",
          "BASIC",
          "DELUXE",
          "BASIC",
          "DELUXE",
          "BASIC",
          "DELUXE",
          "BASIC",
          "DELUXE",
          "SUITE",
          "BASIC",
          "BASIC",
          "BASIC",
          "BASIC",
          "BASIC",
          "BASIC",
          "DELUXE",
          "BASIC",
          "SUITE",
          "BASIC",
          "BASIC",
          "SUITE",
          "SUITE",
          "BASIC",
          "BASIC",
          "BASIC",
          "BASIC",
          "BASIC",
          "BASIC",
          "BASIC",
          "DELUXE",
          "BASIC",
          "BASIC",
          "BASIC",
          "BASIC",
          "DELUXE",
          "BASIC",
          "BASIC",
          "BASIC",
          "BASIC",
          "BASIC",
          "BASIC",
          "BASIC"
         ],
         "xaxis": "x",
         "yaxis": "y"
        },
        {
         "alignmentgroup": "True",
         "bingroup": "x",
         "histnorm": "probability density",
         "hovertemplate": "<b>Synthetic</b><br>Frequency: %{y}<extra></extra>",
         "legendgroup": "Synthetic",
         "marker": {
          "color": "#01E0C9",
          "pattern": {
           "shape": "/"
          }
         },
         "name": "Synthetic",
         "offsetgroup": "Synthetic",
         "orientation": "v",
         "showlegend": true,
         "type": "histogram",
         "x": [
          "SUITE",
          "SUITE",
          "SUITE",
          "SUITE",
          "SUITE",
          "SUITE",
          "SUITE",
          "SUITE",
          "SUITE",
          "SUITE",
          "SUITE",
          "SUITE",
          "SUITE",
          "SUITE",
          "SUITE",
          "SUITE",
          "SUITE",
          "SUITE",
          "SUITE",
          "SUITE",
          "SUITE",
          "SUITE",
          "SUITE",
          "SUITE",
          "SUITE",
          "SUITE",
          "SUITE",
          "SUITE",
          "SUITE",
          "SUITE",
          "SUITE",
          "SUITE",
          "SUITE",
          "SUITE",
          "SUITE",
          "SUITE",
          "SUITE",
          "SUITE",
          "SUITE",
          "SUITE",
          "SUITE",
          "SUITE",
          "SUITE",
          "SUITE",
          "SUITE",
          "SUITE",
          "SUITE",
          "SUITE",
          "SUITE",
          "SUITE",
          "SUITE",
          "SUITE",
          "SUITE",
          "SUITE",
          "SUITE",
          "SUITE",
          "SUITE",
          "SUITE",
          "SUITE",
          "SUITE",
          "SUITE",
          "SUITE",
          "SUITE",
          "SUITE",
          "SUITE",
          "SUITE",
          "SUITE",
          "SUITE",
          "SUITE",
          "SUITE",
          "SUITE",
          "SUITE",
          "SUITE",
          "SUITE",
          "SUITE",
          "SUITE",
          "SUITE",
          "SUITE",
          "SUITE",
          "SUITE",
          "SUITE",
          "SUITE",
          "SUITE",
          "SUITE",
          "SUITE",
          "SUITE",
          "SUITE",
          "SUITE",
          "SUITE",
          "SUITE",
          "SUITE",
          "SUITE",
          "SUITE",
          "SUITE",
          "SUITE",
          "SUITE",
          "SUITE",
          "SUITE",
          "SUITE",
          "SUITE",
          "SUITE",
          "SUITE",
          "SUITE",
          "SUITE",
          "SUITE",
          "SUITE",
          "SUITE",
          "SUITE",
          "SUITE",
          "SUITE",
          "SUITE",
          "SUITE",
          "SUITE",
          "SUITE",
          "SUITE",
          "SUITE",
          "SUITE",
          "SUITE",
          "SUITE",
          "SUITE",
          "SUITE",
          "SUITE",
          "SUITE",
          "SUITE",
          "SUITE",
          "SUITE",
          "SUITE",
          "SUITE",
          "SUITE",
          "SUITE",
          "SUITE",
          "SUITE",
          "SUITE",
          "SUITE",
          "SUITE",
          "SUITE",
          "SUITE",
          "SUITE",
          "SUITE",
          "SUITE",
          "SUITE",
          "SUITE",
          "SUITE",
          "SUITE",
          "SUITE",
          "SUITE",
          "SUITE",
          "SUITE",
          "SUITE",
          "SUITE",
          "SUITE",
          "SUITE",
          "SUITE",
          "SUITE",
          "SUITE",
          "SUITE",
          "SUITE",
          "SUITE",
          "SUITE",
          "SUITE",
          "SUITE",
          "SUITE",
          "SUITE",
          "SUITE",
          "SUITE",
          "SUITE",
          "SUITE",
          "SUITE",
          "SUITE",
          "SUITE",
          "SUITE",
          "SUITE",
          "SUITE",
          "SUITE",
          "SUITE",
          "SUITE",
          "SUITE",
          "SUITE",
          "SUITE",
          "SUITE",
          "SUITE",
          "SUITE",
          "SUITE",
          "SUITE",
          "SUITE",
          "SUITE",
          "SUITE",
          "SUITE",
          "SUITE",
          "SUITE",
          "SUITE",
          "SUITE",
          "SUITE",
          "SUITE",
          "SUITE",
          "SUITE",
          "SUITE",
          "SUITE",
          "SUITE",
          "SUITE",
          "SUITE",
          "SUITE",
          "SUITE",
          "SUITE",
          "SUITE",
          "SUITE",
          "SUITE",
          "SUITE",
          "SUITE",
          "SUITE",
          "SUITE",
          "SUITE",
          "SUITE",
          "SUITE",
          "SUITE",
          "SUITE",
          "SUITE",
          "SUITE",
          "SUITE",
          "SUITE",
          "SUITE",
          "SUITE",
          "SUITE",
          "SUITE",
          "SUITE",
          "SUITE",
          "SUITE",
          "SUITE",
          "SUITE",
          "SUITE",
          "SUITE",
          "SUITE",
          "SUITE",
          "SUITE",
          "SUITE",
          "SUITE",
          "SUITE",
          "SUITE",
          "SUITE",
          "SUITE",
          "SUITE",
          "SUITE",
          "SUITE",
          "SUITE",
          "SUITE",
          "SUITE",
          "SUITE",
          "SUITE",
          "SUITE",
          "SUITE",
          "SUITE",
          "SUITE",
          "SUITE",
          "SUITE",
          "SUITE",
          "SUITE",
          "SUITE",
          "SUITE",
          "SUITE",
          "SUITE",
          "SUITE",
          "SUITE",
          "SUITE",
          "SUITE",
          "SUITE",
          "SUITE",
          "SUITE",
          "SUITE",
          "SUITE",
          "SUITE",
          "SUITE",
          "SUITE",
          "SUITE",
          "SUITE",
          "SUITE",
          "SUITE",
          "SUITE",
          "SUITE",
          "SUITE",
          "SUITE",
          "SUITE",
          "SUITE",
          "SUITE",
          "SUITE",
          "SUITE",
          "SUITE",
          "SUITE",
          "SUITE",
          "SUITE",
          "SUITE",
          "SUITE",
          "SUITE",
          "SUITE",
          "SUITE",
          "SUITE",
          "SUITE",
          "SUITE",
          "SUITE",
          "SUITE",
          "SUITE",
          "SUITE",
          "SUITE",
          "SUITE",
          "SUITE",
          "SUITE",
          "SUITE",
          "SUITE",
          "SUITE",
          "SUITE",
          "SUITE",
          "SUITE",
          "SUITE",
          "SUITE",
          "SUITE",
          "SUITE",
          "SUITE",
          "SUITE",
          "SUITE",
          "SUITE",
          "SUITE",
          "SUITE",
          "SUITE",
          "SUITE",
          "SUITE",
          "SUITE",
          "SUITE",
          "SUITE",
          "SUITE",
          "SUITE",
          "SUITE",
          "SUITE",
          "SUITE",
          "SUITE",
          "SUITE",
          "SUITE",
          "SUITE",
          "SUITE",
          "SUITE",
          "SUITE",
          "SUITE",
          "SUITE",
          "SUITE",
          "SUITE",
          "SUITE",
          "SUITE",
          "SUITE",
          "SUITE",
          "SUITE",
          "SUITE",
          "SUITE",
          "SUITE",
          "SUITE",
          "SUITE",
          "SUITE",
          "SUITE",
          "SUITE",
          "SUITE",
          "SUITE",
          "SUITE",
          "SUITE",
          "SUITE",
          "SUITE",
          "SUITE",
          "SUITE",
          "SUITE",
          "SUITE",
          "SUITE",
          "SUITE",
          "SUITE",
          "SUITE",
          "SUITE",
          "SUITE",
          "SUITE",
          "SUITE",
          "SUITE",
          "SUITE",
          "SUITE",
          "SUITE",
          "SUITE",
          "SUITE",
          "SUITE",
          "SUITE",
          "SUITE",
          "SUITE",
          "SUITE",
          "SUITE",
          "SUITE",
          "SUITE",
          "SUITE",
          "SUITE",
          "SUITE",
          "SUITE",
          "SUITE",
          "SUITE",
          "SUITE",
          "SUITE",
          "SUITE",
          "SUITE",
          "SUITE",
          "SUITE",
          "SUITE",
          "SUITE",
          "SUITE",
          "SUITE",
          "SUITE",
          "SUITE",
          "SUITE",
          "SUITE",
          "SUITE",
          "SUITE",
          "SUITE",
          "SUITE",
          "SUITE",
          "SUITE",
          "SUITE",
          "SUITE",
          "SUITE",
          "SUITE",
          "SUITE",
          "SUITE",
          "SUITE",
          "SUITE",
          "SUITE",
          "SUITE",
          "SUITE",
          "SUITE",
          "SUITE",
          "SUITE",
          "SUITE",
          "SUITE",
          "SUITE",
          "SUITE",
          "SUITE",
          "SUITE",
          "SUITE",
          "SUITE",
          "SUITE",
          "SUITE",
          "SUITE",
          "SUITE",
          "SUITE",
          "SUITE",
          "SUITE",
          "SUITE",
          "SUITE",
          "SUITE",
          "SUITE",
          "SUITE",
          "SUITE",
          "SUITE",
          "SUITE",
          "SUITE",
          "SUITE",
          "SUITE",
          "SUITE",
          "SUITE",
          "SUITE",
          "SUITE",
          "SUITE",
          "SUITE",
          "SUITE",
          "SUITE",
          "SUITE",
          "SUITE",
          "SUITE",
          "SUITE",
          "SUITE",
          "SUITE",
          "SUITE",
          "SUITE",
          "SUITE",
          "SUITE",
          "SUITE",
          "SUITE",
          "SUITE",
          "SUITE",
          "SUITE",
          "SUITE",
          "SUITE",
          "SUITE",
          "SUITE",
          "SUITE",
          "SUITE",
          "SUITE",
          "SUITE",
          "SUITE",
          "SUITE",
          "SUITE",
          "SUITE",
          "SUITE",
          "SUITE",
          "SUITE",
          "SUITE",
          "SUITE",
          "SUITE",
          "SUITE",
          "SUITE",
          "SUITE",
          "SUITE",
          "SUITE"
         ],
         "xaxis": "x",
         "yaxis": "y"
        }
       ],
       "layout": {
        "autosize": true,
        "barmode": "group",
        "legend": {
         "title": {
          "text": "Data"
         },
         "tracegroupgap": 0
        },
        "margin": {
         "t": 60
        },
        "plot_bgcolor": "#F5F5F8",
        "template": {
         "data": {
          "bar": [
           {
            "error_x": {
             "color": "#2a3f5f"
            },
            "error_y": {
             "color": "#2a3f5f"
            },
            "marker": {
             "line": {
              "color": "#E5ECF6",
              "width": 0.5
             },
             "pattern": {
              "fillmode": "overlay",
              "size": 10,
              "solidity": 0.2
             }
            },
            "type": "bar"
           }
          ],
          "barpolar": [
           {
            "marker": {
             "line": {
              "color": "#E5ECF6",
              "width": 0.5
             },
             "pattern": {
              "fillmode": "overlay",
              "size": 10,
              "solidity": 0.2
             }
            },
            "type": "barpolar"
           }
          ],
          "carpet": [
           {
            "aaxis": {
             "endlinecolor": "#2a3f5f",
             "gridcolor": "white",
             "linecolor": "white",
             "minorgridcolor": "white",
             "startlinecolor": "#2a3f5f"
            },
            "baxis": {
             "endlinecolor": "#2a3f5f",
             "gridcolor": "white",
             "linecolor": "white",
             "minorgridcolor": "white",
             "startlinecolor": "#2a3f5f"
            },
            "type": "carpet"
           }
          ],
          "choropleth": [
           {
            "colorbar": {
             "outlinewidth": 0,
             "ticks": ""
            },
            "type": "choropleth"
           }
          ],
          "contour": [
           {
            "colorbar": {
             "outlinewidth": 0,
             "ticks": ""
            },
            "colorscale": [
             [
              0,
              "#0d0887"
             ],
             [
              0.1111111111111111,
              "#46039f"
             ],
             [
              0.2222222222222222,
              "#7201a8"
             ],
             [
              0.3333333333333333,
              "#9c179e"
             ],
             [
              0.4444444444444444,
              "#bd3786"
             ],
             [
              0.5555555555555556,
              "#d8576b"
             ],
             [
              0.6666666666666666,
              "#ed7953"
             ],
             [
              0.7777777777777778,
              "#fb9f3a"
             ],
             [
              0.8888888888888888,
              "#fdca26"
             ],
             [
              1,
              "#f0f921"
             ]
            ],
            "type": "contour"
           }
          ],
          "contourcarpet": [
           {
            "colorbar": {
             "outlinewidth": 0,
             "ticks": ""
            },
            "type": "contourcarpet"
           }
          ],
          "heatmap": [
           {
            "colorbar": {
             "outlinewidth": 0,
             "ticks": ""
            },
            "colorscale": [
             [
              0,
              "#0d0887"
             ],
             [
              0.1111111111111111,
              "#46039f"
             ],
             [
              0.2222222222222222,
              "#7201a8"
             ],
             [
              0.3333333333333333,
              "#9c179e"
             ],
             [
              0.4444444444444444,
              "#bd3786"
             ],
             [
              0.5555555555555556,
              "#d8576b"
             ],
             [
              0.6666666666666666,
              "#ed7953"
             ],
             [
              0.7777777777777778,
              "#fb9f3a"
             ],
             [
              0.8888888888888888,
              "#fdca26"
             ],
             [
              1,
              "#f0f921"
             ]
            ],
            "type": "heatmap"
           }
          ],
          "heatmapgl": [
           {
            "colorbar": {
             "outlinewidth": 0,
             "ticks": ""
            },
            "colorscale": [
             [
              0,
              "#0d0887"
             ],
             [
              0.1111111111111111,
              "#46039f"
             ],
             [
              0.2222222222222222,
              "#7201a8"
             ],
             [
              0.3333333333333333,
              "#9c179e"
             ],
             [
              0.4444444444444444,
              "#bd3786"
             ],
             [
              0.5555555555555556,
              "#d8576b"
             ],
             [
              0.6666666666666666,
              "#ed7953"
             ],
             [
              0.7777777777777778,
              "#fb9f3a"
             ],
             [
              0.8888888888888888,
              "#fdca26"
             ],
             [
              1,
              "#f0f921"
             ]
            ],
            "type": "heatmapgl"
           }
          ],
          "histogram": [
           {
            "marker": {
             "pattern": {
              "fillmode": "overlay",
              "size": 10,
              "solidity": 0.2
             }
            },
            "type": "histogram"
           }
          ],
          "histogram2d": [
           {
            "colorbar": {
             "outlinewidth": 0,
             "ticks": ""
            },
            "colorscale": [
             [
              0,
              "#0d0887"
             ],
             [
              0.1111111111111111,
              "#46039f"
             ],
             [
              0.2222222222222222,
              "#7201a8"
             ],
             [
              0.3333333333333333,
              "#9c179e"
             ],
             [
              0.4444444444444444,
              "#bd3786"
             ],
             [
              0.5555555555555556,
              "#d8576b"
             ],
             [
              0.6666666666666666,
              "#ed7953"
             ],
             [
              0.7777777777777778,
              "#fb9f3a"
             ],
             [
              0.8888888888888888,
              "#fdca26"
             ],
             [
              1,
              "#f0f921"
             ]
            ],
            "type": "histogram2d"
           }
          ],
          "histogram2dcontour": [
           {
            "colorbar": {
             "outlinewidth": 0,
             "ticks": ""
            },
            "colorscale": [
             [
              0,
              "#0d0887"
             ],
             [
              0.1111111111111111,
              "#46039f"
             ],
             [
              0.2222222222222222,
              "#7201a8"
             ],
             [
              0.3333333333333333,
              "#9c179e"
             ],
             [
              0.4444444444444444,
              "#bd3786"
             ],
             [
              0.5555555555555556,
              "#d8576b"
             ],
             [
              0.6666666666666666,
              "#ed7953"
             ],
             [
              0.7777777777777778,
              "#fb9f3a"
             ],
             [
              0.8888888888888888,
              "#fdca26"
             ],
             [
              1,
              "#f0f921"
             ]
            ],
            "type": "histogram2dcontour"
           }
          ],
          "mesh3d": [
           {
            "colorbar": {
             "outlinewidth": 0,
             "ticks": ""
            },
            "type": "mesh3d"
           }
          ],
          "parcoords": [
           {
            "line": {
             "colorbar": {
              "outlinewidth": 0,
              "ticks": ""
             }
            },
            "type": "parcoords"
           }
          ],
          "pie": [
           {
            "automargin": true,
            "type": "pie"
           }
          ],
          "scatter": [
           {
            "fillpattern": {
             "fillmode": "overlay",
             "size": 10,
             "solidity": 0.2
            },
            "type": "scatter"
           }
          ],
          "scatter3d": [
           {
            "line": {
             "colorbar": {
              "outlinewidth": 0,
              "ticks": ""
             }
            },
            "marker": {
             "colorbar": {
              "outlinewidth": 0,
              "ticks": ""
             }
            },
            "type": "scatter3d"
           }
          ],
          "scattercarpet": [
           {
            "marker": {
             "colorbar": {
              "outlinewidth": 0,
              "ticks": ""
             }
            },
            "type": "scattercarpet"
           }
          ],
          "scattergeo": [
           {
            "marker": {
             "colorbar": {
              "outlinewidth": 0,
              "ticks": ""
             }
            },
            "type": "scattergeo"
           }
          ],
          "scattergl": [
           {
            "marker": {
             "colorbar": {
              "outlinewidth": 0,
              "ticks": ""
             }
            },
            "type": "scattergl"
           }
          ],
          "scattermapbox": [
           {
            "marker": {
             "colorbar": {
              "outlinewidth": 0,
              "ticks": ""
             }
            },
            "type": "scattermapbox"
           }
          ],
          "scatterpolar": [
           {
            "marker": {
             "colorbar": {
              "outlinewidth": 0,
              "ticks": ""
             }
            },
            "type": "scatterpolar"
           }
          ],
          "scatterpolargl": [
           {
            "marker": {
             "colorbar": {
              "outlinewidth": 0,
              "ticks": ""
             }
            },
            "type": "scatterpolargl"
           }
          ],
          "scatterternary": [
           {
            "marker": {
             "colorbar": {
              "outlinewidth": 0,
              "ticks": ""
             }
            },
            "type": "scatterternary"
           }
          ],
          "surface": [
           {
            "colorbar": {
             "outlinewidth": 0,
             "ticks": ""
            },
            "colorscale": [
             [
              0,
              "#0d0887"
             ],
             [
              0.1111111111111111,
              "#46039f"
             ],
             [
              0.2222222222222222,
              "#7201a8"
             ],
             [
              0.3333333333333333,
              "#9c179e"
             ],
             [
              0.4444444444444444,
              "#bd3786"
             ],
             [
              0.5555555555555556,
              "#d8576b"
             ],
             [
              0.6666666666666666,
              "#ed7953"
             ],
             [
              0.7777777777777778,
              "#fb9f3a"
             ],
             [
              0.8888888888888888,
              "#fdca26"
             ],
             [
              1,
              "#f0f921"
             ]
            ],
            "type": "surface"
           }
          ],
          "table": [
           {
            "cells": {
             "fill": {
              "color": "#EBF0F8"
             },
             "line": {
              "color": "white"
             }
            },
            "header": {
             "fill": {
              "color": "#C8D4E3"
             },
             "line": {
              "color": "white"
             }
            },
            "type": "table"
           }
          ]
         },
         "layout": {
          "annotationdefaults": {
           "arrowcolor": "#2a3f5f",
           "arrowhead": 0,
           "arrowwidth": 1
          },
          "autotypenumbers": "strict",
          "coloraxis": {
           "colorbar": {
            "outlinewidth": 0,
            "ticks": ""
           }
          },
          "colorscale": {
           "diverging": [
            [
             0,
             "#8e0152"
            ],
            [
             0.1,
             "#c51b7d"
            ],
            [
             0.2,
             "#de77ae"
            ],
            [
             0.3,
             "#f1b6da"
            ],
            [
             0.4,
             "#fde0ef"
            ],
            [
             0.5,
             "#f7f7f7"
            ],
            [
             0.6,
             "#e6f5d0"
            ],
            [
             0.7,
             "#b8e186"
            ],
            [
             0.8,
             "#7fbc41"
            ],
            [
             0.9,
             "#4d9221"
            ],
            [
             1,
             "#276419"
            ]
           ],
           "sequential": [
            [
             0,
             "#0d0887"
            ],
            [
             0.1111111111111111,
             "#46039f"
            ],
            [
             0.2222222222222222,
             "#7201a8"
            ],
            [
             0.3333333333333333,
             "#9c179e"
            ],
            [
             0.4444444444444444,
             "#bd3786"
            ],
            [
             0.5555555555555556,
             "#d8576b"
            ],
            [
             0.6666666666666666,
             "#ed7953"
            ],
            [
             0.7777777777777778,
             "#fb9f3a"
            ],
            [
             0.8888888888888888,
             "#fdca26"
            ],
            [
             1,
             "#f0f921"
            ]
           ],
           "sequentialminus": [
            [
             0,
             "#0d0887"
            ],
            [
             0.1111111111111111,
             "#46039f"
            ],
            [
             0.2222222222222222,
             "#7201a8"
            ],
            [
             0.3333333333333333,
             "#9c179e"
            ],
            [
             0.4444444444444444,
             "#bd3786"
            ],
            [
             0.5555555555555556,
             "#d8576b"
            ],
            [
             0.6666666666666666,
             "#ed7953"
            ],
            [
             0.7777777777777778,
             "#fb9f3a"
            ],
            [
             0.8888888888888888,
             "#fdca26"
            ],
            [
             1,
             "#f0f921"
            ]
           ]
          },
          "colorway": [
           "#636efa",
           "#EF553B",
           "#00cc96",
           "#ab63fa",
           "#FFA15A",
           "#19d3f3",
           "#FF6692",
           "#B6E880",
           "#FF97FF",
           "#FECB52"
          ],
          "font": {
           "color": "#2a3f5f"
          },
          "geo": {
           "bgcolor": "white",
           "lakecolor": "white",
           "landcolor": "#E5ECF6",
           "showlakes": true,
           "showland": true,
           "subunitcolor": "white"
          },
          "hoverlabel": {
           "align": "left"
          },
          "hovermode": "closest",
          "mapbox": {
           "style": "light"
          },
          "paper_bgcolor": "white",
          "plot_bgcolor": "#E5ECF6",
          "polar": {
           "angularaxis": {
            "gridcolor": "white",
            "linecolor": "white",
            "ticks": ""
           },
           "bgcolor": "#E5ECF6",
           "radialaxis": {
            "gridcolor": "white",
            "linecolor": "white",
            "ticks": ""
           }
          },
          "scene": {
           "xaxis": {
            "backgroundcolor": "#E5ECF6",
            "gridcolor": "white",
            "gridwidth": 2,
            "linecolor": "white",
            "showbackground": true,
            "ticks": "",
            "zerolinecolor": "white"
           },
           "yaxis": {
            "backgroundcolor": "#E5ECF6",
            "gridcolor": "white",
            "gridwidth": 2,
            "linecolor": "white",
            "showbackground": true,
            "ticks": "",
            "zerolinecolor": "white"
           },
           "zaxis": {
            "backgroundcolor": "#E5ECF6",
            "gridcolor": "white",
            "gridwidth": 2,
            "linecolor": "white",
            "showbackground": true,
            "ticks": "",
            "zerolinecolor": "white"
           }
          },
          "shapedefaults": {
           "line": {
            "color": "#2a3f5f"
           }
          },
          "ternary": {
           "aaxis": {
            "gridcolor": "white",
            "linecolor": "white",
            "ticks": ""
           },
           "baxis": {
            "gridcolor": "white",
            "linecolor": "white",
            "ticks": ""
           },
           "bgcolor": "#E5ECF6",
           "caxis": {
            "gridcolor": "white",
            "linecolor": "white",
            "ticks": ""
           }
          },
          "title": {
           "x": 0.05
          },
          "xaxis": {
           "automargin": true,
           "gridcolor": "white",
           "linecolor": "white",
           "ticks": "",
           "title": {
            "standoff": 15
           },
           "zerolinecolor": "white",
           "zerolinewidth": 2
          },
          "yaxis": {
           "automargin": true,
           "gridcolor": "white",
           "linecolor": "white",
           "ticks": "",
           "title": {
            "standoff": 15
           },
           "zerolinecolor": "white",
           "zerolinewidth": 2
          }
         }
        },
        "title": {
         "text": "using synthetic data to simualte room_type scenario"
        },
        "xaxis": {
         "anchor": "y",
         "autorange": true,
         "domain": [
          0,
          1
         ],
         "range": [
          -0.5,
          2.5
         ],
         "title": {
          "text": "Category"
         },
         "type": "category"
        },
        "yaxis": {
         "anchor": "x",
         "autorange": true,
         "domain": [
          0,
          1
         ],
         "range": [
          0,
          1.0526315789473684
         ],
         "title": {
          "text": "Frequency"
         }
        }
       }
      },
      "text/html": [
       "<div>                            <div id=\"5cd87030-9227-4701-877a-6e69303df0a1\" class=\"plotly-graph-div\" style=\"height:525px; width:100%;\"></div>            <script type=\"text/javascript\">                require([\"plotly\"], function(Plotly) {                    window.PLOTLYENV=window.PLOTLYENV || {};                                    if (document.getElementById(\"5cd87030-9227-4701-877a-6e69303df0a1\")) {                    Plotly.newPlot(                        \"5cd87030-9227-4701-877a-6e69303df0a1\",                        [{\"alignmentgroup\":\"True\",\"bingroup\":\"x\",\"histnorm\":\"probability density\",\"hovertemplate\":\"\\u003cb\\u003eReal\\u003c\\u002fb\\u003e\\u003cbr\\u003eFrequency: %{y}\\u003cextra\\u003e\\u003c\\u002fextra\\u003e\",\"legendgroup\":\"Real\",\"marker\":{\"color\":\"#000036\",\"pattern\":{\"shape\":\"\"}},\"name\":\"Real\",\"offsetgroup\":\"Real\",\"orientation\":\"v\",\"showlegend\":true,\"x\":[\"BASIC\",\"BASIC\",\"DELUXE\",\"BASIC\",\"BASIC\",\"BASIC\",\"BASIC\",\"BASIC\",\"BASIC\",\"BASIC\",\"BASIC\",\"BASIC\",\"BASIC\",\"BASIC\",\"BASIC\",\"BASIC\",\"DELUXE\",\"BASIC\",\"DELUXE\",\"BASIC\",\"BASIC\",\"BASIC\",\"BASIC\",\"BASIC\",\"BASIC\",\"BASIC\",\"BASIC\",\"BASIC\",\"BASIC\",\"BASIC\",\"DELUXE\",\"BASIC\",\"BASIC\",\"BASIC\",\"BASIC\",\"BASIC\",\"BASIC\",\"BASIC\",\"BASIC\",\"BASIC\",\"SUITE\",\"BASIC\",\"DELUXE\",\"BASIC\",\"BASIC\",\"BASIC\",\"BASIC\",\"BASIC\",\"BASIC\",\"SUITE\",\"DELUXE\",\"BASIC\",\"BASIC\",\"DELUXE\",\"BASIC\",\"BASIC\",\"BASIC\",\"BASIC\",\"SUITE\",\"SUITE\",\"DELUXE\",\"BASIC\",\"BASIC\",\"BASIC\",\"BASIC\",\"BASIC\",\"BASIC\",\"BASIC\",\"SUITE\",\"BASIC\",\"BASIC\",\"BASIC\",\"BASIC\",\"BASIC\",\"DELUXE\",\"BASIC\",\"BASIC\",\"BASIC\",\"BASIC\",\"BASIC\",\"BASIC\",\"BASIC\",\"BASIC\",\"BASIC\",\"BASIC\",\"BASIC\",\"BASIC\",\"BASIC\",\"SUITE\",\"BASIC\",\"BASIC\",\"BASIC\",\"BASIC\",\"BASIC\",\"BASIC\",\"BASIC\",\"BASIC\",\"BASIC\",\"BASIC\",\"DELUXE\",\"BASIC\",\"BASIC\",\"DELUXE\",\"BASIC\",\"BASIC\",\"BASIC\",\"BASIC\",\"DELUXE\",\"BASIC\",\"BASIC\",\"BASIC\",\"DELUXE\",\"BASIC\",\"BASIC\",\"DELUXE\",\"DELUXE\",\"BASIC\",\"BASIC\",\"BASIC\",\"BASIC\",\"DELUXE\",\"DELUXE\",\"BASIC\",\"BASIC\",\"BASIC\",\"BASIC\",\"BASIC\",\"BASIC\",\"BASIC\",\"BASIC\",\"BASIC\",\"BASIC\",\"BASIC\",\"BASIC\",\"BASIC\",\"BASIC\",\"DELUXE\",\"SUITE\",\"BASIC\",\"BASIC\",\"BASIC\",\"BASIC\",\"SUITE\",\"BASIC\",\"SUITE\",\"BASIC\",\"BASIC\",\"BASIC\",\"BASIC\",\"SUITE\",\"BASIC\",\"BASIC\",\"BASIC\",\"BASIC\",\"BASIC\",\"BASIC\",\"BASIC\",\"BASIC\",\"BASIC\",\"BASIC\",\"DELUXE\",\"BASIC\",\"BASIC\",\"BASIC\",\"BASIC\",\"SUITE\",\"DELUXE\",\"BASIC\",\"BASIC\",\"BASIC\",\"BASIC\",\"BASIC\",\"BASIC\",\"BASIC\",\"BASIC\",\"BASIC\",\"BASIC\",\"BASIC\",\"DELUXE\",\"SUITE\",\"BASIC\",\"BASIC\",\"BASIC\",\"SUITE\",\"BASIC\",\"DELUXE\",\"BASIC\",\"BASIC\",\"BASIC\",\"BASIC\",\"DELUXE\",\"BASIC\",\"BASIC\",\"BASIC\",\"BASIC\",\"BASIC\",\"SUITE\",\"BASIC\",\"DELUXE\",\"BASIC\",\"BASIC\",\"BASIC\",\"BASIC\",\"BASIC\",\"BASIC\",\"BASIC\",\"DELUXE\",\"BASIC\",\"DELUXE\",\"DELUXE\",\"DELUXE\",\"DELUXE\",\"BASIC\",\"BASIC\",\"BASIC\",\"DELUXE\",\"SUITE\",\"BASIC\",\"BASIC\",\"SUITE\",\"DELUXE\",\"BASIC\",\"BASIC\",\"DELUXE\",\"BASIC\",\"BASIC\",\"BASIC\",\"BASIC\",\"DELUXE\",\"BASIC\",\"BASIC\",\"BASIC\",\"BASIC\",\"BASIC\",\"BASIC\",\"BASIC\",\"SUITE\",\"BASIC\",\"BASIC\",\"DELUXE\",\"BASIC\",\"BASIC\",\"BASIC\",\"BASIC\",\"BASIC\",\"BASIC\",\"SUITE\",\"BASIC\",\"BASIC\",\"BASIC\",\"BASIC\",\"DELUXE\",\"BASIC\",\"BASIC\",\"BASIC\",\"BASIC\",\"BASIC\",\"BASIC\",\"BASIC\",\"BASIC\",\"BASIC\",\"BASIC\",\"BASIC\",\"BASIC\",\"BASIC\",\"BASIC\",\"DELUXE\",\"SUITE\",\"BASIC\",\"BASIC\",\"BASIC\",\"BASIC\",\"BASIC\",\"BASIC\",\"BASIC\",\"DELUXE\",\"BASIC\",\"SUITE\",\"SUITE\",\"DELUXE\",\"BASIC\",\"BASIC\",\"DELUXE\",\"SUITE\",\"DELUXE\",\"BASIC\",\"BASIC\",\"BASIC\",\"BASIC\",\"BASIC\",\"DELUXE\",\"DELUXE\",\"BASIC\",\"BASIC\",\"BASIC\",\"BASIC\",\"BASIC\",\"DELUXE\",\"BASIC\",\"DELUXE\",\"BASIC\",\"BASIC\",\"BASIC\",\"BASIC\",\"DELUXE\",\"BASIC\",\"BASIC\",\"BASIC\",\"BASIC\",\"DELUXE\",\"DELUXE\",\"BASIC\",\"SUITE\",\"BASIC\",\"BASIC\",\"BASIC\",\"BASIC\",\"SUITE\",\"BASIC\",\"BASIC\",\"BASIC\",\"BASIC\",\"DELUXE\",\"BASIC\",\"BASIC\",\"BASIC\",\"BASIC\",\"BASIC\",\"BASIC\",\"BASIC\",\"BASIC\",\"BASIC\",\"BASIC\",\"BASIC\",\"BASIC\",\"SUITE\",\"BASIC\",\"BASIC\",\"BASIC\",\"BASIC\",\"BASIC\",\"BASIC\",\"BASIC\",\"BASIC\",\"DELUXE\",\"BASIC\",\"BASIC\",\"DELUXE\",\"BASIC\",\"DELUXE\",\"BASIC\",\"BASIC\",\"DELUXE\",\"DELUXE\",\"DELUXE\",\"SUITE\",\"BASIC\",\"BASIC\",\"DELUXE\",\"BASIC\",\"BASIC\",\"BASIC\",\"BASIC\",\"BASIC\",\"BASIC\",\"BASIC\",\"BASIC\",\"BASIC\",\"BASIC\",\"BASIC\",\"BASIC\",\"BASIC\",\"DELUXE\",\"DELUXE\",\"BASIC\",\"BASIC\",\"BASIC\",\"BASIC\",\"BASIC\",\"DELUXE\",\"BASIC\",\"BASIC\",\"BASIC\",\"SUITE\",\"BASIC\",\"BASIC\",\"BASIC\",\"BASIC\",\"BASIC\",\"DELUXE\",\"BASIC\",\"BASIC\",\"BASIC\",\"BASIC\",\"BASIC\",\"BASIC\",\"DELUXE\",\"BASIC\",\"BASIC\",\"BASIC\",\"BASIC\",\"BASIC\",\"DELUXE\",\"BASIC\",\"BASIC\",\"BASIC\",\"BASIC\",\"DELUXE\",\"DELUXE\",\"DELUXE\",\"BASIC\",\"BASIC\",\"BASIC\",\"BASIC\",\"BASIC\",\"BASIC\",\"BASIC\",\"DELUXE\",\"BASIC\",\"DELUXE\",\"BASIC\",\"SUITE\",\"DELUXE\",\"SUITE\",\"BASIC\",\"BASIC\",\"SUITE\",\"DELUXE\",\"BASIC\",\"SUITE\",\"BASIC\",\"BASIC\",\"BASIC\",\"DELUXE\",\"BASIC\",\"BASIC\",\"SUITE\",\"DELUXE\",\"BASIC\",\"BASIC\",\"BASIC\",\"SUITE\",\"BASIC\",\"DELUXE\",\"BASIC\",\"BASIC\",\"BASIC\",\"BASIC\",\"BASIC\",\"BASIC\",\"BASIC\",\"BASIC\",\"BASIC\",\"SUITE\",\"BASIC\",\"BASIC\",\"BASIC\",\"BASIC\",\"BASIC\",\"DELUXE\",\"BASIC\",\"DELUXE\",\"BASIC\",\"DELUXE\",\"BASIC\",\"DELUXE\",\"SUITE\",\"BASIC\",\"BASIC\",\"BASIC\",\"BASIC\",\"BASIC\",\"BASIC\",\"DELUXE\",\"BASIC\",\"SUITE\",\"BASIC\",\"BASIC\",\"SUITE\",\"SUITE\",\"BASIC\",\"BASIC\",\"BASIC\",\"BASIC\",\"BASIC\",\"BASIC\",\"BASIC\",\"DELUXE\",\"BASIC\",\"BASIC\",\"BASIC\",\"BASIC\",\"DELUXE\",\"BASIC\",\"BASIC\",\"BASIC\",\"BASIC\",\"BASIC\",\"BASIC\",\"BASIC\"],\"xaxis\":\"x\",\"yaxis\":\"y\",\"type\":\"histogram\"},{\"alignmentgroup\":\"True\",\"bingroup\":\"x\",\"histnorm\":\"probability density\",\"hovertemplate\":\"\\u003cb\\u003eSynthetic\\u003c\\u002fb\\u003e\\u003cbr\\u003eFrequency: %{y}\\u003cextra\\u003e\\u003c\\u002fextra\\u003e\",\"legendgroup\":\"Synthetic\",\"marker\":{\"color\":\"#01E0C9\",\"pattern\":{\"shape\":\"\\u002f\"}},\"name\":\"Synthetic\",\"offsetgroup\":\"Synthetic\",\"orientation\":\"v\",\"showlegend\":true,\"x\":[\"SUITE\",\"SUITE\",\"SUITE\",\"SUITE\",\"SUITE\",\"SUITE\",\"SUITE\",\"SUITE\",\"SUITE\",\"SUITE\",\"SUITE\",\"SUITE\",\"SUITE\",\"SUITE\",\"SUITE\",\"SUITE\",\"SUITE\",\"SUITE\",\"SUITE\",\"SUITE\",\"SUITE\",\"SUITE\",\"SUITE\",\"SUITE\",\"SUITE\",\"SUITE\",\"SUITE\",\"SUITE\",\"SUITE\",\"SUITE\",\"SUITE\",\"SUITE\",\"SUITE\",\"SUITE\",\"SUITE\",\"SUITE\",\"SUITE\",\"SUITE\",\"SUITE\",\"SUITE\",\"SUITE\",\"SUITE\",\"SUITE\",\"SUITE\",\"SUITE\",\"SUITE\",\"SUITE\",\"SUITE\",\"SUITE\",\"SUITE\",\"SUITE\",\"SUITE\",\"SUITE\",\"SUITE\",\"SUITE\",\"SUITE\",\"SUITE\",\"SUITE\",\"SUITE\",\"SUITE\",\"SUITE\",\"SUITE\",\"SUITE\",\"SUITE\",\"SUITE\",\"SUITE\",\"SUITE\",\"SUITE\",\"SUITE\",\"SUITE\",\"SUITE\",\"SUITE\",\"SUITE\",\"SUITE\",\"SUITE\",\"SUITE\",\"SUITE\",\"SUITE\",\"SUITE\",\"SUITE\",\"SUITE\",\"SUITE\",\"SUITE\",\"SUITE\",\"SUITE\",\"SUITE\",\"SUITE\",\"SUITE\",\"SUITE\",\"SUITE\",\"SUITE\",\"SUITE\",\"SUITE\",\"SUITE\",\"SUITE\",\"SUITE\",\"SUITE\",\"SUITE\",\"SUITE\",\"SUITE\",\"SUITE\",\"SUITE\",\"SUITE\",\"SUITE\",\"SUITE\",\"SUITE\",\"SUITE\",\"SUITE\",\"SUITE\",\"SUITE\",\"SUITE\",\"SUITE\",\"SUITE\",\"SUITE\",\"SUITE\",\"SUITE\",\"SUITE\",\"SUITE\",\"SUITE\",\"SUITE\",\"SUITE\",\"SUITE\",\"SUITE\",\"SUITE\",\"SUITE\",\"SUITE\",\"SUITE\",\"SUITE\",\"SUITE\",\"SUITE\",\"SUITE\",\"SUITE\",\"SUITE\",\"SUITE\",\"SUITE\",\"SUITE\",\"SUITE\",\"SUITE\",\"SUITE\",\"SUITE\",\"SUITE\",\"SUITE\",\"SUITE\",\"SUITE\",\"SUITE\",\"SUITE\",\"SUITE\",\"SUITE\",\"SUITE\",\"SUITE\",\"SUITE\",\"SUITE\",\"SUITE\",\"SUITE\",\"SUITE\",\"SUITE\",\"SUITE\",\"SUITE\",\"SUITE\",\"SUITE\",\"SUITE\",\"SUITE\",\"SUITE\",\"SUITE\",\"SUITE\",\"SUITE\",\"SUITE\",\"SUITE\",\"SUITE\",\"SUITE\",\"SUITE\",\"SUITE\",\"SUITE\",\"SUITE\",\"SUITE\",\"SUITE\",\"SUITE\",\"SUITE\",\"SUITE\",\"SUITE\",\"SUITE\",\"SUITE\",\"SUITE\",\"SUITE\",\"SUITE\",\"SUITE\",\"SUITE\",\"SUITE\",\"SUITE\",\"SUITE\",\"SUITE\",\"SUITE\",\"SUITE\",\"SUITE\",\"SUITE\",\"SUITE\",\"SUITE\",\"SUITE\",\"SUITE\",\"SUITE\",\"SUITE\",\"SUITE\",\"SUITE\",\"SUITE\",\"SUITE\",\"SUITE\",\"SUITE\",\"SUITE\",\"SUITE\",\"SUITE\",\"SUITE\",\"SUITE\",\"SUITE\",\"SUITE\",\"SUITE\",\"SUITE\",\"SUITE\",\"SUITE\",\"SUITE\",\"SUITE\",\"SUITE\",\"SUITE\",\"SUITE\",\"SUITE\",\"SUITE\",\"SUITE\",\"SUITE\",\"SUITE\",\"SUITE\",\"SUITE\",\"SUITE\",\"SUITE\",\"SUITE\",\"SUITE\",\"SUITE\",\"SUITE\",\"SUITE\",\"SUITE\",\"SUITE\",\"SUITE\",\"SUITE\",\"SUITE\",\"SUITE\",\"SUITE\",\"SUITE\",\"SUITE\",\"SUITE\",\"SUITE\",\"SUITE\",\"SUITE\",\"SUITE\",\"SUITE\",\"SUITE\",\"SUITE\",\"SUITE\",\"SUITE\",\"SUITE\",\"SUITE\",\"SUITE\",\"SUITE\",\"SUITE\",\"SUITE\",\"SUITE\",\"SUITE\",\"SUITE\",\"SUITE\",\"SUITE\",\"SUITE\",\"SUITE\",\"SUITE\",\"SUITE\",\"SUITE\",\"SUITE\",\"SUITE\",\"SUITE\",\"SUITE\",\"SUITE\",\"SUITE\",\"SUITE\",\"SUITE\",\"SUITE\",\"SUITE\",\"SUITE\",\"SUITE\",\"SUITE\",\"SUITE\",\"SUITE\",\"SUITE\",\"SUITE\",\"SUITE\",\"SUITE\",\"SUITE\",\"SUITE\",\"SUITE\",\"SUITE\",\"SUITE\",\"SUITE\",\"SUITE\",\"SUITE\",\"SUITE\",\"SUITE\",\"SUITE\",\"SUITE\",\"SUITE\",\"SUITE\",\"SUITE\",\"SUITE\",\"SUITE\",\"SUITE\",\"SUITE\",\"SUITE\",\"SUITE\",\"SUITE\",\"SUITE\",\"SUITE\",\"SUITE\",\"SUITE\",\"SUITE\",\"SUITE\",\"SUITE\",\"SUITE\",\"SUITE\",\"SUITE\",\"SUITE\",\"SUITE\",\"SUITE\",\"SUITE\",\"SUITE\",\"SUITE\",\"SUITE\",\"SUITE\",\"SUITE\",\"SUITE\",\"SUITE\",\"SUITE\",\"SUITE\",\"SUITE\",\"SUITE\",\"SUITE\",\"SUITE\",\"SUITE\",\"SUITE\",\"SUITE\",\"SUITE\",\"SUITE\",\"SUITE\",\"SUITE\",\"SUITE\",\"SUITE\",\"SUITE\",\"SUITE\",\"SUITE\",\"SUITE\",\"SUITE\",\"SUITE\",\"SUITE\",\"SUITE\",\"SUITE\",\"SUITE\",\"SUITE\",\"SUITE\",\"SUITE\",\"SUITE\",\"SUITE\",\"SUITE\",\"SUITE\",\"SUITE\",\"SUITE\",\"SUITE\",\"SUITE\",\"SUITE\",\"SUITE\",\"SUITE\",\"SUITE\",\"SUITE\",\"SUITE\",\"SUITE\",\"SUITE\",\"SUITE\",\"SUITE\",\"SUITE\",\"SUITE\",\"SUITE\",\"SUITE\",\"SUITE\",\"SUITE\",\"SUITE\",\"SUITE\",\"SUITE\",\"SUITE\",\"SUITE\",\"SUITE\",\"SUITE\",\"SUITE\",\"SUITE\",\"SUITE\",\"SUITE\",\"SUITE\",\"SUITE\",\"SUITE\",\"SUITE\",\"SUITE\",\"SUITE\",\"SUITE\",\"SUITE\",\"SUITE\",\"SUITE\",\"SUITE\",\"SUITE\",\"SUITE\",\"SUITE\",\"SUITE\",\"SUITE\",\"SUITE\",\"SUITE\",\"SUITE\",\"SUITE\",\"SUITE\",\"SUITE\",\"SUITE\",\"SUITE\",\"SUITE\",\"SUITE\",\"SUITE\",\"SUITE\",\"SUITE\",\"SUITE\",\"SUITE\",\"SUITE\",\"SUITE\",\"SUITE\",\"SUITE\",\"SUITE\",\"SUITE\",\"SUITE\",\"SUITE\",\"SUITE\",\"SUITE\",\"SUITE\",\"SUITE\",\"SUITE\",\"SUITE\",\"SUITE\",\"SUITE\",\"SUITE\",\"SUITE\",\"SUITE\",\"SUITE\",\"SUITE\",\"SUITE\",\"SUITE\",\"SUITE\",\"SUITE\",\"SUITE\",\"SUITE\",\"SUITE\",\"SUITE\",\"SUITE\",\"SUITE\",\"SUITE\",\"SUITE\",\"SUITE\",\"SUITE\",\"SUITE\",\"SUITE\",\"SUITE\",\"SUITE\",\"SUITE\",\"SUITE\",\"SUITE\",\"SUITE\",\"SUITE\",\"SUITE\",\"SUITE\",\"SUITE\",\"SUITE\",\"SUITE\",\"SUITE\",\"SUITE\",\"SUITE\",\"SUITE\",\"SUITE\",\"SUITE\",\"SUITE\",\"SUITE\",\"SUITE\",\"SUITE\",\"SUITE\",\"SUITE\",\"SUITE\",\"SUITE\",\"SUITE\",\"SUITE\",\"SUITE\",\"SUITE\",\"SUITE\",\"SUITE\",\"SUITE\",\"SUITE\",\"SUITE\"],\"xaxis\":\"x\",\"yaxis\":\"y\",\"type\":\"histogram\"}],                        {\"template\":{\"data\":{\"histogram2dcontour\":[{\"type\":\"histogram2dcontour\",\"colorbar\":{\"outlinewidth\":0,\"ticks\":\"\"},\"colorscale\":[[0.0,\"#0d0887\"],[0.1111111111111111,\"#46039f\"],[0.2222222222222222,\"#7201a8\"],[0.3333333333333333,\"#9c179e\"],[0.4444444444444444,\"#bd3786\"],[0.5555555555555556,\"#d8576b\"],[0.6666666666666666,\"#ed7953\"],[0.7777777777777778,\"#fb9f3a\"],[0.8888888888888888,\"#fdca26\"],[1.0,\"#f0f921\"]]}],\"choropleth\":[{\"type\":\"choropleth\",\"colorbar\":{\"outlinewidth\":0,\"ticks\":\"\"}}],\"histogram2d\":[{\"type\":\"histogram2d\",\"colorbar\":{\"outlinewidth\":0,\"ticks\":\"\"},\"colorscale\":[[0.0,\"#0d0887\"],[0.1111111111111111,\"#46039f\"],[0.2222222222222222,\"#7201a8\"],[0.3333333333333333,\"#9c179e\"],[0.4444444444444444,\"#bd3786\"],[0.5555555555555556,\"#d8576b\"],[0.6666666666666666,\"#ed7953\"],[0.7777777777777778,\"#fb9f3a\"],[0.8888888888888888,\"#fdca26\"],[1.0,\"#f0f921\"]]}],\"heatmap\":[{\"type\":\"heatmap\",\"colorbar\":{\"outlinewidth\":0,\"ticks\":\"\"},\"colorscale\":[[0.0,\"#0d0887\"],[0.1111111111111111,\"#46039f\"],[0.2222222222222222,\"#7201a8\"],[0.3333333333333333,\"#9c179e\"],[0.4444444444444444,\"#bd3786\"],[0.5555555555555556,\"#d8576b\"],[0.6666666666666666,\"#ed7953\"],[0.7777777777777778,\"#fb9f3a\"],[0.8888888888888888,\"#fdca26\"],[1.0,\"#f0f921\"]]}],\"heatmapgl\":[{\"type\":\"heatmapgl\",\"colorbar\":{\"outlinewidth\":0,\"ticks\":\"\"},\"colorscale\":[[0.0,\"#0d0887\"],[0.1111111111111111,\"#46039f\"],[0.2222222222222222,\"#7201a8\"],[0.3333333333333333,\"#9c179e\"],[0.4444444444444444,\"#bd3786\"],[0.5555555555555556,\"#d8576b\"],[0.6666666666666666,\"#ed7953\"],[0.7777777777777778,\"#fb9f3a\"],[0.8888888888888888,\"#fdca26\"],[1.0,\"#f0f921\"]]}],\"contourcarpet\":[{\"type\":\"contourcarpet\",\"colorbar\":{\"outlinewidth\":0,\"ticks\":\"\"}}],\"contour\":[{\"type\":\"contour\",\"colorbar\":{\"outlinewidth\":0,\"ticks\":\"\"},\"colorscale\":[[0.0,\"#0d0887\"],[0.1111111111111111,\"#46039f\"],[0.2222222222222222,\"#7201a8\"],[0.3333333333333333,\"#9c179e\"],[0.4444444444444444,\"#bd3786\"],[0.5555555555555556,\"#d8576b\"],[0.6666666666666666,\"#ed7953\"],[0.7777777777777778,\"#fb9f3a\"],[0.8888888888888888,\"#fdca26\"],[1.0,\"#f0f921\"]]}],\"surface\":[{\"type\":\"surface\",\"colorbar\":{\"outlinewidth\":0,\"ticks\":\"\"},\"colorscale\":[[0.0,\"#0d0887\"],[0.1111111111111111,\"#46039f\"],[0.2222222222222222,\"#7201a8\"],[0.3333333333333333,\"#9c179e\"],[0.4444444444444444,\"#bd3786\"],[0.5555555555555556,\"#d8576b\"],[0.6666666666666666,\"#ed7953\"],[0.7777777777777778,\"#fb9f3a\"],[0.8888888888888888,\"#fdca26\"],[1.0,\"#f0f921\"]]}],\"mesh3d\":[{\"type\":\"mesh3d\",\"colorbar\":{\"outlinewidth\":0,\"ticks\":\"\"}}],\"scatter\":[{\"fillpattern\":{\"fillmode\":\"overlay\",\"size\":10,\"solidity\":0.2},\"type\":\"scatter\"}],\"parcoords\":[{\"type\":\"parcoords\",\"line\":{\"colorbar\":{\"outlinewidth\":0,\"ticks\":\"\"}}}],\"scatterpolargl\":[{\"type\":\"scatterpolargl\",\"marker\":{\"colorbar\":{\"outlinewidth\":0,\"ticks\":\"\"}}}],\"bar\":[{\"error_x\":{\"color\":\"#2a3f5f\"},\"error_y\":{\"color\":\"#2a3f5f\"},\"marker\":{\"line\":{\"color\":\"#E5ECF6\",\"width\":0.5},\"pattern\":{\"fillmode\":\"overlay\",\"size\":10,\"solidity\":0.2}},\"type\":\"bar\"}],\"scattergeo\":[{\"type\":\"scattergeo\",\"marker\":{\"colorbar\":{\"outlinewidth\":0,\"ticks\":\"\"}}}],\"scatterpolar\":[{\"type\":\"scatterpolar\",\"marker\":{\"colorbar\":{\"outlinewidth\":0,\"ticks\":\"\"}}}],\"histogram\":[{\"marker\":{\"pattern\":{\"fillmode\":\"overlay\",\"size\":10,\"solidity\":0.2}},\"type\":\"histogram\"}],\"scattergl\":[{\"type\":\"scattergl\",\"marker\":{\"colorbar\":{\"outlinewidth\":0,\"ticks\":\"\"}}}],\"scatter3d\":[{\"type\":\"scatter3d\",\"line\":{\"colorbar\":{\"outlinewidth\":0,\"ticks\":\"\"}},\"marker\":{\"colorbar\":{\"outlinewidth\":0,\"ticks\":\"\"}}}],\"scattermapbox\":[{\"type\":\"scattermapbox\",\"marker\":{\"colorbar\":{\"outlinewidth\":0,\"ticks\":\"\"}}}],\"scatterternary\":[{\"type\":\"scatterternary\",\"marker\":{\"colorbar\":{\"outlinewidth\":0,\"ticks\":\"\"}}}],\"scattercarpet\":[{\"type\":\"scattercarpet\",\"marker\":{\"colorbar\":{\"outlinewidth\":0,\"ticks\":\"\"}}}],\"carpet\":[{\"aaxis\":{\"endlinecolor\":\"#2a3f5f\",\"gridcolor\":\"white\",\"linecolor\":\"white\",\"minorgridcolor\":\"white\",\"startlinecolor\":\"#2a3f5f\"},\"baxis\":{\"endlinecolor\":\"#2a3f5f\",\"gridcolor\":\"white\",\"linecolor\":\"white\",\"minorgridcolor\":\"white\",\"startlinecolor\":\"#2a3f5f\"},\"type\":\"carpet\"}],\"table\":[{\"cells\":{\"fill\":{\"color\":\"#EBF0F8\"},\"line\":{\"color\":\"white\"}},\"header\":{\"fill\":{\"color\":\"#C8D4E3\"},\"line\":{\"color\":\"white\"}},\"type\":\"table\"}],\"barpolar\":[{\"marker\":{\"line\":{\"color\":\"#E5ECF6\",\"width\":0.5},\"pattern\":{\"fillmode\":\"overlay\",\"size\":10,\"solidity\":0.2}},\"type\":\"barpolar\"}],\"pie\":[{\"automargin\":true,\"type\":\"pie\"}]},\"layout\":{\"autotypenumbers\":\"strict\",\"colorway\":[\"#636efa\",\"#EF553B\",\"#00cc96\",\"#ab63fa\",\"#FFA15A\",\"#19d3f3\",\"#FF6692\",\"#B6E880\",\"#FF97FF\",\"#FECB52\"],\"font\":{\"color\":\"#2a3f5f\"},\"hovermode\":\"closest\",\"hoverlabel\":{\"align\":\"left\"},\"paper_bgcolor\":\"white\",\"plot_bgcolor\":\"#E5ECF6\",\"polar\":{\"bgcolor\":\"#E5ECF6\",\"angularaxis\":{\"gridcolor\":\"white\",\"linecolor\":\"white\",\"ticks\":\"\"},\"radialaxis\":{\"gridcolor\":\"white\",\"linecolor\":\"white\",\"ticks\":\"\"}},\"ternary\":{\"bgcolor\":\"#E5ECF6\",\"aaxis\":{\"gridcolor\":\"white\",\"linecolor\":\"white\",\"ticks\":\"\"},\"baxis\":{\"gridcolor\":\"white\",\"linecolor\":\"white\",\"ticks\":\"\"},\"caxis\":{\"gridcolor\":\"white\",\"linecolor\":\"white\",\"ticks\":\"\"}},\"coloraxis\":{\"colorbar\":{\"outlinewidth\":0,\"ticks\":\"\"}},\"colorscale\":{\"sequential\":[[0.0,\"#0d0887\"],[0.1111111111111111,\"#46039f\"],[0.2222222222222222,\"#7201a8\"],[0.3333333333333333,\"#9c179e\"],[0.4444444444444444,\"#bd3786\"],[0.5555555555555556,\"#d8576b\"],[0.6666666666666666,\"#ed7953\"],[0.7777777777777778,\"#fb9f3a\"],[0.8888888888888888,\"#fdca26\"],[1.0,\"#f0f921\"]],\"sequentialminus\":[[0.0,\"#0d0887\"],[0.1111111111111111,\"#46039f\"],[0.2222222222222222,\"#7201a8\"],[0.3333333333333333,\"#9c179e\"],[0.4444444444444444,\"#bd3786\"],[0.5555555555555556,\"#d8576b\"],[0.6666666666666666,\"#ed7953\"],[0.7777777777777778,\"#fb9f3a\"],[0.8888888888888888,\"#fdca26\"],[1.0,\"#f0f921\"]],\"diverging\":[[0,\"#8e0152\"],[0.1,\"#c51b7d\"],[0.2,\"#de77ae\"],[0.3,\"#f1b6da\"],[0.4,\"#fde0ef\"],[0.5,\"#f7f7f7\"],[0.6,\"#e6f5d0\"],[0.7,\"#b8e186\"],[0.8,\"#7fbc41\"],[0.9,\"#4d9221\"],[1,\"#276419\"]]},\"xaxis\":{\"gridcolor\":\"white\",\"linecolor\":\"white\",\"ticks\":\"\",\"title\":{\"standoff\":15},\"zerolinecolor\":\"white\",\"automargin\":true,\"zerolinewidth\":2},\"yaxis\":{\"gridcolor\":\"white\",\"linecolor\":\"white\",\"ticks\":\"\",\"title\":{\"standoff\":15},\"zerolinecolor\":\"white\",\"automargin\":true,\"zerolinewidth\":2},\"scene\":{\"xaxis\":{\"backgroundcolor\":\"#E5ECF6\",\"gridcolor\":\"white\",\"linecolor\":\"white\",\"showbackground\":true,\"ticks\":\"\",\"zerolinecolor\":\"white\",\"gridwidth\":2},\"yaxis\":{\"backgroundcolor\":\"#E5ECF6\",\"gridcolor\":\"white\",\"linecolor\":\"white\",\"showbackground\":true,\"ticks\":\"\",\"zerolinecolor\":\"white\",\"gridwidth\":2},\"zaxis\":{\"backgroundcolor\":\"#E5ECF6\",\"gridcolor\":\"white\",\"linecolor\":\"white\",\"showbackground\":true,\"ticks\":\"\",\"zerolinecolor\":\"white\",\"gridwidth\":2}},\"shapedefaults\":{\"line\":{\"color\":\"#2a3f5f\"}},\"annotationdefaults\":{\"arrowcolor\":\"#2a3f5f\",\"arrowhead\":0,\"arrowwidth\":1},\"geo\":{\"bgcolor\":\"white\",\"landcolor\":\"#E5ECF6\",\"subunitcolor\":\"white\",\"showland\":true,\"showlakes\":true,\"lakecolor\":\"white\"},\"title\":{\"x\":0.05},\"mapbox\":{\"style\":\"light\"}}},\"xaxis\":{\"anchor\":\"y\",\"domain\":[0.0,1.0],\"title\":{\"text\":\"Category\"}},\"yaxis\":{\"anchor\":\"x\",\"domain\":[0.0,1.0],\"title\":{\"text\":\"Frequency\"}},\"legend\":{\"title\":{\"text\":\"Data\"},\"tracegroupgap\":0},\"margin\":{\"t\":60},\"barmode\":\"group\",\"title\":{\"text\":\"using synthetic data to simualte room_type scenario\"},\"plot_bgcolor\":\"#F5F5F8\"},                        {\"responsive\": true}                    ).then(function(){\n",
       "                            \n",
       "var gd = document.getElementById('5cd87030-9227-4701-877a-6e69303df0a1');\n",
       "var x = new MutationObserver(function (mutations, observer) {{\n",
       "        var display = window.getComputedStyle(gd).display;\n",
       "        if (!display || display === 'none') {{\n",
       "            console.log([gd, 'removed!']);\n",
       "            Plotly.purge(gd);\n",
       "            observer.disconnect();\n",
       "        }}\n",
       "}});\n",
       "\n",
       "// Listen for the removal of the full notebook cells\n",
       "var notebookContainer = gd.closest('#notebook-container');\n",
       "if (notebookContainer) {{\n",
       "    x.observe(notebookContainer, {childList: true});\n",
       "}}\n",
       "\n",
       "// Listen for the clearing of the current output cell\n",
       "var outputEl = gd.closest('.output');\n",
       "if (outputEl) {{\n",
       "    x.observe(outputEl, {childList: true});\n",
       "}}\n",
       "\n",
       "                        })                };                });            </script>        </div>"
      ]
     },
     "metadata": {},
     "output_type": "display_data"
    }
   ],
   "source": [
    "# verify the result\n",
    "\n",
    "fig = get_column_plot(\n",
    "    real_data=real_data,\n",
    "    synthetic_data=simulated_synthetic_data,\n",
    "    column_name=\"room_type\",\n",
    "    metadata=metadata,\n",
    ")\n",
    "\n",
    "fig.update_layout(\n",
    "    title=\"using synthetic data to simualte room_type scenario\"\n",
    ")\n",
    "\n",
    "fig.show()"
   ]
  },
  {
   "cell_type": "code",
   "execution_count": 59,
   "id": "09a29352-567f-4582-8a31-6aea7dbd5474",
   "metadata": {},
   "outputs": [
    {
     "data": {
      "text/plain": [
       "room_type\n",
       "BASIC     384\n",
       "DELUXE     78\n",
       "SUITE      38\n",
       "Name: count, dtype: int64"
      ]
     },
     "execution_count": 59,
     "metadata": {},
     "output_type": "execute_result"
    }
   ],
   "source": [
    "real_data.room_type.value_counts()"
   ]
  },
  {
   "cell_type": "code",
   "execution_count": 60,
   "id": "270153e8-7ac9-4afd-a720-8f246c379508",
   "metadata": {},
   "outputs": [
    {
     "data": {
      "text/plain": [
       "room_type\n",
       "SUITE    500\n",
       "Name: count, dtype: int64"
      ]
     },
     "execution_count": 60,
     "metadata": {},
     "output_type": "execute_result"
    }
   ],
   "source": [
    "simulated_synthetic_data.room_type.value_counts()"
   ]
  },
  {
   "cell_type": "markdown",
   "id": "f841203c-54b2-4e74-a2c3-ace27260c748",
   "metadata": {},
   "source": [
    "# Synthesize a Table (CTGAN) - slow for large dataset\n",
    "\n",
    "## About CTGAN\n",
    "\n"
   ]
  },
  {
   "cell_type": "code",
   "execution_count": 62,
   "id": "f8a0c3df-f946-45d3-a640-5a0374992fe1",
   "metadata": {},
   "outputs": [
    {
     "name": "stdout",
     "output_type": "stream",
     "text": [
      "real_data type: <class 'pandas.core.frame.DataFrame'>, metadata type: <class 'sdv.metadata.single_table.SingleTableMetadata'>\n"
     ]
    }
   ],
   "source": [
    "# loading demo data \n",
    "from sdv.datasets.demo import download_demo\n",
    "\n",
    "real_data, metadata = download_demo(\n",
    "    modality=\"single_table\",\n",
    "    dataset_name=\"fake_hotel_guests\"\n",
    ")\n",
    "\n",
    "print(f\"real_data type: {type(real_data)}, metadata type: {type(metadata)}\")"
   ]
  },
  {
   "cell_type": "code",
   "execution_count": 63,
   "id": "e471b411-2c4f-4189-b9f8-377c33559376",
   "metadata": {},
   "outputs": [
    {
     "name": "stderr",
     "output_type": "stream",
     "text": [
      "/opt/homebrew/Caskroom/miniforge/base/lib/python3.9/site-packages/rdt/transformers/base.py:132: FutureWarning:\n",
      "\n",
      "Future versions of RDT will not support the 'model_missing_values' parameter. Please switch to using the 'missing_value_generation' parameter to select your strategy.\n",
      "\n",
      "/opt/homebrew/Caskroom/miniforge/base/lib/python3.9/site-packages/rdt/transformers/base.py:132: FutureWarning:\n",
      "\n",
      "Future versions of RDT will not support the 'model_missing_values' parameter. Please switch to using the 'missing_value_generation' parameter to select your strategy.\n",
      "\n",
      "/opt/homebrew/Caskroom/miniforge/base/lib/python3.9/site-packages/rdt/transformers/base.py:132: FutureWarning:\n",
      "\n",
      "Future versions of RDT will not support the 'model_missing_values' parameter. Please switch to using the 'missing_value_generation' parameter to select your strategy.\n",
      "\n",
      "/opt/homebrew/Caskroom/miniforge/base/lib/python3.9/site-packages/rdt/transformers/base.py:132: FutureWarning:\n",
      "\n",
      "Future versions of RDT will not support the 'model_missing_values' parameter. Please switch to using the 'missing_value_generation' parameter to select your strategy.\n",
      "\n"
     ]
    }
   ],
   "source": [
    "from sdv.single_table import CTGANSynthesizer\n",
    "\n",
    "synthesizer = CTGANSynthesizer(metadata)\n",
    "synthesizer.fit(real_data)"
   ]
  },
  {
   "cell_type": "code",
   "execution_count": 64,
   "id": "9da03657-c527-4a92-88f8-4d968be7af64",
   "metadata": {},
   "outputs": [
    {
     "data": {
      "text/html": [
       "<div>\n",
       "<style scoped>\n",
       "    .dataframe tbody tr th:only-of-type {\n",
       "        vertical-align: middle;\n",
       "    }\n",
       "\n",
       "    .dataframe tbody tr th {\n",
       "        vertical-align: top;\n",
       "    }\n",
       "\n",
       "    .dataframe thead th {\n",
       "        text-align: right;\n",
       "    }\n",
       "</style>\n",
       "<table border=\"1\" class=\"dataframe\">\n",
       "  <thead>\n",
       "    <tr style=\"text-align: right;\">\n",
       "      <th></th>\n",
       "      <th>guest_email</th>\n",
       "      <th>has_rewards</th>\n",
       "      <th>room_type</th>\n",
       "      <th>amenities_fee</th>\n",
       "      <th>checkin_date</th>\n",
       "      <th>checkout_date</th>\n",
       "      <th>room_rate</th>\n",
       "      <th>billing_address</th>\n",
       "      <th>credit_card_number</th>\n",
       "    </tr>\n",
       "  </thead>\n",
       "  <tbody>\n",
       "    <tr>\n",
       "      <th>0</th>\n",
       "      <td>dsullivan@example.net</td>\n",
       "      <td>False</td>\n",
       "      <td>BASIC</td>\n",
       "      <td>19.31</td>\n",
       "      <td>14 Mar 2020</td>\n",
       "      <td>25 Oct 2020</td>\n",
       "      <td>351.78</td>\n",
       "      <td>90469 Karla Knolls Apt. 781\\nSusanberg, NC 28401</td>\n",
       "      <td>5161033759518983</td>\n",
       "    </tr>\n",
       "    <tr>\n",
       "      <th>1</th>\n",
       "      <td>steven59@example.org</td>\n",
       "      <td>False</td>\n",
       "      <td>DELUXE</td>\n",
       "      <td>0.00</td>\n",
       "      <td>21 Dec 2019</td>\n",
       "      <td>27 Jan 2020</td>\n",
       "      <td>253.92</td>\n",
       "      <td>1080 Ashley Creek Apt. 622\\nWest Amy, NM 25058</td>\n",
       "      <td>4133047413145475690</td>\n",
       "    </tr>\n",
       "    <tr>\n",
       "      <th>2</th>\n",
       "      <td>brandon15@example.net</td>\n",
       "      <td>False</td>\n",
       "      <td>BASIC</td>\n",
       "      <td>22.19</td>\n",
       "      <td>12 Jun 2020</td>\n",
       "      <td>10 Jan 2020</td>\n",
       "      <td>275.21</td>\n",
       "      <td>99923 Anderson Trace Suite 861\\nNorth Haley, T...</td>\n",
       "      <td>4977328103788</td>\n",
       "    </tr>\n",
       "    <tr>\n",
       "      <th>3</th>\n",
       "      <td>humphreyjennifer@example.net</td>\n",
       "      <td>True</td>\n",
       "      <td>BASIC</td>\n",
       "      <td>12.09</td>\n",
       "      <td>28 Aug 2020</td>\n",
       "      <td>04 Aug 2020</td>\n",
       "      <td>355.95</td>\n",
       "      <td>9301 John Parkways\\nThomasland, OH 61350</td>\n",
       "      <td>3524946844839485</td>\n",
       "    </tr>\n",
       "    <tr>\n",
       "      <th>4</th>\n",
       "      <td>joshuabrown@example.net</td>\n",
       "      <td>False</td>\n",
       "      <td>BASIC</td>\n",
       "      <td>14.92</td>\n",
       "      <td>01 Feb 2020</td>\n",
       "      <td>22 Mar 2020</td>\n",
       "      <td>319.40</td>\n",
       "      <td>126 George Tunnel\\nDuranstad, MS 95176</td>\n",
       "      <td>4446905799576890978</td>\n",
       "    </tr>\n",
       "  </tbody>\n",
       "</table>\n",
       "</div>"
      ],
      "text/plain": [
       "                    guest_email  has_rewards room_type  amenities_fee  \\\n",
       "0         dsullivan@example.net        False     BASIC          19.31   \n",
       "1          steven59@example.org        False    DELUXE           0.00   \n",
       "2         brandon15@example.net        False     BASIC          22.19   \n",
       "3  humphreyjennifer@example.net         True     BASIC          12.09   \n",
       "4       joshuabrown@example.net        False     BASIC          14.92   \n",
       "\n",
       "  checkin_date checkout_date  room_rate  \\\n",
       "0  14 Mar 2020   25 Oct 2020     351.78   \n",
       "1  21 Dec 2019   27 Jan 2020     253.92   \n",
       "2  12 Jun 2020   10 Jan 2020     275.21   \n",
       "3  28 Aug 2020   04 Aug 2020     355.95   \n",
       "4  01 Feb 2020   22 Mar 2020     319.40   \n",
       "\n",
       "                                     billing_address   credit_card_number  \n",
       "0   90469 Karla Knolls Apt. 781\\nSusanberg, NC 28401     5161033759518983  \n",
       "1     1080 Ashley Creek Apt. 622\\nWest Amy, NM 25058  4133047413145475690  \n",
       "2  99923 Anderson Trace Suite 861\\nNorth Haley, T...        4977328103788  \n",
       "3           9301 John Parkways\\nThomasland, OH 61350     3524946844839485  \n",
       "4             126 George Tunnel\\nDuranstad, MS 95176  4446905799576890978  "
      ]
     },
     "execution_count": 64,
     "metadata": {},
     "output_type": "execute_result"
    }
   ],
   "source": [
    "# generate synthetic data\n",
    "\n",
    "synthetic_data = synthesizer.sample(num_rows=500)\n",
    "synthetic_data.head()"
   ]
  },
  {
   "cell_type": "code",
   "execution_count": 66,
   "id": "d969ca07-12af-4cf1-94ea-614904578650",
   "metadata": {},
   "outputs": [
    {
     "name": "stderr",
     "output_type": "stream",
     "text": [
      "Creating report: 100%|████████████████████████████| 4/4 [00:00<00:00, 69.90it/s]"
     ]
    },
    {
     "name": "stdout",
     "output_type": "stream",
     "text": [
      "\n",
      "Overall Quality Score: 78.86%\n",
      "\n",
      "Properties:\n",
      "Column Shapes: 79.31%\n",
      "Column Pair Trends: 78.4%\n"
     ]
    },
    {
     "name": "stderr",
     "output_type": "stream",
     "text": [
      "\n"
     ]
    }
   ],
   "source": [
    "# evaluation \n",
    "from sdv.evaluation.single_table import evaluate_quality \n",
    "\n",
    "quality_report = evaluate_quality(\n",
    "    real_data,\n",
    "    synthetic_data,\n",
    "    metadata\n",
    ")"
   ]
  },
  {
   "cell_type": "code",
   "execution_count": 70,
   "id": "3a265378-fc6e-4a0a-8181-f495a14bfe87",
   "metadata": {},
   "outputs": [
    {
     "data": {
      "application/vnd.plotly.v1+json": {
       "config": {
        "plotlyServerURL": "https://plot.ly"
       },
       "data": [
        {
         "alignmentgroup": "True",
         "customdata": [
          [
           "KSComplement"
          ],
          [
           "KSComplement"
          ],
          [
           "KSComplement"
          ],
          [
           "KSComplement"
          ]
         ],
         "hovertemplate": "<b>%{hovertext}</b><br><br>Metric=%{customdata[0]}<br>Quality Score=%{y}<extra></extra>",
         "hovertext": [
          "amenities_fee",
          "checkin_date",
          "checkout_date",
          "room_rate"
         ],
         "legendgroup": "KSComplement",
         "marker": {
          "color": "#000036",
          "pattern": {
           "shape": ""
          }
         },
         "name": "KSComplement",
         "offsetgroup": "KSComplement",
         "orientation": "v",
         "showlegend": true,
         "textposition": "auto",
         "type": "bar",
         "x": [
          "amenities_fee",
          "checkin_date",
          "checkout_date",
          "room_rate"
         ],
         "xaxis": "x",
         "y": [
          0.7538217338217338,
          0.8200000000000001,
          0.8230607966457023,
          0.5640000000000001
         ],
         "yaxis": "y"
        },
        {
         "alignmentgroup": "True",
         "customdata": [
          [
           "TVComplement"
          ],
          [
           "TVComplement"
          ]
         ],
         "hovertemplate": "<b>%{hovertext}</b><br><br>Metric=%{customdata[0]}<br>Quality Score=%{y}<extra></extra>",
         "hovertext": [
          "has_rewards",
          "room_type"
         ],
         "legendgroup": "TVComplement",
         "marker": {
          "color": "#03AFF1",
          "pattern": {
           "shape": "/"
          }
         },
         "name": "TVComplement",
         "offsetgroup": "TVComplement",
         "orientation": "v",
         "showlegend": true,
         "textposition": "auto",
         "type": "bar",
         "x": [
          "has_rewards",
          "room_type"
         ],
         "xaxis": "x",
         "y": [
          0.986,
          0.812
         ],
         "yaxis": "y"
        }
       ],
       "layout": {
        "autosize": true,
        "barmode": "relative",
        "legend": {
         "title": {
          "text": "Metric"
         },
         "tracegroupgap": 0
        },
        "margin": {
         "t": 150
        },
        "plot_bgcolor": "#F5F5F8",
        "template": {
         "data": {
          "bar": [
           {
            "error_x": {
             "color": "#2a3f5f"
            },
            "error_y": {
             "color": "#2a3f5f"
            },
            "marker": {
             "line": {
              "color": "#E5ECF6",
              "width": 0.5
             },
             "pattern": {
              "fillmode": "overlay",
              "size": 10,
              "solidity": 0.2
             }
            },
            "type": "bar"
           }
          ],
          "barpolar": [
           {
            "marker": {
             "line": {
              "color": "#E5ECF6",
              "width": 0.5
             },
             "pattern": {
              "fillmode": "overlay",
              "size": 10,
              "solidity": 0.2
             }
            },
            "type": "barpolar"
           }
          ],
          "carpet": [
           {
            "aaxis": {
             "endlinecolor": "#2a3f5f",
             "gridcolor": "white",
             "linecolor": "white",
             "minorgridcolor": "white",
             "startlinecolor": "#2a3f5f"
            },
            "baxis": {
             "endlinecolor": "#2a3f5f",
             "gridcolor": "white",
             "linecolor": "white",
             "minorgridcolor": "white",
             "startlinecolor": "#2a3f5f"
            },
            "type": "carpet"
           }
          ],
          "choropleth": [
           {
            "colorbar": {
             "outlinewidth": 0,
             "ticks": ""
            },
            "type": "choropleth"
           }
          ],
          "contour": [
           {
            "colorbar": {
             "outlinewidth": 0,
             "ticks": ""
            },
            "colorscale": [
             [
              0,
              "#0d0887"
             ],
             [
              0.1111111111111111,
              "#46039f"
             ],
             [
              0.2222222222222222,
              "#7201a8"
             ],
             [
              0.3333333333333333,
              "#9c179e"
             ],
             [
              0.4444444444444444,
              "#bd3786"
             ],
             [
              0.5555555555555556,
              "#d8576b"
             ],
             [
              0.6666666666666666,
              "#ed7953"
             ],
             [
              0.7777777777777778,
              "#fb9f3a"
             ],
             [
              0.8888888888888888,
              "#fdca26"
             ],
             [
              1,
              "#f0f921"
             ]
            ],
            "type": "contour"
           }
          ],
          "contourcarpet": [
           {
            "colorbar": {
             "outlinewidth": 0,
             "ticks": ""
            },
            "type": "contourcarpet"
           }
          ],
          "heatmap": [
           {
            "colorbar": {
             "outlinewidth": 0,
             "ticks": ""
            },
            "colorscale": [
             [
              0,
              "#0d0887"
             ],
             [
              0.1111111111111111,
              "#46039f"
             ],
             [
              0.2222222222222222,
              "#7201a8"
             ],
             [
              0.3333333333333333,
              "#9c179e"
             ],
             [
              0.4444444444444444,
              "#bd3786"
             ],
             [
              0.5555555555555556,
              "#d8576b"
             ],
             [
              0.6666666666666666,
              "#ed7953"
             ],
             [
              0.7777777777777778,
              "#fb9f3a"
             ],
             [
              0.8888888888888888,
              "#fdca26"
             ],
             [
              1,
              "#f0f921"
             ]
            ],
            "type": "heatmap"
           }
          ],
          "heatmapgl": [
           {
            "colorbar": {
             "outlinewidth": 0,
             "ticks": ""
            },
            "colorscale": [
             [
              0,
              "#0d0887"
             ],
             [
              0.1111111111111111,
              "#46039f"
             ],
             [
              0.2222222222222222,
              "#7201a8"
             ],
             [
              0.3333333333333333,
              "#9c179e"
             ],
             [
              0.4444444444444444,
              "#bd3786"
             ],
             [
              0.5555555555555556,
              "#d8576b"
             ],
             [
              0.6666666666666666,
              "#ed7953"
             ],
             [
              0.7777777777777778,
              "#fb9f3a"
             ],
             [
              0.8888888888888888,
              "#fdca26"
             ],
             [
              1,
              "#f0f921"
             ]
            ],
            "type": "heatmapgl"
           }
          ],
          "histogram": [
           {
            "marker": {
             "pattern": {
              "fillmode": "overlay",
              "size": 10,
              "solidity": 0.2
             }
            },
            "type": "histogram"
           }
          ],
          "histogram2d": [
           {
            "colorbar": {
             "outlinewidth": 0,
             "ticks": ""
            },
            "colorscale": [
             [
              0,
              "#0d0887"
             ],
             [
              0.1111111111111111,
              "#46039f"
             ],
             [
              0.2222222222222222,
              "#7201a8"
             ],
             [
              0.3333333333333333,
              "#9c179e"
             ],
             [
              0.4444444444444444,
              "#bd3786"
             ],
             [
              0.5555555555555556,
              "#d8576b"
             ],
             [
              0.6666666666666666,
              "#ed7953"
             ],
             [
              0.7777777777777778,
              "#fb9f3a"
             ],
             [
              0.8888888888888888,
              "#fdca26"
             ],
             [
              1,
              "#f0f921"
             ]
            ],
            "type": "histogram2d"
           }
          ],
          "histogram2dcontour": [
           {
            "colorbar": {
             "outlinewidth": 0,
             "ticks": ""
            },
            "colorscale": [
             [
              0,
              "#0d0887"
             ],
             [
              0.1111111111111111,
              "#46039f"
             ],
             [
              0.2222222222222222,
              "#7201a8"
             ],
             [
              0.3333333333333333,
              "#9c179e"
             ],
             [
              0.4444444444444444,
              "#bd3786"
             ],
             [
              0.5555555555555556,
              "#d8576b"
             ],
             [
              0.6666666666666666,
              "#ed7953"
             ],
             [
              0.7777777777777778,
              "#fb9f3a"
             ],
             [
              0.8888888888888888,
              "#fdca26"
             ],
             [
              1,
              "#f0f921"
             ]
            ],
            "type": "histogram2dcontour"
           }
          ],
          "mesh3d": [
           {
            "colorbar": {
             "outlinewidth": 0,
             "ticks": ""
            },
            "type": "mesh3d"
           }
          ],
          "parcoords": [
           {
            "line": {
             "colorbar": {
              "outlinewidth": 0,
              "ticks": ""
             }
            },
            "type": "parcoords"
           }
          ],
          "pie": [
           {
            "automargin": true,
            "type": "pie"
           }
          ],
          "scatter": [
           {
            "fillpattern": {
             "fillmode": "overlay",
             "size": 10,
             "solidity": 0.2
            },
            "type": "scatter"
           }
          ],
          "scatter3d": [
           {
            "line": {
             "colorbar": {
              "outlinewidth": 0,
              "ticks": ""
             }
            },
            "marker": {
             "colorbar": {
              "outlinewidth": 0,
              "ticks": ""
             }
            },
            "type": "scatter3d"
           }
          ],
          "scattercarpet": [
           {
            "marker": {
             "colorbar": {
              "outlinewidth": 0,
              "ticks": ""
             }
            },
            "type": "scattercarpet"
           }
          ],
          "scattergeo": [
           {
            "marker": {
             "colorbar": {
              "outlinewidth": 0,
              "ticks": ""
             }
            },
            "type": "scattergeo"
           }
          ],
          "scattergl": [
           {
            "marker": {
             "colorbar": {
              "outlinewidth": 0,
              "ticks": ""
             }
            },
            "type": "scattergl"
           }
          ],
          "scattermapbox": [
           {
            "marker": {
             "colorbar": {
              "outlinewidth": 0,
              "ticks": ""
             }
            },
            "type": "scattermapbox"
           }
          ],
          "scatterpolar": [
           {
            "marker": {
             "colorbar": {
              "outlinewidth": 0,
              "ticks": ""
             }
            },
            "type": "scatterpolar"
           }
          ],
          "scatterpolargl": [
           {
            "marker": {
             "colorbar": {
              "outlinewidth": 0,
              "ticks": ""
             }
            },
            "type": "scatterpolargl"
           }
          ],
          "scatterternary": [
           {
            "marker": {
             "colorbar": {
              "outlinewidth": 0,
              "ticks": ""
             }
            },
            "type": "scatterternary"
           }
          ],
          "surface": [
           {
            "colorbar": {
             "outlinewidth": 0,
             "ticks": ""
            },
            "colorscale": [
             [
              0,
              "#0d0887"
             ],
             [
              0.1111111111111111,
              "#46039f"
             ],
             [
              0.2222222222222222,
              "#7201a8"
             ],
             [
              0.3333333333333333,
              "#9c179e"
             ],
             [
              0.4444444444444444,
              "#bd3786"
             ],
             [
              0.5555555555555556,
              "#d8576b"
             ],
             [
              0.6666666666666666,
              "#ed7953"
             ],
             [
              0.7777777777777778,
              "#fb9f3a"
             ],
             [
              0.8888888888888888,
              "#fdca26"
             ],
             [
              1,
              "#f0f921"
             ]
            ],
            "type": "surface"
           }
          ],
          "table": [
           {
            "cells": {
             "fill": {
              "color": "#EBF0F8"
             },
             "line": {
              "color": "white"
             }
            },
            "header": {
             "fill": {
              "color": "#C8D4E3"
             },
             "line": {
              "color": "white"
             }
            },
            "type": "table"
           }
          ]
         },
         "layout": {
          "annotationdefaults": {
           "arrowcolor": "#2a3f5f",
           "arrowhead": 0,
           "arrowwidth": 1
          },
          "autotypenumbers": "strict",
          "coloraxis": {
           "colorbar": {
            "outlinewidth": 0,
            "ticks": ""
           }
          },
          "colorscale": {
           "diverging": [
            [
             0,
             "#8e0152"
            ],
            [
             0.1,
             "#c51b7d"
            ],
            [
             0.2,
             "#de77ae"
            ],
            [
             0.3,
             "#f1b6da"
            ],
            [
             0.4,
             "#fde0ef"
            ],
            [
             0.5,
             "#f7f7f7"
            ],
            [
             0.6,
             "#e6f5d0"
            ],
            [
             0.7,
             "#b8e186"
            ],
            [
             0.8,
             "#7fbc41"
            ],
            [
             0.9,
             "#4d9221"
            ],
            [
             1,
             "#276419"
            ]
           ],
           "sequential": [
            [
             0,
             "#0d0887"
            ],
            [
             0.1111111111111111,
             "#46039f"
            ],
            [
             0.2222222222222222,
             "#7201a8"
            ],
            [
             0.3333333333333333,
             "#9c179e"
            ],
            [
             0.4444444444444444,
             "#bd3786"
            ],
            [
             0.5555555555555556,
             "#d8576b"
            ],
            [
             0.6666666666666666,
             "#ed7953"
            ],
            [
             0.7777777777777778,
             "#fb9f3a"
            ],
            [
             0.8888888888888888,
             "#fdca26"
            ],
            [
             1,
             "#f0f921"
            ]
           ],
           "sequentialminus": [
            [
             0,
             "#0d0887"
            ],
            [
             0.1111111111111111,
             "#46039f"
            ],
            [
             0.2222222222222222,
             "#7201a8"
            ],
            [
             0.3333333333333333,
             "#9c179e"
            ],
            [
             0.4444444444444444,
             "#bd3786"
            ],
            [
             0.5555555555555556,
             "#d8576b"
            ],
            [
             0.6666666666666666,
             "#ed7953"
            ],
            [
             0.7777777777777778,
             "#fb9f3a"
            ],
            [
             0.8888888888888888,
             "#fdca26"
            ],
            [
             1,
             "#f0f921"
            ]
           ]
          },
          "colorway": [
           "#636efa",
           "#EF553B",
           "#00cc96",
           "#ab63fa",
           "#FFA15A",
           "#19d3f3",
           "#FF6692",
           "#B6E880",
           "#FF97FF",
           "#FECB52"
          ],
          "font": {
           "color": "#2a3f5f"
          },
          "geo": {
           "bgcolor": "white",
           "lakecolor": "white",
           "landcolor": "#E5ECF6",
           "showlakes": true,
           "showland": true,
           "subunitcolor": "white"
          },
          "hoverlabel": {
           "align": "left"
          },
          "hovermode": "closest",
          "mapbox": {
           "style": "light"
          },
          "paper_bgcolor": "white",
          "plot_bgcolor": "#E5ECF6",
          "polar": {
           "angularaxis": {
            "gridcolor": "white",
            "linecolor": "white",
            "ticks": ""
           },
           "bgcolor": "#E5ECF6",
           "radialaxis": {
            "gridcolor": "white",
            "linecolor": "white",
            "ticks": ""
           }
          },
          "scene": {
           "xaxis": {
            "backgroundcolor": "#E5ECF6",
            "gridcolor": "white",
            "gridwidth": 2,
            "linecolor": "white",
            "showbackground": true,
            "ticks": "",
            "zerolinecolor": "white"
           },
           "yaxis": {
            "backgroundcolor": "#E5ECF6",
            "gridcolor": "white",
            "gridwidth": 2,
            "linecolor": "white",
            "showbackground": true,
            "ticks": "",
            "zerolinecolor": "white"
           },
           "zaxis": {
            "backgroundcolor": "#E5ECF6",
            "gridcolor": "white",
            "gridwidth": 2,
            "linecolor": "white",
            "showbackground": true,
            "ticks": "",
            "zerolinecolor": "white"
           }
          },
          "shapedefaults": {
           "line": {
            "color": "#2a3f5f"
           }
          },
          "ternary": {
           "aaxis": {
            "gridcolor": "white",
            "linecolor": "white",
            "ticks": ""
           },
           "baxis": {
            "gridcolor": "white",
            "linecolor": "white",
            "ticks": ""
           },
           "bgcolor": "#E5ECF6",
           "caxis": {
            "gridcolor": "white",
            "linecolor": "white",
            "ticks": ""
           }
          },
          "title": {
           "x": 0.05
          },
          "xaxis": {
           "automargin": true,
           "gridcolor": "white",
           "linecolor": "white",
           "ticks": "",
           "title": {
            "standoff": 15
           },
           "zerolinecolor": "white",
           "zerolinewidth": 2
          },
          "yaxis": {
           "automargin": true,
           "gridcolor": "white",
           "linecolor": "white",
           "ticks": "",
           "title": {
            "standoff": 15
           },
           "zerolinecolor": "white",
           "zerolinewidth": 2
          }
         }
        },
        "title": {
         "text": "Data Quality: Column Shapes (Average Score=0.79)"
        },
        "xaxis": {
         "anchor": "y",
         "autorange": true,
         "categoryorder": "total ascending",
         "domain": [
          0,
          1
         ],
         "range": [
          -0.5,
          5.5
         ],
         "title": {
          "text": "Column Name"
         },
         "type": "category"
        },
        "yaxis": {
         "anchor": "x",
         "domain": [
          0,
          1
         ],
         "range": [
          0,
          1
         ],
         "title": {
          "text": "Quality Score"
         },
         "type": "linear"
        }
       }
      },
      "text/html": [
       "<div>                            <div id=\"a08d312a-dc15-4656-812e-ab3a36effa11\" class=\"plotly-graph-div\" style=\"height:525px; width:100%;\"></div>            <script type=\"text/javascript\">                require([\"plotly\"], function(Plotly) {                    window.PLOTLYENV=window.PLOTLYENV || {};                                    if (document.getElementById(\"a08d312a-dc15-4656-812e-ab3a36effa11\")) {                    Plotly.newPlot(                        \"a08d312a-dc15-4656-812e-ab3a36effa11\",                        [{\"alignmentgroup\":\"True\",\"customdata\":[[\"KSComplement\"],[\"KSComplement\"],[\"KSComplement\"],[\"KSComplement\"]],\"hovertemplate\":\"\\u003cb\\u003e%{hovertext}\\u003c\\u002fb\\u003e\\u003cbr\\u003e\\u003cbr\\u003eMetric=%{customdata[0]}\\u003cbr\\u003eQuality Score=%{y}\\u003cextra\\u003e\\u003c\\u002fextra\\u003e\",\"hovertext\":[\"amenities_fee\",\"checkin_date\",\"checkout_date\",\"room_rate\"],\"legendgroup\":\"KSComplement\",\"marker\":{\"color\":\"#000036\",\"pattern\":{\"shape\":\"\"}},\"name\":\"KSComplement\",\"offsetgroup\":\"KSComplement\",\"orientation\":\"v\",\"showlegend\":true,\"textposition\":\"auto\",\"x\":[\"amenities_fee\",\"checkin_date\",\"checkout_date\",\"room_rate\"],\"xaxis\":\"x\",\"y\":[0.7538217338217338,0.8200000000000001,0.8230607966457023,0.5640000000000001],\"yaxis\":\"y\",\"type\":\"bar\"},{\"alignmentgroup\":\"True\",\"customdata\":[[\"TVComplement\"],[\"TVComplement\"]],\"hovertemplate\":\"\\u003cb\\u003e%{hovertext}\\u003c\\u002fb\\u003e\\u003cbr\\u003e\\u003cbr\\u003eMetric=%{customdata[0]}\\u003cbr\\u003eQuality Score=%{y}\\u003cextra\\u003e\\u003c\\u002fextra\\u003e\",\"hovertext\":[\"has_rewards\",\"room_type\"],\"legendgroup\":\"TVComplement\",\"marker\":{\"color\":\"#03AFF1\",\"pattern\":{\"shape\":\"\\u002f\"}},\"name\":\"TVComplement\",\"offsetgroup\":\"TVComplement\",\"orientation\":\"v\",\"showlegend\":true,\"textposition\":\"auto\",\"x\":[\"has_rewards\",\"room_type\"],\"xaxis\":\"x\",\"y\":[0.986,0.812],\"yaxis\":\"y\",\"type\":\"bar\"}],                        {\"template\":{\"data\":{\"histogram2dcontour\":[{\"type\":\"histogram2dcontour\",\"colorbar\":{\"outlinewidth\":0,\"ticks\":\"\"},\"colorscale\":[[0.0,\"#0d0887\"],[0.1111111111111111,\"#46039f\"],[0.2222222222222222,\"#7201a8\"],[0.3333333333333333,\"#9c179e\"],[0.4444444444444444,\"#bd3786\"],[0.5555555555555556,\"#d8576b\"],[0.6666666666666666,\"#ed7953\"],[0.7777777777777778,\"#fb9f3a\"],[0.8888888888888888,\"#fdca26\"],[1.0,\"#f0f921\"]]}],\"choropleth\":[{\"type\":\"choropleth\",\"colorbar\":{\"outlinewidth\":0,\"ticks\":\"\"}}],\"histogram2d\":[{\"type\":\"histogram2d\",\"colorbar\":{\"outlinewidth\":0,\"ticks\":\"\"},\"colorscale\":[[0.0,\"#0d0887\"],[0.1111111111111111,\"#46039f\"],[0.2222222222222222,\"#7201a8\"],[0.3333333333333333,\"#9c179e\"],[0.4444444444444444,\"#bd3786\"],[0.5555555555555556,\"#d8576b\"],[0.6666666666666666,\"#ed7953\"],[0.7777777777777778,\"#fb9f3a\"],[0.8888888888888888,\"#fdca26\"],[1.0,\"#f0f921\"]]}],\"heatmap\":[{\"type\":\"heatmap\",\"colorbar\":{\"outlinewidth\":0,\"ticks\":\"\"},\"colorscale\":[[0.0,\"#0d0887\"],[0.1111111111111111,\"#46039f\"],[0.2222222222222222,\"#7201a8\"],[0.3333333333333333,\"#9c179e\"],[0.4444444444444444,\"#bd3786\"],[0.5555555555555556,\"#d8576b\"],[0.6666666666666666,\"#ed7953\"],[0.7777777777777778,\"#fb9f3a\"],[0.8888888888888888,\"#fdca26\"],[1.0,\"#f0f921\"]]}],\"heatmapgl\":[{\"type\":\"heatmapgl\",\"colorbar\":{\"outlinewidth\":0,\"ticks\":\"\"},\"colorscale\":[[0.0,\"#0d0887\"],[0.1111111111111111,\"#46039f\"],[0.2222222222222222,\"#7201a8\"],[0.3333333333333333,\"#9c179e\"],[0.4444444444444444,\"#bd3786\"],[0.5555555555555556,\"#d8576b\"],[0.6666666666666666,\"#ed7953\"],[0.7777777777777778,\"#fb9f3a\"],[0.8888888888888888,\"#fdca26\"],[1.0,\"#f0f921\"]]}],\"contourcarpet\":[{\"type\":\"contourcarpet\",\"colorbar\":{\"outlinewidth\":0,\"ticks\":\"\"}}],\"contour\":[{\"type\":\"contour\",\"colorbar\":{\"outlinewidth\":0,\"ticks\":\"\"},\"colorscale\":[[0.0,\"#0d0887\"],[0.1111111111111111,\"#46039f\"],[0.2222222222222222,\"#7201a8\"],[0.3333333333333333,\"#9c179e\"],[0.4444444444444444,\"#bd3786\"],[0.5555555555555556,\"#d8576b\"],[0.6666666666666666,\"#ed7953\"],[0.7777777777777778,\"#fb9f3a\"],[0.8888888888888888,\"#fdca26\"],[1.0,\"#f0f921\"]]}],\"surface\":[{\"type\":\"surface\",\"colorbar\":{\"outlinewidth\":0,\"ticks\":\"\"},\"colorscale\":[[0.0,\"#0d0887\"],[0.1111111111111111,\"#46039f\"],[0.2222222222222222,\"#7201a8\"],[0.3333333333333333,\"#9c179e\"],[0.4444444444444444,\"#bd3786\"],[0.5555555555555556,\"#d8576b\"],[0.6666666666666666,\"#ed7953\"],[0.7777777777777778,\"#fb9f3a\"],[0.8888888888888888,\"#fdca26\"],[1.0,\"#f0f921\"]]}],\"mesh3d\":[{\"type\":\"mesh3d\",\"colorbar\":{\"outlinewidth\":0,\"ticks\":\"\"}}],\"scatter\":[{\"fillpattern\":{\"fillmode\":\"overlay\",\"size\":10,\"solidity\":0.2},\"type\":\"scatter\"}],\"parcoords\":[{\"type\":\"parcoords\",\"line\":{\"colorbar\":{\"outlinewidth\":0,\"ticks\":\"\"}}}],\"scatterpolargl\":[{\"type\":\"scatterpolargl\",\"marker\":{\"colorbar\":{\"outlinewidth\":0,\"ticks\":\"\"}}}],\"bar\":[{\"error_x\":{\"color\":\"#2a3f5f\"},\"error_y\":{\"color\":\"#2a3f5f\"},\"marker\":{\"line\":{\"color\":\"#E5ECF6\",\"width\":0.5},\"pattern\":{\"fillmode\":\"overlay\",\"size\":10,\"solidity\":0.2}},\"type\":\"bar\"}],\"scattergeo\":[{\"type\":\"scattergeo\",\"marker\":{\"colorbar\":{\"outlinewidth\":0,\"ticks\":\"\"}}}],\"scatterpolar\":[{\"type\":\"scatterpolar\",\"marker\":{\"colorbar\":{\"outlinewidth\":0,\"ticks\":\"\"}}}],\"histogram\":[{\"marker\":{\"pattern\":{\"fillmode\":\"overlay\",\"size\":10,\"solidity\":0.2}},\"type\":\"histogram\"}],\"scattergl\":[{\"type\":\"scattergl\",\"marker\":{\"colorbar\":{\"outlinewidth\":0,\"ticks\":\"\"}}}],\"scatter3d\":[{\"type\":\"scatter3d\",\"line\":{\"colorbar\":{\"outlinewidth\":0,\"ticks\":\"\"}},\"marker\":{\"colorbar\":{\"outlinewidth\":0,\"ticks\":\"\"}}}],\"scattermapbox\":[{\"type\":\"scattermapbox\",\"marker\":{\"colorbar\":{\"outlinewidth\":0,\"ticks\":\"\"}}}],\"scatterternary\":[{\"type\":\"scatterternary\",\"marker\":{\"colorbar\":{\"outlinewidth\":0,\"ticks\":\"\"}}}],\"scattercarpet\":[{\"type\":\"scattercarpet\",\"marker\":{\"colorbar\":{\"outlinewidth\":0,\"ticks\":\"\"}}}],\"carpet\":[{\"aaxis\":{\"endlinecolor\":\"#2a3f5f\",\"gridcolor\":\"white\",\"linecolor\":\"white\",\"minorgridcolor\":\"white\",\"startlinecolor\":\"#2a3f5f\"},\"baxis\":{\"endlinecolor\":\"#2a3f5f\",\"gridcolor\":\"white\",\"linecolor\":\"white\",\"minorgridcolor\":\"white\",\"startlinecolor\":\"#2a3f5f\"},\"type\":\"carpet\"}],\"table\":[{\"cells\":{\"fill\":{\"color\":\"#EBF0F8\"},\"line\":{\"color\":\"white\"}},\"header\":{\"fill\":{\"color\":\"#C8D4E3\"},\"line\":{\"color\":\"white\"}},\"type\":\"table\"}],\"barpolar\":[{\"marker\":{\"line\":{\"color\":\"#E5ECF6\",\"width\":0.5},\"pattern\":{\"fillmode\":\"overlay\",\"size\":10,\"solidity\":0.2}},\"type\":\"barpolar\"}],\"pie\":[{\"automargin\":true,\"type\":\"pie\"}]},\"layout\":{\"autotypenumbers\":\"strict\",\"colorway\":[\"#636efa\",\"#EF553B\",\"#00cc96\",\"#ab63fa\",\"#FFA15A\",\"#19d3f3\",\"#FF6692\",\"#B6E880\",\"#FF97FF\",\"#FECB52\"],\"font\":{\"color\":\"#2a3f5f\"},\"hovermode\":\"closest\",\"hoverlabel\":{\"align\":\"left\"},\"paper_bgcolor\":\"white\",\"plot_bgcolor\":\"#E5ECF6\",\"polar\":{\"bgcolor\":\"#E5ECF6\",\"angularaxis\":{\"gridcolor\":\"white\",\"linecolor\":\"white\",\"ticks\":\"\"},\"radialaxis\":{\"gridcolor\":\"white\",\"linecolor\":\"white\",\"ticks\":\"\"}},\"ternary\":{\"bgcolor\":\"#E5ECF6\",\"aaxis\":{\"gridcolor\":\"white\",\"linecolor\":\"white\",\"ticks\":\"\"},\"baxis\":{\"gridcolor\":\"white\",\"linecolor\":\"white\",\"ticks\":\"\"},\"caxis\":{\"gridcolor\":\"white\",\"linecolor\":\"white\",\"ticks\":\"\"}},\"coloraxis\":{\"colorbar\":{\"outlinewidth\":0,\"ticks\":\"\"}},\"colorscale\":{\"sequential\":[[0.0,\"#0d0887\"],[0.1111111111111111,\"#46039f\"],[0.2222222222222222,\"#7201a8\"],[0.3333333333333333,\"#9c179e\"],[0.4444444444444444,\"#bd3786\"],[0.5555555555555556,\"#d8576b\"],[0.6666666666666666,\"#ed7953\"],[0.7777777777777778,\"#fb9f3a\"],[0.8888888888888888,\"#fdca26\"],[1.0,\"#f0f921\"]],\"sequentialminus\":[[0.0,\"#0d0887\"],[0.1111111111111111,\"#46039f\"],[0.2222222222222222,\"#7201a8\"],[0.3333333333333333,\"#9c179e\"],[0.4444444444444444,\"#bd3786\"],[0.5555555555555556,\"#d8576b\"],[0.6666666666666666,\"#ed7953\"],[0.7777777777777778,\"#fb9f3a\"],[0.8888888888888888,\"#fdca26\"],[1.0,\"#f0f921\"]],\"diverging\":[[0,\"#8e0152\"],[0.1,\"#c51b7d\"],[0.2,\"#de77ae\"],[0.3,\"#f1b6da\"],[0.4,\"#fde0ef\"],[0.5,\"#f7f7f7\"],[0.6,\"#e6f5d0\"],[0.7,\"#b8e186\"],[0.8,\"#7fbc41\"],[0.9,\"#4d9221\"],[1,\"#276419\"]]},\"xaxis\":{\"gridcolor\":\"white\",\"linecolor\":\"white\",\"ticks\":\"\",\"title\":{\"standoff\":15},\"zerolinecolor\":\"white\",\"automargin\":true,\"zerolinewidth\":2},\"yaxis\":{\"gridcolor\":\"white\",\"linecolor\":\"white\",\"ticks\":\"\",\"title\":{\"standoff\":15},\"zerolinecolor\":\"white\",\"automargin\":true,\"zerolinewidth\":2},\"scene\":{\"xaxis\":{\"backgroundcolor\":\"#E5ECF6\",\"gridcolor\":\"white\",\"linecolor\":\"white\",\"showbackground\":true,\"ticks\":\"\",\"zerolinecolor\":\"white\",\"gridwidth\":2},\"yaxis\":{\"backgroundcolor\":\"#E5ECF6\",\"gridcolor\":\"white\",\"linecolor\":\"white\",\"showbackground\":true,\"ticks\":\"\",\"zerolinecolor\":\"white\",\"gridwidth\":2},\"zaxis\":{\"backgroundcolor\":\"#E5ECF6\",\"gridcolor\":\"white\",\"linecolor\":\"white\",\"showbackground\":true,\"ticks\":\"\",\"zerolinecolor\":\"white\",\"gridwidth\":2}},\"shapedefaults\":{\"line\":{\"color\":\"#2a3f5f\"}},\"annotationdefaults\":{\"arrowcolor\":\"#2a3f5f\",\"arrowhead\":0,\"arrowwidth\":1},\"geo\":{\"bgcolor\":\"white\",\"landcolor\":\"#E5ECF6\",\"subunitcolor\":\"white\",\"showland\":true,\"showlakes\":true,\"lakecolor\":\"white\"},\"title\":{\"x\":0.05},\"mapbox\":{\"style\":\"light\"}}},\"xaxis\":{\"anchor\":\"y\",\"domain\":[0.0,1.0],\"title\":{\"text\":\"Column Name\"},\"categoryorder\":\"total ascending\"},\"yaxis\":{\"anchor\":\"x\",\"domain\":[0.0,1.0],\"title\":{\"text\":\"Quality Score\"},\"range\":[0,1]},\"legend\":{\"title\":{\"text\":\"Metric\"},\"tracegroupgap\":0},\"title\":{\"text\":\"Data Quality: Column Shapes (Average Score=0.79)\"},\"barmode\":\"relative\",\"margin\":{\"t\":150},\"plot_bgcolor\":\"#F5F5F8\"},                        {\"responsive\": true}                    ).then(function(){\n",
       "                            \n",
       "var gd = document.getElementById('a08d312a-dc15-4656-812e-ab3a36effa11');\n",
       "var x = new MutationObserver(function (mutations, observer) {{\n",
       "        var display = window.getComputedStyle(gd).display;\n",
       "        if (!display || display === 'none') {{\n",
       "            console.log([gd, 'removed!']);\n",
       "            Plotly.purge(gd);\n",
       "            observer.disconnect();\n",
       "        }}\n",
       "}});\n",
       "\n",
       "// Listen for the removal of the full notebook cells\n",
       "var notebookContainer = gd.closest('#notebook-container');\n",
       "if (notebookContainer) {{\n",
       "    x.observe(notebookContainer, {childList: true});\n",
       "}}\n",
       "\n",
       "// Listen for the clearing of the current output cell\n",
       "var outputEl = gd.closest('.output');\n",
       "if (outputEl) {{\n",
       "    x.observe(outputEl, {childList: true});\n",
       "}}\n",
       "\n",
       "                        })                };                });            </script>        </div>"
      ]
     },
     "metadata": {},
     "output_type": "display_data"
    }
   ],
   "source": [
    "quality_report.get_visualization(\"Column Shapes\")"
   ]
  },
  {
   "cell_type": "code",
   "execution_count": 72,
   "id": "d9f7ac88-75fc-41d4-9acf-9c1045e80763",
   "metadata": {},
   "outputs": [
    {
     "data": {
      "application/vnd.plotly.v1+json": {
       "config": {
        "plotlyServerURL": "https://plot.ly"
       },
       "data": [
        {
         "alignmentgroup": "True",
         "bingroup": "x",
         "histnorm": "probability density",
         "hovertemplate": "<b>Real</b><br>Frequency: %{y}<extra></extra>",
         "legendgroup": "Real",
         "marker": {
          "color": "#000036",
          "pattern": {
           "shape": ""
          }
         },
         "name": "Real",
         "offsetgroup": "Real",
         "orientation": "v",
         "showlegend": true,
         "type": "histogram",
         "x": [
          "BASIC",
          "BASIC",
          "DELUXE",
          "BASIC",
          "BASIC",
          "BASIC",
          "BASIC",
          "BASIC",
          "BASIC",
          "BASIC",
          "BASIC",
          "BASIC",
          "BASIC",
          "BASIC",
          "BASIC",
          "BASIC",
          "DELUXE",
          "BASIC",
          "DELUXE",
          "BASIC",
          "BASIC",
          "BASIC",
          "BASIC",
          "BASIC",
          "BASIC",
          "BASIC",
          "BASIC",
          "BASIC",
          "BASIC",
          "BASIC",
          "DELUXE",
          "BASIC",
          "BASIC",
          "BASIC",
          "BASIC",
          "BASIC",
          "BASIC",
          "BASIC",
          "BASIC",
          "BASIC",
          "SUITE",
          "BASIC",
          "DELUXE",
          "BASIC",
          "BASIC",
          "BASIC",
          "BASIC",
          "BASIC",
          "BASIC",
          "SUITE",
          "DELUXE",
          "BASIC",
          "BASIC",
          "DELUXE",
          "BASIC",
          "BASIC",
          "BASIC",
          "BASIC",
          "SUITE",
          "SUITE",
          "DELUXE",
          "BASIC",
          "BASIC",
          "BASIC",
          "BASIC",
          "BASIC",
          "BASIC",
          "BASIC",
          "SUITE",
          "BASIC",
          "BASIC",
          "BASIC",
          "BASIC",
          "BASIC",
          "DELUXE",
          "BASIC",
          "BASIC",
          "BASIC",
          "BASIC",
          "BASIC",
          "BASIC",
          "BASIC",
          "BASIC",
          "BASIC",
          "BASIC",
          "BASIC",
          "BASIC",
          "BASIC",
          "SUITE",
          "BASIC",
          "BASIC",
          "BASIC",
          "BASIC",
          "BASIC",
          "BASIC",
          "BASIC",
          "BASIC",
          "BASIC",
          "BASIC",
          "DELUXE",
          "BASIC",
          "BASIC",
          "DELUXE",
          "BASIC",
          "BASIC",
          "BASIC",
          "BASIC",
          "DELUXE",
          "BASIC",
          "BASIC",
          "BASIC",
          "DELUXE",
          "BASIC",
          "BASIC",
          "DELUXE",
          "DELUXE",
          "BASIC",
          "BASIC",
          "BASIC",
          "BASIC",
          "DELUXE",
          "DELUXE",
          "BASIC",
          "BASIC",
          "BASIC",
          "BASIC",
          "BASIC",
          "BASIC",
          "BASIC",
          "BASIC",
          "BASIC",
          "BASIC",
          "BASIC",
          "BASIC",
          "BASIC",
          "BASIC",
          "DELUXE",
          "SUITE",
          "BASIC",
          "BASIC",
          "BASIC",
          "BASIC",
          "SUITE",
          "BASIC",
          "SUITE",
          "BASIC",
          "BASIC",
          "BASIC",
          "BASIC",
          "SUITE",
          "BASIC",
          "BASIC",
          "BASIC",
          "BASIC",
          "BASIC",
          "BASIC",
          "BASIC",
          "BASIC",
          "BASIC",
          "BASIC",
          "DELUXE",
          "BASIC",
          "BASIC",
          "BASIC",
          "BASIC",
          "SUITE",
          "DELUXE",
          "BASIC",
          "BASIC",
          "BASIC",
          "BASIC",
          "BASIC",
          "BASIC",
          "BASIC",
          "BASIC",
          "BASIC",
          "BASIC",
          "BASIC",
          "DELUXE",
          "SUITE",
          "BASIC",
          "BASIC",
          "BASIC",
          "SUITE",
          "BASIC",
          "DELUXE",
          "BASIC",
          "BASIC",
          "BASIC",
          "BASIC",
          "DELUXE",
          "BASIC",
          "BASIC",
          "BASIC",
          "BASIC",
          "BASIC",
          "SUITE",
          "BASIC",
          "DELUXE",
          "BASIC",
          "BASIC",
          "BASIC",
          "BASIC",
          "BASIC",
          "BASIC",
          "BASIC",
          "DELUXE",
          "BASIC",
          "DELUXE",
          "DELUXE",
          "DELUXE",
          "DELUXE",
          "BASIC",
          "BASIC",
          "BASIC",
          "DELUXE",
          "SUITE",
          "BASIC",
          "BASIC",
          "SUITE",
          "DELUXE",
          "BASIC",
          "BASIC",
          "DELUXE",
          "BASIC",
          "BASIC",
          "BASIC",
          "BASIC",
          "DELUXE",
          "BASIC",
          "BASIC",
          "BASIC",
          "BASIC",
          "BASIC",
          "BASIC",
          "BASIC",
          "SUITE",
          "BASIC",
          "BASIC",
          "DELUXE",
          "BASIC",
          "BASIC",
          "BASIC",
          "BASIC",
          "BASIC",
          "BASIC",
          "SUITE",
          "BASIC",
          "BASIC",
          "BASIC",
          "BASIC",
          "DELUXE",
          "BASIC",
          "BASIC",
          "BASIC",
          "BASIC",
          "BASIC",
          "BASIC",
          "BASIC",
          "BASIC",
          "BASIC",
          "BASIC",
          "BASIC",
          "BASIC",
          "BASIC",
          "BASIC",
          "DELUXE",
          "SUITE",
          "BASIC",
          "BASIC",
          "BASIC",
          "BASIC",
          "BASIC",
          "BASIC",
          "BASIC",
          "DELUXE",
          "BASIC",
          "SUITE",
          "SUITE",
          "DELUXE",
          "BASIC",
          "BASIC",
          "DELUXE",
          "SUITE",
          "DELUXE",
          "BASIC",
          "BASIC",
          "BASIC",
          "BASIC",
          "BASIC",
          "DELUXE",
          "DELUXE",
          "BASIC",
          "BASIC",
          "BASIC",
          "BASIC",
          "BASIC",
          "DELUXE",
          "BASIC",
          "DELUXE",
          "BASIC",
          "BASIC",
          "BASIC",
          "BASIC",
          "DELUXE",
          "BASIC",
          "BASIC",
          "BASIC",
          "BASIC",
          "DELUXE",
          "DELUXE",
          "BASIC",
          "SUITE",
          "BASIC",
          "BASIC",
          "BASIC",
          "BASIC",
          "SUITE",
          "BASIC",
          "BASIC",
          "BASIC",
          "BASIC",
          "DELUXE",
          "BASIC",
          "BASIC",
          "BASIC",
          "BASIC",
          "BASIC",
          "BASIC",
          "BASIC",
          "BASIC",
          "BASIC",
          "BASIC",
          "BASIC",
          "BASIC",
          "SUITE",
          "BASIC",
          "BASIC",
          "BASIC",
          "BASIC",
          "BASIC",
          "BASIC",
          "BASIC",
          "BASIC",
          "DELUXE",
          "BASIC",
          "BASIC",
          "DELUXE",
          "BASIC",
          "DELUXE",
          "BASIC",
          "BASIC",
          "DELUXE",
          "DELUXE",
          "DELUXE",
          "SUITE",
          "BASIC",
          "BASIC",
          "DELUXE",
          "BASIC",
          "BASIC",
          "BASIC",
          "BASIC",
          "BASIC",
          "BASIC",
          "BASIC",
          "BASIC",
          "BASIC",
          "BASIC",
          "BASIC",
          "BASIC",
          "BASIC",
          "DELUXE",
          "DELUXE",
          "BASIC",
          "BASIC",
          "BASIC",
          "BASIC",
          "BASIC",
          "DELUXE",
          "BASIC",
          "BASIC",
          "BASIC",
          "SUITE",
          "BASIC",
          "BASIC",
          "BASIC",
          "BASIC",
          "BASIC",
          "DELUXE",
          "BASIC",
          "BASIC",
          "BASIC",
          "BASIC",
          "BASIC",
          "BASIC",
          "DELUXE",
          "BASIC",
          "BASIC",
          "BASIC",
          "BASIC",
          "BASIC",
          "DELUXE",
          "BASIC",
          "BASIC",
          "BASIC",
          "BASIC",
          "DELUXE",
          "DELUXE",
          "DELUXE",
          "BASIC",
          "BASIC",
          "BASIC",
          "BASIC",
          "BASIC",
          "BASIC",
          "BASIC",
          "DELUXE",
          "BASIC",
          "DELUXE",
          "BASIC",
          "SUITE",
          "DELUXE",
          "SUITE",
          "BASIC",
          "BASIC",
          "SUITE",
          "DELUXE",
          "BASIC",
          "SUITE",
          "BASIC",
          "BASIC",
          "BASIC",
          "DELUXE",
          "BASIC",
          "BASIC",
          "SUITE",
          "DELUXE",
          "BASIC",
          "BASIC",
          "BASIC",
          "SUITE",
          "BASIC",
          "DELUXE",
          "BASIC",
          "BASIC",
          "BASIC",
          "BASIC",
          "BASIC",
          "BASIC",
          "BASIC",
          "BASIC",
          "BASIC",
          "SUITE",
          "BASIC",
          "BASIC",
          "BASIC",
          "BASIC",
          "BASIC",
          "DELUXE",
          "BASIC",
          "DELUXE",
          "BASIC",
          "DELUXE",
          "BASIC",
          "DELUXE",
          "SUITE",
          "BASIC",
          "BASIC",
          "BASIC",
          "BASIC",
          "BASIC",
          "BASIC",
          "DELUXE",
          "BASIC",
          "SUITE",
          "BASIC",
          "BASIC",
          "SUITE",
          "SUITE",
          "BASIC",
          "BASIC",
          "BASIC",
          "BASIC",
          "BASIC",
          "BASIC",
          "BASIC",
          "DELUXE",
          "BASIC",
          "BASIC",
          "BASIC",
          "BASIC",
          "DELUXE",
          "BASIC",
          "BASIC",
          "BASIC",
          "BASIC",
          "BASIC",
          "BASIC",
          "BASIC"
         ],
         "xaxis": "x",
         "yaxis": "y"
        },
        {
         "alignmentgroup": "True",
         "bingroup": "x",
         "histnorm": "probability density",
         "hovertemplate": "<b>Synthetic</b><br>Frequency: %{y}<extra></extra>",
         "legendgroup": "Synthetic",
         "marker": {
          "color": "#01E0C9",
          "pattern": {
           "shape": "/"
          }
         },
         "name": "Synthetic",
         "offsetgroup": "Synthetic",
         "orientation": "v",
         "showlegend": true,
         "type": "histogram",
         "x": [
          "BASIC",
          "DELUXE",
          "BASIC",
          "BASIC",
          "BASIC",
          "SUITE",
          "BASIC",
          "BASIC",
          "DELUXE",
          "DELUXE",
          "SUITE",
          "BASIC",
          "DELUXE",
          "BASIC",
          "BASIC",
          "DELUXE",
          "BASIC",
          "BASIC",
          "DELUXE",
          "BASIC",
          "BASIC",
          "BASIC",
          "SUITE",
          "BASIC",
          "DELUXE",
          "BASIC",
          "BASIC",
          "BASIC",
          "BASIC",
          "SUITE",
          "BASIC",
          "DELUXE",
          "DELUXE",
          "DELUXE",
          "BASIC",
          "DELUXE",
          "SUITE",
          "BASIC",
          "DELUXE",
          "SUITE",
          "BASIC",
          "BASIC",
          "BASIC",
          "BASIC",
          "BASIC",
          "DELUXE",
          "DELUXE",
          "BASIC",
          "DELUXE",
          "BASIC",
          "BASIC",
          "BASIC",
          "BASIC",
          "DELUXE",
          "DELUXE",
          "DELUXE",
          "BASIC",
          "BASIC",
          "DELUXE",
          "BASIC",
          "BASIC",
          "BASIC",
          "BASIC",
          "DELUXE",
          "BASIC",
          "BASIC",
          "BASIC",
          "BASIC",
          "BASIC",
          "DELUXE",
          "DELUXE",
          "DELUXE",
          "BASIC",
          "DELUXE",
          "BASIC",
          "DELUXE",
          "BASIC",
          "BASIC",
          "BASIC",
          "BASIC",
          "BASIC",
          "BASIC",
          "DELUXE",
          "BASIC",
          "BASIC",
          "BASIC",
          "BASIC",
          "DELUXE",
          "BASIC",
          "SUITE",
          "BASIC",
          "BASIC",
          "DELUXE",
          "DELUXE",
          "BASIC",
          "DELUXE",
          "DELUXE",
          "BASIC",
          "BASIC",
          "BASIC",
          "BASIC",
          "BASIC",
          "DELUXE",
          "BASIC",
          "BASIC",
          "DELUXE",
          "BASIC",
          "BASIC",
          "BASIC",
          "DELUXE",
          "BASIC",
          "DELUXE",
          "BASIC",
          "SUITE",
          "DELUXE",
          "DELUXE",
          "BASIC",
          "DELUXE",
          "BASIC",
          "SUITE",
          "BASIC",
          "BASIC",
          "BASIC",
          "DELUXE",
          "BASIC",
          "BASIC",
          "DELUXE",
          "BASIC",
          "BASIC",
          "DELUXE",
          "BASIC",
          "BASIC",
          "SUITE",
          "SUITE",
          "DELUXE",
          "DELUXE",
          "BASIC",
          "BASIC",
          "BASIC",
          "DELUXE",
          "DELUXE",
          "DELUXE",
          "DELUXE",
          "BASIC",
          "BASIC",
          "DELUXE",
          "BASIC",
          "BASIC",
          "DELUXE",
          "BASIC",
          "BASIC",
          "SUITE",
          "DELUXE",
          "BASIC",
          "BASIC",
          "BASIC",
          "BASIC",
          "BASIC",
          "BASIC",
          "BASIC",
          "BASIC",
          "BASIC",
          "BASIC",
          "BASIC",
          "SUITE",
          "BASIC",
          "DELUXE",
          "DELUXE",
          "BASIC",
          "DELUXE",
          "SUITE",
          "BASIC",
          "BASIC",
          "DELUXE",
          "BASIC",
          "SUITE",
          "DELUXE",
          "DELUXE",
          "BASIC",
          "BASIC",
          "BASIC",
          "BASIC",
          "BASIC",
          "BASIC",
          "DELUXE",
          "BASIC",
          "DELUXE",
          "BASIC",
          "DELUXE",
          "BASIC",
          "BASIC",
          "BASIC",
          "DELUXE",
          "BASIC",
          "BASIC",
          "BASIC",
          "DELUXE",
          "DELUXE",
          "BASIC",
          "BASIC",
          "SUITE",
          "SUITE",
          "DELUXE",
          "BASIC",
          "BASIC",
          "BASIC",
          "BASIC",
          "BASIC",
          "DELUXE",
          "DELUXE",
          "DELUXE",
          "DELUXE",
          "BASIC",
          "BASIC",
          "BASIC",
          "DELUXE",
          "BASIC",
          "BASIC",
          "DELUXE",
          "BASIC",
          "DELUXE",
          "BASIC",
          "DELUXE",
          "DELUXE",
          "BASIC",
          "BASIC",
          "BASIC",
          "BASIC",
          "DELUXE",
          "DELUXE",
          "BASIC",
          "BASIC",
          "SUITE",
          "BASIC",
          "DELUXE",
          "BASIC",
          "BASIC",
          "BASIC",
          "BASIC",
          "DELUXE",
          "DELUXE",
          "BASIC",
          "BASIC",
          "BASIC",
          "DELUXE",
          "BASIC",
          "BASIC",
          "BASIC",
          "DELUXE",
          "BASIC",
          "BASIC",
          "BASIC",
          "BASIC",
          "DELUXE",
          "DELUXE",
          "SUITE",
          "BASIC",
          "DELUXE",
          "DELUXE",
          "BASIC",
          "DELUXE",
          "BASIC",
          "BASIC",
          "BASIC",
          "BASIC",
          "BASIC",
          "BASIC",
          "BASIC",
          "BASIC",
          "BASIC",
          "BASIC",
          "BASIC",
          "SUITE",
          "DELUXE",
          "SUITE",
          "BASIC",
          "BASIC",
          "BASIC",
          "DELUXE",
          "BASIC",
          "DELUXE",
          "BASIC",
          "BASIC",
          "DELUXE",
          "BASIC",
          "BASIC",
          "SUITE",
          "BASIC",
          "DELUXE",
          "BASIC",
          "BASIC",
          "BASIC",
          "BASIC",
          "BASIC",
          "DELUXE",
          "BASIC",
          "BASIC",
          "BASIC",
          "BASIC",
          "BASIC",
          "DELUXE",
          "DELUXE",
          "DELUXE",
          "DELUXE",
          "DELUXE",
          "DELUXE",
          "BASIC",
          "DELUXE",
          "BASIC",
          "DELUXE",
          "DELUXE",
          "DELUXE",
          "DELUXE",
          "DELUXE",
          "BASIC",
          "DELUXE",
          "BASIC",
          "DELUXE",
          "DELUXE",
          "DELUXE",
          "SUITE",
          "BASIC",
          "BASIC",
          "DELUXE",
          "BASIC",
          "BASIC",
          "BASIC",
          "DELUXE",
          "DELUXE",
          "BASIC",
          "BASIC",
          "DELUXE",
          "SUITE",
          "BASIC",
          "BASIC",
          "SUITE",
          "DELUXE",
          "DELUXE",
          "BASIC",
          "DELUXE",
          "BASIC",
          "BASIC",
          "BASIC",
          "BASIC",
          "DELUXE",
          "BASIC",
          "BASIC",
          "DELUXE",
          "DELUXE",
          "BASIC",
          "DELUXE",
          "SUITE",
          "SUITE",
          "DELUXE",
          "DELUXE",
          "DELUXE",
          "DELUXE",
          "BASIC",
          "BASIC",
          "BASIC",
          "DELUXE",
          "BASIC",
          "DELUXE",
          "DELUXE",
          "DELUXE",
          "SUITE",
          "SUITE",
          "DELUXE",
          "DELUXE",
          "BASIC",
          "DELUXE",
          "BASIC",
          "BASIC",
          "DELUXE",
          "BASIC",
          "BASIC",
          "DELUXE",
          "BASIC",
          "SUITE",
          "BASIC",
          "BASIC",
          "BASIC",
          "DELUXE",
          "DELUXE",
          "BASIC",
          "BASIC",
          "BASIC",
          "BASIC",
          "BASIC",
          "DELUXE",
          "BASIC",
          "DELUXE",
          "DELUXE",
          "DELUXE",
          "BASIC",
          "BASIC",
          "DELUXE",
          "BASIC",
          "SUITE",
          "BASIC",
          "DELUXE",
          "BASIC",
          "BASIC",
          "BASIC",
          "BASIC",
          "BASIC",
          "SUITE",
          "BASIC",
          "BASIC",
          "DELUXE",
          "DELUXE",
          "DELUXE",
          "BASIC",
          "BASIC",
          "DELUXE",
          "BASIC",
          "DELUXE",
          "BASIC",
          "BASIC",
          "BASIC",
          "BASIC",
          "BASIC",
          "BASIC",
          "BASIC",
          "BASIC",
          "BASIC",
          "SUITE",
          "DELUXE",
          "BASIC",
          "DELUXE",
          "DELUXE",
          "SUITE",
          "DELUXE",
          "DELUXE",
          "BASIC",
          "BASIC",
          "BASIC",
          "BASIC",
          "BASIC",
          "BASIC",
          "DELUXE",
          "BASIC",
          "DELUXE",
          "DELUXE",
          "DELUXE",
          "BASIC",
          "BASIC",
          "DELUXE",
          "BASIC",
          "BASIC",
          "BASIC",
          "DELUXE",
          "BASIC",
          "DELUXE",
          "BASIC",
          "BASIC",
          "BASIC",
          "DELUXE",
          "BASIC",
          "DELUXE",
          "BASIC",
          "DELUXE",
          "BASIC",
          "BASIC",
          "BASIC",
          "SUITE",
          "BASIC",
          "DELUXE",
          "BASIC",
          "DELUXE",
          "BASIC",
          "BASIC",
          "BASIC",
          "BASIC",
          "DELUXE",
          "SUITE",
          "DELUXE",
          "BASIC",
          "BASIC",
          "BASIC",
          "BASIC",
          "BASIC",
          "DELUXE",
          "DELUXE",
          "BASIC",
          "BASIC",
          "DELUXE",
          "DELUXE",
          "BASIC",
          "DELUXE",
          "BASIC",
          "DELUXE",
          "DELUXE",
          "BASIC",
          "DELUXE",
          "BASIC",
          "BASIC",
          "DELUXE",
          "DELUXE",
          "BASIC"
         ],
         "xaxis": "x",
         "yaxis": "y"
        }
       ],
       "layout": {
        "autosize": true,
        "barmode": "group",
        "legend": {
         "title": {
          "text": "Data"
         },
         "tracegroupgap": 0
        },
        "margin": {
         "t": 60
        },
        "plot_bgcolor": "#F5F5F8",
        "template": {
         "data": {
          "bar": [
           {
            "error_x": {
             "color": "#2a3f5f"
            },
            "error_y": {
             "color": "#2a3f5f"
            },
            "marker": {
             "line": {
              "color": "#E5ECF6",
              "width": 0.5
             },
             "pattern": {
              "fillmode": "overlay",
              "size": 10,
              "solidity": 0.2
             }
            },
            "type": "bar"
           }
          ],
          "barpolar": [
           {
            "marker": {
             "line": {
              "color": "#E5ECF6",
              "width": 0.5
             },
             "pattern": {
              "fillmode": "overlay",
              "size": 10,
              "solidity": 0.2
             }
            },
            "type": "barpolar"
           }
          ],
          "carpet": [
           {
            "aaxis": {
             "endlinecolor": "#2a3f5f",
             "gridcolor": "white",
             "linecolor": "white",
             "minorgridcolor": "white",
             "startlinecolor": "#2a3f5f"
            },
            "baxis": {
             "endlinecolor": "#2a3f5f",
             "gridcolor": "white",
             "linecolor": "white",
             "minorgridcolor": "white",
             "startlinecolor": "#2a3f5f"
            },
            "type": "carpet"
           }
          ],
          "choropleth": [
           {
            "colorbar": {
             "outlinewidth": 0,
             "ticks": ""
            },
            "type": "choropleth"
           }
          ],
          "contour": [
           {
            "colorbar": {
             "outlinewidth": 0,
             "ticks": ""
            },
            "colorscale": [
             [
              0,
              "#0d0887"
             ],
             [
              0.1111111111111111,
              "#46039f"
             ],
             [
              0.2222222222222222,
              "#7201a8"
             ],
             [
              0.3333333333333333,
              "#9c179e"
             ],
             [
              0.4444444444444444,
              "#bd3786"
             ],
             [
              0.5555555555555556,
              "#d8576b"
             ],
             [
              0.6666666666666666,
              "#ed7953"
             ],
             [
              0.7777777777777778,
              "#fb9f3a"
             ],
             [
              0.8888888888888888,
              "#fdca26"
             ],
             [
              1,
              "#f0f921"
             ]
            ],
            "type": "contour"
           }
          ],
          "contourcarpet": [
           {
            "colorbar": {
             "outlinewidth": 0,
             "ticks": ""
            },
            "type": "contourcarpet"
           }
          ],
          "heatmap": [
           {
            "colorbar": {
             "outlinewidth": 0,
             "ticks": ""
            },
            "colorscale": [
             [
              0,
              "#0d0887"
             ],
             [
              0.1111111111111111,
              "#46039f"
             ],
             [
              0.2222222222222222,
              "#7201a8"
             ],
             [
              0.3333333333333333,
              "#9c179e"
             ],
             [
              0.4444444444444444,
              "#bd3786"
             ],
             [
              0.5555555555555556,
              "#d8576b"
             ],
             [
              0.6666666666666666,
              "#ed7953"
             ],
             [
              0.7777777777777778,
              "#fb9f3a"
             ],
             [
              0.8888888888888888,
              "#fdca26"
             ],
             [
              1,
              "#f0f921"
             ]
            ],
            "type": "heatmap"
           }
          ],
          "heatmapgl": [
           {
            "colorbar": {
             "outlinewidth": 0,
             "ticks": ""
            },
            "colorscale": [
             [
              0,
              "#0d0887"
             ],
             [
              0.1111111111111111,
              "#46039f"
             ],
             [
              0.2222222222222222,
              "#7201a8"
             ],
             [
              0.3333333333333333,
              "#9c179e"
             ],
             [
              0.4444444444444444,
              "#bd3786"
             ],
             [
              0.5555555555555556,
              "#d8576b"
             ],
             [
              0.6666666666666666,
              "#ed7953"
             ],
             [
              0.7777777777777778,
              "#fb9f3a"
             ],
             [
              0.8888888888888888,
              "#fdca26"
             ],
             [
              1,
              "#f0f921"
             ]
            ],
            "type": "heatmapgl"
           }
          ],
          "histogram": [
           {
            "marker": {
             "pattern": {
              "fillmode": "overlay",
              "size": 10,
              "solidity": 0.2
             }
            },
            "type": "histogram"
           }
          ],
          "histogram2d": [
           {
            "colorbar": {
             "outlinewidth": 0,
             "ticks": ""
            },
            "colorscale": [
             [
              0,
              "#0d0887"
             ],
             [
              0.1111111111111111,
              "#46039f"
             ],
             [
              0.2222222222222222,
              "#7201a8"
             ],
             [
              0.3333333333333333,
              "#9c179e"
             ],
             [
              0.4444444444444444,
              "#bd3786"
             ],
             [
              0.5555555555555556,
              "#d8576b"
             ],
             [
              0.6666666666666666,
              "#ed7953"
             ],
             [
              0.7777777777777778,
              "#fb9f3a"
             ],
             [
              0.8888888888888888,
              "#fdca26"
             ],
             [
              1,
              "#f0f921"
             ]
            ],
            "type": "histogram2d"
           }
          ],
          "histogram2dcontour": [
           {
            "colorbar": {
             "outlinewidth": 0,
             "ticks": ""
            },
            "colorscale": [
             [
              0,
              "#0d0887"
             ],
             [
              0.1111111111111111,
              "#46039f"
             ],
             [
              0.2222222222222222,
              "#7201a8"
             ],
             [
              0.3333333333333333,
              "#9c179e"
             ],
             [
              0.4444444444444444,
              "#bd3786"
             ],
             [
              0.5555555555555556,
              "#d8576b"
             ],
             [
              0.6666666666666666,
              "#ed7953"
             ],
             [
              0.7777777777777778,
              "#fb9f3a"
             ],
             [
              0.8888888888888888,
              "#fdca26"
             ],
             [
              1,
              "#f0f921"
             ]
            ],
            "type": "histogram2dcontour"
           }
          ],
          "mesh3d": [
           {
            "colorbar": {
             "outlinewidth": 0,
             "ticks": ""
            },
            "type": "mesh3d"
           }
          ],
          "parcoords": [
           {
            "line": {
             "colorbar": {
              "outlinewidth": 0,
              "ticks": ""
             }
            },
            "type": "parcoords"
           }
          ],
          "pie": [
           {
            "automargin": true,
            "type": "pie"
           }
          ],
          "scatter": [
           {
            "fillpattern": {
             "fillmode": "overlay",
             "size": 10,
             "solidity": 0.2
            },
            "type": "scatter"
           }
          ],
          "scatter3d": [
           {
            "line": {
             "colorbar": {
              "outlinewidth": 0,
              "ticks": ""
             }
            },
            "marker": {
             "colorbar": {
              "outlinewidth": 0,
              "ticks": ""
             }
            },
            "type": "scatter3d"
           }
          ],
          "scattercarpet": [
           {
            "marker": {
             "colorbar": {
              "outlinewidth": 0,
              "ticks": ""
             }
            },
            "type": "scattercarpet"
           }
          ],
          "scattergeo": [
           {
            "marker": {
             "colorbar": {
              "outlinewidth": 0,
              "ticks": ""
             }
            },
            "type": "scattergeo"
           }
          ],
          "scattergl": [
           {
            "marker": {
             "colorbar": {
              "outlinewidth": 0,
              "ticks": ""
             }
            },
            "type": "scattergl"
           }
          ],
          "scattermapbox": [
           {
            "marker": {
             "colorbar": {
              "outlinewidth": 0,
              "ticks": ""
             }
            },
            "type": "scattermapbox"
           }
          ],
          "scatterpolar": [
           {
            "marker": {
             "colorbar": {
              "outlinewidth": 0,
              "ticks": ""
             }
            },
            "type": "scatterpolar"
           }
          ],
          "scatterpolargl": [
           {
            "marker": {
             "colorbar": {
              "outlinewidth": 0,
              "ticks": ""
             }
            },
            "type": "scatterpolargl"
           }
          ],
          "scatterternary": [
           {
            "marker": {
             "colorbar": {
              "outlinewidth": 0,
              "ticks": ""
             }
            },
            "type": "scatterternary"
           }
          ],
          "surface": [
           {
            "colorbar": {
             "outlinewidth": 0,
             "ticks": ""
            },
            "colorscale": [
             [
              0,
              "#0d0887"
             ],
             [
              0.1111111111111111,
              "#46039f"
             ],
             [
              0.2222222222222222,
              "#7201a8"
             ],
             [
              0.3333333333333333,
              "#9c179e"
             ],
             [
              0.4444444444444444,
              "#bd3786"
             ],
             [
              0.5555555555555556,
              "#d8576b"
             ],
             [
              0.6666666666666666,
              "#ed7953"
             ],
             [
              0.7777777777777778,
              "#fb9f3a"
             ],
             [
              0.8888888888888888,
              "#fdca26"
             ],
             [
              1,
              "#f0f921"
             ]
            ],
            "type": "surface"
           }
          ],
          "table": [
           {
            "cells": {
             "fill": {
              "color": "#EBF0F8"
             },
             "line": {
              "color": "white"
             }
            },
            "header": {
             "fill": {
              "color": "#C8D4E3"
             },
             "line": {
              "color": "white"
             }
            },
            "type": "table"
           }
          ]
         },
         "layout": {
          "annotationdefaults": {
           "arrowcolor": "#2a3f5f",
           "arrowhead": 0,
           "arrowwidth": 1
          },
          "autotypenumbers": "strict",
          "coloraxis": {
           "colorbar": {
            "outlinewidth": 0,
            "ticks": ""
           }
          },
          "colorscale": {
           "diverging": [
            [
             0,
             "#8e0152"
            ],
            [
             0.1,
             "#c51b7d"
            ],
            [
             0.2,
             "#de77ae"
            ],
            [
             0.3,
             "#f1b6da"
            ],
            [
             0.4,
             "#fde0ef"
            ],
            [
             0.5,
             "#f7f7f7"
            ],
            [
             0.6,
             "#e6f5d0"
            ],
            [
             0.7,
             "#b8e186"
            ],
            [
             0.8,
             "#7fbc41"
            ],
            [
             0.9,
             "#4d9221"
            ],
            [
             1,
             "#276419"
            ]
           ],
           "sequential": [
            [
             0,
             "#0d0887"
            ],
            [
             0.1111111111111111,
             "#46039f"
            ],
            [
             0.2222222222222222,
             "#7201a8"
            ],
            [
             0.3333333333333333,
             "#9c179e"
            ],
            [
             0.4444444444444444,
             "#bd3786"
            ],
            [
             0.5555555555555556,
             "#d8576b"
            ],
            [
             0.6666666666666666,
             "#ed7953"
            ],
            [
             0.7777777777777778,
             "#fb9f3a"
            ],
            [
             0.8888888888888888,
             "#fdca26"
            ],
            [
             1,
             "#f0f921"
            ]
           ],
           "sequentialminus": [
            [
             0,
             "#0d0887"
            ],
            [
             0.1111111111111111,
             "#46039f"
            ],
            [
             0.2222222222222222,
             "#7201a8"
            ],
            [
             0.3333333333333333,
             "#9c179e"
            ],
            [
             0.4444444444444444,
             "#bd3786"
            ],
            [
             0.5555555555555556,
             "#d8576b"
            ],
            [
             0.6666666666666666,
             "#ed7953"
            ],
            [
             0.7777777777777778,
             "#fb9f3a"
            ],
            [
             0.8888888888888888,
             "#fdca26"
            ],
            [
             1,
             "#f0f921"
            ]
           ]
          },
          "colorway": [
           "#636efa",
           "#EF553B",
           "#00cc96",
           "#ab63fa",
           "#FFA15A",
           "#19d3f3",
           "#FF6692",
           "#B6E880",
           "#FF97FF",
           "#FECB52"
          ],
          "font": {
           "color": "#2a3f5f"
          },
          "geo": {
           "bgcolor": "white",
           "lakecolor": "white",
           "landcolor": "#E5ECF6",
           "showlakes": true,
           "showland": true,
           "subunitcolor": "white"
          },
          "hoverlabel": {
           "align": "left"
          },
          "hovermode": "closest",
          "mapbox": {
           "style": "light"
          },
          "paper_bgcolor": "white",
          "plot_bgcolor": "#E5ECF6",
          "polar": {
           "angularaxis": {
            "gridcolor": "white",
            "linecolor": "white",
            "ticks": ""
           },
           "bgcolor": "#E5ECF6",
           "radialaxis": {
            "gridcolor": "white",
            "linecolor": "white",
            "ticks": ""
           }
          },
          "scene": {
           "xaxis": {
            "backgroundcolor": "#E5ECF6",
            "gridcolor": "white",
            "gridwidth": 2,
            "linecolor": "white",
            "showbackground": true,
            "ticks": "",
            "zerolinecolor": "white"
           },
           "yaxis": {
            "backgroundcolor": "#E5ECF6",
            "gridcolor": "white",
            "gridwidth": 2,
            "linecolor": "white",
            "showbackground": true,
            "ticks": "",
            "zerolinecolor": "white"
           },
           "zaxis": {
            "backgroundcolor": "#E5ECF6",
            "gridcolor": "white",
            "gridwidth": 2,
            "linecolor": "white",
            "showbackground": true,
            "ticks": "",
            "zerolinecolor": "white"
           }
          },
          "shapedefaults": {
           "line": {
            "color": "#2a3f5f"
           }
          },
          "ternary": {
           "aaxis": {
            "gridcolor": "white",
            "linecolor": "white",
            "ticks": ""
           },
           "baxis": {
            "gridcolor": "white",
            "linecolor": "white",
            "ticks": ""
           },
           "bgcolor": "#E5ECF6",
           "caxis": {
            "gridcolor": "white",
            "linecolor": "white",
            "ticks": ""
           }
          },
          "title": {
           "x": 0.05
          },
          "xaxis": {
           "automargin": true,
           "gridcolor": "white",
           "linecolor": "white",
           "ticks": "",
           "title": {
            "standoff": 15
           },
           "zerolinecolor": "white",
           "zerolinewidth": 2
          },
          "yaxis": {
           "automargin": true,
           "gridcolor": "white",
           "linecolor": "white",
           "ticks": "",
           "title": {
            "standoff": 15
           },
           "zerolinecolor": "white",
           "zerolinewidth": 2
          }
         }
        },
        "title": {
         "text": "Real vs. Synthetic Data for column 'room_type'"
        },
        "xaxis": {
         "anchor": "y",
         "autorange": true,
         "domain": [
          0,
          1
         ],
         "range": [
          -0.5,
          2.5
         ],
         "title": {
          "text": "Category"
         },
         "type": "category"
        },
        "yaxis": {
         "anchor": "x",
         "autorange": true,
         "domain": [
          0,
          1
         ],
         "range": [
          0,
          0.8084210526315789
         ],
         "title": {
          "text": "Frequency"
         }
        }
       }
      },
      "text/html": [
       "<div>                            <div id=\"f2354348-aa38-4e23-9b68-674e9c966cc3\" class=\"plotly-graph-div\" style=\"height:525px; width:100%;\"></div>            <script type=\"text/javascript\">                require([\"plotly\"], function(Plotly) {                    window.PLOTLYENV=window.PLOTLYENV || {};                                    if (document.getElementById(\"f2354348-aa38-4e23-9b68-674e9c966cc3\")) {                    Plotly.newPlot(                        \"f2354348-aa38-4e23-9b68-674e9c966cc3\",                        [{\"alignmentgroup\":\"True\",\"bingroup\":\"x\",\"histnorm\":\"probability density\",\"hovertemplate\":\"\\u003cb\\u003eReal\\u003c\\u002fb\\u003e\\u003cbr\\u003eFrequency: %{y}\\u003cextra\\u003e\\u003c\\u002fextra\\u003e\",\"legendgroup\":\"Real\",\"marker\":{\"color\":\"#000036\",\"pattern\":{\"shape\":\"\"}},\"name\":\"Real\",\"offsetgroup\":\"Real\",\"orientation\":\"v\",\"showlegend\":true,\"x\":[\"BASIC\",\"BASIC\",\"DELUXE\",\"BASIC\",\"BASIC\",\"BASIC\",\"BASIC\",\"BASIC\",\"BASIC\",\"BASIC\",\"BASIC\",\"BASIC\",\"BASIC\",\"BASIC\",\"BASIC\",\"BASIC\",\"DELUXE\",\"BASIC\",\"DELUXE\",\"BASIC\",\"BASIC\",\"BASIC\",\"BASIC\",\"BASIC\",\"BASIC\",\"BASIC\",\"BASIC\",\"BASIC\",\"BASIC\",\"BASIC\",\"DELUXE\",\"BASIC\",\"BASIC\",\"BASIC\",\"BASIC\",\"BASIC\",\"BASIC\",\"BASIC\",\"BASIC\",\"BASIC\",\"SUITE\",\"BASIC\",\"DELUXE\",\"BASIC\",\"BASIC\",\"BASIC\",\"BASIC\",\"BASIC\",\"BASIC\",\"SUITE\",\"DELUXE\",\"BASIC\",\"BASIC\",\"DELUXE\",\"BASIC\",\"BASIC\",\"BASIC\",\"BASIC\",\"SUITE\",\"SUITE\",\"DELUXE\",\"BASIC\",\"BASIC\",\"BASIC\",\"BASIC\",\"BASIC\",\"BASIC\",\"BASIC\",\"SUITE\",\"BASIC\",\"BASIC\",\"BASIC\",\"BASIC\",\"BASIC\",\"DELUXE\",\"BASIC\",\"BASIC\",\"BASIC\",\"BASIC\",\"BASIC\",\"BASIC\",\"BASIC\",\"BASIC\",\"BASIC\",\"BASIC\",\"BASIC\",\"BASIC\",\"BASIC\",\"SUITE\",\"BASIC\",\"BASIC\",\"BASIC\",\"BASIC\",\"BASIC\",\"BASIC\",\"BASIC\",\"BASIC\",\"BASIC\",\"BASIC\",\"DELUXE\",\"BASIC\",\"BASIC\",\"DELUXE\",\"BASIC\",\"BASIC\",\"BASIC\",\"BASIC\",\"DELUXE\",\"BASIC\",\"BASIC\",\"BASIC\",\"DELUXE\",\"BASIC\",\"BASIC\",\"DELUXE\",\"DELUXE\",\"BASIC\",\"BASIC\",\"BASIC\",\"BASIC\",\"DELUXE\",\"DELUXE\",\"BASIC\",\"BASIC\",\"BASIC\",\"BASIC\",\"BASIC\",\"BASIC\",\"BASIC\",\"BASIC\",\"BASIC\",\"BASIC\",\"BASIC\",\"BASIC\",\"BASIC\",\"BASIC\",\"DELUXE\",\"SUITE\",\"BASIC\",\"BASIC\",\"BASIC\",\"BASIC\",\"SUITE\",\"BASIC\",\"SUITE\",\"BASIC\",\"BASIC\",\"BASIC\",\"BASIC\",\"SUITE\",\"BASIC\",\"BASIC\",\"BASIC\",\"BASIC\",\"BASIC\",\"BASIC\",\"BASIC\",\"BASIC\",\"BASIC\",\"BASIC\",\"DELUXE\",\"BASIC\",\"BASIC\",\"BASIC\",\"BASIC\",\"SUITE\",\"DELUXE\",\"BASIC\",\"BASIC\",\"BASIC\",\"BASIC\",\"BASIC\",\"BASIC\",\"BASIC\",\"BASIC\",\"BASIC\",\"BASIC\",\"BASIC\",\"DELUXE\",\"SUITE\",\"BASIC\",\"BASIC\",\"BASIC\",\"SUITE\",\"BASIC\",\"DELUXE\",\"BASIC\",\"BASIC\",\"BASIC\",\"BASIC\",\"DELUXE\",\"BASIC\",\"BASIC\",\"BASIC\",\"BASIC\",\"BASIC\",\"SUITE\",\"BASIC\",\"DELUXE\",\"BASIC\",\"BASIC\",\"BASIC\",\"BASIC\",\"BASIC\",\"BASIC\",\"BASIC\",\"DELUXE\",\"BASIC\",\"DELUXE\",\"DELUXE\",\"DELUXE\",\"DELUXE\",\"BASIC\",\"BASIC\",\"BASIC\",\"DELUXE\",\"SUITE\",\"BASIC\",\"BASIC\",\"SUITE\",\"DELUXE\",\"BASIC\",\"BASIC\",\"DELUXE\",\"BASIC\",\"BASIC\",\"BASIC\",\"BASIC\",\"DELUXE\",\"BASIC\",\"BASIC\",\"BASIC\",\"BASIC\",\"BASIC\",\"BASIC\",\"BASIC\",\"SUITE\",\"BASIC\",\"BASIC\",\"DELUXE\",\"BASIC\",\"BASIC\",\"BASIC\",\"BASIC\",\"BASIC\",\"BASIC\",\"SUITE\",\"BASIC\",\"BASIC\",\"BASIC\",\"BASIC\",\"DELUXE\",\"BASIC\",\"BASIC\",\"BASIC\",\"BASIC\",\"BASIC\",\"BASIC\",\"BASIC\",\"BASIC\",\"BASIC\",\"BASIC\",\"BASIC\",\"BASIC\",\"BASIC\",\"BASIC\",\"DELUXE\",\"SUITE\",\"BASIC\",\"BASIC\",\"BASIC\",\"BASIC\",\"BASIC\",\"BASIC\",\"BASIC\",\"DELUXE\",\"BASIC\",\"SUITE\",\"SUITE\",\"DELUXE\",\"BASIC\",\"BASIC\",\"DELUXE\",\"SUITE\",\"DELUXE\",\"BASIC\",\"BASIC\",\"BASIC\",\"BASIC\",\"BASIC\",\"DELUXE\",\"DELUXE\",\"BASIC\",\"BASIC\",\"BASIC\",\"BASIC\",\"BASIC\",\"DELUXE\",\"BASIC\",\"DELUXE\",\"BASIC\",\"BASIC\",\"BASIC\",\"BASIC\",\"DELUXE\",\"BASIC\",\"BASIC\",\"BASIC\",\"BASIC\",\"DELUXE\",\"DELUXE\",\"BASIC\",\"SUITE\",\"BASIC\",\"BASIC\",\"BASIC\",\"BASIC\",\"SUITE\",\"BASIC\",\"BASIC\",\"BASIC\",\"BASIC\",\"DELUXE\",\"BASIC\",\"BASIC\",\"BASIC\",\"BASIC\",\"BASIC\",\"BASIC\",\"BASIC\",\"BASIC\",\"BASIC\",\"BASIC\",\"BASIC\",\"BASIC\",\"SUITE\",\"BASIC\",\"BASIC\",\"BASIC\",\"BASIC\",\"BASIC\",\"BASIC\",\"BASIC\",\"BASIC\",\"DELUXE\",\"BASIC\",\"BASIC\",\"DELUXE\",\"BASIC\",\"DELUXE\",\"BASIC\",\"BASIC\",\"DELUXE\",\"DELUXE\",\"DELUXE\",\"SUITE\",\"BASIC\",\"BASIC\",\"DELUXE\",\"BASIC\",\"BASIC\",\"BASIC\",\"BASIC\",\"BASIC\",\"BASIC\",\"BASIC\",\"BASIC\",\"BASIC\",\"BASIC\",\"BASIC\",\"BASIC\",\"BASIC\",\"DELUXE\",\"DELUXE\",\"BASIC\",\"BASIC\",\"BASIC\",\"BASIC\",\"BASIC\",\"DELUXE\",\"BASIC\",\"BASIC\",\"BASIC\",\"SUITE\",\"BASIC\",\"BASIC\",\"BASIC\",\"BASIC\",\"BASIC\",\"DELUXE\",\"BASIC\",\"BASIC\",\"BASIC\",\"BASIC\",\"BASIC\",\"BASIC\",\"DELUXE\",\"BASIC\",\"BASIC\",\"BASIC\",\"BASIC\",\"BASIC\",\"DELUXE\",\"BASIC\",\"BASIC\",\"BASIC\",\"BASIC\",\"DELUXE\",\"DELUXE\",\"DELUXE\",\"BASIC\",\"BASIC\",\"BASIC\",\"BASIC\",\"BASIC\",\"BASIC\",\"BASIC\",\"DELUXE\",\"BASIC\",\"DELUXE\",\"BASIC\",\"SUITE\",\"DELUXE\",\"SUITE\",\"BASIC\",\"BASIC\",\"SUITE\",\"DELUXE\",\"BASIC\",\"SUITE\",\"BASIC\",\"BASIC\",\"BASIC\",\"DELUXE\",\"BASIC\",\"BASIC\",\"SUITE\",\"DELUXE\",\"BASIC\",\"BASIC\",\"BASIC\",\"SUITE\",\"BASIC\",\"DELUXE\",\"BASIC\",\"BASIC\",\"BASIC\",\"BASIC\",\"BASIC\",\"BASIC\",\"BASIC\",\"BASIC\",\"BASIC\",\"SUITE\",\"BASIC\",\"BASIC\",\"BASIC\",\"BASIC\",\"BASIC\",\"DELUXE\",\"BASIC\",\"DELUXE\",\"BASIC\",\"DELUXE\",\"BASIC\",\"DELUXE\",\"SUITE\",\"BASIC\",\"BASIC\",\"BASIC\",\"BASIC\",\"BASIC\",\"BASIC\",\"DELUXE\",\"BASIC\",\"SUITE\",\"BASIC\",\"BASIC\",\"SUITE\",\"SUITE\",\"BASIC\",\"BASIC\",\"BASIC\",\"BASIC\",\"BASIC\",\"BASIC\",\"BASIC\",\"DELUXE\",\"BASIC\",\"BASIC\",\"BASIC\",\"BASIC\",\"DELUXE\",\"BASIC\",\"BASIC\",\"BASIC\",\"BASIC\",\"BASIC\",\"BASIC\",\"BASIC\"],\"xaxis\":\"x\",\"yaxis\":\"y\",\"type\":\"histogram\"},{\"alignmentgroup\":\"True\",\"bingroup\":\"x\",\"histnorm\":\"probability density\",\"hovertemplate\":\"\\u003cb\\u003eSynthetic\\u003c\\u002fb\\u003e\\u003cbr\\u003eFrequency: %{y}\\u003cextra\\u003e\\u003c\\u002fextra\\u003e\",\"legendgroup\":\"Synthetic\",\"marker\":{\"color\":\"#01E0C9\",\"pattern\":{\"shape\":\"\\u002f\"}},\"name\":\"Synthetic\",\"offsetgroup\":\"Synthetic\",\"orientation\":\"v\",\"showlegend\":true,\"x\":[\"BASIC\",\"DELUXE\",\"BASIC\",\"BASIC\",\"BASIC\",\"SUITE\",\"BASIC\",\"BASIC\",\"DELUXE\",\"DELUXE\",\"SUITE\",\"BASIC\",\"DELUXE\",\"BASIC\",\"BASIC\",\"DELUXE\",\"BASIC\",\"BASIC\",\"DELUXE\",\"BASIC\",\"BASIC\",\"BASIC\",\"SUITE\",\"BASIC\",\"DELUXE\",\"BASIC\",\"BASIC\",\"BASIC\",\"BASIC\",\"SUITE\",\"BASIC\",\"DELUXE\",\"DELUXE\",\"DELUXE\",\"BASIC\",\"DELUXE\",\"SUITE\",\"BASIC\",\"DELUXE\",\"SUITE\",\"BASIC\",\"BASIC\",\"BASIC\",\"BASIC\",\"BASIC\",\"DELUXE\",\"DELUXE\",\"BASIC\",\"DELUXE\",\"BASIC\",\"BASIC\",\"BASIC\",\"BASIC\",\"DELUXE\",\"DELUXE\",\"DELUXE\",\"BASIC\",\"BASIC\",\"DELUXE\",\"BASIC\",\"BASIC\",\"BASIC\",\"BASIC\",\"DELUXE\",\"BASIC\",\"BASIC\",\"BASIC\",\"BASIC\",\"BASIC\",\"DELUXE\",\"DELUXE\",\"DELUXE\",\"BASIC\",\"DELUXE\",\"BASIC\",\"DELUXE\",\"BASIC\",\"BASIC\",\"BASIC\",\"BASIC\",\"BASIC\",\"BASIC\",\"DELUXE\",\"BASIC\",\"BASIC\",\"BASIC\",\"BASIC\",\"DELUXE\",\"BASIC\",\"SUITE\",\"BASIC\",\"BASIC\",\"DELUXE\",\"DELUXE\",\"BASIC\",\"DELUXE\",\"DELUXE\",\"BASIC\",\"BASIC\",\"BASIC\",\"BASIC\",\"BASIC\",\"DELUXE\",\"BASIC\",\"BASIC\",\"DELUXE\",\"BASIC\",\"BASIC\",\"BASIC\",\"DELUXE\",\"BASIC\",\"DELUXE\",\"BASIC\",\"SUITE\",\"DELUXE\",\"DELUXE\",\"BASIC\",\"DELUXE\",\"BASIC\",\"SUITE\",\"BASIC\",\"BASIC\",\"BASIC\",\"DELUXE\",\"BASIC\",\"BASIC\",\"DELUXE\",\"BASIC\",\"BASIC\",\"DELUXE\",\"BASIC\",\"BASIC\",\"SUITE\",\"SUITE\",\"DELUXE\",\"DELUXE\",\"BASIC\",\"BASIC\",\"BASIC\",\"DELUXE\",\"DELUXE\",\"DELUXE\",\"DELUXE\",\"BASIC\",\"BASIC\",\"DELUXE\",\"BASIC\",\"BASIC\",\"DELUXE\",\"BASIC\",\"BASIC\",\"SUITE\",\"DELUXE\",\"BASIC\",\"BASIC\",\"BASIC\",\"BASIC\",\"BASIC\",\"BASIC\",\"BASIC\",\"BASIC\",\"BASIC\",\"BASIC\",\"BASIC\",\"SUITE\",\"BASIC\",\"DELUXE\",\"DELUXE\",\"BASIC\",\"DELUXE\",\"SUITE\",\"BASIC\",\"BASIC\",\"DELUXE\",\"BASIC\",\"SUITE\",\"DELUXE\",\"DELUXE\",\"BASIC\",\"BASIC\",\"BASIC\",\"BASIC\",\"BASIC\",\"BASIC\",\"DELUXE\",\"BASIC\",\"DELUXE\",\"BASIC\",\"DELUXE\",\"BASIC\",\"BASIC\",\"BASIC\",\"DELUXE\",\"BASIC\",\"BASIC\",\"BASIC\",\"DELUXE\",\"DELUXE\",\"BASIC\",\"BASIC\",\"SUITE\",\"SUITE\",\"DELUXE\",\"BASIC\",\"BASIC\",\"BASIC\",\"BASIC\",\"BASIC\",\"DELUXE\",\"DELUXE\",\"DELUXE\",\"DELUXE\",\"BASIC\",\"BASIC\",\"BASIC\",\"DELUXE\",\"BASIC\",\"BASIC\",\"DELUXE\",\"BASIC\",\"DELUXE\",\"BASIC\",\"DELUXE\",\"DELUXE\",\"BASIC\",\"BASIC\",\"BASIC\",\"BASIC\",\"DELUXE\",\"DELUXE\",\"BASIC\",\"BASIC\",\"SUITE\",\"BASIC\",\"DELUXE\",\"BASIC\",\"BASIC\",\"BASIC\",\"BASIC\",\"DELUXE\",\"DELUXE\",\"BASIC\",\"BASIC\",\"BASIC\",\"DELUXE\",\"BASIC\",\"BASIC\",\"BASIC\",\"DELUXE\",\"BASIC\",\"BASIC\",\"BASIC\",\"BASIC\",\"DELUXE\",\"DELUXE\",\"SUITE\",\"BASIC\",\"DELUXE\",\"DELUXE\",\"BASIC\",\"DELUXE\",\"BASIC\",\"BASIC\",\"BASIC\",\"BASIC\",\"BASIC\",\"BASIC\",\"BASIC\",\"BASIC\",\"BASIC\",\"BASIC\",\"BASIC\",\"SUITE\",\"DELUXE\",\"SUITE\",\"BASIC\",\"BASIC\",\"BASIC\",\"DELUXE\",\"BASIC\",\"DELUXE\",\"BASIC\",\"BASIC\",\"DELUXE\",\"BASIC\",\"BASIC\",\"SUITE\",\"BASIC\",\"DELUXE\",\"BASIC\",\"BASIC\",\"BASIC\",\"BASIC\",\"BASIC\",\"DELUXE\",\"BASIC\",\"BASIC\",\"BASIC\",\"BASIC\",\"BASIC\",\"DELUXE\",\"DELUXE\",\"DELUXE\",\"DELUXE\",\"DELUXE\",\"DELUXE\",\"BASIC\",\"DELUXE\",\"BASIC\",\"DELUXE\",\"DELUXE\",\"DELUXE\",\"DELUXE\",\"DELUXE\",\"BASIC\",\"DELUXE\",\"BASIC\",\"DELUXE\",\"DELUXE\",\"DELUXE\",\"SUITE\",\"BASIC\",\"BASIC\",\"DELUXE\",\"BASIC\",\"BASIC\",\"BASIC\",\"DELUXE\",\"DELUXE\",\"BASIC\",\"BASIC\",\"DELUXE\",\"SUITE\",\"BASIC\",\"BASIC\",\"SUITE\",\"DELUXE\",\"DELUXE\",\"BASIC\",\"DELUXE\",\"BASIC\",\"BASIC\",\"BASIC\",\"BASIC\",\"DELUXE\",\"BASIC\",\"BASIC\",\"DELUXE\",\"DELUXE\",\"BASIC\",\"DELUXE\",\"SUITE\",\"SUITE\",\"DELUXE\",\"DELUXE\",\"DELUXE\",\"DELUXE\",\"BASIC\",\"BASIC\",\"BASIC\",\"DELUXE\",\"BASIC\",\"DELUXE\",\"DELUXE\",\"DELUXE\",\"SUITE\",\"SUITE\",\"DELUXE\",\"DELUXE\",\"BASIC\",\"DELUXE\",\"BASIC\",\"BASIC\",\"DELUXE\",\"BASIC\",\"BASIC\",\"DELUXE\",\"BASIC\",\"SUITE\",\"BASIC\",\"BASIC\",\"BASIC\",\"DELUXE\",\"DELUXE\",\"BASIC\",\"BASIC\",\"BASIC\",\"BASIC\",\"BASIC\",\"DELUXE\",\"BASIC\",\"DELUXE\",\"DELUXE\",\"DELUXE\",\"BASIC\",\"BASIC\",\"DELUXE\",\"BASIC\",\"SUITE\",\"BASIC\",\"DELUXE\",\"BASIC\",\"BASIC\",\"BASIC\",\"BASIC\",\"BASIC\",\"SUITE\",\"BASIC\",\"BASIC\",\"DELUXE\",\"DELUXE\",\"DELUXE\",\"BASIC\",\"BASIC\",\"DELUXE\",\"BASIC\",\"DELUXE\",\"BASIC\",\"BASIC\",\"BASIC\",\"BASIC\",\"BASIC\",\"BASIC\",\"BASIC\",\"BASIC\",\"BASIC\",\"SUITE\",\"DELUXE\",\"BASIC\",\"DELUXE\",\"DELUXE\",\"SUITE\",\"DELUXE\",\"DELUXE\",\"BASIC\",\"BASIC\",\"BASIC\",\"BASIC\",\"BASIC\",\"BASIC\",\"DELUXE\",\"BASIC\",\"DELUXE\",\"DELUXE\",\"DELUXE\",\"BASIC\",\"BASIC\",\"DELUXE\",\"BASIC\",\"BASIC\",\"BASIC\",\"DELUXE\",\"BASIC\",\"DELUXE\",\"BASIC\",\"BASIC\",\"BASIC\",\"DELUXE\",\"BASIC\",\"DELUXE\",\"BASIC\",\"DELUXE\",\"BASIC\",\"BASIC\",\"BASIC\",\"SUITE\",\"BASIC\",\"DELUXE\",\"BASIC\",\"DELUXE\",\"BASIC\",\"BASIC\",\"BASIC\",\"BASIC\",\"DELUXE\",\"SUITE\",\"DELUXE\",\"BASIC\",\"BASIC\",\"BASIC\",\"BASIC\",\"BASIC\",\"DELUXE\",\"DELUXE\",\"BASIC\",\"BASIC\",\"DELUXE\",\"DELUXE\",\"BASIC\",\"DELUXE\",\"BASIC\",\"DELUXE\",\"DELUXE\",\"BASIC\",\"DELUXE\",\"BASIC\",\"BASIC\",\"DELUXE\",\"DELUXE\",\"BASIC\"],\"xaxis\":\"x\",\"yaxis\":\"y\",\"type\":\"histogram\"}],                        {\"template\":{\"data\":{\"histogram2dcontour\":[{\"type\":\"histogram2dcontour\",\"colorbar\":{\"outlinewidth\":0,\"ticks\":\"\"},\"colorscale\":[[0.0,\"#0d0887\"],[0.1111111111111111,\"#46039f\"],[0.2222222222222222,\"#7201a8\"],[0.3333333333333333,\"#9c179e\"],[0.4444444444444444,\"#bd3786\"],[0.5555555555555556,\"#d8576b\"],[0.6666666666666666,\"#ed7953\"],[0.7777777777777778,\"#fb9f3a\"],[0.8888888888888888,\"#fdca26\"],[1.0,\"#f0f921\"]]}],\"choropleth\":[{\"type\":\"choropleth\",\"colorbar\":{\"outlinewidth\":0,\"ticks\":\"\"}}],\"histogram2d\":[{\"type\":\"histogram2d\",\"colorbar\":{\"outlinewidth\":0,\"ticks\":\"\"},\"colorscale\":[[0.0,\"#0d0887\"],[0.1111111111111111,\"#46039f\"],[0.2222222222222222,\"#7201a8\"],[0.3333333333333333,\"#9c179e\"],[0.4444444444444444,\"#bd3786\"],[0.5555555555555556,\"#d8576b\"],[0.6666666666666666,\"#ed7953\"],[0.7777777777777778,\"#fb9f3a\"],[0.8888888888888888,\"#fdca26\"],[1.0,\"#f0f921\"]]}],\"heatmap\":[{\"type\":\"heatmap\",\"colorbar\":{\"outlinewidth\":0,\"ticks\":\"\"},\"colorscale\":[[0.0,\"#0d0887\"],[0.1111111111111111,\"#46039f\"],[0.2222222222222222,\"#7201a8\"],[0.3333333333333333,\"#9c179e\"],[0.4444444444444444,\"#bd3786\"],[0.5555555555555556,\"#d8576b\"],[0.6666666666666666,\"#ed7953\"],[0.7777777777777778,\"#fb9f3a\"],[0.8888888888888888,\"#fdca26\"],[1.0,\"#f0f921\"]]}],\"heatmapgl\":[{\"type\":\"heatmapgl\",\"colorbar\":{\"outlinewidth\":0,\"ticks\":\"\"},\"colorscale\":[[0.0,\"#0d0887\"],[0.1111111111111111,\"#46039f\"],[0.2222222222222222,\"#7201a8\"],[0.3333333333333333,\"#9c179e\"],[0.4444444444444444,\"#bd3786\"],[0.5555555555555556,\"#d8576b\"],[0.6666666666666666,\"#ed7953\"],[0.7777777777777778,\"#fb9f3a\"],[0.8888888888888888,\"#fdca26\"],[1.0,\"#f0f921\"]]}],\"contourcarpet\":[{\"type\":\"contourcarpet\",\"colorbar\":{\"outlinewidth\":0,\"ticks\":\"\"}}],\"contour\":[{\"type\":\"contour\",\"colorbar\":{\"outlinewidth\":0,\"ticks\":\"\"},\"colorscale\":[[0.0,\"#0d0887\"],[0.1111111111111111,\"#46039f\"],[0.2222222222222222,\"#7201a8\"],[0.3333333333333333,\"#9c179e\"],[0.4444444444444444,\"#bd3786\"],[0.5555555555555556,\"#d8576b\"],[0.6666666666666666,\"#ed7953\"],[0.7777777777777778,\"#fb9f3a\"],[0.8888888888888888,\"#fdca26\"],[1.0,\"#f0f921\"]]}],\"surface\":[{\"type\":\"surface\",\"colorbar\":{\"outlinewidth\":0,\"ticks\":\"\"},\"colorscale\":[[0.0,\"#0d0887\"],[0.1111111111111111,\"#46039f\"],[0.2222222222222222,\"#7201a8\"],[0.3333333333333333,\"#9c179e\"],[0.4444444444444444,\"#bd3786\"],[0.5555555555555556,\"#d8576b\"],[0.6666666666666666,\"#ed7953\"],[0.7777777777777778,\"#fb9f3a\"],[0.8888888888888888,\"#fdca26\"],[1.0,\"#f0f921\"]]}],\"mesh3d\":[{\"type\":\"mesh3d\",\"colorbar\":{\"outlinewidth\":0,\"ticks\":\"\"}}],\"scatter\":[{\"fillpattern\":{\"fillmode\":\"overlay\",\"size\":10,\"solidity\":0.2},\"type\":\"scatter\"}],\"parcoords\":[{\"type\":\"parcoords\",\"line\":{\"colorbar\":{\"outlinewidth\":0,\"ticks\":\"\"}}}],\"scatterpolargl\":[{\"type\":\"scatterpolargl\",\"marker\":{\"colorbar\":{\"outlinewidth\":0,\"ticks\":\"\"}}}],\"bar\":[{\"error_x\":{\"color\":\"#2a3f5f\"},\"error_y\":{\"color\":\"#2a3f5f\"},\"marker\":{\"line\":{\"color\":\"#E5ECF6\",\"width\":0.5},\"pattern\":{\"fillmode\":\"overlay\",\"size\":10,\"solidity\":0.2}},\"type\":\"bar\"}],\"scattergeo\":[{\"type\":\"scattergeo\",\"marker\":{\"colorbar\":{\"outlinewidth\":0,\"ticks\":\"\"}}}],\"scatterpolar\":[{\"type\":\"scatterpolar\",\"marker\":{\"colorbar\":{\"outlinewidth\":0,\"ticks\":\"\"}}}],\"histogram\":[{\"marker\":{\"pattern\":{\"fillmode\":\"overlay\",\"size\":10,\"solidity\":0.2}},\"type\":\"histogram\"}],\"scattergl\":[{\"type\":\"scattergl\",\"marker\":{\"colorbar\":{\"outlinewidth\":0,\"ticks\":\"\"}}}],\"scatter3d\":[{\"type\":\"scatter3d\",\"line\":{\"colorbar\":{\"outlinewidth\":0,\"ticks\":\"\"}},\"marker\":{\"colorbar\":{\"outlinewidth\":0,\"ticks\":\"\"}}}],\"scattermapbox\":[{\"type\":\"scattermapbox\",\"marker\":{\"colorbar\":{\"outlinewidth\":0,\"ticks\":\"\"}}}],\"scatterternary\":[{\"type\":\"scatterternary\",\"marker\":{\"colorbar\":{\"outlinewidth\":0,\"ticks\":\"\"}}}],\"scattercarpet\":[{\"type\":\"scattercarpet\",\"marker\":{\"colorbar\":{\"outlinewidth\":0,\"ticks\":\"\"}}}],\"carpet\":[{\"aaxis\":{\"endlinecolor\":\"#2a3f5f\",\"gridcolor\":\"white\",\"linecolor\":\"white\",\"minorgridcolor\":\"white\",\"startlinecolor\":\"#2a3f5f\"},\"baxis\":{\"endlinecolor\":\"#2a3f5f\",\"gridcolor\":\"white\",\"linecolor\":\"white\",\"minorgridcolor\":\"white\",\"startlinecolor\":\"#2a3f5f\"},\"type\":\"carpet\"}],\"table\":[{\"cells\":{\"fill\":{\"color\":\"#EBF0F8\"},\"line\":{\"color\":\"white\"}},\"header\":{\"fill\":{\"color\":\"#C8D4E3\"},\"line\":{\"color\":\"white\"}},\"type\":\"table\"}],\"barpolar\":[{\"marker\":{\"line\":{\"color\":\"#E5ECF6\",\"width\":0.5},\"pattern\":{\"fillmode\":\"overlay\",\"size\":10,\"solidity\":0.2}},\"type\":\"barpolar\"}],\"pie\":[{\"automargin\":true,\"type\":\"pie\"}]},\"layout\":{\"autotypenumbers\":\"strict\",\"colorway\":[\"#636efa\",\"#EF553B\",\"#00cc96\",\"#ab63fa\",\"#FFA15A\",\"#19d3f3\",\"#FF6692\",\"#B6E880\",\"#FF97FF\",\"#FECB52\"],\"font\":{\"color\":\"#2a3f5f\"},\"hovermode\":\"closest\",\"hoverlabel\":{\"align\":\"left\"},\"paper_bgcolor\":\"white\",\"plot_bgcolor\":\"#E5ECF6\",\"polar\":{\"bgcolor\":\"#E5ECF6\",\"angularaxis\":{\"gridcolor\":\"white\",\"linecolor\":\"white\",\"ticks\":\"\"},\"radialaxis\":{\"gridcolor\":\"white\",\"linecolor\":\"white\",\"ticks\":\"\"}},\"ternary\":{\"bgcolor\":\"#E5ECF6\",\"aaxis\":{\"gridcolor\":\"white\",\"linecolor\":\"white\",\"ticks\":\"\"},\"baxis\":{\"gridcolor\":\"white\",\"linecolor\":\"white\",\"ticks\":\"\"},\"caxis\":{\"gridcolor\":\"white\",\"linecolor\":\"white\",\"ticks\":\"\"}},\"coloraxis\":{\"colorbar\":{\"outlinewidth\":0,\"ticks\":\"\"}},\"colorscale\":{\"sequential\":[[0.0,\"#0d0887\"],[0.1111111111111111,\"#46039f\"],[0.2222222222222222,\"#7201a8\"],[0.3333333333333333,\"#9c179e\"],[0.4444444444444444,\"#bd3786\"],[0.5555555555555556,\"#d8576b\"],[0.6666666666666666,\"#ed7953\"],[0.7777777777777778,\"#fb9f3a\"],[0.8888888888888888,\"#fdca26\"],[1.0,\"#f0f921\"]],\"sequentialminus\":[[0.0,\"#0d0887\"],[0.1111111111111111,\"#46039f\"],[0.2222222222222222,\"#7201a8\"],[0.3333333333333333,\"#9c179e\"],[0.4444444444444444,\"#bd3786\"],[0.5555555555555556,\"#d8576b\"],[0.6666666666666666,\"#ed7953\"],[0.7777777777777778,\"#fb9f3a\"],[0.8888888888888888,\"#fdca26\"],[1.0,\"#f0f921\"]],\"diverging\":[[0,\"#8e0152\"],[0.1,\"#c51b7d\"],[0.2,\"#de77ae\"],[0.3,\"#f1b6da\"],[0.4,\"#fde0ef\"],[0.5,\"#f7f7f7\"],[0.6,\"#e6f5d0\"],[0.7,\"#b8e186\"],[0.8,\"#7fbc41\"],[0.9,\"#4d9221\"],[1,\"#276419\"]]},\"xaxis\":{\"gridcolor\":\"white\",\"linecolor\":\"white\",\"ticks\":\"\",\"title\":{\"standoff\":15},\"zerolinecolor\":\"white\",\"automargin\":true,\"zerolinewidth\":2},\"yaxis\":{\"gridcolor\":\"white\",\"linecolor\":\"white\",\"ticks\":\"\",\"title\":{\"standoff\":15},\"zerolinecolor\":\"white\",\"automargin\":true,\"zerolinewidth\":2},\"scene\":{\"xaxis\":{\"backgroundcolor\":\"#E5ECF6\",\"gridcolor\":\"white\",\"linecolor\":\"white\",\"showbackground\":true,\"ticks\":\"\",\"zerolinecolor\":\"white\",\"gridwidth\":2},\"yaxis\":{\"backgroundcolor\":\"#E5ECF6\",\"gridcolor\":\"white\",\"linecolor\":\"white\",\"showbackground\":true,\"ticks\":\"\",\"zerolinecolor\":\"white\",\"gridwidth\":2},\"zaxis\":{\"backgroundcolor\":\"#E5ECF6\",\"gridcolor\":\"white\",\"linecolor\":\"white\",\"showbackground\":true,\"ticks\":\"\",\"zerolinecolor\":\"white\",\"gridwidth\":2}},\"shapedefaults\":{\"line\":{\"color\":\"#2a3f5f\"}},\"annotationdefaults\":{\"arrowcolor\":\"#2a3f5f\",\"arrowhead\":0,\"arrowwidth\":1},\"geo\":{\"bgcolor\":\"white\",\"landcolor\":\"#E5ECF6\",\"subunitcolor\":\"white\",\"showland\":true,\"showlakes\":true,\"lakecolor\":\"white\"},\"title\":{\"x\":0.05},\"mapbox\":{\"style\":\"light\"}}},\"xaxis\":{\"anchor\":\"y\",\"domain\":[0.0,1.0],\"title\":{\"text\":\"Category\"}},\"yaxis\":{\"anchor\":\"x\",\"domain\":[0.0,1.0],\"title\":{\"text\":\"Frequency\"}},\"legend\":{\"title\":{\"text\":\"Data\"},\"tracegroupgap\":0},\"margin\":{\"t\":60},\"barmode\":\"group\",\"title\":{\"text\":\"Real vs. Synthetic Data for column 'room_type'\"},\"plot_bgcolor\":\"#F5F5F8\"},                        {\"responsive\": true}                    ).then(function(){\n",
       "                            \n",
       "var gd = document.getElementById('f2354348-aa38-4e23-9b68-674e9c966cc3');\n",
       "var x = new MutationObserver(function (mutations, observer) {{\n",
       "        var display = window.getComputedStyle(gd).display;\n",
       "        if (!display || display === 'none') {{\n",
       "            console.log([gd, 'removed!']);\n",
       "            Plotly.purge(gd);\n",
       "            observer.disconnect();\n",
       "        }}\n",
       "}});\n",
       "\n",
       "// Listen for the removal of the full notebook cells\n",
       "var notebookContainer = gd.closest('#notebook-container');\n",
       "if (notebookContainer) {{\n",
       "    x.observe(notebookContainer, {childList: true});\n",
       "}}\n",
       "\n",
       "// Listen for the clearing of the current output cell\n",
       "var outputEl = gd.closest('.output');\n",
       "if (outputEl) {{\n",
       "    x.observe(outputEl, {childList: true});\n",
       "}}\n",
       "\n",
       "                        })                };                });            </script>        </div>"
      ]
     },
     "metadata": {},
     "output_type": "display_data"
    }
   ],
   "source": [
    "# visualizing the data\n",
    "from sdv.evaluation.single_table import get_column_plot\n",
    "\n",
    "fig = get_column_plot(\n",
    "    real_data=real_data,\n",
    "    synthetic_data=synthetic_data,\n",
    "    column_name=\"room_type\",\n",
    "    metadata=metadata\n",
    ")\n",
    "\n",
    "fig.show()"
   ]
  },
  {
   "cell_type": "code",
   "execution_count": 73,
   "id": "d9f8abd8-7c34-4d39-9907-7e6477efe341",
   "metadata": {},
   "outputs": [
    {
     "name": "stderr",
     "output_type": "stream",
     "text": [
      "/opt/homebrew/Caskroom/miniforge/base/lib/python3.9/site-packages/rdt/transformers/base.py:132: FutureWarning:\n",
      "\n",
      "Future versions of RDT will not support the 'model_missing_values' parameter. Please switch to using the 'missing_value_generation' parameter to select your strategy.\n",
      "\n",
      "/opt/homebrew/Caskroom/miniforge/base/lib/python3.9/site-packages/rdt/transformers/base.py:132: FutureWarning:\n",
      "\n",
      "Future versions of RDT will not support the 'model_missing_values' parameter. Please switch to using the 'missing_value_generation' parameter to select your strategy.\n",
      "\n",
      "/opt/homebrew/Caskroom/miniforge/base/lib/python3.9/site-packages/rdt/transformers/base.py:132: FutureWarning:\n",
      "\n",
      "Future versions of RDT will not support the 'model_missing_values' parameter. Please switch to using the 'missing_value_generation' parameter to select your strategy.\n",
      "\n",
      "/opt/homebrew/Caskroom/miniforge/base/lib/python3.9/site-packages/rdt/transformers/base.py:132: FutureWarning:\n",
      "\n",
      "Future versions of RDT will not support the 'model_missing_values' parameter. Please switch to using the 'missing_value_generation' parameter to select your strategy.\n",
      "\n"
     ]
    }
   ],
   "source": [
    "# customization \n",
    "\n",
    "custom_synthesizer = CTGANSynthesizer(\n",
    "    metadata,\n",
    "    epochs=1000 # use higher epochs to improve the data quality\n",
    ")\n",
    "\n",
    "custom_synthesizer.fit(real_data)"
   ]
  },
  {
   "cell_type": "code",
   "execution_count": 74,
   "id": "8651e7d0-7919-4960-b8fe-ff9e82b9aeb7",
   "metadata": {},
   "outputs": [
    {
     "name": "stderr",
     "output_type": "stream",
     "text": [
      "Creating report: 100%|████████████████████████████| 4/4 [00:00<00:00, 91.07it/s]"
     ]
    },
    {
     "name": "stdout",
     "output_type": "stream",
     "text": [
      "\n",
      "Overall Quality Score: 84.37%\n",
      "\n",
      "Properties:\n",
      "Column Shapes: 85.86%\n",
      "Column Pair Trends: 82.87%\n"
     ]
    },
    {
     "name": "stderr",
     "output_type": "stream",
     "text": [
      "\n"
     ]
    }
   ],
   "source": [
    "synthetic_data_customized = custom_synthesizer.sample(num_rows=500)\n",
    "\n",
    "quality_report = evaluate_quality(\n",
    "    real_data,\n",
    "    synthetic_data_customized,\n",
    "    metadata\n",
    ")"
   ]
  },
  {
   "cell_type": "markdown",
   "id": "0c3aa253-21cd-484a-a8af-33dbe592a2f4",
   "metadata": {},
   "source": [
    "# Synthetic Sequence (PAR)\n",
    "\n",
    "- suited for multi-sequence data\n",
    "    - multi-sequence: multiple sequences exist in the same table (e.g. different sequences for each company)"
   ]
  },
  {
   "cell_type": "code",
   "execution_count": 75,
   "id": "d9dd227d-7a1e-4509-908f-bea469e4f575",
   "metadata": {},
   "outputs": [],
   "source": [
    "# loading demo data\n",
    "\n",
    "from sdv.datasets.demo import download_demo\n",
    "\n",
    "real_data, metadata = download_demo(\n",
    "    modality=\"sequential\",\n",
    "    dataset_name=\"nasdaq100_2019\"\n",
    ")"
   ]
  },
  {
   "cell_type": "code",
   "execution_count": 77,
   "id": "977e181e-bd54-47ea-bcb0-2ad49c2a9fa7",
   "metadata": {},
   "outputs": [
    {
     "data": {
      "text/html": [
       "<div>\n",
       "<style scoped>\n",
       "    .dataframe tbody tr th:only-of-type {\n",
       "        vertical-align: middle;\n",
       "    }\n",
       "\n",
       "    .dataframe tbody tr th {\n",
       "        vertical-align: top;\n",
       "    }\n",
       "\n",
       "    .dataframe thead th {\n",
       "        text-align: right;\n",
       "    }\n",
       "</style>\n",
       "<table border=\"1\" class=\"dataframe\">\n",
       "  <thead>\n",
       "    <tr style=\"text-align: right;\">\n",
       "      <th></th>\n",
       "      <th>Symbol</th>\n",
       "      <th>Date</th>\n",
       "      <th>Open</th>\n",
       "      <th>Close</th>\n",
       "      <th>Volume</th>\n",
       "      <th>MarketCap</th>\n",
       "      <th>Sector</th>\n",
       "      <th>Industry</th>\n",
       "    </tr>\n",
       "  </thead>\n",
       "  <tbody>\n",
       "    <tr>\n",
       "      <th>0</th>\n",
       "      <td>AAPL</td>\n",
       "      <td>2018-12-31</td>\n",
       "      <td>39.632500</td>\n",
       "      <td>39.435001</td>\n",
       "      <td>140014000</td>\n",
       "      <td>7.378734e+11</td>\n",
       "      <td>Technology</td>\n",
       "      <td>Computer Manufacturing</td>\n",
       "    </tr>\n",
       "    <tr>\n",
       "      <th>1</th>\n",
       "      <td>AAPL</td>\n",
       "      <td>2019-01-02</td>\n",
       "      <td>38.722500</td>\n",
       "      <td>39.480000</td>\n",
       "      <td>148158800</td>\n",
       "      <td>7.378734e+11</td>\n",
       "      <td>Technology</td>\n",
       "      <td>Computer Manufacturing</td>\n",
       "    </tr>\n",
       "    <tr>\n",
       "      <th>2</th>\n",
       "      <td>AAPL</td>\n",
       "      <td>2019-01-03</td>\n",
       "      <td>35.994999</td>\n",
       "      <td>35.547501</td>\n",
       "      <td>365248800</td>\n",
       "      <td>7.378734e+11</td>\n",
       "      <td>Technology</td>\n",
       "      <td>Computer Manufacturing</td>\n",
       "    </tr>\n",
       "    <tr>\n",
       "      <th>3</th>\n",
       "      <td>AAPL</td>\n",
       "      <td>2019-01-04</td>\n",
       "      <td>36.132500</td>\n",
       "      <td>37.064999</td>\n",
       "      <td>234428400</td>\n",
       "      <td>7.378734e+11</td>\n",
       "      <td>Technology</td>\n",
       "      <td>Computer Manufacturing</td>\n",
       "    </tr>\n",
       "    <tr>\n",
       "      <th>4</th>\n",
       "      <td>AAPL</td>\n",
       "      <td>2019-01-07</td>\n",
       "      <td>37.174999</td>\n",
       "      <td>36.982498</td>\n",
       "      <td>219111200</td>\n",
       "      <td>7.378734e+11</td>\n",
       "      <td>Technology</td>\n",
       "      <td>Computer Manufacturing</td>\n",
       "    </tr>\n",
       "  </tbody>\n",
       "</table>\n",
       "</div>"
      ],
      "text/plain": [
       "  Symbol        Date       Open      Close     Volume     MarketCap  \\\n",
       "0   AAPL  2018-12-31  39.632500  39.435001  140014000  7.378734e+11   \n",
       "1   AAPL  2019-01-02  38.722500  39.480000  148158800  7.378734e+11   \n",
       "2   AAPL  2019-01-03  35.994999  35.547501  365248800  7.378734e+11   \n",
       "3   AAPL  2019-01-04  36.132500  37.064999  234428400  7.378734e+11   \n",
       "4   AAPL  2019-01-07  37.174999  36.982498  219111200  7.378734e+11   \n",
       "\n",
       "       Sector                Industry  \n",
       "0  Technology  Computer Manufacturing  \n",
       "1  Technology  Computer Manufacturing  \n",
       "2  Technology  Computer Manufacturing  \n",
       "3  Technology  Computer Manufacturing  \n",
       "4  Technology  Computer Manufacturing  "
      ]
     },
     "execution_count": 77,
     "metadata": {},
     "output_type": "execute_result"
    }
   ],
   "source": [
    "real_data.head()"
   ]
  },
  {
   "cell_type": "code",
   "execution_count": 78,
   "id": "89573af1-7df2-4c5b-8e9c-769188b91753",
   "metadata": {},
   "outputs": [
    {
     "data": {
      "text/plain": [
       "{\n",
       "    \"columns\": {\n",
       "        \"Symbol\": {\n",
       "            \"sdtype\": \"id\",\n",
       "            \"regex_format\": \"[A-Z]{4}\"\n",
       "        },\n",
       "        \"Date\": {\n",
       "            \"sdtype\": \"datetime\",\n",
       "            \"datetime_format\": \"%Y-%m-%d\"\n",
       "        },\n",
       "        \"Open\": {\n",
       "            \"sdtype\": \"numerical\",\n",
       "            \"computer_representation\": \"Float\"\n",
       "        },\n",
       "        \"Close\": {\n",
       "            \"sdtype\": \"numerical\",\n",
       "            \"computer_representation\": \"Float\"\n",
       "        },\n",
       "        \"Volume\": {\n",
       "            \"sdtype\": \"numerical\",\n",
       "            \"computer_representation\": \"Int64\"\n",
       "        },\n",
       "        \"MarketCap\": {\n",
       "            \"sdtype\": \"numerical\",\n",
       "            \"computer_representation\": \"Float\"\n",
       "        },\n",
       "        \"Sector\": {\n",
       "            \"sdtype\": \"categorical\"\n",
       "        },\n",
       "        \"Industry\": {\n",
       "            \"sdtype\": \"categorical\"\n",
       "        }\n",
       "    },\n",
       "    \"METADATA_SPEC_VERSION\": \"SINGLE_TABLE_V1\",\n",
       "    \"sequence_index\": \"Date\",\n",
       "    \"sequence_key\": \"Symbol\"\n",
       "}"
      ]
     },
     "execution_count": 78,
     "metadata": {},
     "output_type": "execute_result"
    }
   ],
   "source": [
    "metadata"
   ]
  },
  {
   "cell_type": "code",
   "execution_count": 85,
   "id": "32280f03-2919-4a4d-9634-480ebd10e6ad",
   "metadata": {},
   "outputs": [
    {
     "data": {
      "text/html": [
       "<div>\n",
       "<style scoped>\n",
       "    .dataframe tbody tr th:only-of-type {\n",
       "        vertical-align: middle;\n",
       "    }\n",
       "\n",
       "    .dataframe tbody tr th {\n",
       "        vertical-align: top;\n",
       "    }\n",
       "\n",
       "    .dataframe thead th {\n",
       "        text-align: right;\n",
       "    }\n",
       "</style>\n",
       "<table border=\"1\" class=\"dataframe\">\n",
       "  <thead>\n",
       "    <tr style=\"text-align: right;\">\n",
       "      <th></th>\n",
       "      <th>Symbol</th>\n",
       "      <th>Date</th>\n",
       "      <th>Open</th>\n",
       "      <th>Close</th>\n",
       "      <th>Volume</th>\n",
       "      <th>MarketCap</th>\n",
       "      <th>Sector</th>\n",
       "      <th>Industry</th>\n",
       "    </tr>\n",
       "  </thead>\n",
       "  <tbody>\n",
       "    <tr>\n",
       "      <th>0</th>\n",
       "      <td>AAPL</td>\n",
       "      <td>2018-12-31</td>\n",
       "      <td>39.632500</td>\n",
       "      <td>39.435001</td>\n",
       "      <td>140014000</td>\n",
       "      <td>7.378734e+11</td>\n",
       "      <td>Technology</td>\n",
       "      <td>Computer Manufacturing</td>\n",
       "    </tr>\n",
       "    <tr>\n",
       "      <th>1</th>\n",
       "      <td>AAPL</td>\n",
       "      <td>2019-01-02</td>\n",
       "      <td>38.722500</td>\n",
       "      <td>39.480000</td>\n",
       "      <td>148158800</td>\n",
       "      <td>7.378734e+11</td>\n",
       "      <td>Technology</td>\n",
       "      <td>Computer Manufacturing</td>\n",
       "    </tr>\n",
       "    <tr>\n",
       "      <th>2</th>\n",
       "      <td>AAPL</td>\n",
       "      <td>2019-01-03</td>\n",
       "      <td>35.994999</td>\n",
       "      <td>35.547501</td>\n",
       "      <td>365248800</td>\n",
       "      <td>7.378734e+11</td>\n",
       "      <td>Technology</td>\n",
       "      <td>Computer Manufacturing</td>\n",
       "    </tr>\n",
       "    <tr>\n",
       "      <th>3</th>\n",
       "      <td>AAPL</td>\n",
       "      <td>2019-01-04</td>\n",
       "      <td>36.132500</td>\n",
       "      <td>37.064999</td>\n",
       "      <td>234428400</td>\n",
       "      <td>7.378734e+11</td>\n",
       "      <td>Technology</td>\n",
       "      <td>Computer Manufacturing</td>\n",
       "    </tr>\n",
       "    <tr>\n",
       "      <th>4</th>\n",
       "      <td>AAPL</td>\n",
       "      <td>2019-01-07</td>\n",
       "      <td>37.174999</td>\n",
       "      <td>36.982498</td>\n",
       "      <td>219111200</td>\n",
       "      <td>7.378734e+11</td>\n",
       "      <td>Technology</td>\n",
       "      <td>Computer Manufacturing</td>\n",
       "    </tr>\n",
       "    <tr>\n",
       "      <th>...</th>\n",
       "      <td>...</td>\n",
       "      <td>...</td>\n",
       "      <td>...</td>\n",
       "      <td>...</td>\n",
       "      <td>...</td>\n",
       "      <td>...</td>\n",
       "      <td>...</td>\n",
       "      <td>...</td>\n",
       "    </tr>\n",
       "    <tr>\n",
       "      <th>25779</th>\n",
       "      <td>LBTYA</td>\n",
       "      <td>2019-12-23</td>\n",
       "      <td>22.690001</td>\n",
       "      <td>22.799999</td>\n",
       "      <td>906400</td>\n",
       "      <td>3.143930e+10</td>\n",
       "      <td>Consumer Services</td>\n",
       "      <td>Television Services</td>\n",
       "    </tr>\n",
       "    <tr>\n",
       "      <th>25780</th>\n",
       "      <td>LBTYA</td>\n",
       "      <td>2019-12-24</td>\n",
       "      <td>22.780001</td>\n",
       "      <td>22.790001</td>\n",
       "      <td>334900</td>\n",
       "      <td>3.143930e+10</td>\n",
       "      <td>Consumer Services</td>\n",
       "      <td>Television Services</td>\n",
       "    </tr>\n",
       "    <tr>\n",
       "      <th>25781</th>\n",
       "      <td>LBTYA</td>\n",
       "      <td>2019-12-26</td>\n",
       "      <td>22.850000</td>\n",
       "      <td>22.420000</td>\n",
       "      <td>782200</td>\n",
       "      <td>3.143930e+10</td>\n",
       "      <td>Consumer Services</td>\n",
       "      <td>Television Services</td>\n",
       "    </tr>\n",
       "    <tr>\n",
       "      <th>25782</th>\n",
       "      <td>LBTYA</td>\n",
       "      <td>2019-12-27</td>\n",
       "      <td>22.510000</td>\n",
       "      <td>22.790001</td>\n",
       "      <td>909600</td>\n",
       "      <td>3.143930e+10</td>\n",
       "      <td>Consumer Services</td>\n",
       "      <td>Television Services</td>\n",
       "    </tr>\n",
       "    <tr>\n",
       "      <th>25783</th>\n",
       "      <td>LBTYA</td>\n",
       "      <td>2019-12-30</td>\n",
       "      <td>22.809999</td>\n",
       "      <td>22.620001</td>\n",
       "      <td>1104900</td>\n",
       "      <td>3.143930e+10</td>\n",
       "      <td>Consumer Services</td>\n",
       "      <td>Television Services</td>\n",
       "    </tr>\n",
       "  </tbody>\n",
       "</table>\n",
       "<p>25784 rows × 8 columns</p>\n",
       "</div>"
      ],
      "text/plain": [
       "      Symbol        Date       Open      Close     Volume     MarketCap  \\\n",
       "0       AAPL  2018-12-31  39.632500  39.435001  140014000  7.378734e+11   \n",
       "1       AAPL  2019-01-02  38.722500  39.480000  148158800  7.378734e+11   \n",
       "2       AAPL  2019-01-03  35.994999  35.547501  365248800  7.378734e+11   \n",
       "3       AAPL  2019-01-04  36.132500  37.064999  234428400  7.378734e+11   \n",
       "4       AAPL  2019-01-07  37.174999  36.982498  219111200  7.378734e+11   \n",
       "...      ...         ...        ...        ...        ...           ...   \n",
       "25779  LBTYA  2019-12-23  22.690001  22.799999     906400  3.143930e+10   \n",
       "25780  LBTYA  2019-12-24  22.780001  22.790001     334900  3.143930e+10   \n",
       "25781  LBTYA  2019-12-26  22.850000  22.420000     782200  3.143930e+10   \n",
       "25782  LBTYA  2019-12-27  22.510000  22.790001     909600  3.143930e+10   \n",
       "25783  LBTYA  2019-12-30  22.809999  22.620001    1104900  3.143930e+10   \n",
       "\n",
       "                  Sector                Industry  \n",
       "0             Technology  Computer Manufacturing  \n",
       "1             Technology  Computer Manufacturing  \n",
       "2             Technology  Computer Manufacturing  \n",
       "3             Technology  Computer Manufacturing  \n",
       "4             Technology  Computer Manufacturing  \n",
       "...                  ...                     ...  \n",
       "25779  Consumer Services     Television Services  \n",
       "25780  Consumer Services     Television Services  \n",
       "25781  Consumer Services     Television Services  \n",
       "25782  Consumer Services     Television Services  \n",
       "25783  Consumer Services     Television Services  \n",
       "\n",
       "[25784 rows x 8 columns]"
      ]
     },
     "execution_count": 85,
     "metadata": {},
     "output_type": "execute_result"
    }
   ],
   "source": [
    "real_data"
   ]
  },
  {
   "cell_type": "code",
   "execution_count": 88,
   "id": "de4d8c81-c349-4968-b09c-5e9f8b4d21ff",
   "metadata": {},
   "outputs": [
    {
     "name": "stdout",
     "output_type": "stream",
     "text": [
      "['Technology']\n",
      "['Computer Manufacturing']\n"
     ]
    }
   ],
   "source": [
    "# PAR synthesizer learns sequences info based on the context \n",
    "# context columns dont change during the course of a sequence\n",
    "# sector and industry are context columns\n",
    "\n",
    "print(real_data[real_data[\"Symbol\"]  == \"AAPL\"][\"Sector\"].unique())\n",
    "print(real_data[real_data[\"Symbol\"]  == \"AAPL\"][\"Industry\"].unique())"
   ]
  },
  {
   "cell_type": "code",
   "execution_count": 89,
   "id": "345a897a-6454-456c-9577-5faa6ecf7b37",
   "metadata": {},
   "outputs": [],
   "source": [
    "# create a synthesizer\n",
    "from sdv.sequential import PARSynthesizer\n",
    "\n",
    "synthesizer = PARSynthesizer(\n",
    "    metadata,\n",
    "    context_columns=[\"Sector\", \"Industry\"]\n",
    ")\n",
    "\n",
    "synthesizer.fit(real_data)"
   ]
  },
  {
   "cell_type": "code",
   "execution_count": 93,
   "id": "aecf0815-9b85-456f-9755-1eeeb0489a57",
   "metadata": {},
   "outputs": [
    {
     "data": {
      "text/html": [
       "<div>\n",
       "<style scoped>\n",
       "    .dataframe tbody tr th:only-of-type {\n",
       "        vertical-align: middle;\n",
       "    }\n",
       "\n",
       "    .dataframe tbody tr th {\n",
       "        vertical-align: top;\n",
       "    }\n",
       "\n",
       "    .dataframe thead th {\n",
       "        text-align: right;\n",
       "    }\n",
       "</style>\n",
       "<table border=\"1\" class=\"dataframe\">\n",
       "  <thead>\n",
       "    <tr style=\"text-align: right;\">\n",
       "      <th></th>\n",
       "      <th>Symbol</th>\n",
       "      <th>Date</th>\n",
       "      <th>Open</th>\n",
       "      <th>Close</th>\n",
       "      <th>Volume</th>\n",
       "      <th>MarketCap</th>\n",
       "      <th>Sector</th>\n",
       "      <th>Industry</th>\n",
       "    </tr>\n",
       "  </thead>\n",
       "  <tbody>\n",
       "    <tr>\n",
       "      <th>0</th>\n",
       "      <td>AATG</td>\n",
       "      <td>2019-01-02</td>\n",
       "      <td>182.493045</td>\n",
       "      <td>183.531971</td>\n",
       "      <td>6569659</td>\n",
       "      <td>1.676731e+11</td>\n",
       "      <td>Technology</td>\n",
       "      <td>EDP Services</td>\n",
       "    </tr>\n",
       "    <tr>\n",
       "      <th>1</th>\n",
       "      <td>AATG</td>\n",
       "      <td>2019-01-03</td>\n",
       "      <td>161.584774</td>\n",
       "      <td>177.408223</td>\n",
       "      <td>10165381</td>\n",
       "      <td>5.636713e+10</td>\n",
       "      <td>Technology</td>\n",
       "      <td>EDP Services</td>\n",
       "    </tr>\n",
       "    <tr>\n",
       "      <th>2</th>\n",
       "      <td>AATG</td>\n",
       "      <td>2019-01-06</td>\n",
       "      <td>205.977698</td>\n",
       "      <td>202.854469</td>\n",
       "      <td>6569659</td>\n",
       "      <td>4.926206e+10</td>\n",
       "      <td>Technology</td>\n",
       "      <td>EDP Services</td>\n",
       "    </tr>\n",
       "    <tr>\n",
       "      <th>3</th>\n",
       "      <td>AATG</td>\n",
       "      <td>2019-01-04</td>\n",
       "      <td>183.437196</td>\n",
       "      <td>181.003758</td>\n",
       "      <td>9012668</td>\n",
       "      <td>4.349419e+10</td>\n",
       "      <td>Technology</td>\n",
       "      <td>EDP Services</td>\n",
       "    </tr>\n",
       "    <tr>\n",
       "      <th>4</th>\n",
       "      <td>AATG</td>\n",
       "      <td>2019-01-07</td>\n",
       "      <td>169.402911</td>\n",
       "      <td>217.835197</td>\n",
       "      <td>3301447</td>\n",
       "      <td>4.008998e+10</td>\n",
       "      <td>Technology</td>\n",
       "      <td>EDP Services</td>\n",
       "    </tr>\n",
       "  </tbody>\n",
       "</table>\n",
       "</div>"
      ],
      "text/plain": [
       "  Symbol        Date        Open       Close    Volume     MarketCap  \\\n",
       "0   AATG  2019-01-02  182.493045  183.531971   6569659  1.676731e+11   \n",
       "1   AATG  2019-01-03  161.584774  177.408223  10165381  5.636713e+10   \n",
       "2   AATG  2019-01-06  205.977698  202.854469   6569659  4.926206e+10   \n",
       "3   AATG  2019-01-04  183.437196  181.003758   9012668  4.349419e+10   \n",
       "4   AATG  2019-01-07  169.402911  217.835197   3301447  4.008998e+10   \n",
       "\n",
       "       Sector      Industry  \n",
       "0  Technology  EDP Services  \n",
       "1  Technology  EDP Services  \n",
       "2  Technology  EDP Services  \n",
       "3  Technology  EDP Services  \n",
       "4  Technology  EDP Services  "
      ]
     },
     "execution_count": 93,
     "metadata": {},
     "output_type": "execute_result"
    }
   ],
   "source": [
    "# generate synthetic data\n",
    "\n",
    "synthetic_data = synthesizer.sample(num_sequences=10)\n",
    "synthetic_data.head()"
   ]
  },
  {
   "cell_type": "code",
   "execution_count": 94,
   "id": "d8f5423c-ba65-4b76-8996-0b8e6104ee82",
   "metadata": {},
   "outputs": [
    {
     "data": {
      "text/html": [
       "<div>\n",
       "<style scoped>\n",
       "    .dataframe tbody tr th:only-of-type {\n",
       "        vertical-align: middle;\n",
       "    }\n",
       "\n",
       "    .dataframe tbody tr th {\n",
       "        vertical-align: top;\n",
       "    }\n",
       "\n",
       "    .dataframe thead th {\n",
       "        text-align: right;\n",
       "    }\n",
       "</style>\n",
       "<table border=\"1\" class=\"dataframe\">\n",
       "  <thead>\n",
       "    <tr style=\"text-align: right;\">\n",
       "      <th></th>\n",
       "      <th>Symbol</th>\n",
       "      <th>Industry</th>\n",
       "    </tr>\n",
       "  </thead>\n",
       "  <tbody>\n",
       "    <tr>\n",
       "      <th>0</th>\n",
       "      <td>AATG</td>\n",
       "      <td>EDP Services</td>\n",
       "    </tr>\n",
       "    <tr>\n",
       "      <th>1</th>\n",
       "      <td>AATH</td>\n",
       "      <td>Industrial Machinery/Components</td>\n",
       "    </tr>\n",
       "    <tr>\n",
       "      <th>2</th>\n",
       "      <td>AATI</td>\n",
       "      <td>Catalog/Specialty Distribution</td>\n",
       "    </tr>\n",
       "    <tr>\n",
       "      <th>3</th>\n",
       "      <td>AATJ</td>\n",
       "      <td>Computer Software: Prepackaged Software</td>\n",
       "    </tr>\n",
       "    <tr>\n",
       "      <th>4</th>\n",
       "      <td>AATK</td>\n",
       "      <td>None</td>\n",
       "    </tr>\n",
       "    <tr>\n",
       "      <th>5</th>\n",
       "      <td>AATL</td>\n",
       "      <td>Business Services</td>\n",
       "    </tr>\n",
       "    <tr>\n",
       "      <th>6</th>\n",
       "      <td>AATM</td>\n",
       "      <td>EDP Services</td>\n",
       "    </tr>\n",
       "    <tr>\n",
       "      <th>7</th>\n",
       "      <td>AATN</td>\n",
       "      <td>Automotive Aftermarket</td>\n",
       "    </tr>\n",
       "    <tr>\n",
       "      <th>8</th>\n",
       "      <td>AATO</td>\n",
       "      <td>Biotechnology: Laboratory Analytical Instruments</td>\n",
       "    </tr>\n",
       "    <tr>\n",
       "      <th>9</th>\n",
       "      <td>AATP</td>\n",
       "      <td>Computer Software: Prepackaged Software</td>\n",
       "    </tr>\n",
       "  </tbody>\n",
       "</table>\n",
       "</div>"
      ],
      "text/plain": [
       "  Symbol                                          Industry\n",
       "0   AATG                                      EDP Services\n",
       "1   AATH                   Industrial Machinery/Components\n",
       "2   AATI                    Catalog/Specialty Distribution\n",
       "3   AATJ           Computer Software: Prepackaged Software\n",
       "4   AATK                                              None\n",
       "5   AATL                                 Business Services\n",
       "6   AATM                                      EDP Services\n",
       "7   AATN                            Automotive Aftermarket\n",
       "8   AATO  Biotechnology: Laboratory Analytical Instruments\n",
       "9   AATP           Computer Software: Prepackaged Software"
      ]
     },
     "execution_count": 94,
     "metadata": {},
     "output_type": "execute_result"
    }
   ],
   "source": [
    "synthetic_data[[\"Symbol\", \"Industry\"]].groupby([\"Symbol\"]).first().reset_index()"
   ]
  },
  {
   "cell_type": "code",
   "execution_count": 95,
   "id": "2e1350c2-ad98-4356-809b-f47dcd6d664b",
   "metadata": {},
   "outputs": [
    {
     "name": "stderr",
     "output_type": "stream",
     "text": [
      "Epoch 20 | Loss 3.9627816677093506: 100%|███████| 20/20 [00:08<00:00,  2.48it/s]\n"
     ]
    }
   ],
   "source": [
    "# PAR customization\n",
    "\n",
    "custom_synthesizer = PARSynthesizer(\n",
    "    metadata,\n",
    "    epochs=20,\n",
    "    context_columns=[\"Sector\", \"Industry\"],\n",
    "    verbose=True\n",
    ")\n",
    "\n",
    "custom_synthesizer.fit(real_data)"
   ]
  },
  {
   "cell_type": "markdown",
   "id": "ff3dee0f-3f67-4430-b948-7bc50e96da71",
   "metadata": {},
   "source": [
    "## sampling options"
   ]
  },
  {
   "cell_type": "code",
   "execution_count": 96,
   "id": "f9f233b7-e8dc-4b9d-a936-210ab6f3c711",
   "metadata": {},
   "outputs": [
    {
     "name": "stderr",
     "output_type": "stream",
     "text": [
      "100%|████████████████████████████████████████████| 3/3 [00:00<00:00, 230.34it/s]\n"
     ]
    },
    {
     "data": {
      "text/html": [
       "<div>\n",
       "<style scoped>\n",
       "    .dataframe tbody tr th:only-of-type {\n",
       "        vertical-align: middle;\n",
       "    }\n",
       "\n",
       "    .dataframe tbody tr th {\n",
       "        vertical-align: top;\n",
       "    }\n",
       "\n",
       "    .dataframe thead th {\n",
       "        text-align: right;\n",
       "    }\n",
       "</style>\n",
       "<table border=\"1\" class=\"dataframe\">\n",
       "  <thead>\n",
       "    <tr style=\"text-align: right;\">\n",
       "      <th></th>\n",
       "      <th>Symbol</th>\n",
       "      <th>Date</th>\n",
       "      <th>Open</th>\n",
       "      <th>Close</th>\n",
       "      <th>Volume</th>\n",
       "      <th>MarketCap</th>\n",
       "      <th>Sector</th>\n",
       "      <th>Industry</th>\n",
       "    </tr>\n",
       "  </thead>\n",
       "  <tbody>\n",
       "    <tr>\n",
       "      <th>0</th>\n",
       "      <td>AAAA</td>\n",
       "      <td>2019-01-01</td>\n",
       "      <td>5.290000</td>\n",
       "      <td>183.531971</td>\n",
       "      <td>9903697</td>\n",
       "      <td>NaN</td>\n",
       "      <td>NaN</td>\n",
       "      <td>Biotechnology: Commercial Physical &amp; Biologica...</td>\n",
       "    </tr>\n",
       "    <tr>\n",
       "      <th>1</th>\n",
       "      <td>AAAA</td>\n",
       "      <td>2018-12-27</td>\n",
       "      <td>5.290000</td>\n",
       "      <td>129.370016</td>\n",
       "      <td>6569659</td>\n",
       "      <td>NaN</td>\n",
       "      <td>NaN</td>\n",
       "      <td>Biotechnology: Commercial Physical &amp; Biologica...</td>\n",
       "    </tr>\n",
       "    <tr>\n",
       "      <th>2</th>\n",
       "      <td>AAAB</td>\n",
       "      <td>2019-01-11</td>\n",
       "      <td>340.630819</td>\n",
       "      <td>183.531971</td>\n",
       "      <td>6569659</td>\n",
       "      <td>NaN</td>\n",
       "      <td>NaN</td>\n",
       "      <td>Automotive Aftermarket</td>\n",
       "    </tr>\n",
       "    <tr>\n",
       "      <th>3</th>\n",
       "      <td>AAAB</td>\n",
       "      <td>2018-12-22</td>\n",
       "      <td>331.118758</td>\n",
       "      <td>77.386954</td>\n",
       "      <td>6517481</td>\n",
       "      <td>NaN</td>\n",
       "      <td>NaN</td>\n",
       "      <td>Automotive Aftermarket</td>\n",
       "    </tr>\n",
       "    <tr>\n",
       "      <th>4</th>\n",
       "      <td>AAAC</td>\n",
       "      <td>2018-12-25</td>\n",
       "      <td>183.437196</td>\n",
       "      <td>183.531971</td>\n",
       "      <td>6569659</td>\n",
       "      <td>NaN</td>\n",
       "      <td>NaN</td>\n",
       "      <td>Biotechnology: In Vitro &amp; In Vivo Diagnostic S...</td>\n",
       "    </tr>\n",
       "    <tr>\n",
       "      <th>5</th>\n",
       "      <td>AAAC</td>\n",
       "      <td>2019-01-03</td>\n",
       "      <td>183.437196</td>\n",
       "      <td>107.123690</td>\n",
       "      <td>6569659</td>\n",
       "      <td>7.808098e+10</td>\n",
       "      <td>NaN</td>\n",
       "      <td>Biotechnology: In Vitro &amp; In Vivo Diagnostic S...</td>\n",
       "    </tr>\n",
       "  </tbody>\n",
       "</table>\n",
       "</div>"
      ],
      "text/plain": [
       "  Symbol        Date        Open       Close   Volume     MarketCap Sector  \\\n",
       "0   AAAA  2019-01-01    5.290000  183.531971  9903697           NaN    NaN   \n",
       "1   AAAA  2018-12-27    5.290000  129.370016  6569659           NaN    NaN   \n",
       "2   AAAB  2019-01-11  340.630819  183.531971  6569659           NaN    NaN   \n",
       "3   AAAB  2018-12-22  331.118758   77.386954  6517481           NaN    NaN   \n",
       "4   AAAC  2018-12-25  183.437196  183.531971  6569659           NaN    NaN   \n",
       "5   AAAC  2019-01-03  183.437196  107.123690  6569659  7.808098e+10    NaN   \n",
       "\n",
       "                                            Industry  \n",
       "0  Biotechnology: Commercial Physical & Biologica...  \n",
       "1  Biotechnology: Commercial Physical & Biologica...  \n",
       "2                             Automotive Aftermarket  \n",
       "3                             Automotive Aftermarket  \n",
       "4  Biotechnology: In Vitro & In Vivo Diagnostic S...  \n",
       "5  Biotechnology: In Vitro & In Vivo Diagnostic S...  "
      ]
     },
     "execution_count": 96,
     "metadata": {},
     "output_type": "execute_result"
    }
   ],
   "source": [
    "# sepcify sequence length\n",
    "\n",
    "custom_synthesizer.sample(num_sequences=3, sequence_length=2)"
   ]
  },
  {
   "cell_type": "code",
   "execution_count": null,
   "id": "b89460cd-5a5f-4b95-bd6c-b11b87390b38",
   "metadata": {},
   "outputs": [],
   "source": [
    "# conditional sampling using context\n",
    "\n",
    "import pandas as pd\n",
    "\n",
    "# create 2 companies in the Tech sector and 3 others in Consumer Service sector\n",
    "# each rwo corresponds to a new sequence that we want to synthesize\n",
    "scenario_context = pd.DataFrame(data={\n",
    "    'Symbol': ['COMPANY-A', 'COMPANY-B', 'COMPANY-C', 'COMPANY-D', 'COMPANY-E'],\n",
    "    'Sector': ['Technology']*2 + ['Consumer Services']*3,\n",
    "    'Industry': ['Computer Manufacturing', 'Computer Software: Prepackaged Software',\n",
    "                 'Hotels/Resorts', 'Restaurants', 'Clothing/Shoe/Accessory Stores']\n",
    "})\n",
    "\n",
    "scenario_context"
   ]
  },
  {
   "cell_type": "code",
   "execution_count": 98,
   "id": "be236a8f-fd01-48f0-979b-d2fc99a7c2c0",
   "metadata": {},
   "outputs": [
    {
     "name": "stderr",
     "output_type": "stream",
     "text": [
      "100%|█████████████████████████████████████████████| 5/5 [00:00<00:00, 85.54it/s]\n"
     ]
    },
    {
     "data": {
      "text/html": [
       "<div>\n",
       "<style scoped>\n",
       "    .dataframe tbody tr th:only-of-type {\n",
       "        vertical-align: middle;\n",
       "    }\n",
       "\n",
       "    .dataframe tbody tr th {\n",
       "        vertical-align: top;\n",
       "    }\n",
       "\n",
       "    .dataframe thead th {\n",
       "        text-align: right;\n",
       "    }\n",
       "</style>\n",
       "<table border=\"1\" class=\"dataframe\">\n",
       "  <thead>\n",
       "    <tr style=\"text-align: right;\">\n",
       "      <th></th>\n",
       "      <th>Symbol</th>\n",
       "      <th>Date</th>\n",
       "      <th>Open</th>\n",
       "      <th>Close</th>\n",
       "      <th>Volume</th>\n",
       "      <th>MarketCap</th>\n",
       "      <th>Sector</th>\n",
       "      <th>Industry</th>\n",
       "    </tr>\n",
       "  </thead>\n",
       "  <tbody>\n",
       "    <tr>\n",
       "      <th>0</th>\n",
       "      <td>COMPANY-A</td>\n",
       "      <td>2019-01-01</td>\n",
       "      <td>33.321702</td>\n",
       "      <td>183.531971</td>\n",
       "      <td>6569659</td>\n",
       "      <td>5.893961e+09</td>\n",
       "      <td>Technology</td>\n",
       "      <td>Computer Manufacturing</td>\n",
       "    </tr>\n",
       "    <tr>\n",
       "      <th>1</th>\n",
       "      <td>COMPANY-A</td>\n",
       "      <td>2019-01-01</td>\n",
       "      <td>183.437196</td>\n",
       "      <td>5.270000</td>\n",
       "      <td>6569659</td>\n",
       "      <td>1.212127e+11</td>\n",
       "      <td>Technology</td>\n",
       "      <td>Computer Manufacturing</td>\n",
       "    </tr>\n",
       "    <tr>\n",
       "      <th>2</th>\n",
       "      <td>COMPANY-B</td>\n",
       "      <td>2019-01-01</td>\n",
       "      <td>449.081913</td>\n",
       "      <td>274.051167</td>\n",
       "      <td>10292597</td>\n",
       "      <td>1.201324e+10</td>\n",
       "      <td>Technology</td>\n",
       "      <td>Computer Software: Prepackaged Software</td>\n",
       "    </tr>\n",
       "    <tr>\n",
       "      <th>3</th>\n",
       "      <td>COMPANY-B</td>\n",
       "      <td>2019-01-03</td>\n",
       "      <td>168.171982</td>\n",
       "      <td>222.362615</td>\n",
       "      <td>6569659</td>\n",
       "      <td>NaN</td>\n",
       "      <td>Technology</td>\n",
       "      <td>Computer Software: Prepackaged Software</td>\n",
       "    </tr>\n",
       "    <tr>\n",
       "      <th>4</th>\n",
       "      <td>COMPANY-C</td>\n",
       "      <td>2019-01-01</td>\n",
       "      <td>604.437355</td>\n",
       "      <td>98.490577</td>\n",
       "      <td>6569659</td>\n",
       "      <td>NaN</td>\n",
       "      <td>Consumer Services</td>\n",
       "      <td>Hotels/Resorts</td>\n",
       "    </tr>\n",
       "    <tr>\n",
       "      <th>5</th>\n",
       "      <td>COMPANY-C</td>\n",
       "      <td>2019-01-11</td>\n",
       "      <td>183.437196</td>\n",
       "      <td>135.201267</td>\n",
       "      <td>6569659</td>\n",
       "      <td>5.893961e+09</td>\n",
       "      <td>Consumer Services</td>\n",
       "      <td>Hotels/Resorts</td>\n",
       "    </tr>\n",
       "    <tr>\n",
       "      <th>6</th>\n",
       "      <td>COMPANY-D</td>\n",
       "      <td>2019-01-05</td>\n",
       "      <td>183.437196</td>\n",
       "      <td>183.531971</td>\n",
       "      <td>6569659</td>\n",
       "      <td>NaN</td>\n",
       "      <td>Consumer Services</td>\n",
       "      <td>Restaurants</td>\n",
       "    </tr>\n",
       "    <tr>\n",
       "      <th>7</th>\n",
       "      <td>COMPANY-D</td>\n",
       "      <td>2019-01-03</td>\n",
       "      <td>5.290000</td>\n",
       "      <td>78.547985</td>\n",
       "      <td>6569659</td>\n",
       "      <td>8.760090e+10</td>\n",
       "      <td>Consumer Services</td>\n",
       "      <td>Restaurants</td>\n",
       "    </tr>\n",
       "    <tr>\n",
       "      <th>8</th>\n",
       "      <td>COMPANY-E</td>\n",
       "      <td>2019-01-01</td>\n",
       "      <td>5.290000</td>\n",
       "      <td>541.288333</td>\n",
       "      <td>6569659</td>\n",
       "      <td>NaN</td>\n",
       "      <td>Consumer Services</td>\n",
       "      <td>Clothing/Shoe/Accessory Stores</td>\n",
       "    </tr>\n",
       "    <tr>\n",
       "      <th>9</th>\n",
       "      <td>COMPANY-E</td>\n",
       "      <td>2019-01-02</td>\n",
       "      <td>183.437196</td>\n",
       "      <td>5.270000</td>\n",
       "      <td>10534975</td>\n",
       "      <td>NaN</td>\n",
       "      <td>Consumer Services</td>\n",
       "      <td>Clothing/Shoe/Accessory Stores</td>\n",
       "    </tr>\n",
       "  </tbody>\n",
       "</table>\n",
       "</div>"
      ],
      "text/plain": [
       "      Symbol        Date        Open       Close    Volume     MarketCap  \\\n",
       "0  COMPANY-A  2019-01-01   33.321702  183.531971   6569659  5.893961e+09   \n",
       "1  COMPANY-A  2019-01-01  183.437196    5.270000   6569659  1.212127e+11   \n",
       "2  COMPANY-B  2019-01-01  449.081913  274.051167  10292597  1.201324e+10   \n",
       "3  COMPANY-B  2019-01-03  168.171982  222.362615   6569659           NaN   \n",
       "4  COMPANY-C  2019-01-01  604.437355   98.490577   6569659           NaN   \n",
       "5  COMPANY-C  2019-01-11  183.437196  135.201267   6569659  5.893961e+09   \n",
       "6  COMPANY-D  2019-01-05  183.437196  183.531971   6569659           NaN   \n",
       "7  COMPANY-D  2019-01-03    5.290000   78.547985   6569659  8.760090e+10   \n",
       "8  COMPANY-E  2019-01-01    5.290000  541.288333   6569659           NaN   \n",
       "9  COMPANY-E  2019-01-02  183.437196    5.270000  10534975           NaN   \n",
       "\n",
       "              Sector                                 Industry  \n",
       "0         Technology                   Computer Manufacturing  \n",
       "1         Technology                   Computer Manufacturing  \n",
       "2         Technology  Computer Software: Prepackaged Software  \n",
       "3         Technology  Computer Software: Prepackaged Software  \n",
       "4  Consumer Services                           Hotels/Resorts  \n",
       "5  Consumer Services                           Hotels/Resorts  \n",
       "6  Consumer Services                              Restaurants  \n",
       "7  Consumer Services                              Restaurants  \n",
       "8  Consumer Services           Clothing/Shoe/Accessory Stores  \n",
       "9  Consumer Services           Clothing/Shoe/Accessory Stores  "
      ]
     },
     "execution_count": 98,
     "metadata": {},
     "output_type": "execute_result"
    }
   ],
   "source": [
    "# simulate this scenario using trained synthesizer\n",
    "\n",
    "custom_synthesizer.sample_sequential_columns(\n",
    "    context_columns=scenario_context,\n",
    "    sequence_length=2\n",
    ")"
   ]
  },
  {
   "cell_type": "markdown",
   "id": "d3bb7d2f-1d22-4e83-b53a-62fd82e771d7",
   "metadata": {},
   "source": [
    "# Synthesize Multiple Tables (HMA)\n",
    "\n",
    "- to create multiple, connected tables and evaluate it"
   ]
  },
  {
   "cell_type": "code",
   "execution_count": 99,
   "id": "7d9817e7-ed19-4c5c-9e0c-e6889e6432ba",
   "metadata": {},
   "outputs": [],
   "source": [
    "# load demo data\n",
    "\n",
    "from sdv.datasets.demo import download_demo \n",
    "\n",
    "real_data, metadata = download_demo(\n",
    "    modality=\"multi_table\",\n",
    "    dataset_name=\"fake_hotels\"\n",
    ")"
   ]
  },
  {
   "cell_type": "code",
   "execution_count": 102,
   "id": "253b0a2d-276f-4f67-8dde-17bd0fc594b5",
   "metadata": {},
   "outputs": [
    {
     "data": {
      "text/plain": [
       "dict_keys(['hotels', 'guests'])"
      ]
     },
     "execution_count": 102,
     "metadata": {},
     "output_type": "execute_result"
    }
   ],
   "source": [
    "real_data.keys()"
   ]
  },
  {
   "cell_type": "code",
   "execution_count": 103,
   "id": "457bcdb4-44d7-49f0-be9a-c4c1c9b55504",
   "metadata": {},
   "outputs": [
    {
     "data": {
      "text/plain": [
       "pandas.core.frame.DataFrame"
      ]
     },
     "execution_count": 103,
     "metadata": {},
     "output_type": "execute_result"
    }
   ],
   "source": [
    "type(real_data[\"hotels\"])"
   ]
  },
  {
   "cell_type": "code",
   "execution_count": 104,
   "id": "11f6cd8e-ebab-4c1e-bc0f-ea69ab2898ab",
   "metadata": {},
   "outputs": [
    {
     "data": {
      "text/html": [
       "<div>\n",
       "<style scoped>\n",
       "    .dataframe tbody tr th:only-of-type {\n",
       "        vertical-align: middle;\n",
       "    }\n",
       "\n",
       "    .dataframe tbody tr th {\n",
       "        vertical-align: top;\n",
       "    }\n",
       "\n",
       "    .dataframe thead th {\n",
       "        text-align: right;\n",
       "    }\n",
       "</style>\n",
       "<table border=\"1\" class=\"dataframe\">\n",
       "  <thead>\n",
       "    <tr style=\"text-align: right;\">\n",
       "      <th></th>\n",
       "      <th>hotel_id</th>\n",
       "      <th>city</th>\n",
       "      <th>state</th>\n",
       "      <th>rating</th>\n",
       "      <th>classification</th>\n",
       "    </tr>\n",
       "  </thead>\n",
       "  <tbody>\n",
       "    <tr>\n",
       "      <th>0</th>\n",
       "      <td>HID_000</td>\n",
       "      <td>Boston</td>\n",
       "      <td>Massachusetts</td>\n",
       "      <td>4.8</td>\n",
       "      <td>RESORT</td>\n",
       "    </tr>\n",
       "    <tr>\n",
       "      <th>1</th>\n",
       "      <td>HID_001</td>\n",
       "      <td>Boston</td>\n",
       "      <td>Massachuesetts</td>\n",
       "      <td>4.1</td>\n",
       "      <td>CHAIN</td>\n",
       "    </tr>\n",
       "    <tr>\n",
       "      <th>2</th>\n",
       "      <td>HID_002</td>\n",
       "      <td>San Francisco</td>\n",
       "      <td>California</td>\n",
       "      <td>3.8</td>\n",
       "      <td>MOTEL</td>\n",
       "    </tr>\n",
       "    <tr>\n",
       "      <th>3</th>\n",
       "      <td>HID_003</td>\n",
       "      <td>San Francisco</td>\n",
       "      <td>California</td>\n",
       "      <td>4.0</td>\n",
       "      <td>CHAIN</td>\n",
       "    </tr>\n",
       "    <tr>\n",
       "      <th>4</th>\n",
       "      <td>HID_004</td>\n",
       "      <td>New York City</td>\n",
       "      <td>New York</td>\n",
       "      <td>3.7</td>\n",
       "      <td>MOTEL</td>\n",
       "    </tr>\n",
       "  </tbody>\n",
       "</table>\n",
       "</div>"
      ],
      "text/plain": [
       "  hotel_id           city           state  rating classification\n",
       "0  HID_000         Boston   Massachusetts     4.8         RESORT\n",
       "1  HID_001         Boston  Massachuesetts     4.1          CHAIN\n",
       "2  HID_002  San Francisco      California     3.8          MOTEL\n",
       "3  HID_003  San Francisco      California     4.0          CHAIN\n",
       "4  HID_004  New York City        New York     3.7          MOTEL"
      ]
     },
     "execution_count": 104,
     "metadata": {},
     "output_type": "execute_result"
    }
   ],
   "source": [
    "real_data[\"hotels\"].head()"
   ]
  },
  {
   "cell_type": "code",
   "execution_count": 105,
   "id": "29dfbdd4-4f0e-42c1-8c43-f04388e3f53c",
   "metadata": {},
   "outputs": [
    {
     "data": {
      "text/html": [
       "<div>\n",
       "<style scoped>\n",
       "    .dataframe tbody tr th:only-of-type {\n",
       "        vertical-align: middle;\n",
       "    }\n",
       "\n",
       "    .dataframe tbody tr th {\n",
       "        vertical-align: top;\n",
       "    }\n",
       "\n",
       "    .dataframe thead th {\n",
       "        text-align: right;\n",
       "    }\n",
       "</style>\n",
       "<table border=\"1\" class=\"dataframe\">\n",
       "  <thead>\n",
       "    <tr style=\"text-align: right;\">\n",
       "      <th></th>\n",
       "      <th>guest_email</th>\n",
       "      <th>hotel_id</th>\n",
       "      <th>has_rewards</th>\n",
       "      <th>room_type</th>\n",
       "      <th>amenities_fee</th>\n",
       "      <th>checkin_date</th>\n",
       "      <th>checkout_date</th>\n",
       "      <th>room_rate</th>\n",
       "      <th>billing_address</th>\n",
       "      <th>credit_card_number</th>\n",
       "    </tr>\n",
       "  </thead>\n",
       "  <tbody>\n",
       "    <tr>\n",
       "      <th>0</th>\n",
       "      <td>awolf@phillips.com</td>\n",
       "      <td>HID_000</td>\n",
       "      <td>False</td>\n",
       "      <td>BASIC</td>\n",
       "      <td>37.89</td>\n",
       "      <td>27 Dec 2020</td>\n",
       "      <td>28 Dec 2020</td>\n",
       "      <td>156.23</td>\n",
       "      <td>993 Rebecca Landing\\nJesseburgh, PA 05072</td>\n",
       "      <td>4075084747483975747</td>\n",
       "    </tr>\n",
       "    <tr>\n",
       "      <th>1</th>\n",
       "      <td>tonya44@wilkinson-wilkins.com</td>\n",
       "      <td>HID_000</td>\n",
       "      <td>False</td>\n",
       "      <td>BASIC</td>\n",
       "      <td>24.37</td>\n",
       "      <td>30 Dec 2020</td>\n",
       "      <td>31 Dec 2020</td>\n",
       "      <td>139.43</td>\n",
       "      <td>958 Beverly Bypass\\nSouth Ronald, GA 46368</td>\n",
       "      <td>180072822063468</td>\n",
       "    </tr>\n",
       "    <tr>\n",
       "      <th>2</th>\n",
       "      <td>harriskathleen@goodwin.com</td>\n",
       "      <td>HID_000</td>\n",
       "      <td>True</td>\n",
       "      <td>DELUXE</td>\n",
       "      <td>0.00</td>\n",
       "      <td>17 Sep 2020</td>\n",
       "      <td>19 Sep 2020</td>\n",
       "      <td>403.33</td>\n",
       "      <td>8302 Nathaniel Pike\\nRileyland, TX 71613</td>\n",
       "      <td>38983476971380</td>\n",
       "    </tr>\n",
       "    <tr>\n",
       "      <th>3</th>\n",
       "      <td>kayladiaz@wallace-simmons.com</td>\n",
       "      <td>HID_000</td>\n",
       "      <td>False</td>\n",
       "      <td>BASIC</td>\n",
       "      <td>NaN</td>\n",
       "      <td>28 Dec 2020</td>\n",
       "      <td>30 Dec 2020</td>\n",
       "      <td>140.61</td>\n",
       "      <td>77 Massachusetts Ave\\nCambridge, MA 02139</td>\n",
       "      <td>4969551998845740</td>\n",
       "    </tr>\n",
       "    <tr>\n",
       "      <th>4</th>\n",
       "      <td>paigemendoza@tran-martin.com</td>\n",
       "      <td>HID_000</td>\n",
       "      <td>True</td>\n",
       "      <td>DELUXE</td>\n",
       "      <td>0.00</td>\n",
       "      <td>05 Apr 2020</td>\n",
       "      <td>10 Apr 2020</td>\n",
       "      <td>197.41</td>\n",
       "      <td>1234 Corporate Drive\\nBoston, MA 02116</td>\n",
       "      <td>3558512986488983</td>\n",
       "    </tr>\n",
       "  </tbody>\n",
       "</table>\n",
       "</div>"
      ],
      "text/plain": [
       "                     guest_email hotel_id  has_rewards room_type  \\\n",
       "0             awolf@phillips.com  HID_000        False     BASIC   \n",
       "1  tonya44@wilkinson-wilkins.com  HID_000        False     BASIC   \n",
       "2     harriskathleen@goodwin.com  HID_000         True    DELUXE   \n",
       "3  kayladiaz@wallace-simmons.com  HID_000        False     BASIC   \n",
       "4   paigemendoza@tran-martin.com  HID_000         True    DELUXE   \n",
       "\n",
       "   amenities_fee checkin_date checkout_date  room_rate  \\\n",
       "0          37.89  27 Dec 2020   28 Dec 2020     156.23   \n",
       "1          24.37  30 Dec 2020   31 Dec 2020     139.43   \n",
       "2           0.00  17 Sep 2020   19 Sep 2020     403.33   \n",
       "3            NaN  28 Dec 2020   30 Dec 2020     140.61   \n",
       "4           0.00  05 Apr 2020   10 Apr 2020     197.41   \n",
       "\n",
       "                              billing_address   credit_card_number  \n",
       "0   993 Rebecca Landing\\nJesseburgh, PA 05072  4075084747483975747  \n",
       "1  958 Beverly Bypass\\nSouth Ronald, GA 46368      180072822063468  \n",
       "2    8302 Nathaniel Pike\\nRileyland, TX 71613       38983476971380  \n",
       "3   77 Massachusetts Ave\\nCambridge, MA 02139     4969551998845740  \n",
       "4      1234 Corporate Drive\\nBoston, MA 02116     3558512986488983  "
      ]
     },
     "execution_count": 105,
     "metadata": {},
     "output_type": "execute_result"
    }
   ],
   "source": [
    "real_data[\"guests\"].head()"
   ]
  },
  {
   "cell_type": "code",
   "execution_count": 111,
   "id": "6192ef9e-3b81-4819-bc42-0a9fda0c768e",
   "metadata": {},
   "outputs": [
    {
     "data": {
      "image/svg+xml": [
       "<?xml version=\"1.0\" encoding=\"UTF-8\" standalone=\"no\"?>\n",
       "<!DOCTYPE svg PUBLIC \"-//W3C//DTD SVG 1.1//EN\"\n",
       " \"http://www.w3.org/Graphics/SVG/1.1/DTD/svg11.dtd\">\n",
       "<!-- Generated by graphviz version 8.1.0 (20230707.0739)\n",
       " -->\n",
       "<!-- Title: Metadata Pages: 1 -->\n",
       "<svg width=\"254pt\" height=\"457pt\"\n",
       " viewBox=\"0.00 0.00 254.25 456.50\" xmlns=\"http://www.w3.org/2000/svg\" xmlns:xlink=\"http://www.w3.org/1999/xlink\">\n",
       "<g id=\"graph0\" class=\"graph\" transform=\"scale(1 1) rotate(0) translate(4 452.5)\">\n",
       "<title>Metadata</title>\n",
       "<polygon fill=\"white\" stroke=\"none\" points=\"-4,4 -4,-452.5 250.25,-452.5 250.25,4 -4,4\"/>\n",
       "<!-- guests -->\n",
       "<g id=\"node1\" class=\"node\">\n",
       "<title>guests</title>\n",
       "<path fill=\"#ffec8b\" stroke=\"black\" d=\"M12,-0.5C12,-0.5 234.25,-0.5 234.25,-0.5 240.25,-0.5 246.25,-6.5 246.25,-12.5 246.25,-12.5 246.25,-227 246.25,-227 246.25,-233 240.25,-239 234.25,-239 234.25,-239 12,-239 12,-239 6,-239 0,-233 0,-227 0,-227 0,-12.5 0,-12.5 0,-6.5 6,-0.5 12,-0.5\"/>\n",
       "<text text-anchor=\"middle\" x=\"123.12\" y=\"-221.7\" font-family=\"Times,serif\" font-size=\"14.00\">guests</text>\n",
       "<polyline fill=\"none\" stroke=\"black\" points=\"0,-214.5 246.25,-214.5\"/>\n",
       "<text text-anchor=\"start\" x=\"8\" y=\"-197.2\" font-family=\"Times,serif\" font-size=\"14.00\">guest_email : email</text>\n",
       "<text text-anchor=\"start\" x=\"8\" y=\"-180.7\" font-family=\"Times,serif\" font-size=\"14.00\">hotel_id : id</text>\n",
       "<text text-anchor=\"start\" x=\"8\" y=\"-164.2\" font-family=\"Times,serif\" font-size=\"14.00\">has_rewards : boolean</text>\n",
       "<text text-anchor=\"start\" x=\"8\" y=\"-147.7\" font-family=\"Times,serif\" font-size=\"14.00\">room_type : categorical</text>\n",
       "<text text-anchor=\"start\" x=\"8\" y=\"-131.2\" font-family=\"Times,serif\" font-size=\"14.00\">amenities_fee : numerical</text>\n",
       "<text text-anchor=\"start\" x=\"8\" y=\"-114.7\" font-family=\"Times,serif\" font-size=\"14.00\">checkin_date : datetime</text>\n",
       "<text text-anchor=\"start\" x=\"8\" y=\"-98.2\" font-family=\"Times,serif\" font-size=\"14.00\">checkout_date : datetime</text>\n",
       "<text text-anchor=\"start\" x=\"8\" y=\"-81.7\" font-family=\"Times,serif\" font-size=\"14.00\">room_rate : numerical</text>\n",
       "<text text-anchor=\"start\" x=\"8\" y=\"-65.2\" font-family=\"Times,serif\" font-size=\"14.00\">billing_address : address</text>\n",
       "<text text-anchor=\"start\" x=\"8\" y=\"-48.7\" font-family=\"Times,serif\" font-size=\"14.00\">credit_card_number : credit_card_number</text>\n",
       "<polyline fill=\"none\" stroke=\"black\" points=\"0,-41.5 246.25,-41.5\"/>\n",
       "<text text-anchor=\"start\" x=\"8\" y=\"-24.2\" font-family=\"Times,serif\" font-size=\"14.00\">Primary key: guest_email</text>\n",
       "<text text-anchor=\"start\" x=\"8\" y=\"-7.7\" font-family=\"Times,serif\" font-size=\"14.00\">Foreign key (hotels): hotel_id</text>\n",
       "</g>\n",
       "<!-- hotels -->\n",
       "<g id=\"node2\" class=\"node\">\n",
       "<title>hotels</title>\n",
       "<path fill=\"#ffec8b\" stroke=\"black\" d=\"M56.25,-292.5C56.25,-292.5 190,-292.5 190,-292.5 196,-292.5 202,-298.5 202,-304.5 202,-304.5 202,-436 202,-436 202,-442 196,-448 190,-448 190,-448 56.25,-448 56.25,-448 50.25,-448 44.25,-442 44.25,-436 44.25,-436 44.25,-304.5 44.25,-304.5 44.25,-298.5 50.25,-292.5 56.25,-292.5\"/>\n",
       "<text text-anchor=\"middle\" x=\"123.12\" y=\"-430.7\" font-family=\"Times,serif\" font-size=\"14.00\">hotels</text>\n",
       "<polyline fill=\"none\" stroke=\"black\" points=\"44.25,-423.5 202,-423.5\"/>\n",
       "<text text-anchor=\"start\" x=\"52.25\" y=\"-406.2\" font-family=\"Times,serif\" font-size=\"14.00\">hotel_id : id</text>\n",
       "<text text-anchor=\"start\" x=\"52.25\" y=\"-389.7\" font-family=\"Times,serif\" font-size=\"14.00\">city : categorical</text>\n",
       "<text text-anchor=\"start\" x=\"52.25\" y=\"-373.2\" font-family=\"Times,serif\" font-size=\"14.00\">state : categorical</text>\n",
       "<text text-anchor=\"start\" x=\"52.25\" y=\"-356.7\" font-family=\"Times,serif\" font-size=\"14.00\">rating : numerical</text>\n",
       "<text text-anchor=\"start\" x=\"52.25\" y=\"-340.2\" font-family=\"Times,serif\" font-size=\"14.00\">classification : categorical</text>\n",
       "<polyline fill=\"none\" stroke=\"black\" points=\"44.25,-333 202,-333\"/>\n",
       "<text text-anchor=\"start\" x=\"52.25\" y=\"-315.7\" font-family=\"Times,serif\" font-size=\"14.00\">Primary key: hotel_id</text>\n",
       "</g>\n",
       "<!-- hotels&#45;&gt;guests -->\n",
       "<g id=\"edge1\" class=\"edge\">\n",
       "<title>hotels&#45;&gt;guests</title>\n",
       "<path fill=\"none\" stroke=\"black\" d=\"M123.12,-292.66C123.12,-278.63 123.12,-263.63 123.12,-248.57\"/>\n",
       "<polygon fill=\"none\" stroke=\"black\" points=\"126.63,-239.17 123.13,-249.17 119.63,-239.17 126.63,-239.17\"/>\n",
       "<text text-anchor=\"middle\" x=\"182\" y=\"-260.7\" font-family=\"Times,serif\" font-size=\"14.00\"> &#160;hotel_id → hotel_id</text>\n",
       "</g>\n",
       "</g>\n",
       "</svg>\n"
      ],
      "text/plain": [
       "<graphviz.graphs.Digraph at 0x150a9f790>"
      ]
     },
     "execution_count": 111,
     "metadata": {},
     "output_type": "execute_result"
    }
   ],
   "source": [
    "metadata.visualize() # requires graphviz -> `brew install graphviz`"
   ]
  },
  {
   "cell_type": "code",
   "execution_count": 112,
   "id": "7411067f-5692-4728-934d-8cf20307959b",
   "metadata": {},
   "outputs": [
    {
     "name": "stderr",
     "output_type": "stream",
     "text": [
      "Preprocess Tables: 100%|██████████████████████████| 2/2 [00:00<00:00, 14.18it/s]\n"
     ]
    },
    {
     "name": "stdout",
     "output_type": "stream",
     "text": [
      "\n",
      "Learning relationships:\n"
     ]
    },
    {
     "name": "stderr",
     "output_type": "stream",
     "text": [
      "(1/1) Tables 'hotels' and 'guests' ('hotel_id'): 100%|█| 10/10 [00:01<00:00,  6.\n"
     ]
    },
    {
     "name": "stdout",
     "output_type": "stream",
     "text": [
      "\n"
     ]
    },
    {
     "name": "stderr",
     "output_type": "stream",
     "text": [
      "Modeling Tables: 100%|████████████████████████████| 1/1 [00:01<00:00,  1.01s/it]\n"
     ]
    }
   ],
   "source": [
    "# creating synthesizer\n",
    "\n",
    "from sdv.multi_table import HMASynthesizer\n",
    "\n",
    "synthesizer = HMASynthesizer(metadata)\n",
    "synthesizer.fit(real_data)"
   ]
  },
  {
   "cell_type": "code",
   "execution_count": 113,
   "id": "802be88c-8e6a-4b65-a39f-1f1618df35c2",
   "metadata": {},
   "outputs": [],
   "source": [
    "# generating synthetic data\n",
    "synthetic_data = synthesizer.sample(scale=2) # scale=2: create twice as many hotels and guests as the original data contained"
   ]
  },
  {
   "cell_type": "code",
   "execution_count": 115,
   "id": "f85bbe2f-505a-4a57-bc00-87064c625e37",
   "metadata": {},
   "outputs": [
    {
     "data": {
      "text/html": [
       "<div>\n",
       "<style scoped>\n",
       "    .dataframe tbody tr th:only-of-type {\n",
       "        vertical-align: middle;\n",
       "    }\n",
       "\n",
       "    .dataframe tbody tr th {\n",
       "        vertical-align: top;\n",
       "    }\n",
       "\n",
       "    .dataframe thead th {\n",
       "        text-align: right;\n",
       "    }\n",
       "</style>\n",
       "<table border=\"1\" class=\"dataframe\">\n",
       "  <thead>\n",
       "    <tr style=\"text-align: right;\">\n",
       "      <th></th>\n",
       "      <th>hotel_id</th>\n",
       "      <th>city</th>\n",
       "      <th>state</th>\n",
       "      <th>rating</th>\n",
       "      <th>classification</th>\n",
       "    </tr>\n",
       "  </thead>\n",
       "  <tbody>\n",
       "    <tr>\n",
       "      <th>0</th>\n",
       "      <td>HID_000</td>\n",
       "      <td>San Francisco</td>\n",
       "      <td>California</td>\n",
       "      <td>4.3</td>\n",
       "      <td>CHAIN</td>\n",
       "    </tr>\n",
       "    <tr>\n",
       "      <th>1</th>\n",
       "      <td>HID_001</td>\n",
       "      <td>San Francisco</td>\n",
       "      <td>New York</td>\n",
       "      <td>4.2</td>\n",
       "      <td>RESORT</td>\n",
       "    </tr>\n",
       "    <tr>\n",
       "      <th>2</th>\n",
       "      <td>HID_002</td>\n",
       "      <td>San Francisco</td>\n",
       "      <td>Texas</td>\n",
       "      <td>4.0</td>\n",
       "      <td>MOTEL</td>\n",
       "    </tr>\n",
       "    <tr>\n",
       "      <th>3</th>\n",
       "      <td>HID_003</td>\n",
       "      <td>Boston</td>\n",
       "      <td>Massachuesetts</td>\n",
       "      <td>4.8</td>\n",
       "      <td>RESORT</td>\n",
       "    </tr>\n",
       "    <tr>\n",
       "      <th>4</th>\n",
       "      <td>HID_004</td>\n",
       "      <td>New York City</td>\n",
       "      <td>Texas</td>\n",
       "      <td>4.8</td>\n",
       "      <td>MOTEL</td>\n",
       "    </tr>\n",
       "  </tbody>\n",
       "</table>\n",
       "</div>"
      ],
      "text/plain": [
       "  hotel_id           city           state  rating classification\n",
       "0  HID_000  San Francisco      California     4.3          CHAIN\n",
       "1  HID_001  San Francisco        New York     4.2         RESORT\n",
       "2  HID_002  San Francisco           Texas     4.0          MOTEL\n",
       "3  HID_003         Boston  Massachuesetts     4.8         RESORT\n",
       "4  HID_004  New York City           Texas     4.8          MOTEL"
      ]
     },
     "execution_count": 115,
     "metadata": {},
     "output_type": "execute_result"
    }
   ],
   "source": [
    "synthetic_data[\"hotels\"].head()"
   ]
  },
  {
   "cell_type": "code",
   "execution_count": 116,
   "id": "1dcd4614-ed33-424a-b6b2-25a4d97018a3",
   "metadata": {},
   "outputs": [
    {
     "data": {
      "text/html": [
       "<div>\n",
       "<style scoped>\n",
       "    .dataframe tbody tr th:only-of-type {\n",
       "        vertical-align: middle;\n",
       "    }\n",
       "\n",
       "    .dataframe tbody tr th {\n",
       "        vertical-align: top;\n",
       "    }\n",
       "\n",
       "    .dataframe thead th {\n",
       "        text-align: right;\n",
       "    }\n",
       "</style>\n",
       "<table border=\"1\" class=\"dataframe\">\n",
       "  <thead>\n",
       "    <tr style=\"text-align: right;\">\n",
       "      <th></th>\n",
       "      <th>guest_email</th>\n",
       "      <th>hotel_id</th>\n",
       "      <th>has_rewards</th>\n",
       "      <th>room_type</th>\n",
       "      <th>amenities_fee</th>\n",
       "      <th>checkin_date</th>\n",
       "      <th>checkout_date</th>\n",
       "      <th>room_rate</th>\n",
       "      <th>billing_address</th>\n",
       "      <th>credit_card_number</th>\n",
       "    </tr>\n",
       "  </thead>\n",
       "  <tbody>\n",
       "    <tr>\n",
       "      <th>0</th>\n",
       "      <td>moodyeric@example.net</td>\n",
       "      <td>HID_000</td>\n",
       "      <td>False</td>\n",
       "      <td>BASIC</td>\n",
       "      <td>46.64</td>\n",
       "      <td>28 Sep 2020</td>\n",
       "      <td>30 Aug 2020</td>\n",
       "      <td>197.78</td>\n",
       "      <td>PSC 4273, Box 0888\\nAPO AA 28423</td>\n",
       "      <td>5161033759518983</td>\n",
       "    </tr>\n",
       "    <tr>\n",
       "      <th>1</th>\n",
       "      <td>coryguzman@example.com</td>\n",
       "      <td>HID_000</td>\n",
       "      <td>False</td>\n",
       "      <td>DELUXE</td>\n",
       "      <td>3.26</td>\n",
       "      <td>29 Jul 2020</td>\n",
       "      <td>08 Jul 2020</td>\n",
       "      <td>200.60</td>\n",
       "      <td>417 Lawrence Hollow\\nEast Ericshire, NM 88906</td>\n",
       "      <td>4133047413145475690</td>\n",
       "    </tr>\n",
       "    <tr>\n",
       "      <th>2</th>\n",
       "      <td>caitlinlee@example.net</td>\n",
       "      <td>HID_000</td>\n",
       "      <td>False</td>\n",
       "      <td>BASIC</td>\n",
       "      <td>10.94</td>\n",
       "      <td>01 Dec 2020</td>\n",
       "      <td>29 Oct 2020</td>\n",
       "      <td>194.84</td>\n",
       "      <td>69754 Mcguire Haven Apt. 260\\nCrawfordside, RI...</td>\n",
       "      <td>4977328103788</td>\n",
       "    </tr>\n",
       "    <tr>\n",
       "      <th>3</th>\n",
       "      <td>andreasmith@example.net</td>\n",
       "      <td>HID_000</td>\n",
       "      <td>False</td>\n",
       "      <td>BASIC</td>\n",
       "      <td>0.22</td>\n",
       "      <td>07 Oct 2020</td>\n",
       "      <td>03 Oct 2020</td>\n",
       "      <td>145.83</td>\n",
       "      <td>402 Joy Overpass Suite 974\\nJoview, WV 75960</td>\n",
       "      <td>3524946844839485</td>\n",
       "    </tr>\n",
       "    <tr>\n",
       "      <th>4</th>\n",
       "      <td>fostermichael@example.com</td>\n",
       "      <td>HID_000</td>\n",
       "      <td>False</td>\n",
       "      <td>BASIC</td>\n",
       "      <td>24.39</td>\n",
       "      <td>28 Dec 2020</td>\n",
       "      <td>25 Nov 2020</td>\n",
       "      <td>207.19</td>\n",
       "      <td>545 Brown Via\\nTeresaport, TX 36995</td>\n",
       "      <td>4446905799576890978</td>\n",
       "    </tr>\n",
       "  </tbody>\n",
       "</table>\n",
       "</div>"
      ],
      "text/plain": [
       "                 guest_email hotel_id  has_rewards room_type  amenities_fee  \\\n",
       "0      moodyeric@example.net  HID_000        False     BASIC          46.64   \n",
       "1     coryguzman@example.com  HID_000        False    DELUXE           3.26   \n",
       "2     caitlinlee@example.net  HID_000        False     BASIC          10.94   \n",
       "3    andreasmith@example.net  HID_000        False     BASIC           0.22   \n",
       "4  fostermichael@example.com  HID_000        False     BASIC          24.39   \n",
       "\n",
       "  checkin_date checkout_date  room_rate  \\\n",
       "0  28 Sep 2020   30 Aug 2020     197.78   \n",
       "1  29 Jul 2020   08 Jul 2020     200.60   \n",
       "2  01 Dec 2020   29 Oct 2020     194.84   \n",
       "3  07 Oct 2020   03 Oct 2020     145.83   \n",
       "4  28 Dec 2020   25 Nov 2020     207.19   \n",
       "\n",
       "                                     billing_address   credit_card_number  \n",
       "0                   PSC 4273, Box 0888\\nAPO AA 28423     5161033759518983  \n",
       "1      417 Lawrence Hollow\\nEast Ericshire, NM 88906  4133047413145475690  \n",
       "2  69754 Mcguire Haven Apt. 260\\nCrawfordside, RI...        4977328103788  \n",
       "3       402 Joy Overpass Suite 974\\nJoview, WV 75960     3524946844839485  \n",
       "4                545 Brown Via\\nTeresaport, TX 36995  4446905799576890978  "
      ]
     },
     "execution_count": 116,
     "metadata": {},
     "output_type": "execute_result"
    }
   ],
   "source": [
    "synthetic_data[\"guests\"].head()"
   ]
  },
  {
   "cell_type": "code",
   "execution_count": 119,
   "id": "7cd387dd-30e0-497d-8f22-3c47e5b042f1",
   "metadata": {},
   "outputs": [
    {
     "name": "stderr",
     "output_type": "stream",
     "text": [
      "Creating report: 100%|████████████████████████████| 5/5 [00:00<00:00, 53.28it/s]\n"
     ]
    },
    {
     "name": "stdout",
     "output_type": "stream",
     "text": [
      "\n",
      "Overall Quality Score: 74.33%\n",
      "\n",
      "Properties:\n",
      "Column Shapes: 83.02%\n",
      "Column Pair Trends: 69.98%\n",
      "Parent Child Relationships: 70.0%\n"
     ]
    }
   ],
   "source": [
    "# evaluation \n",
    "\n",
    "from sdv.evaluation.multi_table import evaluate_quality\n",
    "\n",
    "quality_report = evaluate_quality(\n",
    "    real_data,\n",
    "    synthetic_data,\n",
    "    metadata,\n",
    "    verbose=True\n",
    ")"
   ]
  },
  {
   "cell_type": "code",
   "execution_count": 120,
   "id": "a9f7a9b9-e85c-4bfc-80a8-43cf7d197b0d",
   "metadata": {},
   "outputs": [
    {
     "data": {
      "application/vnd.plotly.v1+json": {
       "config": {
        "plotlyServerURL": "https://plot.ly"
       },
       "data": [
        {
         "alignmentgroup": "True",
         "customdata": [
          [
           "KSComplement"
          ],
          [
           "KSComplement"
          ],
          [
           "KSComplement"
          ],
          [
           "KSComplement"
          ]
         ],
         "hovertemplate": "<b>%{hovertext}</b><br><br>Metric=%{customdata[0]}<br>Quality Score=%{y}<extra></extra>",
         "hovertext": [
          "amenities_fee",
          "checkin_date",
          "checkout_date",
          "room_rate"
         ],
         "legendgroup": "KSComplement",
         "marker": {
          "color": "#000036",
          "pattern": {
           "shape": ""
          }
         },
         "name": "KSComplement",
         "offsetgroup": "KSComplement",
         "orientation": "v",
         "showlegend": true,
         "textposition": "auto",
         "type": "bar",
         "x": [
          "amenities_fee",
          "checkin_date",
          "checkout_date",
          "room_rate"
         ],
         "xaxis": "x",
         "y": [
          0.7048997105838157,
          0.9037053119119989,
          0.941762177973791,
          0.8515559415255464
         ],
         "yaxis": "y"
        },
        {
         "alignmentgroup": "True",
         "customdata": [
          [
           "TVComplement"
          ],
          [
           "TVComplement"
          ]
         ],
         "hovertemplate": "<b>%{hovertext}</b><br><br>Metric=%{customdata[0]}<br>Quality Score=%{y}<extra></extra>",
         "hovertext": [
          "has_rewards",
          "room_type"
         ],
         "legendgroup": "TVComplement",
         "marker": {
          "color": "#03AFF1",
          "pattern": {
           "shape": "/"
          }
         },
         "name": "TVComplement",
         "offsetgroup": "TVComplement",
         "orientation": "v",
         "showlegend": true,
         "textposition": "auto",
         "type": "bar",
         "x": [
          "has_rewards",
          "room_type"
         ],
         "xaxis": "x",
         "y": [
          0.9232160949486178,
          0.9487335359675785
         ],
         "yaxis": "y"
        }
       ],
       "layout": {
        "autosize": true,
        "barmode": "relative",
        "legend": {
         "title": {
          "text": "Metric"
         },
         "tracegroupgap": 0
        },
        "margin": {
         "t": 150
        },
        "plot_bgcolor": "#F5F5F8",
        "template": {
         "data": {
          "bar": [
           {
            "error_x": {
             "color": "#2a3f5f"
            },
            "error_y": {
             "color": "#2a3f5f"
            },
            "marker": {
             "line": {
              "color": "#E5ECF6",
              "width": 0.5
             },
             "pattern": {
              "fillmode": "overlay",
              "size": 10,
              "solidity": 0.2
             }
            },
            "type": "bar"
           }
          ],
          "barpolar": [
           {
            "marker": {
             "line": {
              "color": "#E5ECF6",
              "width": 0.5
             },
             "pattern": {
              "fillmode": "overlay",
              "size": 10,
              "solidity": 0.2
             }
            },
            "type": "barpolar"
           }
          ],
          "carpet": [
           {
            "aaxis": {
             "endlinecolor": "#2a3f5f",
             "gridcolor": "white",
             "linecolor": "white",
             "minorgridcolor": "white",
             "startlinecolor": "#2a3f5f"
            },
            "baxis": {
             "endlinecolor": "#2a3f5f",
             "gridcolor": "white",
             "linecolor": "white",
             "minorgridcolor": "white",
             "startlinecolor": "#2a3f5f"
            },
            "type": "carpet"
           }
          ],
          "choropleth": [
           {
            "colorbar": {
             "outlinewidth": 0,
             "ticks": ""
            },
            "type": "choropleth"
           }
          ],
          "contour": [
           {
            "colorbar": {
             "outlinewidth": 0,
             "ticks": ""
            },
            "colorscale": [
             [
              0,
              "#0d0887"
             ],
             [
              0.1111111111111111,
              "#46039f"
             ],
             [
              0.2222222222222222,
              "#7201a8"
             ],
             [
              0.3333333333333333,
              "#9c179e"
             ],
             [
              0.4444444444444444,
              "#bd3786"
             ],
             [
              0.5555555555555556,
              "#d8576b"
             ],
             [
              0.6666666666666666,
              "#ed7953"
             ],
             [
              0.7777777777777778,
              "#fb9f3a"
             ],
             [
              0.8888888888888888,
              "#fdca26"
             ],
             [
              1,
              "#f0f921"
             ]
            ],
            "type": "contour"
           }
          ],
          "contourcarpet": [
           {
            "colorbar": {
             "outlinewidth": 0,
             "ticks": ""
            },
            "type": "contourcarpet"
           }
          ],
          "heatmap": [
           {
            "colorbar": {
             "outlinewidth": 0,
             "ticks": ""
            },
            "colorscale": [
             [
              0,
              "#0d0887"
             ],
             [
              0.1111111111111111,
              "#46039f"
             ],
             [
              0.2222222222222222,
              "#7201a8"
             ],
             [
              0.3333333333333333,
              "#9c179e"
             ],
             [
              0.4444444444444444,
              "#bd3786"
             ],
             [
              0.5555555555555556,
              "#d8576b"
             ],
             [
              0.6666666666666666,
              "#ed7953"
             ],
             [
              0.7777777777777778,
              "#fb9f3a"
             ],
             [
              0.8888888888888888,
              "#fdca26"
             ],
             [
              1,
              "#f0f921"
             ]
            ],
            "type": "heatmap"
           }
          ],
          "heatmapgl": [
           {
            "colorbar": {
             "outlinewidth": 0,
             "ticks": ""
            },
            "colorscale": [
             [
              0,
              "#0d0887"
             ],
             [
              0.1111111111111111,
              "#46039f"
             ],
             [
              0.2222222222222222,
              "#7201a8"
             ],
             [
              0.3333333333333333,
              "#9c179e"
             ],
             [
              0.4444444444444444,
              "#bd3786"
             ],
             [
              0.5555555555555556,
              "#d8576b"
             ],
             [
              0.6666666666666666,
              "#ed7953"
             ],
             [
              0.7777777777777778,
              "#fb9f3a"
             ],
             [
              0.8888888888888888,
              "#fdca26"
             ],
             [
              1,
              "#f0f921"
             ]
            ],
            "type": "heatmapgl"
           }
          ],
          "histogram": [
           {
            "marker": {
             "pattern": {
              "fillmode": "overlay",
              "size": 10,
              "solidity": 0.2
             }
            },
            "type": "histogram"
           }
          ],
          "histogram2d": [
           {
            "colorbar": {
             "outlinewidth": 0,
             "ticks": ""
            },
            "colorscale": [
             [
              0,
              "#0d0887"
             ],
             [
              0.1111111111111111,
              "#46039f"
             ],
             [
              0.2222222222222222,
              "#7201a8"
             ],
             [
              0.3333333333333333,
              "#9c179e"
             ],
             [
              0.4444444444444444,
              "#bd3786"
             ],
             [
              0.5555555555555556,
              "#d8576b"
             ],
             [
              0.6666666666666666,
              "#ed7953"
             ],
             [
              0.7777777777777778,
              "#fb9f3a"
             ],
             [
              0.8888888888888888,
              "#fdca26"
             ],
             [
              1,
              "#f0f921"
             ]
            ],
            "type": "histogram2d"
           }
          ],
          "histogram2dcontour": [
           {
            "colorbar": {
             "outlinewidth": 0,
             "ticks": ""
            },
            "colorscale": [
             [
              0,
              "#0d0887"
             ],
             [
              0.1111111111111111,
              "#46039f"
             ],
             [
              0.2222222222222222,
              "#7201a8"
             ],
             [
              0.3333333333333333,
              "#9c179e"
             ],
             [
              0.4444444444444444,
              "#bd3786"
             ],
             [
              0.5555555555555556,
              "#d8576b"
             ],
             [
              0.6666666666666666,
              "#ed7953"
             ],
             [
              0.7777777777777778,
              "#fb9f3a"
             ],
             [
              0.8888888888888888,
              "#fdca26"
             ],
             [
              1,
              "#f0f921"
             ]
            ],
            "type": "histogram2dcontour"
           }
          ],
          "mesh3d": [
           {
            "colorbar": {
             "outlinewidth": 0,
             "ticks": ""
            },
            "type": "mesh3d"
           }
          ],
          "parcoords": [
           {
            "line": {
             "colorbar": {
              "outlinewidth": 0,
              "ticks": ""
             }
            },
            "type": "parcoords"
           }
          ],
          "pie": [
           {
            "automargin": true,
            "type": "pie"
           }
          ],
          "scatter": [
           {
            "fillpattern": {
             "fillmode": "overlay",
             "size": 10,
             "solidity": 0.2
            },
            "type": "scatter"
           }
          ],
          "scatter3d": [
           {
            "line": {
             "colorbar": {
              "outlinewidth": 0,
              "ticks": ""
             }
            },
            "marker": {
             "colorbar": {
              "outlinewidth": 0,
              "ticks": ""
             }
            },
            "type": "scatter3d"
           }
          ],
          "scattercarpet": [
           {
            "marker": {
             "colorbar": {
              "outlinewidth": 0,
              "ticks": ""
             }
            },
            "type": "scattercarpet"
           }
          ],
          "scattergeo": [
           {
            "marker": {
             "colorbar": {
              "outlinewidth": 0,
              "ticks": ""
             }
            },
            "type": "scattergeo"
           }
          ],
          "scattergl": [
           {
            "marker": {
             "colorbar": {
              "outlinewidth": 0,
              "ticks": ""
             }
            },
            "type": "scattergl"
           }
          ],
          "scattermapbox": [
           {
            "marker": {
             "colorbar": {
              "outlinewidth": 0,
              "ticks": ""
             }
            },
            "type": "scattermapbox"
           }
          ],
          "scatterpolar": [
           {
            "marker": {
             "colorbar": {
              "outlinewidth": 0,
              "ticks": ""
             }
            },
            "type": "scatterpolar"
           }
          ],
          "scatterpolargl": [
           {
            "marker": {
             "colorbar": {
              "outlinewidth": 0,
              "ticks": ""
             }
            },
            "type": "scatterpolargl"
           }
          ],
          "scatterternary": [
           {
            "marker": {
             "colorbar": {
              "outlinewidth": 0,
              "ticks": ""
             }
            },
            "type": "scatterternary"
           }
          ],
          "surface": [
           {
            "colorbar": {
             "outlinewidth": 0,
             "ticks": ""
            },
            "colorscale": [
             [
              0,
              "#0d0887"
             ],
             [
              0.1111111111111111,
              "#46039f"
             ],
             [
              0.2222222222222222,
              "#7201a8"
             ],
             [
              0.3333333333333333,
              "#9c179e"
             ],
             [
              0.4444444444444444,
              "#bd3786"
             ],
             [
              0.5555555555555556,
              "#d8576b"
             ],
             [
              0.6666666666666666,
              "#ed7953"
             ],
             [
              0.7777777777777778,
              "#fb9f3a"
             ],
             [
              0.8888888888888888,
              "#fdca26"
             ],
             [
              1,
              "#f0f921"
             ]
            ],
            "type": "surface"
           }
          ],
          "table": [
           {
            "cells": {
             "fill": {
              "color": "#EBF0F8"
             },
             "line": {
              "color": "white"
             }
            },
            "header": {
             "fill": {
              "color": "#C8D4E3"
             },
             "line": {
              "color": "white"
             }
            },
            "type": "table"
           }
          ]
         },
         "layout": {
          "annotationdefaults": {
           "arrowcolor": "#2a3f5f",
           "arrowhead": 0,
           "arrowwidth": 1
          },
          "autotypenumbers": "strict",
          "coloraxis": {
           "colorbar": {
            "outlinewidth": 0,
            "ticks": ""
           }
          },
          "colorscale": {
           "diverging": [
            [
             0,
             "#8e0152"
            ],
            [
             0.1,
             "#c51b7d"
            ],
            [
             0.2,
             "#de77ae"
            ],
            [
             0.3,
             "#f1b6da"
            ],
            [
             0.4,
             "#fde0ef"
            ],
            [
             0.5,
             "#f7f7f7"
            ],
            [
             0.6,
             "#e6f5d0"
            ],
            [
             0.7,
             "#b8e186"
            ],
            [
             0.8,
             "#7fbc41"
            ],
            [
             0.9,
             "#4d9221"
            ],
            [
             1,
             "#276419"
            ]
           ],
           "sequential": [
            [
             0,
             "#0d0887"
            ],
            [
             0.1111111111111111,
             "#46039f"
            ],
            [
             0.2222222222222222,
             "#7201a8"
            ],
            [
             0.3333333333333333,
             "#9c179e"
            ],
            [
             0.4444444444444444,
             "#bd3786"
            ],
            [
             0.5555555555555556,
             "#d8576b"
            ],
            [
             0.6666666666666666,
             "#ed7953"
            ],
            [
             0.7777777777777778,
             "#fb9f3a"
            ],
            [
             0.8888888888888888,
             "#fdca26"
            ],
            [
             1,
             "#f0f921"
            ]
           ],
           "sequentialminus": [
            [
             0,
             "#0d0887"
            ],
            [
             0.1111111111111111,
             "#46039f"
            ],
            [
             0.2222222222222222,
             "#7201a8"
            ],
            [
             0.3333333333333333,
             "#9c179e"
            ],
            [
             0.4444444444444444,
             "#bd3786"
            ],
            [
             0.5555555555555556,
             "#d8576b"
            ],
            [
             0.6666666666666666,
             "#ed7953"
            ],
            [
             0.7777777777777778,
             "#fb9f3a"
            ],
            [
             0.8888888888888888,
             "#fdca26"
            ],
            [
             1,
             "#f0f921"
            ]
           ]
          },
          "colorway": [
           "#636efa",
           "#EF553B",
           "#00cc96",
           "#ab63fa",
           "#FFA15A",
           "#19d3f3",
           "#FF6692",
           "#B6E880",
           "#FF97FF",
           "#FECB52"
          ],
          "font": {
           "color": "#2a3f5f"
          },
          "geo": {
           "bgcolor": "white",
           "lakecolor": "white",
           "landcolor": "#E5ECF6",
           "showlakes": true,
           "showland": true,
           "subunitcolor": "white"
          },
          "hoverlabel": {
           "align": "left"
          },
          "hovermode": "closest",
          "mapbox": {
           "style": "light"
          },
          "paper_bgcolor": "white",
          "plot_bgcolor": "#E5ECF6",
          "polar": {
           "angularaxis": {
            "gridcolor": "white",
            "linecolor": "white",
            "ticks": ""
           },
           "bgcolor": "#E5ECF6",
           "radialaxis": {
            "gridcolor": "white",
            "linecolor": "white",
            "ticks": ""
           }
          },
          "scene": {
           "xaxis": {
            "backgroundcolor": "#E5ECF6",
            "gridcolor": "white",
            "gridwidth": 2,
            "linecolor": "white",
            "showbackground": true,
            "ticks": "",
            "zerolinecolor": "white"
           },
           "yaxis": {
            "backgroundcolor": "#E5ECF6",
            "gridcolor": "white",
            "gridwidth": 2,
            "linecolor": "white",
            "showbackground": true,
            "ticks": "",
            "zerolinecolor": "white"
           },
           "zaxis": {
            "backgroundcolor": "#E5ECF6",
            "gridcolor": "white",
            "gridwidth": 2,
            "linecolor": "white",
            "showbackground": true,
            "ticks": "",
            "zerolinecolor": "white"
           }
          },
          "shapedefaults": {
           "line": {
            "color": "#2a3f5f"
           }
          },
          "ternary": {
           "aaxis": {
            "gridcolor": "white",
            "linecolor": "white",
            "ticks": ""
           },
           "baxis": {
            "gridcolor": "white",
            "linecolor": "white",
            "ticks": ""
           },
           "bgcolor": "#E5ECF6",
           "caxis": {
            "gridcolor": "white",
            "linecolor": "white",
            "ticks": ""
           }
          },
          "title": {
           "x": 0.05
          },
          "xaxis": {
           "automargin": true,
           "gridcolor": "white",
           "linecolor": "white",
           "ticks": "",
           "title": {
            "standoff": 15
           },
           "zerolinecolor": "white",
           "zerolinewidth": 2
          },
          "yaxis": {
           "automargin": true,
           "gridcolor": "white",
           "linecolor": "white",
           "ticks": "",
           "title": {
            "standoff": 15
           },
           "zerolinecolor": "white",
           "zerolinewidth": 2
          }
         }
        },
        "title": {
         "text": "Data Quality: Column Shapes (Average Score=0.88)"
        },
        "xaxis": {
         "anchor": "y",
         "autorange": true,
         "categoryorder": "total ascending",
         "domain": [
          0,
          1
         ],
         "range": [
          -0.5,
          5.5
         ],
         "title": {
          "text": "Column Name"
         },
         "type": "category"
        },
        "yaxis": {
         "anchor": "x",
         "domain": [
          0,
          1
         ],
         "range": [
          0,
          1
         ],
         "title": {
          "text": "Quality Score"
         },
         "type": "linear"
        }
       }
      },
      "text/html": [
       "<div>                            <div id=\"cafa8838-3c7a-4565-aead-cbc0d5befda8\" class=\"plotly-graph-div\" style=\"height:525px; width:100%;\"></div>            <script type=\"text/javascript\">                require([\"plotly\"], function(Plotly) {                    window.PLOTLYENV=window.PLOTLYENV || {};                                    if (document.getElementById(\"cafa8838-3c7a-4565-aead-cbc0d5befda8\")) {                    Plotly.newPlot(                        \"cafa8838-3c7a-4565-aead-cbc0d5befda8\",                        [{\"alignmentgroup\":\"True\",\"customdata\":[[\"KSComplement\"],[\"KSComplement\"],[\"KSComplement\"],[\"KSComplement\"]],\"hovertemplate\":\"\\u003cb\\u003e%{hovertext}\\u003c\\u002fb\\u003e\\u003cbr\\u003e\\u003cbr\\u003eMetric=%{customdata[0]}\\u003cbr\\u003eQuality Score=%{y}\\u003cextra\\u003e\\u003c\\u002fextra\\u003e\",\"hovertext\":[\"amenities_fee\",\"checkin_date\",\"checkout_date\",\"room_rate\"],\"legendgroup\":\"KSComplement\",\"marker\":{\"color\":\"#000036\",\"pattern\":{\"shape\":\"\"}},\"name\":\"KSComplement\",\"offsetgroup\":\"KSComplement\",\"orientation\":\"v\",\"showlegend\":true,\"textposition\":\"auto\",\"x\":[\"amenities_fee\",\"checkin_date\",\"checkout_date\",\"room_rate\"],\"xaxis\":\"x\",\"y\":[0.7048997105838157,0.9037053119119989,0.941762177973791,0.8515559415255464],\"yaxis\":\"y\",\"type\":\"bar\"},{\"alignmentgroup\":\"True\",\"customdata\":[[\"TVComplement\"],[\"TVComplement\"]],\"hovertemplate\":\"\\u003cb\\u003e%{hovertext}\\u003c\\u002fb\\u003e\\u003cbr\\u003e\\u003cbr\\u003eMetric=%{customdata[0]}\\u003cbr\\u003eQuality Score=%{y}\\u003cextra\\u003e\\u003c\\u002fextra\\u003e\",\"hovertext\":[\"has_rewards\",\"room_type\"],\"legendgroup\":\"TVComplement\",\"marker\":{\"color\":\"#03AFF1\",\"pattern\":{\"shape\":\"\\u002f\"}},\"name\":\"TVComplement\",\"offsetgroup\":\"TVComplement\",\"orientation\":\"v\",\"showlegend\":true,\"textposition\":\"auto\",\"x\":[\"has_rewards\",\"room_type\"],\"xaxis\":\"x\",\"y\":[0.9232160949486178,0.9487335359675785],\"yaxis\":\"y\",\"type\":\"bar\"}],                        {\"template\":{\"data\":{\"histogram2dcontour\":[{\"type\":\"histogram2dcontour\",\"colorbar\":{\"outlinewidth\":0,\"ticks\":\"\"},\"colorscale\":[[0.0,\"#0d0887\"],[0.1111111111111111,\"#46039f\"],[0.2222222222222222,\"#7201a8\"],[0.3333333333333333,\"#9c179e\"],[0.4444444444444444,\"#bd3786\"],[0.5555555555555556,\"#d8576b\"],[0.6666666666666666,\"#ed7953\"],[0.7777777777777778,\"#fb9f3a\"],[0.8888888888888888,\"#fdca26\"],[1.0,\"#f0f921\"]]}],\"choropleth\":[{\"type\":\"choropleth\",\"colorbar\":{\"outlinewidth\":0,\"ticks\":\"\"}}],\"histogram2d\":[{\"type\":\"histogram2d\",\"colorbar\":{\"outlinewidth\":0,\"ticks\":\"\"},\"colorscale\":[[0.0,\"#0d0887\"],[0.1111111111111111,\"#46039f\"],[0.2222222222222222,\"#7201a8\"],[0.3333333333333333,\"#9c179e\"],[0.4444444444444444,\"#bd3786\"],[0.5555555555555556,\"#d8576b\"],[0.6666666666666666,\"#ed7953\"],[0.7777777777777778,\"#fb9f3a\"],[0.8888888888888888,\"#fdca26\"],[1.0,\"#f0f921\"]]}],\"heatmap\":[{\"type\":\"heatmap\",\"colorbar\":{\"outlinewidth\":0,\"ticks\":\"\"},\"colorscale\":[[0.0,\"#0d0887\"],[0.1111111111111111,\"#46039f\"],[0.2222222222222222,\"#7201a8\"],[0.3333333333333333,\"#9c179e\"],[0.4444444444444444,\"#bd3786\"],[0.5555555555555556,\"#d8576b\"],[0.6666666666666666,\"#ed7953\"],[0.7777777777777778,\"#fb9f3a\"],[0.8888888888888888,\"#fdca26\"],[1.0,\"#f0f921\"]]}],\"heatmapgl\":[{\"type\":\"heatmapgl\",\"colorbar\":{\"outlinewidth\":0,\"ticks\":\"\"},\"colorscale\":[[0.0,\"#0d0887\"],[0.1111111111111111,\"#46039f\"],[0.2222222222222222,\"#7201a8\"],[0.3333333333333333,\"#9c179e\"],[0.4444444444444444,\"#bd3786\"],[0.5555555555555556,\"#d8576b\"],[0.6666666666666666,\"#ed7953\"],[0.7777777777777778,\"#fb9f3a\"],[0.8888888888888888,\"#fdca26\"],[1.0,\"#f0f921\"]]}],\"contourcarpet\":[{\"type\":\"contourcarpet\",\"colorbar\":{\"outlinewidth\":0,\"ticks\":\"\"}}],\"contour\":[{\"type\":\"contour\",\"colorbar\":{\"outlinewidth\":0,\"ticks\":\"\"},\"colorscale\":[[0.0,\"#0d0887\"],[0.1111111111111111,\"#46039f\"],[0.2222222222222222,\"#7201a8\"],[0.3333333333333333,\"#9c179e\"],[0.4444444444444444,\"#bd3786\"],[0.5555555555555556,\"#d8576b\"],[0.6666666666666666,\"#ed7953\"],[0.7777777777777778,\"#fb9f3a\"],[0.8888888888888888,\"#fdca26\"],[1.0,\"#f0f921\"]]}],\"surface\":[{\"type\":\"surface\",\"colorbar\":{\"outlinewidth\":0,\"ticks\":\"\"},\"colorscale\":[[0.0,\"#0d0887\"],[0.1111111111111111,\"#46039f\"],[0.2222222222222222,\"#7201a8\"],[0.3333333333333333,\"#9c179e\"],[0.4444444444444444,\"#bd3786\"],[0.5555555555555556,\"#d8576b\"],[0.6666666666666666,\"#ed7953\"],[0.7777777777777778,\"#fb9f3a\"],[0.8888888888888888,\"#fdca26\"],[1.0,\"#f0f921\"]]}],\"mesh3d\":[{\"type\":\"mesh3d\",\"colorbar\":{\"outlinewidth\":0,\"ticks\":\"\"}}],\"scatter\":[{\"fillpattern\":{\"fillmode\":\"overlay\",\"size\":10,\"solidity\":0.2},\"type\":\"scatter\"}],\"parcoords\":[{\"type\":\"parcoords\",\"line\":{\"colorbar\":{\"outlinewidth\":0,\"ticks\":\"\"}}}],\"scatterpolargl\":[{\"type\":\"scatterpolargl\",\"marker\":{\"colorbar\":{\"outlinewidth\":0,\"ticks\":\"\"}}}],\"bar\":[{\"error_x\":{\"color\":\"#2a3f5f\"},\"error_y\":{\"color\":\"#2a3f5f\"},\"marker\":{\"line\":{\"color\":\"#E5ECF6\",\"width\":0.5},\"pattern\":{\"fillmode\":\"overlay\",\"size\":10,\"solidity\":0.2}},\"type\":\"bar\"}],\"scattergeo\":[{\"type\":\"scattergeo\",\"marker\":{\"colorbar\":{\"outlinewidth\":0,\"ticks\":\"\"}}}],\"scatterpolar\":[{\"type\":\"scatterpolar\",\"marker\":{\"colorbar\":{\"outlinewidth\":0,\"ticks\":\"\"}}}],\"histogram\":[{\"marker\":{\"pattern\":{\"fillmode\":\"overlay\",\"size\":10,\"solidity\":0.2}},\"type\":\"histogram\"}],\"scattergl\":[{\"type\":\"scattergl\",\"marker\":{\"colorbar\":{\"outlinewidth\":0,\"ticks\":\"\"}}}],\"scatter3d\":[{\"type\":\"scatter3d\",\"line\":{\"colorbar\":{\"outlinewidth\":0,\"ticks\":\"\"}},\"marker\":{\"colorbar\":{\"outlinewidth\":0,\"ticks\":\"\"}}}],\"scattermapbox\":[{\"type\":\"scattermapbox\",\"marker\":{\"colorbar\":{\"outlinewidth\":0,\"ticks\":\"\"}}}],\"scatterternary\":[{\"type\":\"scatterternary\",\"marker\":{\"colorbar\":{\"outlinewidth\":0,\"ticks\":\"\"}}}],\"scattercarpet\":[{\"type\":\"scattercarpet\",\"marker\":{\"colorbar\":{\"outlinewidth\":0,\"ticks\":\"\"}}}],\"carpet\":[{\"aaxis\":{\"endlinecolor\":\"#2a3f5f\",\"gridcolor\":\"white\",\"linecolor\":\"white\",\"minorgridcolor\":\"white\",\"startlinecolor\":\"#2a3f5f\"},\"baxis\":{\"endlinecolor\":\"#2a3f5f\",\"gridcolor\":\"white\",\"linecolor\":\"white\",\"minorgridcolor\":\"white\",\"startlinecolor\":\"#2a3f5f\"},\"type\":\"carpet\"}],\"table\":[{\"cells\":{\"fill\":{\"color\":\"#EBF0F8\"},\"line\":{\"color\":\"white\"}},\"header\":{\"fill\":{\"color\":\"#C8D4E3\"},\"line\":{\"color\":\"white\"}},\"type\":\"table\"}],\"barpolar\":[{\"marker\":{\"line\":{\"color\":\"#E5ECF6\",\"width\":0.5},\"pattern\":{\"fillmode\":\"overlay\",\"size\":10,\"solidity\":0.2}},\"type\":\"barpolar\"}],\"pie\":[{\"automargin\":true,\"type\":\"pie\"}]},\"layout\":{\"autotypenumbers\":\"strict\",\"colorway\":[\"#636efa\",\"#EF553B\",\"#00cc96\",\"#ab63fa\",\"#FFA15A\",\"#19d3f3\",\"#FF6692\",\"#B6E880\",\"#FF97FF\",\"#FECB52\"],\"font\":{\"color\":\"#2a3f5f\"},\"hovermode\":\"closest\",\"hoverlabel\":{\"align\":\"left\"},\"paper_bgcolor\":\"white\",\"plot_bgcolor\":\"#E5ECF6\",\"polar\":{\"bgcolor\":\"#E5ECF6\",\"angularaxis\":{\"gridcolor\":\"white\",\"linecolor\":\"white\",\"ticks\":\"\"},\"radialaxis\":{\"gridcolor\":\"white\",\"linecolor\":\"white\",\"ticks\":\"\"}},\"ternary\":{\"bgcolor\":\"#E5ECF6\",\"aaxis\":{\"gridcolor\":\"white\",\"linecolor\":\"white\",\"ticks\":\"\"},\"baxis\":{\"gridcolor\":\"white\",\"linecolor\":\"white\",\"ticks\":\"\"},\"caxis\":{\"gridcolor\":\"white\",\"linecolor\":\"white\",\"ticks\":\"\"}},\"coloraxis\":{\"colorbar\":{\"outlinewidth\":0,\"ticks\":\"\"}},\"colorscale\":{\"sequential\":[[0.0,\"#0d0887\"],[0.1111111111111111,\"#46039f\"],[0.2222222222222222,\"#7201a8\"],[0.3333333333333333,\"#9c179e\"],[0.4444444444444444,\"#bd3786\"],[0.5555555555555556,\"#d8576b\"],[0.6666666666666666,\"#ed7953\"],[0.7777777777777778,\"#fb9f3a\"],[0.8888888888888888,\"#fdca26\"],[1.0,\"#f0f921\"]],\"sequentialminus\":[[0.0,\"#0d0887\"],[0.1111111111111111,\"#46039f\"],[0.2222222222222222,\"#7201a8\"],[0.3333333333333333,\"#9c179e\"],[0.4444444444444444,\"#bd3786\"],[0.5555555555555556,\"#d8576b\"],[0.6666666666666666,\"#ed7953\"],[0.7777777777777778,\"#fb9f3a\"],[0.8888888888888888,\"#fdca26\"],[1.0,\"#f0f921\"]],\"diverging\":[[0,\"#8e0152\"],[0.1,\"#c51b7d\"],[0.2,\"#de77ae\"],[0.3,\"#f1b6da\"],[0.4,\"#fde0ef\"],[0.5,\"#f7f7f7\"],[0.6,\"#e6f5d0\"],[0.7,\"#b8e186\"],[0.8,\"#7fbc41\"],[0.9,\"#4d9221\"],[1,\"#276419\"]]},\"xaxis\":{\"gridcolor\":\"white\",\"linecolor\":\"white\",\"ticks\":\"\",\"title\":{\"standoff\":15},\"zerolinecolor\":\"white\",\"automargin\":true,\"zerolinewidth\":2},\"yaxis\":{\"gridcolor\":\"white\",\"linecolor\":\"white\",\"ticks\":\"\",\"title\":{\"standoff\":15},\"zerolinecolor\":\"white\",\"automargin\":true,\"zerolinewidth\":2},\"scene\":{\"xaxis\":{\"backgroundcolor\":\"#E5ECF6\",\"gridcolor\":\"white\",\"linecolor\":\"white\",\"showbackground\":true,\"ticks\":\"\",\"zerolinecolor\":\"white\",\"gridwidth\":2},\"yaxis\":{\"backgroundcolor\":\"#E5ECF6\",\"gridcolor\":\"white\",\"linecolor\":\"white\",\"showbackground\":true,\"ticks\":\"\",\"zerolinecolor\":\"white\",\"gridwidth\":2},\"zaxis\":{\"backgroundcolor\":\"#E5ECF6\",\"gridcolor\":\"white\",\"linecolor\":\"white\",\"showbackground\":true,\"ticks\":\"\",\"zerolinecolor\":\"white\",\"gridwidth\":2}},\"shapedefaults\":{\"line\":{\"color\":\"#2a3f5f\"}},\"annotationdefaults\":{\"arrowcolor\":\"#2a3f5f\",\"arrowhead\":0,\"arrowwidth\":1},\"geo\":{\"bgcolor\":\"white\",\"landcolor\":\"#E5ECF6\",\"subunitcolor\":\"white\",\"showland\":true,\"showlakes\":true,\"lakecolor\":\"white\"},\"title\":{\"x\":0.05},\"mapbox\":{\"style\":\"light\"}}},\"xaxis\":{\"anchor\":\"y\",\"domain\":[0.0,1.0],\"title\":{\"text\":\"Column Name\"},\"categoryorder\":\"total ascending\"},\"yaxis\":{\"anchor\":\"x\",\"domain\":[0.0,1.0],\"title\":{\"text\":\"Quality Score\"},\"range\":[0,1]},\"legend\":{\"title\":{\"text\":\"Metric\"},\"tracegroupgap\":0},\"title\":{\"text\":\"Data Quality: Column Shapes (Average Score=0.88)\"},\"barmode\":\"relative\",\"margin\":{\"t\":150},\"plot_bgcolor\":\"#F5F5F8\"},                        {\"responsive\": true}                    ).then(function(){\n",
       "                            \n",
       "var gd = document.getElementById('cafa8838-3c7a-4565-aead-cbc0d5befda8');\n",
       "var x = new MutationObserver(function (mutations, observer) {{\n",
       "        var display = window.getComputedStyle(gd).display;\n",
       "        if (!display || display === 'none') {{\n",
       "            console.log([gd, 'removed!']);\n",
       "            Plotly.purge(gd);\n",
       "            observer.disconnect();\n",
       "        }}\n",
       "}});\n",
       "\n",
       "// Listen for the removal of the full notebook cells\n",
       "var notebookContainer = gd.closest('#notebook-container');\n",
       "if (notebookContainer) {{\n",
       "    x.observe(notebookContainer, {childList: true});\n",
       "}}\n",
       "\n",
       "// Listen for the clearing of the current output cell\n",
       "var outputEl = gd.closest('.output');\n",
       "if (outputEl) {{\n",
       "    x.observe(outputEl, {childList: true});\n",
       "}}\n",
       "\n",
       "                        })                };                });            </script>        </div>"
      ]
     },
     "metadata": {},
     "output_type": "display_data"
    }
   ],
   "source": [
    "fig = quality_report.get_visualization(\"Column Shapes\", table_name=\"guests\")\n",
    "\n",
    "fig.show()"
   ]
  },
  {
   "cell_type": "markdown",
   "id": "c7ed38e3-b028-4cc9-9777-02a809e2a350",
   "metadata": {},
   "source": [
    "# Prepare Your Own Data"
   ]
  },
  {
   "cell_type": "code",
   "execution_count": 121,
   "id": "53960097-7d10-424d-a6f1-2e6d9b8da71e",
   "metadata": {},
   "outputs": [
    {
     "name": "stdout",
     "output_type": "stream",
     "text": [
      "You have not uploaded any csv files. Using some demo data instead.\n"
     ]
    }
   ],
   "source": [
    "# loading data\n",
    "\n",
    "from sdv.datasets.local import load_csvs\n",
    "from sdv.datasets.demo import download_demo\n",
    "\n",
    "# This is the default folder name that the GOogle Colab notebook uses.\n",
    "# Change this if you have your own folder with CSV files.\n",
    "FOLDER_NAME = 'content/'\n",
    "\n",
    "try:\n",
    "  datasets = load_csvs(folder_name='/content/')\n",
    "except ValueError:\n",
    "  print('You have not uploaded any csv files. Using some demo data instead.')\n",
    "  datasets, _ = download_demo(\n",
    "    modality='multi_table',\n",
    "    dataset_name='fake_hotels'\n",
    "  )"
   ]
  },
  {
   "cell_type": "code",
   "execution_count": 123,
   "id": "b7220df7-675c-4019-aab9-ac54bb83d305",
   "metadata": {},
   "outputs": [],
   "source": [
    "# writing a metadata description\n",
    "from sdv.metadata import MultiTableMetadata\n",
    "\n",
    "metadata = MultiTableMetadata()"
   ]
  },
  {
   "cell_type": "code",
   "execution_count": 124,
   "id": "cf509353-6003-473c-baaf-04acb463cb31",
   "metadata": {},
   "outputs": [],
   "source": [
    "# auto detect metadata\n",
    "\n",
    "metadata.detect_table_from_dataframe(\n",
    "    table_name=\"guests\",\n",
    "    data=datasets[\"guests\"]\n",
    ")\n",
    "\n",
    "metadata.detect_table_from_dataframe(\n",
    "    table_name=\"hotels\",\n",
    "    data=datasets[\"hotels\"]\n",
    ")"
   ]
  },
  {
   "cell_type": "code",
   "execution_count": 125,
   "id": "8425bb7a-6744-48d2-ab15-ccceeb590578",
   "metadata": {},
   "outputs": [
    {
     "name": "stdout",
     "output_type": "stream",
     "text": [
      "{\n",
      "    \"tables\": {\n",
      "        \"guests\": {\n",
      "            \"columns\": {\n",
      "                \"guest_email\": {\n",
      "                    \"sdtype\": \"categorical\"\n",
      "                },\n",
      "                \"hotel_id\": {\n",
      "                    \"sdtype\": \"categorical\"\n",
      "                },\n",
      "                \"has_rewards\": {\n",
      "                    \"sdtype\": \"boolean\"\n",
      "                },\n",
      "                \"room_type\": {\n",
      "                    \"sdtype\": \"categorical\"\n",
      "                },\n",
      "                \"amenities_fee\": {\n",
      "                    \"sdtype\": \"numerical\"\n",
      "                },\n",
      "                \"checkin_date\": {\n",
      "                    \"sdtype\": \"categorical\"\n",
      "                },\n",
      "                \"checkout_date\": {\n",
      "                    \"sdtype\": \"categorical\"\n",
      "                },\n",
      "                \"room_rate\": {\n",
      "                    \"sdtype\": \"numerical\"\n",
      "                },\n",
      "                \"billing_address\": {\n",
      "                    \"sdtype\": \"categorical\"\n",
      "                },\n",
      "                \"credit_card_number\": {\n",
      "                    \"sdtype\": \"numerical\"\n",
      "                }\n",
      "            }\n",
      "        },\n",
      "        \"hotels\": {\n",
      "            \"columns\": {\n",
      "                \"hotel_id\": {\n",
      "                    \"sdtype\": \"categorical\"\n",
      "                },\n",
      "                \"city\": {\n",
      "                    \"sdtype\": \"categorical\"\n",
      "                },\n",
      "                \"state\": {\n",
      "                    \"sdtype\": \"categorical\"\n",
      "                },\n",
      "                \"rating\": {\n",
      "                    \"sdtype\": \"numerical\"\n",
      "                },\n",
      "                \"classification\": {\n",
      "                    \"sdtype\": \"categorical\"\n",
      "                }\n",
      "            }\n",
      "        }\n",
      "    },\n",
      "    \"relationships\": [],\n",
      "    \"METADATA_SPEC_VERSION\": \"MULTI_TABLE_V1\"\n",
      "}\n"
     ]
    }
   ],
   "source": [
    "print(metadata)"
   ]
  },
  {
   "cell_type": "code",
   "execution_count": 126,
   "id": "fece4c5f-6dbe-4d0c-84c7-05a8c4657573",
   "metadata": {},
   "outputs": [],
   "source": [
    "# fixing data types -> convert to datetime \n",
    "\n",
    "metadata.update_column(\n",
    "    table_name=\"guests\",\n",
    "    column_name=\"checkin_date\",\n",
    "    sdtype=\"datetime\",\n",
    "    datetime_format=\"%d %b %Y\"\n",
    ")\n",
    "\n",
    "metadata.update_column(\n",
    "    table_name=\"guests\",\n",
    "    column_name=\"checkout_date\",\n",
    "    sdtype=\"datetime\",\n",
    "    datetime_format=\"%d %b %Y\"\n",
    ")\n"
   ]
  },
  {
   "cell_type": "code",
   "execution_count": 128,
   "id": "109c1121-5800-4b04-8eec-7023664e031b",
   "metadata": {},
   "outputs": [],
   "source": [
    "# fixing data types -> ID columns dont have statistical value\n",
    "\n",
    "metadata.update_column(\n",
    "    table_name=\"hotels\",\n",
    "    column_name=\"hotel_id\",\n",
    "    sdtype=\"id\",\n",
    "    regex_format=\"HID_[0-9]{3,4}\"\n",
    ")\n",
    "\n",
    "metadata.update_column(\n",
    "    table_name=\"guests\",\n",
    "    column_name=\"hotel_id\",\n",
    "    sdtype=\"id\",\n",
    "    regex_format=\"HID_[0-9]{3,4}\"\n",
    ")"
   ]
  },
  {
   "cell_type": "code",
   "execution_count": 131,
   "id": "b55c7961-f929-40f1-81ed-1315c04076f6",
   "metadata": {},
   "outputs": [],
   "source": [
    "# sensitive info\n",
    "\n",
    "metadata.update_column(\n",
    "    table_name=\"guests\",\n",
    "    column_name=\"guest_email\",\n",
    "    sdtype=\"email\",\n",
    "    pii=True\n",
    ")\n",
    "\n",
    "metadata.update_column(\n",
    "    table_name=\"guests\",\n",
    "    column_name=\"billing_address\",\n",
    "    sdtype=\"address\",\n",
    "    pii=True\n",
    ")\n",
    "\n",
    "metadata.update_column(\n",
    "    table_name=\"guests\",\n",
    "    column_name=\"credit_card_number\",\n",
    "    sdtype=\"credit_card_number\",\n",
    "    pii=True\n",
    ")"
   ]
  },
  {
   "cell_type": "code",
   "execution_count": 132,
   "id": "ed7c4b08-5a33-4785-a724-b735a50b59c2",
   "metadata": {},
   "outputs": [],
   "source": [
    "# adding identifier and keys\n",
    "\n",
    "metadata.set_primary_key(\n",
    "    table_name=\"hotels\",\n",
    "    column_name=\"hotel_id\"\n",
    ")\n",
    "\n",
    "metadata.set_primary_key(\n",
    "    table_name=\"guests\",\n",
    "    column_name=\"guest_email\"\n",
    ")"
   ]
  },
  {
   "cell_type": "code",
   "execution_count": 133,
   "id": "13293f6f-6e86-4cdf-9996-bd9689bfbcc0",
   "metadata": {},
   "outputs": [],
   "source": [
    "# adding alternate keys: also unique to the table but they are not primary keys\n",
    "\n",
    "metadata.add_alternate_keys(\n",
    "    table_name=\"guests\",\n",
    "    column_names=[\"credit_card_number\"]\n",
    ")"
   ]
  },
  {
   "cell_type": "code",
   "execution_count": 134,
   "id": "4c22fcaa-f7a2-4311-8e0e-e56ef23b846e",
   "metadata": {},
   "outputs": [],
   "source": [
    "# specifying relationships\n",
    "\n",
    "metadata.add_relationship(\n",
    "    parent_table_name=\"hotels\",\n",
    "    child_table_name=\"guests\",\n",
    "    parent_primary_key=\"hotel_id\",\n",
    "    child_foreign_key=\"hotel_id\"\n",
    ")"
   ]
  },
  {
   "cell_type": "code",
   "execution_count": 137,
   "id": "25433c01-3cfd-45b1-89cd-8e52b9f0902e",
   "metadata": {},
   "outputs": [],
   "source": [
    "# validation\n",
    "# if successful, the code should run wihtout any errors\n",
    "metadata.validate()"
   ]
  },
  {
   "cell_type": "code",
   "execution_count": 138,
   "id": "d4c65629-0aa1-4064-8bab-03e65749de39",
   "metadata": {},
   "outputs": [
    {
     "data": {
      "image/svg+xml": [
       "<?xml version=\"1.0\" encoding=\"UTF-8\" standalone=\"no\"?>\n",
       "<!DOCTYPE svg PUBLIC \"-//W3C//DTD SVG 1.1//EN\"\n",
       " \"http://www.w3.org/Graphics/SVG/1.1/DTD/svg11.dtd\">\n",
       "<!-- Generated by graphviz version 8.1.0 (20230707.0739)\n",
       " -->\n",
       "<!-- Title: Metadata Pages: 1 -->\n",
       "<svg width=\"254pt\" height=\"457pt\"\n",
       " viewBox=\"0.00 0.00 254.25 456.50\" xmlns=\"http://www.w3.org/2000/svg\" xmlns:xlink=\"http://www.w3.org/1999/xlink\">\n",
       "<g id=\"graph0\" class=\"graph\" transform=\"scale(1 1) rotate(0) translate(4 452.5)\">\n",
       "<title>Metadata</title>\n",
       "<polygon fill=\"white\" stroke=\"none\" points=\"-4,4 -4,-452.5 250.25,-452.5 250.25,4 -4,4\"/>\n",
       "<!-- guests -->\n",
       "<g id=\"node1\" class=\"node\">\n",
       "<title>guests</title>\n",
       "<path fill=\"#ffec8b\" stroke=\"black\" d=\"M12,-0.5C12,-0.5 234.25,-0.5 234.25,-0.5 240.25,-0.5 246.25,-6.5 246.25,-12.5 246.25,-12.5 246.25,-227 246.25,-227 246.25,-233 240.25,-239 234.25,-239 234.25,-239 12,-239 12,-239 6,-239 0,-233 0,-227 0,-227 0,-12.5 0,-12.5 0,-6.5 6,-0.5 12,-0.5\"/>\n",
       "<text text-anchor=\"middle\" x=\"123.12\" y=\"-221.7\" font-family=\"Times,serif\" font-size=\"14.00\">guests</text>\n",
       "<polyline fill=\"none\" stroke=\"black\" points=\"0,-214.5 246.25,-214.5\"/>\n",
       "<text text-anchor=\"start\" x=\"8\" y=\"-197.2\" font-family=\"Times,serif\" font-size=\"14.00\">guest_email : email</text>\n",
       "<text text-anchor=\"start\" x=\"8\" y=\"-180.7\" font-family=\"Times,serif\" font-size=\"14.00\">hotel_id : id</text>\n",
       "<text text-anchor=\"start\" x=\"8\" y=\"-164.2\" font-family=\"Times,serif\" font-size=\"14.00\">has_rewards : boolean</text>\n",
       "<text text-anchor=\"start\" x=\"8\" y=\"-147.7\" font-family=\"Times,serif\" font-size=\"14.00\">room_type : categorical</text>\n",
       "<text text-anchor=\"start\" x=\"8\" y=\"-131.2\" font-family=\"Times,serif\" font-size=\"14.00\">amenities_fee : numerical</text>\n",
       "<text text-anchor=\"start\" x=\"8\" y=\"-114.7\" font-family=\"Times,serif\" font-size=\"14.00\">checkin_date : datetime</text>\n",
       "<text text-anchor=\"start\" x=\"8\" y=\"-98.2\" font-family=\"Times,serif\" font-size=\"14.00\">checkout_date : datetime</text>\n",
       "<text text-anchor=\"start\" x=\"8\" y=\"-81.7\" font-family=\"Times,serif\" font-size=\"14.00\">room_rate : numerical</text>\n",
       "<text text-anchor=\"start\" x=\"8\" y=\"-65.2\" font-family=\"Times,serif\" font-size=\"14.00\">billing_address : address</text>\n",
       "<text text-anchor=\"start\" x=\"8\" y=\"-48.7\" font-family=\"Times,serif\" font-size=\"14.00\">credit_card_number : credit_card_number</text>\n",
       "<polyline fill=\"none\" stroke=\"black\" points=\"0,-41.5 246.25,-41.5\"/>\n",
       "<text text-anchor=\"start\" x=\"8\" y=\"-24.2\" font-family=\"Times,serif\" font-size=\"14.00\">Primary key: guest_email</text>\n",
       "<text text-anchor=\"start\" x=\"8\" y=\"-7.7\" font-family=\"Times,serif\" font-size=\"14.00\">Foreign key (hotels): hotel_id</text>\n",
       "</g>\n",
       "<!-- hotels -->\n",
       "<g id=\"node2\" class=\"node\">\n",
       "<title>hotels</title>\n",
       "<path fill=\"#ffec8b\" stroke=\"black\" d=\"M56.25,-292.5C56.25,-292.5 190,-292.5 190,-292.5 196,-292.5 202,-298.5 202,-304.5 202,-304.5 202,-436 202,-436 202,-442 196,-448 190,-448 190,-448 56.25,-448 56.25,-448 50.25,-448 44.25,-442 44.25,-436 44.25,-436 44.25,-304.5 44.25,-304.5 44.25,-298.5 50.25,-292.5 56.25,-292.5\"/>\n",
       "<text text-anchor=\"middle\" x=\"123.12\" y=\"-430.7\" font-family=\"Times,serif\" font-size=\"14.00\">hotels</text>\n",
       "<polyline fill=\"none\" stroke=\"black\" points=\"44.25,-423.5 202,-423.5\"/>\n",
       "<text text-anchor=\"start\" x=\"52.25\" y=\"-406.2\" font-family=\"Times,serif\" font-size=\"14.00\">hotel_id : id</text>\n",
       "<text text-anchor=\"start\" x=\"52.25\" y=\"-389.7\" font-family=\"Times,serif\" font-size=\"14.00\">city : categorical</text>\n",
       "<text text-anchor=\"start\" x=\"52.25\" y=\"-373.2\" font-family=\"Times,serif\" font-size=\"14.00\">state : categorical</text>\n",
       "<text text-anchor=\"start\" x=\"52.25\" y=\"-356.7\" font-family=\"Times,serif\" font-size=\"14.00\">rating : numerical</text>\n",
       "<text text-anchor=\"start\" x=\"52.25\" y=\"-340.2\" font-family=\"Times,serif\" font-size=\"14.00\">classification : categorical</text>\n",
       "<polyline fill=\"none\" stroke=\"black\" points=\"44.25,-333 202,-333\"/>\n",
       "<text text-anchor=\"start\" x=\"52.25\" y=\"-315.7\" font-family=\"Times,serif\" font-size=\"14.00\">Primary key: hotel_id</text>\n",
       "</g>\n",
       "<!-- hotels&#45;&gt;guests -->\n",
       "<g id=\"edge1\" class=\"edge\">\n",
       "<title>hotels&#45;&gt;guests</title>\n",
       "<path fill=\"none\" stroke=\"black\" d=\"M123.12,-292.66C123.12,-278.63 123.12,-263.63 123.12,-248.57\"/>\n",
       "<polygon fill=\"none\" stroke=\"black\" points=\"126.63,-239.17 123.13,-249.17 119.63,-239.17 126.63,-239.17\"/>\n",
       "<text text-anchor=\"middle\" x=\"182\" y=\"-260.7\" font-family=\"Times,serif\" font-size=\"14.00\"> &#160;hotel_id → hotel_id</text>\n",
       "</g>\n",
       "</g>\n",
       "</svg>\n"
      ],
      "text/plain": [
       "<graphviz.graphs.Digraph at 0x152748ee0>"
      ]
     },
     "execution_count": 138,
     "metadata": {},
     "output_type": "execute_result"
    }
   ],
   "source": [
    "metadata.visualize()"
   ]
  },
  {
   "cell_type": "code",
   "execution_count": 140,
   "id": "d9048a0f-9586-4566-9506-9f26222c8676",
   "metadata": {},
   "outputs": [],
   "source": [
    "# creating synthetic data\n",
    "from sdv.multi_table import HMASynthesizer \n",
    "\n",
    "synthesizer = HMASynthesizer(metadata)\n",
    "synthesizer.validate(datasets)"
   ]
  },
  {
   "cell_type": "code",
   "execution_count": 143,
   "id": "fc54f5b4-1c67-4327-88dd-ec942d8a9862",
   "metadata": {},
   "outputs": [
    {
     "name": "stderr",
     "output_type": "stream",
     "text": [
      "Preprocess Tables: 100%|██████████████████████████| 2/2 [00:00<00:00, 18.72it/s]\n"
     ]
    },
    {
     "name": "stdout",
     "output_type": "stream",
     "text": [
      "\n",
      "Learning relationships:\n"
     ]
    },
    {
     "name": "stderr",
     "output_type": "stream",
     "text": [
      "(1/1) Tables 'hotels' and 'guests' ('hotel_id'): 100%|█| 10/10 [00:01<00:00,  6.\n"
     ]
    },
    {
     "name": "stdout",
     "output_type": "stream",
     "text": [
      "\n"
     ]
    },
    {
     "name": "stderr",
     "output_type": "stream",
     "text": [
      "Modeling Tables: 100%|████████████████████████████| 1/1 [00:01<00:00,  1.03s/it]\n"
     ]
    }
   ],
   "source": [
    "synthesizer.fit(datasets)"
   ]
  },
  {
   "cell_type": "code",
   "execution_count": 144,
   "id": "9c6b6bd7-9a04-41fa-b257-fc2e2502832b",
   "metadata": {},
   "outputs": [],
   "source": [
    "synthetic_data = synthesizer.sample(scale=1)"
   ]
  },
  {
   "cell_type": "code",
   "execution_count": 145,
   "id": "a60c0f91-f2cc-4c84-9f4f-f44c7c03d7e7",
   "metadata": {},
   "outputs": [
    {
     "data": {
      "text/html": [
       "<div>\n",
       "<style scoped>\n",
       "    .dataframe tbody tr th:only-of-type {\n",
       "        vertical-align: middle;\n",
       "    }\n",
       "\n",
       "    .dataframe tbody tr th {\n",
       "        vertical-align: top;\n",
       "    }\n",
       "\n",
       "    .dataframe thead th {\n",
       "        text-align: right;\n",
       "    }\n",
       "</style>\n",
       "<table border=\"1\" class=\"dataframe\">\n",
       "  <thead>\n",
       "    <tr style=\"text-align: right;\">\n",
       "      <th></th>\n",
       "      <th>guest_email</th>\n",
       "      <th>hotel_id</th>\n",
       "      <th>has_rewards</th>\n",
       "      <th>room_type</th>\n",
       "      <th>amenities_fee</th>\n",
       "      <th>checkin_date</th>\n",
       "      <th>checkout_date</th>\n",
       "      <th>room_rate</th>\n",
       "      <th>billing_address</th>\n",
       "      <th>credit_card_number</th>\n",
       "    </tr>\n",
       "  </thead>\n",
       "  <tbody>\n",
       "    <tr>\n",
       "      <th>0</th>\n",
       "      <td>moodyeric@example.net</td>\n",
       "      <td>HID_000</td>\n",
       "      <td>False</td>\n",
       "      <td>BASIC</td>\n",
       "      <td>46.64</td>\n",
       "      <td>28 Sep 2020</td>\n",
       "      <td>30 Aug 2020</td>\n",
       "      <td>197.78</td>\n",
       "      <td>PSC 4273, Box 0888\\nAPO AA 28423</td>\n",
       "      <td>5161033759518983</td>\n",
       "    </tr>\n",
       "    <tr>\n",
       "      <th>1</th>\n",
       "      <td>coryguzman@example.com</td>\n",
       "      <td>HID_000</td>\n",
       "      <td>False</td>\n",
       "      <td>DELUXE</td>\n",
       "      <td>3.26</td>\n",
       "      <td>29 Jul 2020</td>\n",
       "      <td>08 Jul 2020</td>\n",
       "      <td>200.60</td>\n",
       "      <td>417 Lawrence Hollow\\nEast Ericshire, NM 88906</td>\n",
       "      <td>4133047413145475690</td>\n",
       "    </tr>\n",
       "    <tr>\n",
       "      <th>2</th>\n",
       "      <td>caitlinlee@example.net</td>\n",
       "      <td>HID_000</td>\n",
       "      <td>False</td>\n",
       "      <td>BASIC</td>\n",
       "      <td>10.94</td>\n",
       "      <td>01 Dec 2020</td>\n",
       "      <td>29 Oct 2020</td>\n",
       "      <td>194.84</td>\n",
       "      <td>69754 Mcguire Haven Apt. 260\\nCrawfordside, RI...</td>\n",
       "      <td>4977328103788</td>\n",
       "    </tr>\n",
       "  </tbody>\n",
       "</table>\n",
       "</div>"
      ],
      "text/plain": [
       "              guest_email hotel_id  has_rewards room_type  amenities_fee  \\\n",
       "0   moodyeric@example.net  HID_000        False     BASIC          46.64   \n",
       "1  coryguzman@example.com  HID_000        False    DELUXE           3.26   \n",
       "2  caitlinlee@example.net  HID_000        False     BASIC          10.94   \n",
       "\n",
       "  checkin_date checkout_date  room_rate  \\\n",
       "0  28 Sep 2020   30 Aug 2020     197.78   \n",
       "1  29 Jul 2020   08 Jul 2020     200.60   \n",
       "2  01 Dec 2020   29 Oct 2020     194.84   \n",
       "\n",
       "                                     billing_address   credit_card_number  \n",
       "0                   PSC 4273, Box 0888\\nAPO AA 28423     5161033759518983  \n",
       "1      417 Lawrence Hollow\\nEast Ericshire, NM 88906  4133047413145475690  \n",
       "2  69754 Mcguire Haven Apt. 260\\nCrawfordside, RI...        4977328103788  "
      ]
     },
     "execution_count": 145,
     "metadata": {},
     "output_type": "execute_result"
    }
   ],
   "source": [
    "synthetic_data[\"guests\"].head(3)"
   ]
  },
  {
   "cell_type": "markdown",
   "id": "1eeb20e1-9b4c-407c-b114-182087aaf516",
   "metadata": {},
   "source": [
    "# Adding Constraints\n",
    "\n",
    "- adding logical or business rules in order to create valid data"
   ]
  },
  {
   "cell_type": "code",
   "execution_count": 146,
   "id": "7b639ffc-84c6-433c-80f9-29c11ebd0c95",
   "metadata": {},
   "outputs": [],
   "source": [
    "from sdv.datasets.demo import download_demo\n",
    "\n",
    "real_data, metadata = download_demo(\n",
    "    modality=\"single_table\",\n",
    "    dataset_name=\"fake_hotel_guests\"\n",
    ")"
   ]
  },
  {
   "cell_type": "code",
   "execution_count": 147,
   "id": "4d441b51-d42b-4edc-896e-55f99dbbadd8",
   "metadata": {},
   "outputs": [
    {
     "data": {
      "text/html": [
       "<div>\n",
       "<style scoped>\n",
       "    .dataframe tbody tr th:only-of-type {\n",
       "        vertical-align: middle;\n",
       "    }\n",
       "\n",
       "    .dataframe tbody tr th {\n",
       "        vertical-align: top;\n",
       "    }\n",
       "\n",
       "    .dataframe thead th {\n",
       "        text-align: right;\n",
       "    }\n",
       "</style>\n",
       "<table border=\"1\" class=\"dataframe\">\n",
       "  <thead>\n",
       "    <tr style=\"text-align: right;\">\n",
       "      <th></th>\n",
       "      <th>guest_email</th>\n",
       "      <th>has_rewards</th>\n",
       "      <th>room_type</th>\n",
       "      <th>amenities_fee</th>\n",
       "      <th>checkin_date</th>\n",
       "      <th>checkout_date</th>\n",
       "      <th>room_rate</th>\n",
       "      <th>billing_address</th>\n",
       "      <th>credit_card_number</th>\n",
       "    </tr>\n",
       "  </thead>\n",
       "  <tbody>\n",
       "    <tr>\n",
       "      <th>0</th>\n",
       "      <td>michaelsanders@shaw.net</td>\n",
       "      <td>False</td>\n",
       "      <td>BASIC</td>\n",
       "      <td>37.89</td>\n",
       "      <td>27 Dec 2020</td>\n",
       "      <td>29 Dec 2020</td>\n",
       "      <td>131.23</td>\n",
       "      <td>49380 Rivers Street\\nSpencerville, AK 68265</td>\n",
       "      <td>4075084747483975747</td>\n",
       "    </tr>\n",
       "    <tr>\n",
       "      <th>1</th>\n",
       "      <td>randy49@brown.biz</td>\n",
       "      <td>False</td>\n",
       "      <td>BASIC</td>\n",
       "      <td>24.37</td>\n",
       "      <td>30 Dec 2020</td>\n",
       "      <td>02 Jan 2021</td>\n",
       "      <td>114.43</td>\n",
       "      <td>88394 Boyle Meadows\\nConleyberg, TN 22063</td>\n",
       "      <td>180072822063468</td>\n",
       "    </tr>\n",
       "    <tr>\n",
       "      <th>2</th>\n",
       "      <td>webermelissa@neal.com</td>\n",
       "      <td>True</td>\n",
       "      <td>DELUXE</td>\n",
       "      <td>0.00</td>\n",
       "      <td>17 Sep 2020</td>\n",
       "      <td>18 Sep 2020</td>\n",
       "      <td>368.33</td>\n",
       "      <td>0323 Lisa Station Apt. 208\\nPort Thomas, LA 82585</td>\n",
       "      <td>38983476971380</td>\n",
       "    </tr>\n",
       "    <tr>\n",
       "      <th>3</th>\n",
       "      <td>gsims@terry.com</td>\n",
       "      <td>False</td>\n",
       "      <td>BASIC</td>\n",
       "      <td>NaN</td>\n",
       "      <td>28 Dec 2020</td>\n",
       "      <td>31 Dec 2020</td>\n",
       "      <td>115.61</td>\n",
       "      <td>77 Massachusetts Ave\\nCambridge, MA 02139</td>\n",
       "      <td>4969551998845740</td>\n",
       "    </tr>\n",
       "    <tr>\n",
       "      <th>4</th>\n",
       "      <td>misty33@smith.biz</td>\n",
       "      <td>False</td>\n",
       "      <td>BASIC</td>\n",
       "      <td>16.45</td>\n",
       "      <td>05 Apr 2020</td>\n",
       "      <td>NaN</td>\n",
       "      <td>122.41</td>\n",
       "      <td>1234 Corporate Drive\\nBoston, MA 02116</td>\n",
       "      <td>3558512986488983</td>\n",
       "    </tr>\n",
       "  </tbody>\n",
       "</table>\n",
       "</div>"
      ],
      "text/plain": [
       "               guest_email  has_rewards room_type  amenities_fee checkin_date  \\\n",
       "0  michaelsanders@shaw.net        False     BASIC          37.89  27 Dec 2020   \n",
       "1        randy49@brown.biz        False     BASIC          24.37  30 Dec 2020   \n",
       "2    webermelissa@neal.com         True    DELUXE           0.00  17 Sep 2020   \n",
       "3          gsims@terry.com        False     BASIC            NaN  28 Dec 2020   \n",
       "4        misty33@smith.biz        False     BASIC          16.45  05 Apr 2020   \n",
       "\n",
       "  checkout_date  room_rate                                    billing_address  \\\n",
       "0   29 Dec 2020     131.23        49380 Rivers Street\\nSpencerville, AK 68265   \n",
       "1   02 Jan 2021     114.43          88394 Boyle Meadows\\nConleyberg, TN 22063   \n",
       "2   18 Sep 2020     368.33  0323 Lisa Station Apt. 208\\nPort Thomas, LA 82585   \n",
       "3   31 Dec 2020     115.61          77 Massachusetts Ave\\nCambridge, MA 02139   \n",
       "4           NaN     122.41             1234 Corporate Drive\\nBoston, MA 02116   \n",
       "\n",
       "    credit_card_number  \n",
       "0  4075084747483975747  \n",
       "1      180072822063468  \n",
       "2       38983476971380  \n",
       "3     4969551998845740  \n",
       "4     3558512986488983  "
      ]
     },
     "execution_count": 147,
     "metadata": {},
     "output_type": "execute_result"
    }
   ],
   "source": [
    "real_data.head()"
   ]
  },
  {
   "cell_type": "code",
   "execution_count": 148,
   "id": "cc81f59c-5f95-4500-b33b-13a9526d3b63",
   "metadata": {},
   "outputs": [],
   "source": [
    "# create synthetic data\n",
    "\n",
    "from sdv.single_table import GaussianCopulaSynthesizer\n",
    "\n",
    "synthesizer = GaussianCopulaSynthesizer(metadata)\n",
    "synthesizer.fit(real_data)\n",
    "synthetic_data = synthesizer.sample(num_rows=500)"
   ]
  },
  {
   "cell_type": "code",
   "execution_count": 150,
   "id": "803eda57-6691-4635-9909-c61c33b08d4b",
   "metadata": {},
   "outputs": [
    {
     "data": {
      "application/vnd.plotly.v1+json": {
       "config": {
        "plotlyServerURL": "https://plot.ly"
       },
       "data": [
        {
         "alignmentgroup": "True",
         "hovertemplate": "Data=Real<br>room_rate=%{x}<br>room_type=%{y}<extra></extra>",
         "legendgroup": "Real",
         "marker": {
          "color": "#000036"
         },
         "name": "Real",
         "notched": false,
         "offsetgroup": "Real",
         "orientation": "h",
         "showlegend": true,
         "type": "box",
         "x": [
          131.23,
          114.43,
          368.33,
          115.61,
          122.41,
          177.76,
          108.09,
          111.12,
          124.23,
          114.44,
          106.09,
          116.36,
          114.03,
          136.73,
          83.8,
          109.97,
          238.52,
          228.68,
          179.43,
          138.28,
          107.53,
          108.53,
          108.4,
          113.16,
          154.4,
          140.95,
          101.31,
          93.97,
          120.15,
          118.07,
          184.39,
          110.68,
          119.96,
          118.15,
          119.06,
          125.77,
          124.48,
          176.31,
          98.41,
          195.73,
          264.79,
          112.46,
          197.21,
          128.66,
          126.3,
          173.11,
          162.76,
          132.93,
          114.35,
          268.16,
          222.55,
          125.06,
          105.42,
          185.08,
          111.27,
          143.57,
          118.04,
          292.5,
          288.73,
          272.76,
          187.99,
          153.1,
          115.79,
          108.81,
          115.45,
          120.34,
          165.96,
          118.66,
          251.15,
          144.23,
          103.07,
          193.57,
          224.13,
          113.1,
          181.27,
          104.97,
          148.07,
          116.41,
          111.04,
          115.75,
          262.15,
          128.42,
          142.34,
          143.68,
          155.61,
          158.05,
          109.87,
          116.2,
          259.39,
          109.86,
          162.9,
          112.16,
          118.56,
          110.05,
          111.1,
          144.18,
          112.87,
          112.4,
          112.9,
          208.13,
          144.36,
          123.83,
          178.48,
          137.72,
          133.06,
          155.6,
          88.62,
          424.84,
          105.86,
          141.55,
          121.03,
          187.34,
          145.43,
          115.16,
          141.94,
          181.25,
          131.74,
          288.29,
          104.57,
          119.75,
          225.69,
          176.85,
          93.8,
          104.85,
          103.38,
          109.51,
          113.9,
          102.12,
          103.69,
          127.21,
          113.34,
          109.44,
          113.36,
          88.91,
          150.78,
          203.54,
          334.75,
          290.85,
          142.4,
          186.76,
          214.26,
          186.94,
          267.51,
          110.65,
          204.06,
          148.29,
          118.29,
          119,
          108.25,
          205.47,
          161.63,
          131.98,
          106.92,
          129.68,
          127.26,
          133.85,
          287.4,
          119.4,
          105.59,
          120.83,
          185.52,
          134.76,
          124.79,
          128.4,
          111.39,
          230.38,
          152.06,
          133.69,
          114.86,
          106.56,
          133.07,
          109.91,
          185.1,
          131.28,
          132.06,
          122.23,
          118.93,
          101.85,
          208.18,
          258.9,
          152.26,
          110.61,
          117.41,
          216.05,
          107.11,
          191.92,
          132.34,
          113.27,
          105.67,
          111.32,
          200.79,
          143.26,
          146.34,
          126.77,
          107.42,
          149.74,
          220.58,
          115.8,
          224.9,
          137.26,
          133.1,
          106.35,
          110.91,
          103.66,
          124.4,
          120.66,
          226.04,
          124.83,
          188.9,
          340.92,
          182.17,
          180.28,
          110.91,
          133.94,
          114.16,
          187.93,
          206.55,
          187.61,
          110.77,
          206.82,
          192.77,
          108.96,
          115.92,
          251.34,
          112.85,
          119.11,
          113.89,
          116.58,
          220.59,
          134.18,
          114.27,
          107.92,
          117.56,
          146.18,
          119.74,
          117.68,
          203.29,
          154.27,
          104.52,
          180.57,
          113.79,
          120.79,
          121.01,
          109.36,
          114.69,
          110.95,
          203.29,
          115.56,
          110.04,
          130.54,
          97.37,
          227.66,
          140.29,
          149.37,
          167.25,
          140.18,
          117.01,
          177.72,
          107.94,
          119.39,
          147.45,
          115.07,
          141.06,
          108.99,
          111.7,
          134.68,
          215.93,
          316.5,
          118.73,
          127.06,
          137.57,
          132.05,
          105.46,
          111.36,
          185.03,
          180.79,
          137.67,
          263.12,
          304.77,
          184.22,
          121.09,
          102.65,
          194.26,
          308.82,
          179.48,
          165.74,
          109.82,
          119.08,
          101.25,
          159.06,
          183.37,
          186.73,
          105.59,
          107.44,
          163.02,
          92.07,
          149.16,
          156.84,
          128.39,
          187.11,
          130.79,
          367.35,
          138.59,
          133.31,
          187.48,
          155.2,
          178.19,
          103.66,
          105.05,
          339.31,
          205.75,
          122.86,
          285.27,
          160.15,
          144.74,
          116.07,
          258.17,
          270.34,
          108.37,
          111.51,
          117.6,
          113.75,
          191.65,
          127.54,
          100.75,
          109.22,
          151.95,
          135.27,
          110.17,
          110.76,
          162.83,
          115.68,
          111.82,
          228.47,
          113.88,
          239.82,
          119.19,
          121.13,
          107.79,
          108.78,
          170.67,
          106.43,
          126.51,
          106.08,
          155.79,
          119.35,
          103.94,
          237.48,
          116.71,
          207.68,
          107.89,
          149.99,
          382.32,
          199.94,
          185.52,
          282.42,
          123.12,
          116.28,
          192.81,
          111.26,
          130.69,
          113.64,
          108.53,
          145.39,
          117.02,
          382.97,
          115.65,
          109.8,
          111.59,
          129.11,
          110,
          85.68,
          278.46,
          180.81,
          171.25,
          123.13,
          106.94,
          206.31,
          116.39,
          182.33,
          121.44,
          172.71,
          139.8,
          295.89,
          216.09,
          124.89,
          129.25,
          116.02,
          84.69,
          192.38,
          201.19,
          103.56,
          177.01,
          106.09,
          108.08,
          121.44,
          293.67,
          111.32,
          144.28,
          162.27,
          108.19,
          137.82,
          174.3,
          112.5,
          139.84,
          114,
          111.27,
          180.84,
          169.53,
          188.08,
          111.49,
          106.37,
          105.13,
          109.12,
          141.68,
          108.9,
          185.19,
          205.21,
          123.53,
          181.03,
          241.68,
          204.76,
          174.26,
          309.33,
          116.46,
          110.14,
          219.71,
          225.18,
          178.16,
          286.76,
          106.89,
          110.23,
          124.62,
          180.61,
          115.8,
          288.85,
          256.98,
          204.11,
          107.9,
          114.29,
          118.73,
          204.46,
          118.08,
          213.47,
          141.15,
          140.36,
          108.98,
          117.37,
          124.59,
          139.59,
          176.9,
          107.39,
          209.9,
          265.09,
          115.62,
          106,
          118.77,
          115.99,
          105.84,
          190.01,
          122.68,
          188.31,
          143.78,
          182.21,
          148.91,
          191.68,
          279.14,
          103.17,
          122.85,
          118.88,
          151.2,
          106.17,
          178.57,
          181.8,
          174.94,
          235.81,
          109.45,
          275.87,
          206.08,
          266.91,
          124.71,
          133.84,
          125.19,
          144.66,
          131.79,
          120.75,
          107.93,
          154.22,
          149.53,
          106.26,
          122.44,
          102.59,
          185.02,
          103.96,
          169.72,
          103.25,
          115.81,
          141.61,
          136.92,
          143.52
         ],
         "x0": " ",
         "xaxis": "x",
         "y": [
          "BASIC",
          "BASIC",
          "DELUXE",
          "BASIC",
          "BASIC",
          "BASIC",
          "BASIC",
          "BASIC",
          "BASIC",
          "BASIC",
          "BASIC",
          "BASIC",
          "BASIC",
          "BASIC",
          "BASIC",
          "BASIC",
          "DELUXE",
          "BASIC",
          "DELUXE",
          "BASIC",
          "BASIC",
          "BASIC",
          "BASIC",
          "BASIC",
          "BASIC",
          "BASIC",
          "BASIC",
          "BASIC",
          "BASIC",
          "BASIC",
          "DELUXE",
          "BASIC",
          "BASIC",
          "BASIC",
          "BASIC",
          "BASIC",
          "BASIC",
          "BASIC",
          "BASIC",
          "BASIC",
          "SUITE",
          "BASIC",
          "DELUXE",
          "BASIC",
          "BASIC",
          "BASIC",
          "BASIC",
          "BASIC",
          "BASIC",
          "SUITE",
          "DELUXE",
          "BASIC",
          "BASIC",
          "DELUXE",
          "BASIC",
          "BASIC",
          "BASIC",
          "BASIC",
          "SUITE",
          "SUITE",
          "DELUXE",
          "BASIC",
          "BASIC",
          "BASIC",
          "BASIC",
          "BASIC",
          "BASIC",
          "BASIC",
          "SUITE",
          "BASIC",
          "BASIC",
          "BASIC",
          "BASIC",
          "BASIC",
          "DELUXE",
          "BASIC",
          "BASIC",
          "BASIC",
          "BASIC",
          "BASIC",
          "BASIC",
          "BASIC",
          "BASIC",
          "BASIC",
          "BASIC",
          "BASIC",
          "BASIC",
          "BASIC",
          "SUITE",
          "BASIC",
          "BASIC",
          "BASIC",
          "BASIC",
          "BASIC",
          "BASIC",
          "BASIC",
          "BASIC",
          "BASIC",
          "BASIC",
          "DELUXE",
          "BASIC",
          "BASIC",
          "DELUXE",
          "BASIC",
          "BASIC",
          "BASIC",
          "BASIC",
          "DELUXE",
          "BASIC",
          "BASIC",
          "BASIC",
          "DELUXE",
          "BASIC",
          "BASIC",
          "DELUXE",
          "DELUXE",
          "BASIC",
          "BASIC",
          "BASIC",
          "BASIC",
          "DELUXE",
          "DELUXE",
          "BASIC",
          "BASIC",
          "BASIC",
          "BASIC",
          "BASIC",
          "BASIC",
          "BASIC",
          "BASIC",
          "BASIC",
          "BASIC",
          "BASIC",
          "BASIC",
          "BASIC",
          "BASIC",
          "DELUXE",
          "SUITE",
          "BASIC",
          "BASIC",
          "BASIC",
          "BASIC",
          "SUITE",
          "BASIC",
          "SUITE",
          "BASIC",
          "BASIC",
          "BASIC",
          "BASIC",
          "SUITE",
          "BASIC",
          "BASIC",
          "BASIC",
          "BASIC",
          "BASIC",
          "BASIC",
          "BASIC",
          "BASIC",
          "BASIC",
          "BASIC",
          "DELUXE",
          "BASIC",
          "BASIC",
          "BASIC",
          "BASIC",
          "SUITE",
          "DELUXE",
          "BASIC",
          "BASIC",
          "BASIC",
          "BASIC",
          "BASIC",
          "BASIC",
          "BASIC",
          "BASIC",
          "BASIC",
          "BASIC",
          "BASIC",
          "DELUXE",
          "SUITE",
          "BASIC",
          "BASIC",
          "BASIC",
          "SUITE",
          "BASIC",
          "DELUXE",
          "BASIC",
          "BASIC",
          "BASIC",
          "BASIC",
          "DELUXE",
          "BASIC",
          "BASIC",
          "BASIC",
          "BASIC",
          "BASIC",
          "SUITE",
          "BASIC",
          "DELUXE",
          "BASIC",
          "BASIC",
          "BASIC",
          "BASIC",
          "BASIC",
          "BASIC",
          "BASIC",
          "DELUXE",
          "BASIC",
          "DELUXE",
          "DELUXE",
          "DELUXE",
          "DELUXE",
          "BASIC",
          "BASIC",
          "BASIC",
          "DELUXE",
          "SUITE",
          "BASIC",
          "BASIC",
          "SUITE",
          "DELUXE",
          "BASIC",
          "BASIC",
          "DELUXE",
          "BASIC",
          "BASIC",
          "BASIC",
          "BASIC",
          "DELUXE",
          "BASIC",
          "BASIC",
          "BASIC",
          "BASIC",
          "BASIC",
          "BASIC",
          "BASIC",
          "SUITE",
          "BASIC",
          "BASIC",
          "DELUXE",
          "BASIC",
          "BASIC",
          "BASIC",
          "BASIC",
          "BASIC",
          "BASIC",
          "SUITE",
          "BASIC",
          "BASIC",
          "BASIC",
          "BASIC",
          "DELUXE",
          "BASIC",
          "BASIC",
          "BASIC",
          "BASIC",
          "BASIC",
          "BASIC",
          "BASIC",
          "BASIC",
          "BASIC",
          "BASIC",
          "BASIC",
          "BASIC",
          "BASIC",
          "BASIC",
          "DELUXE",
          "SUITE",
          "BASIC",
          "BASIC",
          "BASIC",
          "BASIC",
          "BASIC",
          "BASIC",
          "BASIC",
          "DELUXE",
          "BASIC",
          "SUITE",
          "SUITE",
          "DELUXE",
          "BASIC",
          "BASIC",
          "DELUXE",
          "SUITE",
          "DELUXE",
          "BASIC",
          "BASIC",
          "BASIC",
          "BASIC",
          "BASIC",
          "DELUXE",
          "DELUXE",
          "BASIC",
          "BASIC",
          "BASIC",
          "BASIC",
          "BASIC",
          "DELUXE",
          "BASIC",
          "DELUXE",
          "BASIC",
          "BASIC",
          "BASIC",
          "BASIC",
          "DELUXE",
          "BASIC",
          "BASIC",
          "BASIC",
          "BASIC",
          "DELUXE",
          "DELUXE",
          "BASIC",
          "SUITE",
          "BASIC",
          "BASIC",
          "BASIC",
          "BASIC",
          "SUITE",
          "BASIC",
          "BASIC",
          "BASIC",
          "BASIC",
          "DELUXE",
          "BASIC",
          "BASIC",
          "BASIC",
          "BASIC",
          "BASIC",
          "BASIC",
          "BASIC",
          "BASIC",
          "BASIC",
          "BASIC",
          "BASIC",
          "BASIC",
          "SUITE",
          "BASIC",
          "BASIC",
          "BASIC",
          "BASIC",
          "BASIC",
          "BASIC",
          "BASIC",
          "BASIC",
          "DELUXE",
          "BASIC",
          "BASIC",
          "DELUXE",
          "BASIC",
          "DELUXE",
          "BASIC",
          "BASIC",
          "DELUXE",
          "DELUXE",
          "DELUXE",
          "SUITE",
          "BASIC",
          "BASIC",
          "DELUXE",
          "BASIC",
          "BASIC",
          "BASIC",
          "BASIC",
          "BASIC",
          "BASIC",
          "BASIC",
          "BASIC",
          "BASIC",
          "BASIC",
          "BASIC",
          "BASIC",
          "BASIC",
          "DELUXE",
          "DELUXE",
          "BASIC",
          "BASIC",
          "BASIC",
          "BASIC",
          "BASIC",
          "DELUXE",
          "BASIC",
          "BASIC",
          "BASIC",
          "SUITE",
          "BASIC",
          "BASIC",
          "BASIC",
          "BASIC",
          "BASIC",
          "DELUXE",
          "BASIC",
          "BASIC",
          "BASIC",
          "BASIC",
          "BASIC",
          "BASIC",
          "DELUXE",
          "BASIC",
          "BASIC",
          "BASIC",
          "BASIC",
          "BASIC",
          "DELUXE",
          "BASIC",
          "BASIC",
          "BASIC",
          "BASIC",
          "DELUXE",
          "DELUXE",
          "DELUXE",
          "BASIC",
          "BASIC",
          "BASIC",
          "BASIC",
          "BASIC",
          "BASIC",
          "BASIC",
          "DELUXE",
          "BASIC",
          "DELUXE",
          "BASIC",
          "SUITE",
          "DELUXE",
          "SUITE",
          "BASIC",
          "BASIC",
          "SUITE",
          "DELUXE",
          "BASIC",
          "SUITE",
          "BASIC",
          "BASIC",
          "BASIC",
          "DELUXE",
          "BASIC",
          "BASIC",
          "SUITE",
          "DELUXE",
          "BASIC",
          "BASIC",
          "BASIC",
          "SUITE",
          "BASIC",
          "DELUXE",
          "BASIC",
          "BASIC",
          "BASIC",
          "BASIC",
          "BASIC",
          "BASIC",
          "BASIC",
          "BASIC",
          "BASIC",
          "SUITE",
          "BASIC",
          "BASIC",
          "BASIC",
          "BASIC",
          "BASIC",
          "DELUXE",
          "BASIC",
          "DELUXE",
          "BASIC",
          "DELUXE",
          "BASIC",
          "DELUXE",
          "SUITE",
          "BASIC",
          "BASIC",
          "BASIC",
          "BASIC",
          "BASIC",
          "BASIC",
          "DELUXE",
          "BASIC",
          "SUITE",
          "BASIC",
          "BASIC",
          "SUITE",
          "SUITE",
          "BASIC",
          "BASIC",
          "BASIC",
          "BASIC",
          "BASIC",
          "BASIC",
          "BASIC",
          "DELUXE",
          "BASIC",
          "BASIC",
          "BASIC",
          "BASIC",
          "DELUXE",
          "BASIC",
          "BASIC",
          "BASIC",
          "BASIC",
          "BASIC",
          "BASIC",
          "BASIC"
         ],
         "y0": " ",
         "yaxis": "y"
        },
        {
         "alignmentgroup": "True",
         "hovertemplate": "Data=Synthetic<br>room_rate=%{x}<br>room_type=%{y}<extra></extra>",
         "legendgroup": "Synthetic",
         "marker": {
          "color": "#01E0C9"
         },
         "name": "Synthetic",
         "notched": false,
         "offsetgroup": "Synthetic",
         "orientation": "h",
         "showlegend": true,
         "type": "box",
         "x": [
          122.83,
          175.3,
          151.45,
          169.82,
          189.85,
          109.39,
          92.46,
          212.51,
          122.5,
          244.38,
          349.41,
          148.7,
          284.16,
          89.37,
          170.87,
          180.87,
          192.45,
          97.95,
          334.62,
          156.99,
          104.36,
          84,
          149.82,
          141.79,
          84.71,
          85.28,
          226.84,
          85.76,
          247.12,
          120.98,
          104.14,
          96.14,
          140.21,
          83.82,
          204.71,
          260.71,
          252.18,
          135.12,
          99.73,
          85.92,
          208.59,
          84.47,
          108.13,
          241.98,
          90.31,
          88.66,
          144.83,
          161.78,
          93.74,
          178.09,
          212.22,
          117.54,
          130.96,
          177.74,
          84.46,
          119.6,
          121.27,
          174.72,
          304.88,
          327.16,
          96.67,
          152.17,
          110.86,
          186.02,
          130.38,
          197.78,
          143.17,
          95.68,
          343.77,
          163.1,
          96.55,
          332.59,
          102.52,
          306.02,
          103.19,
          200.88,
          117.81,
          84.22,
          96.1,
          163.07,
          190.92,
          175.3,
          259.2,
          101.37,
          98.39,
          117.35,
          86.98,
          237.19,
          117.33,
          133.3,
          114.34,
          91.81,
          100.89,
          83.99,
          110.65,
          105.92,
          227.89,
          103.49,
          202.42,
          86.82,
          142.67,
          91.65,
          302.44,
          264.28,
          145.97,
          87.03,
          90.42,
          180.86,
          240.5,
          276.08,
          132.51,
          108.71,
          177.3,
          129.55,
          116.66,
          88.91,
          89.17,
          141.04,
          305.64,
          144.6,
          160.64,
          270.15,
          267.79,
          305.46,
          91.64,
          84.9,
          95.92,
          109.29,
          87.26,
          185.31,
          204.6,
          237.34,
          170.36,
          171.47,
          108.52,
          148.43,
          90.85,
          88.48,
          107.97,
          199.99,
          88.54,
          209.72,
          385.2,
          93.99,
          100.01,
          102.38,
          86.57,
          137.3,
          200.31,
          179.58,
          177.02,
          139.27,
          99.9,
          83.8,
          234.31,
          287.98,
          219.99,
          109.36,
          239.09,
          104.72,
          230.16,
          242.94,
          142.16,
          87.76,
          116.26,
          160.84,
          119.61,
          160.11,
          87.65,
          104.2,
          138.91,
          194.03,
          226.93,
          110.6,
          94.14,
          92.28,
          96.17,
          136.28,
          197.02,
          115.23,
          130.24,
          151.01,
          160.69,
          224.93,
          122.79,
          250.94,
          117.12,
          94.03,
          170.21,
          214.45,
          101.31,
          273.12,
          180.29,
          130.62,
          98.4,
          142.33,
          203.77,
          198.95,
          162.35,
          191.85,
          160.87,
          86.08,
          100.72,
          86.06,
          103.81,
          201.34,
          244.75,
          304.91,
          128.41,
          168.96,
          89.07,
          160.45,
          122.81,
          234.86,
          102.2,
          118.56,
          196.5,
          174.13,
          156.62,
          156.32,
          119.12,
          221.61,
          134.47,
          89.29,
          100.85,
          123.26,
          148.49,
          295.4,
          112.27,
          156,
          124.07,
          134.15,
          107.85,
          124.7,
          99.05,
          117.77,
          84.05,
          166.15,
          230.89,
          172.5,
          109,
          136.57,
          91.35,
          94.86,
          208.08,
          161.29,
          185.78,
          84.69,
          160.5,
          87.48,
          163.73,
          105.11,
          90.57,
          166.7,
          215.49,
          146.51,
          271.26,
          102.86,
          87.48,
          103.13,
          93.27,
          189.46,
          137.38,
          319.46,
          174.06,
          87.78,
          100.04,
          89.6,
          109.44,
          128.37,
          270.65,
          91.72,
          97.18,
          183.84,
          129.61,
          85.65,
          121.94,
          115.14,
          84.09,
          90.39,
          246,
          149.58,
          84.5,
          233.46,
          193.34,
          156.38,
          96.13,
          237.14,
          88.03,
          244.7,
          202.5,
          106.48,
          214.67,
          203.31,
          116.3,
          177.93,
          316.97,
          115.42,
          122.22,
          84.67,
          85.52,
          199.01,
          142.8,
          88.17,
          185.05,
          293.08,
          87.47,
          235.67,
          90.88,
          108.67,
          249.8,
          150.6,
          246.11,
          109.15,
          89.07,
          133.58,
          110.06,
          144.3,
          134.95,
          142.07,
          92.56,
          84.2,
          120.84,
          202.52,
          152.18,
          262.44,
          87.88,
          207.85,
          102.4,
          205.44,
          110.67,
          167.23,
          100.67,
          180.79,
          106.09,
          92.48,
          88.56,
          96.75,
          176.51,
          153.29,
          84.69,
          100.32,
          109.83,
          85.76,
          120.12,
          102.08,
          230.62,
          112.93,
          133.26,
          251.38,
          86.43,
          84.24,
          230.39,
          100,
          85.39,
          154.04,
          224.75,
          97.36,
          92.49,
          195.43,
          182.56,
          184.62,
          90.48,
          225.88,
          125.28,
          107.48,
          91.66,
          93.43,
          126.49,
          229.04,
          85.58,
          110.29,
          151.55,
          120.51,
          260.39,
          91.89,
          172.1,
          157.5,
          148.76,
          186.78,
          246.57,
          101.46,
          107.16,
          243.21,
          90.97,
          97.93,
          84.26,
          96.5,
          155.87,
          263.07,
          179.01,
          126.18,
          146.26,
          142.09,
          171.57,
          98.94,
          111.24,
          132.34,
          259.9,
          84.61,
          309.73,
          162.33,
          125.61,
          84.97,
          88.97,
          93.59,
          172.94,
          201.53,
          136.38,
          139.42,
          172.31,
          132.28,
          163.81,
          105.08,
          117.24,
          102.23,
          85.88,
          149.84,
          147.65,
          218.73,
          198.68,
          145.91,
          85.38,
          125.62,
          126.76,
          113.6,
          204.99,
          86.01,
          264.48,
          133.11,
          98.58,
          139.99,
          172.68,
          196.87,
          183.43,
          92.68,
          93.63,
          97.25,
          111.15,
          350.23,
          290.6,
          329.88,
          98.92,
          289.44,
          206.66,
          118.71,
          87.95,
          97.69,
          189.34,
          115.56,
          232.49,
          108.18,
          183.15,
          86.74,
          97.93,
          232.29,
          118.54,
          93.28,
          99.67,
          86.52,
          187.51,
          115.01,
          167.1,
          146.93,
          90.28,
          205.89,
          96.36,
          92.81,
          211.86,
          125.95,
          86.02,
          138.43,
          121.74,
          129.44,
          272.93,
          131.58,
          89.3,
          201.59,
          97.37,
          126.96,
          96.07,
          259.2,
          88.03,
          83.84,
          282.02,
          134.49,
          279.91,
          189.36,
          83.8,
          154.97,
          85.17,
          217.15,
          87.35,
          125.06,
          228.2,
          328.36,
          248.61,
          151.73,
          376.4,
          232.18
         ],
         "x0": " ",
         "xaxis": "x",
         "y": [
          "BASIC",
          "DELUXE",
          "DELUXE",
          "BASIC",
          "SUITE",
          "BASIC",
          "BASIC",
          "DELUXE",
          "BASIC",
          "BASIC",
          "BASIC",
          "BASIC",
          "BASIC",
          "BASIC",
          "BASIC",
          "BASIC",
          "BASIC",
          "BASIC",
          "SUITE",
          "DELUXE",
          "BASIC",
          "DELUXE",
          "DELUXE",
          "BASIC",
          "BASIC",
          "BASIC",
          "DELUXE",
          "BASIC",
          "BASIC",
          "BASIC",
          "BASIC",
          "BASIC",
          "BASIC",
          "BASIC",
          "BASIC",
          "BASIC",
          "BASIC",
          "BASIC",
          "BASIC",
          "BASIC",
          "DELUXE",
          "BASIC",
          "DELUXE",
          "BASIC",
          "DELUXE",
          "BASIC",
          "BASIC",
          "BASIC",
          "BASIC",
          "BASIC",
          "DELUXE",
          "BASIC",
          "BASIC",
          "DELUXE",
          "BASIC",
          "DELUXE",
          "DELUXE",
          "DELUXE",
          "BASIC",
          "DELUXE",
          "BASIC",
          "DELUXE",
          "BASIC",
          "BASIC",
          "BASIC",
          "BASIC",
          "BASIC",
          "BASIC",
          "DELUXE",
          "BASIC",
          "BASIC",
          "BASIC",
          "BASIC",
          "DELUXE",
          "BASIC",
          "BASIC",
          "BASIC",
          "BASIC",
          "BASIC",
          "DELUXE",
          "BASIC",
          "BASIC",
          "BASIC",
          "BASIC",
          "BASIC",
          "BASIC",
          "BASIC",
          "BASIC",
          "BASIC",
          "BASIC",
          "BASIC",
          "BASIC",
          "BASIC",
          "BASIC",
          "BASIC",
          "BASIC",
          "DELUXE",
          "BASIC",
          "BASIC",
          "BASIC",
          "DELUXE",
          "BASIC",
          "DELUXE",
          "BASIC",
          "DELUXE",
          "BASIC",
          "BASIC",
          "BASIC",
          "DELUXE",
          "DELUXE",
          "BASIC",
          "DELUXE",
          "DELUXE",
          "DELUXE",
          "BASIC",
          "BASIC",
          "DELUXE",
          "BASIC",
          "DELUXE",
          "BASIC",
          "BASIC",
          "DELUXE",
          "BASIC",
          "SUITE",
          "BASIC",
          "BASIC",
          "BASIC",
          "BASIC",
          "BASIC",
          "BASIC",
          "BASIC",
          "DELUXE",
          "BASIC",
          "DELUXE",
          "BASIC",
          "BASIC",
          "BASIC",
          "BASIC",
          "BASIC",
          "BASIC",
          "BASIC",
          "BASIC",
          "BASIC",
          "DELUXE",
          "BASIC",
          "BASIC",
          "BASIC",
          "DELUXE",
          "BASIC",
          "BASIC",
          "BASIC",
          "BASIC",
          "BASIC",
          "BASIC",
          "DELUXE",
          "DELUXE",
          "DELUXE",
          "BASIC",
          "BASIC",
          "DELUXE",
          "DELUXE",
          "DELUXE",
          "BASIC",
          "BASIC",
          "DELUXE",
          "BASIC",
          "BASIC",
          "BASIC",
          "BASIC",
          "BASIC",
          "BASIC",
          "BASIC",
          "DELUXE",
          "BASIC",
          "BASIC",
          "BASIC",
          "DELUXE",
          "BASIC",
          "BASIC",
          "DELUXE",
          "BASIC",
          "BASIC",
          "DELUXE",
          "SUITE",
          "BASIC",
          "BASIC",
          "BASIC",
          "BASIC",
          "BASIC",
          "DELUXE",
          "BASIC",
          "DELUXE",
          "BASIC",
          "DELUXE",
          "BASIC",
          "BASIC",
          "BASIC",
          "BASIC",
          "BASIC",
          "BASIC",
          "BASIC",
          "BASIC",
          "BASIC",
          "BASIC",
          "BASIC",
          "BASIC",
          "BASIC",
          "BASIC",
          "BASIC",
          "BASIC",
          "BASIC",
          "BASIC",
          "BASIC",
          "BASIC",
          "BASIC",
          "DELUXE",
          "DELUXE",
          "BASIC",
          "BASIC",
          "BASIC",
          "DELUXE",
          "SUITE",
          "BASIC",
          "BASIC",
          "BASIC",
          "BASIC",
          "BASIC",
          "BASIC",
          "DELUXE",
          "SUITE",
          "BASIC",
          "BASIC",
          "BASIC",
          "BASIC",
          "DELUXE",
          "BASIC",
          "BASIC",
          "BASIC",
          "BASIC",
          "BASIC",
          "DELUXE",
          "DELUXE",
          "BASIC",
          "BASIC",
          "BASIC",
          "SUITE",
          "BASIC",
          "BASIC",
          "BASIC",
          "SUITE",
          "DELUXE",
          "BASIC",
          "BASIC",
          "BASIC",
          "BASIC",
          "BASIC",
          "BASIC",
          "BASIC",
          "BASIC",
          "BASIC",
          "BASIC",
          "BASIC",
          "DELUXE",
          "DELUXE",
          "DELUXE",
          "DELUXE",
          "BASIC",
          "BASIC",
          "DELUXE",
          "BASIC",
          "BASIC",
          "BASIC",
          "BASIC",
          "BASIC",
          "BASIC",
          "BASIC",
          "BASIC",
          "BASIC",
          "BASIC",
          "BASIC",
          "BASIC",
          "BASIC",
          "BASIC",
          "DELUXE",
          "BASIC",
          "DELUXE",
          "BASIC",
          "DELUXE",
          "BASIC",
          "DELUXE",
          "BASIC",
          "BASIC",
          "BASIC",
          "DELUXE",
          "BASIC",
          "BASIC",
          "BASIC",
          "BASIC",
          "BASIC",
          "BASIC",
          "BASIC",
          "DELUXE",
          "BASIC",
          "BASIC",
          "BASIC",
          "BASIC",
          "BASIC",
          "BASIC",
          "BASIC",
          "BASIC",
          "BASIC",
          "BASIC",
          "DELUXE",
          "BASIC",
          "BASIC",
          "DELUXE",
          "BASIC",
          "BASIC",
          "BASIC",
          "DELUXE",
          "BASIC",
          "DELUXE",
          "DELUXE",
          "DELUXE",
          "BASIC",
          "SUITE",
          "BASIC",
          "BASIC",
          "BASIC",
          "DELUXE",
          "DELUXE",
          "BASIC",
          "BASIC",
          "DELUXE",
          "BASIC",
          "DELUXE",
          "BASIC",
          "BASIC",
          "BASIC",
          "DELUXE",
          "BASIC",
          "BASIC",
          "BASIC",
          "BASIC",
          "BASIC",
          "BASIC",
          "BASIC",
          "BASIC",
          "DELUXE",
          "DELUXE",
          "DELUXE",
          "BASIC",
          "BASIC",
          "BASIC",
          "BASIC",
          "BASIC",
          "DELUXE",
          "BASIC",
          "BASIC",
          "SUITE",
          "DELUXE",
          "BASIC",
          "BASIC",
          "BASIC",
          "DELUXE",
          "BASIC",
          "BASIC",
          "BASIC",
          "BASIC",
          "BASIC",
          "BASIC",
          "DELUXE",
          "BASIC",
          "DELUXE",
          "BASIC",
          "BASIC",
          "DELUXE",
          "BASIC",
          "BASIC",
          "BASIC",
          "BASIC",
          "BASIC",
          "BASIC",
          "DELUXE",
          "BASIC",
          "BASIC",
          "BASIC",
          "BASIC",
          "BASIC",
          "BASIC",
          "DELUXE",
          "BASIC",
          "BASIC",
          "BASIC",
          "DELUXE",
          "BASIC",
          "DELUXE",
          "BASIC",
          "BASIC",
          "BASIC",
          "DELUXE",
          "DELUXE",
          "BASIC",
          "BASIC",
          "BASIC",
          "DELUXE",
          "BASIC",
          "BASIC",
          "BASIC",
          "BASIC",
          "BASIC",
          "BASIC",
          "BASIC",
          "BASIC",
          "DELUXE",
          "BASIC",
          "BASIC",
          "DELUXE",
          "BASIC",
          "BASIC",
          "BASIC",
          "DELUXE",
          "BASIC",
          "BASIC",
          "BASIC",
          "BASIC",
          "DELUXE",
          "BASIC",
          "DELUXE",
          "BASIC",
          "BASIC",
          "BASIC",
          "SUITE",
          "DELUXE",
          "DELUXE",
          "BASIC",
          "BASIC",
          "BASIC",
          "BASIC",
          "SUITE",
          "BASIC",
          "DELUXE",
          "BASIC",
          "DELUXE",
          "BASIC",
          "BASIC",
          "BASIC",
          "BASIC",
          "BASIC",
          "BASIC",
          "BASIC",
          "DELUXE",
          "DELUXE",
          "BASIC",
          "BASIC",
          "SUITE",
          "BASIC",
          "BASIC",
          "DELUXE",
          "BASIC",
          "BASIC",
          "BASIC",
          "DELUXE",
          "SUITE",
          "BASIC",
          "SUITE",
          "BASIC",
          "BASIC",
          "DELUXE",
          "DELUXE",
          "BASIC",
          "DELUXE",
          "BASIC",
          "BASIC",
          "BASIC",
          "BASIC",
          "BASIC",
          "SUITE",
          "DELUXE",
          "BASIC",
          "BASIC",
          "BASIC",
          "BASIC",
          "BASIC",
          "DELUXE",
          "DELUXE",
          "BASIC",
          "DELUXE",
          "BASIC",
          "BASIC",
          "BASIC",
          "BASIC",
          "BASIC",
          "DELUXE",
          "DELUXE",
          "DELUXE",
          "DELUXE",
          "BASIC",
          "BASIC",
          "DELUXE"
         ],
         "y0": " ",
         "yaxis": "y"
        }
       ],
       "layout": {
        "autosize": true,
        "boxmode": "group",
        "legend": {
         "title": {
          "text": "Data"
         },
         "tracegroupgap": 0
        },
        "margin": {
         "t": 60
        },
        "plot_bgcolor": "#F5F5F8",
        "template": {
         "data": {
          "bar": [
           {
            "error_x": {
             "color": "#2a3f5f"
            },
            "error_y": {
             "color": "#2a3f5f"
            },
            "marker": {
             "line": {
              "color": "#E5ECF6",
              "width": 0.5
             },
             "pattern": {
              "fillmode": "overlay",
              "size": 10,
              "solidity": 0.2
             }
            },
            "type": "bar"
           }
          ],
          "barpolar": [
           {
            "marker": {
             "line": {
              "color": "#E5ECF6",
              "width": 0.5
             },
             "pattern": {
              "fillmode": "overlay",
              "size": 10,
              "solidity": 0.2
             }
            },
            "type": "barpolar"
           }
          ],
          "carpet": [
           {
            "aaxis": {
             "endlinecolor": "#2a3f5f",
             "gridcolor": "white",
             "linecolor": "white",
             "minorgridcolor": "white",
             "startlinecolor": "#2a3f5f"
            },
            "baxis": {
             "endlinecolor": "#2a3f5f",
             "gridcolor": "white",
             "linecolor": "white",
             "minorgridcolor": "white",
             "startlinecolor": "#2a3f5f"
            },
            "type": "carpet"
           }
          ],
          "choropleth": [
           {
            "colorbar": {
             "outlinewidth": 0,
             "ticks": ""
            },
            "type": "choropleth"
           }
          ],
          "contour": [
           {
            "colorbar": {
             "outlinewidth": 0,
             "ticks": ""
            },
            "colorscale": [
             [
              0,
              "#0d0887"
             ],
             [
              0.1111111111111111,
              "#46039f"
             ],
             [
              0.2222222222222222,
              "#7201a8"
             ],
             [
              0.3333333333333333,
              "#9c179e"
             ],
             [
              0.4444444444444444,
              "#bd3786"
             ],
             [
              0.5555555555555556,
              "#d8576b"
             ],
             [
              0.6666666666666666,
              "#ed7953"
             ],
             [
              0.7777777777777778,
              "#fb9f3a"
             ],
             [
              0.8888888888888888,
              "#fdca26"
             ],
             [
              1,
              "#f0f921"
             ]
            ],
            "type": "contour"
           }
          ],
          "contourcarpet": [
           {
            "colorbar": {
             "outlinewidth": 0,
             "ticks": ""
            },
            "type": "contourcarpet"
           }
          ],
          "heatmap": [
           {
            "colorbar": {
             "outlinewidth": 0,
             "ticks": ""
            },
            "colorscale": [
             [
              0,
              "#0d0887"
             ],
             [
              0.1111111111111111,
              "#46039f"
             ],
             [
              0.2222222222222222,
              "#7201a8"
             ],
             [
              0.3333333333333333,
              "#9c179e"
             ],
             [
              0.4444444444444444,
              "#bd3786"
             ],
             [
              0.5555555555555556,
              "#d8576b"
             ],
             [
              0.6666666666666666,
              "#ed7953"
             ],
             [
              0.7777777777777778,
              "#fb9f3a"
             ],
             [
              0.8888888888888888,
              "#fdca26"
             ],
             [
              1,
              "#f0f921"
             ]
            ],
            "type": "heatmap"
           }
          ],
          "heatmapgl": [
           {
            "colorbar": {
             "outlinewidth": 0,
             "ticks": ""
            },
            "colorscale": [
             [
              0,
              "#0d0887"
             ],
             [
              0.1111111111111111,
              "#46039f"
             ],
             [
              0.2222222222222222,
              "#7201a8"
             ],
             [
              0.3333333333333333,
              "#9c179e"
             ],
             [
              0.4444444444444444,
              "#bd3786"
             ],
             [
              0.5555555555555556,
              "#d8576b"
             ],
             [
              0.6666666666666666,
              "#ed7953"
             ],
             [
              0.7777777777777778,
              "#fb9f3a"
             ],
             [
              0.8888888888888888,
              "#fdca26"
             ],
             [
              1,
              "#f0f921"
             ]
            ],
            "type": "heatmapgl"
           }
          ],
          "histogram": [
           {
            "marker": {
             "pattern": {
              "fillmode": "overlay",
              "size": 10,
              "solidity": 0.2
             }
            },
            "type": "histogram"
           }
          ],
          "histogram2d": [
           {
            "colorbar": {
             "outlinewidth": 0,
             "ticks": ""
            },
            "colorscale": [
             [
              0,
              "#0d0887"
             ],
             [
              0.1111111111111111,
              "#46039f"
             ],
             [
              0.2222222222222222,
              "#7201a8"
             ],
             [
              0.3333333333333333,
              "#9c179e"
             ],
             [
              0.4444444444444444,
              "#bd3786"
             ],
             [
              0.5555555555555556,
              "#d8576b"
             ],
             [
              0.6666666666666666,
              "#ed7953"
             ],
             [
              0.7777777777777778,
              "#fb9f3a"
             ],
             [
              0.8888888888888888,
              "#fdca26"
             ],
             [
              1,
              "#f0f921"
             ]
            ],
            "type": "histogram2d"
           }
          ],
          "histogram2dcontour": [
           {
            "colorbar": {
             "outlinewidth": 0,
             "ticks": ""
            },
            "colorscale": [
             [
              0,
              "#0d0887"
             ],
             [
              0.1111111111111111,
              "#46039f"
             ],
             [
              0.2222222222222222,
              "#7201a8"
             ],
             [
              0.3333333333333333,
              "#9c179e"
             ],
             [
              0.4444444444444444,
              "#bd3786"
             ],
             [
              0.5555555555555556,
              "#d8576b"
             ],
             [
              0.6666666666666666,
              "#ed7953"
             ],
             [
              0.7777777777777778,
              "#fb9f3a"
             ],
             [
              0.8888888888888888,
              "#fdca26"
             ],
             [
              1,
              "#f0f921"
             ]
            ],
            "type": "histogram2dcontour"
           }
          ],
          "mesh3d": [
           {
            "colorbar": {
             "outlinewidth": 0,
             "ticks": ""
            },
            "type": "mesh3d"
           }
          ],
          "parcoords": [
           {
            "line": {
             "colorbar": {
              "outlinewidth": 0,
              "ticks": ""
             }
            },
            "type": "parcoords"
           }
          ],
          "pie": [
           {
            "automargin": true,
            "type": "pie"
           }
          ],
          "scatter": [
           {
            "fillpattern": {
             "fillmode": "overlay",
             "size": 10,
             "solidity": 0.2
            },
            "type": "scatter"
           }
          ],
          "scatter3d": [
           {
            "line": {
             "colorbar": {
              "outlinewidth": 0,
              "ticks": ""
             }
            },
            "marker": {
             "colorbar": {
              "outlinewidth": 0,
              "ticks": ""
             }
            },
            "type": "scatter3d"
           }
          ],
          "scattercarpet": [
           {
            "marker": {
             "colorbar": {
              "outlinewidth": 0,
              "ticks": ""
             }
            },
            "type": "scattercarpet"
           }
          ],
          "scattergeo": [
           {
            "marker": {
             "colorbar": {
              "outlinewidth": 0,
              "ticks": ""
             }
            },
            "type": "scattergeo"
           }
          ],
          "scattergl": [
           {
            "marker": {
             "colorbar": {
              "outlinewidth": 0,
              "ticks": ""
             }
            },
            "type": "scattergl"
           }
          ],
          "scattermapbox": [
           {
            "marker": {
             "colorbar": {
              "outlinewidth": 0,
              "ticks": ""
             }
            },
            "type": "scattermapbox"
           }
          ],
          "scatterpolar": [
           {
            "marker": {
             "colorbar": {
              "outlinewidth": 0,
              "ticks": ""
             }
            },
            "type": "scatterpolar"
           }
          ],
          "scatterpolargl": [
           {
            "marker": {
             "colorbar": {
              "outlinewidth": 0,
              "ticks": ""
             }
            },
            "type": "scatterpolargl"
           }
          ],
          "scatterternary": [
           {
            "marker": {
             "colorbar": {
              "outlinewidth": 0,
              "ticks": ""
             }
            },
            "type": "scatterternary"
           }
          ],
          "surface": [
           {
            "colorbar": {
             "outlinewidth": 0,
             "ticks": ""
            },
            "colorscale": [
             [
              0,
              "#0d0887"
             ],
             [
              0.1111111111111111,
              "#46039f"
             ],
             [
              0.2222222222222222,
              "#7201a8"
             ],
             [
              0.3333333333333333,
              "#9c179e"
             ],
             [
              0.4444444444444444,
              "#bd3786"
             ],
             [
              0.5555555555555556,
              "#d8576b"
             ],
             [
              0.6666666666666666,
              "#ed7953"
             ],
             [
              0.7777777777777778,
              "#fb9f3a"
             ],
             [
              0.8888888888888888,
              "#fdca26"
             ],
             [
              1,
              "#f0f921"
             ]
            ],
            "type": "surface"
           }
          ],
          "table": [
           {
            "cells": {
             "fill": {
              "color": "#EBF0F8"
             },
             "line": {
              "color": "white"
             }
            },
            "header": {
             "fill": {
              "color": "#C8D4E3"
             },
             "line": {
              "color": "white"
             }
            },
            "type": "table"
           }
          ]
         },
         "layout": {
          "annotationdefaults": {
           "arrowcolor": "#2a3f5f",
           "arrowhead": 0,
           "arrowwidth": 1
          },
          "autotypenumbers": "strict",
          "coloraxis": {
           "colorbar": {
            "outlinewidth": 0,
            "ticks": ""
           }
          },
          "colorscale": {
           "diverging": [
            [
             0,
             "#8e0152"
            ],
            [
             0.1,
             "#c51b7d"
            ],
            [
             0.2,
             "#de77ae"
            ],
            [
             0.3,
             "#f1b6da"
            ],
            [
             0.4,
             "#fde0ef"
            ],
            [
             0.5,
             "#f7f7f7"
            ],
            [
             0.6,
             "#e6f5d0"
            ],
            [
             0.7,
             "#b8e186"
            ],
            [
             0.8,
             "#7fbc41"
            ],
            [
             0.9,
             "#4d9221"
            ],
            [
             1,
             "#276419"
            ]
           ],
           "sequential": [
            [
             0,
             "#0d0887"
            ],
            [
             0.1111111111111111,
             "#46039f"
            ],
            [
             0.2222222222222222,
             "#7201a8"
            ],
            [
             0.3333333333333333,
             "#9c179e"
            ],
            [
             0.4444444444444444,
             "#bd3786"
            ],
            [
             0.5555555555555556,
             "#d8576b"
            ],
            [
             0.6666666666666666,
             "#ed7953"
            ],
            [
             0.7777777777777778,
             "#fb9f3a"
            ],
            [
             0.8888888888888888,
             "#fdca26"
            ],
            [
             1,
             "#f0f921"
            ]
           ],
           "sequentialminus": [
            [
             0,
             "#0d0887"
            ],
            [
             0.1111111111111111,
             "#46039f"
            ],
            [
             0.2222222222222222,
             "#7201a8"
            ],
            [
             0.3333333333333333,
             "#9c179e"
            ],
            [
             0.4444444444444444,
             "#bd3786"
            ],
            [
             0.5555555555555556,
             "#d8576b"
            ],
            [
             0.6666666666666666,
             "#ed7953"
            ],
            [
             0.7777777777777778,
             "#fb9f3a"
            ],
            [
             0.8888888888888888,
             "#fdca26"
            ],
            [
             1,
             "#f0f921"
            ]
           ]
          },
          "colorway": [
           "#636efa",
           "#EF553B",
           "#00cc96",
           "#ab63fa",
           "#FFA15A",
           "#19d3f3",
           "#FF6692",
           "#B6E880",
           "#FF97FF",
           "#FECB52"
          ],
          "font": {
           "color": "#2a3f5f"
          },
          "geo": {
           "bgcolor": "white",
           "lakecolor": "white",
           "landcolor": "#E5ECF6",
           "showlakes": true,
           "showland": true,
           "subunitcolor": "white"
          },
          "hoverlabel": {
           "align": "left"
          },
          "hovermode": "closest",
          "mapbox": {
           "style": "light"
          },
          "paper_bgcolor": "white",
          "plot_bgcolor": "#E5ECF6",
          "polar": {
           "angularaxis": {
            "gridcolor": "white",
            "linecolor": "white",
            "ticks": ""
           },
           "bgcolor": "#E5ECF6",
           "radialaxis": {
            "gridcolor": "white",
            "linecolor": "white",
            "ticks": ""
           }
          },
          "scene": {
           "xaxis": {
            "backgroundcolor": "#E5ECF6",
            "gridcolor": "white",
            "gridwidth": 2,
            "linecolor": "white",
            "showbackground": true,
            "ticks": "",
            "zerolinecolor": "white"
           },
           "yaxis": {
            "backgroundcolor": "#E5ECF6",
            "gridcolor": "white",
            "gridwidth": 2,
            "linecolor": "white",
            "showbackground": true,
            "ticks": "",
            "zerolinecolor": "white"
           },
           "zaxis": {
            "backgroundcolor": "#E5ECF6",
            "gridcolor": "white",
            "gridwidth": 2,
            "linecolor": "white",
            "showbackground": true,
            "ticks": "",
            "zerolinecolor": "white"
           }
          },
          "shapedefaults": {
           "line": {
            "color": "#2a3f5f"
           }
          },
          "ternary": {
           "aaxis": {
            "gridcolor": "white",
            "linecolor": "white",
            "ticks": ""
           },
           "baxis": {
            "gridcolor": "white",
            "linecolor": "white",
            "ticks": ""
           },
           "bgcolor": "#E5ECF6",
           "caxis": {
            "gridcolor": "white",
            "linecolor": "white",
            "ticks": ""
           }
          },
          "title": {
           "x": 0.05
          },
          "xaxis": {
           "automargin": true,
           "gridcolor": "white",
           "linecolor": "white",
           "ticks": "",
           "title": {
            "standoff": 15
           },
           "zerolinecolor": "white",
           "zerolinewidth": 2
          },
          "yaxis": {
           "automargin": true,
           "gridcolor": "white",
           "linecolor": "white",
           "ticks": "",
           "title": {
            "standoff": 15
           },
           "zerolinecolor": "white",
           "zerolinewidth": 2
          }
         }
        },
        "title": {
         "text": "Real vs. Synthetic Data for columns 'room_rate' and 'room_type'"
        },
        "xaxis": {
         "anchor": "y",
         "autorange": true,
         "domain": [
          0,
          1
         ],
         "range": [
          64.85333333333332,
          443.78666666666663
         ],
         "title": {
          "text": "room_rate"
         },
         "type": "linear"
        },
        "yaxis": {
         "anchor": "x",
         "autorange": true,
         "domain": [
          0,
          1
         ],
         "range": [
          -0.5420560747663551,
          2.542056074766355
         ],
         "title": {
          "text": "room_type"
         },
         "type": "category"
        }
       }
      },
      "text/html": [
       "<div>                            <div id=\"d18514ad-eb83-4cc4-b60d-63e8c14ddcfe\" class=\"plotly-graph-div\" style=\"height:525px; width:100%;\"></div>            <script type=\"text/javascript\">                require([\"plotly\"], function(Plotly) {                    window.PLOTLYENV=window.PLOTLYENV || {};                                    if (document.getElementById(\"d18514ad-eb83-4cc4-b60d-63e8c14ddcfe\")) {                    Plotly.newPlot(                        \"d18514ad-eb83-4cc4-b60d-63e8c14ddcfe\",                        [{\"alignmentgroup\":\"True\",\"hovertemplate\":\"Data=Real\\u003cbr\\u003eroom_rate=%{x}\\u003cbr\\u003eroom_type=%{y}\\u003cextra\\u003e\\u003c\\u002fextra\\u003e\",\"legendgroup\":\"Real\",\"marker\":{\"color\":\"#000036\"},\"name\":\"Real\",\"notched\":false,\"offsetgroup\":\"Real\",\"orientation\":\"h\",\"showlegend\":true,\"x\":[131.23,114.43,368.33,115.61,122.41,177.76,108.09,111.12,124.23,114.44,106.09,116.36,114.03,136.73,83.8,109.97,238.52,228.68,179.43,138.28,107.53,108.53,108.4,113.16,154.4,140.95,101.31,93.97,120.15,118.07,184.39,110.68,119.96,118.15,119.06,125.77,124.48,176.31,98.41,195.73,264.79,112.46,197.21,128.66,126.3,173.11,162.76,132.93,114.35,268.16,222.55,125.06,105.42,185.08,111.27,143.57,118.04,292.5,288.73,272.76,187.99,153.1,115.79,108.81,115.45,120.34,165.96,118.66,251.15,144.23,103.07,193.57,224.13,113.1,181.27,104.97,148.07,116.41,111.04,115.75,262.15,128.42,142.34,143.68,155.61,158.05,109.87,116.2,259.39,109.86,162.9,112.16,118.56,110.05,111.1,144.18,112.87,112.4,112.9,208.13,144.36,123.83,178.48,137.72,133.06,155.6,88.62,424.84,105.86,141.55,121.03,187.34,145.43,115.16,141.94,181.25,131.74,288.29,104.57,119.75,225.69,176.85,93.8,104.85,103.38,109.51,113.9,102.12,103.69,127.21,113.34,109.44,113.36,88.91,150.78,203.54,334.75,290.85,142.4,186.76,214.26,186.94,267.51,110.65,204.06,148.29,118.29,119.0,108.25,205.47,161.63,131.98,106.92,129.68,127.26,133.85,287.4,119.4,105.59,120.83,185.52,134.76,124.79,128.4,111.39,230.38,152.06,133.69,114.86,106.56,133.07,109.91,185.1,131.28,132.06,122.23,118.93,101.85,208.18,258.9,152.26,110.61,117.41,216.05,107.11,191.92,132.34,113.27,105.67,111.32,200.79,143.26,146.34,126.77,107.42,149.74,220.58,115.8,224.9,137.26,133.1,106.35,110.91,103.66,124.4,120.66,226.04,124.83,188.9,340.92,182.17,180.28,110.91,133.94,114.16,187.93,206.55,187.61,110.77,206.82,192.77,108.96,115.92,251.34,112.85,119.11,113.89,116.58,220.59,134.18,114.27,107.92,117.56,146.18,119.74,117.68,203.29,154.27,104.52,180.57,113.79,120.79,121.01,109.36,114.69,110.95,203.29,115.56,110.04,130.54,97.37,227.66,140.29,149.37,167.25,140.18,117.01,177.72,107.94,119.39,147.45,115.07,141.06,108.99,111.7,134.68,215.93,316.5,118.73,127.06,137.57,132.05,105.46,111.36,185.03,180.79,137.67,263.12,304.77,184.22,121.09,102.65,194.26,308.82,179.48,165.74,109.82,119.08,101.25,159.06,183.37,186.73,105.59,107.44,163.02,92.07,149.16,156.84,128.39,187.11,130.79,367.35,138.59,133.31,187.48,155.2,178.19,103.66,105.05,339.31,205.75,122.86,285.27,160.15,144.74,116.07,258.17,270.34,108.37,111.51,117.6,113.75,191.65,127.54,100.75,109.22,151.95,135.27,110.17,110.76,162.83,115.68,111.82,228.47,113.88,239.82,119.19,121.13,107.79,108.78,170.67,106.43,126.51,106.08,155.79,119.35,103.94,237.48,116.71,207.68,107.89,149.99,382.32,199.94,185.52,282.42,123.12,116.28,192.81,111.26,130.69,113.64,108.53,145.39,117.02,382.97,115.65,109.8,111.59,129.11,110.0,85.68,278.46,180.81,171.25,123.13,106.94,206.31,116.39,182.33,121.44,172.71,139.8,295.89,216.09,124.89,129.25,116.02,84.69,192.38,201.19,103.56,177.01,106.09,108.08,121.44,293.67,111.32,144.28,162.27,108.19,137.82,174.3,112.5,139.84,114.0,111.27,180.84,169.53,188.08,111.49,106.37,105.13,109.12,141.68,108.9,185.19,205.21,123.53,181.03,241.68,204.76,174.26,309.33,116.46,110.14,219.71,225.18,178.16,286.76,106.89,110.23,124.62,180.61,115.8,288.85,256.98,204.11,107.9,114.29,118.73,204.46,118.08,213.47,141.15,140.36,108.98,117.37,124.59,139.59,176.9,107.39,209.9,265.09,115.62,106.0,118.77,115.99,105.84,190.01,122.68,188.31,143.78,182.21,148.91,191.68,279.14,103.17,122.85,118.88,151.2,106.17,178.57,181.8,174.94,235.81,109.45,275.87,206.08,266.91,124.71,133.84,125.19,144.66,131.79,120.75,107.93,154.22,149.53,106.26,122.44,102.59,185.02,103.96,169.72,103.25,115.81,141.61,136.92,143.52],\"x0\":\" \",\"xaxis\":\"x\",\"y\":[\"BASIC\",\"BASIC\",\"DELUXE\",\"BASIC\",\"BASIC\",\"BASIC\",\"BASIC\",\"BASIC\",\"BASIC\",\"BASIC\",\"BASIC\",\"BASIC\",\"BASIC\",\"BASIC\",\"BASIC\",\"BASIC\",\"DELUXE\",\"BASIC\",\"DELUXE\",\"BASIC\",\"BASIC\",\"BASIC\",\"BASIC\",\"BASIC\",\"BASIC\",\"BASIC\",\"BASIC\",\"BASIC\",\"BASIC\",\"BASIC\",\"DELUXE\",\"BASIC\",\"BASIC\",\"BASIC\",\"BASIC\",\"BASIC\",\"BASIC\",\"BASIC\",\"BASIC\",\"BASIC\",\"SUITE\",\"BASIC\",\"DELUXE\",\"BASIC\",\"BASIC\",\"BASIC\",\"BASIC\",\"BASIC\",\"BASIC\",\"SUITE\",\"DELUXE\",\"BASIC\",\"BASIC\",\"DELUXE\",\"BASIC\",\"BASIC\",\"BASIC\",\"BASIC\",\"SUITE\",\"SUITE\",\"DELUXE\",\"BASIC\",\"BASIC\",\"BASIC\",\"BASIC\",\"BASIC\",\"BASIC\",\"BASIC\",\"SUITE\",\"BASIC\",\"BASIC\",\"BASIC\",\"BASIC\",\"BASIC\",\"DELUXE\",\"BASIC\",\"BASIC\",\"BASIC\",\"BASIC\",\"BASIC\",\"BASIC\",\"BASIC\",\"BASIC\",\"BASIC\",\"BASIC\",\"BASIC\",\"BASIC\",\"BASIC\",\"SUITE\",\"BASIC\",\"BASIC\",\"BASIC\",\"BASIC\",\"BASIC\",\"BASIC\",\"BASIC\",\"BASIC\",\"BASIC\",\"BASIC\",\"DELUXE\",\"BASIC\",\"BASIC\",\"DELUXE\",\"BASIC\",\"BASIC\",\"BASIC\",\"BASIC\",\"DELUXE\",\"BASIC\",\"BASIC\",\"BASIC\",\"DELUXE\",\"BASIC\",\"BASIC\",\"DELUXE\",\"DELUXE\",\"BASIC\",\"BASIC\",\"BASIC\",\"BASIC\",\"DELUXE\",\"DELUXE\",\"BASIC\",\"BASIC\",\"BASIC\",\"BASIC\",\"BASIC\",\"BASIC\",\"BASIC\",\"BASIC\",\"BASIC\",\"BASIC\",\"BASIC\",\"BASIC\",\"BASIC\",\"BASIC\",\"DELUXE\",\"SUITE\",\"BASIC\",\"BASIC\",\"BASIC\",\"BASIC\",\"SUITE\",\"BASIC\",\"SUITE\",\"BASIC\",\"BASIC\",\"BASIC\",\"BASIC\",\"SUITE\",\"BASIC\",\"BASIC\",\"BASIC\",\"BASIC\",\"BASIC\",\"BASIC\",\"BASIC\",\"BASIC\",\"BASIC\",\"BASIC\",\"DELUXE\",\"BASIC\",\"BASIC\",\"BASIC\",\"BASIC\",\"SUITE\",\"DELUXE\",\"BASIC\",\"BASIC\",\"BASIC\",\"BASIC\",\"BASIC\",\"BASIC\",\"BASIC\",\"BASIC\",\"BASIC\",\"BASIC\",\"BASIC\",\"DELUXE\",\"SUITE\",\"BASIC\",\"BASIC\",\"BASIC\",\"SUITE\",\"BASIC\",\"DELUXE\",\"BASIC\",\"BASIC\",\"BASIC\",\"BASIC\",\"DELUXE\",\"BASIC\",\"BASIC\",\"BASIC\",\"BASIC\",\"BASIC\",\"SUITE\",\"BASIC\",\"DELUXE\",\"BASIC\",\"BASIC\",\"BASIC\",\"BASIC\",\"BASIC\",\"BASIC\",\"BASIC\",\"DELUXE\",\"BASIC\",\"DELUXE\",\"DELUXE\",\"DELUXE\",\"DELUXE\",\"BASIC\",\"BASIC\",\"BASIC\",\"DELUXE\",\"SUITE\",\"BASIC\",\"BASIC\",\"SUITE\",\"DELUXE\",\"BASIC\",\"BASIC\",\"DELUXE\",\"BASIC\",\"BASIC\",\"BASIC\",\"BASIC\",\"DELUXE\",\"BASIC\",\"BASIC\",\"BASIC\",\"BASIC\",\"BASIC\",\"BASIC\",\"BASIC\",\"SUITE\",\"BASIC\",\"BASIC\",\"DELUXE\",\"BASIC\",\"BASIC\",\"BASIC\",\"BASIC\",\"BASIC\",\"BASIC\",\"SUITE\",\"BASIC\",\"BASIC\",\"BASIC\",\"BASIC\",\"DELUXE\",\"BASIC\",\"BASIC\",\"BASIC\",\"BASIC\",\"BASIC\",\"BASIC\",\"BASIC\",\"BASIC\",\"BASIC\",\"BASIC\",\"BASIC\",\"BASIC\",\"BASIC\",\"BASIC\",\"DELUXE\",\"SUITE\",\"BASIC\",\"BASIC\",\"BASIC\",\"BASIC\",\"BASIC\",\"BASIC\",\"BASIC\",\"DELUXE\",\"BASIC\",\"SUITE\",\"SUITE\",\"DELUXE\",\"BASIC\",\"BASIC\",\"DELUXE\",\"SUITE\",\"DELUXE\",\"BASIC\",\"BASIC\",\"BASIC\",\"BASIC\",\"BASIC\",\"DELUXE\",\"DELUXE\",\"BASIC\",\"BASIC\",\"BASIC\",\"BASIC\",\"BASIC\",\"DELUXE\",\"BASIC\",\"DELUXE\",\"BASIC\",\"BASIC\",\"BASIC\",\"BASIC\",\"DELUXE\",\"BASIC\",\"BASIC\",\"BASIC\",\"BASIC\",\"DELUXE\",\"DELUXE\",\"BASIC\",\"SUITE\",\"BASIC\",\"BASIC\",\"BASIC\",\"BASIC\",\"SUITE\",\"BASIC\",\"BASIC\",\"BASIC\",\"BASIC\",\"DELUXE\",\"BASIC\",\"BASIC\",\"BASIC\",\"BASIC\",\"BASIC\",\"BASIC\",\"BASIC\",\"BASIC\",\"BASIC\",\"BASIC\",\"BASIC\",\"BASIC\",\"SUITE\",\"BASIC\",\"BASIC\",\"BASIC\",\"BASIC\",\"BASIC\",\"BASIC\",\"BASIC\",\"BASIC\",\"DELUXE\",\"BASIC\",\"BASIC\",\"DELUXE\",\"BASIC\",\"DELUXE\",\"BASIC\",\"BASIC\",\"DELUXE\",\"DELUXE\",\"DELUXE\",\"SUITE\",\"BASIC\",\"BASIC\",\"DELUXE\",\"BASIC\",\"BASIC\",\"BASIC\",\"BASIC\",\"BASIC\",\"BASIC\",\"BASIC\",\"BASIC\",\"BASIC\",\"BASIC\",\"BASIC\",\"BASIC\",\"BASIC\",\"DELUXE\",\"DELUXE\",\"BASIC\",\"BASIC\",\"BASIC\",\"BASIC\",\"BASIC\",\"DELUXE\",\"BASIC\",\"BASIC\",\"BASIC\",\"SUITE\",\"BASIC\",\"BASIC\",\"BASIC\",\"BASIC\",\"BASIC\",\"DELUXE\",\"BASIC\",\"BASIC\",\"BASIC\",\"BASIC\",\"BASIC\",\"BASIC\",\"DELUXE\",\"BASIC\",\"BASIC\",\"BASIC\",\"BASIC\",\"BASIC\",\"DELUXE\",\"BASIC\",\"BASIC\",\"BASIC\",\"BASIC\",\"DELUXE\",\"DELUXE\",\"DELUXE\",\"BASIC\",\"BASIC\",\"BASIC\",\"BASIC\",\"BASIC\",\"BASIC\",\"BASIC\",\"DELUXE\",\"BASIC\",\"DELUXE\",\"BASIC\",\"SUITE\",\"DELUXE\",\"SUITE\",\"BASIC\",\"BASIC\",\"SUITE\",\"DELUXE\",\"BASIC\",\"SUITE\",\"BASIC\",\"BASIC\",\"BASIC\",\"DELUXE\",\"BASIC\",\"BASIC\",\"SUITE\",\"DELUXE\",\"BASIC\",\"BASIC\",\"BASIC\",\"SUITE\",\"BASIC\",\"DELUXE\",\"BASIC\",\"BASIC\",\"BASIC\",\"BASIC\",\"BASIC\",\"BASIC\",\"BASIC\",\"BASIC\",\"BASIC\",\"SUITE\",\"BASIC\",\"BASIC\",\"BASIC\",\"BASIC\",\"BASIC\",\"DELUXE\",\"BASIC\",\"DELUXE\",\"BASIC\",\"DELUXE\",\"BASIC\",\"DELUXE\",\"SUITE\",\"BASIC\",\"BASIC\",\"BASIC\",\"BASIC\",\"BASIC\",\"BASIC\",\"DELUXE\",\"BASIC\",\"SUITE\",\"BASIC\",\"BASIC\",\"SUITE\",\"SUITE\",\"BASIC\",\"BASIC\",\"BASIC\",\"BASIC\",\"BASIC\",\"BASIC\",\"BASIC\",\"DELUXE\",\"BASIC\",\"BASIC\",\"BASIC\",\"BASIC\",\"DELUXE\",\"BASIC\",\"BASIC\",\"BASIC\",\"BASIC\",\"BASIC\",\"BASIC\",\"BASIC\"],\"y0\":\" \",\"yaxis\":\"y\",\"type\":\"box\"},{\"alignmentgroup\":\"True\",\"hovertemplate\":\"Data=Synthetic\\u003cbr\\u003eroom_rate=%{x}\\u003cbr\\u003eroom_type=%{y}\\u003cextra\\u003e\\u003c\\u002fextra\\u003e\",\"legendgroup\":\"Synthetic\",\"marker\":{\"color\":\"#01E0C9\"},\"name\":\"Synthetic\",\"notched\":false,\"offsetgroup\":\"Synthetic\",\"orientation\":\"h\",\"showlegend\":true,\"x\":[122.83,175.3,151.45,169.82,189.85,109.39,92.46,212.51,122.5,244.38,349.41,148.7,284.16,89.37,170.87,180.87,192.45,97.95,334.62,156.99,104.36,84.0,149.82,141.79,84.71,85.28,226.84,85.76,247.12,120.98,104.14,96.14,140.21,83.82,204.71,260.71,252.18,135.12,99.73,85.92,208.59,84.47,108.13,241.98,90.31,88.66,144.83,161.78,93.74,178.09,212.22,117.54,130.96,177.74,84.46,119.6,121.27,174.72,304.88,327.16,96.67,152.17,110.86,186.02,130.38,197.78,143.17,95.68,343.77,163.1,96.55,332.59,102.52,306.02,103.19,200.88,117.81,84.22,96.1,163.07,190.92,175.3,259.2,101.37,98.39,117.35,86.98,237.19,117.33,133.3,114.34,91.81,100.89,83.99,110.65,105.92,227.89,103.49,202.42,86.82,142.67,91.65,302.44,264.28,145.97,87.03,90.42,180.86,240.5,276.08,132.51,108.71,177.3,129.55,116.66,88.91,89.17,141.04,305.64,144.6,160.64,270.15,267.79,305.46,91.64,84.9,95.92,109.29,87.26,185.31,204.6,237.34,170.36,171.47,108.52,148.43,90.85,88.48,107.97,199.99,88.54,209.72,385.2,93.99,100.01,102.38,86.57,137.3,200.31,179.58,177.02,139.27,99.9,83.8,234.31,287.98,219.99,109.36,239.09,104.72,230.16,242.94,142.16,87.76,116.26,160.84,119.61,160.11,87.65,104.2,138.91,194.03,226.93,110.6,94.14,92.28,96.17,136.28,197.02,115.23,130.24,151.01,160.69,224.93,122.79,250.94,117.12,94.03,170.21,214.45,101.31,273.12,180.29,130.62,98.4,142.33,203.77,198.95,162.35,191.85,160.87,86.08,100.72,86.06,103.81,201.34,244.75,304.91,128.41,168.96,89.07,160.45,122.81,234.86,102.2,118.56,196.5,174.13,156.62,156.32,119.12,221.61,134.47,89.29,100.85,123.26,148.49,295.4,112.27,156.0,124.07,134.15,107.85,124.7,99.05,117.77,84.05,166.15,230.89,172.5,109.0,136.57,91.35,94.86,208.08,161.29,185.78,84.69,160.5,87.48,163.73,105.11,90.57,166.7,215.49,146.51,271.26,102.86,87.48,103.13,93.27,189.46,137.38,319.46,174.06,87.78,100.04,89.6,109.44,128.37,270.65,91.72,97.18,183.84,129.61,85.65,121.94,115.14,84.09,90.39,246.0,149.58,84.5,233.46,193.34,156.38,96.13,237.14,88.03,244.7,202.5,106.48,214.67,203.31,116.3,177.93,316.97,115.42,122.22,84.67,85.52,199.01,142.8,88.17,185.05,293.08,87.47,235.67,90.88,108.67,249.8,150.6,246.11,109.15,89.07,133.58,110.06,144.3,134.95,142.07,92.56,84.2,120.84,202.52,152.18,262.44,87.88,207.85,102.4,205.44,110.67,167.23,100.67,180.79,106.09,92.48,88.56,96.75,176.51,153.29,84.69,100.32,109.83,85.76,120.12,102.08,230.62,112.93,133.26,251.38,86.43,84.24,230.39,100.0,85.39,154.04,224.75,97.36,92.49,195.43,182.56,184.62,90.48,225.88,125.28,107.48,91.66,93.43,126.49,229.04,85.58,110.29,151.55,120.51,260.39,91.89,172.1,157.5,148.76,186.78,246.57,101.46,107.16,243.21,90.97,97.93,84.26,96.5,155.87,263.07,179.01,126.18,146.26,142.09,171.57,98.94,111.24,132.34,259.9,84.61,309.73,162.33,125.61,84.97,88.97,93.59,172.94,201.53,136.38,139.42,172.31,132.28,163.81,105.08,117.24,102.23,85.88,149.84,147.65,218.73,198.68,145.91,85.38,125.62,126.76,113.6,204.99,86.01,264.48,133.11,98.58,139.99,172.68,196.87,183.43,92.68,93.63,97.25,111.15,350.23,290.6,329.88,98.92,289.44,206.66,118.71,87.95,97.69,189.34,115.56,232.49,108.18,183.15,86.74,97.93,232.29,118.54,93.28,99.67,86.52,187.51,115.01,167.1,146.93,90.28,205.89,96.36,92.81,211.86,125.95,86.02,138.43,121.74,129.44,272.93,131.58,89.3,201.59,97.37,126.96,96.07,259.2,88.03,83.84,282.02,134.49,279.91,189.36,83.8,154.97,85.17,217.15,87.35,125.06,228.2,328.36,248.61,151.73,376.4,232.18],\"x0\":\" \",\"xaxis\":\"x\",\"y\":[\"BASIC\",\"DELUXE\",\"DELUXE\",\"BASIC\",\"SUITE\",\"BASIC\",\"BASIC\",\"DELUXE\",\"BASIC\",\"BASIC\",\"BASIC\",\"BASIC\",\"BASIC\",\"BASIC\",\"BASIC\",\"BASIC\",\"BASIC\",\"BASIC\",\"SUITE\",\"DELUXE\",\"BASIC\",\"DELUXE\",\"DELUXE\",\"BASIC\",\"BASIC\",\"BASIC\",\"DELUXE\",\"BASIC\",\"BASIC\",\"BASIC\",\"BASIC\",\"BASIC\",\"BASIC\",\"BASIC\",\"BASIC\",\"BASIC\",\"BASIC\",\"BASIC\",\"BASIC\",\"BASIC\",\"DELUXE\",\"BASIC\",\"DELUXE\",\"BASIC\",\"DELUXE\",\"BASIC\",\"BASIC\",\"BASIC\",\"BASIC\",\"BASIC\",\"DELUXE\",\"BASIC\",\"BASIC\",\"DELUXE\",\"BASIC\",\"DELUXE\",\"DELUXE\",\"DELUXE\",\"BASIC\",\"DELUXE\",\"BASIC\",\"DELUXE\",\"BASIC\",\"BASIC\",\"BASIC\",\"BASIC\",\"BASIC\",\"BASIC\",\"DELUXE\",\"BASIC\",\"BASIC\",\"BASIC\",\"BASIC\",\"DELUXE\",\"BASIC\",\"BASIC\",\"BASIC\",\"BASIC\",\"BASIC\",\"DELUXE\",\"BASIC\",\"BASIC\",\"BASIC\",\"BASIC\",\"BASIC\",\"BASIC\",\"BASIC\",\"BASIC\",\"BASIC\",\"BASIC\",\"BASIC\",\"BASIC\",\"BASIC\",\"BASIC\",\"BASIC\",\"BASIC\",\"DELUXE\",\"BASIC\",\"BASIC\",\"BASIC\",\"DELUXE\",\"BASIC\",\"DELUXE\",\"BASIC\",\"DELUXE\",\"BASIC\",\"BASIC\",\"BASIC\",\"DELUXE\",\"DELUXE\",\"BASIC\",\"DELUXE\",\"DELUXE\",\"DELUXE\",\"BASIC\",\"BASIC\",\"DELUXE\",\"BASIC\",\"DELUXE\",\"BASIC\",\"BASIC\",\"DELUXE\",\"BASIC\",\"SUITE\",\"BASIC\",\"BASIC\",\"BASIC\",\"BASIC\",\"BASIC\",\"BASIC\",\"BASIC\",\"DELUXE\",\"BASIC\",\"DELUXE\",\"BASIC\",\"BASIC\",\"BASIC\",\"BASIC\",\"BASIC\",\"BASIC\",\"BASIC\",\"BASIC\",\"BASIC\",\"DELUXE\",\"BASIC\",\"BASIC\",\"BASIC\",\"DELUXE\",\"BASIC\",\"BASIC\",\"BASIC\",\"BASIC\",\"BASIC\",\"BASIC\",\"DELUXE\",\"DELUXE\",\"DELUXE\",\"BASIC\",\"BASIC\",\"DELUXE\",\"DELUXE\",\"DELUXE\",\"BASIC\",\"BASIC\",\"DELUXE\",\"BASIC\",\"BASIC\",\"BASIC\",\"BASIC\",\"BASIC\",\"BASIC\",\"BASIC\",\"DELUXE\",\"BASIC\",\"BASIC\",\"BASIC\",\"DELUXE\",\"BASIC\",\"BASIC\",\"DELUXE\",\"BASIC\",\"BASIC\",\"DELUXE\",\"SUITE\",\"BASIC\",\"BASIC\",\"BASIC\",\"BASIC\",\"BASIC\",\"DELUXE\",\"BASIC\",\"DELUXE\",\"BASIC\",\"DELUXE\",\"BASIC\",\"BASIC\",\"BASIC\",\"BASIC\",\"BASIC\",\"BASIC\",\"BASIC\",\"BASIC\",\"BASIC\",\"BASIC\",\"BASIC\",\"BASIC\",\"BASIC\",\"BASIC\",\"BASIC\",\"BASIC\",\"BASIC\",\"BASIC\",\"BASIC\",\"BASIC\",\"BASIC\",\"DELUXE\",\"DELUXE\",\"BASIC\",\"BASIC\",\"BASIC\",\"DELUXE\",\"SUITE\",\"BASIC\",\"BASIC\",\"BASIC\",\"BASIC\",\"BASIC\",\"BASIC\",\"DELUXE\",\"SUITE\",\"BASIC\",\"BASIC\",\"BASIC\",\"BASIC\",\"DELUXE\",\"BASIC\",\"BASIC\",\"BASIC\",\"BASIC\",\"BASIC\",\"DELUXE\",\"DELUXE\",\"BASIC\",\"BASIC\",\"BASIC\",\"SUITE\",\"BASIC\",\"BASIC\",\"BASIC\",\"SUITE\",\"DELUXE\",\"BASIC\",\"BASIC\",\"BASIC\",\"BASIC\",\"BASIC\",\"BASIC\",\"BASIC\",\"BASIC\",\"BASIC\",\"BASIC\",\"BASIC\",\"DELUXE\",\"DELUXE\",\"DELUXE\",\"DELUXE\",\"BASIC\",\"BASIC\",\"DELUXE\",\"BASIC\",\"BASIC\",\"BASIC\",\"BASIC\",\"BASIC\",\"BASIC\",\"BASIC\",\"BASIC\",\"BASIC\",\"BASIC\",\"BASIC\",\"BASIC\",\"BASIC\",\"BASIC\",\"DELUXE\",\"BASIC\",\"DELUXE\",\"BASIC\",\"DELUXE\",\"BASIC\",\"DELUXE\",\"BASIC\",\"BASIC\",\"BASIC\",\"DELUXE\",\"BASIC\",\"BASIC\",\"BASIC\",\"BASIC\",\"BASIC\",\"BASIC\",\"BASIC\",\"DELUXE\",\"BASIC\",\"BASIC\",\"BASIC\",\"BASIC\",\"BASIC\",\"BASIC\",\"BASIC\",\"BASIC\",\"BASIC\",\"BASIC\",\"DELUXE\",\"BASIC\",\"BASIC\",\"DELUXE\",\"BASIC\",\"BASIC\",\"BASIC\",\"DELUXE\",\"BASIC\",\"DELUXE\",\"DELUXE\",\"DELUXE\",\"BASIC\",\"SUITE\",\"BASIC\",\"BASIC\",\"BASIC\",\"DELUXE\",\"DELUXE\",\"BASIC\",\"BASIC\",\"DELUXE\",\"BASIC\",\"DELUXE\",\"BASIC\",\"BASIC\",\"BASIC\",\"DELUXE\",\"BASIC\",\"BASIC\",\"BASIC\",\"BASIC\",\"BASIC\",\"BASIC\",\"BASIC\",\"BASIC\",\"DELUXE\",\"DELUXE\",\"DELUXE\",\"BASIC\",\"BASIC\",\"BASIC\",\"BASIC\",\"BASIC\",\"DELUXE\",\"BASIC\",\"BASIC\",\"SUITE\",\"DELUXE\",\"BASIC\",\"BASIC\",\"BASIC\",\"DELUXE\",\"BASIC\",\"BASIC\",\"BASIC\",\"BASIC\",\"BASIC\",\"BASIC\",\"DELUXE\",\"BASIC\",\"DELUXE\",\"BASIC\",\"BASIC\",\"DELUXE\",\"BASIC\",\"BASIC\",\"BASIC\",\"BASIC\",\"BASIC\",\"BASIC\",\"DELUXE\",\"BASIC\",\"BASIC\",\"BASIC\",\"BASIC\",\"BASIC\",\"BASIC\",\"DELUXE\",\"BASIC\",\"BASIC\",\"BASIC\",\"DELUXE\",\"BASIC\",\"DELUXE\",\"BASIC\",\"BASIC\",\"BASIC\",\"DELUXE\",\"DELUXE\",\"BASIC\",\"BASIC\",\"BASIC\",\"DELUXE\",\"BASIC\",\"BASIC\",\"BASIC\",\"BASIC\",\"BASIC\",\"BASIC\",\"BASIC\",\"BASIC\",\"DELUXE\",\"BASIC\",\"BASIC\",\"DELUXE\",\"BASIC\",\"BASIC\",\"BASIC\",\"DELUXE\",\"BASIC\",\"BASIC\",\"BASIC\",\"BASIC\",\"DELUXE\",\"BASIC\",\"DELUXE\",\"BASIC\",\"BASIC\",\"BASIC\",\"SUITE\",\"DELUXE\",\"DELUXE\",\"BASIC\",\"BASIC\",\"BASIC\",\"BASIC\",\"SUITE\",\"BASIC\",\"DELUXE\",\"BASIC\",\"DELUXE\",\"BASIC\",\"BASIC\",\"BASIC\",\"BASIC\",\"BASIC\",\"BASIC\",\"BASIC\",\"DELUXE\",\"DELUXE\",\"BASIC\",\"BASIC\",\"SUITE\",\"BASIC\",\"BASIC\",\"DELUXE\",\"BASIC\",\"BASIC\",\"BASIC\",\"DELUXE\",\"SUITE\",\"BASIC\",\"SUITE\",\"BASIC\",\"BASIC\",\"DELUXE\",\"DELUXE\",\"BASIC\",\"DELUXE\",\"BASIC\",\"BASIC\",\"BASIC\",\"BASIC\",\"BASIC\",\"SUITE\",\"DELUXE\",\"BASIC\",\"BASIC\",\"BASIC\",\"BASIC\",\"BASIC\",\"DELUXE\",\"DELUXE\",\"BASIC\",\"DELUXE\",\"BASIC\",\"BASIC\",\"BASIC\",\"BASIC\",\"BASIC\",\"DELUXE\",\"DELUXE\",\"DELUXE\",\"DELUXE\",\"BASIC\",\"BASIC\",\"DELUXE\"],\"y0\":\" \",\"yaxis\":\"y\",\"type\":\"box\"}],                        {\"template\":{\"data\":{\"histogram2dcontour\":[{\"type\":\"histogram2dcontour\",\"colorbar\":{\"outlinewidth\":0,\"ticks\":\"\"},\"colorscale\":[[0.0,\"#0d0887\"],[0.1111111111111111,\"#46039f\"],[0.2222222222222222,\"#7201a8\"],[0.3333333333333333,\"#9c179e\"],[0.4444444444444444,\"#bd3786\"],[0.5555555555555556,\"#d8576b\"],[0.6666666666666666,\"#ed7953\"],[0.7777777777777778,\"#fb9f3a\"],[0.8888888888888888,\"#fdca26\"],[1.0,\"#f0f921\"]]}],\"choropleth\":[{\"type\":\"choropleth\",\"colorbar\":{\"outlinewidth\":0,\"ticks\":\"\"}}],\"histogram2d\":[{\"type\":\"histogram2d\",\"colorbar\":{\"outlinewidth\":0,\"ticks\":\"\"},\"colorscale\":[[0.0,\"#0d0887\"],[0.1111111111111111,\"#46039f\"],[0.2222222222222222,\"#7201a8\"],[0.3333333333333333,\"#9c179e\"],[0.4444444444444444,\"#bd3786\"],[0.5555555555555556,\"#d8576b\"],[0.6666666666666666,\"#ed7953\"],[0.7777777777777778,\"#fb9f3a\"],[0.8888888888888888,\"#fdca26\"],[1.0,\"#f0f921\"]]}],\"heatmap\":[{\"type\":\"heatmap\",\"colorbar\":{\"outlinewidth\":0,\"ticks\":\"\"},\"colorscale\":[[0.0,\"#0d0887\"],[0.1111111111111111,\"#46039f\"],[0.2222222222222222,\"#7201a8\"],[0.3333333333333333,\"#9c179e\"],[0.4444444444444444,\"#bd3786\"],[0.5555555555555556,\"#d8576b\"],[0.6666666666666666,\"#ed7953\"],[0.7777777777777778,\"#fb9f3a\"],[0.8888888888888888,\"#fdca26\"],[1.0,\"#f0f921\"]]}],\"heatmapgl\":[{\"type\":\"heatmapgl\",\"colorbar\":{\"outlinewidth\":0,\"ticks\":\"\"},\"colorscale\":[[0.0,\"#0d0887\"],[0.1111111111111111,\"#46039f\"],[0.2222222222222222,\"#7201a8\"],[0.3333333333333333,\"#9c179e\"],[0.4444444444444444,\"#bd3786\"],[0.5555555555555556,\"#d8576b\"],[0.6666666666666666,\"#ed7953\"],[0.7777777777777778,\"#fb9f3a\"],[0.8888888888888888,\"#fdca26\"],[1.0,\"#f0f921\"]]}],\"contourcarpet\":[{\"type\":\"contourcarpet\",\"colorbar\":{\"outlinewidth\":0,\"ticks\":\"\"}}],\"contour\":[{\"type\":\"contour\",\"colorbar\":{\"outlinewidth\":0,\"ticks\":\"\"},\"colorscale\":[[0.0,\"#0d0887\"],[0.1111111111111111,\"#46039f\"],[0.2222222222222222,\"#7201a8\"],[0.3333333333333333,\"#9c179e\"],[0.4444444444444444,\"#bd3786\"],[0.5555555555555556,\"#d8576b\"],[0.6666666666666666,\"#ed7953\"],[0.7777777777777778,\"#fb9f3a\"],[0.8888888888888888,\"#fdca26\"],[1.0,\"#f0f921\"]]}],\"surface\":[{\"type\":\"surface\",\"colorbar\":{\"outlinewidth\":0,\"ticks\":\"\"},\"colorscale\":[[0.0,\"#0d0887\"],[0.1111111111111111,\"#46039f\"],[0.2222222222222222,\"#7201a8\"],[0.3333333333333333,\"#9c179e\"],[0.4444444444444444,\"#bd3786\"],[0.5555555555555556,\"#d8576b\"],[0.6666666666666666,\"#ed7953\"],[0.7777777777777778,\"#fb9f3a\"],[0.8888888888888888,\"#fdca26\"],[1.0,\"#f0f921\"]]}],\"mesh3d\":[{\"type\":\"mesh3d\",\"colorbar\":{\"outlinewidth\":0,\"ticks\":\"\"}}],\"scatter\":[{\"fillpattern\":{\"fillmode\":\"overlay\",\"size\":10,\"solidity\":0.2},\"type\":\"scatter\"}],\"parcoords\":[{\"type\":\"parcoords\",\"line\":{\"colorbar\":{\"outlinewidth\":0,\"ticks\":\"\"}}}],\"scatterpolargl\":[{\"type\":\"scatterpolargl\",\"marker\":{\"colorbar\":{\"outlinewidth\":0,\"ticks\":\"\"}}}],\"bar\":[{\"error_x\":{\"color\":\"#2a3f5f\"},\"error_y\":{\"color\":\"#2a3f5f\"},\"marker\":{\"line\":{\"color\":\"#E5ECF6\",\"width\":0.5},\"pattern\":{\"fillmode\":\"overlay\",\"size\":10,\"solidity\":0.2}},\"type\":\"bar\"}],\"scattergeo\":[{\"type\":\"scattergeo\",\"marker\":{\"colorbar\":{\"outlinewidth\":0,\"ticks\":\"\"}}}],\"scatterpolar\":[{\"type\":\"scatterpolar\",\"marker\":{\"colorbar\":{\"outlinewidth\":0,\"ticks\":\"\"}}}],\"histogram\":[{\"marker\":{\"pattern\":{\"fillmode\":\"overlay\",\"size\":10,\"solidity\":0.2}},\"type\":\"histogram\"}],\"scattergl\":[{\"type\":\"scattergl\",\"marker\":{\"colorbar\":{\"outlinewidth\":0,\"ticks\":\"\"}}}],\"scatter3d\":[{\"type\":\"scatter3d\",\"line\":{\"colorbar\":{\"outlinewidth\":0,\"ticks\":\"\"}},\"marker\":{\"colorbar\":{\"outlinewidth\":0,\"ticks\":\"\"}}}],\"scattermapbox\":[{\"type\":\"scattermapbox\",\"marker\":{\"colorbar\":{\"outlinewidth\":0,\"ticks\":\"\"}}}],\"scatterternary\":[{\"type\":\"scatterternary\",\"marker\":{\"colorbar\":{\"outlinewidth\":0,\"ticks\":\"\"}}}],\"scattercarpet\":[{\"type\":\"scattercarpet\",\"marker\":{\"colorbar\":{\"outlinewidth\":0,\"ticks\":\"\"}}}],\"carpet\":[{\"aaxis\":{\"endlinecolor\":\"#2a3f5f\",\"gridcolor\":\"white\",\"linecolor\":\"white\",\"minorgridcolor\":\"white\",\"startlinecolor\":\"#2a3f5f\"},\"baxis\":{\"endlinecolor\":\"#2a3f5f\",\"gridcolor\":\"white\",\"linecolor\":\"white\",\"minorgridcolor\":\"white\",\"startlinecolor\":\"#2a3f5f\"},\"type\":\"carpet\"}],\"table\":[{\"cells\":{\"fill\":{\"color\":\"#EBF0F8\"},\"line\":{\"color\":\"white\"}},\"header\":{\"fill\":{\"color\":\"#C8D4E3\"},\"line\":{\"color\":\"white\"}},\"type\":\"table\"}],\"barpolar\":[{\"marker\":{\"line\":{\"color\":\"#E5ECF6\",\"width\":0.5},\"pattern\":{\"fillmode\":\"overlay\",\"size\":10,\"solidity\":0.2}},\"type\":\"barpolar\"}],\"pie\":[{\"automargin\":true,\"type\":\"pie\"}]},\"layout\":{\"autotypenumbers\":\"strict\",\"colorway\":[\"#636efa\",\"#EF553B\",\"#00cc96\",\"#ab63fa\",\"#FFA15A\",\"#19d3f3\",\"#FF6692\",\"#B6E880\",\"#FF97FF\",\"#FECB52\"],\"font\":{\"color\":\"#2a3f5f\"},\"hovermode\":\"closest\",\"hoverlabel\":{\"align\":\"left\"},\"paper_bgcolor\":\"white\",\"plot_bgcolor\":\"#E5ECF6\",\"polar\":{\"bgcolor\":\"#E5ECF6\",\"angularaxis\":{\"gridcolor\":\"white\",\"linecolor\":\"white\",\"ticks\":\"\"},\"radialaxis\":{\"gridcolor\":\"white\",\"linecolor\":\"white\",\"ticks\":\"\"}},\"ternary\":{\"bgcolor\":\"#E5ECF6\",\"aaxis\":{\"gridcolor\":\"white\",\"linecolor\":\"white\",\"ticks\":\"\"},\"baxis\":{\"gridcolor\":\"white\",\"linecolor\":\"white\",\"ticks\":\"\"},\"caxis\":{\"gridcolor\":\"white\",\"linecolor\":\"white\",\"ticks\":\"\"}},\"coloraxis\":{\"colorbar\":{\"outlinewidth\":0,\"ticks\":\"\"}},\"colorscale\":{\"sequential\":[[0.0,\"#0d0887\"],[0.1111111111111111,\"#46039f\"],[0.2222222222222222,\"#7201a8\"],[0.3333333333333333,\"#9c179e\"],[0.4444444444444444,\"#bd3786\"],[0.5555555555555556,\"#d8576b\"],[0.6666666666666666,\"#ed7953\"],[0.7777777777777778,\"#fb9f3a\"],[0.8888888888888888,\"#fdca26\"],[1.0,\"#f0f921\"]],\"sequentialminus\":[[0.0,\"#0d0887\"],[0.1111111111111111,\"#46039f\"],[0.2222222222222222,\"#7201a8\"],[0.3333333333333333,\"#9c179e\"],[0.4444444444444444,\"#bd3786\"],[0.5555555555555556,\"#d8576b\"],[0.6666666666666666,\"#ed7953\"],[0.7777777777777778,\"#fb9f3a\"],[0.8888888888888888,\"#fdca26\"],[1.0,\"#f0f921\"]],\"diverging\":[[0,\"#8e0152\"],[0.1,\"#c51b7d\"],[0.2,\"#de77ae\"],[0.3,\"#f1b6da\"],[0.4,\"#fde0ef\"],[0.5,\"#f7f7f7\"],[0.6,\"#e6f5d0\"],[0.7,\"#b8e186\"],[0.8,\"#7fbc41\"],[0.9,\"#4d9221\"],[1,\"#276419\"]]},\"xaxis\":{\"gridcolor\":\"white\",\"linecolor\":\"white\",\"ticks\":\"\",\"title\":{\"standoff\":15},\"zerolinecolor\":\"white\",\"automargin\":true,\"zerolinewidth\":2},\"yaxis\":{\"gridcolor\":\"white\",\"linecolor\":\"white\",\"ticks\":\"\",\"title\":{\"standoff\":15},\"zerolinecolor\":\"white\",\"automargin\":true,\"zerolinewidth\":2},\"scene\":{\"xaxis\":{\"backgroundcolor\":\"#E5ECF6\",\"gridcolor\":\"white\",\"linecolor\":\"white\",\"showbackground\":true,\"ticks\":\"\",\"zerolinecolor\":\"white\",\"gridwidth\":2},\"yaxis\":{\"backgroundcolor\":\"#E5ECF6\",\"gridcolor\":\"white\",\"linecolor\":\"white\",\"showbackground\":true,\"ticks\":\"\",\"zerolinecolor\":\"white\",\"gridwidth\":2},\"zaxis\":{\"backgroundcolor\":\"#E5ECF6\",\"gridcolor\":\"white\",\"linecolor\":\"white\",\"showbackground\":true,\"ticks\":\"\",\"zerolinecolor\":\"white\",\"gridwidth\":2}},\"shapedefaults\":{\"line\":{\"color\":\"#2a3f5f\"}},\"annotationdefaults\":{\"arrowcolor\":\"#2a3f5f\",\"arrowhead\":0,\"arrowwidth\":1},\"geo\":{\"bgcolor\":\"white\",\"landcolor\":\"#E5ECF6\",\"subunitcolor\":\"white\",\"showland\":true,\"showlakes\":true,\"lakecolor\":\"white\"},\"title\":{\"x\":0.05},\"mapbox\":{\"style\":\"light\"}}},\"xaxis\":{\"anchor\":\"y\",\"domain\":[0.0,1.0],\"title\":{\"text\":\"room_rate\"}},\"yaxis\":{\"anchor\":\"x\",\"domain\":[0.0,1.0],\"title\":{\"text\":\"room_type\"}},\"legend\":{\"title\":{\"text\":\"Data\"},\"tracegroupgap\":0},\"margin\":{\"t\":60},\"boxmode\":\"group\",\"title\":{\"text\":\"Real vs. Synthetic Data for columns 'room_rate' and 'room_type'\"},\"plot_bgcolor\":\"#F5F5F8\"},                        {\"responsive\": true}                    ).then(function(){\n",
       "                            \n",
       "var gd = document.getElementById('d18514ad-eb83-4cc4-b60d-63e8c14ddcfe');\n",
       "var x = new MutationObserver(function (mutations, observer) {{\n",
       "        var display = window.getComputedStyle(gd).display;\n",
       "        if (!display || display === 'none') {{\n",
       "            console.log([gd, 'removed!']);\n",
       "            Plotly.purge(gd);\n",
       "            observer.disconnect();\n",
       "        }}\n",
       "}});\n",
       "\n",
       "// Listen for the removal of the full notebook cells\n",
       "var notebookContainer = gd.closest('#notebook-container');\n",
       "if (notebookContainer) {{\n",
       "    x.observe(notebookContainer, {childList: true});\n",
       "}}\n",
       "\n",
       "// Listen for the clearing of the current output cell\n",
       "var outputEl = gd.closest('.output');\n",
       "if (outputEl) {{\n",
       "    x.observe(outputEl, {childList: true});\n",
       "}}\n",
       "\n",
       "                        })                };                });            </script>        </div>"
      ]
     },
     "metadata": {},
     "output_type": "display_data"
    }
   ],
   "source": [
    "# compare the synthetic data to the real data\n",
    "from sdv.evaluation.single_table import get_column_pair_plot\n",
    "\n",
    "fig = get_column_pair_plot(\n",
    "    real_data=real_data,\n",
    "    synthetic_data=synthetic_data,\n",
    "    column_names=['room_rate', 'room_type'],\n",
    "    metadata=metadata)\n",
    "    \n",
    "fig.show()"
   ]
  },
  {
   "cell_type": "code",
   "execution_count": 153,
   "id": "3ce46288-47fc-4c85-a021-2df4776f1a8f",
   "metadata": {},
   "outputs": [
    {
     "name": "stdout",
     "output_type": "stream",
     "text": [
      "no. of violations in the real data: 0\n"
     ]
    }
   ],
   "source": [
    "# adding constraints: checkin should be < checkout date\n",
    "\n",
    "real_dates = real_data[[\"checkin_date\", \"checkout_date\"]].dropna()\n",
    "violations = pd.to_datetime(real_dates[\"checkin_date\"]) >= pd.to_datetime(real_dates[\"checkout_date\"])\n",
    "\n",
    "print(f\"no. of violations in the real data: {len([row for row in violations if row==True])}\")"
   ]
  },
  {
   "cell_type": "code",
   "execution_count": 155,
   "id": "82dd7e2d-f117-4c32-b7b9-e3a95900e630",
   "metadata": {},
   "outputs": [
    {
     "name": "stdout",
     "output_type": "stream",
     "text": [
      "no. of violations in the synthetic data: 230\n"
     ]
    }
   ],
   "source": [
    "synthetic_dates = synthetic_data[[\"checkin_date\", \"checkout_date\"]].dropna()\n",
    "violations = pd.to_datetime(synthetic_dates[\"checkin_date\"]) >= pd.to_datetime(synthetic_dates[\"checkout_date\"])\n",
    "\n",
    "print(f\"no. of violations in the synthetic data: {len([row for row in violations if row == True])}\")"
   ]
  },
  {
   "cell_type": "code",
   "execution_count": 158,
   "id": "09486499-2897-4a34-b9bd-3fa81266424b",
   "metadata": {},
   "outputs": [],
   "source": [
    "# applying predefined logic\n",
    "\n",
    "checkin_lessthan_checkout = {\n",
    "    \"constraint_class\": \"Inequality\",\n",
    "    \"constraint_parameters\": {\n",
    "        \"low_column_name\": \"checkin_date\",\n",
    "        \"high_column_name\": \"checkout_date\"\n",
    "    }\n",
    "}"
   ]
  },
  {
   "cell_type": "code",
   "execution_count": 159,
   "id": "d0153c0a-50d8-415b-a2e4-e9b546da027a",
   "metadata": {},
   "outputs": [
    {
     "name": "stderr",
     "output_type": "stream",
     "text": [
      "/opt/homebrew/Caskroom/miniforge/base/lib/python3.9/site-packages/sdv/single_table/base.py:356: UserWarning:\n",
      "\n",
      "For these constraints to take effect, please refit the synthesizer using 'fit'.\n",
      "\n"
     ]
    }
   ],
   "source": [
    "synthesizer.add_constraints([\n",
    "    checkin_lessthan_checkout\n",
    "])"
   ]
  },
  {
   "cell_type": "code",
   "execution_count": 160,
   "id": "7ed48e14-3d7f-4c12-9d0f-d7e30f1315e1",
   "metadata": {},
   "outputs": [],
   "source": [
    "synthesizer.fit(real_data)"
   ]
  },
  {
   "cell_type": "code",
   "execution_count": 161,
   "id": "a272cb29-d59e-4614-85be-a61885edc8e1",
   "metadata": {},
   "outputs": [
    {
     "name": "stderr",
     "output_type": "stream",
     "text": [
      "Sampling rows: 100%|████████████████████████| 500/500 [00:00<00:00, 1518.10it/s]"
     ]
    },
    {
     "name": "stdout",
     "output_type": "stream",
     "text": [
      "no. of violations in the synthetic data: 0\n"
     ]
    },
    {
     "name": "stderr",
     "output_type": "stream",
     "text": [
      "\n"
     ]
    }
   ],
   "source": [
    "synthetic_data_constrained = synthesizer.sample(num_rows=500)\n",
    "\n",
    "synthetic_dates = synthetic_data_constrained[[\"checkin_date\", \"checkout_date\"]].dropna()\n",
    "violations = pd.to_datetime(synthetic_dates[\"checkin_date\"]) >= pd.to_datetime(synthetic_dates[\"checkout_date\"])\n",
    "\n",
    "print(f\"no. of violations in the synthetic data: {len([row for row in violations if row == True])}\")"
   ]
  },
  {
   "cell_type": "code",
   "execution_count": 164,
   "id": "d4301505-c3a3-4911-9532-48ea989f697d",
   "metadata": {},
   "outputs": [
    {
     "name": "stdout",
     "output_type": "stream",
     "text": [
      "no. of violations in the real data 0\n",
      "no. of violations in the synthetic data 66\n"
     ]
    }
   ],
   "source": [
    "# rewards members dont pay amenities fees\n",
    "# if has_rewards == True -> amenities_fee == 0\n",
    "\n",
    "violations = real_data[(real_data[\"has_rewards\"] == True) & (real_data[\"amenities_fee\"] > 0.0)]\n",
    "print(f\"no. of violations in the real data {len(violations)}\")\n",
    "\n",
    "violations = synthetic_data[(synthetic_data[\"has_rewards\"] == True) & (synthetic_data[\"amenities_fee\"] > 0.0)]\n",
    "print(f\"no. of violations in the synthetic data {len(violations)}\")"
   ]
  },
  {
   "cell_type": "markdown",
   "id": "c0f40377-329b-4da9-bde7-d1b10c30dbe8",
   "metadata": {},
   "source": [
    "## writing a custom constraint class\n",
    "\n",
    "logic:\n",
    "- `is_valid`: a function taht returns whether the rule is valid for every row in the table\n",
    "- `transform`: a pre-processing step, applied before the machine learning\n",
    "- `reverse_transform`: a post-processing step, applied to the synthetic data"
   ]
  },
  {
   "cell_type": "code",
   "execution_count": 166,
   "id": "757a6b94-55ef-45ca-8901-0ce4635e01bf",
   "metadata": {},
   "outputs": [],
   "source": [
    "def is_valid(column_names, data):\n",
    "    boolean_column = column_names[0]\n",
    "    numerical_column = column_names[1]\n",
    "\n",
    "    true_values = (data[boolean_column] == True) & (data[numerical_column] == 0.0)\n",
    "    false_values = (data[boolean_column] == False)\n",
    "\n",
    "    return (true_values) | (false_values)"
   ]
  },
  {
   "cell_type": "code",
   "execution_count": 167,
   "id": "2181e8f6-c140-489f-99aa-ded2bd5af42a",
   "metadata": {},
   "outputs": [
    {
     "data": {
      "text/plain": [
       "True    500\n",
       "Name: count, dtype: int64"
      ]
     },
     "execution_count": 167,
     "metadata": {},
     "output_type": "execute_result"
    }
   ],
   "source": [
    "validity_check = is_valid(['has_rewards', 'amenities_fee'], real_data)\n",
    "validity_check.value_counts()"
   ]
  },
  {
   "cell_type": "code",
   "execution_count": 168,
   "id": "a9248ce9-f72c-4a1f-9197-4ce03064cd80",
   "metadata": {},
   "outputs": [],
   "source": [
    "def transform(column_names, data):\n",
    "    boolean_column = column_names[0]\n",
    "    numerical_column = column_names[1]\n",
    "\n",
    "    typical_values = data[numerical_column].median()\n",
    "    data[numerical_column] = data[numerical_column].mask(data[boolean_column] == True, typical_value)\n",
    "\n",
    "    return data"
   ]
  },
  {
   "cell_type": "code",
   "execution_count": 169,
   "id": "82154712-41d0-4963-b05c-363ffa23518f",
   "metadata": {},
   "outputs": [],
   "source": [
    "def reverse_transform(column_names, data):\n",
    "    boolean_column = column_names[0]\n",
    "    numerical_column = column_names[1]\n",
    "\n",
    "    data[numerical_column] = data[numerical_column].mask(data[boolean_column] == True, 0.0)\n",
    "\n",
    "    return data"
   ]
  },
  {
   "cell_type": "code",
   "execution_count": 172,
   "id": "9bac719d-34fa-424c-b273-e7c800f85094",
   "metadata": {},
   "outputs": [],
   "source": [
    "# putting it altogether\n",
    "from sdv.constraints import create_custom_constraint_class\n",
    "\n",
    "IfTrueThenZero = create_custom_constraint_class(\n",
    "    is_valid_fn=is_valid,\n",
    "    transform_fn=transform,\n",
    "    reverse_transform_fn=reverse_transform\n",
    ")"
   ]
  },
  {
   "cell_type": "code",
   "execution_count": null,
   "id": "c26faa5d-b231-402c-93be-f111ea2aa62f",
   "metadata": {},
   "outputs": [],
   "source": [
    "# add to the class object\n",
    "\n",
    "synthesizer.add_custom_constraint_class(\n",
    "    class_object=IfTrueThenZero, \n",
    "    class_name=\"IfTrueThenZero\"\n",
    ")"
   ]
  },
  {
   "cell_type": "code",
   "execution_count": 175,
   "id": "7fc063c2-79f7-4d6c-b122-299e5abcb12f",
   "metadata": {},
   "outputs": [],
   "source": [
    "rewards_member_no_fee = {\n",
    "    \"constraint_class\": \"IfTrueThenZero\",\n",
    "    \"constraint_parameters\": {\n",
    "        \"column_names\": [\"has_rewards\", \"amenities_fee\"]\n",
    "    }\n",
    "}"
   ]
  },
  {
   "cell_type": "code",
   "execution_count": 176,
   "id": "31d14362-a53e-47fd-967c-7a1b900764ef",
   "metadata": {},
   "outputs": [
    {
     "name": "stderr",
     "output_type": "stream",
     "text": [
      "/opt/homebrew/Caskroom/miniforge/base/lib/python3.9/site-packages/sdv/single_table/base.py:356: UserWarning:\n",
      "\n",
      "For these constraints to take effect, please refit the synthesizer using 'fit'.\n",
      "\n"
     ]
    }
   ],
   "source": [
    "synthesizer.add_constraints([\n",
    "    rewards_member_no_fee\n",
    "])"
   ]
  },
  {
   "cell_type": "code",
   "execution_count": 177,
   "id": "9799a4f8-d787-450a-84f1-c1a90c7ff12b",
   "metadata": {},
   "outputs": [
    {
     "name": "stderr",
     "output_type": "stream",
     "text": [
      "Sampling rows: 100%|█████████████████████████| 500/500 [00:00<00:00, 763.17it/s]\n"
     ]
    }
   ],
   "source": [
    "synthesizer.fit(real_data)\n",
    "synthetic_data_custom_constraint = synthesizer.sample(num_rows=500)"
   ]
  },
  {
   "cell_type": "code",
   "execution_count": 178,
   "id": "004c6067-3206-457f-b7f5-914b57450a36",
   "metadata": {},
   "outputs": [
    {
     "data": {
      "text/html": [
       "<div>\n",
       "<style scoped>\n",
       "    .dataframe tbody tr th:only-of-type {\n",
       "        vertical-align: middle;\n",
       "    }\n",
       "\n",
       "    .dataframe tbody tr th {\n",
       "        vertical-align: top;\n",
       "    }\n",
       "\n",
       "    .dataframe thead th {\n",
       "        text-align: right;\n",
       "    }\n",
       "</style>\n",
       "<table border=\"1\" class=\"dataframe\">\n",
       "  <thead>\n",
       "    <tr style=\"text-align: right;\">\n",
       "      <th></th>\n",
       "      <th>guest_email</th>\n",
       "      <th>has_rewards</th>\n",
       "      <th>room_type</th>\n",
       "      <th>amenities_fee</th>\n",
       "      <th>checkin_date</th>\n",
       "      <th>checkout_date</th>\n",
       "      <th>room_rate</th>\n",
       "      <th>billing_address</th>\n",
       "      <th>credit_card_number</th>\n",
       "    </tr>\n",
       "  </thead>\n",
       "  <tbody>\n",
       "    <tr>\n",
       "      <th>0</th>\n",
       "      <td>dsullivan@example.net</td>\n",
       "      <td>False</td>\n",
       "      <td>DELUXE</td>\n",
       "      <td>1.66</td>\n",
       "      <td>22 Nov 2020</td>\n",
       "      <td>23 Nov 2020</td>\n",
       "      <td>185.47</td>\n",
       "      <td>90469 Karla Knolls Apt. 781\\nSusanberg, NC 28401</td>\n",
       "      <td>5161033759518983</td>\n",
       "    </tr>\n",
       "    <tr>\n",
       "      <th>1</th>\n",
       "      <td>steven59@example.org</td>\n",
       "      <td>False</td>\n",
       "      <td>BASIC</td>\n",
       "      <td>41.18</td>\n",
       "      <td>27 Jan 2020</td>\n",
       "      <td>29 Jan 2020</td>\n",
       "      <td>204.08</td>\n",
       "      <td>1080 Ashley Creek Apt. 622\\nWest Amy, NM 25058</td>\n",
       "      <td>4133047413145475690</td>\n",
       "    </tr>\n",
       "    <tr>\n",
       "      <th>2</th>\n",
       "      <td>brandon15@example.net</td>\n",
       "      <td>False</td>\n",
       "      <td>BASIC</td>\n",
       "      <td>18.27</td>\n",
       "      <td>18 Oct 2020</td>\n",
       "      <td>19 Oct 2020</td>\n",
       "      <td>143.93</td>\n",
       "      <td>99923 Anderson Trace Suite 861\\nNorth Haley, T...</td>\n",
       "      <td>4977328103788</td>\n",
       "    </tr>\n",
       "    <tr>\n",
       "      <th>3</th>\n",
       "      <td>humphreyjennifer@example.net</td>\n",
       "      <td>False</td>\n",
       "      <td>DELUXE</td>\n",
       "      <td>16.60</td>\n",
       "      <td>08 Jun 2020</td>\n",
       "      <td>09 Jun 2020</td>\n",
       "      <td>223.95</td>\n",
       "      <td>9301 John Parkways\\nThomasland, OH 61350</td>\n",
       "      <td>3524946844839485</td>\n",
       "    </tr>\n",
       "    <tr>\n",
       "      <th>4</th>\n",
       "      <td>moondavid@example.com</td>\n",
       "      <td>False</td>\n",
       "      <td>BASIC</td>\n",
       "      <td>48.12</td>\n",
       "      <td>20 Nov 2020</td>\n",
       "      <td>21 Nov 2020</td>\n",
       "      <td>126.74</td>\n",
       "      <td>812 Kimberly Forges\\nEast Brianafurt, AR 16834</td>\n",
       "      <td>4265310195602383</td>\n",
       "    </tr>\n",
       "  </tbody>\n",
       "</table>\n",
       "</div>"
      ],
      "text/plain": [
       "                    guest_email  has_rewards room_type  amenities_fee  \\\n",
       "0         dsullivan@example.net        False    DELUXE           1.66   \n",
       "1          steven59@example.org        False     BASIC          41.18   \n",
       "2         brandon15@example.net        False     BASIC          18.27   \n",
       "3  humphreyjennifer@example.net        False    DELUXE          16.60   \n",
       "4         moondavid@example.com        False     BASIC          48.12   \n",
       "\n",
       "  checkin_date checkout_date  room_rate  \\\n",
       "0  22 Nov 2020   23 Nov 2020     185.47   \n",
       "1  27 Jan 2020   29 Jan 2020     204.08   \n",
       "2  18 Oct 2020   19 Oct 2020     143.93   \n",
       "3  08 Jun 2020   09 Jun 2020     223.95   \n",
       "4  20 Nov 2020   21 Nov 2020     126.74   \n",
       "\n",
       "                                     billing_address   credit_card_number  \n",
       "0   90469 Karla Knolls Apt. 781\\nSusanberg, NC 28401     5161033759518983  \n",
       "1     1080 Ashley Creek Apt. 622\\nWest Amy, NM 25058  4133047413145475690  \n",
       "2  99923 Anderson Trace Suite 861\\nNorth Haley, T...        4977328103788  \n",
       "3           9301 John Parkways\\nThomasland, OH 61350     3524946844839485  \n",
       "4     812 Kimberly Forges\\nEast Brianafurt, AR 16834     4265310195602383  "
      ]
     },
     "execution_count": 178,
     "metadata": {},
     "output_type": "execute_result"
    }
   ],
   "source": [
    "synthetic_data_custom_constraint.head(5)"
   ]
  },
  {
   "cell_type": "code",
   "execution_count": 179,
   "id": "ae5a1be9-c6a0-4e3a-ade0-5e9398fb9446",
   "metadata": {},
   "outputs": [
    {
     "data": {
      "text/plain": [
       "True    500\n",
       "Name: count, dtype: int64"
      ]
     },
     "execution_count": 179,
     "metadata": {},
     "output_type": "execute_result"
    }
   ],
   "source": [
    "validity_check = is_valid(['has_rewards', 'amenities_fee'], synthetic_data_custom_constraint)\n",
    "validity_check.value_counts()"
   ]
  },
  {
   "cell_type": "markdown",
   "id": "68fbfddf-d4b4-4d26-9f0a-bc4b2adadba8",
   "metadata": {},
   "source": [
    "# Custom Processing"
   ]
  },
  {
   "cell_type": "markdown",
   "id": "51b6450e-f8a6-40ed-887c-bd13184f52a2",
   "metadata": {},
   "source": [
    "## Pre-processing and Post-processing"
   ]
  },
  {
   "cell_type": "code",
   "execution_count": 182,
   "id": "69b1778d-0331-4a30-b3ef-806a7cc05130",
   "metadata": {},
   "outputs": [],
   "source": [
    "from sdv.datasets.demo import download_demo\n",
    "\n",
    "real_data, metadata = download_demo(\n",
    "    modality=\"single_table\",\n",
    "    dataset_name=\"fake_hotel_guests\"\n",
    ")"
   ]
  },
  {
   "cell_type": "code",
   "execution_count": 184,
   "id": "2835d28a-242d-4255-b0c3-f76378540410",
   "metadata": {},
   "outputs": [
    {
     "data": {
      "text/html": [
       "<div>\n",
       "<style scoped>\n",
       "    .dataframe tbody tr th:only-of-type {\n",
       "        vertical-align: middle;\n",
       "    }\n",
       "\n",
       "    .dataframe tbody tr th {\n",
       "        vertical-align: top;\n",
       "    }\n",
       "\n",
       "    .dataframe thead th {\n",
       "        text-align: right;\n",
       "    }\n",
       "</style>\n",
       "<table border=\"1\" class=\"dataframe\">\n",
       "  <thead>\n",
       "    <tr style=\"text-align: right;\">\n",
       "      <th></th>\n",
       "      <th>has_rewards</th>\n",
       "      <th>room_type</th>\n",
       "      <th>amenities_fee</th>\n",
       "      <th>checkin_date</th>\n",
       "      <th>checkout_date</th>\n",
       "      <th>room_rate</th>\n",
       "    </tr>\n",
       "    <tr>\n",
       "      <th>guest_email</th>\n",
       "      <th></th>\n",
       "      <th></th>\n",
       "      <th></th>\n",
       "      <th></th>\n",
       "      <th></th>\n",
       "      <th></th>\n",
       "    </tr>\n",
       "  </thead>\n",
       "  <tbody>\n",
       "    <tr>\n",
       "      <th>michaelsanders@shaw.net</th>\n",
       "      <td>0.716567</td>\n",
       "      <td>0.992246</td>\n",
       "      <td>37.890000</td>\n",
       "      <td>1.609027e+18</td>\n",
       "      <td>1.609200e+18</td>\n",
       "      <td>131.23</td>\n",
       "    </tr>\n",
       "    <tr>\n",
       "      <th>randy49@brown.biz</th>\n",
       "      <td>0.294561</td>\n",
       "      <td>0.082054</td>\n",
       "      <td>24.370000</td>\n",
       "      <td>1.609286e+18</td>\n",
       "      <td>1.609546e+18</td>\n",
       "      <td>114.43</td>\n",
       "    </tr>\n",
       "    <tr>\n",
       "      <th>webermelissa@neal.com</th>\n",
       "      <td>1.963522</td>\n",
       "      <td>1.134625</td>\n",
       "      <td>0.000000</td>\n",
       "      <td>1.600301e+18</td>\n",
       "      <td>1.600387e+18</td>\n",
       "      <td>368.33</td>\n",
       "    </tr>\n",
       "    <tr>\n",
       "      <th>gsims@terry.com</th>\n",
       "      <td>0.476324</td>\n",
       "      <td>0.644434</td>\n",
       "      <td>18.176066</td>\n",
       "      <td>1.609114e+18</td>\n",
       "      <td>1.609373e+18</td>\n",
       "      <td>115.61</td>\n",
       "    </tr>\n",
       "    <tr>\n",
       "      <th>misty33@smith.biz</th>\n",
       "      <td>0.571766</td>\n",
       "      <td>0.308832</td>\n",
       "      <td>16.450000</td>\n",
       "      <td>1.586045e+18</td>\n",
       "      <td>1.594865e+18</td>\n",
       "      <td>122.41</td>\n",
       "    </tr>\n",
       "  </tbody>\n",
       "</table>\n",
       "</div>"
      ],
      "text/plain": [
       "                         has_rewards  room_type  amenities_fee  checkin_date  \\\n",
       "guest_email                                                                    \n",
       "michaelsanders@shaw.net     0.716567   0.992246      37.890000  1.609027e+18   \n",
       "randy49@brown.biz           0.294561   0.082054      24.370000  1.609286e+18   \n",
       "webermelissa@neal.com       1.963522   1.134625       0.000000  1.600301e+18   \n",
       "gsims@terry.com             0.476324   0.644434      18.176066  1.609114e+18   \n",
       "misty33@smith.biz           0.571766   0.308832      16.450000  1.586045e+18   \n",
       "\n",
       "                         checkout_date  room_rate  \n",
       "guest_email                                        \n",
       "michaelsanders@shaw.net   1.609200e+18     131.23  \n",
       "randy49@brown.biz         1.609546e+18     114.43  \n",
       "webermelissa@neal.com     1.600387e+18     368.33  \n",
       "gsims@terry.com           1.609373e+18     115.61  \n",
       "misty33@smith.biz         1.594865e+18     122.41  "
      ]
     },
     "execution_count": 184,
     "metadata": {},
     "output_type": "execute_result"
    }
   ],
   "source": [
    "# preprocessing\n",
    "\n",
    "from sdv.single_table import GaussianCopulaSynthesizer\n",
    "\n",
    "synthesizer = GaussianCopulaSynthesizer(metadata)\n",
    "preprocessed_data = synthesizer.preprocess(real_data)\n",
    "\n",
    "preprocessed_data.head()"
   ]
  },
  {
   "cell_type": "code",
   "execution_count": 186,
   "id": "96249f80-e930-46ef-adea-597b3e78c2c0",
   "metadata": {},
   "outputs": [],
   "source": [
    "synthesizer.fit_processed_data(preprocessed_data)"
   ]
  },
  {
   "cell_type": "code",
   "execution_count": 187,
   "id": "8aa53a25-e306-4a3f-83e8-cbadade6a91f",
   "metadata": {},
   "outputs": [
    {
     "data": {
      "text/html": [
       "<div>\n",
       "<style scoped>\n",
       "    .dataframe tbody tr th:only-of-type {\n",
       "        vertical-align: middle;\n",
       "    }\n",
       "\n",
       "    .dataframe tbody tr th {\n",
       "        vertical-align: top;\n",
       "    }\n",
       "\n",
       "    .dataframe thead th {\n",
       "        text-align: right;\n",
       "    }\n",
       "</style>\n",
       "<table border=\"1\" class=\"dataframe\">\n",
       "  <thead>\n",
       "    <tr style=\"text-align: right;\">\n",
       "      <th></th>\n",
       "      <th>guest_email</th>\n",
       "      <th>has_rewards</th>\n",
       "      <th>room_type</th>\n",
       "      <th>amenities_fee</th>\n",
       "      <th>checkin_date</th>\n",
       "      <th>checkout_date</th>\n",
       "      <th>room_rate</th>\n",
       "      <th>billing_address</th>\n",
       "      <th>credit_card_number</th>\n",
       "    </tr>\n",
       "  </thead>\n",
       "  <tbody>\n",
       "    <tr>\n",
       "      <th>0</th>\n",
       "      <td>dsullivan@example.net</td>\n",
       "      <td>True</td>\n",
       "      <td>BASIC</td>\n",
       "      <td>2.10</td>\n",
       "      <td>26 Mar 2020</td>\n",
       "      <td>12 Apr 2020</td>\n",
       "      <td>122.83</td>\n",
       "      <td>90469 Karla Knolls Apt. 781\\nSusanberg, NC 28401</td>\n",
       "      <td>5161033759518983</td>\n",
       "    </tr>\n",
       "    <tr>\n",
       "      <th>1</th>\n",
       "      <td>steven59@example.org</td>\n",
       "      <td>False</td>\n",
       "      <td>DELUXE</td>\n",
       "      <td>NaN</td>\n",
       "      <td>03 Jul 2020</td>\n",
       "      <td>15 Sep 2020</td>\n",
       "      <td>175.30</td>\n",
       "      <td>1080 Ashley Creek Apt. 622\\nWest Amy, NM 25058</td>\n",
       "      <td>4133047413145475690</td>\n",
       "    </tr>\n",
       "    <tr>\n",
       "      <th>2</th>\n",
       "      <td>brandon15@example.net</td>\n",
       "      <td>False</td>\n",
       "      <td>DELUXE</td>\n",
       "      <td>22.38</td>\n",
       "      <td>30 Mar 2020</td>\n",
       "      <td>17 Mar 2020</td>\n",
       "      <td>151.45</td>\n",
       "      <td>99923 Anderson Trace Suite 861\\nNorth Haley, T...</td>\n",
       "      <td>4977328103788</td>\n",
       "    </tr>\n",
       "  </tbody>\n",
       "</table>\n",
       "</div>"
      ],
      "text/plain": [
       "             guest_email  has_rewards room_type  amenities_fee checkin_date  \\\n",
       "0  dsullivan@example.net         True     BASIC           2.10  26 Mar 2020   \n",
       "1   steven59@example.org        False    DELUXE            NaN  03 Jul 2020   \n",
       "2  brandon15@example.net        False    DELUXE          22.38  30 Mar 2020   \n",
       "\n",
       "  checkout_date  room_rate                                    billing_address  \\\n",
       "0   12 Apr 2020     122.83   90469 Karla Knolls Apt. 781\\nSusanberg, NC 28401   \n",
       "1   15 Sep 2020     175.30     1080 Ashley Creek Apt. 622\\nWest Amy, NM 25058   \n",
       "2   17 Mar 2020     151.45  99923 Anderson Trace Suite 861\\nNorth Haley, T...   \n",
       "\n",
       "    credit_card_number  \n",
       "0     5161033759518983  \n",
       "1  4133047413145475690  \n",
       "2        4977328103788  "
      ]
     },
     "execution_count": 187,
     "metadata": {},
     "output_type": "execute_result"
    }
   ],
   "source": [
    "synthesizer.sample(num_rows=3)"
   ]
  },
  {
   "cell_type": "code",
   "execution_count": 189,
   "id": "7b1070da-4273-4795-8e15-d0c652b69fd9",
   "metadata": {},
   "outputs": [
    {
     "data": {
      "text/plain": [
       "{'guest_email': AnonymizedFaker(provider_name='internet', function_name='email', enforce_uniqueness=True),\n",
       " 'has_rewards': LabelEncoder(add_noise=True),\n",
       " 'room_type': LabelEncoder(add_noise=True),\n",
       " 'amenities_fee': FloatFormatter(),\n",
       " 'checkin_date': UnixTimestampEncoder(datetime_format='%d %b %Y'),\n",
       " 'checkout_date': UnixTimestampEncoder(datetime_format='%d %b %Y'),\n",
       " 'room_rate': FloatFormatter(),\n",
       " 'billing_address': AnonymizedFaker(provider_name='address', function_name='address'),\n",
       " 'credit_card_number': AnonymizedFaker(provider_name='credit_card', function_name='credit_card_number')}"
      ]
     },
     "execution_count": 189,
     "metadata": {},
     "output_type": "execute_result"
    }
   ],
   "source": [
    "# inspecting the transformers\n",
    "\n",
    "transformers = synthesizer.get_transformers()\n",
    "transformers"
   ]
  },
  {
   "cell_type": "code",
   "execution_count": 190,
   "id": "310aae75-6176-4a53-baba-1defc68c96a2",
   "metadata": {},
   "outputs": [
    {
     "name": "stderr",
     "output_type": "stream",
     "text": [
      "/opt/homebrew/Caskroom/miniforge/base/lib/python3.9/site-packages/sdv/single_table/base.py:306: UserWarning:\n",
      "\n",
      "For this change to take effect, please refit the synthesizer using `fit`.\n",
      "\n"
     ]
    }
   ],
   "source": [
    "# modify the transformers\n",
    "\n",
    "from rdt.transformers import OrderedLabelEncoder\n",
    "\n",
    "room_type_transformer = OrderedLabelEncoder(\n",
    "    order=[\"BASIC\", \"DELUXE\", \"SUITE\"], \n",
    "    add_noise=True\n",
    ")\n",
    "\n",
    "synthesizer.update_transformers({\n",
    "    \"room_type\": room_type_transformer\n",
    "})"
   ]
  },
  {
   "cell_type": "code",
   "execution_count": 192,
   "id": "ef11316a-9f5d-46f9-8e88-af4ceffa7658",
   "metadata": {},
   "outputs": [
    {
     "name": "stderr",
     "output_type": "stream",
     "text": [
      "/opt/homebrew/Caskroom/miniforge/base/lib/python3.9/site-packages/sdv/single_table/base.py:306: UserWarning:\n",
      "\n",
      "For this change to take effect, please refit the synthesizer using `fit`.\n",
      "\n"
     ]
    }
   ],
   "source": [
    "# missing values\n",
    "\n",
    "from rdt.transformers import FloatFormatter\n",
    "\n",
    "amenities_fee_transformer = FloatFormatter(\n",
    "    learn_rounding_scheme=True,\n",
    "    enforce_min_max_values=True,\n",
    "    missing_value_replacement=0.00\n",
    ")\n",
    "\n",
    "synthesizer.update_transformers({\n",
    "    \"amenities_fee\": amenities_fee_transformer\n",
    "})"
   ]
  },
  {
   "cell_type": "code",
   "execution_count": 193,
   "id": "014b6a3d-c58e-4dd9-a6f4-62f4bc1a2418",
   "metadata": {},
   "outputs": [],
   "source": [
    "synthesizer.fit(real_data)"
   ]
  },
  {
   "cell_type": "markdown",
   "id": "ca02b1c3-2173-4461-8b82-165d5c6da381",
   "metadata": {},
   "source": [
    "## Anonymization Options\n",
    "\n",
    "- obfuscating values\n",
    "- pseudo-anonymization\n",
    "- changing pii locales"
   ]
  },
  {
   "cell_type": "code",
   "execution_count": 195,
   "id": "75ff58b6-1728-4c84-8ddc-1ca7a9bd764e",
   "metadata": {},
   "outputs": [
    {
     "data": {
      "text/html": [
       "<div>\n",
       "<style scoped>\n",
       "    .dataframe tbody tr th:only-of-type {\n",
       "        vertical-align: middle;\n",
       "    }\n",
       "\n",
       "    .dataframe tbody tr th {\n",
       "        vertical-align: top;\n",
       "    }\n",
       "\n",
       "    .dataframe thead th {\n",
       "        text-align: right;\n",
       "    }\n",
       "</style>\n",
       "<table border=\"1\" class=\"dataframe\">\n",
       "  <thead>\n",
       "    <tr style=\"text-align: right;\">\n",
       "      <th></th>\n",
       "      <th>guest_email</th>\n",
       "      <th>billing_address</th>\n",
       "      <th>credit_card_number</th>\n",
       "    </tr>\n",
       "  </thead>\n",
       "  <tbody>\n",
       "    <tr>\n",
       "      <th>0</th>\n",
       "      <td>michaelsanders@shaw.net</td>\n",
       "      <td>49380 Rivers Street\\nSpencerville, AK 68265</td>\n",
       "      <td>4075084747483975747</td>\n",
       "    </tr>\n",
       "    <tr>\n",
       "      <th>1</th>\n",
       "      <td>randy49@brown.biz</td>\n",
       "      <td>88394 Boyle Meadows\\nConleyberg, TN 22063</td>\n",
       "      <td>180072822063468</td>\n",
       "    </tr>\n",
       "    <tr>\n",
       "      <th>2</th>\n",
       "      <td>webermelissa@neal.com</td>\n",
       "      <td>0323 Lisa Station Apt. 208\\nPort Thomas, LA 82585</td>\n",
       "      <td>38983476971380</td>\n",
       "    </tr>\n",
       "  </tbody>\n",
       "</table>\n",
       "</div>"
      ],
      "text/plain": [
       "               guest_email                                    billing_address  \\\n",
       "0  michaelsanders@shaw.net        49380 Rivers Street\\nSpencerville, AK 68265   \n",
       "1        randy49@brown.biz          88394 Boyle Meadows\\nConleyberg, TN 22063   \n",
       "2    webermelissa@neal.com  0323 Lisa Station Apt. 208\\nPort Thomas, LA 82585   \n",
       "\n",
       "    credit_card_number  \n",
       "0  4075084747483975747  \n",
       "1      180072822063468  \n",
       "2       38983476971380  "
      ]
     },
     "execution_count": 195,
     "metadata": {},
     "output_type": "execute_result"
    }
   ],
   "source": [
    "sensitive_columns = ['guest_email', 'billing_address', 'credit_card_number']\n",
    "real_data[sensitive_columns].head(3)"
   ]
  },
  {
   "cell_type": "code",
   "execution_count": 196,
   "id": "6c9fe830-3f76-40ab-9f29-6d2a92f4d493",
   "metadata": {},
   "outputs": [
    {
     "data": {
      "text/html": [
       "<div>\n",
       "<style scoped>\n",
       "    .dataframe tbody tr th:only-of-type {\n",
       "        vertical-align: middle;\n",
       "    }\n",
       "\n",
       "    .dataframe tbody tr th {\n",
       "        vertical-align: top;\n",
       "    }\n",
       "\n",
       "    .dataframe thead th {\n",
       "        text-align: right;\n",
       "    }\n",
       "</style>\n",
       "<table border=\"1\" class=\"dataframe\">\n",
       "  <thead>\n",
       "    <tr style=\"text-align: right;\">\n",
       "      <th></th>\n",
       "      <th>has_rewards</th>\n",
       "      <th>room_type</th>\n",
       "      <th>amenities_fee</th>\n",
       "      <th>checkin_date</th>\n",
       "      <th>checkout_date</th>\n",
       "      <th>room_rate</th>\n",
       "    </tr>\n",
       "    <tr>\n",
       "      <th>guest_email</th>\n",
       "      <th></th>\n",
       "      <th></th>\n",
       "      <th></th>\n",
       "      <th></th>\n",
       "      <th></th>\n",
       "      <th></th>\n",
       "    </tr>\n",
       "  </thead>\n",
       "  <tbody>\n",
       "    <tr>\n",
       "      <th>michaelsanders@shaw.net</th>\n",
       "      <td>0.716567</td>\n",
       "      <td>0.992246</td>\n",
       "      <td>37.89</td>\n",
       "      <td>1.609027e+18</td>\n",
       "      <td>1.609200e+18</td>\n",
       "      <td>131.23</td>\n",
       "    </tr>\n",
       "    <tr>\n",
       "      <th>randy49@brown.biz</th>\n",
       "      <td>0.294561</td>\n",
       "      <td>0.082054</td>\n",
       "      <td>24.37</td>\n",
       "      <td>1.609286e+18</td>\n",
       "      <td>1.609546e+18</td>\n",
       "      <td>114.43</td>\n",
       "    </tr>\n",
       "    <tr>\n",
       "      <th>webermelissa@neal.com</th>\n",
       "      <td>1.963522</td>\n",
       "      <td>1.134625</td>\n",
       "      <td>0.00</td>\n",
       "      <td>1.600301e+18</td>\n",
       "      <td>1.600387e+18</td>\n",
       "      <td>368.33</td>\n",
       "    </tr>\n",
       "  </tbody>\n",
       "</table>\n",
       "</div>"
      ],
      "text/plain": [
       "                         has_rewards  room_type  amenities_fee  checkin_date  \\\n",
       "guest_email                                                                    \n",
       "michaelsanders@shaw.net     0.716567   0.992246          37.89  1.609027e+18   \n",
       "randy49@brown.biz           0.294561   0.082054          24.37  1.609286e+18   \n",
       "webermelissa@neal.com       1.963522   1.134625           0.00  1.600301e+18   \n",
       "\n",
       "                         checkout_date  room_rate  \n",
       "guest_email                                        \n",
       "michaelsanders@shaw.net   1.609200e+18     131.23  \n",
       "randy49@brown.biz         1.609546e+18     114.43  \n",
       "webermelissa@neal.com     1.600387e+18     368.33  "
      ]
     },
     "execution_count": 196,
     "metadata": {},
     "output_type": "execute_result"
    }
   ],
   "source": [
    "preprocessed_data.head(3)"
   ]
  },
  {
   "cell_type": "code",
   "execution_count": 197,
   "id": "2159d71a-d863-4a6d-8075-def7965cc99b",
   "metadata": {},
   "outputs": [
    {
     "data": {
      "text/plain": [
       "AnonymizedFaker(provider_name='internet', function_name='email', enforce_uniqueness=True)"
      ]
     },
     "execution_count": 197,
     "metadata": {},
     "output_type": "execute_result"
    }
   ],
   "source": [
    "# anonymization - full protection\n",
    "\n",
    "transformers[\"guest_email\"] # Faker library"
   ]
  },
  {
   "cell_type": "code",
   "execution_count": 199,
   "id": "9aa941ea-7af0-4618-9de7-23c360324fbc",
   "metadata": {},
   "outputs": [
    {
     "name": "stderr",
     "output_type": "stream",
     "text": [
      "/opt/homebrew/Caskroom/miniforge/base/lib/python3.9/site-packages/sdv/single_table/base.py:306: UserWarning:\n",
      "\n",
      "For this change to take effect, please refit the synthesizer using `fit`.\n",
      "\n"
     ]
    }
   ],
   "source": [
    "from rdt.transformers import AnonymizedFaker\n",
    "\n",
    "guest_email_transformer = AnonymizedFaker(\n",
    "    provider_name=\"misc\",\n",
    "    function_name=\"uuid4\", # opt for uuid4 instead\n",
    "    enforce_uniqueness=True\n",
    ")\n",
    "\n",
    "synthesizer.update_transformers({\n",
    "    \"guest_email\": guest_email_transformer\n",
    "})"
   ]
  },
  {
   "cell_type": "code",
   "execution_count": 200,
   "id": "3ac9183b-b8f0-45b2-b069-8c37a59688fa",
   "metadata": {},
   "outputs": [
    {
     "data": {
      "text/html": [
       "<div>\n",
       "<style scoped>\n",
       "    .dataframe tbody tr th:only-of-type {\n",
       "        vertical-align: middle;\n",
       "    }\n",
       "\n",
       "    .dataframe tbody tr th {\n",
       "        vertical-align: top;\n",
       "    }\n",
       "\n",
       "    .dataframe thead th {\n",
       "        text-align: right;\n",
       "    }\n",
       "</style>\n",
       "<table border=\"1\" class=\"dataframe\">\n",
       "  <thead>\n",
       "    <tr style=\"text-align: right;\">\n",
       "      <th></th>\n",
       "      <th>guest_email</th>\n",
       "      <th>has_rewards</th>\n",
       "      <th>room_type</th>\n",
       "      <th>amenities_fee</th>\n",
       "      <th>checkin_date</th>\n",
       "      <th>checkout_date</th>\n",
       "      <th>room_rate</th>\n",
       "      <th>billing_address</th>\n",
       "      <th>credit_card_number</th>\n",
       "    </tr>\n",
       "  </thead>\n",
       "  <tbody>\n",
       "    <tr>\n",
       "      <th>0</th>\n",
       "      <td>679516c1-6e91-4012-a3b2-f2b7b77026fb</td>\n",
       "      <td>False</td>\n",
       "      <td>DELUXE</td>\n",
       "      <td>0.38</td>\n",
       "      <td>12 Mar 2020</td>\n",
       "      <td>28 Mar 2020</td>\n",
       "      <td>115.95</td>\n",
       "      <td>90469 Karla Knolls Apt. 781\\nSusanberg, NC 28401</td>\n",
       "      <td>5161033759518983</td>\n",
       "    </tr>\n",
       "    <tr>\n",
       "      <th>1</th>\n",
       "      <td>a719bba3-9f26-4e19-8efa-553cb7c76178</td>\n",
       "      <td>False</td>\n",
       "      <td>DELUXE</td>\n",
       "      <td>NaN</td>\n",
       "      <td>25 Jun 2020</td>\n",
       "      <td>08 Sep 2020</td>\n",
       "      <td>176.10</td>\n",
       "      <td>1080 Ashley Creek Apt. 622\\nWest Amy, NM 25058</td>\n",
       "      <td>4133047413145475690</td>\n",
       "    </tr>\n",
       "    <tr>\n",
       "      <th>2</th>\n",
       "      <td>501e0f10-b410-4443-b70f-9d2745f5b8d9</td>\n",
       "      <td>False</td>\n",
       "      <td>DELUXE</td>\n",
       "      <td>7.89</td>\n",
       "      <td>02 Apr 2020</td>\n",
       "      <td>22 Mar 2020</td>\n",
       "      <td>128.63</td>\n",
       "      <td>99923 Anderson Trace Suite 861\\nNorth Haley, T...</td>\n",
       "      <td>4977328103788</td>\n",
       "    </tr>\n",
       "  </tbody>\n",
       "</table>\n",
       "</div>"
      ],
      "text/plain": [
       "                            guest_email  has_rewards room_type  amenities_fee  \\\n",
       "0  679516c1-6e91-4012-a3b2-f2b7b77026fb        False    DELUXE           0.38   \n",
       "1  a719bba3-9f26-4e19-8efa-553cb7c76178        False    DELUXE            NaN   \n",
       "2  501e0f10-b410-4443-b70f-9d2745f5b8d9        False    DELUXE           7.89   \n",
       "\n",
       "  checkin_date checkout_date  room_rate  \\\n",
       "0  12 Mar 2020   28 Mar 2020     115.95   \n",
       "1  25 Jun 2020   08 Sep 2020     176.10   \n",
       "2  02 Apr 2020   22 Mar 2020     128.63   \n",
       "\n",
       "                                     billing_address   credit_card_number  \n",
       "0   90469 Karla Knolls Apt. 781\\nSusanberg, NC 28401     5161033759518983  \n",
       "1     1080 Ashley Creek Apt. 622\\nWest Amy, NM 25058  4133047413145475690  \n",
       "2  99923 Anderson Trace Suite 861\\nNorth Haley, T...        4977328103788  "
      ]
     },
     "execution_count": 200,
     "metadata": {},
     "output_type": "execute_result"
    }
   ],
   "source": [
    "synthesizer.fit(real_data)\n",
    "synthesizer.sample(3)"
   ]
  },
  {
   "cell_type": "code",
   "execution_count": 201,
   "id": "294a23b3-1b99-4e57-ba42-c5e2761827b0",
   "metadata": {},
   "outputs": [
    {
     "data": {
      "text/plain": [
       "billing_address\n",
       "77 Massachusetts Ave\\nCambridge, MA 02139              53\n",
       "5678 Office Road\\nSan Francisco, CA 94103              52\n",
       "1234 Corporate Drive\\nBoston, MA 02116                 45\n",
       "9525 Adkins Valleys Apt. 059\\nMichaelfort, UT 59519     6\n",
       "74489 Simmons Trail\\nValdezstad, GA 17568               4\n",
       "Name: count, dtype: int64"
      ]
     },
     "execution_count": 201,
     "metadata": {},
     "output_type": "execute_result"
    }
   ],
   "source": [
    "# pseudo-anonymization:\n",
    "# - able to map between real and synthetic values\n",
    "# - preserve frequencies\n",
    "\n",
    "real_data[\"billing_address\"].value_counts()[:5]"
   ]
  },
  {
   "cell_type": "code",
   "execution_count": 202,
   "id": "ad99e9f8-8781-40fe-b6b0-470e3f2acbeb",
   "metadata": {},
   "outputs": [
    {
     "data": {
      "text/plain": [
       "billing_address\n",
       "9301 John Parkways\\nThomasland, OH 61350                 1\n",
       "585 Diane Walks\\nElizabethfort, UT 72907                 1\n",
       "25706 Cynthia Squares\\nSouth Jasonmouth, VA 05111        1\n",
       "27578 Richard Mission Apt. 692\\nPort Thomas, DE 34153    1\n",
       "04609 Davis Road\\nSouth Kathleen, MS 51339               1\n",
       "Name: count, dtype: int64"
      ]
     },
     "execution_count": 202,
     "metadata": {},
     "output_type": "execute_result"
    }
   ],
   "source": [
    "# anonymization dont preserve the frequencies\n",
    "\n",
    "synthetic_data = synthesizer.sample(500)\n",
    "synthetic_data['billing_address'].value_counts()[:5]"
   ]
  },
  {
   "cell_type": "code",
   "execution_count": 203,
   "id": "696c9011-07ec-488b-a877-67172a44609f",
   "metadata": {},
   "outputs": [
    {
     "name": "stderr",
     "output_type": "stream",
     "text": [
      "/opt/homebrew/Caskroom/miniforge/base/lib/python3.9/site-packages/sdv/single_table/base.py:306: UserWarning:\n",
      "\n",
      "For this change to take effect, please refit the synthesizer using `fit`.\n",
      "\n"
     ]
    }
   ],
   "source": [
    "# pseudo anonymization\n",
    "\n",
    "from rdt.transformers import PseudoAnonymizedFaker\n",
    "\n",
    "billing_address_transformer = PseudoAnonymizedFaker(\n",
    "    provider_name=\"address\",\n",
    "    function_name=\"address\"\n",
    ")\n",
    "\n",
    "synthesizer.update_transformers({\n",
    "    \"billing_address\": billing_address_transformer\n",
    "})"
   ]
  },
  {
   "cell_type": "code",
   "execution_count": 205,
   "id": "cf459c48-f0ae-42de-be75-cdc66720d427",
   "metadata": {},
   "outputs": [],
   "source": [
    "synthesizer.fit(real_data)\n",
    "pesudo_synthetic_data = synthesizer.sample(num_rows=500)"
   ]
  },
  {
   "cell_type": "code",
   "execution_count": 206,
   "id": "63790fe4-371e-4136-91e4-5849aa7fca7c",
   "metadata": {},
   "outputs": [
    {
     "data": {
      "text/plain": [
       "billing_address\n",
       "9282 Stewart Burg Suite 191\\nWest Angela, DE 88118    18\n",
       "098 Rebecca Streets\\nPort Larry, SD 94630             13\n",
       "2798 Ortiz Wall\\nLoriside, MI 65719                   12\n",
       "1080 Ashley Creek Apt. 622\\nWest Amy, NM 25058        11\n",
       "400 Christine Drives\\nEast Robertstad, NC 11419       10\n",
       "Name: count, dtype: int64"
      ]
     },
     "execution_count": 206,
     "metadata": {},
     "output_type": "execute_result"
    }
   ],
   "source": [
    "pesudo_synthetic_data[\"billing_address\"].value_counts()[:5]"
   ]
  },
  {
   "cell_type": "code",
   "execution_count": 207,
   "id": "2a58de95-baa5-4d27-a4fa-c0d15840079b",
   "metadata": {},
   "outputs": [],
   "source": [
    "mapping = billing_address_transformer.get_mapping()"
   ]
  },
  {
   "cell_type": "code",
   "execution_count": 208,
   "id": "a5dd0cf1-902c-4c3b-addb-d693518bff99",
   "metadata": {},
   "outputs": [
    {
     "data": {
      "text/plain": [
       "'400 Christine Drives\\nEast Robertstad, NC 11419'"
      ]
     },
     "execution_count": 208,
     "metadata": {},
     "output_type": "execute_result"
    }
   ],
   "source": [
    "real_address = '77 Massachusetts Ave\\nCambridge, MA 02139'\n",
    "mapping[real_address]"
   ]
  },
  {
   "cell_type": "code",
   "execution_count": 210,
   "id": "98dd5ca8-fc10-4c4e-8e19-b39a31fed900",
   "metadata": {},
   "outputs": [
    {
     "name": "stderr",
     "output_type": "stream",
     "text": [
      "/opt/homebrew/Caskroom/miniforge/base/lib/python3.9/site-packages/rdt/transformers/pii/anonymizer.py:88: UserWarning:\n",
      "\n",
      "Locales ['fr_CA'] do not support provider 'internet' and function 'email'.\n",
      "In place of these locales, 'en_US' will be used instead. Please refer to the localized provider docs for more information: https://faker.readthedocs.io/en/master/locales.html\n",
      "\n",
      "/opt/homebrew/Caskroom/miniforge/base/lib/python3.9/site-packages/rdt/transformers/pii/anonymizer.py:88: UserWarning:\n",
      "\n",
      "Locales ['fr_FR', 'fr_CA'] do not support provider 'credit_card' and function 'credit_card_number'.\n",
      "In place of these locales, 'en_US' will be used instead. Please refer to the localized provider docs for more information: https://faker.readthedocs.io/en/master/locales.html\n",
      "\n",
      "/opt/homebrew/Caskroom/miniforge/base/lib/python3.9/site-packages/rdt/transformers/pii/anonymizer.py:88: UserWarning:\n",
      "\n",
      "Locales ['fr_CA'] do not support provider 'address' and function 'address'.\n",
      "In place of these locales, 'en_US' will be used instead. Please refer to the localized provider docs for more information: https://faker.readthedocs.io/en/master/locales.html\n",
      "\n"
     ]
    }
   ],
   "source": [
    "# change PII locales -> english by default\n",
    "\n",
    "from sdv.single_table import GaussianCopulaSynthesizer\n",
    "\n",
    "synthesizer = GaussianCopulaSynthesizer(\n",
    "    metadata,\n",
    "    locales=[\"fr_FR\", \"fr_CA\"]\n",
    ")\n",
    "\n",
    "synthesizer.fit(real_data)"
   ]
  },
  {
   "cell_type": "code",
   "execution_count": 211,
   "id": "db20a8d3-d499-463d-ac28-421f979dd1d6",
   "metadata": {},
   "outputs": [
    {
     "data": {
      "text/html": [
       "<div>\n",
       "<style scoped>\n",
       "    .dataframe tbody tr th:only-of-type {\n",
       "        vertical-align: middle;\n",
       "    }\n",
       "\n",
       "    .dataframe tbody tr th {\n",
       "        vertical-align: top;\n",
       "    }\n",
       "\n",
       "    .dataframe thead th {\n",
       "        text-align: right;\n",
       "    }\n",
       "</style>\n",
       "<table border=\"1\" class=\"dataframe\">\n",
       "  <thead>\n",
       "    <tr style=\"text-align: right;\">\n",
       "      <th></th>\n",
       "      <th>guest_email</th>\n",
       "      <th>billing_address</th>\n",
       "    </tr>\n",
       "  </thead>\n",
       "  <tbody>\n",
       "    <tr>\n",
       "      <th>0</th>\n",
       "      <td>tpicard@example.org</td>\n",
       "      <td>rue Jeanne Jacquot\\n46915 Marin</td>\n",
       "    </tr>\n",
       "    <tr>\n",
       "      <th>1</th>\n",
       "      <td>elisabeth59@example.org</td>\n",
       "      <td>91, chemin Pinto\\n10809 Saint Frédéric</td>\n",
       "    </tr>\n",
       "    <tr>\n",
       "      <th>2</th>\n",
       "      <td>david15@example.net</td>\n",
       "      <td>90469 Aurore Falls Suite 815\\nNorth Jeannine, ...</td>\n",
       "    </tr>\n",
       "  </tbody>\n",
       "</table>\n",
       "</div>"
      ],
      "text/plain": [
       "               guest_email                                    billing_address\n",
       "0      tpicard@example.org                    rue Jeanne Jacquot\\n46915 Marin\n",
       "1  elisabeth59@example.org             91, chemin Pinto\\n10809 Saint Frédéric\n",
       "2      david15@example.net  90469 Aurore Falls Suite 815\\nNorth Jeannine, ..."
      ]
     },
     "execution_count": 211,
     "metadata": {},
     "output_type": "execute_result"
    }
   ],
   "source": [
    "synthesizer.sample(num_rows=3)[['guest_email', 'billing_address']]"
   ]
  },
  {
   "cell_type": "code",
   "execution_count": null,
   "id": "af85991f-51f4-4720-a4f2-f691e316f1fb",
   "metadata": {},
   "outputs": [],
   "source": []
  }
 ],
 "metadata": {
  "kernelspec": {
   "display_name": "Python 3 (ipykernel)",
   "language": "python",
   "name": "python3"
  },
  "language_info": {
   "codemirror_mode": {
    "name": "ipython",
    "version": 3
   },
   "file_extension": ".py",
   "mimetype": "text/x-python",
   "name": "python",
   "nbconvert_exporter": "python",
   "pygments_lexer": "ipython3",
   "version": "3.9.10"
  }
 },
 "nbformat": 4,
 "nbformat_minor": 5
}
